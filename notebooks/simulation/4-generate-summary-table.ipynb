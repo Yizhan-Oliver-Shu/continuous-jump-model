{
 "cells": [
  {
   "cell_type": "code",
   "execution_count": 1,
   "id": "1fdf61f4-4ba2-4581-92e3-45bd15beb786",
   "metadata": {
    "tags": []
   },
   "outputs": [],
   "source": [
    "%load_ext autoreload\n",
    "%autoreload 2\n",
    "import sys, os\n",
    "from os.path import expanduser\n",
    "## actions required!!!!!!!!!!!!!!!!!!!! change your folder path \n",
    "path_repo = expanduser(\"~/Documents/G3_2/regime-identification\"); sys.path.append(path_repo)\n",
    "path_file = expanduser(\"~/data/G3_2/regime-identification/simulation\")\n",
    "path = {}\n",
    "for folder in [\"summary\", \"best-idx\", \"latex\", \"summary-cluster\", \"best-idx-cluster\", \"latex-cluster\"]:\n",
    "    path[folder] = f\"{path_file}/{folder}\""
   ]
  },
  {
   "cell_type": "code",
   "execution_count": 2,
   "id": "dea5cc5a-42b3-407f-ae2b-c58d989413e2",
   "metadata": {
    "tags": []
   },
   "outputs": [],
   "source": [
    "import pandas as pd\n",
    "import numpy as np"
   ]
  },
  {
   "cell_type": "code",
   "execution_count": 3,
   "id": "393b0af9-4215-4eff-9f3a-d08c109a15f8",
   "metadata": {
    "tags": []
   },
   "outputs": [],
   "source": [
    "from regime.simulation_helper import *"
   ]
  },
  {
   "cell_type": "code",
   "execution_count": 4,
   "id": "300147ca-992b-489b-a1aa-765cc5b0741a",
   "metadata": {
    "tags": []
   },
   "outputs": [],
   "source": [
    "len_list = [[250, 500, 1000, 2000], [50, 100, 250, 500, 1000], [60, 120, 250, 500]]"
   ]
  },
  {
   "cell_type": "markdown",
   "id": "9db9866e-ebe8-422f-9471-0152b34b52ed",
   "metadata": {
    "tags": []
   },
   "source": [
    "# summary table & latex output"
   ]
  },
  {
   "cell_type": "code",
   "execution_count": 5,
   "id": "a1196de1-f12d-429b-826a-c80af75cb7cb",
   "metadata": {
    "tags": []
   },
   "outputs": [],
   "source": [
    "feat_dict = {'true': \"HMM\",\n",
    "             'HMM-paper': \"HMM\",\n",
    "             # 'HMM10init-paper': \"HMM\",\n",
    "             # 'HMM1init': \"HMM\", \n",
    "             # 'HMM1initCovPrior': \"HMM\", \n",
    "             'discrete': \"zhengB\", \n",
    "             'cont': \"zhengB\",\n",
    "             'cont-mode': \"zhengB\"}\n",
    "name_dict = {'true': \"true\",\n",
    "             \"HMM-paper\": \"HMM\",\n",
    "             # 'HMM10init-paper': \"$\\\\text{HMM}_{10}$\", \n",
    "             # 'HMM1init': \"HMM\", \n",
    "             # 'HMM1initCovPrior': \"HMM-prior\", \n",
    "             'discrete': \"discrete\", \n",
    "             'cont': \"cont\",\n",
    "             'cont-mode': \"$\\\\text{cont}_{\\\\text{M}}$\"}"
   ]
  },
  {
   "cell_type": "code",
   "execution_count": 6,
   "id": "9cc9ea8a-3ec0-4a85-bd4b-fc1e12b33d4d",
   "metadata": {
    "tags": []
   },
   "outputs": [
    {
     "data": {
      "text/plain": [
       "'\\\\begin{table}[htbp]\\n\\n\\\\begin{adjustwidth}{-10cm}{-10cm} \\n\\\\centering \\n{\\\\fontsize{6}{8}\\\\selectfont\\n\\\\begin{tabular}{l @{\\\\hspace{.2cm}} l @{\\\\hspace{.2cm}} l @{\\\\hspace{.2cm}} l @{\\\\hspace{.2cm}} l @{\\\\hspace{.2cm}} l @{\\\\hspace{.2cm}} l @{\\\\hspace{.2cm}} l @{\\\\hspace{.2cm}} l @{\\\\hspace{.2cm}} l}\\n\\\\toprule\\n & $\\\\mu_1$ & $\\\\mu_2$ & $\\\\mu_3$ & $\\\\sigma_1$ & $\\\\sigma_2$ & $\\\\sigma_3$ & $\\\\gamma_{12}$ & $\\\\gamma_{13}$ & $\\\\gamma_{21}$ \\\\\\\\\\n\\\\midrule\\n500 &  &  &  &  &  &  &  &  &  \\\\\\\\\\ntrue & 0.0006(0.0000) & 0.0000(0.0000) & -0.0008(0.0000) & 0.0078(0.0000) & 0.0112(0.0000) & 0.0174(0.0000) & 0.0009(0.0000) & 0.0010(0.0000) & 0.0032(0.0000) \\\\\\\\\\nHMM & 0.0009(0.0061) & 0.0012(0.0086) & -0.0017(0.0073) & \\\\textbf{0.0078}(0.0023) & 0.0082(0.0039) & 0.0100(0.0054) & 0.2601(0.3376) & 0.2120(0.3009) & 0.3909(0.3968) \\\\\\\\\\ndiscrete & 0.0005(0.0015) & -0.0000(0.0029) & -0.0007(0.0031) & 0.0085(0.0027) & \\\\textbf{0.0115}(0.0033) & 0.0145(0.0042) & 0.0023(0.0093) & 0.0020(0.0069) & \\\\textbf{0.0076}(0.0161) \\\\\\\\\\ncont & 0.0005(0.0011) & \\\\textbf{0.0000}(0.0023) & \\\\textbf{-0.0008}(0.0024) & 0.0084(0.0021) & 0.0116(0.0029) & 0.0147(0.0039) & 0.0017(0.0071) & 0.0016(0.0073) & 0.0093(0.0487) \\\\\\\\\\n$\\\\text{cont}_{\\\\text{M}}$ & \\\\textbf{0.0006}(0.0012) & -0.0000(0.0023) & -0.0007(0.0024) & 0.0084(0.0021) & 0.0117(0.0030) & \\\\textbf{0.0148}(0.0038) & \\\\textbf{0.0015}(0.0052) & \\\\textbf{0.0015}(0.0058) & 0.0084(0.0458) \\\\\\\\\\n1000 &  &  &  &  &  &  &  &  &  \\\\\\\\\\ntrue & 0.0006(0.0000) & 0.0000(0.0000) & -0.0008(0.0000) & 0.0078(0.0000) & 0.0112(0.0000) & 0.0174(0.0000) & 0.0009(0.0000) & 0.0010(0.0000) & 0.0032(0.0000) \\\\\\\\\\nHMM & 0.0007(0.0033) & 0.0008(0.0073) & -0.0010(0.0062) & 0.0084(0.0027) & 0.0093(0.0038) & 0.0117(0.0053) & 0.2127(0.3264) & 0.1505(0.2788) & 0.3367(0.4006) \\\\\\\\\\ndiscrete & \\\\textbf{0.0006}(0.0014) & -0.0000(0.0034) & \\\\textbf{-0.0007}(0.0029) & 0.0084(0.0022) & 0.0122(0.0033) & \\\\textbf{0.0155}(0.0038) & 0.0015(0.0052) & 0.0017(0.0054) & 0.0065(0.0132) \\\\\\\\\\ncont & 0.0006(0.0009) & 0.0000(0.0024) & -0.0006(0.0023) & \\\\textbf{0.0083}(0.0019) & 0.0121(0.0030) & 0.0153(0.0035) & \\\\textbf{0.0011}(0.0034) & \\\\textbf{0.0011}(0.0026) & 0.0054(0.0151) \\\\\\\\\\n$\\\\text{cont}_{\\\\text{M}}$ & 0.0006(0.0008) & \\\\textbf{0.0000}(0.0024) & -0.0006(0.0023) & 0.0084(0.0019) & \\\\textbf{0.0121}(0.0030) & 0.0155(0.0033) & 0.0012(0.0034) & 0.0012(0.0034) & \\\\textbf{0.0052}(0.0139) \\\\\\\\\\n2000 &  &  &  &  &  &  &  &  &  \\\\\\\\\\ntrue & 0.0006(0.0000) & 0.0000(0.0000) & -0.0008(0.0000) & 0.0078(0.0000) & 0.0112(0.0000) & 0.0174(0.0000) & 0.0009(0.0000) & 0.0010(0.0000) & 0.0032(0.0000) \\\\\\\\\\nHMM & 0.0005(0.0022) & 0.0008(0.0072) & -0.0003(0.0051) & 0.0083(0.0018) & \\\\textbf{0.0105}(0.0041) & 0.0125(0.0048) & 0.1329(0.2858) & 0.1120(0.2575) & 0.2290(0.3704) \\\\\\\\\\ndiscrete & \\\\textbf{0.0006}(0.0007) & -0.0001(0.0034) & -0.0009(0.0027) & 0.0082(0.0013) & 0.0128(0.0031) & \\\\textbf{0.0165}(0.0026) & \\\\textbf{0.0009}(0.0023) & \\\\textbf{0.0011}(0.0020) & 0.0056(0.0099) \\\\\\\\\\ncont & 0.0006(0.0005) & -0.0002(0.0021) & -0.0007(0.0021) & \\\\textbf{0.0081}(0.0010) & 0.0124(0.0026) & 0.0163(0.0025) & 0.0008(0.0019) & 0.0008(0.0015) & 0.0055(0.0158) \\\\\\\\\\n$\\\\text{cont}_{\\\\text{M}}$ & 0.0006(0.0006) & \\\\textbf{-0.0001}(0.0022) & \\\\textbf{-0.0008}(0.0021) & 0.0081(0.0011) & 0.0124(0.0026) & 0.0163(0.0025) & 0.0009(0.0020) & 0.0009(0.0016) & \\\\textbf{0.0048}(0.0088) \\\\\\\\\\n\\\\bottomrule\\n & $\\\\gamma_{23}$ & $\\\\gamma_{31}$ & $\\\\gamma_{32}$ & Accuracy 1 & Accuracy 2 & Accuracy 3 & BAC & ROC-AUC &  \\\\\\\\\\n\\\\midrule\\n500 &  &  &  &  &  &  &  &  &  \\\\\\\\\\ntrue & 0.0037(0.0000) & 0.0058(0.0000) & 0.0062(0.0000) & 0.9557(0.1685) & 0.7223(0.3969) & 0.7654(0.3480) & 0.8145(0.1590) & 0.9667(0.0662) &  \\\\\\\\\\nHMM & 0.2695(0.3320) & 0.3199(0.3735) & 0.2922(0.3513) & 0.6284(0.3051) & 0.4472(0.3521) & 0.5452(0.3660) & 0.5403(0.1077) & 0.6626(0.1611) &  \\\\\\\\\\ndiscrete & 0.0059(0.0150) & 0.0091(0.0168) & 0.0091(0.0171) & 0.8446(0.2650) & 0.6677(0.3842) & 0.6558(0.3201) & 0.7227(0.1463) & 0.7560(0.1189) &  \\\\\\\\\\ncont & \\\\textbf{0.0059}(0.0327) & \\\\textbf{0.0071}(0.0130) & 0.0084(0.0297) & \\\\textbf{0.8671}(0.2477) & 0.7046(0.3786) & 0.6480(0.3651) & 0.7399(0.1467) & \\\\textbf{0.7968}(0.1274) &  \\\\\\\\\\n$\\\\text{cont}_{\\\\text{M}}$ & 0.0060(0.0440) & 0.0075(0.0171) & \\\\textbf{0.0072}(0.0182) & 0.8645(0.2560) & \\\\textbf{0.7072}(0.3722) & \\\\textbf{0.6564}(0.3577) & \\\\textbf{0.7427}(0.1497) & 0.7909(0.1298) &  \\\\\\\\\\n1000 &  &  &  &  &  &  &  &  &  \\\\\\\\\\ntrue & 0.0037(0.0000) & 0.0058(0.0000) & 0.0062(0.0000) & 0.9703(0.1017) & 0.7465(0.3560) & 0.8129(0.2843) & 0.8432(0.1325) & 0.9828(0.0328) &  \\\\\\\\\\nHMM & 0.2671(0.3474) & 0.2474(0.3617) & 0.2516(0.3265) & 0.7114(0.3099) & 0.4029(0.3858) & 0.5460(0.4026) & 0.5534(0.1224) & 0.6812(0.1968) &  \\\\\\\\\\ndiscrete & 0.0078(0.0179) & 0.0090(0.0136) & 0.0081(0.0138) & 0.8866(0.2370) & 0.6296(0.3796) & 0.6941(0.2814) & 0.7368(0.1495) & 0.7932(0.1180) &  \\\\\\\\\\ncont & \\\\textbf{0.0063}(0.0362) & \\\\textbf{0.0069}(0.0116) & 0.0073(0.0172) & \\\\textbf{0.8909}(0.2215) & 0.6553(0.3721) & 0.7101(0.2920) & 0.7521(0.1452) & \\\\textbf{0.8303}(0.1195) &  \\\\\\\\\\n$\\\\text{cont}_{\\\\text{M}}$ & 0.0064(0.0243) & 0.0072(0.0115) & \\\\textbf{0.0070}(0.0145) & 0.8878(0.2294) & \\\\textbf{0.6576}(0.3748) & \\\\textbf{0.7123}(0.2923) & \\\\textbf{0.7526}(0.1455) & 0.8291(0.1205) &  \\\\\\\\\\n2000 &  &  &  &  &  &  &  &  &  \\\\\\\\\\ntrue & 0.0037(0.0000) & 0.0058(0.0000) & 0.0062(0.0000) & 0.9841(0.0439) & 0.8013(0.2734) & 0.8568(0.2133) & 0.8807(0.1066) & 0.9867(0.0284) &  \\\\\\\\\\nHMM & 0.2954(0.3698) & 0.2051(0.3571) & 0.2474(0.3331) & 0.8185(0.2668) & 0.3810(0.4022) & 0.5275(0.4033) & 0.5756(0.1413) & 0.7150(0.2064) &  \\\\\\\\\\ndiscrete & 0.0072(0.0141) & 0.0079(0.0103) & 0.0070(0.0096) & \\\\textbf{0.9487}(0.1520) & 0.6156(0.3863) & 0.7107(0.2520) & 0.7584(0.1549) & 0.8173(0.1177) &  \\\\\\\\\\ncont & \\\\textbf{0.0042}(0.0101) & \\\\textbf{0.0064}(0.0082) & 0.0053(0.0084) & 0.9484(0.1295) & \\\\textbf{0.6676}(0.3558) & 0.7270(0.2534) & \\\\textbf{0.7810}(0.1458) & \\\\textbf{0.8614}(0.1131) &  \\\\\\\\\\n$\\\\text{cont}_{\\\\text{M}}$ & 0.0050(0.0333) & 0.0064(0.0077) & \\\\textbf{0.0060}(0.0181) & 0.9480(0.1376) & 0.6638(0.3608) & \\\\textbf{0.7283}(0.2464) & 0.7800(0.1448) & 0.8603(0.1120) &  \\\\\\\\\\n\\\\bottomrule\\n\\\\end{tabular} \\n}\\\\end{adjustwidth}\\n\\\\caption{3-state-daily}\\n\\\\label{3-state-daily}\\n\\\\end{table}\\n'"
      ]
     },
     "execution_count": 6,
     "metadata": {},
     "output_type": "execute_result"
    }
   ],
   "source": [
    "save_results_in_latex(path, \"3-state-daily\", [500, 1000, 2000], feat_dict, name_dict, \"paper\", True)"
   ]
  },
  {
   "cell_type": "code",
   "execution_count": 73,
   "id": "06d85e69-176e-4613-88db-aea8578bfe42",
   "metadata": {
    "tags": []
   },
   "outputs": [],
   "source": [
    "n_s_dict = dict(zip(generate_key_data(\"t\", dof=5), len_list))"
   ]
  },
  {
   "cell_type": "code",
   "execution_count": 74,
   "id": "d19906eb-b155-4d65-a3e4-99b52fcc9801",
   "metadata": {
    "tags": []
   },
   "outputs": [],
   "source": [
    "for key_data, n_s_list in n_s_dict.items():\n",
    "    _ = save_results_in_latex(path, key_data, n_s_list, feat_dict, name_dict, \"all\", True)"
   ]
  },
  {
   "cell_type": "code",
   "execution_count": null,
   "id": "b3987edc-1092-488c-8286-ae80c0bb00f0",
   "metadata": {},
   "outputs": [],
   "source": []
  },
  {
   "cell_type": "code",
   "execution_count": null,
   "id": "351339fb-8e8d-40e4-b6db-d049d9ceb343",
   "metadata": {},
   "outputs": [],
   "source": []
  },
  {
   "cell_type": "code",
   "execution_count": null,
   "id": "7de6e71e-532f-4aa9-973d-1b0ceab6a3e8",
   "metadata": {},
   "outputs": [],
   "source": []
  },
  {
   "cell_type": "code",
   "execution_count": null,
   "id": "9d361bde-cffb-453e-9cb6-f1320ea4e72f",
   "metadata": {},
   "outputs": [],
   "source": []
  },
  {
   "cell_type": "code",
   "execution_count": null,
   "id": "d1c8c7fe-eafd-4050-acf6-37caf505ea49",
   "metadata": {},
   "outputs": [],
   "source": []
  },
  {
   "cell_type": "code",
   "execution_count": null,
   "id": "db909bef-cfc7-4023-bdd1-c77bb30acfb4",
   "metadata": {},
   "outputs": [],
   "source": []
  },
  {
   "cell_type": "code",
   "execution_count": null,
   "id": "3b14d8d2-a631-42af-8802-b90e5df64d1e",
   "metadata": {},
   "outputs": [],
   "source": []
  },
  {
   "cell_type": "code",
   "execution_count": null,
   "id": "f175ec79-8d27-4174-a1cc-67e6532dd735",
   "metadata": {},
   "outputs": [],
   "source": []
  },
  {
   "cell_type": "code",
   "execution_count": null,
   "id": "6cee30b6-eadf-468c-8792-7f181bf06626",
   "metadata": {},
   "outputs": [],
   "source": []
  },
  {
   "cell_type": "code",
   "execution_count": null,
   "id": "0693ca26-564f-4190-8f5b-05226ad70a0e",
   "metadata": {},
   "outputs": [],
   "source": []
  },
  {
   "cell_type": "code",
   "execution_count": 7,
   "id": "6763a613-c0c7-427c-8095-550eecfdfdbb",
   "metadata": {
    "tags": []
   },
   "outputs": [],
   "source": [
    "def save_results_in_latex(path, key_data, n_s_list, feat_dict, name_dict, latex_file_name, cluster=False):\n",
    "    \"\"\"\n",
    "    only do it for one key_data.\n",
    "    \"\"\"\n",
    "    latex_str = add_cluster(\"latex\", cluster)\n",
    "    df = generate_numerical_results_table(path, key_data, n_s_list, feat_dict, name_dict, cluster)\n",
    "    string = print_table_to_latex(df, \".2cm\", key_data)\n",
    "    filename = generate_file_name(path, latex_str, key_data, latex_file_name, suffix=\"latex\"); check_dir_exist(filename)\n",
    "    with open(filename, \"w\") as f:\n",
    "        f.write(string)\n",
    "    return string"
   ]
  },
  {
   "cell_type": "code",
   "execution_count": 7,
   "id": "1cd45991-bd43-4778-9b76-906473cda4a0",
   "metadata": {
    "tags": []
   },
   "outputs": [],
   "source": [
    "key_data = \"3-state-daily\"\n",
    "n_s=250 \n",
    "cluster=True"
   ]
  },
  {
   "cell_type": "code",
   "execution_count": null,
   "id": "424350cd-f248-491c-a5b1-c92b126ba256",
   "metadata": {},
   "outputs": [],
   "source": [
    "def generate_numerical_results_table(path, key_data, n_s, feat_dict, name_dict, cluster=False):\n",
    "    \"\"\"\n",
    "    n_s can be a list.\n",
    "    \"\"\"\n",
    "    if isinstance(n_s, list):\n",
    "        # return {n_s_: generate_numerical_results_table(path, key_data, n_s_, feat_dict, name_dict, cluster) for n_s_ in n_s}\n",
    "        return pd.concat([generate_numerical_results_table(path, key_data, n_s_, feat_dict, name_dict, cluster) for n_s_ in n_s])\n",
    "    # load best_idx\n",
    "    best_idx_str, summary_str = add_cluster(\"best-idx\", cluster), add_cluster(\"summary\", cluster)\n",
    "    idx_df = load_file(path, best_idx_str, key_data, \"best_idx\", suffix=\"csv\", index_col=0)\n",
    "    for model_name in name_dict:\n",
    "        if \"true\" in model_name or \"HMM\" in model_name: idx_df[model_name] = 0\n",
    "    means_combined_df = {new_name: load_file(path, summary_str, key_data, \"means\", n_s, feat_dict[model], model, suffix=\"h5\").iloc[idx_df.loc[n_s, model]] \\\n",
    "                         for model, new_name in name_dict.items()}\n",
    "    stds_combined_df = {new_name: load_file(path, summary_str, key_data, \"stds\", n_s, feat_dict[model], model, suffix=\"h5\").iloc[idx_df.loc[n_s, model]] \\\n",
    "                         for model, new_name in name_dict.items()}\n",
    "    means_combined_df, stds_combined_df = pd.DataFrame(means_combined_df).T, pd.DataFrame(stds_combined_df).T\n",
    "    # accuracy of estimation\n",
    "    df_acc_for_rank = {col: (means_combined_df[col]-means_combined_df.loc[\"true\", col]).abs() if not col_is_acc(col) else -means_combined_df[col] for col in means_combined_df.columns}\n",
    "    df_acc_for_rank = pd.DataFrame(df_acc_for_rank).drop(\"true\")\n",
    "    best_model_ser = df_acc_for_rank.idxmin()\n",
    "    means_combined_df, stds_combined_df = means_combined_df.applymap(lambda x: f\"{x:.4f}\"), stds_combined_df.applymap(lambda x: f\"{x:.4f}\")\n",
    "    for col in best_model_ser.index:\n",
    "        means_combined_df.loc[best_model_ser[col], col] = \"\\\\textbf{\" + means_combined_df.loc[best_model_ser[col], col] + \"}\"\n",
    "    # combine\n",
    "    df_ret = combine_means_std_df(means_combined_df, stds_combined_df)\n",
    "    df_ret = pd.concat([pd.DataFrame(\"\", index=[n_s], columns=df_ret.columns), df_ret])\n",
    "    return df_ret\n",
    "#combine_summary_means_std_df(means_combined_df, stds_combined_df) #means_combined_df, stds_combined_df, df_acc_for_rank\n"
   ]
  },
  {
   "cell_type": "code",
   "execution_count": null,
   "id": "f95fb80c-7604-40fe-9ef9-43929a25b94d",
   "metadata": {},
   "outputs": [],
   "source": []
  },
  {
   "cell_type": "code",
   "execution_count": null,
   "id": "fc83752f-09b3-49a0-af2f-5e1830b4876f",
   "metadata": {},
   "outputs": [],
   "source": []
  },
  {
   "cell_type": "code",
   "execution_count": null,
   "id": "adfccfb9-e28c-4369-97d6-56c76559316d",
   "metadata": {},
   "outputs": [],
   "source": []
  },
  {
   "cell_type": "code",
   "execution_count": 60,
   "id": "5f75d15a-ee70-4ff1-a84a-a4faea7e2297",
   "metadata": {
    "tags": []
   },
   "outputs": [],
   "source": [
    "def output_column_format(df_ret, space):\n",
    "    n_col=df_ret.shape[1]\n",
    "    return (\"l @{\\hspace{\" + space + \"}} \") * n_col + \"l\""
   ]
  },
  {
   "cell_type": "code",
   "execution_count": 38,
   "id": "301fb0c5-b730-442f-845a-fc73fa8654fa",
   "metadata": {
    "tags": []
   },
   "outputs": [],
   "source": []
  },
  {
   "cell_type": "code",
   "execution_count": 39,
   "id": "85a85e52-780d-4aa7-958a-45ae054d0661",
   "metadata": {
    "tags": []
   },
   "outputs": [],
   "source": []
  },
  {
   "cell_type": "code",
   "execution_count": null,
   "id": "d4b4aef3-6fe9-40a6-885c-f8d95c9532cc",
   "metadata": {},
   "outputs": [],
   "source": []
  },
  {
   "cell_type": "code",
   "execution_count": null,
   "id": "39502504-608a-4fa8-b8a0-6a8abb2ea16b",
   "metadata": {},
   "outputs": [],
   "source": []
  },
  {
   "cell_type": "markdown",
   "id": "73c15cc8-3214-4444-930f-389a42139c17",
   "metadata": {},
   "source": [
    "# in paper"
   ]
  },
  {
   "cell_type": "code",
   "execution_count": 19,
   "id": "580d16b4-eae9-4b17-8bee-b8afa811fd74",
   "metadata": {
    "tags": []
   },
   "outputs": [],
   "source": [
    "feat_dict_s = {'true': \"HMM\",\n",
    "             'HMM10init': \"HMM\", \n",
    "             'discrete': \"zhengF\", \n",
    "             'cont': \"zhengF\",\n",
    "             'cont-mode': \"zhengF\"}\n",
    "name_dict_s = {'true': \"true\",\n",
    "             'HMM10init': \"$\\\\text{HMM}_{10}$\", \n",
    "             'discrete': \"discrete\", \n",
    "             'cont': \"cont.\",\n",
    "             'cont-mode': \"cont. mode\"}"
   ]
  },
  {
   "cell_type": "code",
   "execution_count": 20,
   "id": "b0acfe7d-23e1-48f4-b5cb-516503c5930e",
   "metadata": {
    "tags": []
   },
   "outputs": [],
   "source": [
    "_ = save_results_in_latex(path, \"2-state-daily\", [250, 500, 1000], feat_dict_s, name_dict_s, \"paper\")"
   ]
  },
  {
   "cell_type": "code",
   "execution_count": 21,
   "id": "d2bed6c1-c07b-47b2-85f0-904fed8a6375",
   "metadata": {
    "tags": []
   },
   "outputs": [],
   "source": [
    "_ = save_results_in_latex(path, \"2-state-weekly\", [100, 250, 500], feat_dict_s, name_dict_s, \"paper\")"
   ]
  },
  {
   "cell_type": "code",
   "execution_count": 22,
   "id": "4e869e06-ecd0-4926-b3c9-566550cf3b59",
   "metadata": {
    "tags": []
   },
   "outputs": [],
   "source": [
    "_ = save_results_in_latex(path, \"2-state-monthly\", [120, 250, 500], feat_dict_s, name_dict_s, \"paper\")"
   ]
  },
  {
   "cell_type": "code",
   "execution_count": 23,
   "id": "b70a161a-3ad4-4a14-83be-650da8d090b2",
   "metadata": {
    "tags": []
   },
   "outputs": [],
   "source": [
    "_ = save_results_in_latex(path, \"t-daily\", [250, 500, 1000, 2000], feat_dict_s, name_dict_s, \"paper\")"
   ]
  }
 ],
 "metadata": {
  "kernelspec": {
   "display_name": "Python 3 (ipykernel)",
   "language": "python",
   "name": "python3"
  },
  "language_info": {
   "codemirror_mode": {
    "name": "ipython",
    "version": 3
   },
   "file_extension": ".py",
   "mimetype": "text/x-python",
   "name": "python",
   "nbconvert_exporter": "python",
   "pygments_lexer": "ipython3",
   "version": "3.10.9"
  }
 },
 "nbformat": 4,
 "nbformat_minor": 5
}
