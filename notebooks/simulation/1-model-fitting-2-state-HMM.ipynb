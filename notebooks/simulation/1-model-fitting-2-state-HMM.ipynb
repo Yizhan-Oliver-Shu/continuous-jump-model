{
 "cells": [
  {
   "cell_type": "code",
   "execution_count": 1,
   "id": "fbe842e2-0687-4e9b-a81a-e7d0a47e361e",
   "metadata": {
    "tags": []
   },
   "outputs": [],
   "source": [
    "## timelimit: 00:16:00\n",
    "%load_ext autoreload\n",
    "%autoreload 2\n",
    "import sys, os\n",
    "from os.path import expanduser\n",
    "## actions required!!!!!!!!!!!!!!!!!!!! change your folder path \n",
    "path_repo = expanduser(\"~/Documents/G3_2/regime-identification\"); sys.path.append(path_repo)\n",
    "path_file = expanduser(\"~/data/G3_2/regime-identification/simulation\")\n",
    "path = {}\n",
    "for folder in [\"data\", \"estimation\"]:\n",
    "    path[folder] = f\"{path_file}/{folder}\"\n",
    "\n",
    "job_id = 0 #int(os.environ[\"SLURM_ARRAY_TASK_ID\"])"
   ]
  },
  {
   "cell_type": "code",
   "execution_count": 2,
   "id": "f45688e6-f7af-441e-a9cb-f00e49b23df2",
   "metadata": {
    "tags": []
   },
   "outputs": [],
   "source": [
    "from numpy.random import RandomState"
   ]
  },
  {
   "cell_type": "code",
   "execution_count": 3,
   "id": "02027bcb-20cb-4909-9a94-0752435057f6",
   "metadata": {
    "tags": []
   },
   "outputs": [],
   "source": [
    "from regime.jump import *\n",
    "from regime.simulation_helper import *"
   ]
  },
  {
   "cell_type": "markdown",
   "id": "89a05196-15be-43b3-a61b-84b9f733f856",
   "metadata": {
    "tags": []
   },
   "source": [
    "# 2-model-fitting\n",
    "\n",
    "In this notebook we fit the models on two data scenarios: 2-state Hardy parameter and t emission dist."
   ]
  },
  {
   "cell_type": "code",
   "execution_count": 4,
   "id": "473811b7-df26-4184-898c-9f954e30edd2",
   "metadata": {
    "tags": []
   },
   "outputs": [],
   "source": [
    "n_c = 2\n",
    "batch_size = 32"
   ]
  },
  {
   "cell_type": "markdown",
   "id": "491694f5-d2e2-470b-95b0-d3fc38f8ea27",
   "metadata": {},
   "source": [
    "# True"
   ]
  },
  {
   "cell_type": "code",
   "execution_count": 5,
   "id": "959273b5-eb4e-4800-b004-d36202a5e70b",
   "metadata": {},
   "outputs": [
    {
     "name": "stdout",
     "output_type": "stream",
     "text": [
      "1/2 combo starts.\n",
      "shape of the saved modelParams: (32, 6).\n",
      "shape of the saved labels: (32, 500).\n",
      "shape of the saved proba: (32, 500, 2).\n",
      "shape of the saved modelParams: (32, 6).\n",
      "shape of the saved labels: (32, 1000).\n",
      "shape of the saved proba: (32, 1000, 2).\n",
      "shape of the saved modelParams: (32, 6).\n",
      "shape of the saved labels: (32, 2000).\n",
      "shape of the saved proba: (32, 2000, 2).\n",
      "shape of the saved modelParams: (32, 6).\n",
      "shape of the saved labels: (32, 250).\n",
      "shape of the saved proba: (32, 250, 2).\n",
      "1/2 combo done. Time of this combo: 0:00:01s. Total time: 0:00:01s.\n",
      "2/2 combo starts.\n",
      "shape of the saved modelParams: (32, 6).\n",
      "shape of the saved labels: (32, 500).\n",
      "shape of the saved proba: (32, 500, 2).\n",
      "shape of the saved modelParams: (32, 6).\n",
      "shape of the saved labels: (32, 1000).\n",
      "shape of the saved proba: (32, 1000, 2).\n",
      "shape of the saved modelParams: (32, 6).\n",
      "shape of the saved labels: (32, 2000).\n",
      "shape of the saved proba: (32, 2000, 2).\n",
      "shape of the saved modelParams: (32, 6).\n",
      "shape of the saved labels: (32, 250).\n",
      "shape of the saved proba: (32, 250, 2).\n",
      "2/2 combo done. Time of this combo: 0:00:01s. Total time: 0:00:01s.\n",
      "1/2 combo starts.\n",
      "shape of the saved modelParams: (32, 6).\n",
      "shape of the saved labels: (32, 50).\n",
      "shape of the saved proba: (32, 50, 2).\n",
      "shape of the saved modelParams: (32, 6).\n",
      "shape of the saved labels: (32, 500).\n",
      "shape of the saved proba: (32, 500, 2).\n",
      "shape of the saved modelParams: (32, 6).\n",
      "shape of the saved labels: (32, 1000).\n",
      "shape of the saved proba: (32, 1000, 2).\n",
      "shape of the saved modelParams: (32, 6).\n",
      "shape of the saved labels: (32, 100).\n",
      "shape of the saved proba: (32, 100, 2).\n",
      "shape of the saved modelParams: (32, 6).\n",
      "shape of the saved labels: (32, 250).\n",
      "shape of the saved proba: (32, 250, 2).\n",
      "1/2 combo done. Time of this combo: 0:00:01s. Total time: 0:00:01s.\n",
      "2/2 combo starts.\n",
      "shape of the saved modelParams: (32, 6).\n",
      "shape of the saved labels: (32, 50).\n",
      "shape of the saved proba: (32, 50, 2).\n",
      "shape of the saved modelParams: (32, 6).\n",
      "shape of the saved labels: (32, 500).\n",
      "shape of the saved proba: (32, 500, 2).\n",
      "shape of the saved modelParams: (32, 6).\n",
      "shape of the saved labels: (32, 1000).\n",
      "shape of the saved proba: (32, 1000, 2).\n",
      "shape of the saved modelParams: (32, 6).\n",
      "shape of the saved labels: (32, 100).\n",
      "shape of the saved proba: (32, 100, 2).\n",
      "shape of the saved modelParams: (32, 6).\n",
      "shape of the saved labels: (32, 250).\n",
      "shape of the saved proba: (32, 250, 2).\n",
      "2/2 combo done. Time of this combo: 0:00:01s. Total time: 0:00:01s.\n",
      "1/2 combo starts.\n",
      "shape of the saved modelParams: (32, 6).\n",
      "shape of the saved labels: (32, 500).\n",
      "shape of the saved proba: (32, 500, 2).\n",
      "shape of the saved modelParams: (32, 6).\n",
      "shape of the saved labels: (32, 120).\n",
      "shape of the saved proba: (32, 120, 2).\n",
      "shape of the saved modelParams: (32, 6).\n",
      "shape of the saved labels: (32, 250).\n",
      "shape of the saved proba: (32, 250, 2).\n",
      "shape of the saved modelParams: (32, 6).\n",
      "shape of the saved labels: (32, 60).\n",
      "shape of the saved proba: (32, 60, 2).\n",
      "1/2 combo done. Time of this combo: 0:00:01s. Total time: 0:00:01s.\n",
      "2/2 combo starts.\n",
      "shape of the saved modelParams: (32, 6).\n",
      "shape of the saved labels: (32, 500).\n",
      "shape of the saved proba: (32, 500, 2).\n",
      "shape of the saved modelParams: (32, 6).\n",
      "shape of the saved labels: (32, 120).\n",
      "shape of the saved proba: (32, 120, 2).\n",
      "shape of the saved modelParams: (32, 6).\n",
      "shape of the saved labels: (32, 250).\n",
      "shape of the saved proba: (32, 250, 2).\n",
      "shape of the saved modelParams: (32, 6).\n",
      "shape of the saved labels: (32, 60).\n",
      "shape of the saved proba: (32, 60, 2).\n",
      "2/2 combo done. Time of this combo: 0:00:01s. Total time: 0:00:01s.\n"
     ]
    }
   ],
   "source": [
    "for scale in [\"daily\", \"weekly\", \"monthly\"]:\n",
    "    key_data_list_true = [f\"{n_c}-state-{scale}\", f\"t-5-{scale}\"]\n",
    "    model_dict_true = {\"true\": Viterbi_wrapper(*load_hardy_params(scale, n_c))}\n",
    "    model_fit_many_datas_models(key_data_list_true, \"HMM\", model_dict_true, None, path, job_id, batch_size, align=False)"
   ]
  },
  {
   "cell_type": "markdown",
   "id": "29ba2511-ab95-4a91-bea6-2f8bfc174da6",
   "metadata": {},
   "source": [
    "# HMM models"
   ]
  },
  {
   "cell_type": "code",
   "execution_count": 6,
   "id": "a8dec29b-6f87-447a-a036-8b9b553e0a61",
   "metadata": {
    "tags": []
   },
   "outputs": [],
   "source": [
    "random_state = RandomState(0)\n",
    "model_hmm_10init = GaussianHMM_model(n_c, n_init=10, init='k-means++', random_state=random_state, n_iter = 500, tol = 1e-4, min_covar=1e-6, covars_prior=1e-6,\n",
    "                                    transmat_prior = 1.+1e-5)#\n",
    "model_dict_hmm = {\"HMM10init\": model_hmm_10init}"
   ]
  },
  {
   "cell_type": "code",
   "execution_count": 7,
   "id": "7b550385-58f4-4a0b-9f8a-828ae1fc9e26",
   "metadata": {
    "tags": []
   },
   "outputs": [],
   "source": [
    "key_feat_hmm = \"HMM\"\n",
    "param_grid_hmm = None"
   ]
  },
  {
   "cell_type": "code",
   "execution_count": 8,
   "id": "3e676da5-1048-40b2-a178-1ba0c4046bf8",
   "metadata": {
    "tags": []
   },
   "outputs": [
    {
     "name": "stdout",
     "output_type": "stream",
     "text": [
      "1/6 combo starts.\n",
      "shape of the saved modelParams: (32, 6).\n",
      "shape of the saved labels: (32, 500).\n",
      "shape of the saved proba: (32, 500, 2).\n",
      "shape of the saved modelParams: (32, 6).\n",
      "shape of the saved labels: (32, 1000).\n",
      "shape of the saved proba: (32, 1000, 2).\n",
      "shape of the saved modelParams: (32, 6).\n",
      "shape of the saved labels: (32, 2000).\n",
      "shape of the saved proba: (32, 2000, 2).\n",
      "shape of the saved modelParams: (32, 6).\n",
      "shape of the saved labels: (32, 250).\n",
      "shape of the saved proba: (32, 250, 2).\n",
      "1/6 combo done. Time of this combo: 0:00:51s. Total time: 0:00:51s.\n",
      "2/6 combo starts.\n",
      "shape of the saved modelParams: (32, 6).\n",
      "shape of the saved labels: (32, 50).\n",
      "shape of the saved proba: (32, 50, 2).\n",
      "shape of the saved modelParams: (32, 6).\n",
      "shape of the saved labels: (32, 500).\n",
      "shape of the saved proba: (32, 500, 2).\n",
      "shape of the saved modelParams: (32, 6).\n",
      "shape of the saved labels: (32, 1000).\n",
      "shape of the saved proba: (32, 1000, 2).\n",
      "shape of the saved modelParams: (32, 6).\n",
      "shape of the saved labels: (32, 100).\n",
      "shape of the saved proba: (32, 100, 2).\n",
      "shape of the saved modelParams: (32, 6).\n",
      "shape of the saved labels: (32, 250).\n",
      "shape of the saved proba: (32, 250, 2).\n",
      "2/6 combo done. Time of this combo: 0:00:33s. Total time: 0:01:24s.\n",
      "3/6 combo starts.\n",
      "shape of the saved modelParams: (32, 6).\n",
      "shape of the saved labels: (32, 500).\n",
      "shape of the saved proba: (32, 500, 2).\n",
      "shape of the saved modelParams: (32, 6).\n",
      "shape of the saved labels: (32, 120).\n",
      "shape of the saved proba: (32, 120, 2).\n",
      "shape of the saved modelParams: (32, 6).\n",
      "shape of the saved labels: (32, 250).\n",
      "shape of the saved proba: (32, 250, 2).\n",
      "shape of the saved modelParams: (32, 6).\n",
      "shape of the saved labels: (32, 60).\n",
      "shape of the saved proba: (32, 60, 2).\n",
      "3/6 combo done. Time of this combo: 0:00:21s. Total time: 0:01:44s.\n",
      "4/6 combo starts.\n",
      "shape of the saved modelParams: (32, 6).\n",
      "shape of the saved labels: (32, 500).\n",
      "shape of the saved proba: (32, 500, 2).\n",
      "shape of the saved modelParams: (32, 6).\n",
      "shape of the saved labels: (32, 1000).\n",
      "shape of the saved proba: (32, 1000, 2).\n",
      "shape of the saved modelParams: (32, 6).\n",
      "shape of the saved labels: (32, 2000).\n",
      "shape of the saved proba: (32, 2000, 2).\n",
      "shape of the saved modelParams: (32, 6).\n",
      "shape of the saved labels: (32, 250).\n",
      "shape of the saved proba: (32, 250, 2).\n",
      "4/6 combo done. Time of this combo: 0:00:50s. Total time: 0:02:34s.\n",
      "5/6 combo starts.\n",
      "shape of the saved modelParams: (32, 6).\n",
      "shape of the saved labels: (32, 50).\n",
      "shape of the saved proba: (32, 50, 2).\n",
      "shape of the saved modelParams: (32, 6).\n",
      "shape of the saved labels: (32, 500).\n",
      "shape of the saved proba: (32, 500, 2).\n",
      "shape of the saved modelParams: (32, 6).\n",
      "shape of the saved labels: (32, 1000).\n",
      "shape of the saved proba: (32, 1000, 2).\n",
      "shape of the saved modelParams: (32, 6).\n",
      "shape of the saved labels: (32, 100).\n",
      "shape of the saved proba: (32, 100, 2).\n",
      "shape of the saved modelParams: (32, 6).\n",
      "shape of the saved labels: (32, 250).\n",
      "shape of the saved proba: (32, 250, 2).\n",
      "5/6 combo done. Time of this combo: 0:00:30s. Total time: 0:03:03s.\n",
      "6/6 combo starts.\n",
      "shape of the saved modelParams: (32, 6).\n",
      "shape of the saved labels: (32, 500).\n",
      "shape of the saved proba: (32, 500, 2).\n",
      "shape of the saved modelParams: (32, 6).\n",
      "shape of the saved labels: (32, 120).\n",
      "shape of the saved proba: (32, 120, 2).\n",
      "shape of the saved modelParams: (32, 6).\n",
      "shape of the saved labels: (32, 250).\n",
      "shape of the saved proba: (32, 250, 2).\n",
      "shape of the saved modelParams: (32, 6).\n",
      "shape of the saved labels: (32, 60).\n",
      "shape of the saved proba: (32, 60, 2).\n",
      "6/6 combo done. Time of this combo: 0:00:18s. Total time: 0:03:21s.\n"
     ]
    }
   ],
   "source": [
    "model_fit_many_datas_models(generate_key_data([2, \"t\"], dof=5), key_feat_hmm, model_dict_hmm, param_grid_hmm, path, job_id, batch_size)"
   ]
  }
 ],
 "metadata": {
  "kernelspec": {
   "display_name": "Python 3 (ipykernel)",
   "language": "python",
   "name": "python3"
  },
  "language_info": {
   "codemirror_mode": {
    "name": "ipython",
    "version": 3
   },
   "file_extension": ".py",
   "mimetype": "text/x-python",
   "name": "python",
   "nbconvert_exporter": "python",
   "pygments_lexer": "ipython3",
   "version": "3.11.0"
  }
 },
 "nbformat": 4,
 "nbformat_minor": 5
}
