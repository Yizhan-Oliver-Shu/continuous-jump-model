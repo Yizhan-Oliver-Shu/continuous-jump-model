{
 "cells": [
  {
   "cell_type": "code",
   "execution_count": 1,
   "id": "88a51e4b-aa81-4377-a2d3-d5e43d9be918",
   "metadata": {
    "tags": []
   },
   "outputs": [],
   "source": [
    "%load_ext autoreload\n",
    "%autoreload 2\n",
    "import sys, os\n",
    "from os.path import expanduser\n",
    "## actions required!!!!!!!!!!!!!!!!!!!! change your folder path \n",
    "path = \"~/Documents/G3_2/regime-identification\"\n",
    "path = expanduser(path)\n",
    "sys.path.append(path)\n",
    "\n",
    "path_file = f\"~/data/G3_2/regime-identification/simulation\"\n",
    "path_file = expanduser(path_file)\n",
    "path_data = f\"{path_file}/data\"\n",
    "path_estimation = f\"{path_file}/estimation\"\n",
    "path_score = f\"{path_file}/score\""
   ]
  },
  {
   "cell_type": "code",
   "execution_count": 5,
   "id": "fa90703e-2c0d-45c8-bdc9-eb55cb2b0806",
   "metadata": {
    "tags": []
   },
   "outputs": [],
   "source": [
    "import numpy as np\n",
    "from tqdm import tqdm\n",
    "\n",
    "from sklearn.model_selection import ParameterGrid\n",
    "\n",
    "from numpy.random import RandomState\n",
    "random_state = RandomState(0)"
   ]
  },
  {
   "cell_type": "code",
   "execution_count": 112,
   "id": "7af115dc-6da4-404c-9449-78289800fdfd",
   "metadata": {
    "tags": []
   },
   "outputs": [],
   "source": [
    "from regime.cluster_utils import *\n",
    "from regime.stats import *\n",
    "from regime.simulation_helper import *\n",
    "from regime.jump import *"
   ]
  },
  {
   "cell_type": "markdown",
   "id": "a9c7a9ea-3c8f-46b4-888d-bd371dfbe21e",
   "metadata": {},
   "source": [
    "# 2-model-training\n",
    "\n",
    "In this notebook we train several models, with different hyperparameters, and save the estimation results."
   ]
  },
  {
   "cell_type": "code",
   "execution_count": 4,
   "id": "1c794144-7a01-40ce-8f66-f32bba329ecf",
   "metadata": {
    "tags": []
   },
   "outputs": [],
   "source": [
    "scale_lst = [\"daily\", \"weekly\", \"monthly\"]\n",
    "n_s_lst = [250, 500, 1000]\n",
    "key_data_list = [f\"{scale}_{n_s}\" for scale in scale_lst for n_s in n_s_lst]\n",
    "\n",
    "n_buffer, n_t, n_c = 20, 1024, 2\n",
    "key_feat = \"zheng\""
   ]
  },
  {
   "cell_type": "code",
   "execution_count": 6,
   "id": "c618fb08-583d-4992-a92b-1c77df696636",
   "metadata": {},
   "outputs": [],
   "source": [
    "model_discrete = jump_model(n_c, state_type=\"discrete\", random_state=random_state)\n",
    "model_cont_mode = jump_model(n_c, state_type=\"cont\", grid_size=.02, mode_loss=True, random_state=random_state)\n",
    "model_cont_no_mode = jump_model(n_c, state_type=\"cont\", grid_size=.02, mode_loss=False, random_state=random_state)"
   ]
  },
  {
   "cell_type": "code",
   "execution_count": 7,
   "id": "fe15aea5-8dc7-4bba-9b41-a74daab906d5",
   "metadata": {},
   "outputs": [],
   "source": [
    "model_dict = {\"discrete\": model_discrete, \"cont_mode\": model_cont_mode, \"cont_no_mode\": model_cont_no_mode}"
   ]
  },
  {
   "cell_type": "code",
   "execution_count": 8,
   "id": "8bc124c9-f121-47ff-8949-d2eb0e8ae078",
   "metadata": {},
   "outputs": [
    {
     "name": "stdout",
     "output_type": "stream",
     "text": [
      "[1.e+00 1.e+01 1.e+02 1.e+03 1.e+04 1.e+05 1.e+06 1.e+07 1.e+08]\n"
     ]
    }
   ],
   "source": [
    "lambd_list = 10 ** np.linspace(0, 8, 9)\n",
    "print(lambd_list)\n",
    "param_grid = {'jump_penalty': lambd_list}"
   ]
  },
  {
   "cell_type": "code",
   "execution_count": 9,
   "id": "f573f2ac-6c16-4d94-8016-ecef8377d070",
   "metadata": {},
   "outputs": [],
   "source": [
    "n_batch=32"
   ]
  },
  {
   "cell_type": "code",
   "execution_count": 10,
   "id": "7a82c8d7-1f23-46dd-9473-23c97579b46a",
   "metadata": {},
   "outputs": [],
   "source": [
    "def train_models_datas_params(key_data_list, key_feat_list, key_model_list, param_grid):\n",
    "    N_combos = len(key_data_list) * len(key_feat_list) * len(key_model_list)\n",
    "    for i, (key_data, key_feat, key_model) in enumerate(product(key_data_list, key_feat_list, key_model_list)):\n",
    "        Xs = np.load(f\"{path_data}/X_{key_data}_{key_feat}.npy\")[:n_batch]\n",
    "        model = model_dict[key_model]\n",
    "        proba_arr_, labels_arr_ = train_one_model_one_data_batch_params(model, Xs, param_grid)\n",
    "        # save results\n",
    "        np_save_print(f\"{path_estimation}/labels_{key_data}_{key_feat}_{key_model}.npy\", labels_arr_, \"labels\")\n",
    "        np_save_print(f\"{path_estimation}/proba_{key_data}_{key_feat}_{key_model}.npy\", proba_arr_, \"proba\")\n",
    "        print(f\"{i+1}/{N_combos} combos done.\")"
   ]
  },
  {
   "cell_type": "code",
   "execution_count": 11,
   "id": "43aa604d-543f-405e-92d2-5e26e84c5ba5",
   "metadata": {},
   "outputs": [],
   "source": [
    "key_data_list=['daily_1000']\n",
    "key_feat_list=['zheng']\n",
    "key_model_list = [\"cont_mode\"]"
   ]
  },
  {
   "cell_type": "code",
   "execution_count": 15,
   "id": "f3b323c1-741d-46d4-a5ff-db9736f03f53",
   "metadata": {},
   "outputs": [
    {
     "name": "stderr",
     "output_type": "stream",
     "text": [
      "100%|██████████████████████████████████████████████████████████████████████████████████████████████████████████████████████████████████████████████████████| 9/9 [00:36<00:00,  4.02s/it]"
     ]
    },
    {
     "name": "stdout",
     "output_type": "stream",
     "text": [
      "shape of the saved labels: (32, 1000, 9).\n",
      "shape of the saved proba: (32, 1000, 2, 9).\n",
      "1/1 combos done.\n"
     ]
    },
    {
     "name": "stderr",
     "output_type": "stream",
     "text": [
      "\n"
     ]
    }
   ],
   "source": [
    "train_models_datas_params(key_data_list, key_feat_list, key_model_list, param_grid)"
   ]
  },
  {
   "cell_type": "code",
   "execution_count": null,
   "id": "80f18360-ea95-4b00-afbc-3af8a30b01f7",
   "metadata": {},
   "outputs": [],
   "source": [
    "la"
   ]
  },
  {
   "cell_type": "code",
   "execution_count": null,
   "id": "135fc4ea-3dcd-4f6a-95af-9513a2480d18",
   "metadata": {},
   "outputs": [],
   "source": []
  },
  {
   "cell_type": "code",
   "execution_count": null,
   "id": "bb7e3943-063d-4576-9817-8f46690de235",
   "metadata": {},
   "outputs": [],
   "source": []
  },
  {
   "cell_type": "code",
   "execution_count": null,
   "id": "40c4e4e8-9a4a-47af-841e-c7d2354a9029",
   "metadata": {},
   "outputs": [],
   "source": []
  },
  {
   "cell_type": "code",
   "execution_count": null,
   "id": "777a5a9b-26c5-4d49-8b74-ef7842449139",
   "metadata": {},
   "outputs": [],
   "source": []
  },
  {
   "cell_type": "code",
   "execution_count": 13,
   "id": "ea19eddc-9cca-4e06-ab73-29ebb23014c1",
   "metadata": {},
   "outputs": [],
   "source": [
    "def train_one_model_one_data_batch(model, Xs):\n",
    "    \"\"\"\n",
    "    train a model, on a batch of training data.\n",
    "    \n",
    "    Parameters:\n",
    "    -----------------------------\n",
    "    model:\n",
    "    \n",
    "    Xs: array of shape (n_t, n_s, n_f)\n",
    "    \n",
    "    Returns:\n",
    "    ----------------------------\n",
    "    labels_: (n_t, n_s)\n",
    "    \n",
    "    proba_: (n_t, n_s, n_c)\n",
    "    \"\"\"\n",
    "    labels_list, proba_list = [], []\n",
    "    # for i_trial in tqdm(range(len(Xs))):\n",
    "    for i_trial in range(len(Xs)):\n",
    "        model.fit(Xs[i_trial])\n",
    "        labels_list.append(model.labels_)\n",
    "        proba_list.append(model.proba_)\n",
    "        \n",
    "    if proba_list[0] is not None:  # has estimated probability\n",
    "        proba_arr = np.array(proba_list)\n",
    "        labels_arr = proba_arr.argmax(axis=-1).astype(np.int32)\n",
    "        \n",
    "        \n",
    "        \n",
    "        \n",
    "        return proba_arr, labels_arr\n",
    "    else: # only estimated labels\n",
    "        labels_arr = np.array(labels_list)\n",
    "        #\n",
    "        n_t, n_s, _ = Xs.shape\n",
    "        n_c = model.n_components\n",
    "        proba_arr = np.zeros((n_t, n_s, n_c))\n",
    "        np.put_along_axis(proba_arr, indices=labels_arr[..., np.newaxis], values=1., axis=-1)\n",
    "        return proba_arr, labels_arr    "
   ]
  },
  {
   "cell_type": "code",
   "execution_count": 17,
   "id": "faaabfa1-86d3-4fbf-b904-2b2f71fa2ede",
   "metadata": {},
   "outputs": [
    {
     "data": {
      "text/html": [
       "<style>#sk-container-id-1 {color: black;background-color: white;}#sk-container-id-1 pre{padding: 0;}#sk-container-id-1 div.sk-toggleable {background-color: white;}#sk-container-id-1 label.sk-toggleable__label {cursor: pointer;display: block;width: 100%;margin-bottom: 0;padding: 0.3em;box-sizing: border-box;text-align: center;}#sk-container-id-1 label.sk-toggleable__label-arrow:before {content: \"▸\";float: left;margin-right: 0.25em;color: #696969;}#sk-container-id-1 label.sk-toggleable__label-arrow:hover:before {color: black;}#sk-container-id-1 div.sk-estimator:hover label.sk-toggleable__label-arrow:before {color: black;}#sk-container-id-1 div.sk-toggleable__content {max-height: 0;max-width: 0;overflow: hidden;text-align: left;background-color: #f0f8ff;}#sk-container-id-1 div.sk-toggleable__content pre {margin: 0.2em;color: black;border-radius: 0.25em;background-color: #f0f8ff;}#sk-container-id-1 input.sk-toggleable__control:checked~div.sk-toggleable__content {max-height: 200px;max-width: 100%;overflow: auto;}#sk-container-id-1 input.sk-toggleable__control:checked~label.sk-toggleable__label-arrow:before {content: \"▾\";}#sk-container-id-1 div.sk-estimator input.sk-toggleable__control:checked~label.sk-toggleable__label {background-color: #d4ebff;}#sk-container-id-1 div.sk-label input.sk-toggleable__control:checked~label.sk-toggleable__label {background-color: #d4ebff;}#sk-container-id-1 input.sk-hidden--visually {border: 0;clip: rect(1px 1px 1px 1px);clip: rect(1px, 1px, 1px, 1px);height: 1px;margin: -1px;overflow: hidden;padding: 0;position: absolute;width: 1px;}#sk-container-id-1 div.sk-estimator {font-family: monospace;background-color: #f0f8ff;border: 1px dotted black;border-radius: 0.25em;box-sizing: border-box;margin-bottom: 0.5em;}#sk-container-id-1 div.sk-estimator:hover {background-color: #d4ebff;}#sk-container-id-1 div.sk-parallel-item::after {content: \"\";width: 100%;border-bottom: 1px solid gray;flex-grow: 1;}#sk-container-id-1 div.sk-label:hover label.sk-toggleable__label {background-color: #d4ebff;}#sk-container-id-1 div.sk-serial::before {content: \"\";position: absolute;border-left: 1px solid gray;box-sizing: border-box;top: 0;bottom: 0;left: 50%;z-index: 0;}#sk-container-id-1 div.sk-serial {display: flex;flex-direction: column;align-items: center;background-color: white;padding-right: 0.2em;padding-left: 0.2em;position: relative;}#sk-container-id-1 div.sk-item {position: relative;z-index: 1;}#sk-container-id-1 div.sk-parallel {display: flex;align-items: stretch;justify-content: center;background-color: white;position: relative;}#sk-container-id-1 div.sk-item::before, #sk-container-id-1 div.sk-parallel-item::before {content: \"\";position: absolute;border-left: 1px solid gray;box-sizing: border-box;top: 0;bottom: 0;left: 50%;z-index: -1;}#sk-container-id-1 div.sk-parallel-item {display: flex;flex-direction: column;z-index: 1;position: relative;background-color: white;}#sk-container-id-1 div.sk-parallel-item:first-child::after {align-self: flex-end;width: 50%;}#sk-container-id-1 div.sk-parallel-item:last-child::after {align-self: flex-start;width: 50%;}#sk-container-id-1 div.sk-parallel-item:only-child::after {width: 0;}#sk-container-id-1 div.sk-dashed-wrapped {border: 1px dashed gray;margin: 0 0.4em 0.5em 0.4em;box-sizing: border-box;padding-bottom: 0.4em;background-color: white;}#sk-container-id-1 div.sk-label label {font-family: monospace;font-weight: bold;display: inline-block;line-height: 1.2em;}#sk-container-id-1 div.sk-label-container {text-align: center;}#sk-container-id-1 div.sk-container {/* jupyter's `normalize.less` sets `[hidden] { display: none; }` but bootstrap.min.css set `[hidden] { display: none !important; }` so we also need the `!important` here to be able to override the default hidden behavior on the sphinx rendered scikit-learn.org. See: https://github.com/scikit-learn/scikit-learn/issues/21755 */display: inline-block !important;position: relative;}#sk-container-id-1 div.sk-text-repr-fallback {display: none;}</style><div id=\"sk-container-id-1\" class=\"sk-top-container\"><div class=\"sk-text-repr-fallback\"><pre>jump_model(grid_size=0.02, jump_penalty=1000.0,\n",
       "           random_state=RandomState(MT19937) at 0x1079FEE40)</pre><b>In a Jupyter environment, please rerun this cell to show the HTML representation or trust the notebook. <br />On GitHub, the HTML representation is unable to render, please try loading this page with nbviewer.org.</b></div><div class=\"sk-container\" hidden><div class=\"sk-item\"><div class=\"sk-estimator sk-toggleable\"><input class=\"sk-toggleable__control sk-hidden--visually\" id=\"sk-estimator-id-1\" type=\"checkbox\" checked><label for=\"sk-estimator-id-1\" class=\"sk-toggleable__label sk-toggleable__label-arrow\">jump_model</label><div class=\"sk-toggleable__content\"><pre>jump_model(grid_size=0.02, jump_penalty=1000.0,\n",
       "           random_state=RandomState(MT19937) at 0x1079FEE40)</pre></div></div></div></div></div>"
      ],
      "text/plain": [
       "jump_model(grid_size=0.02, jump_penalty=1000.0,\n",
       "           random_state=RandomState(MT19937) at 0x1079FEE40)"
      ]
     },
     "execution_count": 17,
     "metadata": {},
     "output_type": "execute_result"
    }
   ],
   "source": [
    "model_cont_mode.set_params(jump_penalty=1000.)"
   ]
  },
  {
   "cell_type": "code",
   "execution_count": 44,
   "id": "1e3a1012-1ce6-4bd9-bf18-a76a726b87b0",
   "metadata": {},
   "outputs": [],
   "source": [
    "key_data=\"daily_1000\"\n",
    "key_feat=\"zheng\"\n",
    "Xs = np.load(f\"{path_data}/X_{key_data}_{key_feat}.npy\")[:n_batch]\n",
    "Xs_raw = np.load(f\"{path_data}/X_raw_{key_data}.npy\")[:n_batch]\n",
    "Zs = np.load(f\"{path_data}/Z_{key_data}.npy\")[:n_batch]"
   ]
  },
  {
   "cell_type": "code",
   "execution_count": 99,
   "id": "a8ace6fa-6e5f-4dac-8464-41c349f1477b",
   "metadata": {},
   "outputs": [],
   "source": [
    "proba_arr, labels_arr = train_one_model_one_data_batch(model_cont_mode, Xs)"
   ]
  },
  {
   "cell_type": "code",
   "execution_count": 100,
   "id": "c9be9382-6431-4368-b353-332055e554a8",
   "metadata": {},
   "outputs": [],
   "source": [
    "from itertools import permutations"
   ]
  },
  {
   "cell_type": "code",
   "execution_count": 102,
   "id": "91803eef-f5e3-44c8-9321-fb5b44c3a13e",
   "metadata": {},
   "outputs": [
    {
     "data": {
      "text/plain": [
       "<itertools.permutations at 0x127b904f0>"
      ]
     },
     "execution_count": 102,
     "metadata": {},
     "output_type": "execute_result"
    }
   ],
   "source": [
    "permutations(range(n_c))"
   ]
  },
  {
   "cell_type": "code",
   "execution_count": null,
   "id": "26bfe4e1-667e-4224-9833-1158531a1758",
   "metadata": {},
   "outputs": [],
   "source": []
  },
  {
   "cell_type": "code",
   "execution_count": null,
   "id": "08ba2766-424c-40c2-bb11-3fa04cdf94ba",
   "metadata": {},
   "outputs": [],
   "source": []
  },
  {
   "cell_type": "code",
   "execution_count": null,
   "id": "49db774d-5036-4ef2-a25a-dbf035d127f4",
   "metadata": {},
   "outputs": [],
   "source": []
  },
  {
   "cell_type": "code",
   "execution_count": null,
   "id": "0df1bbe7-16a1-4549-9c0e-4d3ceae95211",
   "metadata": {},
   "outputs": [],
   "source": []
  },
  {
   "cell_type": "code",
   "execution_count": 76,
   "id": "9fcb9b78-267a-4861-a116-83f969e3e9fb",
   "metadata": {},
   "outputs": [
    {
     "data": {
      "text/plain": [
       "(32, 1000, 2)"
      ]
     },
     "execution_count": 76,
     "metadata": {},
     "output_type": "execute_result"
    }
   ],
   "source": [
    "proba_arr.shape"
   ]
  },
  {
   "cell_type": "code",
   "execution_count": 25,
   "id": "187236b3-1335-4db7-9b97-a84115c21503",
   "metadata": {},
   "outputs": [],
   "source": [
    "from sklearn.metrics import accuracy_score"
   ]
  },
  {
   "cell_type": "code",
   "execution_count": 166,
   "id": "64717f2c-1943-44a9-bef8-a3fa247f15aa",
   "metadata": {},
   "outputs": [],
   "source": [
    "acc = scorer_batch(accuracy_score, Zs, labels_arr, )"
   ]
  },
  {
   "cell_type": "code",
   "execution_count": 67,
   "id": "854c05b6-843c-4d2e-bfbf-86dcefd3e935",
   "metadata": {},
   "outputs": [
    {
     "data": {
      "text/plain": [
       "0.033"
      ]
     },
     "execution_count": 67,
     "metadata": {},
     "output_type": "execute_result"
    }
   ],
   "source": [
    "accuracy_score(Zs[1], labels_arr[1])"
   ]
  },
  {
   "cell_type": "code",
   "execution_count": 72,
   "id": "d95f99ac-e97a-4aa1-a04e-d1c5434cdd3e",
   "metadata": {},
   "outputs": [
    {
     "data": {
      "text/plain": [
       "True"
      ]
     },
     "execution_count": 72,
     "metadata": {},
     "output_type": "execute_result"
    }
   ],
   "source": [
    "(proba_arr[1].argmax(-1)==labels_arr[1]).all()"
   ]
  },
  {
   "cell_type": "code",
   "execution_count": null,
   "id": "5ed11973-d69d-41d3-b7c8-dea843fb6532",
   "metadata": {},
   "outputs": [],
   "source": []
  },
  {
   "cell_type": "code",
   "execution_count": null,
   "id": "3c1ad680-94e9-4688-8e66-1c129e2d7e06",
   "metadata": {},
   "outputs": [],
   "source": []
  },
  {
   "cell_type": "code",
   "execution_count": null,
   "id": "1dfacf93-05fc-4348-9da7-de497fe3c669",
   "metadata": {},
   "outputs": [],
   "source": []
  },
  {
   "cell_type": "code",
   "execution_count": 87,
   "id": "f0999c64-1dfd-4a0e-8cee-ad80049f8401",
   "metadata": {},
   "outputs": [
    {
     "data": {
      "text/plain": [
       "array([[-0.00068745,  0.01869673,  0.0187656 , -0.00064584,  0.01434598,\n",
       "        -0.00061376,  0.01196528, -0.00067792,  0.01188814, -0.00054851,\n",
       "         0.01551057, -0.00046508,  0.01468934, -0.00063194,  0.0146868 ],\n",
       "       [ 0.00092417,  0.00982028,  0.00977366,  0.00095472,  0.00721107,\n",
       "         0.00096275,  0.00608297,  0.00094669,  0.00612873,  0.00089509,\n",
       "         0.00782269,  0.00084006,  0.00740016,  0.00095013,  0.00734796]])"
      ]
     },
     "execution_count": 87,
     "metadata": {},
     "output_type": "execute_result"
    }
   ],
   "source": [
    "model_cont_mode.centers_"
   ]
  },
  {
   "cell_type": "code",
   "execution_count": null,
   "id": "139c9655-8f40-43b7-9304-387bf90e2b94",
   "metadata": {},
   "outputs": [],
   "source": []
  },
  {
   "cell_type": "code",
   "execution_count": null,
   "id": "e6c4efed-706e-407d-af1a-a7e1636572fd",
   "metadata": {},
   "outputs": [],
   "source": []
  },
  {
   "cell_type": "code",
   "execution_count": 199,
   "id": "ea33df73-b11f-4bd8-9085-2f92f2e65d48",
   "metadata": {},
   "outputs": [
    {
     "data": {
      "text/plain": [
       "array([[0, 1, 2, 3],\n",
       "       [0, 1, 3, 2],\n",
       "       [0, 2, 1, 3],\n",
       "       [0, 2, 3, 1],\n",
       "       [0, 3, 1, 2],\n",
       "       [0, 3, 2, 1],\n",
       "       [1, 0, 2, 3],\n",
       "       [1, 0, 3, 2],\n",
       "       [1, 2, 0, 3],\n",
       "       [1, 2, 3, 0],\n",
       "       [1, 3, 0, 2],\n",
       "       [1, 3, 2, 0],\n",
       "       [2, 0, 1, 3],\n",
       "       [2, 0, 3, 1],\n",
       "       [2, 1, 0, 3],\n",
       "       [2, 1, 3, 0],\n",
       "       [2, 3, 0, 1],\n",
       "       [2, 3, 1, 0],\n",
       "       [3, 0, 1, 2],\n",
       "       [3, 0, 2, 1],\n",
       "       [3, 1, 0, 2],\n",
       "       [3, 1, 2, 0],\n",
       "       [3, 2, 0, 1],\n",
       "       [3, 2, 1, 0]])"
      ]
     },
     "execution_count": 199,
     "metadata": {},
     "output_type": "execute_result"
    }
   ],
   "source": []
  },
  {
   "cell_type": "code",
   "execution_count": 201,
   "id": "236b7fba-2ede-417e-8731-708a955bea73",
   "metadata": {},
   "outputs": [],
   "source": [
    "# def generate_all_perms_as_arr(n_c):\n",
    "#     return np.array(list(permutations(range(n_c))))"
   ]
  },
  {
   "cell_type": "code",
   "execution_count": 209,
   "id": "0eaff7f1-518b-4c43-8fc6-707c9c7117a7",
   "metadata": {},
   "outputs": [],
   "source": [
    "# def _permute_labels(labels_arr, all_perms):\n",
    "#     \"\"\"\n",
    "#     return the labels under every permutation. new axis to the last\n",
    "#     \"\"\"\n",
    "#     labels_all_perms = np.zeros(labels_arr.shape + (len(all_perms),), dtype=np.int32)\n",
    "#     labels_all_perms[..., 0] = labels_arr\n",
    "#     for i_perm, perm in enumerate(all_perms[1:]):\n",
    "#         labels_permuted = labels_all_perms[..., i_perm+1]\n",
    "#         for i_cluster in range(n_c): # permute\n",
    "#             labels_permuted[labels_arr==i_cluster] = perm[i_cluster] # labels_permuted[labels_==i]\n",
    "#     return labels_all_perms      "
   ]
  },
  {
   "cell_type": "code",
   "execution_count": 172,
   "id": "297dcb31-7fdf-4e08-8c8b-8fe78a26b23d",
   "metadata": {},
   "outputs": [],
   "source": [
    "# def align_labels_proba_by_accuracy(Zs_true, proba_arr, labels_arr):\n",
    "#     \"\"\"\n",
    "#     In a clustering problem, any permutation of the labels is a vaid clustering result. \n",
    "#     we find the best permutation for each trial. Here best refers to the highest accuracy.\n",
    "    \n",
    "#     Parameters:\n",
    "#     ---------------------\n",
    "#     labels_arr: arr of shape (n_t, n_s)\n",
    "#     \"\"\"\n",
    "#     n_t, n_s, n_c = proba_arr.shape\n",
    "#     # all the perms\n",
    "#     all_perms = generate_all_perms_as_arr(n_c)\n",
    "#     # all the possible perms of labels\n",
    "#     labels_all_perms = _permute_labels(labels_arr, all_perms)\n",
    "#     # score accuracy for each perm\n",
    "#     acc_all_perms = scorer_batch(accuracy_score, Zs_true, labels_all_perms, has_params=True) # of shape (n_t, n_p)\n",
    "#     # best perm for each trial \n",
    "#     best_perm_idx = acc_all_perms.argmax(-1) # shape (n_t,)\n",
    "#     # take the corresponding perm for labels\n",
    "#     labels_arr_new = np.take_along_axis(labels_all_perms, best_perm_idx[:, np.newaxis, np.newaxis], axis=-1).squeeze(axis=-1)\n",
    "#     # do the same for proba_\n",
    "#     best_perm = all_perms[best_perm_idx]\n",
    "#     proba_arr_new = np.take_along_axis(proba_arr, best_perm[:, np.newaxis, :], axis=-1)\n",
    "#     # proba_arr_new = proba_arr[np.arange(n_t)[:, np.newaxis, np.newaxis], np.arange(n_s)[np.newaxis, :, np.newaxis], best_perm[:, np.newaxis, :]]\n",
    "#     return proba_arr_new, labels_arr_new"
   ]
  },
  {
   "cell_type": "code",
   "execution_count": 255,
   "id": "68021ccb-3f80-4d5a-ae5d-ae255e6c72f3",
   "metadata": {},
   "outputs": [
    {
     "name": "stdout",
     "output_type": "stream",
     "text": [
      "480 µs ± 2.59 µs per loop (mean ± std. dev. of 7 runs, 1,000 loops each)\n"
     ]
    }
   ],
   "source": [
    "%%timeit\n",
    "proba_arr[np.arange(n_t)[:, np.newaxis, np.newaxis], np.arange(n_s)[np.newaxis, :, np.newaxis], best_perm[:, np.newaxis, :]]"
   ]
  },
  {
   "cell_type": "code",
   "execution_count": 256,
   "id": "de7a598a-6098-4296-960d-691c7bdbb516",
   "metadata": {},
   "outputs": [
    {
     "name": "stdout",
     "output_type": "stream",
     "text": [
      "485 µs ± 3.77 µs per loop (mean ± std. dev. of 7 runs, 1,000 loops each)\n"
     ]
    }
   ],
   "source": [
    "%%timeit\n",
    "np.take_along_axis(proba_arr, best_perm[:, np.newaxis, :], axis=-1)"
   ]
  },
  {
   "cell_type": "code",
   "execution_count": null,
   "id": "8b7a3a15-4013-4ee3-9906-19a0fdd72157",
   "metadata": {},
   "outputs": [],
   "source": []
  },
  {
   "cell_type": "code",
   "execution_count": 238,
   "id": "9931b76f-826f-49c4-98ba-1b4e37631621",
   "metadata": {},
   "outputs": [],
   "source": [
    "n_t, n_s, n_c = proba_arr.shape\n",
    "# all the perms\n",
    "all_perms = generate_all_perms_as_arr(n_c)\n",
    "# all the possible perms of labels\n",
    "labels_all_perms = _permute_labels(labels_arr, all_perms)\n",
    "# score accuracy for each perm\n",
    "acc_all_perms = scorer_batch(accuracy_score, Zs, labels_all_perms, has_params=True) # of shape (n_t, n_p)\n",
    "# best perm for each trial \n",
    "best_perm_idx = acc_all_perms.argmax(-1) # shape (n_t,)"
   ]
  },
  {
   "cell_type": "code",
   "execution_count": 239,
   "id": "d38dc44c-b33d-4305-a6de-fe663290ce10",
   "metadata": {},
   "outputs": [
    {
     "data": {
      "text/plain": [
       "array([1, 0, 1, 0, 0, 0, 0, 1, 0, 1, 0, 0, 0, 1, 0, 1, 1, 1, 1, 0, 0, 0,\n",
       "       0, 0, 0, 1, 0, 1, 1, 1, 1, 0])"
      ]
     },
     "execution_count": 239,
     "metadata": {},
     "output_type": "execute_result"
    }
   ],
   "source": [
    "best_perm_idx"
   ]
  },
  {
   "cell_type": "code",
   "execution_count": 240,
   "id": "a88ffc88-48a2-457d-846e-7762bb7b1a4a",
   "metadata": {},
   "outputs": [],
   "source": [
    "labels_arr_new = np.take_along_axis(labels_all_perms, best_perm_idx[:, np.newaxis, np.newaxis], axis=-1).squeeze(axis=-1)"
   ]
  },
  {
   "cell_type": "code",
   "execution_count": 242,
   "id": "f38242ff-cec8-4435-aec2-8aff9c34c4f5",
   "metadata": {},
   "outputs": [],
   "source": [
    "best_perm = all_perms[best_perm_idx]\n",
    "proba_arr_new = np.take_along_axis(proba_arr, best_perm[:, np.newaxis, :], axis=-1)#.squeeze(axis=-1)"
   ]
  },
  {
   "cell_type": "code",
   "execution_count": 243,
   "id": "a1de0baa-0572-4166-a741-13453710d5d1",
   "metadata": {},
   "outputs": [
    {
     "data": {
      "text/plain": [
       "(32, 1000, 2)"
      ]
     },
     "execution_count": 243,
     "metadata": {},
     "output_type": "execute_result"
    }
   ],
   "source": [
    "proba_arr_new.shape"
   ]
  },
  {
   "cell_type": "code",
   "execution_count": null,
   "id": "2b17d941-a829-4d93-b76d-972140b01af9",
   "metadata": {},
   "outputs": [],
   "source": []
  },
  {
   "cell_type": "code",
   "execution_count": 241,
   "id": "63acb657-c908-4022-aeab-80f57ad0ab76",
   "metadata": {},
   "outputs": [
    {
     "data": {
      "text/plain": [
       "array([0.906, 0.966, 0.987, 0.963, 0.86 , 0.985, 0.936, 0.988, 0.865,\n",
       "       0.983, 0.995, 0.943, 0.946, 0.873, 0.874, 0.985, 0.93 , 0.982,\n",
       "       0.974, 0.99 , 0.958, 0.99 , 0.959, 0.984, 0.985, 1.   , 0.841,\n",
       "       0.992, 0.984, 0.994, 0.99 , 0.971])"
      ]
     },
     "execution_count": 241,
     "metadata": {},
     "output_type": "execute_result"
    }
   ],
   "source": [
    "scorer_batch(accuracy_score, Zs, labels_arr_new)"
   ]
  },
  {
   "cell_type": "code",
   "execution_count": 244,
   "id": "7f5c87c6-62da-47b0-92c4-5d558f6c96b8",
   "metadata": {},
   "outputs": [],
   "source": [
    "from sklearn.metrics import roc_auc_score"
   ]
  },
  {
   "cell_type": "code",
   "execution_count": null,
   "id": "e45e9da0-0054-4916-8df1-78f19579dd4d",
   "metadata": {},
   "outputs": [],
   "source": []
  },
  {
   "cell_type": "code",
   "execution_count": 249,
   "id": "49dd1c40-b79f-426e-829a-875a79667bc6",
   "metadata": {},
   "outputs": [],
   "source": [
    "idxx = get_idx_have_all_clusters(Zs, 2)"
   ]
  },
  {
   "cell_type": "code",
   "execution_count": 252,
   "id": "7bf63df5-dde7-4a8e-aae9-b008910fa160",
   "metadata": {},
   "outputs": [],
   "source": [
    "xx=scorer_batch(roc_auc_score, Zs, proba_arr[..., 1], idx_subset=idxx)"
   ]
  },
  {
   "cell_type": "code",
   "execution_count": 254,
   "id": "a585bcf8-97a2-4746-9548-50eeb7b3bcc9",
   "metadata": {},
   "outputs": [
    {
     "data": {
      "text/plain": [
       "array([0.90905584, 0.99221691, 0.99817947, 0.99105733,        nan,\n",
       "       0.9991669 , 0.94443305, 0.99938795,        nan, 0.9989771 ,\n",
       "       0.99998104, 0.93621684, 0.95324645,        nan, 0.96439471,\n",
       "       0.92307692, 0.93642703, 0.98845787, 0.99655997, 0.99572588,\n",
       "       0.95372316, 0.99186841, 0.98253295, 0.99262626, 0.9978296 ,\n",
       "              nan,        nan, 0.99990343, 0.97032959, 0.99986407,\n",
       "       0.99937297, 0.99872088])"
      ]
     },
     "execution_count": 254,
     "metadata": {},
     "output_type": "execute_result"
    }
   ],
   "source": [
    "np.maximum(xx, 1-xx)"
   ]
  },
  {
   "cell_type": "code",
   "execution_count": 251,
   "id": "a04eb0a6-02ba-466f-b429-28934e5115ac",
   "metadata": {},
   "outputs": [
    {
     "data": {
      "text/plain": [
       "array([0.90905584, 0.99221691, 0.99817947, 0.99105733,        nan,\n",
       "       0.9991669 , 0.94443305, 0.99938795,        nan, 0.9989771 ,\n",
       "       0.99998104, 0.93621684, 0.95324645,        nan, 0.96439471,\n",
       "       0.92307692, 0.93642703, 0.98845787, 0.99655997, 0.99572588,\n",
       "       0.95372316, 0.99186841, 0.98253295, 0.99262626, 0.9978296 ,\n",
       "              nan,        nan, 0.99990343, 0.97032959, 0.99986407,\n",
       "       0.99937297, 0.99872088])"
      ]
     },
     "execution_count": 251,
     "metadata": {},
     "output_type": "execute_result"
    }
   ],
   "source": [
    "scorer_batch(roc_auc_score, Zs, proba_arr_new[..., 1], idx_subset=idxx)"
   ]
  },
  {
   "cell_type": "code",
   "execution_count": null,
   "id": "cd60e853-90a7-4415-a9ff-2f59a16644f8",
   "metadata": {},
   "outputs": [],
   "source": []
  },
  {
   "cell_type": "code",
   "execution_count": null,
   "id": "39db919f-8d54-48b3-b595-dbd64139df31",
   "metadata": {},
   "outputs": [],
   "source": []
  },
  {
   "cell_type": "code",
   "execution_count": null,
   "id": "2d714a8d-f500-4d48-9b91-9bae894edb3f",
   "metadata": {},
   "outputs": [],
   "source": []
  },
  {
   "cell_type": "code",
   "execution_count": null,
   "id": "b63d8bb3-f8ca-4abe-8f7e-96e468525992",
   "metadata": {},
   "outputs": [],
   "source": [
    "xx[np.arange(2)[:, np.newaxis, np.newaxis], np.arange(4)[np.newaxis, :,  np.newaxis], ind[:, np.newaxis, :]] #np.repeat(ind[:, np.newaxis, :], 4, axis=1)"
   ]
  },
  {
   "cell_type": "code",
   "execution_count": 214,
   "id": "4f11ff29-c73b-4bc6-af7f-bfa9b98947bf",
   "metadata": {},
   "outputs": [],
   "source": [
    "best_perm_idx = best_perm.argmax(-1)"
   ]
  },
  {
   "cell_type": "code",
   "execution_count": 218,
   "id": "94baa8f9-a557-4168-a8d0-070156c13006",
   "metadata": {},
   "outputs": [],
   "source": [
    "labels_all_perms = _permute_labels(labels_arr, generate_all_perms_as_arr(2))"
   ]
  },
  {
   "cell_type": "code",
   "execution_count": 220,
   "id": "e92330e5-0fad-4143-810b-dbcc4e43819e",
   "metadata": {},
   "outputs": [
    {
     "data": {
      "text/plain": [
       "(32, 1000, 2)"
      ]
     },
     "execution_count": 220,
     "metadata": {},
     "output_type": "execute_result"
    }
   ],
   "source": [
    "labels_all_perms.shape"
   ]
  },
  {
   "cell_type": "code",
   "execution_count": 221,
   "id": "c2f3dd0f-1121-490b-bc52-d98bb2fd1977",
   "metadata": {},
   "outputs": [
    {
     "data": {
      "text/plain": [
       "(32,)"
      ]
     },
     "execution_count": 221,
     "metadata": {},
     "output_type": "execute_result"
    }
   ],
   "source": [
    "best_perm_idx.shape"
   ]
  },
  {
   "cell_type": "code",
   "execution_count": 228,
   "id": "4a6ba2c5-3173-45c4-93d9-e3b36663aa6c",
   "metadata": {},
   "outputs": [],
   "source": [
    "labels_aligned=np.take_along_axis(labels_all_perms, best_perm_idx[:, np.newaxis, np.newaxis], axis=-1).squeeze(axis=-1)#.shape"
   ]
  },
  {
   "cell_type": "code",
   "execution_count": null,
   "id": "2b2057c4-e3b2-4ae3-964b-f1f8a1978318",
   "metadata": {},
   "outputs": [],
   "source": []
  },
  {
   "cell_type": "code",
   "execution_count": 234,
   "id": "138a1871-59d3-4784-81cd-956848e89706",
   "metadata": {},
   "outputs": [
    {
     "data": {
      "text/plain": [
       "True"
      ]
     },
     "execution_count": 234,
     "metadata": {},
     "output_type": "execute_result"
    }
   ],
   "source": [
    "((labels_arr[best_perm_idx==1]+labels_aligned[best_perm_idx==1])==1).all()"
   ]
  },
  {
   "cell_type": "code",
   "execution_count": 227,
   "id": "d05fafde-716f-40e4-a758-be078faf0f0a",
   "metadata": {},
   "outputs": [
    {
     "data": {
      "text/plain": [
       "array([[1, 1, 1, ..., 1, 1, 1],\n",
       "       [0, 0, 0, ..., 1, 1, 1],\n",
       "       [1, 1, 1, ..., 0, 0, 0],\n",
       "       ...,\n",
       "       [1, 1, 1, ..., 1, 1, 1],\n",
       "       [1, 1, 1, ..., 1, 1, 1],\n",
       "       [1, 1, 1, ..., 0, 0, 0]], dtype=int32)"
      ]
     },
     "execution_count": 227,
     "metadata": {},
     "output_type": "execute_result"
    }
   ],
   "source": [
    "labels_arr"
   ]
  },
  {
   "cell_type": "code",
   "execution_count": null,
   "id": "5dc10d13-a0ce-4c36-826c-9528218ee256",
   "metadata": {},
   "outputs": [],
   "source": []
  },
  {
   "cell_type": "code",
   "execution_count": null,
   "id": "84d08a22-0cac-4bce-ad42-6be8b7a86f37",
   "metadata": {},
   "outputs": [],
   "source": []
  },
  {
   "cell_type": "code",
   "execution_count": null,
   "id": "4eb343ca-f468-47b8-abd4-d415255950aa",
   "metadata": {},
   "outputs": [],
   "source": []
  },
  {
   "cell_type": "code",
   "execution_count": 172,
   "id": "bb6fff5f-d02a-4cbe-9609-68f4495a2cc7",
   "metadata": {},
   "outputs": [],
   "source": [
    "# def align_labels_proba_by_accuracy(Zs_true, labels_, proba_):\n",
    "#     \"\"\"\n",
    "#     In a clustering problem, any permutation of the labels is a vaid clustering result. \n",
    "#     we find the best permutation for each trial. Here best refers to the highest accuracy.\n",
    "    \n",
    "#     Parameters:\n",
    "#     ---------------------\n",
    "#     labels: arr of shape (n_t, n_s)\n",
    "#     \"\"\"\n",
    "#     n_c = proba_.shape[-1]\n",
    "#     all_perms = generate_all_perms_as_arr(n_c)\n",
    "#     labels_all_perms = [labels_]\n",
    "\n",
    "#     for perm in all_perms:\n",
    "#         labels_permuted = labels_.copy()\n",
    "#         for i in range(n_c): # permute\n",
    "#             labels_permuted[labels_==i] = perm[i]\n",
    "#         labels_all_perms.append(labels_permuted.copy())\n",
    "#     labels_all_perms = np.stack(labels_all_perms, axis=-1)\n",
    "#     acc_all_perms = scorer_batch(accuracy_score, Zs_true, labels_all_perms, has_params=True) # of shape (n_t, n_p)\n",
    "#     best_perm = acc_all_perms.argmax(-1)\n",
    "    \n",
    "#     return best_perm"
   ]
  },
  {
   "cell_type": "code",
   "execution_count": 192,
   "id": "281f5814-5d6a-4484-afb3-6f1db8d560d9",
   "metadata": {},
   "outputs": [],
   "source": [
    "xx = random_state.randn(2, 4, 3)"
   ]
  },
  {
   "cell_type": "code",
   "execution_count": 193,
   "id": "e14f1efc-6a28-41da-9f8d-b48f4f315ede",
   "metadata": {},
   "outputs": [],
   "source": [
    "ind = np.array([[0, 2, 1], [2, 0, 1]])"
   ]
  },
  {
   "cell_type": "code",
   "execution_count": null,
   "id": "f6937610-e405-41ea-b4e3-3bf23150b472",
   "metadata": {},
   "outputs": [],
   "source": []
  },
  {
   "cell_type": "code",
   "execution_count": 196,
   "id": "2d5a2b74-0e2e-4a0f-95c3-0ce6148b9d1a",
   "metadata": {},
   "outputs": [
    {
     "data": {
      "text/plain": [
       "array([[[ 0.33452309, -0.90386939, -0.27593472],\n",
       "        [ 0.07379354, -0.00494645,  1.71452041],\n",
       "        [-0.4580803 , -1.56095892,  0.89393175],\n",
       "        [ 1.19976071,  0.21477518, -1.35711167]],\n",
       "\n",
       "       [[ 0.42631307,  0.60415032, -0.48270287],\n",
       "        [-0.27934218,  0.35805394,  2.0956007 ],\n",
       "        [ 1.00258809, -1.62195909, -0.27029894],\n",
       "        [-0.17738506,  0.7011757 ,  0.17225113]]])"
      ]
     },
     "execution_count": 196,
     "metadata": {},
     "output_type": "execute_result"
    }
   ],
   "source": [
    "xx[np.arange(2)[:, np.newaxis, np.newaxis], np.arange(4)[np.newaxis, :,  np.newaxis], ind[:, np.newaxis, :]] #np.repeat(ind[:, np.newaxis, :], 4, axis=1)"
   ]
  },
  {
   "cell_type": "code",
   "execution_count": 195,
   "id": "472b1210-20b4-4566-861c-6314df15b0dc",
   "metadata": {},
   "outputs": [
    {
     "data": {
      "text/plain": [
       "array([[[ 0.33452309, -0.27593472, -0.90386939],\n",
       "        [ 0.07379354,  1.71452041, -0.00494645],\n",
       "        [-0.4580803 ,  0.89393175, -1.56095892],\n",
       "        [ 1.19976071, -1.35711167,  0.21477518]],\n",
       "\n",
       "       [[ 0.60415032, -0.48270287,  0.42631307],\n",
       "        [ 0.35805394,  2.0956007 , -0.27934218],\n",
       "        [-1.62195909, -0.27029894,  1.00258809],\n",
       "        [ 0.7011757 ,  0.17225113, -0.17738506]]])"
      ]
     },
     "execution_count": 195,
     "metadata": {},
     "output_type": "execute_result"
    }
   ],
   "source": [
    "xx"
   ]
  },
  {
   "cell_type": "code",
   "execution_count": null,
   "id": "270dd0b2-6b83-474c-9c6e-91a617c3a924",
   "metadata": {},
   "outputs": [],
   "source": []
  },
  {
   "cell_type": "code",
   "execution_count": 183,
   "id": "301c4bcf-85dd-41d9-a73c-d6782c061871",
   "metadata": {},
   "outputs": [
    {
     "data": {
      "text/plain": [
       "array([[ 0.31997435, -0.0393219 ,  1.51422095],\n",
       "       [-1.8734129 , -0.85630588,  0.7394201 ]])"
      ]
     },
     "execution_count": 183,
     "metadata": {},
     "output_type": "execute_result"
    }
   ],
   "source": [
    "xx"
   ]
  },
  {
   "cell_type": "code",
   "execution_count": 184,
   "id": "81aa37dd-70b9-48f9-b057-8d2c4848c134",
   "metadata": {},
   "outputs": [
    {
     "data": {
      "text/plain": [
       "array([[0, 2, 1],\n",
       "       [2, 0, 1]])"
      ]
     },
     "execution_count": 184,
     "metadata": {},
     "output_type": "execute_result"
    }
   ],
   "source": [
    "ind"
   ]
  },
  {
   "cell_type": "code",
   "execution_count": 187,
   "id": "2ff79665-509b-4573-8bf2-649811525c61",
   "metadata": {},
   "outputs": [
    {
     "data": {
      "text/plain": [
       "array([[ 0.31997435,  1.51422095, -0.0393219 ],\n",
       "       [ 0.7394201 , -1.8734129 , -0.85630588]])"
      ]
     },
     "execution_count": 187,
     "metadata": {},
     "output_type": "execute_result"
    }
   ],
   "source": [
    "xx[np.arange(2)[:, np.newaxis], ind]"
   ]
  },
  {
   "cell_type": "code",
   "execution_count": null,
   "id": "ba46d619-7346-40a5-befa-791afbeca05c",
   "metadata": {},
   "outputs": [],
   "source": []
  },
  {
   "cell_type": "code",
   "execution_count": null,
   "id": "a0c5ee69-6ed6-408d-86b8-ffc81269d51f",
   "metadata": {},
   "outputs": [],
   "source": []
  },
  {
   "cell_type": "code",
   "execution_count": null,
   "id": "5758f04a-95ea-4cfd-a5af-20f305b55a85",
   "metadata": {},
   "outputs": [],
   "source": []
  },
  {
   "cell_type": "code",
   "execution_count": 181,
   "id": "87af9996-437c-4239-a05d-90b41ad50cfe",
   "metadata": {},
   "outputs": [
    {
     "data": {
      "text/plain": [
       "(2, 4, 3)"
      ]
     },
     "execution_count": 181,
     "metadata": {},
     "output_type": "execute_result"
    }
   ],
   "source": [
    "np.repeat(ind[:, np.newaxis, :], 4, axis=1).shape"
   ]
  },
  {
   "cell_type": "code",
   "execution_count": 179,
   "id": "c0d3a064-c03a-4dcc-9259-27282fcead02",
   "metadata": {},
   "outputs": [
    {
     "ename": "IndexError",
     "evalue": "index 2 is out of bounds for axis 0 with size 2",
     "output_type": "error",
     "traceback": [
      "\u001b[0;31m---------------------------------------------------------------------------\u001b[0m",
      "\u001b[0;31mIndexError\u001b[0m                                Traceback (most recent call last)",
      "Cell \u001b[0;32mIn[179], line 1\u001b[0m\n\u001b[0;32m----> 1\u001b[0m \u001b[43mxx\u001b[49m\u001b[43m[\u001b[49m\u001b[43mnp\u001b[49m\u001b[38;5;241;43m.\u001b[39;49m\u001b[43mrepeat\u001b[49m\u001b[43m(\u001b[49m\u001b[43mind\u001b[49m\u001b[43m[\u001b[49m\u001b[43m:\u001b[49m\u001b[43m,\u001b[49m\u001b[43m \u001b[49m\u001b[43mnp\u001b[49m\u001b[38;5;241;43m.\u001b[39;49m\u001b[43mnewaxis\u001b[49m\u001b[43m,\u001b[49m\u001b[43m \u001b[49m\u001b[43m:\u001b[49m\u001b[43m]\u001b[49m\u001b[43m,\u001b[49m\u001b[43m \u001b[49m\u001b[38;5;241;43m4\u001b[39;49m\u001b[43m,\u001b[49m\u001b[43m \u001b[49m\u001b[43maxis\u001b[49m\u001b[38;5;241;43m=\u001b[39;49m\u001b[38;5;241;43m1\u001b[39;49m\u001b[43m)\u001b[49m\u001b[43m]\u001b[49m\n",
      "\u001b[0;31mIndexError\u001b[0m: index 2 is out of bounds for axis 0 with size 2"
     ]
    }
   ],
   "source": [
    "xx[np.repeat(ind[:, np.newaxis, :], 4, axis=1)]"
   ]
  },
  {
   "cell_type": "code",
   "execution_count": null,
   "id": "0c845fa4-79dc-4dd8-b93a-c46d65c41283",
   "metadata": {},
   "outputs": [],
   "source": []
  },
  {
   "cell_type": "code",
   "execution_count": 173,
   "id": "12ade3a3-1613-42a9-8dcc-4ea0bb7fd8c6",
   "metadata": {},
   "outputs": [
    {
     "data": {
      "text/plain": [
       "array([1, 0, 1, 0, 0, 0, 0, 1, 0, 1, 0, 0, 0, 1, 0, 1, 1, 1, 1, 0, 0, 0,\n",
       "       0, 0, 0, 1, 0, 1, 1, 1, 1, 0])"
      ]
     },
     "execution_count": 173,
     "metadata": {},
     "output_type": "execute_result"
    }
   ],
   "source": [
    "align_labels_by_accuracy(Zs, labels_arr, n_c)"
   ]
  },
  {
   "cell_type": "code",
   "execution_count": 162,
   "id": "a71602a8-1563-4c0f-8fb8-be94ef1c583e",
   "metadata": {},
   "outputs": [],
   "source": [
    "best_perm = align_labels_by_accuracy(Zs, labels_arr, n_c)\n",
    "# labels_all_perms = align_labels_by_accuracy(Zs, labels_arr, 2)"
   ]
  },
  {
   "cell_type": "code",
   "execution_count": 163,
   "id": "8314083c-b66f-43f0-9604-8d92a1f2d4a4",
   "metadata": {},
   "outputs": [
    {
     "data": {
      "text/plain": [
       "array([[0.094, 0.906],\n",
       "       [0.966, 0.034],\n",
       "       [0.013, 0.987],\n",
       "       [0.963, 0.037],\n",
       "       [0.86 , 0.14 ],\n",
       "       [0.985, 0.015],\n",
       "       [0.936, 0.064],\n",
       "       [0.012, 0.988],\n",
       "       [0.865, 0.135],\n",
       "       [0.017, 0.983],\n",
       "       [0.995, 0.005],\n",
       "       [0.943, 0.057],\n",
       "       [0.946, 0.054],\n",
       "       [0.127, 0.873],\n",
       "       [0.874, 0.126],\n",
       "       [0.015, 0.985],\n",
       "       [0.07 , 0.93 ],\n",
       "       [0.018, 0.982],\n",
       "       [0.026, 0.974],\n",
       "       [0.99 , 0.01 ],\n",
       "       [0.958, 0.042],\n",
       "       [0.99 , 0.01 ],\n",
       "       [0.959, 0.041],\n",
       "       [0.984, 0.016],\n",
       "       [0.985, 0.015],\n",
       "       [0.   , 1.   ],\n",
       "       [0.841, 0.159],\n",
       "       [0.008, 0.992],\n",
       "       [0.016, 0.984],\n",
       "       [0.006, 0.994],\n",
       "       [0.01 , 0.99 ],\n",
       "       [0.971, 0.029]])"
      ]
     },
     "execution_count": 163,
     "metadata": {},
     "output_type": "execute_result"
    }
   ],
   "source": [
    "best_perm"
   ]
  },
  {
   "cell_type": "code",
   "execution_count": 160,
   "id": "620cb62a-8b17-4431-8e57-2efb0c5d080a",
   "metadata": {},
   "outputs": [
    {
     "data": {
      "text/plain": [
       "array([0.907, 0.033, 0.987, 0.039, 0.142, 0.016, 0.065, 0.988, 0.865,\n",
       "       0.984, 0.995, 0.059, 0.946, 0.127, 0.145, 0.985, 0.931, 0.983,\n",
       "       0.026, 0.011, 0.958, 0.99 , 0.042, 0.984, 0.016, 0.   , 0.985,\n",
       "       0.993, 0.016, 0.006, 0.99 , 0.971])"
      ]
     },
     "execution_count": 160,
     "metadata": {},
     "output_type": "execute_result"
    }
   ],
   "source": [
    "acc"
   ]
  },
  {
   "cell_type": "code",
   "execution_count": 123,
   "id": "8aa62668-c900-42cf-bd85-6d132c6cc58f",
   "metadata": {},
   "outputs": [
    {
     "data": {
      "text/plain": [
       "(32,)"
      ]
     },
     "execution_count": 123,
     "metadata": {},
     "output_type": "execute_result"
    }
   ],
   "source": [
    "labels_all_perms.shape"
   ]
  },
  {
   "cell_type": "code",
   "execution_count": null,
   "id": "5b62d947-064f-4f9e-ab5c-a20b590199a3",
   "metadata": {},
   "outputs": [],
   "source": []
  },
  {
   "cell_type": "code",
   "execution_count": null,
   "id": "2e060610-2069-4a3a-8422-da7b4a3e455d",
   "metadata": {},
   "outputs": [],
   "source": []
  },
  {
   "cell_type": "code",
   "execution_count": null,
   "id": "dfb4e4fb-7d0a-4080-ab8b-d988c3a92fc5",
   "metadata": {},
   "outputs": [],
   "source": []
  },
  {
   "cell_type": "code",
   "execution_count": null,
   "id": "94b41e5a-daf2-4ce7-9280-ccd2e54b0f70",
   "metadata": {},
   "outputs": [],
   "source": []
  },
  {
   "cell_type": "code",
   "execution_count": null,
   "id": "8653a1e3-beac-4319-8483-9a4539721585",
   "metadata": {},
   "outputs": [],
   "source": []
  },
  {
   "cell_type": "code",
   "execution_count": 105,
   "id": "db1aee83-ed82-416d-a484-ae5c511c7829",
   "metadata": {},
   "outputs": [],
   "source": [
    "all_perms = permutations(range(3))"
   ]
  },
  {
   "cell_type": "code",
   "execution_count": 107,
   "id": "3801fe0b-b345-47e3-8d15-66606db23036",
   "metadata": {},
   "outputs": [
    {
     "data": {
      "text/plain": [
       "(0, 1, 2)"
      ]
     },
     "execution_count": 107,
     "metadata": {},
     "output_type": "execute_result"
    }
   ],
   "source": [
    "next(all_perms)"
   ]
  },
  {
   "cell_type": "code",
   "execution_count": 108,
   "id": "f5e46373-7381-41be-9802-4fec2ecc9b08",
   "metadata": {},
   "outputs": [
    {
     "data": {
      "text/plain": [
       "[(0, 2, 1), (1, 0, 2), (1, 2, 0), (2, 0, 1), (2, 1, 0)]"
      ]
     },
     "execution_count": 108,
     "metadata": {},
     "output_type": "execute_result"
    }
   ],
   "source": [
    "list(all_perms)"
   ]
  },
  {
   "cell_type": "code",
   "execution_count": null,
   "id": "54b68434-293f-462f-8326-7622f8db1ed6",
   "metadata": {},
   "outputs": [],
   "source": []
  },
  {
   "cell_type": "code",
   "execution_count": null,
   "id": "fc31fa52-f6a9-4d5f-be40-7a4ec70718cf",
   "metadata": {},
   "outputs": [],
   "source": []
  },
  {
   "cell_type": "code",
   "execution_count": 104,
   "id": "7babbbc9-a560-47c8-ab9f-25aad1d88281",
   "metadata": {},
   "outputs": [
    {
     "data": {
      "text/plain": [
       "[(0, 1, 2), (0, 2, 1), (1, 0, 2), (1, 2, 0), (2, 0, 1), (2, 1, 0)]"
      ]
     },
     "execution_count": 104,
     "metadata": {},
     "output_type": "execute_result"
    }
   ],
   "source": [
    "list(permutations(range(3)))"
   ]
  },
  {
   "cell_type": "code",
   "execution_count": 28,
   "id": "b7a8189e-b039-4dbf-b8e5-1ee87aef2729",
   "metadata": {},
   "outputs": [
    {
     "data": {
      "text/html": [
       "<style>#sk-container-id-2 {color: black;background-color: white;}#sk-container-id-2 pre{padding: 0;}#sk-container-id-2 div.sk-toggleable {background-color: white;}#sk-container-id-2 label.sk-toggleable__label {cursor: pointer;display: block;width: 100%;margin-bottom: 0;padding: 0.3em;box-sizing: border-box;text-align: center;}#sk-container-id-2 label.sk-toggleable__label-arrow:before {content: \"▸\";float: left;margin-right: 0.25em;color: #696969;}#sk-container-id-2 label.sk-toggleable__label-arrow:hover:before {color: black;}#sk-container-id-2 div.sk-estimator:hover label.sk-toggleable__label-arrow:before {color: black;}#sk-container-id-2 div.sk-toggleable__content {max-height: 0;max-width: 0;overflow: hidden;text-align: left;background-color: #f0f8ff;}#sk-container-id-2 div.sk-toggleable__content pre {margin: 0.2em;color: black;border-radius: 0.25em;background-color: #f0f8ff;}#sk-container-id-2 input.sk-toggleable__control:checked~div.sk-toggleable__content {max-height: 200px;max-width: 100%;overflow: auto;}#sk-container-id-2 input.sk-toggleable__control:checked~label.sk-toggleable__label-arrow:before {content: \"▾\";}#sk-container-id-2 div.sk-estimator input.sk-toggleable__control:checked~label.sk-toggleable__label {background-color: #d4ebff;}#sk-container-id-2 div.sk-label input.sk-toggleable__control:checked~label.sk-toggleable__label {background-color: #d4ebff;}#sk-container-id-2 input.sk-hidden--visually {border: 0;clip: rect(1px 1px 1px 1px);clip: rect(1px, 1px, 1px, 1px);height: 1px;margin: -1px;overflow: hidden;padding: 0;position: absolute;width: 1px;}#sk-container-id-2 div.sk-estimator {font-family: monospace;background-color: #f0f8ff;border: 1px dotted black;border-radius: 0.25em;box-sizing: border-box;margin-bottom: 0.5em;}#sk-container-id-2 div.sk-estimator:hover {background-color: #d4ebff;}#sk-container-id-2 div.sk-parallel-item::after {content: \"\";width: 100%;border-bottom: 1px solid gray;flex-grow: 1;}#sk-container-id-2 div.sk-label:hover label.sk-toggleable__label {background-color: #d4ebff;}#sk-container-id-2 div.sk-serial::before {content: \"\";position: absolute;border-left: 1px solid gray;box-sizing: border-box;top: 0;bottom: 0;left: 50%;z-index: 0;}#sk-container-id-2 div.sk-serial {display: flex;flex-direction: column;align-items: center;background-color: white;padding-right: 0.2em;padding-left: 0.2em;position: relative;}#sk-container-id-2 div.sk-item {position: relative;z-index: 1;}#sk-container-id-2 div.sk-parallel {display: flex;align-items: stretch;justify-content: center;background-color: white;position: relative;}#sk-container-id-2 div.sk-item::before, #sk-container-id-2 div.sk-parallel-item::before {content: \"\";position: absolute;border-left: 1px solid gray;box-sizing: border-box;top: 0;bottom: 0;left: 50%;z-index: -1;}#sk-container-id-2 div.sk-parallel-item {display: flex;flex-direction: column;z-index: 1;position: relative;background-color: white;}#sk-container-id-2 div.sk-parallel-item:first-child::after {align-self: flex-end;width: 50%;}#sk-container-id-2 div.sk-parallel-item:last-child::after {align-self: flex-start;width: 50%;}#sk-container-id-2 div.sk-parallel-item:only-child::after {width: 0;}#sk-container-id-2 div.sk-dashed-wrapped {border: 1px dashed gray;margin: 0 0.4em 0.5em 0.4em;box-sizing: border-box;padding-bottom: 0.4em;background-color: white;}#sk-container-id-2 div.sk-label label {font-family: monospace;font-weight: bold;display: inline-block;line-height: 1.2em;}#sk-container-id-2 div.sk-label-container {text-align: center;}#sk-container-id-2 div.sk-container {/* jupyter's `normalize.less` sets `[hidden] { display: none; }` but bootstrap.min.css set `[hidden] { display: none !important; }` so we also need the `!important` here to be able to override the default hidden behavior on the sphinx rendered scikit-learn.org. See: https://github.com/scikit-learn/scikit-learn/issues/21755 */display: inline-block !important;position: relative;}#sk-container-id-2 div.sk-text-repr-fallback {display: none;}</style><div id=\"sk-container-id-2\" class=\"sk-top-container\"><div class=\"sk-text-repr-fallback\"><pre>jump_model(grid_size=0.02, jump_penalty=1000.0,\n",
       "           random_state=RandomState(MT19937) at 0x1079FEE40)</pre><b>In a Jupyter environment, please rerun this cell to show the HTML representation or trust the notebook. <br />On GitHub, the HTML representation is unable to render, please try loading this page with nbviewer.org.</b></div><div class=\"sk-container\" hidden><div class=\"sk-item\"><div class=\"sk-estimator sk-toggleable\"><input class=\"sk-toggleable__control sk-hidden--visually\" id=\"sk-estimator-id-2\" type=\"checkbox\" checked><label for=\"sk-estimator-id-2\" class=\"sk-toggleable__label sk-toggleable__label-arrow\">jump_model</label><div class=\"sk-toggleable__content\"><pre>jump_model(grid_size=0.02, jump_penalty=1000.0,\n",
       "           random_state=RandomState(MT19937) at 0x1079FEE40)</pre></div></div></div></div></div>"
      ],
      "text/plain": [
       "jump_model(grid_size=0.02, jump_penalty=1000.0,\n",
       "           random_state=RandomState(MT19937) at 0x1079FEE40)"
      ]
     },
     "execution_count": 28,
     "metadata": {},
     "output_type": "execute_result"
    }
   ],
   "source": [
    "model_cont_mode.fit(Xs[1])"
   ]
  },
  {
   "cell_type": "code",
   "execution_count": 52,
   "id": "d21f4983-ceeb-48f2-8f56-1d241ecc0038",
   "metadata": {},
   "outputs": [],
   "source": [
    "X, Z = Xs_raw[1][20:, 0], Zs[1]"
   ]
  },
  {
   "cell_type": "code",
   "execution_count": 55,
   "id": "0317e379-3062-4d5b-913e-92100d25d8f7",
   "metadata": {},
   "outputs": [
    {
     "data": {
      "text/plain": [
       "-0.0005728669792952882"
      ]
     },
     "execution_count": 55,
     "metadata": {},
     "output_type": "execute_result"
    }
   ],
   "source": [
    "X[Z==1].mean()"
   ]
  },
  {
   "cell_type": "code",
   "execution_count": 40,
   "id": "2a6c7972-66ad-4581-a3fb-57d0b26b7850",
   "metadata": {},
   "outputs": [
    {
     "data": {
      "text/plain": [
       "array([[ 0.00073126,  0.00938523,  0.00936263,  0.00069329,  0.00709878,\n",
       "         0.00066697,  0.00596211,  0.00071962,  0.00597843,  0.00062275,\n",
       "         0.00774752,  0.00056181,  0.00736689,  0.00068369,  0.00725888],\n",
       "       [-0.00082534,  0.02053406,  0.02057727, -0.00069956,  0.01542119,\n",
       "        -0.0005997 ,  0.01302674, -0.00079943,  0.01291568, -0.00057971,\n",
       "         0.01678036, -0.00049512,  0.01577277, -0.0006643 ,  0.01576505]])"
      ]
     },
     "execution_count": 40,
     "metadata": {},
     "output_type": "execute_result"
    }
   ],
   "source": [
    "model_cont_mode.centers_"
   ]
  },
  {
   "cell_type": "code",
   "execution_count": 64,
   "id": "a1c5c5ad-c9af-4cc0-bc54-3fede801a8a9",
   "metadata": {},
   "outputs": [],
   "source": [
    "proba_=model_cont_mode.proba_\n",
    "labels_ = proba_.argmax(axis=-1).astype(np.int32)"
   ]
  },
  {
   "cell_type": "code",
   "execution_count": null,
   "id": "df07471c-a99c-4dc2-bc7b-1fca1ee181df",
   "metadata": {},
   "outputs": [],
   "source": []
  },
  {
   "cell_type": "code",
   "execution_count": null,
   "id": "bdc5e7d1-e601-42c3-976c-b0425524f72e",
   "metadata": {},
   "outputs": [],
   "source": []
  },
  {
   "cell_type": "code",
   "execution_count": null,
   "id": "04effb48-8231-49a2-a8f2-4ceb5cbd3535",
   "metadata": {},
   "outputs": [],
   "source": []
  },
  {
   "cell_type": "code",
   "execution_count": null,
   "id": "90a720fb-309c-4396-8c14-c450fc93fdad",
   "metadata": {},
   "outputs": [],
   "source": []
  },
  {
   "cell_type": "code",
   "execution_count": null,
   "id": "75025f86-795f-46f0-b623-e82b131acecb",
   "metadata": {},
   "outputs": [],
   "source": []
  },
  {
   "cell_type": "code",
   "execution_count": 61,
   "id": "a07578a0-8fe6-4459-ac29-84cac4ae79c6",
   "metadata": {},
   "outputs": [],
   "source": [
    "X_feat = Xs[1]"
   ]
  },
  {
   "cell_type": "code",
   "execution_count": 62,
   "id": "4b45c99f-7c45-42d5-ac1c-7a80fcba8613",
   "metadata": {},
   "outputs": [
    {
     "data": {
      "text/plain": [
       "array([[ 0.00642934,  0.01310741,  0.00301724, ...,  0.01073042,\n",
       "         0.00550611,  0.01010821],\n",
       "       [ 0.00355489,  0.00287445,  0.01310741, ...,  0.01019238,\n",
       "         0.00732339,  0.00828638],\n",
       "       [-0.01137158,  0.01492646,  0.00287445, ...,  0.00961714,\n",
       "         0.00622623,  0.01000284],\n",
       "       ...,\n",
       "       [-0.00825768,  0.00723429,  0.00712813, ...,  0.00836968,\n",
       "        -0.00425244,  0.00463607],\n",
       "       [ 0.00100025,  0.00925794,  0.00723429, ...,  0.00784358,\n",
       "        -0.00454174,  0.00421716],\n",
       "       [ 0.00176006,  0.00075981,  0.00925794, ...,  0.00713427,\n",
       "        -0.00396878,  0.0047307 ]])"
      ]
     },
     "execution_count": 62,
     "metadata": {},
     "output_type": "execute_result"
    }
   ],
   "source": [
    "X_feat"
   ]
  },
  {
   "cell_type": "code",
   "execution_count": 59,
   "id": "555c62aa-4fdd-4566-8402-830ba8502d99",
   "metadata": {},
   "outputs": [
    {
     "data": {
      "text/plain": [
       "array([[0., 1.],\n",
       "       [0., 1.],\n",
       "       [0., 1.],\n",
       "       ...,\n",
       "       [1., 0.],\n",
       "       [1., 0.],\n",
       "       [1., 0.]])"
      ]
     },
     "execution_count": 59,
     "metadata": {},
     "output_type": "execute_result"
    }
   ],
   "source": [
    "proba_"
   ]
  },
  {
   "cell_type": "code",
   "execution_count": null,
   "id": "0c1fca6d-f426-43b6-9885-873880362195",
   "metadata": {},
   "outputs": [],
   "source": []
  },
  {
   "cell_type": "code",
   "execution_count": null,
   "id": "fb6aaccb-0ccb-40b1-bac8-4432584abafd",
   "metadata": {},
   "outputs": [],
   "source": []
  },
  {
   "cell_type": "code",
   "execution_count": null,
   "id": "c20df221-6189-4b66-bbde-192281f4d564",
   "metadata": {},
   "outputs": [],
   "source": []
  },
  {
   "cell_type": "code",
   "execution_count": null,
   "id": "77819f0c-5408-4d87-a35a-0cdbb4f069b4",
   "metadata": {},
   "outputs": [],
   "source": []
  },
  {
   "cell_type": "code",
   "execution_count": null,
   "id": "412e2612-9298-4889-9611-84166877d349",
   "metadata": {},
   "outputs": [],
   "source": []
  },
  {
   "cell_type": "code",
   "execution_count": null,
   "id": "ddd2e61d-7809-4b0f-acd9-11041715cf1d",
   "metadata": {},
   "outputs": [],
   "source": []
  },
  {
   "cell_type": "code",
   "execution_count": 29,
   "id": "2175ea5c-ca7d-4fce-a73b-797c5f4ec52a",
   "metadata": {},
   "outputs": [
    {
     "data": {
      "text/plain": [
       "0.511"
      ]
     },
     "execution_count": 29,
     "metadata": {},
     "output_type": "execute_result"
    }
   ],
   "source": [
    "accuracy_score(Zs[1], model_cont_mode.labels_)"
   ]
  },
  {
   "cell_type": "code",
   "execution_count": 27,
   "id": "b76ed63c-e587-4a71-b58b-c600cc948e6a",
   "metadata": {},
   "outputs": [
    {
     "data": {
      "text/plain": [
       "array([0.907, 0.033, 0.013, 0.963, 0.142, 0.016, 0.936, 0.012, 0.865,\n",
       "       0.017, 0.004, 0.943, 0.054, 0.874, 0.874, 0.984, 0.931, 0.983,\n",
       "       0.974, 0.011, 0.041, 0.011, 0.959, 0.984, 0.018, 0.   , 0.985,\n",
       "       0.993, 0.984, 0.006, 0.99 , 0.971])"
      ]
     },
     "execution_count": 27,
     "metadata": {},
     "output_type": "execute_result"
    }
   ],
   "source": [
    "acc"
   ]
  },
  {
   "cell_type": "code",
   "execution_count": null,
   "id": "feb127ec-e93d-44be-bfb5-3359c3a09534",
   "metadata": {},
   "outputs": [],
   "source": []
  },
  {
   "cell_type": "code",
   "execution_count": null,
   "id": "83430ff9-0e18-4a41-b93d-af457677d4b6",
   "metadata": {},
   "outputs": [],
   "source": []
  },
  {
   "cell_type": "code",
   "execution_count": null,
   "id": "490b8af1-3198-4a4c-9ca6-0f27fa15b612",
   "metadata": {},
   "outputs": [],
   "source": []
  },
  {
   "cell_type": "code",
   "execution_count": null,
   "id": "bee3d83b-fb2d-4e6f-a7e8-68714827ceb9",
   "metadata": {},
   "outputs": [],
   "source": []
  },
  {
   "cell_type": "code",
   "execution_count": null,
   "id": "9814b940-b84a-4954-b1a1-442852689f7e",
   "metadata": {},
   "outputs": [],
   "source": []
  },
  {
   "cell_type": "code",
   "execution_count": null,
   "id": "4025a26a-c940-47a1-af98-9096ddabe657",
   "metadata": {},
   "outputs": [],
   "source": []
  },
  {
   "cell_type": "code",
   "execution_count": null,
   "id": "53d2550b-8f9e-4415-987e-4fd9c11def0c",
   "metadata": {},
   "outputs": [],
   "source": []
  },
  {
   "cell_type": "code",
   "execution_count": null,
   "id": "1fe001a8-1d93-44bc-9cf2-65df0a40ad5d",
   "metadata": {},
   "outputs": [],
   "source": []
  },
  {
   "cell_type": "code",
   "execution_count": 21,
   "id": "b3657c3a-4ae3-4d73-a4ac-1556f25c05fd",
   "metadata": {},
   "outputs": [],
   "source": [
    "# def scorer_batch(scorer, Zs_true, Zs_pred, *args, has_params = False, idx_subset = None, **kwargs):\n",
    "#     \"\"\"\n",
    "#     compute scores for a batch of seqs, with possibly some hyparameters.\n",
    "    \n",
    "#     Parameters:\n",
    "#     --------------------------\n",
    "#     - scorer:\n",
    "    \n",
    "#     - Zs_true: array of size (n_t, n_s)\n",
    "    \n",
    "#     - Zs_pred: array of size (n_t, n_s), (n_t, n_s, *hyperparam_shape) (e.g. (n_t, n_s, 1)), or (n_t, n_s, n_c).\n",
    "#         dimensions of the hyperparams are assumed to be in the last few axes.\n",
    "#     - hyperparams_dim: \n",
    "#         number of hyperparams to tune. 0 means that there are no hyperparams.\n",
    "#     - idx_subset: \n",
    "#         indices of the trials to score. None means there is no need to subset.\n",
    "    \n",
    "#     Returns:\n",
    "#     --------------------------\n",
    "#     - scores_arr: array of size (n_t, n_s), (n_t, n_s, *hyperparam_shape).\n",
    "#     \"\"\"\n",
    "#     if idx_subset is None: # no need to sub-index\n",
    "#         if not has_params:  # no hyperparam\n",
    "#             return np.array([scorer(Z_true, Z_pred, *args, **kwargs) for Z_true, Z_pred in zip(Zs_true, Zs_pred)])\n",
    "#         else: # has hyperparams\n",
    "#             return np.stack([scorer_batch(scorer, Zs_true, Zs_pred[..., i_param], *args, **kwargs) for i_param in range(Zs_pred.shape[-1])], axis=-1)\n",
    "#     # need to subset\n",
    "#     n_t = len(Zs_true)\n",
    "#     scores_arr_subset = scorer_batch(scorer, Zs_true[idx_subset], Zs_pred[idx_subset], *args, has_params = has_params, **kwargs)\n",
    "#     scores_arr = np.full((n_t,) + scores_arr_subset.shape[1:], np.nan)\n",
    "#     scores_arr[idx_subset] = scores_arr_subset\n",
    "#     return scores_arr"
   ]
  },
  {
   "cell_type": "code",
   "execution_count": null,
   "id": "294b0475-3b14-4950-b564-d187254dbdfd",
   "metadata": {},
   "outputs": [],
   "source": []
  },
  {
   "cell_type": "code",
   "execution_count": null,
   "id": "db891264-e7fb-4ee8-a8f4-5519df3e0856",
   "metadata": {},
   "outputs": [],
   "source": []
  },
  {
   "cell_type": "code",
   "execution_count": 14,
   "id": "b1ba2da6-38e4-40a2-9a4d-ca939fa10ca2",
   "metadata": {},
   "outputs": [],
   "source": [
    "def train_one_model_one_data_batch_params(model, Xs, param_grid):\n",
    "    \"\"\"\n",
    "    train a model, on a batch of training data.\n",
    "    \n",
    "    Parameters:\n",
    "    -----------------------------\n",
    "    model:\n",
    "    \n",
    "    Xs: array of shape (n_t, n_s, n_f)\n",
    "    \n",
    "    Returns:\n",
    "    ----------------------------\n",
    "    labels_: (n_t, n_s)\n",
    "    \n",
    "    proba_: (n_t, n_s, n_c)\n",
    "    \"\"\"\n",
    "    PG = ParameterGrid(param_grid)\n",
    "    labels_arr_list, proba_arr_list = [], []\n",
    "    for param_ in tqdm(PG):\n",
    "        model.set_params(**param_)\n",
    "        proba_arr, labels_arr = train_one_model_one_data_batch(model, Xs)\n",
    "        proba_arr_list.append(proba_arr)\n",
    "        labels_arr_list.append(labels_arr)\n",
    "    return np.stack(proba_arr_list, axis=-1), np.stack(labels_arr_list, axis=-1)"
   ]
  },
  {
   "cell_type": "code",
   "execution_count": null,
   "id": "9909c2ed-fa85-45d1-b8c7-0e5ebb9e1e38",
   "metadata": {},
   "outputs": [],
   "source": []
  },
  {
   "cell_type": "code",
   "execution_count": null,
   "id": "29dbccb8-992c-47a0-b14f-aa280043ced8",
   "metadata": {},
   "outputs": [],
   "source": []
  },
  {
   "cell_type": "code",
   "execution_count": null,
   "id": "724a778c-cee7-4b9f-b09f-f6dd5c02641c",
   "metadata": {},
   "outputs": [],
   "source": []
  },
  {
   "cell_type": "code",
   "execution_count": null,
   "id": "25f691c0-2fd2-41ae-92c9-4970eb0b42e9",
   "metadata": {},
   "outputs": [],
   "source": []
  },
  {
   "cell_type": "code",
   "execution_count": 93,
   "id": "8635e38c-d27e-467e-873b-c370476ad111",
   "metadata": {},
   "outputs": [],
   "source": [
    "lambd_list = 10 ** np.linspace(-4, 4, 5)\n",
    "param_grid = {'jump_penalty': lambd_list}"
   ]
  },
  {
   "cell_type": "code",
   "execution_count": 103,
   "id": "d44324cf-0d4c-4b23-90f9-828ad6eadb34",
   "metadata": {},
   "outputs": [
    {
     "name": "stderr",
     "output_type": "stream",
     "text": [
      "100%|██████████████████████████████████████████████████████████████████████████████████████████████████████████████████████████████████████████████████████| 5/5 [00:01<00:00,  2.64it/s]\n"
     ]
    }
   ],
   "source": [
    "proba_arr_, labels_arr_ = train_one_model_one_data_batch_params(model_cont_mode, Xs[:2], param_grid)"
   ]
  },
  {
   "cell_type": "code",
   "execution_count": 100,
   "id": "9afb0cb5-28f3-4c7e-8ff8-cf31d07e233b",
   "metadata": {},
   "outputs": [],
   "source": [
    "proba_arr, labels_arr = train_one_model_one_data_batch(model_cont_mode, Xs[:32])"
   ]
  },
  {
   "cell_type": "code",
   "execution_count": 101,
   "id": "f404d4dc-3256-42c2-9ddc-aeb5911a7e2b",
   "metadata": {},
   "outputs": [
    {
     "data": {
      "text/plain": [
       "(32, 1000, 2)"
      ]
     },
     "execution_count": 101,
     "metadata": {},
     "output_type": "execute_result"
    }
   ],
   "source": [
    "proba_arr.shape"
   ]
  },
  {
   "cell_type": "code",
   "execution_count": 102,
   "id": "28dd343b-f95b-4f69-a29c-6114aab0fe0c",
   "metadata": {},
   "outputs": [
    {
     "data": {
      "text/plain": [
       "(32, 1000)"
      ]
     },
     "execution_count": 102,
     "metadata": {},
     "output_type": "execute_result"
    }
   ],
   "source": [
    "labels_arr.shape"
   ]
  },
  {
   "cell_type": "code",
   "execution_count": 104,
   "id": "ead4efd9-d41d-4994-9552-a0956557c0ec",
   "metadata": {},
   "outputs": [
    {
     "data": {
      "text/plain": [
       "(2, 1000, 2, 5)"
      ]
     },
     "execution_count": 104,
     "metadata": {},
     "output_type": "execute_result"
    }
   ],
   "source": [
    "proba_arr_.shape"
   ]
  },
  {
   "cell_type": "code",
   "execution_count": 105,
   "id": "32c2fa4c-f0f5-4dc2-bc6b-323c5372191f",
   "metadata": {},
   "outputs": [
    {
     "data": {
      "text/plain": [
       "(2, 1000, 5)"
      ]
     },
     "execution_count": 105,
     "metadata": {},
     "output_type": "execute_result"
    }
   ],
   "source": [
    "labels_arr_.shape"
   ]
  },
  {
   "cell_type": "code",
   "execution_count": null,
   "id": "cc9a6906-26f7-4736-8c77-3fec4cd4776b",
   "metadata": {},
   "outputs": [],
   "source": []
  },
  {
   "cell_type": "code",
   "execution_count": null,
   "id": "19af9117-5c1a-46db-b5a2-9214fe653bc3",
   "metadata": {},
   "outputs": [],
   "source": []
  },
  {
   "cell_type": "code",
   "execution_count": 78,
   "id": "73a5091d-57c2-40e6-8c0d-57ada6b288dc",
   "metadata": {},
   "outputs": [],
   "source": [
    "proba_arr, labels_arr = train_one_model_one_data_batch(model_discrete, Xs[:32])"
   ]
  },
  {
   "cell_type": "code",
   "execution_count": 81,
   "id": "313162b5-96df-4a65-aafd-dec293945bed",
   "metadata": {},
   "outputs": [],
   "source": [
    "proba_arr, labels_arr = train_one_model_one_data_batch(model_cont_mode, Xs[:32])"
   ]
  },
  {
   "cell_type": "code",
   "execution_count": null,
   "id": "892b2b10-7b71-48a1-9859-3892f2197adc",
   "metadata": {},
   "outputs": [],
   "source": []
  },
  {
   "cell_type": "code",
   "execution_count": null,
   "id": "869f13c2-73a0-459b-8b77-b4cecae24276",
   "metadata": {},
   "outputs": [],
   "source": []
  },
  {
   "cell_type": "code",
   "execution_count": null,
   "id": "bd87bbae-f197-4a46-8903-b743e362aa12",
   "metadata": {},
   "outputs": [],
   "source": []
  },
  {
   "cell_type": "code",
   "execution_count": 80,
   "id": "4849b0e2-4cf4-44c8-bbbd-d9ab5808f155",
   "metadata": {},
   "outputs": [
    {
     "data": {
      "text/plain": [
       "True"
      ]
     },
     "execution_count": 80,
     "metadata": {},
     "output_type": "execute_result"
    }
   ],
   "source": [
    "np.isclose(labels_arr, proba_arr[:, :, 1]).all()"
   ]
  },
  {
   "cell_type": "code",
   "execution_count": null,
   "id": "7f46d2e9-9037-48c2-a4d7-1116705a0d5d",
   "metadata": {},
   "outputs": [],
   "source": []
  },
  {
   "cell_type": "code",
   "execution_count": null,
   "id": "47ad3e61-06a9-4f37-8c74-50bd92ef09b4",
   "metadata": {},
   "outputs": [],
   "source": []
  },
  {
   "cell_type": "code",
   "execution_count": null,
   "id": "2a9a685c-f4cb-4116-83c6-e71735ea9453",
   "metadata": {},
   "outputs": [],
   "source": []
  },
  {
   "cell_type": "code",
   "execution_count": null,
   "id": "ac2233b7-dae1-492e-931a-ef0bb1f8221d",
   "metadata": {},
   "outputs": [],
   "source": []
  },
  {
   "cell_type": "code",
   "execution_count": 62,
   "id": "59144e3b-f8ca-4577-8949-1c3792103bd7",
   "metadata": {},
   "outputs": [
    {
     "data": {
      "text/plain": [
       "(32, 1000)"
      ]
     },
     "execution_count": 62,
     "metadata": {},
     "output_type": "execute_result"
    }
   ],
   "source": [
    "labels_arr.shape"
   ]
  },
  {
   "cell_type": "code",
   "execution_count": null,
   "id": "7e5d68b1-63e8-48cc-8853-ba6e66aab7e6",
   "metadata": {},
   "outputs": [],
   "source": []
  },
  {
   "cell_type": "code",
   "execution_count": null,
   "id": "384e504d-32b6-4a95-943e-8b2181a124af",
   "metadata": {},
   "outputs": [],
   "source": []
  },
  {
   "cell_type": "code",
   "execution_count": 58,
   "id": "681aa416-bef4-4023-a06a-0ab099836951",
   "metadata": {},
   "outputs": [
    {
     "data": {
      "text/plain": [
       "(1024, 1000, 15)"
      ]
     },
     "execution_count": 58,
     "metadata": {},
     "output_type": "execute_result"
    }
   ],
   "source": [
    "Xs.shape"
   ]
  },
  {
   "cell_type": "code",
   "execution_count": null,
   "id": "da621151-103e-470a-a22e-41a369e0278f",
   "metadata": {},
   "outputs": [],
   "source": []
  },
  {
   "cell_type": "code",
   "execution_count": 15,
   "id": "aa003f85-5e38-46a1-9b22-e0fc7ccfa4ea",
   "metadata": {},
   "outputs": [
    {
     "data": {
      "text/html": [
       "<style>#sk-container-id-1 {color: black;background-color: white;}#sk-container-id-1 pre{padding: 0;}#sk-container-id-1 div.sk-toggleable {background-color: white;}#sk-container-id-1 label.sk-toggleable__label {cursor: pointer;display: block;width: 100%;margin-bottom: 0;padding: 0.3em;box-sizing: border-box;text-align: center;}#sk-container-id-1 label.sk-toggleable__label-arrow:before {content: \"▸\";float: left;margin-right: 0.25em;color: #696969;}#sk-container-id-1 label.sk-toggleable__label-arrow:hover:before {color: black;}#sk-container-id-1 div.sk-estimator:hover label.sk-toggleable__label-arrow:before {color: black;}#sk-container-id-1 div.sk-toggleable__content {max-height: 0;max-width: 0;overflow: hidden;text-align: left;background-color: #f0f8ff;}#sk-container-id-1 div.sk-toggleable__content pre {margin: 0.2em;color: black;border-radius: 0.25em;background-color: #f0f8ff;}#sk-container-id-1 input.sk-toggleable__control:checked~div.sk-toggleable__content {max-height: 200px;max-width: 100%;overflow: auto;}#sk-container-id-1 input.sk-toggleable__control:checked~label.sk-toggleable__label-arrow:before {content: \"▾\";}#sk-container-id-1 div.sk-estimator input.sk-toggleable__control:checked~label.sk-toggleable__label {background-color: #d4ebff;}#sk-container-id-1 div.sk-label input.sk-toggleable__control:checked~label.sk-toggleable__label {background-color: #d4ebff;}#sk-container-id-1 input.sk-hidden--visually {border: 0;clip: rect(1px 1px 1px 1px);clip: rect(1px, 1px, 1px, 1px);height: 1px;margin: -1px;overflow: hidden;padding: 0;position: absolute;width: 1px;}#sk-container-id-1 div.sk-estimator {font-family: monospace;background-color: #f0f8ff;border: 1px dotted black;border-radius: 0.25em;box-sizing: border-box;margin-bottom: 0.5em;}#sk-container-id-1 div.sk-estimator:hover {background-color: #d4ebff;}#sk-container-id-1 div.sk-parallel-item::after {content: \"\";width: 100%;border-bottom: 1px solid gray;flex-grow: 1;}#sk-container-id-1 div.sk-label:hover label.sk-toggleable__label {background-color: #d4ebff;}#sk-container-id-1 div.sk-serial::before {content: \"\";position: absolute;border-left: 1px solid gray;box-sizing: border-box;top: 0;bottom: 0;left: 50%;z-index: 0;}#sk-container-id-1 div.sk-serial {display: flex;flex-direction: column;align-items: center;background-color: white;padding-right: 0.2em;padding-left: 0.2em;position: relative;}#sk-container-id-1 div.sk-item {position: relative;z-index: 1;}#sk-container-id-1 div.sk-parallel {display: flex;align-items: stretch;justify-content: center;background-color: white;position: relative;}#sk-container-id-1 div.sk-item::before, #sk-container-id-1 div.sk-parallel-item::before {content: \"\";position: absolute;border-left: 1px solid gray;box-sizing: border-box;top: 0;bottom: 0;left: 50%;z-index: -1;}#sk-container-id-1 div.sk-parallel-item {display: flex;flex-direction: column;z-index: 1;position: relative;background-color: white;}#sk-container-id-1 div.sk-parallel-item:first-child::after {align-self: flex-end;width: 50%;}#sk-container-id-1 div.sk-parallel-item:last-child::after {align-self: flex-start;width: 50%;}#sk-container-id-1 div.sk-parallel-item:only-child::after {width: 0;}#sk-container-id-1 div.sk-dashed-wrapped {border: 1px dashed gray;margin: 0 0.4em 0.5em 0.4em;box-sizing: border-box;padding-bottom: 0.4em;background-color: white;}#sk-container-id-1 div.sk-label label {font-family: monospace;font-weight: bold;display: inline-block;line-height: 1.2em;}#sk-container-id-1 div.sk-label-container {text-align: center;}#sk-container-id-1 div.sk-container {/* jupyter's `normalize.less` sets `[hidden] { display: none; }` but bootstrap.min.css set `[hidden] { display: none !important; }` so we also need the `!important` here to be able to override the default hidden behavior on the sphinx rendered scikit-learn.org. See: https://github.com/scikit-learn/scikit-learn/issues/21755 */display: inline-block !important;position: relative;}#sk-container-id-1 div.sk-text-repr-fallback {display: none;}</style><div id=\"sk-container-id-1\" class=\"sk-top-container\"><div class=\"sk-text-repr-fallback\"><pre>jump_model(random_state=RandomState(MT19937) at 0x1095C1740,\n",
       "           state_type=&#x27;discrete&#x27;)</pre><b>In a Jupyter environment, please rerun this cell to show the HTML representation or trust the notebook. <br />On GitHub, the HTML representation is unable to render, please try loading this page with nbviewer.org.</b></div><div class=\"sk-container\" hidden><div class=\"sk-item\"><div class=\"sk-estimator sk-toggleable\"><input class=\"sk-toggleable__control sk-hidden--visually\" id=\"sk-estimator-id-1\" type=\"checkbox\" checked><label for=\"sk-estimator-id-1\" class=\"sk-toggleable__label sk-toggleable__label-arrow\">jump_model</label><div class=\"sk-toggleable__content\"><pre>jump_model(random_state=RandomState(MT19937) at 0x1095C1740,\n",
       "           state_type=&#x27;discrete&#x27;)</pre></div></div></div></div></div>"
      ],
      "text/plain": [
       "jump_model(random_state=RandomState(MT19937) at 0x1095C1740,\n",
       "           state_type='discrete')"
      ]
     },
     "execution_count": 15,
     "metadata": {},
     "output_type": "execute_result"
    }
   ],
   "source": [
    "model_discrete"
   ]
  },
  {
   "cell_type": "code",
   "execution_count": 16,
   "id": "3b2dd006-38f8-445c-a131-e8ef74f4030c",
   "metadata": {},
   "outputs": [
    {
     "ename": "AttributeError",
     "evalue": "'jump_model' object has no attribute 'labels_'",
     "output_type": "error",
     "traceback": [
      "\u001b[0;31m---------------------------------------------------------------------------\u001b[0m",
      "\u001b[0;31mAttributeError\u001b[0m                            Traceback (most recent call last)",
      "Cell \u001b[0;32mIn[16], line 1\u001b[0m\n\u001b[0;32m----> 1\u001b[0m \u001b[43mmodel_discrete\u001b[49m\u001b[38;5;241;43m.\u001b[39;49m\u001b[43mlabels_\u001b[49m\n",
      "\u001b[0;31mAttributeError\u001b[0m: 'jump_model' object has no attribute 'labels_'"
     ]
    }
   ],
   "source": [
    "model_discrete.labels_"
   ]
  },
  {
   "cell_type": "code",
   "execution_count": 20,
   "id": "72c3ad52-cc2f-4369-a4e0-d40dd8f29a35",
   "metadata": {},
   "outputs": [
    {
     "data": {
      "text/plain": [
       "True"
      ]
     },
     "execution_count": 20,
     "metadata": {},
     "output_type": "execute_result"
    }
   ],
   "source": [
    "hasattr(model_discrete, \"discrete\")"
   ]
  },
  {
   "cell_type": "code",
   "execution_count": 22,
   "id": "6ddfc352-25df-4a5c-b7f2-9f69df92cdf3",
   "metadata": {},
   "outputs": [],
   "source": [
    "key_data = \"daily_1000\"\n",
    "key_feat = \"zheng\"\n",
    "Xs = np.load(f\"{path_data}/X_{key_data}_{key_feat}.npy\")"
   ]
  },
  {
   "cell_type": "code",
   "execution_count": 23,
   "id": "4a4017b5-c95b-457e-b987-d8fb232ba79c",
   "metadata": {},
   "outputs": [],
   "source": [
    "X = Xs[0]"
   ]
  },
  {
   "cell_type": "code",
   "execution_count": null,
   "id": "be923e71-7d1d-439e-883b-3d00c4618e21",
   "metadata": {},
   "outputs": [],
   "source": []
  },
  {
   "cell_type": "code",
   "execution_count": null,
   "id": "106b7511-8056-4c04-986d-086ce7ebd934",
   "metadata": {},
   "outputs": [],
   "source": []
  },
  {
   "cell_type": "code",
   "execution_count": null,
   "id": "f930d387-7298-4f72-b2e0-86b073731ae3",
   "metadata": {},
   "outputs": [],
   "source": []
  },
  {
   "cell_type": "code",
   "execution_count": null,
   "id": "bb2c0ea1-ba06-4aa8-be35-f80864231211",
   "metadata": {},
   "outputs": [],
   "source": []
  },
  {
   "cell_type": "code",
   "execution_count": 35,
   "id": "acb79e75-d1b1-4a82-9b34-d39bb78ca26a",
   "metadata": {},
   "outputs": [
    {
     "data": {
      "text/html": [
       "<style>#sk-container-id-6 {color: black;background-color: white;}#sk-container-id-6 pre{padding: 0;}#sk-container-id-6 div.sk-toggleable {background-color: white;}#sk-container-id-6 label.sk-toggleable__label {cursor: pointer;display: block;width: 100%;margin-bottom: 0;padding: 0.3em;box-sizing: border-box;text-align: center;}#sk-container-id-6 label.sk-toggleable__label-arrow:before {content: \"▸\";float: left;margin-right: 0.25em;color: #696969;}#sk-container-id-6 label.sk-toggleable__label-arrow:hover:before {color: black;}#sk-container-id-6 div.sk-estimator:hover label.sk-toggleable__label-arrow:before {color: black;}#sk-container-id-6 div.sk-toggleable__content {max-height: 0;max-width: 0;overflow: hidden;text-align: left;background-color: #f0f8ff;}#sk-container-id-6 div.sk-toggleable__content pre {margin: 0.2em;color: black;border-radius: 0.25em;background-color: #f0f8ff;}#sk-container-id-6 input.sk-toggleable__control:checked~div.sk-toggleable__content {max-height: 200px;max-width: 100%;overflow: auto;}#sk-container-id-6 input.sk-toggleable__control:checked~label.sk-toggleable__label-arrow:before {content: \"▾\";}#sk-container-id-6 div.sk-estimator input.sk-toggleable__control:checked~label.sk-toggleable__label {background-color: #d4ebff;}#sk-container-id-6 div.sk-label input.sk-toggleable__control:checked~label.sk-toggleable__label {background-color: #d4ebff;}#sk-container-id-6 input.sk-hidden--visually {border: 0;clip: rect(1px 1px 1px 1px);clip: rect(1px, 1px, 1px, 1px);height: 1px;margin: -1px;overflow: hidden;padding: 0;position: absolute;width: 1px;}#sk-container-id-6 div.sk-estimator {font-family: monospace;background-color: #f0f8ff;border: 1px dotted black;border-radius: 0.25em;box-sizing: border-box;margin-bottom: 0.5em;}#sk-container-id-6 div.sk-estimator:hover {background-color: #d4ebff;}#sk-container-id-6 div.sk-parallel-item::after {content: \"\";width: 100%;border-bottom: 1px solid gray;flex-grow: 1;}#sk-container-id-6 div.sk-label:hover label.sk-toggleable__label {background-color: #d4ebff;}#sk-container-id-6 div.sk-serial::before {content: \"\";position: absolute;border-left: 1px solid gray;box-sizing: border-box;top: 0;bottom: 0;left: 50%;z-index: 0;}#sk-container-id-6 div.sk-serial {display: flex;flex-direction: column;align-items: center;background-color: white;padding-right: 0.2em;padding-left: 0.2em;position: relative;}#sk-container-id-6 div.sk-item {position: relative;z-index: 1;}#sk-container-id-6 div.sk-parallel {display: flex;align-items: stretch;justify-content: center;background-color: white;position: relative;}#sk-container-id-6 div.sk-item::before, #sk-container-id-6 div.sk-parallel-item::before {content: \"\";position: absolute;border-left: 1px solid gray;box-sizing: border-box;top: 0;bottom: 0;left: 50%;z-index: -1;}#sk-container-id-6 div.sk-parallel-item {display: flex;flex-direction: column;z-index: 1;position: relative;background-color: white;}#sk-container-id-6 div.sk-parallel-item:first-child::after {align-self: flex-end;width: 50%;}#sk-container-id-6 div.sk-parallel-item:last-child::after {align-self: flex-start;width: 50%;}#sk-container-id-6 div.sk-parallel-item:only-child::after {width: 0;}#sk-container-id-6 div.sk-dashed-wrapped {border: 1px dashed gray;margin: 0 0.4em 0.5em 0.4em;box-sizing: border-box;padding-bottom: 0.4em;background-color: white;}#sk-container-id-6 div.sk-label label {font-family: monospace;font-weight: bold;display: inline-block;line-height: 1.2em;}#sk-container-id-6 div.sk-label-container {text-align: center;}#sk-container-id-6 div.sk-container {/* jupyter's `normalize.less` sets `[hidden] { display: none; }` but bootstrap.min.css set `[hidden] { display: none !important; }` so we also need the `!important` here to be able to override the default hidden behavior on the sphinx rendered scikit-learn.org. See: https://github.com/scikit-learn/scikit-learn/issues/21755 */display: inline-block !important;position: relative;}#sk-container-id-6 div.sk-text-repr-fallback {display: none;}</style><div id=\"sk-container-id-6\" class=\"sk-top-container\"><div class=\"sk-text-repr-fallback\"><pre>jump_model(jump_penalty=100.0, random_state=RandomState(MT19937) at 0x1095C1740,\n",
       "           state_type=&#x27;discrete&#x27;)</pre><b>In a Jupyter environment, please rerun this cell to show the HTML representation or trust the notebook. <br />On GitHub, the HTML representation is unable to render, please try loading this page with nbviewer.org.</b></div><div class=\"sk-container\" hidden><div class=\"sk-item\"><div class=\"sk-estimator sk-toggleable\"><input class=\"sk-toggleable__control sk-hidden--visually\" id=\"sk-estimator-id-6\" type=\"checkbox\" checked><label for=\"sk-estimator-id-6\" class=\"sk-toggleable__label sk-toggleable__label-arrow\">jump_model</label><div class=\"sk-toggleable__content\"><pre>jump_model(jump_penalty=100.0, random_state=RandomState(MT19937) at 0x1095C1740,\n",
       "           state_type=&#x27;discrete&#x27;)</pre></div></div></div></div></div>"
      ],
      "text/plain": [
       "jump_model(jump_penalty=100.0, random_state=RandomState(MT19937) at 0x1095C1740,\n",
       "           state_type='discrete')"
      ]
     },
     "execution_count": 35,
     "metadata": {},
     "output_type": "execute_result"
    }
   ],
   "source": [
    "model_discrete.fit(X)"
   ]
  },
  {
   "cell_type": "code",
   "execution_count": 38,
   "id": "27510b5e-ef3d-4bae-b29b-1cc7424e4a40",
   "metadata": {},
   "outputs": [
    {
     "data": {
      "text/plain": [
       "True"
      ]
     },
     "execution_count": 38,
     "metadata": {},
     "output_type": "execute_result"
    }
   ],
   "source": [
    "model_discrete.proba_ is None"
   ]
  },
  {
   "cell_type": "code",
   "execution_count": null,
   "id": "5d521b50-e97d-404d-87bc-8ee8be242109",
   "metadata": {},
   "outputs": [],
   "source": []
  },
  {
   "cell_type": "code",
   "execution_count": null,
   "id": "f9a6d4af-cb74-4e4c-85ef-878f8e078ed2",
   "metadata": {},
   "outputs": [],
   "source": []
  },
  {
   "cell_type": "code",
   "execution_count": 5,
   "id": "183b64cf-fd68-4b38-9829-1c5cdbf50d7f",
   "metadata": {
    "tags": []
   },
   "outputs": [],
   "source": [
    "def fit_models(model, lambd_list, Xs_, fit_proba=False):\n",
    "    \"\"\"\n",
    "    fit models on different trials and lambds,\n",
    "    extract labels and proba (if exists)\n",
    "    \"\"\"\n",
    "    n_t, n_s, n_f = Xs_.shape\n",
    "    n_lambd = len(lambd_list)\n",
    "    labels_arr_ = np.empty((n_lambd, n_t, n_s), dtype=int)\n",
    "    if not fit_proba:\n",
    "        with tqdm(total=n_lambd * n_t) as pbar:\n",
    "            for i_lambd, lambd in enumerate(lambd_list):\n",
    "                model.set_params(jump_penalty=lambd)\n",
    "                for i_trial in range(n_t):\n",
    "                    _ = model.fit(Xs_[i_trial])\n",
    "                    labels_arr_[i_lambd][i_trial] = model.labels_\n",
    "                    pbar.update(1)\n",
    "        return labels_arr_, None\n",
    "    # fit_proba\n",
    "    proba_arr_ = np.empty((n_lambd, n_t, n_s)) \n",
    "    with tqdm(total=n_lambd * n_t) as pbar:\n",
    "        for i_lambd, lambd in enumerate(lambd_list):\n",
    "            model.set_params(jump_penalty=lambd)\n",
    "            for i_trial in range(n_t):\n",
    "                _ = model.fit(Xs_[i_trial])\n",
    "                proba_arr_[i_lambd][i_trial] = model.proba_[:, 1]        \n",
    "                pbar.update(1)\n",
    "    labels_arr_ = (proba_arr_>.5).astype(int)\n",
    "    return labels_arr_, proba_arr_"
   ]
  },
  {
   "cell_type": "code",
   "execution_count": 7,
   "id": "6e557791-bb24-44c0-9d23-8cdd6762235a",
   "metadata": {
    "tags": []
   },
   "outputs": [],
   "source": [
    "lambd_list = 10 ** np.linspace(-4, 4, 17)"
   ]
  },
  {
   "cell_type": "code",
   "execution_count": 8,
   "id": "83830da5-496a-4f62-8a7e-2829526ce482",
   "metadata": {
    "tags": []
   },
   "outputs": [],
   "source": [
    "n_t_try=n_t"
   ]
  },
  {
   "cell_type": "code",
   "execution_count": 9,
   "id": "51e8994e-66c0-4553-a948-14e6b32bb382",
   "metadata": {
    "tags": []
   },
   "outputs": [],
   "source": [
    "model_dict = {}"
   ]
  },
  {
   "cell_type": "markdown",
   "id": "47ab335a-c7d2-4627-b28c-b1a145898976",
   "metadata": {},
   "source": [
    "# Jump w/ mode loss"
   ]
  },
  {
   "cell_type": "code",
   "execution_count": 10,
   "id": "d28ac2d1-d4e8-4fee-a12c-f370a7ee77ba",
   "metadata": {
    "tags": []
   },
   "outputs": [],
   "source": [
    "model_name = \"cont_mode\"\n",
    "jump_cont_mode_loss = jump_model(n_components=2, state_type=\"cont\", grid_size=.02, mode_loss=True, random_state=random_state)\n",
    "model_dict[model_name] = jump_cont_mode_loss"
   ]
  },
  {
   "cell_type": "code",
   "execution_count": 11,
   "id": "268b4adf-44ea-4626-86d9-733fe50497a1",
   "metadata": {
    "tags": []
   },
   "outputs": [
    {
     "name": "stderr",
     "output_type": "stream",
     "text": [
      "100%|█████████████████████████████████████| 17000/17000 [12:47<00:00, 22.15it/s]\n",
      "100%|█████████████████████████████████████| 17000/17000 [29:47<00:00,  9.51it/s]\n",
      "100%|███████████████████████████████████| 17000/17000 [1:08:28<00:00,  4.14it/s]\n"
     ]
    }
   ],
   "source": [
    "for key in key_list[-3:]:\n",
    "    Xs_feat = np.load(f\"{path_data}/X_feat_zheng_{key}.npy\")\n",
    "    labels_arr, proba_arr = fit_models(model_dict[model_name], lambd_list, Xs_feat[:n_t_try], fit_proba=True)\n",
    "    np.save(f\"{path_estimation}/labels_{model_name}_zheng_feat_{key}.npy\", labels_arr)\n",
    "    np.save(f\"{path_estimation}/proba_{model_name}_zheng_feat_{key}.npy\", proba_arr)"
   ]
  },
  {
   "cell_type": "code",
   "execution_count": null,
   "id": "a15dc44d-f9c5-4131-9c63-eba389531749",
   "metadata": {},
   "outputs": [],
   "source": []
  }
 ],
 "metadata": {
  "kernelspec": {
   "display_name": "Python 3 (ipykernel)",
   "language": "python",
   "name": "python3"
  },
  "language_info": {
   "codemirror_mode": {
    "name": "ipython",
    "version": 3
   },
   "file_extension": ".py",
   "mimetype": "text/x-python",
   "name": "python",
   "nbconvert_exporter": "python",
   "pygments_lexer": "ipython3",
   "version": "3.11.0"
  }
 },
 "nbformat": 4,
 "nbformat_minor": 5
}
