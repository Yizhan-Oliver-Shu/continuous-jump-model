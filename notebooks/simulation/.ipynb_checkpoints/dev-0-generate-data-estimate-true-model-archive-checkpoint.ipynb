{
 "cells": [
  {
   "cell_type": "code",
   "execution_count": 1,
   "id": "3b82d6ed-1bca-46eb-81e3-91c70bf7c5fb",
   "metadata": {
    "tags": []
   },
   "outputs": [],
   "source": [
    "%load_ext autoreload\n",
    "%autoreload 2\n",
    "import sys, os\n",
    "from os.path import expanduser\n",
    "## actions required!!!!!!!!!!!!!!!!!!!! change your folder path \n",
    "path = expanduser(\"~/Documents/G3_2/regime-identification\")\n",
    "sys.path.append(path)\n",
    "\n",
    "path_file = expanduser(\"~/data/G3_2/regime-identification/simulation\")\n",
    "path_data = f\"{path_file}/data\"\n",
    "path_estimation = f\"{path_file}/estimation\"\n",
    "path_score = f\"{path_file}/score\"\n",
    "path_figure = f\"{path_file}/figure\""
   ]
  },
  {
   "cell_type": "code",
   "execution_count": 2,
   "id": "46d65ded-9cd0-429b-9568-e7b0d5fb6746",
   "metadata": {
    "tags": []
   },
   "outputs": [],
   "source": [
    "import numpy as np\n",
    "from sklearn.metrics import roc_auc_score\n",
    "from itertools import product\n",
    "\n",
    "from numpy.random import RandomState\n",
    "random_state = RandomState(0)"
   ]
  },
  {
   "cell_type": "code",
   "execution_count": 3,
   "id": "7d7f863c-1c14-48bc-be92-13c96d4302cd",
   "metadata": {
    "tags": []
   },
   "outputs": [],
   "source": [
    "from regime.simulation_helper import *"
   ]
  },
  {
   "cell_type": "markdown",
   "id": "41a70b13-94fc-4b44-a66e-bac479db887f",
   "metadata": {
    "jp-MarkdownHeadingCollapsed": true,
    "tags": []
   },
   "source": [
    "# 0-generate-data-estimate-true-model\n",
    "\n",
    "In this notebook we systematically generate the simulation data, estimate the labels and probability by the true HMM model, and score them. "
   ]
  },
  {
   "cell_type": "markdown",
   "id": "74cd5a64-8018-4c23-8165-a14d2f5be227",
   "metadata": {},
   "source": [
    "# 2-state models: 9 combinations\n",
    "\n",
    "- scale: We use the parameters estimated in the classical Hardy's paper, and convert into three scales: **daily, weekly, monthly**, with decreasing persistency.\n",
    "- length: We simulate seqs of different length: 250, 500, 1000.\n",
    "\n",
    "For each combo, we simulate `n_t=1000` seqs. The data in each combo are saved in a batch, thus in the shape of `(n_t, n_s, n_f)`. Also since we need to do feature engineering, every seq is 20 periods longer."
   ]
  },
  {
   "cell_type": "markdown",
   "id": "37c6028f-9843-49a9-9a3d-127767f0de58",
   "metadata": {},
   "source": [
    "## data generation & true model estimation"
   ]
  },
  {
   "cell_type": "code",
   "execution_count": 4,
   "id": "1a5fcf73-d489-4219-be4d-79496bd5a60d",
   "metadata": {
    "tags": []
   },
   "outputs": [],
   "source": [
    "scale_lst = [\"daily\", \"weekly\", \"monthly\"]\n",
    "n_s_lst = [250, 500, 1000]\n",
    "key_data_list = [f\"{scale}_{n_s}\" for scale in scale_lst for n_s in n_s_lst]\n",
    "\n",
    "n_t, n_buffer = 1024, 20"
   ]
  },
  {
   "cell_type": "code",
   "execution_count": 5,
   "id": "92386364-06af-4029-b92a-af74830fb994",
   "metadata": {
    "tags": []
   },
   "outputs": [
    {
     "name": "stderr",
     "output_type": "stream",
     "text": [
      "100%|██████████████████████████████████████████████████████████████████████████████████████████████████████████████████████████████████████████████████████████████████████████████████████████████████████████████████████████████████████| 1024/1024 [00:08<00:00, 124.69it/s]\n"
     ]
    },
    {
     "name": "stdout",
     "output_type": "stream",
     "text": [
      "shape of the saved Xs raw: (1024, 270, 1).\n",
      "shape of the saved Xs: (1024, 250, 1).\n",
      "shape of the saved Zs: (1024, 250).\n",
      "shape of the saved model params: (1024, 6).\n",
      "shape of the saved labels: (1024, 250).\n",
      "shape of the saved proba: (1024, 250, 2).\n"
     ]
    },
    {
     "name": "stderr",
     "output_type": "stream",
     "text": [
      "100%|███████████████████████████████████████████████████████████████████████████████████████████████████████████████████████████████████████████████████████████████████████████████████████████████████████████████████████████████████████| 1024/1024 [00:15<00:00, 64.43it/s]\n"
     ]
    },
    {
     "name": "stdout",
     "output_type": "stream",
     "text": [
      "shape of the saved Xs raw: (1024, 520, 1).\n",
      "shape of the saved Xs: (1024, 500, 1).\n",
      "shape of the saved Zs: (1024, 500).\n",
      "shape of the saved model params: (1024, 6).\n",
      "shape of the saved labels: (1024, 500).\n",
      "shape of the saved proba: (1024, 500, 2).\n"
     ]
    },
    {
     "name": "stderr",
     "output_type": "stream",
     "text": [
      "100%|███████████████████████████████████████████████████████████████████████████████████████████████████████████████████████████████████████████████████████████████████████████████████████████████████████████████████████████████████████| 1024/1024 [00:31<00:00, 32.86it/s]\n"
     ]
    },
    {
     "name": "stdout",
     "output_type": "stream",
     "text": [
      "shape of the saved Xs raw: (1024, 1020, 1).\n",
      "shape of the saved Xs: (1024, 1000, 1).\n",
      "shape of the saved Zs: (1024, 1000).\n",
      "shape of the saved model params: (1024, 6).\n",
      "shape of the saved labels: (1024, 1000).\n",
      "shape of the saved proba: (1024, 1000, 2).\n"
     ]
    },
    {
     "name": "stderr",
     "output_type": "stream",
     "text": [
      "100%|██████████████████████████████████████████████████████████████████████████████████████████████████████████████████████████████████████████████████████████████████████████████████████████████████████████████████████████████████████| 1024/1024 [00:08<00:00, 123.38it/s]\n"
     ]
    },
    {
     "name": "stdout",
     "output_type": "stream",
     "text": [
      "shape of the saved Xs raw: (1024, 270, 1).\n",
      "shape of the saved Xs: (1024, 250, 1).\n",
      "shape of the saved Zs: (1024, 250).\n",
      "shape of the saved model params: (1024, 6).\n",
      "shape of the saved labels: (1024, 250).\n",
      "shape of the saved proba: (1024, 250, 2).\n"
     ]
    },
    {
     "name": "stderr",
     "output_type": "stream",
     "text": [
      "100%|███████████████████████████████████████████████████████████████████████████████████████████████████████████████████████████████████████████████████████████████████████████████████████████████████████████████████████████████████████| 1024/1024 [00:16<00:00, 63.93it/s]\n"
     ]
    },
    {
     "name": "stdout",
     "output_type": "stream",
     "text": [
      "shape of the saved Xs raw: (1024, 520, 1).\n",
      "shape of the saved Xs: (1024, 500, 1).\n",
      "shape of the saved Zs: (1024, 500).\n",
      "shape of the saved model params: (1024, 6).\n",
      "shape of the saved labels: (1024, 500).\n",
      "shape of the saved proba: (1024, 500, 2).\n"
     ]
    },
    {
     "name": "stderr",
     "output_type": "stream",
     "text": [
      "100%|███████████████████████████████████████████████████████████████████████████████████████████████████████████████████████████████████████████████████████████████████████████████████████████████████████████████████████████████████████| 1024/1024 [00:31<00:00, 32.54it/s]\n"
     ]
    },
    {
     "name": "stdout",
     "output_type": "stream",
     "text": [
      "shape of the saved Xs raw: (1024, 1020, 1).\n",
      "shape of the saved Xs: (1024, 1000, 1).\n",
      "shape of the saved Zs: (1024, 1000).\n",
      "shape of the saved model params: (1024, 6).\n",
      "shape of the saved labels: (1024, 1000).\n",
      "shape of the saved proba: (1024, 1000, 2).\n"
     ]
    },
    {
     "name": "stderr",
     "output_type": "stream",
     "text": [
      "100%|██████████████████████████████████████████████████████████████████████████████████████████████████████████████████████████████████████████████████████████████████████████████████████████████████████████████████████████████████████| 1024/1024 [00:08<00:00, 121.74it/s]\n"
     ]
    },
    {
     "name": "stdout",
     "output_type": "stream",
     "text": [
      "shape of the saved Xs raw: (1024, 270, 1).\n",
      "shape of the saved Xs: (1024, 250, 1).\n",
      "shape of the saved Zs: (1024, 250).\n",
      "shape of the saved model params: (1024, 6).\n",
      "shape of the saved labels: (1024, 250).\n",
      "shape of the saved proba: (1024, 250, 2).\n"
     ]
    },
    {
     "name": "stderr",
     "output_type": "stream",
     "text": [
      "100%|███████████████████████████████████████████████████████████████████████████████████████████████████████████████████████████████████████████████████████████████████████████████████████████████████████████████████████████████████████| 1024/1024 [00:16<00:00, 62.59it/s]\n"
     ]
    },
    {
     "name": "stdout",
     "output_type": "stream",
     "text": [
      "shape of the saved Xs raw: (1024, 520, 1).\n",
      "shape of the saved Xs: (1024, 500, 1).\n",
      "shape of the saved Zs: (1024, 500).\n",
      "shape of the saved model params: (1024, 6).\n",
      "shape of the saved labels: (1024, 500).\n",
      "shape of the saved proba: (1024, 500, 2).\n"
     ]
    },
    {
     "name": "stderr",
     "output_type": "stream",
     "text": [
      "100%|███████████████████████████████████████████████████████████████████████████████████████████████████████████████████████████████████████████████████████████████████████████████████████████████████████████████████████████████████████| 1024/1024 [00:31<00:00, 32.21it/s]\n"
     ]
    },
    {
     "name": "stdout",
     "output_type": "stream",
     "text": [
      "shape of the saved Xs raw: (1024, 1020, 1).\n",
      "shape of the saved Xs: (1024, 1000, 1).\n",
      "shape of the saved Zs: (1024, 1000).\n",
      "shape of the saved model params: (1024, 6).\n",
      "shape of the saved labels: (1024, 1000).\n",
      "shape of the saved proba: (1024, 1000, 2).\n"
     ]
    }
   ],
   "source": [
    "key_feat, key_model = \"HMM\", \"true\"\n",
    "\n",
    "for scale in scale_lst:\n",
    "    # get a true HMM model\n",
    "    hmm_true = get_GaussianHMM_model(*load_hardy_params(scale), random_state=random_state)\n",
    "    for n_s in n_s_lst:\n",
    "        # generate key for data\n",
    "        key_data = f\"{scale}_{n_s}\"\n",
    "        # simulate Xs, Zs.\n",
    "        Xs, Zs = sample_from_model(hmm_true, n_trials=n_t, n_samples=n_s+n_buffer)\n",
    "        np_save_print(f\"{path_data}/Xs_{key_data}_raw.npy\", Xs, \"Xs raw\")\n",
    "        Xs, Zs = Xs[:, -n_s:], Zs[:, -n_s:]\n",
    "        np_save_print(f\"{path_data}/Xs_{key_data}_HMM.npy\", Xs, \"Xs\")\n",
    "        np_save_print(f\"{path_data}/Zs_{key_data}.npy\", Zs, \"Zs\") \n",
    "        # estimate by the true HMM model.\n",
    "        model_params_arr, labels_arr, proba_arr = model_true_fit_batch(hmm_true, Xs)\n",
    "        # save estimation results\n",
    "        save_estimation_results(model_params_arr, labels_arr, proba_arr, path_estimation, key_data, key_feat, key_model)"
   ]
  },
  {
   "cell_type": "markdown",
   "id": "18e0fd82-bfaa-429c-964d-82b55541332e",
   "metadata": {
    "tags": []
   },
   "source": [
    "## scoring & summary"
   ]
  },
  {
   "cell_type": "code",
   "execution_count": 10,
   "id": "692c1e6c-7849-453c-aa37-c5c95c318547",
   "metadata": {
    "tags": []
   },
   "outputs": [],
   "source": [
    "def score_and_summary_models(key_data_list, key_feat_list, key_model_list):\n",
    "    \"\"\"\n",
    "    score and summary models.\n",
    "    \"\"\"\n",
    "    for key_data in key_data_list:\n",
    "        # true labels\n",
    "        Zs = np.load(f\"{path_data}/Zs_{key_data}.npy\")\n",
    "        n_c = len(np.unique(Zs))\n",
    "        for key_feat, key_model in product(key_feat_list, key_model_list):\n",
    "            key = f\"{key_data}_{key_feat}_{key_model}\"\n",
    "            # load estimation results\n",
    "            labels_arr, proba_arr = np.load(f\"{path_estimation}/labels_{key}.npy\"), np.load(f\"{path_estimation}/proba_{key}.npy\")\n",
    "            # scoring\n",
    "            acc_arr = scorer_batch(accuracy_each_cluster, Zs, labels_arr, n_c)\n",
    "            roc_auc_arr = scorer_batch(roc_auc_score, Zs, proba_arr[..., 1], idx=True)\n",
    "            # save scores\n",
    "            np_save_print(f\"{path_score}/acc_{key}.npy\", acc_arr, \"accuracy score\")\n",
    "            np_save_print(f\"{path_score}/roc_auc_{key}.npy\", roc_auc_arr, \"roc auc score\")\n",
    "            # load model params\n",
    "            model_params_arr = np.load(f\"{path_estimation}/model_params_{key}.npy\")\n",
    "            "
   ]
  },
  {
   "cell_type": "code",
   "execution_count": 19,
   "id": "bf2cc95a-1858-433c-9312-d492f1e8ca5e",
   "metadata": {
    "tags": []
   },
   "outputs": [
    {
     "data": {
      "text/plain": [
       "'daily_250_HMM_true'"
      ]
     },
     "execution_count": 19,
     "metadata": {},
     "output_type": "execute_result"
    }
   ],
   "source": [
    "key = f\"{key_data}_{key_feat}_{key_model}\"\n",
    "model_params_arr = np.load(f\"{path_estimation}/model_params_{key}.npy\")\n",
    "key"
   ]
  },
  {
   "cell_type": "code",
   "execution_count": 106,
   "id": "c310408e-01bf-4945-a278-b686e974abdd",
   "metadata": {
    "tags": []
   },
   "outputs": [
    {
     "name": "stdout",
     "output_type": "stream",
     "text": [
      "{}\n"
     ]
    }
   ],
   "source": [
    "print(f\"{{}}\")"
   ]
  },
  {
   "cell_type": "code",
   "execution_count": 108,
   "id": "0b96e9a7-1e64-4986-9336-537b59e6998d",
   "metadata": {
    "tags": []
   },
   "outputs": [],
   "source": [
    "def generate_off_diagonal_idx(n_c):\n",
    "    res = []\n",
    "    for i, j in product(range(1, n_c+1), repeat=2):\n",
    "        if i != j:\n",
    "            res.append(f\"{i}{j}\")\n",
    "    return res\n",
    "\n",
    "def generate_summary_index(n_c):\n",
    "    index=[]\n",
    "    index += [f\"$\\mu_{i}$\" for i in range(1, n_c+1)]\n",
    "    index += [f\"$\\sigma_{i}$\" for i in range(1, n_c+1)]\n",
    "    index += [f\"$\\gamma_{{{ij}}}$\" for ij in generate_off_diagonal_idx(n_c)]\n",
    "    return index"
   ]
  },
  {
   "cell_type": "code",
   "execution_count": 71,
   "id": "631a074d-2c6f-40e8-b78c-4b6036e88bac",
   "metadata": {
    "tags": []
   },
   "outputs": [],
   "source": [
    "def compute_acc_mean_std(acc_arr):\n",
    "    \"\"\"\n",
    "    compute the mean/std of accuracy per class and balanced accuracy.\n",
    "    \n",
    "    Parameters:\n",
    "    ----------------------------------\n",
    "    acc_arr: size (n_s, n_c)\n",
    "        the accuracy of k-th class in n-th trial.\n",
    "        \n",
    "    Returns:\n",
    "    ----------------------------------\n",
    "    acc_mean,\n",
    "    \n",
    "    acc_std\n",
    "    \"\"\"\n",
    "    n_c = acc_arr.shape[1]\n",
    "    acc_df = pd.DataFrame(acc_arr, columns=[f\"Accuracy {i}\" for i in range(1, n_c+1)])\n",
    "    # mean\n",
    "    acc_mean = acc_df.mean()\n",
    "    acc_mean[\"BAC\"] = acc_mean.mean()\n",
    "    # std\n",
    "    acc_std = acc_df.std()\n",
    "    acc_cov = acc_df.cov()\n",
    "    vec = np.repeat(1/n_c, n_c)\n",
    "    acc_std[\"BAC\"] = np.sqrt(vec @ (acc_cov.to_numpy() @ vec))\n",
    "    # acc_std.index = [name + \" std\" for name in acc_std.index]\n",
    "    return acc_mean, acc_std   #, BAC_mean, BAC_std"
   ]
  },
  {
   "cell_type": "code",
   "execution_count": 78,
   "id": "81f46f2d-2927-44c6-a0b0-56ac0fc29033",
   "metadata": {
    "tags": []
   },
   "outputs": [],
   "source": [
    "def get_summary_ser(model_params_arr, acc_arr, roc_auc_arr):\n",
    "    \"\"\"\n",
    "    get summary ser for the estimation results of a model\n",
    "    \"\"\"\n",
    "    n_c = acc_arr.shape[1]\n",
    "    index = generate_summary_index(n_c)\n",
    "    model_params_df = pd.DataFrame(model_params_arr, columns=index)\n",
    "    model_params_mean = model_params_df.mean()\n",
    "    model_params_std = model_params_df.std()\n",
    "    model_params_std.iloc[np.isclose(model_params_std, 0)] = 0\n",
    "    # model_params_std = model_params_std.mask(model_params_std<1e-10, 0)    \n",
    "    \n",
    "    # acc\n",
    "    acc_mean, acc_std = compute_acc_mean_std(acc_arr)\n",
    "    # roc auc\n",
    "    roc_auc_df = pd.DataFrame(roc_auc_arr, columns=['ROC-AUC'])\n",
    "    roc_auc_mean, roc_auc_std = roc_auc_df.mean(), roc_auc_df.std()\n",
    "    means = pd.concat([model_params_mean, acc_mean, roc_auc_mean])\n",
    "    stds = pd.concat([model_params_std, acc_std, roc_auc_std])\n",
    "    stds.index = [name + \" std\" for name in stds.index]\n",
    "    return pd.concat([means, stds])"
   ]
  },
  {
   "cell_type": "code",
   "execution_count": 80,
   "id": "434f5cf3-c4a5-4343-a9ac-3059da8a7cca",
   "metadata": {
    "tags": []
   },
   "outputs": [],
   "source": [
    "from sklearn.model_selection import ParameterGrid"
   ]
  },
  {
   "cell_type": "code",
   "execution_count": 81,
   "id": "c73576c3-c2c2-4b67-81d3-63a91df68e21",
   "metadata": {
    "tags": []
   },
   "outputs": [],
   "source": [
    "PG = ParameterGrid({\"lambd\": [.1, 10.], \"w\":[3, 5]})"
   ]
  },
  {
   "cell_type": "code",
   "execution_count": 83,
   "id": "43b46c4c-c50a-4844-94da-25b54d88f560",
   "metadata": {
    "tags": []
   },
   "outputs": [
    {
     "data": {
      "text/plain": [
       "{'w': 3, 'lambd': 0.1}"
      ]
     },
     "execution_count": 83,
     "metadata": {},
     "output_type": "execute_result"
    }
   ],
   "source": [
    "PG[0]"
   ]
  },
  {
   "cell_type": "code",
   "execution_count": null,
   "id": "a7de130a-c184-46d9-9de2-9e82558daa98",
   "metadata": {},
   "outputs": [],
   "source": []
  },
  {
   "cell_type": "code",
   "execution_count": null,
   "id": "a1fe71fc-872e-457f-8480-2607b4bc6f6e",
   "metadata": {},
   "outputs": [],
   "source": []
  },
  {
   "cell_type": "code",
   "execution_count": 116,
   "id": "89cabdaf-94e9-4646-8f77-97822b5614e6",
   "metadata": {
    "tags": []
   },
   "outputs": [],
   "source": [
    "def get_summary_df_params(model_params_arr, acc_arr, roc_auc_arr, PG):\n",
    "    \"\"\"\n",
    "    get summary df for the estimation results of a model w/ hyperparams\n",
    "    \"\"\"\n",
    "    n_l = len(PG)\n",
    "    summary_df = pd.concat([get_summary_ser(model_params_arr[..., i], acc_arr[..., i], roc_auc_arr[..., i]) for i in range(n_l)], axis=1).T\n",
    "    summary_df.insert(0, \"hyperparam\", PG)\n",
    "    return summary_df"
   ]
  },
  {
   "cell_type": "code",
   "execution_count": 94,
   "id": "bbb12c98-da77-4a1e-a9c6-ffb2f8455bf3",
   "metadata": {
    "tags": []
   },
   "outputs": [],
   "source": [
    "def repeat_arr(arr, num):\n",
    "    return np.repeat(arr[...,np.newaxis], num, -1)"
   ]
  },
  {
   "cell_type": "code",
   "execution_count": 95,
   "id": "da2a771c-fce8-4ddb-9e3d-8d8dbb5795ac",
   "metadata": {
    "tags": []
   },
   "outputs": [
    {
     "data": {
      "text/plain": [
       "(1024, 6, 4)"
      ]
     },
     "execution_count": 95,
     "metadata": {},
     "output_type": "execute_result"
    }
   ],
   "source": [
    "repeat_arr(model_params_arr, 4).shape"
   ]
  },
  {
   "cell_type": "code",
   "execution_count": 137,
   "id": "a0006288-5e12-40b5-96d0-a8e609db47df",
   "metadata": {
    "tags": []
   },
   "outputs": [],
   "source": [
    "summary_df = get_summary_df_params(repeat_arr(model_params_arr, 4), repeat_arr(acc_arr, 4), repeat_arr(roc_auc_arr, 4), PG).T"
   ]
  },
  {
   "cell_type": "code",
   "execution_count": 133,
   "id": "45c58acc-eb67-4f06-ba13-6965147e53db",
   "metadata": {
    "tags": []
   },
   "outputs": [],
   "source": [
    "import pandas as pd\n",
    "\n",
    "# create a sample dataframe\n",
    "df = pd.DataFrame({'Model': ['Model A', 'Model B', 'Model C'],\n",
    "                   'Accuracy': [0.90, 0.92, 0.88],\n",
    "                   'Precision': [0.91, 0.93, 0.89],\n",
    "                   'Recall': [0.92, 0.94, 0.90]})\n",
    "\n",
    "# set the index to be the Model column\n",
    "df.set_index('Model', inplace=True)\n",
    "\n",
    "# apply formatting to the dataframe using pandas.DataFrame.style method\n",
    "styled_df = df.style#.background_gradient()"
   ]
  },
  {
   "cell_type": "code",
   "execution_count": 134,
   "id": "790f8b6d-3fc3-47c9-84fe-8cb5c232cf38",
   "metadata": {
    "tags": []
   },
   "outputs": [
    {
     "data": {
      "text/plain": [
       "pandas.io.formats.style.Styler"
      ]
     },
     "execution_count": 134,
     "metadata": {},
     "output_type": "execute_result"
    }
   ],
   "source": [
    "type(styled_df)"
   ]
  },
  {
   "cell_type": "code",
   "execution_count": 135,
   "id": "d9ddffc5-51cb-4843-94a0-c06e66215572",
   "metadata": {
    "tags": []
   },
   "outputs": [],
   "source": [
    "import dataframe_image as dfi "
   ]
  },
  {
   "cell_type": "code",
   "execution_count": 144,
   "id": "c9658b4c-bdd9-4bf2-9f04-81ea1803c146",
   "metadata": {
    "tags": []
   },
   "outputs": [],
   "source": [
    "import imgkit\n",
    "\n"
   ]
  },
  {
   "cell_type": "code",
   "execution_count": 145,
   "id": "04d1645b-2748-4302-b819-5162230af7fc",
   "metadata": {
    "tags": []
   },
   "outputs": [
    {
     "name": "stdout",
     "output_type": "stream",
     "text": [
      "Loading page (1/2)\n",
      "Rendering (2/2)                                                    \n",
      "Done                                                               \n"
     ]
    },
    {
     "data": {
      "text/plain": [
       "True"
      ]
     },
     "execution_count": 145,
     "metadata": {},
     "output_type": "execute_result"
    }
   ],
   "source": [
    "imgkit.from_url('http://google.com', 'out.jpg')\n",
    "imgkit.from_file('test.html', 'out.jpg')\n",
    "imgkit.from_string('Hello!', 'out.jpg')"
   ]
  },
  {
   "cell_type": "code",
   "execution_count": 146,
   "id": "58ec5aa8-2a9d-4062-8e8e-57c52d1e4b9f",
   "metadata": {
    "tags": []
   },
   "outputs": [
    {
     "name": "stdout",
     "output_type": "stream",
     "text": [
      "Loading page (1/2)\n",
      "Rendering (2/2)                                                    \n",
      "Done                                                               \n"
     ]
    },
    {
     "data": {
      "text/plain": [
       "True"
      ]
     },
     "execution_count": 146,
     "metadata": {},
     "output_type": "execute_result"
    }
   ],
   "source": [
    "imgkit.from_string(summary_df.style.to_html(), 'summary.jpeg')"
   ]
  },
  {
   "cell_type": "code",
   "execution_count": 151,
   "id": "0213ab06-1f18-43bb-b0bd-966df506231e",
   "metadata": {
    "tags": []
   },
   "outputs": [
    {
     "data": {
      "text/plain": [
       "\"\\\\begin{tabular}{lllll}\\n & 0 & 1 & 2 & 3 \\\\\\\\\\nhyperparam & {'lambd': 0.1, 'w': 3} & {'lambd': 0.1, 'w': 5} & {'lambd': 10.0, 'w': 3} & {'lambd': 10.0, 'w': 5} \\\\\\\\\\n$\\\\mu_1$ & 0.000615 & 0.000615 & 0.000615 & 0.000615 \\\\\\\\\\n$\\\\mu_2$ & -0.000785 & -0.000785 & -0.000785 & -0.000785 \\\\\\\\\\n$\\\\sigma_1$ & 0.007759 & 0.007759 & 0.007759 & 0.007759 \\\\\\\\\\n$\\\\sigma_2$ & 0.017397 & 0.017397 & 0.017397 & 0.017397 \\\\\\\\\\n$\\\\gamma_{12}$ & 0.002116 & 0.002116 & 0.002116 & 0.002116 \\\\\\\\\\n$\\\\gamma_{21}$ & 0.011982 & 0.011982 & 0.011982 & 0.011982 \\\\\\\\\\nAccuracy 1 & 0.989162 & 0.989162 & 0.989162 & 0.989162 \\\\\\\\\\nAccuracy 2 & 0.860320 & 0.860320 & 0.860320 & 0.860320 \\\\\\\\\\nBAC & 0.924741 & 0.924741 & 0.924741 & 0.924741 \\\\\\\\\\nROC-AUC & 0.992278 & 0.992278 & 0.992278 & 0.992278 \\\\\\\\\\n$\\\\mu_1$ std & 0.000000 & 0.000000 & 0.000000 & 0.000000 \\\\\\\\\\n$\\\\mu_2$ std & 0.000000 & 0.000000 & 0.000000 & 0.000000 \\\\\\\\\\n$\\\\sigma_1$ std & 0.000000 & 0.000000 & 0.000000 & 0.000000 \\\\\\\\\\n$\\\\sigma_2$ std & 0.000000 & 0.000000 & 0.000000 & 0.000000 \\\\\\\\\\n$\\\\gamma_{12}$ std & 0.000000 & 0.000000 & 0.000000 & 0.000000 \\\\\\\\\\n$\\\\gamma_{21}$ std & 0.000000 & 0.000000 & 0.000000 & 0.000000 \\\\\\\\\\nAccuracy 1 std std & 0.079449 & 0.079449 & 0.079449 & 0.079449 \\\\\\\\\\nAccuracy 2 std std & 0.274427 & 0.274427 & 0.274427 & 0.274427 \\\\\\\\\\nBAC std std & 0.138061 & 0.138061 & 0.138061 & 0.138061 \\\\\\\\\\nROC-AUC std & 0.045641 & 0.045641 & 0.045641 & 0.045641 \\\\\\\\\\n\\\\end{tabular}\\n\""
      ]
     },
     "execution_count": 151,
     "metadata": {},
     "output_type": "execute_result"
    }
   ],
   "source": [
    "summary_df.style.to_latex()"
   ]
  },
  {
   "cell_type": "code",
   "execution_count": null,
   "id": "839c46e8-6afe-48ae-b23d-6e5a246306c7",
   "metadata": {},
   "outputs": [],
   "source": []
  },
  {
   "cell_type": "code",
   "execution_count": null,
   "id": "4370f000-fb36-4dd8-a18d-36abf1147096",
   "metadata": {},
   "outputs": [],
   "source": []
  },
  {
   "cell_type": "code",
   "execution_count": 127,
   "id": "94c38d4b-2aaa-4309-8974-efb62aa9a258",
   "metadata": {
    "tags": []
   },
   "outputs": [
    {
     "name": "stdout",
     "output_type": "stream",
     "text": [
      "\\begin{tabular}{lrrr}\n",
      " & Accuracy & Precision & Recall \\\\\n",
      "Model &  &  &  \\\\\n",
      "Model A & 0.900000 & 0.910000 & 0.920000 \\\\\n",
      "Model B & 0.920000 & 0.930000 & 0.940000 \\\\\n",
      "Model C & 0.880000 & 0.890000 & 0.900000 \\\\\n",
      "\\end{tabular}\n",
      "\n"
     ]
    }
   ],
   "source": [
    "print(styled_df.to_latex())"
   ]
  },
  {
   "cell_type": "code",
   "execution_count": 129,
   "id": "54083964-d286-4ad7-a7b7-a71e8f2de8a0",
   "metadata": {
    "tags": []
   },
   "outputs": [
    {
     "ename": "AttributeError",
     "evalue": "'Styler' object has no attribute 'to_image'",
     "output_type": "error",
     "traceback": [
      "\u001b[0;31m---------------------------------------------------------------------------\u001b[0m",
      "\u001b[0;31mAttributeError\u001b[0m                            Traceback (most recent call last)",
      "Cell \u001b[0;32mIn[129], line 2\u001b[0m\n\u001b[1;32m      1\u001b[0m \u001b[38;5;66;03m# save the styled dataframe as a PNG file\u001b[39;00m\n\u001b[0;32m----> 2\u001b[0m \u001b[43mstyled_df\u001b[49m\u001b[38;5;241;43m.\u001b[39;49m\u001b[43mto_image\u001b[49m(\u001b[38;5;124m'\u001b[39m\u001b[38;5;124mperformance_metrics.png\u001b[39m\u001b[38;5;124m'\u001b[39m)\n",
      "\u001b[0;31mAttributeError\u001b[0m: 'Styler' object has no attribute 'to_image'"
     ]
    }
   ],
   "source": [
    "# save the styled dataframe as a PNG file\n",
    "styled_df.to_image('performance_metrics.png')"
   ]
  },
  {
   "cell_type": "code",
   "execution_count": null,
   "id": "40177441-8cb9-42da-865a-8822ba8a58d5",
   "metadata": {},
   "outputs": [],
   "source": []
  },
  {
   "cell_type": "code",
   "execution_count": null,
   "id": "4015afe7-a557-4b95-a499-98c854b8f686",
   "metadata": {},
   "outputs": [],
   "source": []
  },
  {
   "cell_type": "code",
   "execution_count": 120,
   "id": "8cf9664c-0f07-4c3d-a0aa-c8bc70ccee80",
   "metadata": {
    "tags": []
   },
   "outputs": [
    {
     "data": {
      "image/png": "[encoded data removed]",
      "text/plain": [
       "<Figure size 900x900 with 1 Axes>"
      ]
     },
     "metadata": {},
     "output_type": "display_data"
    }
   ],
   "source": [
    "import pandas as pd\n",
    "import matplotlib.pyplot as plt\n",
    "\n",
    "# create a sample dataframe\n",
    "df = pd.DataFrame({'Model': ['Model A', 'Model B', 'Model C'],\n",
    "                   'Accuracy': [0.90, 0.92, 0.88],\n",
    "                   'Precision': [0.91, 0.93, 0.89],\n",
    "                   'Recall': [0.92, 0.94, 0.90]})\n",
    "\n",
    "# set the index to be the Model column\n",
    "df.set_index('Model', inplace=True)\n",
    "\n",
    "# create a bar plot of the dataframe\n",
    "ax = df.plot(kind='bar')\n",
    "\n",
    "# # save the plot as a png file\n",
    "# plt.savefig('performance_metrics.png', dpi=300, bbox_inches='tight')\n",
    "\n",
    "# # save the plot as a jpeg file\n",
    "# plt.savefig('performance_metrics.jpeg', dpi=300, bbox_inches='tight')\n"
   ]
  },
  {
   "cell_type": "code",
   "execution_count": null,
   "id": "ddc4db86-27ae-4405-b324-14b42e71aa15",
   "metadata": {},
   "outputs": [],
   "source": []
  },
  {
   "cell_type": "code",
   "execution_count": 113,
   "id": "b2e913be-7bf6-400c-8ebc-f1c5695de92e",
   "metadata": {
    "tags": []
   },
   "outputs": [],
   "source": [
    "ser = get_summary_ser(model_params_arr, acc_arr, roc_auc_arr)"
   ]
  },
  {
   "cell_type": "code",
   "execution_count": 99,
   "id": "2784d53d-d70a-4293-99e6-3d23d3a261f4",
   "metadata": {
    "tags": []
   },
   "outputs": [
    {
     "data": {
      "text/plain": [
       "pandas.core.series.Series"
      ]
     },
     "execution_count": 99,
     "metadata": {},
     "output_type": "execute_result"
    }
   ],
   "source": [
    "type(ser)"
   ]
  },
  {
   "cell_type": "code",
   "execution_count": 115,
   "id": "8c6c00e3-3c6a-451b-9335-fcc0e566a69f",
   "metadata": {
    "tags": []
   },
   "outputs": [
    {
     "data": {
      "text/html": [
       "<div>\n",
       "<style scoped>\n",
       "    .dataframe tbody tr th:only-of-type {\n",
       "        vertical-align: middle;\n",
       "    }\n",
       "\n",
       "    .dataframe tbody tr th {\n",
       "        vertical-align: top;\n",
       "    }\n",
       "\n",
       "    .dataframe thead th {\n",
       "        text-align: right;\n",
       "    }\n",
       "</style>\n",
       "<table border=\"1\" class=\"dataframe\">\n",
       "  <thead>\n",
       "    <tr style=\"text-align: right;\">\n",
       "      <th></th>\n",
       "      <th>0</th>\n",
       "      <th>1</th>\n",
       "    </tr>\n",
       "  </thead>\n",
       "  <tbody>\n",
       "    <tr>\n",
       "      <th>$\\mu_1$</th>\n",
       "      <td>0.000615</td>\n",
       "      <td>0.000615</td>\n",
       "    </tr>\n",
       "    <tr>\n",
       "      <th>$\\mu_2$</th>\n",
       "      <td>-0.000785</td>\n",
       "      <td>-0.000785</td>\n",
       "    </tr>\n",
       "    <tr>\n",
       "      <th>$\\sigma_1$</th>\n",
       "      <td>0.007759</td>\n",
       "      <td>0.007759</td>\n",
       "    </tr>\n",
       "    <tr>\n",
       "      <th>$\\sigma_2$</th>\n",
       "      <td>0.017397</td>\n",
       "      <td>0.017397</td>\n",
       "    </tr>\n",
       "    <tr>\n",
       "      <th>$\\gamma_{12}$</th>\n",
       "      <td>0.002116</td>\n",
       "      <td>0.002116</td>\n",
       "    </tr>\n",
       "    <tr>\n",
       "      <th>$\\gamma_{21}$</th>\n",
       "      <td>0.011982</td>\n",
       "      <td>0.011982</td>\n",
       "    </tr>\n",
       "    <tr>\n",
       "      <th>Accuracy 1</th>\n",
       "      <td>0.989162</td>\n",
       "      <td>0.989162</td>\n",
       "    </tr>\n",
       "    <tr>\n",
       "      <th>Accuracy 2</th>\n",
       "      <td>0.860320</td>\n",
       "      <td>0.860320</td>\n",
       "    </tr>\n",
       "    <tr>\n",
       "      <th>BAC</th>\n",
       "      <td>0.924741</td>\n",
       "      <td>0.924741</td>\n",
       "    </tr>\n",
       "    <tr>\n",
       "      <th>ROC-AUC</th>\n",
       "      <td>0.992278</td>\n",
       "      <td>0.992278</td>\n",
       "    </tr>\n",
       "    <tr>\n",
       "      <th>$\\mu_1$ std</th>\n",
       "      <td>0.000000</td>\n",
       "      <td>0.000000</td>\n",
       "    </tr>\n",
       "    <tr>\n",
       "      <th>$\\mu_2$ std</th>\n",
       "      <td>0.000000</td>\n",
       "      <td>0.000000</td>\n",
       "    </tr>\n",
       "    <tr>\n",
       "      <th>$\\sigma_1$ std</th>\n",
       "      <td>0.000000</td>\n",
       "      <td>0.000000</td>\n",
       "    </tr>\n",
       "    <tr>\n",
       "      <th>$\\sigma_2$ std</th>\n",
       "      <td>0.000000</td>\n",
       "      <td>0.000000</td>\n",
       "    </tr>\n",
       "    <tr>\n",
       "      <th>$\\gamma_{12}$ std</th>\n",
       "      <td>0.000000</td>\n",
       "      <td>0.000000</td>\n",
       "    </tr>\n",
       "    <tr>\n",
       "      <th>$\\gamma_{21}$ std</th>\n",
       "      <td>0.000000</td>\n",
       "      <td>0.000000</td>\n",
       "    </tr>\n",
       "    <tr>\n",
       "      <th>Accuracy 1 std std</th>\n",
       "      <td>0.079449</td>\n",
       "      <td>0.079449</td>\n",
       "    </tr>\n",
       "    <tr>\n",
       "      <th>Accuracy 2 std std</th>\n",
       "      <td>0.274427</td>\n",
       "      <td>0.274427</td>\n",
       "    </tr>\n",
       "    <tr>\n",
       "      <th>BAC std std</th>\n",
       "      <td>0.138061</td>\n",
       "      <td>0.138061</td>\n",
       "    </tr>\n",
       "    <tr>\n",
       "      <th>ROC-AUC std</th>\n",
       "      <td>0.045641</td>\n",
       "      <td>0.045641</td>\n",
       "    </tr>\n",
       "  </tbody>\n",
       "</table>\n",
       "</div>"
      ],
      "text/plain": [
       "                           0         1\n",
       "$\\mu_1$             0.000615  0.000615\n",
       "$\\mu_2$            -0.000785 -0.000785\n",
       "$\\sigma_1$          0.007759  0.007759\n",
       "$\\sigma_2$          0.017397  0.017397\n",
       "$\\gamma_{12}$       0.002116  0.002116\n",
       "$\\gamma_{21}$       0.011982  0.011982\n",
       "Accuracy 1          0.989162  0.989162\n",
       "Accuracy 2          0.860320  0.860320\n",
       "BAC                 0.924741  0.924741\n",
       "ROC-AUC             0.992278  0.992278\n",
       "$\\mu_1$ std         0.000000  0.000000\n",
       "$\\mu_2$ std         0.000000  0.000000\n",
       "$\\sigma_1$ std      0.000000  0.000000\n",
       "$\\sigma_2$ std      0.000000  0.000000\n",
       "$\\gamma_{12}$ std   0.000000  0.000000\n",
       "$\\gamma_{21}$ std   0.000000  0.000000\n",
       "Accuracy 1 std std  0.079449  0.079449\n",
       "Accuracy 2 std std  0.274427  0.274427\n",
       "BAC std std         0.138061  0.138061\n",
       "ROC-AUC std         0.045641  0.045641"
      ]
     },
     "execution_count": 115,
     "metadata": {},
     "output_type": "execute_result"
    }
   ],
   "source": [
    "pd.concat([ser, ser], axis=1)"
   ]
  },
  {
   "cell_type": "code",
   "execution_count": null,
   "id": "eb9148b2-584d-4a74-969b-516043c12c09",
   "metadata": {},
   "outputs": [],
   "source": []
  },
  {
   "cell_type": "code",
   "execution_count": null,
   "id": "676855a2-d6d0-4ae3-bd48-baa677908558",
   "metadata": {},
   "outputs": [],
   "source": []
  },
  {
   "cell_type": "code",
   "execution_count": 54,
   "id": "e12c43da-d7ee-4175-87f1-4e95e7316ec8",
   "metadata": {
    "tags": []
   },
   "outputs": [],
   "source": [
    "index = generate_summary_index(n_c)\n",
    "model_params_df = pd.DataFrame(model_params_arr, columns=index)\n",
    "model_params_mean = model_params_df.mean()\n",
    "model_params_std = model_params_df.std()\n",
    "model_params_std = model_params_std.mask(model_params_std<1e-10, 0)"
   ]
  },
  {
   "cell_type": "code",
   "execution_count": 55,
   "id": "7af24233-f7a8-44ea-9be3-52f836702b31",
   "metadata": {
    "tags": []
   },
   "outputs": [
    {
     "data": {
      "text/plain": [
       "(1024, 2)"
      ]
     },
     "execution_count": 55,
     "metadata": {},
     "output_type": "execute_result"
    }
   ],
   "source": [
    "acc_arr.shape[1]"
   ]
  },
  {
   "cell_type": "code",
   "execution_count": 64,
   "id": "18f25ebb-bec1-41f3-9e9a-b9c57f06d861",
   "metadata": {
    "tags": []
   },
   "outputs": [
    {
     "data": {
      "text/plain": [
       "($\\mu_1$        0.000615\n",
       " $\\mu_2$       -0.000785\n",
       " $\\sigma_1$     0.007759\n",
       " $\\sigma_2$     0.017397\n",
       " $\\gamma_12$    0.002116\n",
       " $\\gamma_21$    0.011982\n",
       " Accuracy 1     0.989162\n",
       " Accuracy 2     0.860320\n",
       " BAC            0.924741\n",
       " ROC-AUC        0.992278\n",
       " dtype: float64,\n",
       " $\\mu_1$        0.000000\n",
       " $\\mu_2$        0.000000\n",
       " $\\sigma_1$     0.000000\n",
       " $\\sigma_2$     0.000000\n",
       " $\\gamma_12$    0.000000\n",
       " $\\gamma_21$    0.000000\n",
       " Accuracy 1     0.079449\n",
       " Accuracy 2     0.274427\n",
       " BAC            0.138061\n",
       " ROC-AUC        0.045641\n",
       " dtype: float64)"
      ]
     },
     "execution_count": 64,
     "metadata": {},
     "output_type": "execute_result"
    }
   ],
   "source": [
    "get_summary_ser(model_params_arr, acc_arr, roc_auc_arr)"
   ]
  },
  {
   "cell_type": "code",
   "execution_count": null,
   "id": "42610346-b778-412b-b721-840406ce23f2",
   "metadata": {},
   "outputs": [],
   "source": []
  },
  {
   "cell_type": "code",
   "execution_count": 61,
   "id": "7b56f9b8-cf6b-4d25-94bf-9a6832714ceb",
   "metadata": {
    "tags": []
   },
   "outputs": [
    {
     "data": {
      "text/html": [
       "<div>\n",
       "<style scoped>\n",
       "    .dataframe tbody tr th:only-of-type {\n",
       "        vertical-align: middle;\n",
       "    }\n",
       "\n",
       "    .dataframe tbody tr th {\n",
       "        vertical-align: top;\n",
       "    }\n",
       "\n",
       "    .dataframe thead th {\n",
       "        text-align: right;\n",
       "    }\n",
       "</style>\n",
       "<table border=\"1\" class=\"dataframe\">\n",
       "  <thead>\n",
       "    <tr style=\"text-align: right;\">\n",
       "      <th></th>\n",
       "      <th>ROC-AUC</th>\n",
       "    </tr>\n",
       "  </thead>\n",
       "  <tbody>\n",
       "    <tr>\n",
       "      <th>0</th>\n",
       "      <td>1.000000</td>\n",
       "    </tr>\n",
       "    <tr>\n",
       "      <th>1</th>\n",
       "      <td>0.967611</td>\n",
       "    </tr>\n",
       "    <tr>\n",
       "      <th>2</th>\n",
       "      <td>0.999320</td>\n",
       "    </tr>\n",
       "    <tr>\n",
       "      <th>3</th>\n",
       "      <td>0.999558</td>\n",
       "    </tr>\n",
       "    <tr>\n",
       "      <th>4</th>\n",
       "      <td>1.000000</td>\n",
       "    </tr>\n",
       "    <tr>\n",
       "      <th>...</th>\n",
       "      <td>...</td>\n",
       "    </tr>\n",
       "    <tr>\n",
       "      <th>1019</th>\n",
       "      <td>NaN</td>\n",
       "    </tr>\n",
       "    <tr>\n",
       "      <th>1020</th>\n",
       "      <td>0.998600</td>\n",
       "    </tr>\n",
       "    <tr>\n",
       "      <th>1021</th>\n",
       "      <td>NaN</td>\n",
       "    </tr>\n",
       "    <tr>\n",
       "      <th>1022</th>\n",
       "      <td>NaN</td>\n",
       "    </tr>\n",
       "    <tr>\n",
       "      <th>1023</th>\n",
       "      <td>NaN</td>\n",
       "    </tr>\n",
       "  </tbody>\n",
       "</table>\n",
       "<p>1024 rows × 1 columns</p>\n",
       "</div>"
      ],
      "text/plain": [
       "       ROC-AUC\n",
       "0     1.000000\n",
       "1     0.967611\n",
       "2     0.999320\n",
       "3     0.999558\n",
       "4     1.000000\n",
       "...        ...\n",
       "1019       NaN\n",
       "1020  0.998600\n",
       "1021       NaN\n",
       "1022       NaN\n",
       "1023       NaN\n",
       "\n",
       "[1024 rows x 1 columns]"
      ]
     },
     "execution_count": 61,
     "metadata": {},
     "output_type": "execute_result"
    }
   ],
   "source": []
  },
  {
   "cell_type": "code",
   "execution_count": null,
   "id": "33b298d1-8579-4fac-a18a-4d5e52fd368e",
   "metadata": {},
   "outputs": [],
   "source": []
  },
  {
   "cell_type": "code",
   "execution_count": null,
   "id": "12b6e358-1c18-4d99-8564-8d888b031ae0",
   "metadata": {},
   "outputs": [],
   "source": []
  },
  {
   "cell_type": "code",
   "execution_count": null,
   "id": "8a61d4b8-2a4b-4978-a1b1-368bae13c32e",
   "metadata": {},
   "outputs": [],
   "source": []
  },
  {
   "cell_type": "code",
   "execution_count": 7,
   "id": "e1192319-e936-41a1-b2e9-7d11314f6cc8",
   "metadata": {
    "tags": []
   },
   "outputs": [],
   "source": [
    "key_data_list_temp = key_data_list[:1]"
   ]
  },
  {
   "cell_type": "code",
   "execution_count": 8,
   "id": "1a3a6767-c005-4f5c-b562-3c159f47dc00",
   "metadata": {
    "tags": []
   },
   "outputs": [],
   "source": [
    "key_feat_list=['HMM']\n",
    "key_model_list=['true']"
   ]
  },
  {
   "cell_type": "code",
   "execution_count": 9,
   "id": "5f767c69-1d5f-4fa1-8cbf-8757a67557a5",
   "metadata": {
    "tags": []
   },
   "outputs": [
    {
     "name": "stdout",
     "output_type": "stream",
     "text": [
      "shape of the saved accuracy score: (1024, 2).\n",
      "shape of the saved roc auc score: (1024,).\n"
     ]
    }
   ],
   "source": []
  },
  {
   "cell_type": "code",
   "execution_count": null,
   "id": "e6735beb-078c-4613-81a5-b053bb8243fc",
   "metadata": {},
   "outputs": [],
   "source": []
  },
  {
   "cell_type": "code",
   "execution_count": null,
   "id": "b0f04d73-63e3-4e1b-834b-f9a4c2164ffe",
   "metadata": {},
   "outputs": [],
   "source": []
  },
  {
   "cell_type": "code",
   "execution_count": null,
   "id": "6a099dbf-07ba-4570-93ea-6d96ac5e502e",
   "metadata": {},
   "outputs": [],
   "source": []
  },
  {
   "cell_type": "code",
   "execution_count": 10,
   "id": "254c8ded-292d-4ec0-a5a6-eea0c8d9dc2a",
   "metadata": {
    "tags": []
   },
   "outputs": [],
   "source": [
    "acc_arr = scorer_batch(accuracy_each_cluster, Zs, labels_arr)"
   ]
  },
  {
   "cell_type": "code",
   "execution_count": 18,
   "id": "3c04620c-149c-4ee0-908a-bb6c04c78624",
   "metadata": {
    "tags": []
   },
   "outputs": [],
   "source": [
    "roc_auc_arr = scorer_batch(roc_auc_score, Zs, proba_arr[..., 1], idx=True, n_c=2)"
   ]
  },
  {
   "cell_type": "code",
   "execution_count": null,
   "id": "41777aa4-4a25-4759-935e-1ffeb87ae24e",
   "metadata": {},
   "outputs": [],
   "source": []
  },
  {
   "cell_type": "code",
   "execution_count": 63,
   "id": "d542537e-46df-4520-8aaf-7cb7015a128b",
   "metadata": {
    "tags": []
   },
   "outputs": [],
   "source": []
  }
 ],
 "metadata": {
  "kernelspec": {
   "display_name": "Python 3 (ipykernel)",
   "language": "python",
   "name": "python3"
  },
  "language_info": {
   "codemirror_mode": {
    "name": "ipython",
    "version": 3
   },
   "file_extension": ".py",
   "mimetype": "text/x-python",
   "name": "python",
   "nbconvert_exporter": "python",
   "pygments_lexer": "ipython3",
   "version": "3.10.9"
  },
  "toc-autonumbering": true
 },
 "nbformat": 4,
 "nbformat_minor": 5
}
