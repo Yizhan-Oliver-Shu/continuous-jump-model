{
 "cells": [
  {
   "cell_type": "code",
   "execution_count": 1,
   "id": "903d42e0-1771-48b6-8138-f8ee14107a21",
   "metadata": {
    "tags": []
   },
   "outputs": [],
   "source": [
    "%load_ext autoreload\n",
    "%autoreload 2\n",
    "import sys, os\n",
    "from os.path import expanduser\n",
    "## actions required!!!!!!!!!!!!!!!!!!!! change your folder path \n",
    "path = \"~/Documents/G3_2/regime-identification\"\n",
    "path = expanduser(path)\n",
    "sys.path.append(path)\n",
    "\n",
    "path_data = f\"{path}/notebooks/simulation/data\"\n",
    "path_estimation = f\"{path}/notebooks/simulation/estimation\"\n",
    "path_scores = f\"{path}/notebooks/simulation/scores\""
   ]
  },
  {
   "cell_type": "code",
   "execution_count": 2,
   "id": "2f24702a-aa40-43ea-b0ce-4b17fa906825",
   "metadata": {
    "tags": []
   },
   "outputs": [],
   "source": [
    "import numpy as np\n",
    "from sklearn.metrics import accuracy_score, roc_auc_score"
   ]
  },
  {
   "cell_type": "code",
   "execution_count": 3,
   "id": "39e2eb60-ccc3-4075-baa4-ad7dc2c4784c",
   "metadata": {
    "tags": []
   },
   "outputs": [],
   "source": [
    "from regime.simulation_helper import *"
   ]
  },
  {
   "cell_type": "code",
   "execution_count": 4,
   "id": "476631df-f432-40e4-8b78-480e9575c48f",
   "metadata": {
    "tags": []
   },
   "outputs": [],
   "source": [
    "scale_lst = [\"daily\", \"weekly\", \"monthly\"]\n",
    "n_s_lst = [250, 500, 1000]\n",
    "n_c = 2\n",
    "\n",
    "key_list = [f\"{scale}_{n_s}\" for scale in scale_lst for n_s in n_s_lst]\n",
    "n_t=1000"
   ]
  },
  {
   "cell_type": "markdown",
   "id": "2bffa357-4fc9-463e-9164-d702900eb27c",
   "metadata": {},
   "source": [
    "# Scoring: Jump models.\n",
    "In this notebook we score the true HMM model."
   ]
  },
  {
   "cell_type": "code",
   "execution_count": 5,
   "id": "dbef7725-7d1a-4327-9360-1bd4238cd0b0",
   "metadata": {
    "tags": []
   },
   "outputs": [],
   "source": [
    "def label_switching(Zs, labels_, proba_ = None):\n",
    "    accuracy_arr = score_trials(accuracy_score, Zs, labels_, lambdas=True)\n",
    "    idx_l, idx_t = np.where(accuracy_arr<.5)\n",
    "    labels_new = labels_.copy()\n",
    "    labels_new[idx_l, idx_t] = 1 - labels_new[idx_l, idx_t]\n",
    "    if proba_ is not None:\n",
    "        proba_new = proba_.copy()\n",
    "        proba_new[idx_l, idx_t] = 1 - proba_new[idx_l, idx_t]\n",
    "        return labels_new, proba_new\n",
    "    return labels_new, None"
   ]
  },
  {
   "cell_type": "code",
   "execution_count": 6,
   "id": "5c7e716d-948a-4e6f-85b6-f465fd17af6f",
   "metadata": {
    "tags": []
   },
   "outputs": [],
   "source": [
    "def run_model_scoring(model):\n",
    "    for key in tqdm(key_list):\n",
    "        # true data\n",
    "        Zs = np.load(f\"{path_data}/Z_{key}.npy\")[:n_t]\n",
    "        # estimation res\n",
    "        labels_ = np.load(f\"{path_estimation}/labels_{model}_{key}.npy\")\n",
    "        if \"discrete\" in model:\n",
    "            proba_ = None\n",
    "        else:\n",
    "            proba_ = np.load(f\"{path_estimation}/proba_{model}_{key}.npy\")\n",
    "        # switch labels\n",
    "        labels_new, proba_new = label_switching(Zs, labels_, proba_)\n",
    "\n",
    "        # accuracy\n",
    "        accuracy_arr = score_trials(accuracy_each_cluster, Zs, labels_new, lambdas=True)\n",
    "        np_save_print(f\"{path_scores}/accuracy_{model}_{key}.npy\", accuracy_arr)\n",
    "        if \"discrete\" not in model:\n",
    "            # \n",
    "            state_counts = count_sample_in_each_cluster(Zs, n_c)\n",
    "            idx_both_states = (state_counts > 0).all(1)\n",
    "            roc_auc_arr = score_trials(roc_auc_score, Zs, proba_new, idx_subset=idx_both_states, lambdas=True)\n",
    "            np_save_print(f\"{path_scores}/roc_auc_{model}_{key}.npy\", roc_auc_arr)"
   ]
  },
  {
   "cell_type": "code",
   "execution_count": 7,
   "id": "1a071208-e135-49e7-ab7a-3b91fa3b8958",
   "metadata": {
    "tags": []
   },
   "outputs": [
    {
     "name": "stderr",
     "output_type": "stream",
     "text": [
      " 11%|█████                                        | 1/9 [00:01<00:15,  1.89s/it]"
     ]
    },
    {
     "name": "stdout",
     "output_type": "stream",
     "text": [
      "shape of the saved arr: (17, 1000, 2).\n"
     ]
    },
    {
     "name": "stderr",
     "output_type": "stream",
     "text": [
      " 22%|██████████                                   | 2/9 [00:03<00:13,  1.96s/it]"
     ]
    },
    {
     "name": "stdout",
     "output_type": "stream",
     "text": [
      "shape of the saved arr: (17, 1000, 2).\n"
     ]
    },
    {
     "name": "stderr",
     "output_type": "stream",
     "text": [
      " 33%|███████████████                              | 3/9 [00:06<00:12,  2.12s/it]"
     ]
    },
    {
     "name": "stdout",
     "output_type": "stream",
     "text": [
      "shape of the saved arr: (17, 1000, 2).\n"
     ]
    },
    {
     "name": "stderr",
     "output_type": "stream",
     "text": [
      " 44%|████████████████████                         | 4/9 [00:08<00:10,  2.02s/it]"
     ]
    },
    {
     "name": "stdout",
     "output_type": "stream",
     "text": [
      "shape of the saved arr: (17, 1000, 2).\n"
     ]
    },
    {
     "name": "stderr",
     "output_type": "stream",
     "text": [
      " 56%|█████████████████████████                    | 5/9 [00:10<00:08,  2.03s/it]"
     ]
    },
    {
     "name": "stdout",
     "output_type": "stream",
     "text": [
      "shape of the saved arr: (17, 1000, 2).\n"
     ]
    },
    {
     "name": "stderr",
     "output_type": "stream",
     "text": [
      " 67%|██████████████████████████████               | 6/9 [00:12<00:06,  2.12s/it]"
     ]
    },
    {
     "name": "stdout",
     "output_type": "stream",
     "text": [
      "shape of the saved arr: (17, 1000, 2).\n"
     ]
    },
    {
     "name": "stderr",
     "output_type": "stream",
     "text": [
      " 78%|███████████████████████████████████          | 7/9 [00:14<00:04,  2.05s/it]"
     ]
    },
    {
     "name": "stdout",
     "output_type": "stream",
     "text": [
      "shape of the saved arr: (17, 1000, 2).\n"
     ]
    },
    {
     "name": "stderr",
     "output_type": "stream",
     "text": [
      " 89%|████████████████████████████████████████     | 8/9 [00:16<00:02,  2.05s/it]"
     ]
    },
    {
     "name": "stdout",
     "output_type": "stream",
     "text": [
      "shape of the saved arr: (17, 1000, 2).\n"
     ]
    },
    {
     "name": "stderr",
     "output_type": "stream",
     "text": [
      "100%|█████████████████████████████████████████████| 9/9 [00:18<00:00,  2.08s/it]"
     ]
    },
    {
     "name": "stdout",
     "output_type": "stream",
     "text": [
      "shape of the saved arr: (17, 1000, 2).\n"
     ]
    },
    {
     "name": "stderr",
     "output_type": "stream",
     "text": [
      "\n"
     ]
    }
   ],
   "source": [
    "model = \"discrete_zheng_feat\"\n",
    "run_model_scoring(model)"
   ]
  },
  {
   "cell_type": "code",
   "execution_count": 8,
   "id": "732945ae-c638-4a94-82e5-1b9e55e0619c",
   "metadata": {
    "tags": []
   },
   "outputs": [
    {
     "name": "stderr",
     "output_type": "stream",
     "text": [
      "  0%|                                                     | 0/9 [00:00<?, ?it/s]"
     ]
    },
    {
     "name": "stdout",
     "output_type": "stream",
     "text": [
      "shape of the saved arr: (17, 1000, 2).\n"
     ]
    },
    {
     "name": "stderr",
     "output_type": "stream",
     "text": [
      " 11%|█████                                        | 1/9 [00:04<00:35,  4.50s/it]"
     ]
    },
    {
     "name": "stdout",
     "output_type": "stream",
     "text": [
      "shape of the saved arr: (17, 1000).\n",
      "shape of the saved arr: (17, 1000, 2).\n"
     ]
    },
    {
     "name": "stderr",
     "output_type": "stream",
     "text": [
      " 22%|██████████                                   | 2/9 [00:10<00:37,  5.31s/it]"
     ]
    },
    {
     "name": "stdout",
     "output_type": "stream",
     "text": [
      "shape of the saved arr: (17, 1000).\n",
      "shape of the saved arr: (17, 1000, 2).\n"
     ]
    },
    {
     "name": "stderr",
     "output_type": "stream",
     "text": [
      " 33%|███████████████                              | 3/9 [00:18<00:39,  6.53s/it]"
     ]
    },
    {
     "name": "stdout",
     "output_type": "stream",
     "text": [
      "shape of the saved arr: (17, 1000).\n",
      "shape of the saved arr: (17, 1000, 2).\n"
     ]
    },
    {
     "name": "stderr",
     "output_type": "stream",
     "text": [
      " 44%|████████████████████                         | 4/9 [00:25<00:33,  6.60s/it]"
     ]
    },
    {
     "name": "stdout",
     "output_type": "stream",
     "text": [
      "shape of the saved arr: (17, 1000).\n",
      "shape of the saved arr: (17, 1000, 2).\n"
     ]
    },
    {
     "name": "stderr",
     "output_type": "stream",
     "text": [
      " 56%|█████████████████████████                    | 5/9 [00:32<00:27,  6.93s/it]"
     ]
    },
    {
     "name": "stdout",
     "output_type": "stream",
     "text": [
      "shape of the saved arr: (17, 1000).\n",
      "shape of the saved arr: (17, 1000, 2).\n"
     ]
    },
    {
     "name": "stderr",
     "output_type": "stream",
     "text": [
      " 67%|██████████████████████████████               | 6/9 [00:41<00:22,  7.50s/it]"
     ]
    },
    {
     "name": "stdout",
     "output_type": "stream",
     "text": [
      "shape of the saved arr: (17, 1000).\n",
      "shape of the saved arr: (17, 1000, 2).\n"
     ]
    },
    {
     "name": "stderr",
     "output_type": "stream",
     "text": [
      " 78%|███████████████████████████████████          | 7/9 [00:48<00:14,  7.34s/it]"
     ]
    },
    {
     "name": "stdout",
     "output_type": "stream",
     "text": [
      "shape of the saved arr: (17, 1000).\n",
      "shape of the saved arr: (17, 1000, 2).\n"
     ]
    },
    {
     "name": "stderr",
     "output_type": "stream",
     "text": [
      " 89%|████████████████████████████████████████     | 8/9 [00:55<00:07,  7.41s/it]"
     ]
    },
    {
     "name": "stdout",
     "output_type": "stream",
     "text": [
      "shape of the saved arr: (17, 1000).\n",
      "shape of the saved arr: (17, 1000, 2).\n"
     ]
    },
    {
     "name": "stderr",
     "output_type": "stream",
     "text": [
      "100%|█████████████████████████████████████████████| 9/9 [01:04<00:00,  7.16s/it]"
     ]
    },
    {
     "name": "stdout",
     "output_type": "stream",
     "text": [
      "shape of the saved arr: (17, 1000).\n"
     ]
    },
    {
     "name": "stderr",
     "output_type": "stream",
     "text": [
      "\n"
     ]
    }
   ],
   "source": [
    "model = \"cont_mode_zheng_feat\"\n",
    "run_model_scoring(model)"
   ]
  },
  {
   "cell_type": "code",
   "execution_count": 9,
   "id": "c61bf3a5-31df-44eb-a64b-006ab04b2dd9",
   "metadata": {
    "tags": []
   },
   "outputs": [],
   "source": [
    "def run_model_scoring(model):\n",
    "    for key in tqdm(key_list[:3]):\n",
    "        # true data\n",
    "        Zs = np.load(f\"{path_data}/Z_{key}.npy\")[:n_t]\n",
    "        # estimation res\n",
    "        labels_ = np.load(f\"{path_estimation}/labels_{model}_{key}.npy\")\n",
    "        if \"discrete\" in model:\n",
    "            proba_ = None\n",
    "        else:\n",
    "            proba_ = np.load(f\"{path_estimation}/proba_{model}_{key}.npy\")\n",
    "        # switch labels\n",
    "        labels_new, proba_new = label_switching(Zs, labels_, proba_)\n",
    "\n",
    "        # accuracy\n",
    "        accuracy_arr = score_trials(accuracy_each_cluster, Zs, labels_new, lambdas=True)\n",
    "        np_save_print(f\"{path_scores}/accuracy_{model}_{key}.npy\", accuracy_arr)\n",
    "        if \"discrete\" not in model:\n",
    "            # \n",
    "            state_counts = count_sample_in_each_cluster(Zs, n_c)\n",
    "            idx_both_states = (state_counts > 0).all(1)\n",
    "            roc_auc_arr = score_trials(roc_auc_score, Zs, proba_new, idx_subset=idx_both_states, lambdas=True)\n",
    "            np_save_print(f\"{path_scores}/roc_auc_{model}_{key}.npy\", roc_auc_arr)"
   ]
  },
  {
   "cell_type": "code",
   "execution_count": 10,
   "id": "15c01faf-2e20-4f36-8184-b7c2b023b3a4",
   "metadata": {
    "tags": []
   },
   "outputs": [
    {
     "name": "stderr",
     "output_type": "stream",
     "text": [
      "  0%|                                                     | 0/3 [00:00<?, ?it/s]"
     ]
    },
    {
     "name": "stdout",
     "output_type": "stream",
     "text": [
      "shape of the saved arr: (17, 1000, 2).\n"
     ]
    },
    {
     "name": "stderr",
     "output_type": "stream",
     "text": [
      " 33%|███████████████                              | 1/3 [00:04<00:08,  4.49s/it]"
     ]
    },
    {
     "name": "stdout",
     "output_type": "stream",
     "text": [
      "shape of the saved arr: (17, 1000).\n",
      "shape of the saved arr: (17, 1000, 2).\n"
     ]
    },
    {
     "name": "stderr",
     "output_type": "stream",
     "text": [
      " 67%|██████████████████████████████               | 2/3 [00:10<00:05,  5.33s/it]"
     ]
    },
    {
     "name": "stdout",
     "output_type": "stream",
     "text": [
      "shape of the saved arr: (17, 1000).\n",
      "shape of the saved arr: (17, 1000, 2).\n"
     ]
    },
    {
     "name": "stderr",
     "output_type": "stream",
     "text": [
      "100%|█████████████████████████████████████████████| 3/3 [00:18<00:00,  6.16s/it]"
     ]
    },
    {
     "name": "stdout",
     "output_type": "stream",
     "text": [
      "shape of the saved arr: (17, 1000).\n"
     ]
    },
    {
     "name": "stderr",
     "output_type": "stream",
     "text": [
      "\n"
     ]
    }
   ],
   "source": [
    "model = \"cont_no_mode_zheng_feat\"\n",
    "run_model_scoring(model)"
   ]
  },
  {
   "cell_type": "code",
   "execution_count": null,
   "id": "4f72e4fd-9717-4e56-b0e6-80cf3ddc101d",
   "metadata": {},
   "outputs": [],
   "source": []
  },
  {
   "cell_type": "code",
   "execution_count": null,
   "id": "eff5d20c-0325-4f6c-bdd8-7ef6fcce6d0b",
   "metadata": {},
   "outputs": [],
   "source": []
  },
  {
   "cell_type": "code",
   "execution_count": null,
   "id": "474dfc9e-bfff-46d6-aa84-8d1c4d72e45b",
   "metadata": {},
   "outputs": [],
   "source": []
  },
  {
   "cell_type": "code",
   "execution_count": null,
   "id": "6426fd73-a8ac-43d5-ac0c-9b8243ea92a9",
   "metadata": {},
   "outputs": [],
   "source": []
  },
  {
   "cell_type": "code",
   "execution_count": null,
   "id": "3a76382b-1e86-4dde-bf50-f7d8480d1572",
   "metadata": {},
   "outputs": [],
   "source": []
  },
  {
   "cell_type": "code",
   "execution_count": 13,
   "id": "4c57279a-ca02-44d2-81a7-bd4ffb603b4a",
   "metadata": {
    "tags": []
   },
   "outputs": [],
   "source": [
    "key=\"daily_1000\""
   ]
  },
  {
   "cell_type": "code",
   "execution_count": 20,
   "id": "a0ee1913-7ef6-4f23-97df-78338e61571f",
   "metadata": {
    "tags": []
   },
   "outputs": [],
   "source": [
    "Zs = np.load(f\"{path_data}/Z_{key}.npy\")\n",
    "state_counts = count_sample_in_each_cluster(Zs, n_c)\n",
    "idx_both_states = (state_counts > 0).all(1)"
   ]
  },
  {
   "cell_type": "code",
   "execution_count": 16,
   "id": "cf858242-1a82-4872-973f-82e448a2b2c0",
   "metadata": {
    "tags": []
   },
   "outputs": [],
   "source": [
    "labels_ = np.load(f\"{path_estimation}/labels_cont_mode_zheng_feat_{key}.npy\")\n",
    "proba_ = np.load(f\"{path_estimation}/proba_cont_mode_zheng_feat_{key}.npy\")"
   ]
  },
  {
   "cell_type": "code",
   "execution_count": 21,
   "id": "66ab2e19-96ec-4846-b9b9-3cab0eb7c9e7",
   "metadata": {
    "tags": []
   },
   "outputs": [],
   "source": [
    "roc_auc_arr = score_trials(roc_auc_score, Zs, proba_, lambdas=True, idx_subset = idx_both_states)"
   ]
  },
  {
   "cell_type": "code",
   "execution_count": 25,
   "id": "8e7b7786-29a7-4627-a03e-6499784d55fb",
   "metadata": {
    "tags": []
   },
   "outputs": [
    {
     "data": {
      "text/plain": [
       "array([[0.90519237, 0.91000219, 0.88679245, ..., 0.8636989 ,        nan,\n",
       "        0.90856215],\n",
       "       [0.92803179, 0.91365945, 0.88679245, ..., 0.8636989 ,        nan,\n",
       "        0.90856215],\n",
       "       [0.92803179, 0.91365945, 0.88679245, ..., 0.8636989 ,        nan,\n",
       "        0.90856215],\n",
       "       ...,\n",
       "       [0.99942683, 0.99887002, 0.98949225, ..., 0.9927198 ,        nan,\n",
       "        0.99826264],\n",
       "       [0.99933949, 0.98959928, 0.9699095 , ..., 0.98047284,        nan,\n",
       "        0.99932646],\n",
       "       [0.99945412, 0.97741246, 0.96853812, ..., 0.8562631 ,        nan,\n",
       "        0.84418552]])"
      ]
     },
     "execution_count": 25,
     "metadata": {},
     "output_type": "execute_result"
    }
   ],
   "source": [
    "np.maximum(roc_auc_arr, 1-roc_auc_arr)"
   ]
  },
  {
   "cell_type": "code",
   "execution_count": 27,
   "id": "cc6c0b06-07bd-42fb-8109-d7543e0a6a3a",
   "metadata": {
    "tags": []
   },
   "outputs": [
    {
     "data": {
      "text/plain": [
       "array([0.87292092, 0.8735229 , 0.87339283, 0.87388763, 0.87380449,\n",
       "       0.87427003, 0.87571321, 0.87924687, 0.88806581, 0.90190728,\n",
       "       0.9199709 , 0.93815217, 0.95522021, 0.96783212, 0.97194122,\n",
       "       0.96652973, 0.91778304])"
      ]
     },
     "execution_count": 27,
     "metadata": {},
     "output_type": "execute_result"
    }
   ],
   "source": [
    "np.nanmean(np.maximum(roc_auc_arr, 1-roc_auc_arr), 1)"
   ]
  },
  {
   "cell_type": "code",
   "execution_count": 24,
   "id": "03f76793-5ca4-46a4-9de1-deb845c64f98",
   "metadata": {
    "tags": []
   },
   "outputs": [
    {
     "data": {
      "text/plain": [
       "array([0.54947852, 0.53649799, 0.54313878, 0.55398023, 0.54372008,\n",
       "       0.50420324, 0.53768327, 0.54492191, 0.52258292, 0.53161377,\n",
       "       0.5403218 , 0.54162713, 0.57400658, 0.55254199, 0.53185368,\n",
       "       0.53591632, 0.54626475])"
      ]
     },
     "execution_count": 24,
     "metadata": {},
     "output_type": "execute_result"
    }
   ],
   "source": [
    "np.nanmean(roc_auc_arr, 1)"
   ]
  },
  {
   "cell_type": "code",
   "execution_count": 28,
   "id": "7cd120cb-0200-40a9-a9cc-341291531832",
   "metadata": {
    "tags": []
   },
   "outputs": [],
   "source": [
    "labels_new, proba_new = label_switching(Zs, labels_, proba_)"
   ]
  },
  {
   "cell_type": "code",
   "execution_count": 33,
   "id": "4357f8db-83b7-496b-b918-b49205256105",
   "metadata": {
    "tags": []
   },
   "outputs": [],
   "source": [
    "roc_auc_arr_new = score_trials(roc_auc_score, Zs, proba_new, lambdas=True, idx_subset=idx_both_states)"
   ]
  },
  {
   "cell_type": "code",
   "execution_count": 35,
   "id": "b6014bab-82b3-467c-89e9-31eab090d842",
   "metadata": {
    "tags": []
   },
   "outputs": [
    {
     "data": {
      "text/plain": [
       "array([0.86853259, 0.86822596, 0.86846321, 0.86901086, 0.86838817,\n",
       "       0.86940232, 0.87186604, 0.87526888, 0.88367696, 0.89663984,\n",
       "       0.91649375, 0.934796  , 0.9496631 , 0.96190879, 0.96742539,\n",
       "       0.96275467, 0.91703661])"
      ]
     },
     "execution_count": 35,
     "metadata": {},
     "output_type": "execute_result"
    }
   ],
   "source": [
    "np.nanmean(roc_auc_arr_new, 1)"
   ]
  },
  {
   "cell_type": "code",
   "execution_count": null,
   "id": "ab3e1cb1-f557-4ebe-aec1-fd941bce5ef6",
   "metadata": {},
   "outputs": [],
   "source": []
  },
  {
   "cell_type": "code",
   "execution_count": null,
   "id": "c79f9ad3-4cd0-4189-b769-9f89b05c4004",
   "metadata": {},
   "outputs": [],
   "source": []
  },
  {
   "cell_type": "code",
   "execution_count": 29,
   "id": "3d9086da-88b8-464a-9e48-ef20e55b4679",
   "metadata": {
    "tags": []
   },
   "outputs": [
    {
     "data": {
      "text/plain": [
       "array([[[0., 0., 0., ..., 0., 0., 0.],\n",
       "        [0., 0., 0., ..., 0., 0., 0.],\n",
       "        [0., 0., 0., ..., 0., 0., 0.],\n",
       "        ...,\n",
       "        [0., 0., 0., ..., 0., 0., 0.],\n",
       "        [0., 0., 1., ..., 1., 1., 1.],\n",
       "        [0., 0., 0., ..., 1., 1., 1.]],\n",
       "\n",
       "       [[0., 0., 0., ..., 0., 0., 0.],\n",
       "        [0., 0., 0., ..., 0., 0., 0.],\n",
       "        [0., 0., 0., ..., 0., 0., 0.],\n",
       "        ...,\n",
       "        [0., 0., 0., ..., 0., 0., 0.],\n",
       "        [0., 0., 1., ..., 1., 1., 1.],\n",
       "        [0., 0., 0., ..., 1., 1., 1.]],\n",
       "\n",
       "       [[0., 0., 0., ..., 0., 0., 0.],\n",
       "        [0., 0., 0., ..., 0., 0., 0.],\n",
       "        [0., 0., 0., ..., 0., 0., 0.],\n",
       "        ...,\n",
       "        [0., 0., 0., ..., 0., 0., 0.],\n",
       "        [0., 0., 1., ..., 1., 1., 1.],\n",
       "        [0., 0., 0., ..., 1., 1., 1.]],\n",
       "\n",
       "       ...,\n",
       "\n",
       "       [[0., 0., 0., ..., 0., 0., 0.],\n",
       "        [0., 0., 0., ..., 0., 0., 0.],\n",
       "        [0., 0., 0., ..., 0., 0., 0.],\n",
       "        ...,\n",
       "        [0., 0., 0., ..., 0., 0., 0.],\n",
       "        [0., 0., 0., ..., 0., 0., 0.],\n",
       "        [0., 0., 0., ..., 0., 0., 0.]],\n",
       "\n",
       "       [[0., 0., 0., ..., 0., 0., 0.],\n",
       "        [0., 0., 0., ..., 0., 0., 0.],\n",
       "        [0., 0., 0., ..., 0., 0., 0.],\n",
       "        ...,\n",
       "        [0., 0., 0., ..., 0., 0., 0.],\n",
       "        [0., 0., 0., ..., 0., 0., 0.],\n",
       "        [0., 0., 0., ..., 0., 0., 0.]],\n",
       "\n",
       "       [[0., 0., 0., ..., 0., 0., 0.],\n",
       "        [0., 0., 0., ..., 0., 0., 0.],\n",
       "        [0., 0., 0., ..., 0., 0., 0.],\n",
       "        ...,\n",
       "        [0., 0., 0., ..., 0., 0., 0.],\n",
       "        [0., 0., 0., ..., 0., 0., 0.],\n",
       "        [0., 0., 0., ..., 0., 0., 0.]]])"
      ]
     },
     "execution_count": 29,
     "metadata": {},
     "output_type": "execute_result"
    }
   ],
   "source": [
    "proba_new"
   ]
  },
  {
   "cell_type": "code",
   "execution_count": 31,
   "id": "e7f55d33-71c2-4e69-8c67-41980cb7caca",
   "metadata": {
    "tags": []
   },
   "outputs": [
    {
     "data": {
      "text/plain": [
       "array([[0.022, 0.849, 0.062, ..., 0.848, 0.563, 0.89 ],\n",
       "       [0.02 , 0.144, 0.938, ..., 0.848, 0.563, 0.11 ],\n",
       "       [0.98 , 0.144, 0.938, ..., 0.848, 0.438, 0.89 ],\n",
       "       ...,\n",
       "       [0.988, 0.013, 0.982, ..., 0.94 , 0.208, 0.985],\n",
       "       [0.011, 0.968, 0.023, ..., 0.893, 0.   , 0.97 ],\n",
       "       [0.99 , 0.043, 0.033, ..., 0.21 , 1.   , 0.963]])"
      ]
     },
     "execution_count": 31,
     "metadata": {},
     "output_type": "execute_result"
    }
   ],
   "source": [
    "score_trials(accuracy_score, Zs, labels_, lambdas=True)"
   ]
  },
  {
   "cell_type": "code",
   "execution_count": 18,
   "id": "ed30c771-60a2-49da-9704-17fb930e423a",
   "metadata": {
    "tags": []
   },
   "outputs": [
    {
     "data": {
      "text/plain": [
       "array([[[1., 1., 1., ..., 1., 1., 1.],\n",
       "        [0., 0., 0., ..., 0., 0., 0.],\n",
       "        [1., 1., 1., ..., 1., 1., 1.],\n",
       "        ...,\n",
       "        [0., 0., 0., ..., 0., 0., 0.],\n",
       "        [0., 0., 1., ..., 1., 1., 1.],\n",
       "        [0., 0., 0., ..., 1., 1., 1.]],\n",
       "\n",
       "       [[1., 1., 1., ..., 1., 1., 1.],\n",
       "        [1., 1., 1., ..., 1., 1., 1.],\n",
       "        [0., 0., 0., ..., 0., 0., 0.],\n",
       "        ...,\n",
       "        [0., 0., 0., ..., 0., 0., 0.],\n",
       "        [0., 0., 1., ..., 1., 1., 1.],\n",
       "        [1., 1., 1., ..., 0., 0., 0.]],\n",
       "\n",
       "       [[0., 0., 0., ..., 0., 0., 0.],\n",
       "        [1., 1., 1., ..., 1., 1., 1.],\n",
       "        [0., 0., 0., ..., 0., 0., 0.],\n",
       "        ...,\n",
       "        [0., 0., 0., ..., 0., 0., 0.],\n",
       "        [1., 1., 0., ..., 0., 0., 0.],\n",
       "        [0., 0., 0., ..., 1., 1., 1.]],\n",
       "\n",
       "       ...,\n",
       "\n",
       "       [[0., 0., 0., ..., 0., 0., 0.],\n",
       "        [1., 1., 1., ..., 1., 1., 1.],\n",
       "        [0., 0., 0., ..., 0., 0., 0.],\n",
       "        ...,\n",
       "        [0., 0., 0., ..., 0., 0., 0.],\n",
       "        [1., 1., 1., ..., 1., 1., 1.],\n",
       "        [0., 0., 0., ..., 0., 0., 0.]],\n",
       "\n",
       "       [[1., 1., 1., ..., 1., 1., 1.],\n",
       "        [0., 0., 0., ..., 0., 0., 0.],\n",
       "        [1., 1., 1., ..., 1., 1., 1.],\n",
       "        ...,\n",
       "        [0., 0., 0., ..., 0., 0., 0.],\n",
       "        [1., 1., 1., ..., 1., 1., 1.],\n",
       "        [0., 0., 0., ..., 0., 0., 0.]],\n",
       "\n",
       "       [[0., 0., 0., ..., 0., 0., 0.],\n",
       "        [1., 1., 1., ..., 1., 1., 1.],\n",
       "        [1., 1., 1., ..., 1., 1., 1.],\n",
       "        ...,\n",
       "        [1., 1., 1., ..., 1., 1., 1.],\n",
       "        [0., 0., 0., ..., 0., 0., 0.],\n",
       "        [0., 0., 0., ..., 0., 0., 0.]]])"
      ]
     },
     "execution_count": 18,
     "metadata": {},
     "output_type": "execute_result"
    }
   ],
   "source": [
    "proba_"
   ]
  },
  {
   "cell_type": "code",
   "execution_count": null,
   "id": "1fa5a749-71fd-4a0f-93b3-538deab499fe",
   "metadata": {},
   "outputs": [],
   "source": []
  }
 ],
 "metadata": {
  "kernelspec": {
   "display_name": "Python 3 (ipykernel)",
   "language": "python",
   "name": "python3"
  },
  "language_info": {
   "codemirror_mode": {
    "name": "ipython",
    "version": 3
   },
   "file_extension": ".py",
   "mimetype": "text/x-python",
   "name": "python",
   "nbconvert_exporter": "python",
   "pygments_lexer": "ipython3",
   "version": "3.10.9"
  }
 },
 "nbformat": 4,
 "nbformat_minor": 5
}
