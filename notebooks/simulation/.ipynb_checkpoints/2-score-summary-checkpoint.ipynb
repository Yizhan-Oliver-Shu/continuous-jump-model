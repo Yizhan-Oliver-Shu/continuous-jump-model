{
 "cells": [
  {
   "cell_type": "code",
   "execution_count": 1,
   "id": "badd5cef-fbcf-47f0-9c2c-4acb457d5b7f",
   "metadata": {
    "tags": []
   },
   "outputs": [],
   "source": [
    "%load_ext autoreload\n",
    "%autoreload 2\n",
    "import sys, os\n",
    "from os.path import expanduser\n",
    "## actions required!!!!!!!!!!!!!!!!!!!! change your folder path \n",
    "path_repo = expanduser(\"~/Documents/G3_2/regime-identification\"); sys.path.append(path_repo)\n",
    "path_file = expanduser(\"~/data/G3_2/regime-identification/simulation\")\n",
    "path = {}\n",
    "for folder in [\"data\", \"estimation\", \"score\", \"summary\"]:\n",
    "    path[folder] = f\"{path_file}/{folder}\""
   ]
  },
  {
   "cell_type": "code",
   "execution_count": 2,
   "id": "4211d697-4e8f-4d66-b030-354d8b5c750a",
   "metadata": {
    "tags": []
   },
   "outputs": [],
   "source": [
    "import numpy as np"
   ]
  },
  {
   "cell_type": "code",
   "execution_count": 3,
   "id": "22aa58f8-59b7-4581-ade8-38e660595112",
   "metadata": {
    "tags": []
   },
   "outputs": [],
   "source": [
    "from regime.simulation_helper import *"
   ]
  },
  {
   "cell_type": "code",
   "execution_count": 4,
   "id": "3c72cf79-a85b-425e-abe1-d29962dafa76",
   "metadata": {},
   "outputs": [
    {
     "name": "stdout",
     "output_type": "stream",
     "text": [
      "[1.00000000e-02 1.00000000e-01 1.00000000e+00 1.00000000e+01\n",
      " 2.15443469e+01 4.64158883e+01 1.00000000e+02 2.15443469e+02\n",
      " 4.64158883e+02 1.00000000e+03 2.15443469e+03 4.64158883e+03\n",
      " 1.00000000e+04 1.00000000e+05 1.00000000e+06]\n"
     ]
    }
   ],
   "source": [
    "batch_size, num_of_batch = 32, 1\n",
    "param_grid = generate_param_grid()"
   ]
  },
  {
   "cell_type": "code",
   "execution_count": 5,
   "id": "7a4f54aa-9039-48b3-8079-a29c3aee4464",
   "metadata": {
    "tags": []
   },
   "outputs": [
    {
     "name": "stdout",
     "output_type": "stream",
     "text": [
      "shape of the saved acc: (32, 2, 15).\n",
      "shape of the saved ROC-AUC: (32, 15).\n",
      "save means to hdf: (15, 10)\n",
      "save stds to hdf: (15, 10)\n",
      "save summary to hdf: (15, 11)\n",
      "shape of the saved acc: (32, 2, 15).\n",
      "shape of the saved ROC-AUC: (32, 15).\n",
      "save means to hdf: (15, 10)\n",
      "save stds to hdf: (15, 10)\n",
      "save summary to hdf: (15, 11)\n",
      "shape of the saved acc: (32, 2, 15).\n",
      "shape of the saved ROC-AUC: (32, 15).\n",
      "save means to hdf: (15, 10)\n",
      "save stds to hdf: (15, 10)\n",
      "save summary to hdf: (15, 11)\n",
      "shape of the saved acc: (32, 2).\n",
      "shape of the saved ROC-AUC: (32,).\n",
      "save means to hdf: (1, 10)\n",
      "save stds to hdf: (1, 10)\n",
      "save summary to hdf: (1, 10)\n",
      "shape of the saved acc: (32, 2, 15).\n",
      "shape of the saved ROC-AUC: (32, 15).\n",
      "save means to hdf: (15, 10)\n",
      "save stds to hdf: (15, 10)\n",
      "save summary to hdf: (15, 11)\n",
      "shape of the saved acc: (32, 2).\n",
      "shape of the saved ROC-AUC: (32,).\n",
      "save means to hdf: (1, 10)\n",
      "save stds to hdf: (1, 10)\n",
      "save summary to hdf: (1, 10)\n",
      "shape of the saved acc: (32, 2, 15).\n",
      "shape of the saved ROC-AUC: (32, 15).\n",
      "save means to hdf: (15, 10)\n",
      "save stds to hdf: (15, 10)\n",
      "save summary to hdf: (15, 11)\n",
      "shape of the saved acc: (32, 2, 15).\n",
      "shape of the saved ROC-AUC: (32, 15).\n",
      "save means to hdf: (15, 10)\n",
      "save stds to hdf: (15, 10)\n",
      "save summary to hdf: (15, 11)\n",
      "shape of the saved acc: (32, 2, 15).\n",
      "shape of the saved ROC-AUC: (32, 15).\n",
      "save means to hdf: (15, 10)\n",
      "save stds to hdf: (15, 10)\n",
      "save summary to hdf: (15, 11)\n",
      "shape of the saved acc: (32, 2).\n",
      "shape of the saved ROC-AUC: (32,).\n",
      "save means to hdf: (1, 10)\n",
      "save stds to hdf: (1, 10)\n",
      "save summary to hdf: (1, 10)\n",
      "shape of the saved acc: (32, 2, 15).\n",
      "shape of the saved ROC-AUC: (32, 15).\n",
      "save means to hdf: (15, 10)\n",
      "save stds to hdf: (15, 10)\n",
      "save summary to hdf: (15, 11)\n"
     ]
    },
    {
     "name": "stderr",
     "output_type": "stream",
     "text": [
      "/Users/yizhan/Documents/G3_2/regime-identification/regime/simulation_helper.py:766: RuntimeWarning: Mean of empty slice\n",
      "  means_dict[\"model_params\"] = pd.DataFrame(np.nanmean(model_params_arr, axis=0), index=modelParams_index)\n",
      "/Users/yizhan/mambaforge/envs/regime-gurobi/lib/python3.10/site-packages/numpy/lib/nanfunctions.py:1878: RuntimeWarning: Degrees of freedom <= 0 for slice.\n",
      "  var = nanvar(a, axis=axis, dtype=dtype, out=out, ddof=ddof,\n"
     ]
    },
    {
     "name": "stdout",
     "output_type": "stream",
     "text": [
      "shape of the saved acc: (32, 2, 15).\n",
      "shape of the saved ROC-AUC: (32, 15).\n",
      "save means to hdf: (15, 10)\n",
      "save stds to hdf: (15, 10)\n",
      "save summary to hdf: (15, 11)\n",
      "shape of the saved acc: (32, 2, 15).\n",
      "shape of the saved ROC-AUC: (32, 15).\n",
      "save means to hdf: (15, 10)\n",
      "save stds to hdf: (15, 10)\n",
      "save summary to hdf: (15, 11)\n",
      "shape of the saved acc: (32, 2).\n",
      "shape of the saved ROC-AUC: (32,).\n",
      "save means to hdf: (1, 10)\n",
      "save stds to hdf: (1, 10)\n",
      "save summary to hdf: (1, 10)\n",
      "shape of the saved acc: (32, 2, 15).\n",
      "shape of the saved ROC-AUC: (32, 15).\n",
      "save means to hdf: (15, 10)\n",
      "save stds to hdf: (15, 10)\n",
      "save summary to hdf: (15, 11)\n",
      "shape of the saved acc: (32, 2).\n",
      "shape of the saved ROC-AUC: (32,).\n",
      "save means to hdf: (1, 10)\n",
      "save stds to hdf: (1, 10)\n",
      "save summary to hdf: (1, 10)\n",
      "shape of the saved acc: (32, 2).\n",
      "shape of the saved ROC-AUC: (32,).\n",
      "save means to hdf: (1, 10)\n",
      "save stds to hdf: (1, 10)\n",
      "save summary to hdf: (1, 10)\n"
     ]
    },
    {
     "name": "stderr",
     "output_type": "stream",
     "text": [
      "/Users/yizhan/Documents/G3_2/regime-identification/regime/simulation_helper.py:766: RuntimeWarning: Mean of empty slice\n",
      "  means_dict[\"model_params\"] = pd.DataFrame(np.nanmean(model_params_arr, axis=0), index=modelParams_index)\n",
      "/Users/yizhan/mambaforge/envs/regime-gurobi/lib/python3.10/site-packages/numpy/lib/nanfunctions.py:1878: RuntimeWarning: Degrees of freedom <= 0 for slice.\n",
      "  var = nanvar(a, axis=axis, dtype=dtype, out=out, ddof=ddof,\n"
     ]
    },
    {
     "name": "stdout",
     "output_type": "stream",
     "text": [
      "shape of the saved acc: (32, 2, 15).\n",
      "shape of the saved ROC-AUC: (32, 15).\n",
      "save means to hdf: (15, 10)\n",
      "save stds to hdf: (15, 10)\n",
      "save summary to hdf: (15, 11)\n",
      "shape of the saved acc: (32, 2).\n",
      "shape of the saved ROC-AUC: (32,).\n",
      "save means to hdf: (1, 10)\n",
      "save stds to hdf: (1, 10)\n",
      "save summary to hdf: (1, 10)\n",
      "shape of the saved acc: (32, 2).\n",
      "shape of the saved ROC-AUC: (32,).\n",
      "save means to hdf: (1, 10)\n",
      "save stds to hdf: (1, 10)\n",
      "save summary to hdf: (1, 10)\n"
     ]
    },
    {
     "name": "stderr",
     "output_type": "stream",
     "text": [
      "/Users/yizhan/Documents/G3_2/regime-identification/regime/simulation_helper.py:766: RuntimeWarning: Mean of empty slice\n",
      "  means_dict[\"model_params\"] = pd.DataFrame(np.nanmean(model_params_arr, axis=0), index=modelParams_index)\n",
      "/Users/yizhan/mambaforge/envs/regime-gurobi/lib/python3.10/site-packages/numpy/lib/nanfunctions.py:1878: RuntimeWarning: Degrees of freedom <= 0 for slice.\n",
      "  var = nanvar(a, axis=axis, dtype=dtype, out=out, ddof=ddof,\n"
     ]
    },
    {
     "name": "stdout",
     "output_type": "stream",
     "text": [
      "shape of the saved acc: (32, 2, 15).\n",
      "shape of the saved ROC-AUC: (32, 15).\n",
      "save means to hdf: (15, 10)\n",
      "save stds to hdf: (15, 10)\n",
      "save summary to hdf: (15, 11)\n",
      "shape of the saved acc: (32, 2, 15).\n",
      "shape of the saved ROC-AUC: (32, 15).\n",
      "save means to hdf: (15, 10)\n",
      "save stds to hdf: (15, 10)\n",
      "save summary to hdf: (15, 11)\n"
     ]
    },
    {
     "name": "stderr",
     "output_type": "stream",
     "text": [
      "/Users/yizhan/Documents/G3_2/regime-identification/regime/simulation_helper.py:766: RuntimeWarning: Mean of empty slice\n",
      "  means_dict[\"model_params\"] = pd.DataFrame(np.nanmean(model_params_arr, axis=0), index=modelParams_index)\n",
      "/Users/yizhan/mambaforge/envs/regime-gurobi/lib/python3.10/site-packages/numpy/lib/nanfunctions.py:1878: RuntimeWarning: Degrees of freedom <= 0 for slice.\n",
      "  var = nanvar(a, axis=axis, dtype=dtype, out=out, ddof=ddof,\n"
     ]
    },
    {
     "name": "stdout",
     "output_type": "stream",
     "text": [
      "shape of the saved acc: (32, 2, 15).\n",
      "shape of the saved ROC-AUC: (32, 15).\n",
      "save means to hdf: (15, 10)\n",
      "save stds to hdf: (15, 10)\n",
      "save summary to hdf: (15, 11)\n",
      "shape of the saved acc: (32, 2, 15).\n",
      "shape of the saved ROC-AUC: (32, 15).\n",
      "save means to hdf: (15, 10)\n",
      "save stds to hdf: (15, 10)\n",
      "save summary to hdf: (15, 11)\n",
      "shape of the saved acc: (32, 2, 15).\n",
      "shape of the saved ROC-AUC: (32, 15).\n",
      "save means to hdf: (15, 10)\n",
      "save stds to hdf: (15, 10)\n"
     ]
    },
    {
     "name": "stderr",
     "output_type": "stream",
     "text": [
      "/Users/yizhan/Documents/G3_2/regime-identification/regime/simulation_helper.py:766: RuntimeWarning: Mean of empty slice\n",
      "  means_dict[\"model_params\"] = pd.DataFrame(np.nanmean(model_params_arr, axis=0), index=modelParams_index)\n",
      "/Users/yizhan/mambaforge/envs/regime-gurobi/lib/python3.10/site-packages/numpy/lib/nanfunctions.py:1878: RuntimeWarning: Degrees of freedom <= 0 for slice.\n",
      "  var = nanvar(a, axis=axis, dtype=dtype, out=out, ddof=ddof,\n",
      "/Users/yizhan/Documents/G3_2/regime-identification/regime/simulation_helper.py:766: RuntimeWarning: Mean of empty slice\n",
      "  means_dict[\"model_params\"] = pd.DataFrame(np.nanmean(model_params_arr, axis=0), index=modelParams_index)\n",
      "/Users/yizhan/mambaforge/envs/regime-gurobi/lib/python3.10/site-packages/numpy/lib/nanfunctions.py:1878: RuntimeWarning: Degrees of freedom <= 0 for slice.\n",
      "  var = nanvar(a, axis=axis, dtype=dtype, out=out, ddof=ddof,\n"
     ]
    },
    {
     "name": "stdout",
     "output_type": "stream",
     "text": [
      "save summary to hdf: (15, 11)\n",
      "shape of the saved acc: (32, 2).\n",
      "shape of the saved ROC-AUC: (32,).\n",
      "save means to hdf: (1, 10)\n",
      "save stds to hdf: (1, 10)\n",
      "save summary to hdf: (1, 10)\n",
      "shape of the saved acc: (32, 2, 15).\n",
      "shape of the saved ROC-AUC: (32, 15).\n",
      "save means to hdf: (15, 10)\n",
      "save stds to hdf: (15, 10)\n",
      "save summary to hdf: (15, 11)\n",
      "shape of the saved acc: (32, 2).\n",
      "shape of the saved ROC-AUC: (32,).\n",
      "save means to hdf: (1, 10)\n",
      "save stds to hdf: (1, 10)\n"
     ]
    },
    {
     "name": "stderr",
     "output_type": "stream",
     "text": [
      "/Users/yizhan/Documents/G3_2/regime-identification/regime/simulation_helper.py:766: RuntimeWarning: Mean of empty slice\n",
      "  means_dict[\"model_params\"] = pd.DataFrame(np.nanmean(model_params_arr, axis=0), index=modelParams_index)\n",
      "/Users/yizhan/mambaforge/envs/regime-gurobi/lib/python3.10/site-packages/numpy/lib/nanfunctions.py:1878: RuntimeWarning: Degrees of freedom <= 0 for slice.\n",
      "  var = nanvar(a, axis=axis, dtype=dtype, out=out, ddof=ddof,\n"
     ]
    },
    {
     "name": "stdout",
     "output_type": "stream",
     "text": [
      "save summary to hdf: (1, 10)\n",
      "shape of the saved acc: (32, 2, 15).\n",
      "shape of the saved ROC-AUC: (32, 15).\n",
      "save means to hdf: (15, 10)\n",
      "save stds to hdf: (15, 10)\n",
      "save summary to hdf: (15, 11)\n",
      "shape of the saved acc: (32, 2, 15).\n",
      "shape of the saved ROC-AUC: (32, 15).\n",
      "save means to hdf: (15, 10)\n",
      "save stds to hdf: (15, 10)\n",
      "save summary to hdf: (15, 11)\n",
      "shape of the saved acc: (32, 2, 15).\n",
      "shape of the saved ROC-AUC: (32, 15).\n",
      "save means to hdf: (15, 10)\n",
      "save stds to hdf: (15, 10)\n",
      "save summary to hdf: (15, 11)\n",
      "shape of the saved acc: (32, 2, 15).\n",
      "shape of the saved ROC-AUC: (32, 15).\n",
      "save means to hdf: (15, 10)\n",
      "save stds to hdf: (15, 10)\n",
      "save summary to hdf: (15, 11)\n"
     ]
    },
    {
     "name": "stderr",
     "output_type": "stream",
     "text": [
      "/Users/yizhan/Documents/G3_2/regime-identification/regime/simulation_helper.py:766: RuntimeWarning: Mean of empty slice\n",
      "  means_dict[\"model_params\"] = pd.DataFrame(np.nanmean(model_params_arr, axis=0), index=modelParams_index)\n",
      "/Users/yizhan/mambaforge/envs/regime-gurobi/lib/python3.10/site-packages/numpy/lib/nanfunctions.py:1878: RuntimeWarning: Degrees of freedom <= 0 for slice.\n",
      "  var = nanvar(a, axis=axis, dtype=dtype, out=out, ddof=ddof,\n"
     ]
    },
    {
     "name": "stdout",
     "output_type": "stream",
     "text": [
      "shape of the saved acc: (32, 2, 15).\n",
      "shape of the saved ROC-AUC: (32, 15).\n",
      "save means to hdf: (15, 10)\n",
      "save stds to hdf: (15, 10)\n",
      "save summary to hdf: (15, 11)\n",
      "shape of the saved acc: (32, 2).\n",
      "shape of the saved ROC-AUC: (32,).\n",
      "save means to hdf: (1, 10)\n",
      "save stds to hdf: (1, 10)\n",
      "save summary to hdf: (1, 10)\n"
     ]
    },
    {
     "name": "stderr",
     "output_type": "stream",
     "text": [
      "/Users/yizhan/Documents/G3_2/regime-identification/regime/simulation_helper.py:766: RuntimeWarning: Mean of empty slice\n",
      "  means_dict[\"model_params\"] = pd.DataFrame(np.nanmean(model_params_arr, axis=0), index=modelParams_index)\n",
      "/Users/yizhan/mambaforge/envs/regime-gurobi/lib/python3.10/site-packages/numpy/lib/nanfunctions.py:1878: RuntimeWarning: Degrees of freedom <= 0 for slice.\n",
      "  var = nanvar(a, axis=axis, dtype=dtype, out=out, ddof=ddof,\n"
     ]
    },
    {
     "name": "stdout",
     "output_type": "stream",
     "text": [
      "shape of the saved acc: (32, 2, 15).\n",
      "shape of the saved ROC-AUC: (32, 15).\n",
      "save means to hdf: (15, 10)\n",
      "save stds to hdf: (15, 10)\n",
      "save summary to hdf: (15, 11)\n"
     ]
    },
    {
     "name": "stderr",
     "output_type": "stream",
     "text": [
      "/Users/yizhan/Documents/G3_2/regime-identification/regime/simulation_helper.py:766: RuntimeWarning: Mean of empty slice\n",
      "  means_dict[\"model_params\"] = pd.DataFrame(np.nanmean(model_params_arr, axis=0), index=modelParams_index)\n",
      "/Users/yizhan/mambaforge/envs/regime-gurobi/lib/python3.10/site-packages/numpy/lib/nanfunctions.py:1878: RuntimeWarning: Degrees of freedom <= 0 for slice.\n",
      "  var = nanvar(a, axis=axis, dtype=dtype, out=out, ddof=ddof,\n",
      "/Users/yizhan/Documents/G3_2/regime-identification/regime/simulation_helper.py:766: RuntimeWarning: Mean of empty slice\n",
      "  means_dict[\"model_params\"] = pd.DataFrame(np.nanmean(model_params_arr, axis=0), index=modelParams_index)\n",
      "/Users/yizhan/mambaforge/envs/regime-gurobi/lib/python3.10/site-packages/numpy/lib/nanfunctions.py:1878: RuntimeWarning: Degrees of freedom <= 0 for slice.\n",
      "  var = nanvar(a, axis=axis, dtype=dtype, out=out, ddof=ddof,\n"
     ]
    },
    {
     "name": "stdout",
     "output_type": "stream",
     "text": [
      "shape of the saved acc: (32, 2, 15).\n",
      "shape of the saved ROC-AUC: (32, 15).\n",
      "save means to hdf: (15, 10)\n",
      "save stds to hdf: (15, 10)\n",
      "save summary to hdf: (15, 11)\n",
      "shape of the saved acc: (32, 2, 15).\n",
      "shape of the saved ROC-AUC: (32, 15).\n",
      "save means to hdf: (15, 10)\n",
      "save stds to hdf: (15, 10)\n",
      "save summary to hdf: (15, 11)\n",
      "shape of the saved acc: (32, 2).\n",
      "shape of the saved ROC-AUC: (32,).\n",
      "save means to hdf: (1, 10)\n",
      "save stds to hdf: (1, 10)\n",
      "save summary to hdf: (1, 10)\n",
      "shape of the saved acc: (32, 2).\n",
      "shape of the saved ROC-AUC: (32,).\n",
      "save means to hdf: (1, 10)\n",
      "save stds to hdf: (1, 10)\n",
      "save summary to hdf: (1, 10)\n",
      "shape of the saved acc: (32, 2).\n",
      "shape of the saved ROC-AUC: (32,).\n",
      "save means to hdf: (1, 10)\n",
      "save stds to hdf: (1, 10)\n",
      "save summary to hdf: (1, 10)\n",
      "shape of the saved acc: (32, 2).\n",
      "shape of the saved ROC-AUC: (32,).\n",
      "save means to hdf: (1, 10)\n",
      "save stds to hdf: (1, 10)\n",
      "save summary to hdf: (1, 10)\n",
      "shape of the saved acc: (32, 2).\n",
      "shape of the saved ROC-AUC: (32,).\n",
      "save means to hdf: (1, 10)\n",
      "save stds to hdf: (1, 10)\n",
      "save summary to hdf: (1, 10)\n",
      "shape of the saved acc: (32, 2, 15).\n",
      "shape of the saved ROC-AUC: (32, 15).\n"
     ]
    },
    {
     "name": "stderr",
     "output_type": "stream",
     "text": [
      "/Users/yizhan/Documents/G3_2/regime-identification/regime/simulation_helper.py:766: RuntimeWarning: Mean of empty slice\n",
      "  means_dict[\"model_params\"] = pd.DataFrame(np.nanmean(model_params_arr, axis=0), index=modelParams_index)\n",
      "/Users/yizhan/mambaforge/envs/regime-gurobi/lib/python3.10/site-packages/numpy/lib/nanfunctions.py:1878: RuntimeWarning: Degrees of freedom <= 0 for slice.\n",
      "  var = nanvar(a, axis=axis, dtype=dtype, out=out, ddof=ddof,\n"
     ]
    },
    {
     "name": "stdout",
     "output_type": "stream",
     "text": [
      "save means to hdf: (15, 10)\n",
      "save stds to hdf: (15, 10)\n",
      "save summary to hdf: (15, 11)\n",
      "shape of the saved acc: (32, 2).\n",
      "shape of the saved ROC-AUC: (32,).\n",
      "save means to hdf: (1, 10)\n",
      "save stds to hdf: (1, 10)\n",
      "save summary to hdf: (1, 10)\n",
      "shape of the saved acc: (32, 2).\n",
      "shape of the saved ROC-AUC: (32,).\n",
      "save means to hdf: (1, 10)\n",
      "save stds to hdf: (1, 10)\n",
      "save summary to hdf: (1, 10)\n",
      "shape of the saved acc: (32, 2, 15).\n",
      "shape of the saved ROC-AUC: (32, 15).\n",
      "save means to hdf: (15, 10)\n",
      "save stds to hdf: (15, 10)\n",
      "save summary to hdf: (15, 11)\n",
      "shape of the saved acc: (32, 2, 15).\n",
      "shape of the saved ROC-AUC: (32, 15).\n",
      "save means to hdf: (15, 10)\n",
      "save stds to hdf: (15, 10)\n",
      "save summary to hdf: (15, 11)\n"
     ]
    },
    {
     "name": "stderr",
     "output_type": "stream",
     "text": [
      "/Users/yizhan/Documents/G3_2/regime-identification/regime/simulation_helper.py:766: RuntimeWarning: Mean of empty slice\n",
      "  means_dict[\"model_params\"] = pd.DataFrame(np.nanmean(model_params_arr, axis=0), index=modelParams_index)\n",
      "/Users/yizhan/mambaforge/envs/regime-gurobi/lib/python3.10/site-packages/numpy/lib/nanfunctions.py:1878: RuntimeWarning: Degrees of freedom <= 0 for slice.\n",
      "  var = nanvar(a, axis=axis, dtype=dtype, out=out, ddof=ddof,\n",
      "/Users/yizhan/Documents/G3_2/regime-identification/regime/simulation_helper.py:766: RuntimeWarning: Mean of empty slice\n",
      "  means_dict[\"model_params\"] = pd.DataFrame(np.nanmean(model_params_arr, axis=0), index=modelParams_index)\n",
      "/Users/yizhan/mambaforge/envs/regime-gurobi/lib/python3.10/site-packages/numpy/lib/nanfunctions.py:1878: RuntimeWarning: Degrees of freedom <= 0 for slice.\n",
      "  var = nanvar(a, axis=axis, dtype=dtype, out=out, ddof=ddof,\n"
     ]
    },
    {
     "name": "stdout",
     "output_type": "stream",
     "text": [
      "shape of the saved acc: (32, 2, 15).\n",
      "shape of the saved ROC-AUC: (32, 15).\n",
      "save means to hdf: (15, 10)\n",
      "save stds to hdf: (15, 10)\n",
      "save summary to hdf: (15, 11)\n",
      "shape of the saved acc: (32, 2, 15).\n",
      "shape of the saved ROC-AUC: (32, 15).\n",
      "save means to hdf: (15, 10)\n",
      "save stds to hdf: (15, 10)\n"
     ]
    },
    {
     "name": "stderr",
     "output_type": "stream",
     "text": [
      "/Users/yizhan/Documents/G3_2/regime-identification/regime/simulation_helper.py:766: RuntimeWarning: Mean of empty slice\n",
      "  means_dict[\"model_params\"] = pd.DataFrame(np.nanmean(model_params_arr, axis=0), index=modelParams_index)\n",
      "/Users/yizhan/mambaforge/envs/regime-gurobi/lib/python3.10/site-packages/numpy/lib/nanfunctions.py:1878: RuntimeWarning: Degrees of freedom <= 0 for slice.\n",
      "  var = nanvar(a, axis=axis, dtype=dtype, out=out, ddof=ddof,\n",
      "/Users/yizhan/Documents/G3_2/regime-identification/regime/simulation_helper.py:766: RuntimeWarning: Mean of empty slice\n",
      "  means_dict[\"model_params\"] = pd.DataFrame(np.nanmean(model_params_arr, axis=0), index=modelParams_index)\n",
      "/Users/yizhan/mambaforge/envs/regime-gurobi/lib/python3.10/site-packages/numpy/lib/nanfunctions.py:1878: RuntimeWarning: Degrees of freedom <= 0 for slice.\n",
      "  var = nanvar(a, axis=axis, dtype=dtype, out=out, ddof=ddof,\n"
     ]
    },
    {
     "name": "stdout",
     "output_type": "stream",
     "text": [
      "save summary to hdf: (15, 11)\n",
      "shape of the saved acc: (32, 2).\n",
      "shape of the saved ROC-AUC: (32,).\n",
      "save means to hdf: (1, 10)\n",
      "save stds to hdf: (1, 10)\n",
      "save summary to hdf: (1, 10)\n",
      "shape of the saved acc: (32, 2, 15).\n",
      "shape of the saved ROC-AUC: (32, 15).\n",
      "save means to hdf: (15, 10)\n",
      "save stds to hdf: (15, 10)\n"
     ]
    },
    {
     "name": "stderr",
     "output_type": "stream",
     "text": [
      "/Users/yizhan/Documents/G3_2/regime-identification/regime/simulation_helper.py:766: RuntimeWarning: Mean of empty slice\n",
      "  means_dict[\"model_params\"] = pd.DataFrame(np.nanmean(model_params_arr, axis=0), index=modelParams_index)\n",
      "/Users/yizhan/mambaforge/envs/regime-gurobi/lib/python3.10/site-packages/numpy/lib/nanfunctions.py:1878: RuntimeWarning: Degrees of freedom <= 0 for slice.\n",
      "  var = nanvar(a, axis=axis, dtype=dtype, out=out, ddof=ddof,\n"
     ]
    },
    {
     "name": "stdout",
     "output_type": "stream",
     "text": [
      "save summary to hdf: (15, 11)\n",
      "shape of the saved acc: (32, 2).\n",
      "shape of the saved ROC-AUC: (32,).\n",
      "save means to hdf: (1, 10)\n",
      "save stds to hdf: (1, 10)\n",
      "save summary to hdf: (1, 10)\n",
      "shape of the saved acc: (32, 2).\n",
      "shape of the saved ROC-AUC: (32,).\n",
      "save means to hdf: (1, 10)\n",
      "save stds to hdf: (1, 10)\n",
      "save summary to hdf: (1, 10)\n",
      "shape of the saved acc: (32, 2).\n",
      "shape of the saved ROC-AUC: (32,).\n",
      "save means to hdf: (1, 10)\n",
      "save stds to hdf: (1, 10)\n",
      "save summary to hdf: (1, 10)\n",
      "shape of the saved acc: (32, 2, 15).\n",
      "shape of the saved ROC-AUC: (32, 15).\n",
      "save means to hdf: (15, 10)\n",
      "save stds to hdf: (15, 10)\n",
      "save summary to hdf: (15, 11)\n",
      "shape of the saved acc: (32, 2, 15).\n",
      "shape of the saved ROC-AUC: (32, 15).\n",
      "save means to hdf: (15, 10)\n",
      "save stds to hdf: (15, 10)\n",
      "save summary to hdf: (15, 11)\n"
     ]
    },
    {
     "name": "stderr",
     "output_type": "stream",
     "text": [
      "/Users/yizhan/Documents/G3_2/regime-identification/regime/simulation_helper.py:766: RuntimeWarning: Mean of empty slice\n",
      "  means_dict[\"model_params\"] = pd.DataFrame(np.nanmean(model_params_arr, axis=0), index=modelParams_index)\n",
      "/Users/yizhan/mambaforge/envs/regime-gurobi/lib/python3.10/site-packages/numpy/lib/nanfunctions.py:1878: RuntimeWarning: Degrees of freedom <= 0 for slice.\n",
      "  var = nanvar(a, axis=axis, dtype=dtype, out=out, ddof=ddof,\n",
      "/Users/yizhan/Documents/G3_2/regime-identification/regime/simulation_helper.py:766: RuntimeWarning: Mean of empty slice\n",
      "  means_dict[\"model_params\"] = pd.DataFrame(np.nanmean(model_params_arr, axis=0), index=modelParams_index)\n",
      "/Users/yizhan/mambaforge/envs/regime-gurobi/lib/python3.10/site-packages/numpy/lib/nanfunctions.py:1878: RuntimeWarning: Degrees of freedom <= 0 for slice.\n",
      "  var = nanvar(a, axis=axis, dtype=dtype, out=out, ddof=ddof,\n"
     ]
    },
    {
     "name": "stdout",
     "output_type": "stream",
     "text": [
      "shape of the saved acc: (32, 2, 15).\n",
      "shape of the saved ROC-AUC: (32, 15).\n",
      "save means to hdf: (15, 10)\n",
      "save stds to hdf: (15, 10)\n",
      "save summary to hdf: (15, 11)\n",
      "shape of the saved acc: (32, 2, 15).\n",
      "shape of the saved ROC-AUC: (32, 15).\n",
      "save means to hdf: (15, 10)\n",
      "save stds to hdf: (15, 10)\n",
      "save summary to hdf: (15, 11)\n"
     ]
    },
    {
     "name": "stderr",
     "output_type": "stream",
     "text": [
      "/Users/yizhan/Documents/G3_2/regime-identification/regime/simulation_helper.py:766: RuntimeWarning: Mean of empty slice\n",
      "  means_dict[\"model_params\"] = pd.DataFrame(np.nanmean(model_params_arr, axis=0), index=modelParams_index)\n",
      "/Users/yizhan/mambaforge/envs/regime-gurobi/lib/python3.10/site-packages/numpy/lib/nanfunctions.py:1878: RuntimeWarning: Degrees of freedom <= 0 for slice.\n",
      "  var = nanvar(a, axis=axis, dtype=dtype, out=out, ddof=ddof,\n",
      "/Users/yizhan/Documents/G3_2/regime-identification/regime/simulation_helper.py:766: RuntimeWarning: Mean of empty slice\n",
      "  means_dict[\"model_params\"] = pd.DataFrame(np.nanmean(model_params_arr, axis=0), index=modelParams_index)\n",
      "/Users/yizhan/mambaforge/envs/regime-gurobi/lib/python3.10/site-packages/numpy/lib/nanfunctions.py:1878: RuntimeWarning: Degrees of freedom <= 0 for slice.\n",
      "  var = nanvar(a, axis=axis, dtype=dtype, out=out, ddof=ddof,\n"
     ]
    },
    {
     "name": "stdout",
     "output_type": "stream",
     "text": [
      "shape of the saved acc: (32, 2).\n",
      "shape of the saved ROC-AUC: (32,).\n",
      "save means to hdf: (1, 10)\n",
      "save stds to hdf: (1, 10)\n",
      "save summary to hdf: (1, 10)\n",
      "shape of the saved acc: (32, 2).\n",
      "shape of the saved ROC-AUC: (32,).\n",
      "save means to hdf: (1, 10)\n",
      "save stds to hdf: (1, 10)\n",
      "save summary to hdf: (1, 10)\n",
      "shape of the saved acc: (32, 2, 15).\n",
      "shape of the saved ROC-AUC: (32, 15).\n",
      "save means to hdf: (15, 10)\n"
     ]
    },
    {
     "name": "stderr",
     "output_type": "stream",
     "text": [
      "/Users/yizhan/Documents/G3_2/regime-identification/regime/simulation_helper.py:766: RuntimeWarning: Mean of empty slice\n",
      "  means_dict[\"model_params\"] = pd.DataFrame(np.nanmean(model_params_arr, axis=0), index=modelParams_index)\n",
      "/Users/yizhan/mambaforge/envs/regime-gurobi/lib/python3.10/site-packages/numpy/lib/nanfunctions.py:1878: RuntimeWarning: Degrees of freedom <= 0 for slice.\n",
      "  var = nanvar(a, axis=axis, dtype=dtype, out=out, ddof=ddof,\n",
      "/Users/yizhan/Documents/G3_2/regime-identification/regime/simulation_helper.py:766: RuntimeWarning: Mean of empty slice\n",
      "  means_dict[\"model_params\"] = pd.DataFrame(np.nanmean(model_params_arr, axis=0), index=modelParams_index)\n",
      "/Users/yizhan/mambaforge/envs/regime-gurobi/lib/python3.10/site-packages/numpy/lib/nanfunctions.py:1878: RuntimeWarning: Degrees of freedom <= 0 for slice.\n",
      "  var = nanvar(a, axis=axis, dtype=dtype, out=out, ddof=ddof,\n"
     ]
    },
    {
     "name": "stdout",
     "output_type": "stream",
     "text": [
      "save stds to hdf: (15, 10)\n",
      "save summary to hdf: (15, 11)\n",
      "shape of the saved acc: (32, 2).\n",
      "shape of the saved ROC-AUC: (32,).\n",
      "save means to hdf: (1, 10)\n",
      "save stds to hdf: (1, 10)\n",
      "save summary to hdf: (1, 10)\n",
      "shape of the saved acc: (32, 2, 15).\n",
      "shape of the saved ROC-AUC: (32, 15).\n",
      "save means to hdf: (15, 10)\n",
      "save stds to hdf: (15, 10)\n",
      "save summary to hdf: (15, 11)\n",
      "shape of the saved acc: (32, 2).\n",
      "shape of the saved ROC-AUC: (32,).\n",
      "save means to hdf: (1, 10)\n",
      "save stds to hdf: (1, 10)\n",
      "save summary to hdf: (1, 10)\n",
      "shape of the saved acc: (32, 2, 15).\n",
      "shape of the saved ROC-AUC: (32, 15).\n",
      "save means to hdf: (15, 10)\n",
      "save stds to hdf: (15, 10)\n",
      "save summary to hdf: (15, 11)\n"
     ]
    },
    {
     "name": "stderr",
     "output_type": "stream",
     "text": [
      "/Users/yizhan/Documents/G3_2/regime-identification/regime/simulation_helper.py:766: RuntimeWarning: Mean of empty slice\n",
      "  means_dict[\"model_params\"] = pd.DataFrame(np.nanmean(model_params_arr, axis=0), index=modelParams_index)\n",
      "/Users/yizhan/mambaforge/envs/regime-gurobi/lib/python3.10/site-packages/numpy/lib/nanfunctions.py:1878: RuntimeWarning: Degrees of freedom <= 0 for slice.\n",
      "  var = nanvar(a, axis=axis, dtype=dtype, out=out, ddof=ddof,\n"
     ]
    },
    {
     "name": "stdout",
     "output_type": "stream",
     "text": [
      "shape of the saved acc: (32, 2, 15).\n",
      "shape of the saved ROC-AUC: (32, 15).\n",
      "save means to hdf: (15, 10)\n",
      "save stds to hdf: (15, 10)\n",
      "save summary to hdf: (15, 11)\n",
      "shape of the saved acc: (32, 2, 15).\n",
      "shape of the saved ROC-AUC: (32, 15).\n"
     ]
    },
    {
     "name": "stderr",
     "output_type": "stream",
     "text": [
      "/Users/yizhan/Documents/G3_2/regime-identification/regime/simulation_helper.py:766: RuntimeWarning: Mean of empty slice\n",
      "  means_dict[\"model_params\"] = pd.DataFrame(np.nanmean(model_params_arr, axis=0), index=modelParams_index)\n",
      "/Users/yizhan/mambaforge/envs/regime-gurobi/lib/python3.10/site-packages/numpy/lib/nanfunctions.py:1878: RuntimeWarning: Degrees of freedom <= 0 for slice.\n",
      "  var = nanvar(a, axis=axis, dtype=dtype, out=out, ddof=ddof,\n"
     ]
    },
    {
     "name": "stdout",
     "output_type": "stream",
     "text": [
      "save means to hdf: (15, 10)\n",
      "save stds to hdf: (15, 10)\n",
      "save summary to hdf: (15, 11)\n",
      "shape of the saved acc: (32, 2, 15).\n",
      "shape of the saved ROC-AUC: (32, 15).\n",
      "save means to hdf: (15, 10)\n",
      "save stds to hdf: (15, 10)\n",
      "save summary to hdf: (15, 11)\n",
      "shape of the saved acc: (32, 2).\n",
      "shape of the saved ROC-AUC: (32,).\n",
      "save means to hdf: (1, 10)\n",
      "save stds to hdf: (1, 10)\n",
      "save summary to hdf: (1, 10)\n",
      "shape of the saved acc: (32, 2, 15).\n",
      "shape of the saved ROC-AUC: (32, 15).\n",
      "save means to hdf: (15, 10)\n",
      "save stds to hdf: (15, 10)\n",
      "save summary to hdf: (15, 11)\n",
      "shape of the saved acc: (32, 2).\n",
      "shape of the saved ROC-AUC: (32,).\n",
      "save means to hdf: (1, 10)\n",
      "save stds to hdf: (1, 10)\n",
      "save summary to hdf: (1, 10)\n",
      "shape of the saved acc: (32, 2, 15).\n",
      "shape of the saved ROC-AUC: (32, 15).\n",
      "save means to hdf: (15, 10)\n",
      "save stds to hdf: (15, 10)\n",
      "save summary to hdf: (15, 11)\n",
      "shape of the saved acc: (32, 2, 15).\n",
      "shape of the saved ROC-AUC: (32, 15).\n",
      "save means to hdf: (15, 10)\n",
      "save stds to hdf: (15, 10)\n",
      "save summary to hdf: (15, 11)\n",
      "shape of the saved acc: (32, 2, 15).\n",
      "shape of the saved ROC-AUC: (32, 15).\n",
      "save means to hdf: (15, 10)\n",
      "save stds to hdf: (15, 10)\n",
      "save summary to hdf: (15, 11)\n",
      "shape of the saved acc: (32, 2).\n",
      "shape of the saved ROC-AUC: (32,).\n",
      "save means to hdf: (1, 10)\n",
      "save stds to hdf: (1, 10)\n",
      "save summary to hdf: (1, 10)\n",
      "shape of the saved acc: (32, 2, 15).\n",
      "shape of the saved ROC-AUC: (32, 15).\n",
      "save means to hdf: (15, 10)\n",
      "save stds to hdf: (15, 10)\n",
      "save summary to hdf: (15, 11)\n"
     ]
    },
    {
     "name": "stderr",
     "output_type": "stream",
     "text": [
      "/Users/yizhan/Documents/G3_2/regime-identification/regime/simulation_helper.py:766: RuntimeWarning: Mean of empty slice\n",
      "  means_dict[\"model_params\"] = pd.DataFrame(np.nanmean(model_params_arr, axis=0), index=modelParams_index)\n",
      "/Users/yizhan/mambaforge/envs/regime-gurobi/lib/python3.10/site-packages/numpy/lib/nanfunctions.py:1878: RuntimeWarning: Degrees of freedom <= 0 for slice.\n",
      "  var = nanvar(a, axis=axis, dtype=dtype, out=out, ddof=ddof,\n"
     ]
    },
    {
     "name": "stdout",
     "output_type": "stream",
     "text": [
      "shape of the saved acc: (32, 2, 15).\n",
      "shape of the saved ROC-AUC: (32, 15).\n",
      "save means to hdf: (15, 10)\n",
      "save stds to hdf: (15, 10)\n",
      "save summary to hdf: (15, 11)\n"
     ]
    },
    {
     "name": "stderr",
     "output_type": "stream",
     "text": [
      "/Users/yizhan/Documents/G3_2/regime-identification/regime/simulation_helper.py:766: RuntimeWarning: Mean of empty slice\n",
      "  means_dict[\"model_params\"] = pd.DataFrame(np.nanmean(model_params_arr, axis=0), index=modelParams_index)\n",
      "/Users/yizhan/mambaforge/envs/regime-gurobi/lib/python3.10/site-packages/numpy/lib/nanfunctions.py:1878: RuntimeWarning: Degrees of freedom <= 0 for slice.\n",
      "  var = nanvar(a, axis=axis, dtype=dtype, out=out, ddof=ddof,\n",
      "/Users/yizhan/Documents/G3_2/regime-identification/regime/simulation_helper.py:766: RuntimeWarning: Mean of empty slice\n",
      "  means_dict[\"model_params\"] = pd.DataFrame(np.nanmean(model_params_arr, axis=0), index=modelParams_index)\n",
      "/Users/yizhan/mambaforge/envs/regime-gurobi/lib/python3.10/site-packages/numpy/lib/nanfunctions.py:1878: RuntimeWarning: Degrees of freedom <= 0 for slice.\n",
      "  var = nanvar(a, axis=axis, dtype=dtype, out=out, ddof=ddof,\n"
     ]
    },
    {
     "name": "stdout",
     "output_type": "stream",
     "text": [
      "shape of the saved acc: (32, 2, 15).\n",
      "shape of the saved ROC-AUC: (32, 15).\n",
      "save means to hdf: (15, 10)\n",
      "save stds to hdf: (15, 10)\n",
      "save summary to hdf: (15, 11)\n",
      "shape of the saved acc: (32, 2).\n",
      "shape of the saved ROC-AUC: (32,).\n",
      "save means to hdf: (1, 10)\n",
      "save stds to hdf: (1, 10)\n",
      "save summary to hdf: (1, 10)\n",
      "shape of the saved acc: (32, 2, 15).\n",
      "shape of the saved ROC-AUC: (32, 15).\n",
      "save means to hdf: (15, 10)\n",
      "save stds to hdf: (15, 10)\n",
      "save summary to hdf: (15, 11)\n",
      "shape of the saved acc: (32, 2).\n",
      "shape of the saved ROC-AUC: (32,).\n",
      "save means to hdf: (1, 10)\n",
      "save stds to hdf: (1, 10)\n",
      "save summary to hdf: (1, 10)\n",
      "shape of the saved acc: (32, 2).\n",
      "shape of the saved ROC-AUC: (32,).\n",
      "save means to hdf: (1, 10)\n",
      "save stds to hdf: (1, 10)\n",
      "save summary to hdf: (1, 10)\n"
     ]
    },
    {
     "name": "stderr",
     "output_type": "stream",
     "text": [
      "/Users/yizhan/Documents/G3_2/regime-identification/regime/simulation_helper.py:766: RuntimeWarning: Mean of empty slice\n",
      "  means_dict[\"model_params\"] = pd.DataFrame(np.nanmean(model_params_arr, axis=0), index=modelParams_index)\n",
      "/Users/yizhan/mambaforge/envs/regime-gurobi/lib/python3.10/site-packages/numpy/lib/nanfunctions.py:1878: RuntimeWarning: Degrees of freedom <= 0 for slice.\n",
      "  var = nanvar(a, axis=axis, dtype=dtype, out=out, ddof=ddof,\n"
     ]
    },
    {
     "name": "stdout",
     "output_type": "stream",
     "text": [
      "shape of the saved acc: (32, 2, 15).\n",
      "shape of the saved ROC-AUC: (32, 15).\n",
      "save means to hdf: (15, 10)\n",
      "save stds to hdf: (15, 10)\n",
      "save summary to hdf: (15, 11)\n",
      "shape of the saved acc: (32, 2).\n",
      "shape of the saved ROC-AUC: (32,).\n",
      "save means to hdf: (1, 10)\n",
      "save stds to hdf: (1, 10)\n",
      "save summary to hdf: (1, 10)\n",
      "shape of the saved acc: (32, 2).\n",
      "shape of the saved ROC-AUC: (32,).\n",
      "save means to hdf: (1, 10)\n",
      "save stds to hdf: (1, 10)\n",
      "save summary to hdf: (1, 10)\n"
     ]
    },
    {
     "name": "stderr",
     "output_type": "stream",
     "text": [
      "/Users/yizhan/Documents/G3_2/regime-identification/regime/simulation_helper.py:766: RuntimeWarning: Mean of empty slice\n",
      "  means_dict[\"model_params\"] = pd.DataFrame(np.nanmean(model_params_arr, axis=0), index=modelParams_index)\n",
      "/Users/yizhan/mambaforge/envs/regime-gurobi/lib/python3.10/site-packages/numpy/lib/nanfunctions.py:1878: RuntimeWarning: Degrees of freedom <= 0 for slice.\n",
      "  var = nanvar(a, axis=axis, dtype=dtype, out=out, ddof=ddof,\n"
     ]
    },
    {
     "name": "stdout",
     "output_type": "stream",
     "text": [
      "shape of the saved acc: (32, 2, 15).\n",
      "shape of the saved ROC-AUC: (32, 15).\n",
      "save means to hdf: (15, 10)\n",
      "save stds to hdf: (15, 10)\n",
      "save summary to hdf: (15, 11)\n",
      "shape of the saved acc: (32, 2, 15).\n",
      "shape of the saved ROC-AUC: (32, 15).\n",
      "save means to hdf: (15, 10)\n",
      "save stds to hdf: (15, 10)\n",
      "save summary to hdf: (15, 11)\n"
     ]
    },
    {
     "name": "stderr",
     "output_type": "stream",
     "text": [
      "/Users/yizhan/Documents/G3_2/regime-identification/regime/simulation_helper.py:766: RuntimeWarning: Mean of empty slice\n",
      "  means_dict[\"model_params\"] = pd.DataFrame(np.nanmean(model_params_arr, axis=0), index=modelParams_index)\n",
      "/Users/yizhan/mambaforge/envs/regime-gurobi/lib/python3.10/site-packages/numpy/lib/nanfunctions.py:1878: RuntimeWarning: Degrees of freedom <= 0 for slice.\n",
      "  var = nanvar(a, axis=axis, dtype=dtype, out=out, ddof=ddof,\n"
     ]
    },
    {
     "name": "stdout",
     "output_type": "stream",
     "text": [
      "shape of the saved acc: (32, 2, 15).\n",
      "shape of the saved ROC-AUC: (32, 15).\n",
      "save means to hdf: (15, 10)\n",
      "save stds to hdf: (15, 10)\n",
      "save summary to hdf: (15, 11)\n",
      "shape of the saved acc: (32, 2, 15).\n",
      "shape of the saved ROC-AUC: (32, 15).\n",
      "save means to hdf: (15, 10)\n",
      "save stds to hdf: (15, 10)\n",
      "save summary to hdf: (15, 11)\n",
      "shape of the saved acc: (32, 2, 15).\n",
      "shape of the saved ROC-AUC: (32, 15).\n",
      "save means to hdf: (15, 10)\n",
      "save stds to hdf: (15, 10)\n",
      "save summary to hdf: (15, 11)\n"
     ]
    },
    {
     "name": "stderr",
     "output_type": "stream",
     "text": [
      "/Users/yizhan/Documents/G3_2/regime-identification/regime/simulation_helper.py:766: RuntimeWarning: Mean of empty slice\n",
      "  means_dict[\"model_params\"] = pd.DataFrame(np.nanmean(model_params_arr, axis=0), index=modelParams_index)\n",
      "/Users/yizhan/mambaforge/envs/regime-gurobi/lib/python3.10/site-packages/numpy/lib/nanfunctions.py:1878: RuntimeWarning: Degrees of freedom <= 0 for slice.\n",
      "  var = nanvar(a, axis=axis, dtype=dtype, out=out, ddof=ddof,\n",
      "/Users/yizhan/Documents/G3_2/regime-identification/regime/simulation_helper.py:766: RuntimeWarning: Mean of empty slice\n",
      "  means_dict[\"model_params\"] = pd.DataFrame(np.nanmean(model_params_arr, axis=0), index=modelParams_index)\n",
      "/Users/yizhan/mambaforge/envs/regime-gurobi/lib/python3.10/site-packages/numpy/lib/nanfunctions.py:1878: RuntimeWarning: Degrees of freedom <= 0 for slice.\n",
      "  var = nanvar(a, axis=axis, dtype=dtype, out=out, ddof=ddof,\n"
     ]
    },
    {
     "name": "stdout",
     "output_type": "stream",
     "text": [
      "shape of the saved acc: (32, 2).\n",
      "shape of the saved ROC-AUC: (32,).\n",
      "save means to hdf: (1, 10)\n",
      "save stds to hdf: (1, 10)\n",
      "save summary to hdf: (1, 10)\n",
      "shape of the saved acc: (32, 2, 15).\n",
      "shape of the saved ROC-AUC: (32, 15).\n",
      "save means to hdf: (15, 10)\n",
      "save stds to hdf: (15, 10)\n",
      "save summary to hdf: (15, 11)\n",
      "shape of the saved acc: (32, 2).\n",
      "shape of the saved ROC-AUC: (32,).\n",
      "save means to hdf: (1, 10)\n",
      "save stds to hdf: (1, 10)\n",
      "save summary to hdf: (1, 10)\n",
      "shape of the saved acc: (32, 2, 15).\n",
      "shape of the saved ROC-AUC: (32, 15).\n",
      "save means to hdf: (15, 10)\n",
      "save stds to hdf: (15, 10)\n",
      "save summary to hdf: (15, 11)\n",
      "shape of the saved acc: (32, 2, 15).\n",
      "shape of the saved ROC-AUC: (32, 15).\n",
      "save means to hdf: (15, 10)\n",
      "save stds to hdf: (15, 10)\n",
      "save summary to hdf: (15, 11)\n",
      "shape of the saved acc: (32, 2, 15).\n",
      "shape of the saved ROC-AUC: (32, 15).\n",
      "save means to hdf: (15, 10)\n",
      "save stds to hdf: (15, 10)\n",
      "save summary to hdf: (15, 11)\n",
      "shape of the saved acc: (32, 2, 15).\n",
      "shape of the saved ROC-AUC: (32, 15).\n",
      "save means to hdf: (15, 10)\n",
      "save stds to hdf: (15, 10)\n",
      "save summary to hdf: (15, 11)\n",
      "shape of the saved acc: (32, 2, 15).\n",
      "shape of the saved ROC-AUC: (32, 15).\n",
      "save means to hdf: (15, 10)\n",
      "save stds to hdf: (15, 10)\n",
      "save summary to hdf: (15, 11)\n",
      "shape of the saved acc: (32, 2).\n",
      "shape of the saved ROC-AUC: (32,).\n",
      "save means to hdf: (1, 10)\n",
      "save stds to hdf: (1, 10)\n",
      "save summary to hdf: (1, 10)\n",
      "shape of the saved acc: (32, 2, 15).\n",
      "shape of the saved ROC-AUC: (32, 15).\n",
      "save means to hdf: (15, 10)\n",
      "save stds to hdf: (15, 10)\n",
      "save summary to hdf: (15, 11)\n"
     ]
    },
    {
     "name": "stderr",
     "output_type": "stream",
     "text": [
      "/Users/yizhan/Documents/G3_2/regime-identification/regime/simulation_helper.py:766: RuntimeWarning: Mean of empty slice\n",
      "  means_dict[\"model_params\"] = pd.DataFrame(np.nanmean(model_params_arr, axis=0), index=modelParams_index)\n",
      "/Users/yizhan/mambaforge/envs/regime-gurobi/lib/python3.10/site-packages/numpy/lib/nanfunctions.py:1878: RuntimeWarning: Degrees of freedom <= 0 for slice.\n",
      "  var = nanvar(a, axis=axis, dtype=dtype, out=out, ddof=ddof,\n",
      "/Users/yizhan/Documents/G3_2/regime-identification/regime/simulation_helper.py:766: RuntimeWarning: Mean of empty slice\n",
      "  means_dict[\"model_params\"] = pd.DataFrame(np.nanmean(model_params_arr, axis=0), index=modelParams_index)\n",
      "/Users/yizhan/mambaforge/envs/regime-gurobi/lib/python3.10/site-packages/numpy/lib/nanfunctions.py:1878: RuntimeWarning: Degrees of freedom <= 0 for slice.\n",
      "  var = nanvar(a, axis=axis, dtype=dtype, out=out, ddof=ddof,\n"
     ]
    },
    {
     "name": "stdout",
     "output_type": "stream",
     "text": [
      "shape of the saved acc: (32, 2, 15).\n",
      "shape of the saved ROC-AUC: (32, 15).\n",
      "save means to hdf: (15, 10)\n",
      "save stds to hdf: (15, 10)\n",
      "save summary to hdf: (15, 11)\n",
      "shape of the saved acc: (32, 2, 15).\n",
      "shape of the saved ROC-AUC: (32, 15).\n",
      "save means to hdf: (15, 10)\n",
      "save stds to hdf: (15, 10)\n",
      "save summary to hdf: (15, 11)\n",
      "shape of the saved acc: (32, 2).\n",
      "shape of the saved ROC-AUC: (32,).\n",
      "save means to hdf: (1, 10)\n",
      "save stds to hdf: (1, 10)\n",
      "save summary to hdf: (1, 10)\n",
      "shape of the saved acc: (32, 2).\n",
      "shape of the saved ROC-AUC: (32,).\n",
      "save means to hdf: (1, 10)\n",
      "save stds to hdf: (1, 10)\n",
      "save summary to hdf: (1, 10)\n",
      "shape of the saved acc: (32, 2).\n",
      "shape of the saved ROC-AUC: (32,).\n",
      "save means to hdf: (1, 10)\n",
      "save stds to hdf: (1, 10)\n",
      "save summary to hdf: (1, 10)\n",
      "shape of the saved acc: (32, 2).\n",
      "shape of the saved ROC-AUC: (32,).\n",
      "save means to hdf: (1, 10)\n",
      "save stds to hdf: (1, 10)\n",
      "save summary to hdf: (1, 10)\n",
      "shape of the saved acc: (32, 2).\n",
      "shape of the saved ROC-AUC: (32,).\n",
      "save means to hdf: (1, 10)\n",
      "save stds to hdf: (1, 10)\n",
      "save summary to hdf: (1, 10)\n",
      "shape of the saved acc: (32, 2, 15).\n",
      "shape of the saved ROC-AUC: (32, 15).\n"
     ]
    },
    {
     "name": "stderr",
     "output_type": "stream",
     "text": [
      "/Users/yizhan/Documents/G3_2/regime-identification/regime/simulation_helper.py:766: RuntimeWarning: Mean of empty slice\n",
      "  means_dict[\"model_params\"] = pd.DataFrame(np.nanmean(model_params_arr, axis=0), index=modelParams_index)\n",
      "/Users/yizhan/mambaforge/envs/regime-gurobi/lib/python3.10/site-packages/numpy/lib/nanfunctions.py:1878: RuntimeWarning: Degrees of freedom <= 0 for slice.\n",
      "  var = nanvar(a, axis=axis, dtype=dtype, out=out, ddof=ddof,\n"
     ]
    },
    {
     "name": "stdout",
     "output_type": "stream",
     "text": [
      "save means to hdf: (15, 10)\n",
      "save stds to hdf: (15, 10)\n",
      "save summary to hdf: (15, 11)\n",
      "shape of the saved acc: (32, 2).\n",
      "shape of the saved ROC-AUC: (32,).\n",
      "save means to hdf: (1, 10)\n",
      "save stds to hdf: (1, 10)\n",
      "save summary to hdf: (1, 10)\n",
      "shape of the saved acc: (32, 2).\n",
      "shape of the saved ROC-AUC: (32,).\n",
      "save means to hdf: (1, 10)\n",
      "save stds to hdf: (1, 10)\n",
      "save summary to hdf: (1, 10)\n",
      "shape of the saved acc: (32, 2, 15).\n",
      "shape of the saved ROC-AUC: (32, 15).\n",
      "save means to hdf: (15, 10)\n",
      "save stds to hdf: (15, 10)\n",
      "save summary to hdf: (15, 11)\n",
      "shape of the saved acc: (32, 2, 15).\n",
      "shape of the saved ROC-AUC: (32, 15).\n",
      "save means to hdf: (15, 10)\n",
      "save stds to hdf: (15, 10)\n",
      "save summary to hdf: (15, 11)\n"
     ]
    },
    {
     "name": "stderr",
     "output_type": "stream",
     "text": [
      "/Users/yizhan/Documents/G3_2/regime-identification/regime/simulation_helper.py:766: RuntimeWarning: Mean of empty slice\n",
      "  means_dict[\"model_params\"] = pd.DataFrame(np.nanmean(model_params_arr, axis=0), index=modelParams_index)\n",
      "/Users/yizhan/mambaforge/envs/regime-gurobi/lib/python3.10/site-packages/numpy/lib/nanfunctions.py:1878: RuntimeWarning: Degrees of freedom <= 0 for slice.\n",
      "  var = nanvar(a, axis=axis, dtype=dtype, out=out, ddof=ddof,\n",
      "/Users/yizhan/Documents/G3_2/regime-identification/regime/simulation_helper.py:766: RuntimeWarning: Mean of empty slice\n",
      "  means_dict[\"model_params\"] = pd.DataFrame(np.nanmean(model_params_arr, axis=0), index=modelParams_index)\n",
      "/Users/yizhan/mambaforge/envs/regime-gurobi/lib/python3.10/site-packages/numpy/lib/nanfunctions.py:1878: RuntimeWarning: Degrees of freedom <= 0 for slice.\n",
      "  var = nanvar(a, axis=axis, dtype=dtype, out=out, ddof=ddof,\n"
     ]
    },
    {
     "name": "stdout",
     "output_type": "stream",
     "text": [
      "shape of the saved acc: (32, 2, 15).\n",
      "shape of the saved ROC-AUC: (32, 15).\n",
      "save means to hdf: (15, 10)\n",
      "save stds to hdf: (15, 10)\n",
      "save summary to hdf: (15, 11)\n",
      "shape of the saved acc: (32, 2, 15).\n",
      "shape of the saved ROC-AUC: (32, 15).\n",
      "save means to hdf: (15, 10)\n",
      "save stds to hdf: (15, 10)\n"
     ]
    },
    {
     "name": "stderr",
     "output_type": "stream",
     "text": [
      "/Users/yizhan/Documents/G3_2/regime-identification/regime/simulation_helper.py:766: RuntimeWarning: Mean of empty slice\n",
      "  means_dict[\"model_params\"] = pd.DataFrame(np.nanmean(model_params_arr, axis=0), index=modelParams_index)\n",
      "/Users/yizhan/mambaforge/envs/regime-gurobi/lib/python3.10/site-packages/numpy/lib/nanfunctions.py:1878: RuntimeWarning: Degrees of freedom <= 0 for slice.\n",
      "  var = nanvar(a, axis=axis, dtype=dtype, out=out, ddof=ddof,\n"
     ]
    },
    {
     "name": "stdout",
     "output_type": "stream",
     "text": [
      "save summary to hdf: (15, 11)\n",
      "shape of the saved acc: (32, 2).\n",
      "shape of the saved ROC-AUC: (32,).\n",
      "save means to hdf: (1, 10)\n",
      "save stds to hdf: (1, 10)\n",
      "save summary to hdf: (1, 10)\n",
      "shape of the saved acc: (32, 2, 15).\n",
      "shape of the saved ROC-AUC: (32, 15).\n",
      "save means to hdf: (15, 10)\n",
      "save stds to hdf: (15, 10)\n"
     ]
    },
    {
     "name": "stderr",
     "output_type": "stream",
     "text": [
      "/Users/yizhan/Documents/G3_2/regime-identification/regime/simulation_helper.py:766: RuntimeWarning: Mean of empty slice\n",
      "  means_dict[\"model_params\"] = pd.DataFrame(np.nanmean(model_params_arr, axis=0), index=modelParams_index)\n",
      "/Users/yizhan/mambaforge/envs/regime-gurobi/lib/python3.10/site-packages/numpy/lib/nanfunctions.py:1878: RuntimeWarning: Degrees of freedom <= 0 for slice.\n",
      "  var = nanvar(a, axis=axis, dtype=dtype, out=out, ddof=ddof,\n"
     ]
    },
    {
     "name": "stdout",
     "output_type": "stream",
     "text": [
      "save summary to hdf: (15, 11)\n",
      "shape of the saved acc: (32, 2).\n",
      "shape of the saved ROC-AUC: (32,).\n",
      "save means to hdf: (1, 10)\n",
      "save stds to hdf: (1, 10)\n",
      "save summary to hdf: (1, 10)\n",
      "shape of the saved acc: (32, 2).\n",
      "shape of the saved ROC-AUC: (32,).\n",
      "save means to hdf: (1, 10)\n",
      "save stds to hdf: (1, 10)\n",
      "save summary to hdf: (1, 10)\n",
      "shape of the saved acc: (32, 2).\n",
      "shape of the saved ROC-AUC: (32,).\n",
      "save means to hdf: (1, 10)\n",
      "save stds to hdf: (1, 10)\n",
      "save summary to hdf: (1, 10)\n",
      "shape of the saved acc: (32, 2, 15).\n",
      "shape of the saved ROC-AUC: (32, 15).\n",
      "save means to hdf: (15, 10)\n",
      "save stds to hdf: (15, 10)\n",
      "save summary to hdf: (15, 11)\n",
      "shape of the saved acc: (32, 2, 15).\n",
      "shape of the saved ROC-AUC: (32, 15).\n",
      "save means to hdf: (15, 10)\n",
      "save stds to hdf: (15, 10)\n",
      "save summary to hdf: (15, 11)\n"
     ]
    },
    {
     "name": "stderr",
     "output_type": "stream",
     "text": [
      "/Users/yizhan/Documents/G3_2/regime-identification/regime/simulation_helper.py:766: RuntimeWarning: Mean of empty slice\n",
      "  means_dict[\"model_params\"] = pd.DataFrame(np.nanmean(model_params_arr, axis=0), index=modelParams_index)\n",
      "/Users/yizhan/mambaforge/envs/regime-gurobi/lib/python3.10/site-packages/numpy/lib/nanfunctions.py:1878: RuntimeWarning: Degrees of freedom <= 0 for slice.\n",
      "  var = nanvar(a, axis=axis, dtype=dtype, out=out, ddof=ddof,\n",
      "/Users/yizhan/Documents/G3_2/regime-identification/regime/simulation_helper.py:766: RuntimeWarning: Mean of empty slice\n",
      "  means_dict[\"model_params\"] = pd.DataFrame(np.nanmean(model_params_arr, axis=0), index=modelParams_index)\n",
      "/Users/yizhan/mambaforge/envs/regime-gurobi/lib/python3.10/site-packages/numpy/lib/nanfunctions.py:1878: RuntimeWarning: Degrees of freedom <= 0 for slice.\n",
      "  var = nanvar(a, axis=axis, dtype=dtype, out=out, ddof=ddof,\n"
     ]
    },
    {
     "name": "stdout",
     "output_type": "stream",
     "text": [
      "shape of the saved acc: (32, 2, 15).\n",
      "shape of the saved ROC-AUC: (32, 15).\n",
      "save means to hdf: (15, 10)\n",
      "save stds to hdf: (15, 10)\n",
      "save summary to hdf: (15, 11)\n",
      "shape of the saved acc: (32, 2, 15).\n",
      "shape of the saved ROC-AUC: (32, 15).\n",
      "save means to hdf: (15, 10)\n",
      "save stds to hdf: (15, 10)\n"
     ]
    },
    {
     "name": "stderr",
     "output_type": "stream",
     "text": [
      "/Users/yizhan/Documents/G3_2/regime-identification/regime/simulation_helper.py:766: RuntimeWarning: Mean of empty slice\n",
      "  means_dict[\"model_params\"] = pd.DataFrame(np.nanmean(model_params_arr, axis=0), index=modelParams_index)\n",
      "/Users/yizhan/mambaforge/envs/regime-gurobi/lib/python3.10/site-packages/numpy/lib/nanfunctions.py:1878: RuntimeWarning: Degrees of freedom <= 0 for slice.\n",
      "  var = nanvar(a, axis=axis, dtype=dtype, out=out, ddof=ddof,\n"
     ]
    },
    {
     "name": "stdout",
     "output_type": "stream",
     "text": [
      "save summary to hdf: (15, 11)\n",
      "shape of the saved acc: (32, 2).\n",
      "shape of the saved ROC-AUC: (32,).\n",
      "save means to hdf: (1, 10)\n",
      "save stds to hdf: (1, 10)\n",
      "save summary to hdf: (1, 10)\n",
      "shape of the saved acc: (32, 2).\n",
      "shape of the saved ROC-AUC: (32,).\n",
      "save means to hdf: (1, 10)\n",
      "save stds to hdf: (1, 10)\n",
      "save summary to hdf: (1, 10)\n",
      "shape of the saved acc: (32, 2, 15).\n",
      "shape of the saved ROC-AUC: (32, 15).\n",
      "save means to hdf: (15, 10)\n",
      "save stds to hdf: (15, 10)\n",
      "save summary to hdf: (15, 11)\n",
      "shape of the saved acc: (32, 2).\n",
      "shape of the saved ROC-AUC: (32,).\n",
      "save means to hdf: (1, 10)\n",
      "save stds to hdf: (1, 10)\n",
      "save summary to hdf: (1, 10)\n",
      "shape of the saved acc: (32, 2, 15).\n",
      "shape of the saved ROC-AUC: (32, 15).\n"
     ]
    },
    {
     "name": "stderr",
     "output_type": "stream",
     "text": [
      "/Users/yizhan/Documents/G3_2/regime-identification/regime/simulation_helper.py:766: RuntimeWarning: Mean of empty slice\n",
      "  means_dict[\"model_params\"] = pd.DataFrame(np.nanmean(model_params_arr, axis=0), index=modelParams_index)\n",
      "/Users/yizhan/mambaforge/envs/regime-gurobi/lib/python3.10/site-packages/numpy/lib/nanfunctions.py:1878: RuntimeWarning: Degrees of freedom <= 0 for slice.\n",
      "  var = nanvar(a, axis=axis, dtype=dtype, out=out, ddof=ddof,\n",
      "/Users/yizhan/Documents/G3_2/regime-identification/regime/simulation_helper.py:766: RuntimeWarning: Mean of empty slice\n",
      "  means_dict[\"model_params\"] = pd.DataFrame(np.nanmean(model_params_arr, axis=0), index=modelParams_index)\n",
      "/Users/yizhan/mambaforge/envs/regime-gurobi/lib/python3.10/site-packages/numpy/lib/nanfunctions.py:1878: RuntimeWarning: Degrees of freedom <= 0 for slice.\n",
      "  var = nanvar(a, axis=axis, dtype=dtype, out=out, ddof=ddof,\n"
     ]
    },
    {
     "name": "stdout",
     "output_type": "stream",
     "text": [
      "save means to hdf: (15, 10)\n",
      "save stds to hdf: (15, 10)\n",
      "save summary to hdf: (15, 11)\n",
      "shape of the saved acc: (32, 2).\n",
      "shape of the saved ROC-AUC: (32,).\n",
      "save means to hdf: (1, 10)\n",
      "save stds to hdf: (1, 10)\n",
      "save summary to hdf: (1, 10)\n",
      "shape of the saved acc: (32, 2, 15).\n",
      "shape of the saved ROC-AUC: (32, 15).\n",
      "save means to hdf: (15, 10)\n",
      "save stds to hdf: (15, 10)\n",
      "save summary to hdf: (15, 11)\n"
     ]
    }
   ],
   "source": [
    "score_and_summary_many_models(path, generate_key_data([2, \"t\"], dof=5), batch_size, num_of_batch, param_grid)"
   ]
  },
  {
   "cell_type": "code",
   "execution_count": 15,
   "id": "85302a20-4328-4e03-9bec-3aecd6852997",
   "metadata": {},
   "outputs": [
    {
     "name": "stdout",
     "output_type": "stream",
     "text": [
      "[1.00000000e-02 1.00000000e-01 1.00000000e+00 1.00000000e+01\n",
      " 2.15443469e+01 4.64158883e+01 1.00000000e+02 2.15443469e+02\n",
      " 4.64158883e+02 1.00000000e+03 2.15443469e+03 4.64158883e+03\n",
      " 1.00000000e+04 1.00000000e+05 1.00000000e+06]\n"
     ]
    }
   ],
   "source": [
    "batch_size, num_of_batch = 32, 1\n",
    "param_grid = generate_param_grid()"
   ]
  },
  {
   "cell_type": "code",
   "execution_count": 16,
   "id": "b9972533-516d-454f-b7a6-ddc7f86a4520",
   "metadata": {
    "tags": []
   },
   "outputs": [
    {
     "name": "stdout",
     "output_type": "stream",
     "text": [
      "shape of the saved acc: (32, 2, 15).\n",
      "shape of the saved ROC-AUC: (32, 15).\n",
      "save means to hdf: (15, 10)\n",
      "save stds to hdf: (15, 10)\n",
      "save summary to hdf: (15, 11)\n",
      "shape of the saved acc: (32, 2, 15).\n",
      "shape of the saved ROC-AUC: (32, 15).\n",
      "save means to hdf: (15, 10)\n",
      "save stds to hdf: (15, 10)\n",
      "save summary to hdf: (15, 11)\n"
     ]
    }
   ],
   "source": [
    "score_and_summary_many_models(path, \"2-state-daily\", batch_size, num_of_batch, param_grid, [\"discrete\", \"cont\"], [250])"
   ]
  },
  {
   "cell_type": "code",
   "execution_count": null,
   "id": "87fd0b0c-a26c-499c-8124-199499ed62d2",
   "metadata": {},
   "outputs": [],
   "source": []
  }
 ],
 "metadata": {
  "kernelspec": {
   "display_name": "Python 3 (ipykernel)",
   "language": "python",
   "name": "python3"
  },
  "language_info": {
   "codemirror_mode": {
    "name": "ipython",
    "version": 3
   },
   "file_extension": ".py",
   "mimetype": "text/x-python",
   "name": "python",
   "nbconvert_exporter": "python",
   "pygments_lexer": "ipython3",
   "version": "3.10.9"
  }
 },
 "nbformat": 4,
 "nbformat_minor": 5
}
