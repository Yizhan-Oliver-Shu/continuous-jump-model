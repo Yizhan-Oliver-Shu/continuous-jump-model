{
 "cells": [
  {
   "cell_type": "code",
   "execution_count": 1,
   "id": "88a51e4b-aa81-4377-a2d3-d5e43d9be918",
   "metadata": {
    "tags": []
   },
   "outputs": [],
   "source": [
    "%load_ext autoreload\n",
    "%autoreload 2\n",
    "import sys, os\n",
    "from os.path import expanduser\n",
    "## actions required!!!!!!!!!!!!!!!!!!!! change your folder path \n",
    "path = \"~/Documents/G3_2/regime-identification\"\n",
    "path = expanduser(path)\n",
    "sys.path.append(path)\n",
    "\n",
    "path_file = f\"~/data/G3_2/regime-identification/simulation\"\n",
    "path_file = expanduser(path_file)\n",
    "path_data = f\"{path_file}/data\"\n",
    "path_estimation = f\"{path_file}/estimation\"\n",
    "path_score = f\"{path_file}/score\""
   ]
  },
  {
   "cell_type": "code",
   "execution_count": 2,
   "id": "fa90703e-2c0d-45c8-bdc9-eb55cb2b0806",
   "metadata": {
    "tags": []
   },
   "outputs": [],
   "source": [
    "import numpy as np\n",
    "from tqdm import tqdm"
   ]
  },
  {
   "cell_type": "code",
   "execution_count": 3,
   "id": "7af115dc-6da4-404c-9449-78289800fdfd",
   "metadata": {
    "tags": []
   },
   "outputs": [],
   "source": [
    "from regime.stats import *\n",
    "from regime.simulation_helper import *"
   ]
  },
  {
   "cell_type": "markdown",
   "id": "369a2c11-22c0-42a9-8a22-ea631a455488",
   "metadata": {
    "jp-MarkdownHeadingCollapsed": true,
    "tags": []
   },
   "source": [
    "# 1-feature-engineering\n",
    "\n",
    "In this notebook we perform feature engineering."
   ]
  },
  {
   "cell_type": "markdown",
   "id": "f223f8c5-746d-455f-a358-70204d33ec0b",
   "metadata": {},
   "source": [
    "#  Zheng features"
   ]
  },
  {
   "cell_type": "code",
   "execution_count": 4,
   "id": "2ccd3eec-cb25-486f-aef2-9735e9d2aa9f",
   "metadata": {
    "tags": []
   },
   "outputs": [],
   "source": [
    "scale_lst = [\"daily\", \"weekly\", \"monthly\"]\n",
    "n_s_lst = [250, 500, 1000]\n",
    "key_data_list = [f\"{scale}_{n_s}\" for scale in scale_lst for n_s in n_s_lst]\n",
    "\n",
    "n_buffer, n_t, n_c = 20, 1024, 2\n",
    "key_feat = \"zheng\""
   ]
  },
  {
   "cell_type": "code",
   "execution_count": 6,
   "id": "5ad98146-e043-4c0f-bddf-d2a1f4ee7a89",
   "metadata": {
    "tags": []
   },
   "outputs": [
    {
     "name": "stdout",
     "output_type": "stream",
     "text": [
      "shape of the saved arr: (1024, 250, 15).\n",
      "shape of the saved arr: (1024, 500, 15).\n",
      "shape of the saved arr: (1024, 1000, 15).\n",
      "shape of the saved arr: (1024, 250, 15).\n",
      "shape of the saved arr: (1024, 500, 15).\n",
      "shape of the saved arr: (1024, 1000, 15).\n",
      "shape of the saved arr: (1024, 250, 15).\n",
      "shape of the saved arr: (1024, 500, 15).\n",
      "shape of the saved arr: (1024, 1000, 15).\n"
     ]
    }
   ],
   "source": [
    "for scale in scale_lst:\n",
    "    for n_s in n_s_lst:\n",
    "        key_data = f\"{scale}_{n_s}\" \n",
    "        Xs = np.load(f\"{path_data}/X_raw_{key_data}.npy\")\n",
    "        Xs_feat = extract_features_zheng_batch(Xs)\n",
    "        # save results\n",
    "        np_save_print(f\"{path_data}/X_{key_data}_{key_feat}.npy\", Xs_feat[:, -n_s:, :])"
   ]
  },
  {
   "cell_type": "code",
   "execution_count": 11,
   "id": "39405e97-77b6-4f4e-b15b-da3191286d45",
   "metadata": {},
   "outputs": [],
   "source": [
    "import time"
   ]
  },
  {
   "cell_type": "code",
   "execution_count": 12,
   "id": "3c19bb47-0290-4a59-a504-1650296fad28",
   "metadata": {},
   "outputs": [
    {
     "name": "stdout",
     "output_type": "stream",
     "text": [
      "Time in preferred format :- 02:46:40\n"
     ]
    }
   ],
   "source": [
    "n=10000\n",
    "time_format = time.strftime(\"%H:%M:%S\", time.gmtime(n))\n",
    "print(\"Time in preferred format :-\",time_format)"
   ]
  },
  {
   "cell_type": "code",
   "execution_count": 14,
   "id": "69ce30f9-638d-41fa-9f20-4558eab02f69",
   "metadata": {},
   "outputs": [
    {
     "data": {
      "text/plain": [
       "time.struct_time(tm_year=1970, tm_mon=1, tm_mday=1, tm_hour=0, tm_min=0, tm_sec=1, tm_wday=3, tm_yday=1, tm_isdst=0)"
      ]
     },
     "execution_count": 14,
     "metadata": {},
     "output_type": "execute_result"
    }
   ],
   "source": [
    "time.gmtime(1)"
   ]
  },
  {
   "cell_type": "code",
   "execution_count": 22,
   "id": "a53b1abe-1cfd-413a-b13f-4d9e9617361d",
   "metadata": {},
   "outputs": [],
   "source": [
    "from datetime import timedelta\n",
    "import math"
   ]
  },
  {
   "cell_type": "code",
   "execution_count": 27,
   "id": "a1fc2159-6c5b-4328-9e12-9287d8d9c808",
   "metadata": {},
   "outputs": [],
   "source": [
    "def print_second(x):\n",
    "    x = math.ceil(x)\n",
    "    return str(timedelta(seconds=x))"
   ]
  },
  {
   "cell_type": "code",
   "execution_count": 30,
   "id": "5164558a-a213-4c80-8b55-80cd35ffcab3",
   "metadata": {},
   "outputs": [
    {
     "data": {
      "text/plain": [
       "'0:00:04'"
      ]
     },
     "execution_count": 30,
     "metadata": {},
     "output_type": "execute_result"
    }
   ],
   "source": [
    "print_second(3.33)"
   ]
  },
  {
   "cell_type": "code",
   "execution_count": 29,
   "id": "2c087679-2158-4854-b94d-6a894748fcf8",
   "metadata": {},
   "outputs": [
    {
     "name": "stdout",
     "output_type": "stream",
     "text": [
      "507 ns ± 42.4 ns per loop (mean ± std. dev. of 7 runs, 1,000,000 loops each)\n"
     ]
    }
   ],
   "source": [
    "%%timeit\n",
    "print_second(3.33)"
   ]
  },
  {
   "cell_type": "code",
   "execution_count": 28,
   "id": "7af2f784-a0df-4610-840a-7958dc170baf",
   "metadata": {},
   "outputs": [
    {
     "data": {
      "text/plain": [
       "'0:00:02'"
      ]
     },
     "execution_count": 28,
     "metadata": {},
     "output_type": "execute_result"
    }
   ],
   "source": [
    "print_second(2)"
   ]
  },
  {
   "cell_type": "code",
   "execution_count": 18,
   "id": "69ffa6a3-fc26-485f-ba89-6a58da88ac57",
   "metadata": {},
   "outputs": [
    {
     "data": {
      "text/plain": [
       "'0:00:02.300000'"
      ]
     },
     "execution_count": 18,
     "metadata": {},
     "output_type": "execute_result"
    }
   ],
   "source": [
    "str(datetime.(seconds=2.3))"
   ]
  },
  {
   "cell_type": "code",
   "execution_count": 19,
   "id": "20f64559-cedf-4366-b12b-8fea633981c0",
   "metadata": {},
   "outputs": [
    {
     "name": "stdout",
     "output_type": "stream",
     "text": [
      "349 ns ± 1.9 ns per loop (mean ± std. dev. of 7 runs, 1,000,000 loops each)\n"
     ]
    }
   ],
   "source": [
    "%%timeit\n",
    "np.ceil(60.01)"
   ]
  },
  {
   "cell_type": "code",
   "execution_count": 20,
   "id": "39eb151f-2f4a-432b-8d12-96b5c337bed6",
   "metadata": {},
   "outputs": [],
   "source": []
  },
  {
   "cell_type": "code",
   "execution_count": null,
   "id": "24a5a5aa-638f-472b-9914-cb3e95181455",
   "metadata": {},
   "outputs": [],
   "source": []
  }
 ],
 "metadata": {
  "kernelspec": {
   "display_name": "Python 3 (ipykernel)",
   "language": "python",
   "name": "python3"
  },
  "language_info": {
   "codemirror_mode": {
    "name": "ipython",
    "version": 3
   },
   "file_extension": ".py",
   "mimetype": "text/x-python",
   "name": "python",
   "nbconvert_exporter": "python",
   "pygments_lexer": "ipython3",
   "version": "3.10.9"
  },
  "toc-autonumbering": true
 },
 "nbformat": 4,
 "nbformat_minor": 5
}
