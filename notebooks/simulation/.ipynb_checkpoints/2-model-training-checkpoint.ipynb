{
 "cells": [
  {
   "cell_type": "code",
   "execution_count": 1,
   "id": "88a51e4b-aa81-4377-a2d3-d5e43d9be918",
   "metadata": {
    "tags": []
   },
   "outputs": [],
   "source": [
    "%load_ext autoreload\n",
    "%autoreload 2\n",
    "import sys, os\n",
    "from os.path import expanduser\n",
    "## actions required!!!!!!!!!!!!!!!!!!!! change your folder path \n",
    "path = \"~/Documents/G3_2/regime-identification\"\n",
    "path = expanduser(path)\n",
    "sys.path.append(path)\n",
    "\n",
    "path_file = f\"~/data/G3_2/regime-identification/simulation\"\n",
    "path_file = expanduser(path_file)\n",
    "path_data = f\"{path_file}/data\"\n",
    "path_estimation = f\"{path_file}/estimation\"\n",
    "path_score = f\"{path_file}/score\""
   ]
  },
  {
   "cell_type": "code",
   "execution_count": 2,
   "id": "fa90703e-2c0d-45c8-bdc9-eb55cb2b0806",
   "metadata": {
    "tags": []
   },
   "outputs": [],
   "source": [
    "import numpy as np\n",
    "from tqdm import tqdm\n",
    "from itertools import permutations\n",
    "from sklearn.metrics import accuracy_score, roc_auc_score\n",
    "from sklearn.model_selection import ParameterGrid\n",
    "import time\n",
    "\n",
    "from numpy.random import RandomState\n",
    "random_state = RandomState(0)"
   ]
  },
  {
   "cell_type": "code",
   "execution_count": 12,
   "id": "7af115dc-6da4-404c-9449-78289800fdfd",
   "metadata": {
    "tags": []
   },
   "outputs": [],
   "source": [
    "# from regime.cluster_utils import *\n",
    "# from regime.stats import *\n",
    "from regime.simulation_helper import *\n",
    "from regime.jump import *"
   ]
  },
  {
   "cell_type": "markdown",
   "id": "a9c7a9ea-3c8f-46b4-888d-bd371dfbe21e",
   "metadata": {
    "tags": []
   },
   "source": [
    "# 2-model-training\n",
    "\n",
    "In this notebook we train several models, with different hyperparameters, and save the estimation results."
   ]
  },
  {
   "cell_type": "code",
   "execution_count": 4,
   "id": "1c794144-7a01-40ce-8f66-f32bba329ecf",
   "metadata": {
    "tags": []
   },
   "outputs": [],
   "source": [
    "scale_lst = [\"daily\", \"weekly\", \"monthly\"]\n",
    "n_s_lst = [250, 500, 1000]\n",
    "key_data_list = [f\"{scale}_{n_s}\" for scale in scale_lst for n_s in n_s_lst]\n",
    "\n",
    "n_buffer, n_t, n_c = 20, 1024, 2\n",
    "n_batch = 32\n",
    "key_feat = \"zheng\""
   ]
  },
  {
   "cell_type": "code",
   "execution_count": 5,
   "id": "c618fb08-583d-4992-a92b-1c77df696636",
   "metadata": {},
   "outputs": [],
   "source": [
    "model_discrete = jump_model(n_c, state_type=\"discrete\", random_state=random_state)\n",
    "model_cont_mode = jump_model(n_c, state_type=\"cont\", grid_size=.02, mode_loss=True, random_state=random_state)\n",
    "model_cont_no_mode = jump_model(n_c, state_type=\"cont\", grid_size=.02, mode_loss=False, random_state=random_state)"
   ]
  },
  {
   "cell_type": "code",
   "execution_count": 6,
   "id": "fe15aea5-8dc7-4bba-9b41-a74daab906d5",
   "metadata": {},
   "outputs": [],
   "source": [
    "model_dict = {\"discrete\": model_discrete, \"cont_mode\": model_cont_mode, \"cont_no_mode\": model_cont_no_mode}"
   ]
  },
  {
   "cell_type": "code",
   "execution_count": 7,
   "id": "8bc124c9-f121-47ff-8949-d2eb0e8ae078",
   "metadata": {},
   "outputs": [
    {
     "name": "stdout",
     "output_type": "stream",
     "text": [
      "[1.00000000e-02 1.00000000e-01 3.16227766e-01 1.00000000e+00\n",
      " 3.16227766e+00 1.00000000e+01 3.16227766e+01 1.00000000e+02\n",
      " 3.16227766e+02 1.00000000e+03 3.16227766e+03 1.00000000e+04\n",
      " 3.16227766e+04 1.00000000e+05 1.00000000e+06]\n"
     ]
    }
   ],
   "source": [
    "# lambd_list = 10 ** np.linspace(0, 8, 9)\n",
    "lambd_list = 10 ** np.concatenate(([-2.], np.linspace(-1, 5, 13), [6.])) #[-2.] + list(np.linspace(-1, 5, 13)) + [6.]\n",
    "print(lambd_list)\n",
    "param_grid = {'jump_penalty': lambd_list}"
   ]
  },
  {
   "cell_type": "code",
   "execution_count": 8,
   "id": "71ec6ef7-004f-4692-a5e5-4fd5977f2e6b",
   "metadata": {},
   "outputs": [],
   "source": [
    "n_batch = 32"
   ]
  },
  {
   "cell_type": "code",
   "execution_count": 9,
   "id": "7a30ab60-02d3-4709-a939-18985a67c5c6",
   "metadata": {},
   "outputs": [],
   "source": [
    "key_feat_list=['zheng']"
   ]
  },
  {
   "cell_type": "code",
   "execution_count": 10,
   "id": "f3b323c1-741d-46d4-a5ff-db9736f03f53",
   "metadata": {},
   "outputs": [
    {
     "name": "stderr",
     "output_type": "stream",
     "text": [
      "100%|████████████████████████████████████████████████████████████████████████████████████████████████████████████████████████████████████████████████████| 15/15 [00:01<00:00,  8.42it/s]\n"
     ]
    },
    {
     "name": "stdout",
     "output_type": "stream",
     "text": [
      "shape of the saved proba: (32, 250, 2, 15).\n",
      "shape of the saved labels: (32, 250, 15).\n",
      "1/27 combos done. Time of this iter: 1.8680088520050049s. Total time: 1.8680088520050049s.\n"
     ]
    },
    {
     "name": "stderr",
     "output_type": "stream",
     "text": [
      "100%|████████████████████████████████████████████████████████████████████████████████████████████████████████████████████████████████████████████████████| 15/15 [00:17<00:00,  1.17s/it]\n"
     ]
    },
    {
     "name": "stdout",
     "output_type": "stream",
     "text": [
      "shape of the saved proba: (32, 250, 2, 15).\n",
      "shape of the saved labels: (32, 250, 15).\n",
      "2/27 combos done. Time of this iter: 17.63863706588745s. Total time: 19.506645917892456s.\n"
     ]
    },
    {
     "name": "stderr",
     "output_type": "stream",
     "text": [
      "100%|████████████████████████████████████████████████████████████████████████████████████████████████████████████████████████████████████████████████████| 15/15 [00:23<00:00,  1.60s/it]\n"
     ]
    },
    {
     "name": "stdout",
     "output_type": "stream",
     "text": [
      "shape of the saved proba: (32, 250, 2, 15).\n",
      "shape of the saved labels: (32, 250, 15).\n",
      "3/27 combos done. Time of this iter: 24.04524803161621s. Total time: 43.55189394950867s.\n"
     ]
    },
    {
     "name": "stderr",
     "output_type": "stream",
     "text": [
      "100%|████████████████████████████████████████████████████████████████████████████████████████████████████████████████████████████████████████████████████| 15/15 [00:02<00:00,  5.91it/s]\n"
     ]
    },
    {
     "name": "stdout",
     "output_type": "stream",
     "text": [
      "shape of the saved proba: (32, 500, 2, 15).\n",
      "shape of the saved labels: (32, 500, 15).\n",
      "4/27 combos done. Time of this iter: 2.6290979385375977s. Total time: 46.180991888046265s.\n"
     ]
    },
    {
     "name": "stderr",
     "output_type": "stream",
     "text": [
      "100%|████████████████████████████████████████████████████████████████████████████████████████████████████████████████████████████████████████████████████| 15/15 [00:41<00:00,  2.78s/it]\n"
     ]
    },
    {
     "name": "stdout",
     "output_type": "stream",
     "text": [
      "shape of the saved proba: (32, 500, 2, 15).\n",
      "shape of the saved labels: (32, 500, 15).\n",
      "5/27 combos done. Time of this iter: 41.71253824234009s. Total time: 87.89353013038635s.\n"
     ]
    },
    {
     "name": "stderr",
     "output_type": "stream",
     "text": [
      "100%|████████████████████████████████████████████████████████████████████████████████████████████████████████████████████████████████████████████████████| 15/15 [00:56<00:00,  3.77s/it]\n"
     ]
    },
    {
     "name": "stdout",
     "output_type": "stream",
     "text": [
      "shape of the saved proba: (32, 500, 2, 15).\n",
      "shape of the saved labels: (32, 500, 15).\n",
      "6/27 combos done. Time of this iter: 56.630759954452515s. Total time: 144.52429008483887s.\n"
     ]
    },
    {
     "name": "stderr",
     "output_type": "stream",
     "text": [
      "100%|████████████████████████████████████████████████████████████████████████████████████████████████████████████████████████████████████████████████████| 15/15 [00:04<00:00,  3.39it/s]\n"
     ]
    },
    {
     "name": "stdout",
     "output_type": "stream",
     "text": [
      "shape of the saved proba: (32, 1000, 2, 15).\n",
      "shape of the saved labels: (32, 1000, 15).\n",
      "7/27 combos done. Time of this iter: 4.579610824584961s. Total time: 149.10390090942383s.\n"
     ]
    },
    {
     "name": "stderr",
     "output_type": "stream",
     "text": [
      "100%|████████████████████████████████████████████████████████████████████████████████████████████████████████████████████████████████████████████████████| 15/15 [01:29<00:00,  5.95s/it]\n"
     ]
    },
    {
     "name": "stdout",
     "output_type": "stream",
     "text": [
      "shape of the saved proba: (32, 1000, 2, 15).\n",
      "shape of the saved labels: (32, 1000, 15).\n",
      "8/27 combos done. Time of this iter: 89.32175803184509s. Total time: 238.42565894126892s.\n"
     ]
    },
    {
     "name": "stderr",
     "output_type": "stream",
     "text": [
      "100%|████████████████████████████████████████████████████████████████████████████████████████████████████████████████████████████████████████████████████| 15/15 [01:57<00:00,  7.82s/it]\n"
     ]
    },
    {
     "name": "stdout",
     "output_type": "stream",
     "text": [
      "shape of the saved proba: (32, 1000, 2, 15).\n",
      "shape of the saved labels: (32, 1000, 15).\n",
      "9/27 combos done. Time of this iter: 117.44501113891602s. Total time: 355.87067008018494s.\n"
     ]
    },
    {
     "name": "stderr",
     "output_type": "stream",
     "text": [
      "100%|████████████████████████████████████████████████████████████████████████████████████████████████████████████████████████████████████████████████████| 15/15 [00:01<00:00,  8.82it/s]\n"
     ]
    },
    {
     "name": "stdout",
     "output_type": "stream",
     "text": [
      "shape of the saved proba: (32, 250, 2, 15).\n",
      "shape of the saved labels: (32, 250, 15).\n",
      "10/27 combos done. Time of this iter: 1.7872021198272705s. Total time: 357.6578722000122s.\n"
     ]
    },
    {
     "name": "stderr",
     "output_type": "stream",
     "text": [
      "100%|████████████████████████████████████████████████████████████████████████████████████████████████████████████████████████████████████████████████████| 15/15 [00:17<00:00,  1.14s/it]\n"
     ]
    },
    {
     "name": "stdout",
     "output_type": "stream",
     "text": [
      "shape of the saved proba: (32, 250, 2, 15).\n",
      "shape of the saved labels: (32, 250, 15).\n",
      "11/27 combos done. Time of this iter: 17.120187759399414s. Total time: 374.7780599594116s.\n"
     ]
    },
    {
     "name": "stderr",
     "output_type": "stream",
     "text": [
      "100%|████████████████████████████████████████████████████████████████████████████████████████████████████████████████████████████████████████████████████| 15/15 [00:23<00:00,  1.54s/it]\n"
     ]
    },
    {
     "name": "stdout",
     "output_type": "stream",
     "text": [
      "shape of the saved proba: (32, 250, 2, 15).\n",
      "shape of the saved labels: (32, 250, 15).\n",
      "12/27 combos done. Time of this iter: 23.195348024368286s. Total time: 397.9734079837799s.\n"
     ]
    },
    {
     "name": "stderr",
     "output_type": "stream",
     "text": [
      "100%|████████████████████████████████████████████████████████████████████████████████████████████████████████████████████████████████████████████████████| 15/15 [00:02<00:00,  6.07it/s]\n"
     ]
    },
    {
     "name": "stdout",
     "output_type": "stream",
     "text": [
      "shape of the saved proba: (32, 500, 2, 15).\n",
      "shape of the saved labels: (32, 500, 15).\n",
      "13/27 combos done. Time of this iter: 2.576301097869873s. Total time: 400.5497090816498s.\n"
     ]
    },
    {
     "name": "stderr",
     "output_type": "stream",
     "text": [
      "100%|████████████████████████████████████████████████████████████████████████████████████████████████████████████████████████████████████████████████████| 15/15 [00:38<00:00,  2.56s/it]\n"
     ]
    },
    {
     "name": "stdout",
     "output_type": "stream",
     "text": [
      "shape of the saved proba: (32, 500, 2, 15).\n",
      "shape of the saved labels: (32, 500, 15).\n",
      "14/27 combos done. Time of this iter: 38.48987889289856s. Total time: 439.03958797454834s.\n"
     ]
    },
    {
     "name": "stderr",
     "output_type": "stream",
     "text": [
      "100%|████████████████████████████████████████████████████████████████████████████████████████████████████████████████████████████████████████████████████| 15/15 [00:49<00:00,  3.32s/it]\n"
     ]
    },
    {
     "name": "stdout",
     "output_type": "stream",
     "text": [
      "shape of the saved proba: (32, 500, 2, 15).\n",
      "shape of the saved labels: (32, 500, 15).\n",
      "15/27 combos done. Time of this iter: 49.980270862579346s. Total time: 489.0198588371277s.\n"
     ]
    },
    {
     "name": "stderr",
     "output_type": "stream",
     "text": [
      "100%|████████████████████████████████████████████████████████████████████████████████████████████████████████████████████████████████████████████████████| 15/15 [00:04<00:00,  3.49it/s]\n"
     ]
    },
    {
     "name": "stdout",
     "output_type": "stream",
     "text": [
      "shape of the saved proba: (32, 1000, 2, 15).\n",
      "shape of the saved labels: (32, 1000, 15).\n",
      "16/27 combos done. Time of this iter: 4.445383310317993s. Total time: 493.4652421474457s.\n"
     ]
    },
    {
     "name": "stderr",
     "output_type": "stream",
     "text": [
      "100%|████████████████████████████████████████████████████████████████████████████████████████████████████████████████████████████████████████████████████| 15/15 [01:27<00:00,  5.81s/it]\n"
     ]
    },
    {
     "name": "stdout",
     "output_type": "stream",
     "text": [
      "shape of the saved proba: (32, 1000, 2, 15).\n",
      "shape of the saved labels: (32, 1000, 15).\n",
      "17/27 combos done. Time of this iter: 87.25115489959717s. Total time: 580.7163970470428s.\n"
     ]
    },
    {
     "name": "stderr",
     "output_type": "stream",
     "text": [
      "100%|████████████████████████████████████████████████████████████████████████████████████████████████████████████████████████████████████████████████████| 15/15 [01:42<00:00,  6.86s/it]\n"
     ]
    },
    {
     "name": "stdout",
     "output_type": "stream",
     "text": [
      "shape of the saved proba: (32, 1000, 2, 15).\n",
      "shape of the saved labels: (32, 1000, 15).\n",
      "18/27 combos done. Time of this iter: 103.01929593086243s. Total time: 683.7356929779053s.\n"
     ]
    },
    {
     "name": "stderr",
     "output_type": "stream",
     "text": [
      "100%|████████████████████████████████████████████████████████████████████████████████████████████████████████████████████████████████████████████████████| 15/15 [00:01<00:00,  8.53it/s]\n"
     ]
    },
    {
     "name": "stdout",
     "output_type": "stream",
     "text": [
      "shape of the saved proba: (32, 250, 2, 15).\n",
      "shape of the saved labels: (32, 250, 15).\n",
      "19/27 combos done. Time of this iter: 1.8498320579528809s. Total time: 685.5855250358582s.\n"
     ]
    },
    {
     "name": "stderr",
     "output_type": "stream",
     "text": [
      "100%|████████████████████████████████████████████████████████████████████████████████████████████████████████████████████████████████████████████████████| 15/15 [00:17<00:00,  1.17s/it]\n"
     ]
    },
    {
     "name": "stdout",
     "output_type": "stream",
     "text": [
      "shape of the saved proba: (32, 250, 2, 15).\n",
      "shape of the saved labels: (32, 250, 15).\n",
      "20/27 combos done. Time of this iter: 17.60352897644043s. Total time: 703.1890540122986s.\n"
     ]
    },
    {
     "name": "stderr",
     "output_type": "stream",
     "text": [
      "100%|████████████████████████████████████████████████████████████████████████████████████████████████████████████████████████████████████████████████████| 15/15 [00:23<00:00,  1.55s/it]\n"
     ]
    },
    {
     "name": "stdout",
     "output_type": "stream",
     "text": [
      "shape of the saved proba: (32, 250, 2, 15).\n",
      "shape of the saved labels: (32, 250, 15).\n",
      "21/27 combos done. Time of this iter: 23.383946895599365s. Total time: 726.573000907898s.\n"
     ]
    },
    {
     "name": "stderr",
     "output_type": "stream",
     "text": [
      "100%|████████████████████████████████████████████████████████████████████████████████████████████████████████████████████████████████████████████████████| 15/15 [00:02<00:00,  5.14it/s]\n"
     ]
    },
    {
     "name": "stdout",
     "output_type": "stream",
     "text": [
      "shape of the saved proba: (32, 500, 2, 15).\n",
      "shape of the saved labels: (32, 500, 15).\n",
      "22/27 combos done. Time of this iter: 3.029433012008667s. Total time: 729.6024339199066s.\n"
     ]
    },
    {
     "name": "stderr",
     "output_type": "stream",
     "text": [
      "100%|████████████████████████████████████████████████████████████████████████████████████████████████████████████████████████████████████████████████████| 15/15 [00:41<00:00,  2.74s/it]\n"
     ]
    },
    {
     "name": "stdout",
     "output_type": "stream",
     "text": [
      "shape of the saved proba: (32, 500, 2, 15).\n",
      "shape of the saved labels: (32, 500, 15).\n",
      "23/27 combos done. Time of this iter: 41.16280198097229s. Total time: 770.7652359008789s.\n"
     ]
    },
    {
     "name": "stderr",
     "output_type": "stream",
     "text": [
      "100%|████████████████████████████████████████████████████████████████████████████████████████████████████████████████████████████████████████████████████| 15/15 [00:52<00:00,  3.51s/it]\n"
     ]
    },
    {
     "name": "stdout",
     "output_type": "stream",
     "text": [
      "shape of the saved proba: (32, 500, 2, 15).\n",
      "shape of the saved labels: (32, 500, 15).\n",
      "24/27 combos done. Time of this iter: 52.74452090263367s. Total time: 823.5097568035126s.\n"
     ]
    },
    {
     "name": "stderr",
     "output_type": "stream",
     "text": [
      "100%|████████████████████████████████████████████████████████████████████████████████████████████████████████████████████████████████████████████████████| 15/15 [00:04<00:00,  3.44it/s]\n"
     ]
    },
    {
     "name": "stdout",
     "output_type": "stream",
     "text": [
      "shape of the saved proba: (32, 1000, 2, 15).\n",
      "shape of the saved labels: (32, 1000, 15).\n",
      "25/27 combos done. Time of this iter: 4.523913145065308s. Total time: 828.0336699485779s.\n"
     ]
    },
    {
     "name": "stderr",
     "output_type": "stream",
     "text": [
      "100%|████████████████████████████████████████████████████████████████████████████████████████████████████████████████████████████████████████████████████| 15/15 [01:35<00:00,  6.40s/it]\n"
     ]
    },
    {
     "name": "stdout",
     "output_type": "stream",
     "text": [
      "shape of the saved proba: (32, 1000, 2, 15).\n",
      "shape of the saved labels: (32, 1000, 15).\n",
      "26/27 combos done. Time of this iter: 96.09434103965759s. Total time: 924.1280109882355s.\n"
     ]
    },
    {
     "name": "stderr",
     "output_type": "stream",
     "text": [
      "100%|████████████████████████████████████████████████████████████████████████████████████████████████████████████████████████████████████████████████████| 15/15 [02:01<00:00,  8.08s/it]"
     ]
    },
    {
     "name": "stdout",
     "output_type": "stream",
     "text": [
      "shape of the saved proba: (32, 1000, 2, 15).\n",
      "shape of the saved labels: (32, 1000, 15).\n",
      "27/27 combos done. Time of this iter: 121.3465940952301s. Total time: 1045.4746050834656s.\n"
     ]
    },
    {
     "name": "stderr",
     "output_type": "stream",
     "text": [
      "\n"
     ]
    }
   ],
   "source": [
    "train_models_datas_params(key_data_list, key_feat_list, model_dict, param_grid, path_data, path_estimation, end=n_batch)"
   ]
  },
  {
   "cell_type": "code",
   "execution_count": 14,
   "id": "a0b3a765-e194-4881-8b7f-20095e3f84dd",
   "metadata": {},
   "outputs": [
    {
     "data": {
      "text/plain": [
       "'0:17:26'"
      ]
     },
     "execution_count": 14,
     "metadata": {},
     "output_type": "execute_result"
    }
   ],
   "source": [
    "print_seconds(1045.4746050834656)"
   ]
  },
  {
   "cell_type": "code",
   "execution_count": null,
   "id": "34305c5b-8d30-41b7-bdfd-3c9812a1d77c",
   "metadata": {},
   "outputs": [],
   "source": [
    "3"
   ]
  },
  {
   "cell_type": "code",
   "execution_count": null,
   "id": "3d415fa5-7231-4c74-a072-aad5183b1eea",
   "metadata": {},
   "outputs": [],
   "source": []
  },
  {
   "cell_type": "code",
   "execution_count": null,
   "id": "01e93475-8621-43fd-b6d1-24ec0faa8e42",
   "metadata": {},
   "outputs": [],
   "source": []
  },
  {
   "cell_type": "code",
   "execution_count": null,
   "id": "495178bc-14ec-4121-b323-63ac7685fbc2",
   "metadata": {},
   "outputs": [],
   "source": []
  },
  {
   "cell_type": "code",
   "execution_count": null,
   "id": "ede64b36-c2a1-44c3-bdeb-91a069ff6914",
   "metadata": {},
   "outputs": [],
   "source": []
  },
  {
   "cell_type": "code",
   "execution_count": null,
   "id": "8d98cb6c-0050-4a7f-9099-e585b5e92721",
   "metadata": {},
   "outputs": [],
   "source": []
  },
  {
   "cell_type": "code",
   "execution_count": null,
   "id": "443f4575-5449-43f3-a91a-b4f1447d7600",
   "metadata": {},
   "outputs": [],
   "source": []
  },
  {
   "cell_type": "code",
   "execution_count": null,
   "id": "4d0deed8-e632-4e58-9a82-0d00fe4969ac",
   "metadata": {},
   "outputs": [],
   "source": []
  },
  {
   "cell_type": "code",
   "execution_count": 55,
   "id": "64a3df11-8349-48e6-9120-130b7a3fad85",
   "metadata": {},
   "outputs": [],
   "source": []
  },
  {
   "cell_type": "code",
   "execution_count": null,
   "id": "efa9a558-e3ae-4404-b596-e2ef6df996c3",
   "metadata": {},
   "outputs": [],
   "source": []
  },
  {
   "cell_type": "code",
   "execution_count": null,
   "id": "b13a89cf-80f8-4789-abc5-d1847e64a9c9",
   "metadata": {},
   "outputs": [],
   "source": []
  },
  {
   "cell_type": "code",
   "execution_count": null,
   "id": "a984166f-5c53-4fec-a662-95ee0e15a295",
   "metadata": {},
   "outputs": [],
   "source": []
  },
  {
   "cell_type": "code",
   "execution_count": null,
   "id": "099285ca-e84d-4e45-92bf-deca7760195e",
   "metadata": {},
   "outputs": [],
   "source": []
  },
  {
   "cell_type": "code",
   "execution_count": 10,
   "id": "1e3a1012-1ce6-4bd9-bf18-a76a726b87b0",
   "metadata": {},
   "outputs": [],
   "source": [
    "key_data=\"daily_1000\"\n",
    "key_feat=\"zheng\"\n",
    "Xs = np.load(f\"{path_data}/X_{key_data}_{key_feat}.npy\")[:n_batch]\n",
    "Xs_raw = np.load(f\"{path_data}/X_raw_{key_data}.npy\")[:n_batch]\n",
    "Zs = np.load(f\"{path_data}/Z_{key_data}.npy\")[:n_batch]\n",
    "idx = get_idx_have_all_clusters(Zs, n_c)"
   ]
  },
  {
   "cell_type": "code",
   "execution_count": 11,
   "id": "8bd29988-e3d1-488f-a60b-e5c0f79112bf",
   "metadata": {},
   "outputs": [
    {
     "name": "stderr",
     "output_type": "stream",
     "text": [
      "100%|██████████████████████████████████████████████████████████████████████████████████████████████████████████████████████████████████████████████████████| 9/9 [00:36<00:00,  4.02s/it]\n"
     ]
    }
   ],
   "source": [
    "proba_arr, labels_arr = train_one_model_one_data_batch_params(model, Xs, param_grid)"
   ]
  },
  {
   "cell_type": "code",
   "execution_count": 25,
   "id": "2256815a-acae-436a-8ba7-3e125189efc5",
   "metadata": {},
   "outputs": [],
   "source": [
    "idx = get_idx_have_all_clusters(Zs, n_c)"
   ]
  },
  {
   "cell_type": "code",
   "execution_count": 16,
   "id": "bae54eae-f8ad-4459-af62-2ba9241f4180",
   "metadata": {},
   "outputs": [],
   "source": [
    "def average_BAC(Zs_true, labels_arr, has_params = True):\n",
    "    acc = scorer_batch(accuracy_each_cluster, Zs_true, labels_arr, has_params=has_params) # (n_t, n_c, n_l)\n",
    "    return np.nanmean(acc, axis=0).mean(0)"
   ]
  },
  {
   "cell_type": "code",
   "execution_count": 34,
   "id": "67ae5047-7640-4f89-859c-966354e53b8e",
   "metadata": {},
   "outputs": [],
   "source": [
    "def average_roc_auc(Zs_true, proba_arr, has_params = True):\n",
    "    idx = get_idx_have_all_clusters(Zs, proba_arr.shape[2])\n",
    "    roc_auc = scorer_batch(roc_auc_score, Zs_true, proba_arr[:, :, 1], has_params=has_params, idx_subset=idx) # (n_t, n_c, n_l)\n",
    "    return np.nanmean(roc_auc, axis=0)#.mean(0)"
   ]
  },
  {
   "cell_type": "code",
   "execution_count": 35,
   "id": "c3b03c74-252d-48bc-9900-3a49691c88a0",
   "metadata": {},
   "outputs": [
    {
     "data": {
      "text/plain": [
       "array([0.86150341, 0.87900766, 0.93005939, 0.97815097, 0.88563794,\n",
       "       0.5       , 0.5       , 0.5       , 0.5       ])"
      ]
     },
     "execution_count": 35,
     "metadata": {},
     "output_type": "execute_result"
    }
   ],
   "source": [
    "average_roc_auc(Zs, proba_arr_new, )"
   ]
  },
  {
   "cell_type": "code",
   "execution_count": 24,
   "id": "5cad4e78-0b38-4923-b2a8-0764158337be",
   "metadata": {},
   "outputs": [
    {
     "data": {
      "text/plain": [
       "array([0.82732024, 0.83253033, 0.88404514, 0.9379575 , 0.86060686,\n",
       "       0.50289352, 0.50289352, 0.50289352, 0.50289352])"
      ]
     },
     "execution_count": 24,
     "metadata": {},
     "output_type": "execute_result"
    }
   ],
   "source": [
    "average_BAC(Zs, labels_arr_new)"
   ]
  },
  {
   "cell_type": "code",
   "execution_count": null,
   "id": "4f620420-a6b2-46e9-9489-59fdcd4365ec",
   "metadata": {},
   "outputs": [],
   "source": []
  },
  {
   "cell_type": "code",
   "execution_count": null,
   "id": "3e936f92-2d2f-4aa5-a71e-d089d80662c6",
   "metadata": {},
   "outputs": [],
   "source": []
  },
  {
   "cell_type": "code",
   "execution_count": 43,
   "id": "40c4e4e8-9a4a-47af-841e-c7d2354a9029",
   "metadata": {},
   "outputs": [],
   "source": [
    "labels_ = np.load(f\"{path_estimation}/labels_{key_data}_{key_feat}_cont_mode.npy\")\n",
    "proba_ = np.load(f\"{path_estimation}/proba_{key_data}_{key_feat}_cont_mode.npy\")"
   ]
  },
  {
   "cell_type": "code",
   "execution_count": 44,
   "id": "3193ea65-d93e-45d6-a621-b91f73c9cbe7",
   "metadata": {},
   "outputs": [
    {
     "data": {
      "text/plain": [
       "array([0.82716142, 0.84569641, 0.88685281, 0.94086101, 0.86028424,\n",
       "       0.50289352, 0.50289352, 0.50289352, 0.50289352])"
      ]
     },
     "execution_count": 44,
     "metadata": {},
     "output_type": "execute_result"
    }
   ],
   "source": [
    "average_BAC(Zs, labels_, )"
   ]
  },
  {
   "cell_type": "code",
   "execution_count": 45,
   "id": "f579f8b6-07d4-4730-b3a8-91b800a21b72",
   "metadata": {},
   "outputs": [
    {
     "data": {
      "text/plain": [
       "array([0.86155822, 0.89403193, 0.92963693, 0.97815097, 0.90207452,\n",
       "       0.5       , 0.5       , 0.5       , 0.5       ])"
      ]
     },
     "execution_count": 45,
     "metadata": {},
     "output_type": "execute_result"
    }
   ],
   "source": [
    "average_roc_auc(Zs, proba_ )"
   ]
  }
 ],
 "metadata": {
  "kernelspec": {
   "display_name": "Python 3 (ipykernel)",
   "language": "python",
   "name": "python3"
  },
  "language_info": {
   "codemirror_mode": {
    "name": "ipython",
    "version": 3
   },
   "file_extension": ".py",
   "mimetype": "text/x-python",
   "name": "python",
   "nbconvert_exporter": "python",
   "pygments_lexer": "ipython3",
   "version": "3.11.0"
  }
 },
 "nbformat": 4,
 "nbformat_minor": 5
}
