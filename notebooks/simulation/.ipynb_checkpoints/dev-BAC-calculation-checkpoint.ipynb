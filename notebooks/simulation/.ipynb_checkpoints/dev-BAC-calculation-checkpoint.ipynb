{
 "cells": [
  {
   "cell_type": "code",
   "execution_count": 1,
   "id": "8cd386cf-8654-4a93-9687-27cb469b7f54",
   "metadata": {
    "tags": []
   },
   "outputs": [],
   "source": [
    "%load_ext autoreload\n",
    "%autoreload 2\n",
    "import sys, os\n",
    "from os.path import expanduser\n",
    "## actions required!!!!!!!!!!!!!!!!!!!! change your folder path \n",
    "path = \"~/Documents/G3_2/regime-identification\"\n",
    "path = expanduser(path)\n",
    "sys.path.append(path)\n",
    "\n",
    "path_file = f\"~/data/G3_2/regime-identification/simulation\"\n",
    "path_file = expanduser(path_file)\n",
    "path_data = f\"{path_file}/data\"\n",
    "path_estimation = f\"{path_file}/estimation\"\n",
    "path_score = f\"{path_file}/score\""
   ]
  },
  {
   "cell_type": "code",
   "execution_count": 2,
   "id": "eb1d8853-5d71-4aab-b673-2e437dc63389",
   "metadata": {
    "tags": []
   },
   "outputs": [],
   "source": [
    "import numpy as np\n",
    "import pandas as pd"
   ]
  },
  {
   "cell_type": "code",
   "execution_count": 3,
   "id": "94fe9ec0-b40f-4a7b-bf31-7ac5b8679e30",
   "metadata": {
    "tags": []
   },
   "outputs": [],
   "source": [
    "acc_arr = np.load(f\"{path_score}/acc_daily_1000_true.npy\")"
   ]
  },
  {
   "cell_type": "code",
   "execution_count": 4,
   "id": "13186db1-8700-455f-992a-7aa9ac1add89",
   "metadata": {
    "tags": []
   },
   "outputs": [],
   "source": [
    "def compute_acc_mean_std(acc_arr):\n",
    "    \"\"\"\n",
    "    \n",
    "    Parameters:\n",
    "    ----------------------------------\n",
    "    acc_arr: size (N, K)\n",
    "        the accuracy of k-th class in n-th trial.\n",
    "        \n",
    "    Returns:\n",
    "    ----------------------------------\n",
    "    \"\"\"\n",
    "    n_clusters = acc_arr.shape[1]\n",
    "    acc_df = pd.DataFrame(acc_arr)\n",
    "    acc_mean = acc_df.mean()\n",
    "    acc_std = acc_df.std()\n",
    "    acc_cov = acc_df.cov()\n",
    "    vec = np.repeat(1/n_clusters, n_clusters)\n",
    "    BAC_mean = acc_mean.mean()\n",
    "    BAC_std = np.sqrt(vec @ (acc_cov.to_numpy() @ vec))\n",
    "    return acc_mean, acc_std, BAC_mean, BAC_std"
   ]
  },
  {
   "cell_type": "code",
   "execution_count": 5,
   "id": "9735e9a0-7f48-4565-804a-e9d8883d5fa0",
   "metadata": {
    "tags": []
   },
   "outputs": [],
   "source": [
    "acc_mean, acc_std, BAC_mean, BAC_std = compute_acc_mean_std(acc_arr)"
   ]
  },
  {
   "cell_type": "code",
   "execution_count": 9,
   "id": "477a8cb2-aeea-4464-954a-70b4214d729a",
   "metadata": {
    "tags": []
   },
   "outputs": [],
   "source": [
    "def create_acc_summary_ser(acc_mean, acc_std, BAC_mean, BAC_std, name = None):\n",
    "    ser = pd.Series(dtype=float)\n",
    "    ser.name = name\n",
    "    for i in range(len(acc_mean)):\n",
    "        ser[f\"Accuracy {i+1}\"] = acc_mean[i]\n",
    "        ser[f\"Accuracy {i+1} std\"] = acc_std[i]\n",
    "    ser[\"BAC\"] = BAC_mean\n",
    "    ser[\"BAC std\"] = BAC_std\n",
    "    return ser"
   ]
  },
  {
   "cell_type": "code",
   "execution_count": null,
   "id": "12f9a8d9-829b-40ae-b0a5-f0e3c7b2c873",
   "metadata": {},
   "outputs": [],
   "source": []
  },
  {
   "cell_type": "code",
   "execution_count": null,
   "id": "05a68db7-b5fc-4da1-ad71-8bb05bc3a691",
   "metadata": {},
   "outputs": [],
   "source": []
  },
  {
   "cell_type": "code",
   "execution_count": null,
   "id": "74fd9483-3783-4311-95ab-0ef503726165",
   "metadata": {},
   "outputs": [],
   "source": []
  },
  {
   "cell_type": "code",
   "execution_count": null,
   "id": "f820efe0-a1dd-4ee8-9f4c-7d22dc28af3c",
   "metadata": {},
   "outputs": [],
   "source": []
  },
  {
   "cell_type": "code",
   "execution_count": null,
   "id": "d9088cf3-a54c-41c8-aba6-f8ceabcfe695",
   "metadata": {},
   "outputs": [],
   "source": []
  },
  {
   "cell_type": "code",
   "execution_count": 6,
   "id": "f60a2811-fed7-4e04-a346-be9eae5adfc1",
   "metadata": {
    "tags": []
   },
   "outputs": [
    {
     "data": {
      "text/plain": [
       "(0.9531400049884539, 0.08464160838224954)"
      ]
     },
     "execution_count": 6,
     "metadata": {},
     "output_type": "execute_result"
    }
   ],
   "source": [
    "BAC_mean, BAC_std"
   ]
  },
  {
   "cell_type": "code",
   "execution_count": null,
   "id": "a6e18ac8-06de-4420-88c1-453458df8439",
   "metadata": {},
   "outputs": [],
   "source": []
  }
 ],
 "metadata": {
  "kernelspec": {
   "display_name": "Python 3 (ipykernel)",
   "language": "python",
   "name": "python3"
  },
  "language_info": {
   "codemirror_mode": {
    "name": "ipython",
    "version": 3
   },
   "file_extension": ".py",
   "mimetype": "text/x-python",
   "name": "python",
   "nbconvert_exporter": "python",
   "pygments_lexer": "ipython3",
   "version": "3.10.9"
  }
 },
 "nbformat": 4,
 "nbformat_minor": 5
}
