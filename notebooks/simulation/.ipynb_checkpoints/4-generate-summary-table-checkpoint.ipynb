{
 "cells": [
  {
   "cell_type": "code",
   "execution_count": 1,
   "id": "1fdf61f4-4ba2-4581-92e3-45bd15beb786",
   "metadata": {
    "tags": []
   },
   "outputs": [],
   "source": [
    "%load_ext autoreload\n",
    "%autoreload 2\n",
    "import sys, os\n",
    "from os.path import expanduser\n",
    "## actions required!!!!!!!!!!!!!!!!!!!! change your folder path \n",
    "path_repo = expanduser(\"~/Documents/G3_2/regime-identification\"); sys.path.append(path_repo)\n",
    "path_file = expanduser(\"~/data/G3_2/regime-identification/simulation\")\n",
    "path = {}\n",
    "for folder in [\"summary\", \"best-idx\", \"latex\", \"summary-cluster\", \"best-idx-cluster\", \"latex-cluster\"]:\n",
    "    path[folder] = f\"{path_file}/{folder}\""
   ]
  },
  {
   "cell_type": "code",
   "execution_count": 2,
   "id": "dea5cc5a-42b3-407f-ae2b-c58d989413e2",
   "metadata": {
    "tags": []
   },
   "outputs": [],
   "source": [
    "import pandas as pd\n",
    "import numpy as np"
   ]
  },
  {
   "cell_type": "code",
   "execution_count": 3,
   "id": "393b0af9-4215-4eff-9f3a-d08c109a15f8",
   "metadata": {
    "tags": []
   },
   "outputs": [],
   "source": [
    "from regime.simulation_helper import *"
   ]
  },
  {
   "cell_type": "code",
   "execution_count": 18,
   "id": "300147ca-992b-489b-a1aa-765cc5b0741a",
   "metadata": {
    "tags": []
   },
   "outputs": [],
   "source": [
    "len_list = [[250, 500, 1000, 2000], [50, 100, 250, 500], [60, 120, 250, 500]]"
   ]
  },
  {
   "cell_type": "markdown",
   "id": "9db9866e-ebe8-422f-9471-0152b34b52ed",
   "metadata": {
    "tags": []
   },
   "source": [
    "# summary table & latex output"
   ]
  },
  {
   "cell_type": "code",
   "execution_count": 19,
   "id": "a1196de1-f12d-429b-826a-c80af75cb7cb",
   "metadata": {
    "tags": []
   },
   "outputs": [],
   "source": [
    "feat_dict = {'true': \"HMM\",\n",
    "             'HMM-paper': \"HMM\",\n",
    "             # 'HMM10init-paper': \"HMM\",\n",
    "             # 'HMM1init': \"HMM\", \n",
    "             # 'HMM1initCovPrior': \"HMM\", \n",
    "             'discrete': \"zhengB\", \n",
    "             'cont': \"zhengB\",\n",
    "             'cont-mode': \"zhengB\"}\n",
    "name_dict = {'true': \"true\",\n",
    "             \"HMM-paper\": \"HMM\",\n",
    "             # 'HMM10init-paper': \"$\\\\text{HMM}_{10}$\", \n",
    "             # 'HMM1init': \"HMM\", \n",
    "             # 'HMM1initCovPrior': \"HMM-prior\", \n",
    "             'discrete': \"discrete\", \n",
    "             'cont': \"cont\",\n",
    "             'cont-mode': \"$\\\\text{cont}_{\\\\text{M}}$\"}"
   ]
  },
  {
   "cell_type": "code",
   "execution_count": 20,
   "id": "06d85e69-176e-4613-88db-aea8578bfe42",
   "metadata": {
    "tags": []
   },
   "outputs": [],
   "source": [
    "n_s_dict = dict(zip(generate_key_data(2), len_list))"
   ]
  },
  {
   "cell_type": "code",
   "execution_count": 21,
   "id": "d19906eb-b155-4d65-a3e4-99b52fcc9801",
   "metadata": {
    "tags": []
   },
   "outputs": [],
   "source": [
    "for key_data, n_s_list in n_s_dict.items():\n",
    "    _ = save_results_in_latex(path, key_data, n_s_list, feat_dict, name_dict, \"paper\", True)"
   ]
  },
  {
   "cell_type": "code",
   "execution_count": null,
   "id": "db909bef-cfc7-4023-bdd1-c77bb30acfb4",
   "metadata": {},
   "outputs": [],
   "source": []
  },
  {
   "cell_type": "code",
   "execution_count": null,
   "id": "3b14d8d2-a631-42af-8802-b90e5df64d1e",
   "metadata": {},
   "outputs": [],
   "source": []
  },
  {
   "cell_type": "code",
   "execution_count": null,
   "id": "50a4969f-7649-49e3-b7a0-fb5d7af3e897",
   "metadata": {},
   "outputs": [],
   "source": [
    "import re\n",
    "def print_table_to_latex(df, col_space, label, font=(6,8)):\n",
    "    def output_column_format(df_ret, space):\n",
    "        n_col=df_ret.shape[1]\n",
    "        return (\"l @{\\hspace{\" + space + \"}} \") * n_col + \"l\"\n",
    "    n_col = df.shape[1]\n",
    "    if n_col > 20:\n",
    "        raise NotImplementedError()\n",
    "    if n_col > 10:\n",
    "        if n_col % 2 == 1:\n",
    "            df[\"\"] = \"\"; n_col += 1\n",
    "        string1, string2 = print_table_to_latex(df.iloc[:, :n_col//2], col_space, label, font), print_table_to_latex(df.iloc[:, n_col//2:], col_space, label, font)\n",
    "        string = string1+string2\n",
    "        return re.sub(r\"\\\\bottomrule.*?\\\\toprule\", r\"\\\\bottomrule\", string, flags=re.DOTALL)\n",
    "        \n",
    "    string = df.style.to_latex(column_format=output_column_format(df, col_space),\n",
    "            position = \"htbp\", hrules=True, label=label) #, position_float=\"centering\",  caption=label,\n",
    "    key = \"\\label{\" + label + \"}\"\n",
    "    string = string.replace(key, key + \"\\n\\\\begin{adjustwidth}{-10cm}{-10cm} \\n\\\\centering \\n{\\\\fontsize\" + \\\n",
    "                            \"{\" + str(font[0]) + \"}\" + \"{\" + str(font[1]) + \"}\" + \"\\\\selectfont\\n\")\n",
    "    string = string.replace(\"\\\\end{tabular}\", \"\\\\end{tabular} \\n}\\\\end{adjustwidth}\\n\\\\caption\"+f\"{label}\")\n",
    "    return string\n"
   ]
  },
  {
   "cell_type": "code",
   "execution_count": null,
   "id": "8453a73f-41fd-4258-94c2-ca74984353b4",
   "metadata": {},
   "outputs": [],
   "source": [
    "import re\n",
    "\n",
    "latex_string = r\"\"\"\n",
    "\\begin{table}\n",
    "\\centering\n",
    "\\begin{tabular}{|c|c|}\n",
    "\\hline\n",
    "Header 1 & Header 2 \\\\\n",
    "\\hline\n",
    "Cell 1 & Cell 2 \\\\\n",
    "\\hline\n",
    "\\caption{Table caption}\n",
    "\\end{tabular}\n",
    "\\end{table}\n",
    "\"\"\"\n",
    "\n",
    "# Find the indices of \"\\caption{...}\" and \"\\end{table}\"\n",
    "caption_pattern = r\"\\\\caption\\{(.+?)\\}\"\n",
    "end_table_pattern = r\"\\\\end\\{table\\}\"\n",
    "\n",
    "caption_match = re.search(caption_pattern, latex_string)\n",
    "end_table_match = re.search(end_table_pattern, latex_string)\n",
    "\n",
    "# Extract the caption string\n",
    "caption = caption_match.group(1)\n",
    "\n",
    "# Remove the caption from the original string\n",
    "latex_string = re.sub(caption_pattern, \"\", latex_string)\n",
    "\n",
    "# Insert the caption right before \"\\end{table}\"\n",
    "latex_string = re.sub(end_table_pattern, caption + \"\\n\" + \"\\\\end{table}\", latex_string)\n",
    "\n",
    "print(latex_string)\n"
   ]
  },
  {
   "cell_type": "code",
   "execution_count": null,
   "id": "f175ec79-8d27-4174-a1cc-67e6532dd735",
   "metadata": {},
   "outputs": [],
   "source": []
  },
  {
   "cell_type": "code",
   "execution_count": null,
   "id": "6cee30b6-eadf-468c-8792-7f181bf06626",
   "metadata": {},
   "outputs": [],
   "source": []
  },
  {
   "cell_type": "code",
   "execution_count": null,
   "id": "0693ca26-564f-4190-8f5b-05226ad70a0e",
   "metadata": {},
   "outputs": [],
   "source": []
  },
  {
   "cell_type": "code",
   "execution_count": 7,
   "id": "6763a613-c0c7-427c-8095-550eecfdfdbb",
   "metadata": {
    "tags": []
   },
   "outputs": [],
   "source": [
    "def save_results_in_latex(path, key_data, n_s_list, feat_dict, name_dict, latex_file_name, cluster=False):\n",
    "    \"\"\"\n",
    "    only do it for one key_data.\n",
    "    \"\"\"\n",
    "    latex_str = add_cluster(\"latex\", cluster)\n",
    "    df = generate_numerical_results_table(path, key_data, n_s_list, feat_dict, name_dict, cluster)\n",
    "    string = print_table_to_latex(df, \".2cm\", key_data)\n",
    "    filename = generate_file_name(path, latex_str, key_data, latex_file_name, suffix=\"latex\"); check_dir_exist(filename)\n",
    "    with open(filename, \"w\") as f:\n",
    "        f.write(string)\n",
    "    return string"
   ]
  },
  {
   "cell_type": "code",
   "execution_count": 7,
   "id": "1cd45991-bd43-4778-9b76-906473cda4a0",
   "metadata": {
    "tags": []
   },
   "outputs": [],
   "source": [
    "key_data = \"3-state-daily\"\n",
    "n_s=250 \n",
    "cluster=True"
   ]
  },
  {
   "cell_type": "code",
   "execution_count": null,
   "id": "424350cd-f248-491c-a5b1-c92b126ba256",
   "metadata": {},
   "outputs": [],
   "source": [
    "def generate_numerical_results_table(path, key_data, n_s, feat_dict, name_dict, cluster=False):\n",
    "    \"\"\"\n",
    "    n_s can be a list.\n",
    "    \"\"\"\n",
    "    if isinstance(n_s, list):\n",
    "        # return {n_s_: generate_numerical_results_table(path, key_data, n_s_, feat_dict, name_dict, cluster) for n_s_ in n_s}\n",
    "        return pd.concat([generate_numerical_results_table(path, key_data, n_s_, feat_dict, name_dict, cluster) for n_s_ in n_s])\n",
    "    # load best_idx\n",
    "    best_idx_str, summary_str = add_cluster(\"best-idx\", cluster), add_cluster(\"summary\", cluster)\n",
    "    idx_df = load_file(path, best_idx_str, key_data, \"best_idx\", suffix=\"csv\", index_col=0)\n",
    "    for model_name in name_dict:\n",
    "        if \"true\" in model_name or \"HMM\" in model_name: idx_df[model_name] = 0\n",
    "    means_combined_df = {new_name: load_file(path, summary_str, key_data, \"means\", n_s, feat_dict[model], model, suffix=\"h5\").iloc[idx_df.loc[n_s, model]] \\\n",
    "                         for model, new_name in name_dict.items()}\n",
    "    stds_combined_df = {new_name: load_file(path, summary_str, key_data, \"stds\", n_s, feat_dict[model], model, suffix=\"h5\").iloc[idx_df.loc[n_s, model]] \\\n",
    "                         for model, new_name in name_dict.items()}\n",
    "    means_combined_df, stds_combined_df = pd.DataFrame(means_combined_df).T, pd.DataFrame(stds_combined_df).T\n",
    "    # accuracy of estimation\n",
    "    df_acc_for_rank = {col: (means_combined_df[col]-means_combined_df.loc[\"true\", col]).abs() if not col_is_acc(col) else -means_combined_df[col] for col in means_combined_df.columns}\n",
    "    df_acc_for_rank = pd.DataFrame(df_acc_for_rank).drop(\"true\")\n",
    "    best_model_ser = df_acc_for_rank.idxmin()\n",
    "    means_combined_df, stds_combined_df = means_combined_df.applymap(lambda x: f\"{x:.4f}\"), stds_combined_df.applymap(lambda x: f\"{x:.4f}\")\n",
    "    for col in best_model_ser.index:\n",
    "        means_combined_df.loc[best_model_ser[col], col] = \"\\\\textbf{\" + means_combined_df.loc[best_model_ser[col], col] + \"}\"\n",
    "    # combine\n",
    "    df_ret = combine_means_std_df(means_combined_df, stds_combined_df)\n",
    "    df_ret = pd.concat([pd.DataFrame(\"\", index=[n_s], columns=df_ret.columns), df_ret])\n",
    "    return df_ret\n",
    "#combine_summary_means_std_df(means_combined_df, stds_combined_df) #means_combined_df, stds_combined_df, df_acc_for_rank\n"
   ]
  },
  {
   "cell_type": "code",
   "execution_count": null,
   "id": "f95fb80c-7604-40fe-9ef9-43929a25b94d",
   "metadata": {},
   "outputs": [],
   "source": []
  },
  {
   "cell_type": "code",
   "execution_count": null,
   "id": "fc83752f-09b3-49a0-af2f-5e1830b4876f",
   "metadata": {},
   "outputs": [],
   "source": []
  },
  {
   "cell_type": "code",
   "execution_count": null,
   "id": "adfccfb9-e28c-4369-97d6-56c76559316d",
   "metadata": {},
   "outputs": [],
   "source": []
  },
  {
   "cell_type": "code",
   "execution_count": 60,
   "id": "5f75d15a-ee70-4ff1-a84a-a4faea7e2297",
   "metadata": {
    "tags": []
   },
   "outputs": [],
   "source": [
    "def output_column_format(df_ret, space):\n",
    "    n_col=df_ret.shape[1]\n",
    "    return (\"l @{\\hspace{\" + space + \"}} \") * n_col + \"l\""
   ]
  },
  {
   "cell_type": "code",
   "execution_count": 38,
   "id": "301fb0c5-b730-442f-845a-fc73fa8654fa",
   "metadata": {
    "tags": []
   },
   "outputs": [],
   "source": []
  },
  {
   "cell_type": "code",
   "execution_count": 39,
   "id": "85a85e52-780d-4aa7-958a-45ae054d0661",
   "metadata": {
    "tags": []
   },
   "outputs": [],
   "source": []
  },
  {
   "cell_type": "code",
   "execution_count": null,
   "id": "d4b4aef3-6fe9-40a6-885c-f8d95c9532cc",
   "metadata": {},
   "outputs": [],
   "source": []
  },
  {
   "cell_type": "code",
   "execution_count": null,
   "id": "39502504-608a-4fa8-b8a0-6a8abb2ea16b",
   "metadata": {},
   "outputs": [],
   "source": []
  },
  {
   "cell_type": "markdown",
   "id": "73c15cc8-3214-4444-930f-389a42139c17",
   "metadata": {},
   "source": [
    "# in paper"
   ]
  },
  {
   "cell_type": "code",
   "execution_count": 19,
   "id": "580d16b4-eae9-4b17-8bee-b8afa811fd74",
   "metadata": {
    "tags": []
   },
   "outputs": [],
   "source": [
    "feat_dict_s = {'true': \"HMM\",\n",
    "             'HMM10init': \"HMM\", \n",
    "             'discrete': \"zhengF\", \n",
    "             'cont': \"zhengF\",\n",
    "             'cont-mode': \"zhengF\"}\n",
    "name_dict_s = {'true': \"true\",\n",
    "             'HMM10init': \"$\\\\text{HMM}_{10}$\", \n",
    "             'discrete': \"discrete\", \n",
    "             'cont': \"cont.\",\n",
    "             'cont-mode': \"cont. mode\"}"
   ]
  },
  {
   "cell_type": "code",
   "execution_count": 20,
   "id": "b0acfe7d-23e1-48f4-b5cb-516503c5930e",
   "metadata": {
    "tags": []
   },
   "outputs": [],
   "source": [
    "_ = save_results_in_latex(path, \"2-state-daily\", [250, 500, 1000], feat_dict_s, name_dict_s, \"paper\")"
   ]
  },
  {
   "cell_type": "code",
   "execution_count": 21,
   "id": "d2bed6c1-c07b-47b2-85f0-904fed8a6375",
   "metadata": {
    "tags": []
   },
   "outputs": [],
   "source": [
    "_ = save_results_in_latex(path, \"2-state-weekly\", [100, 250, 500], feat_dict_s, name_dict_s, \"paper\")"
   ]
  },
  {
   "cell_type": "code",
   "execution_count": 22,
   "id": "4e869e06-ecd0-4926-b3c9-566550cf3b59",
   "metadata": {
    "tags": []
   },
   "outputs": [],
   "source": [
    "_ = save_results_in_latex(path, \"2-state-monthly\", [120, 250, 500], feat_dict_s, name_dict_s, \"paper\")"
   ]
  },
  {
   "cell_type": "code",
   "execution_count": 23,
   "id": "b70a161a-3ad4-4a14-83be-650da8d090b2",
   "metadata": {
    "tags": []
   },
   "outputs": [],
   "source": [
    "_ = save_results_in_latex(path, \"t-daily\", [250, 500, 1000, 2000], feat_dict_s, name_dict_s, \"paper\")"
   ]
  }
 ],
 "metadata": {
  "kernelspec": {
   "display_name": "Python 3 (ipykernel)",
   "language": "python",
   "name": "python3"
  },
  "language_info": {
   "codemirror_mode": {
    "name": "ipython",
    "version": 3
   },
   "file_extension": ".py",
   "mimetype": "text/x-python",
   "name": "python",
   "nbconvert_exporter": "python",
   "pygments_lexer": "ipython3",
   "version": "3.10.9"
  }
 },
 "nbformat": 4,
 "nbformat_minor": 5
}
