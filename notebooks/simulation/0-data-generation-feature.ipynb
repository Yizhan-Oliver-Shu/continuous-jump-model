{
 "cells": [
  {
   "cell_type": "code",
   "execution_count": 1,
   "id": "3b82d6ed-1bca-46eb-81e3-91c70bf7c5fb",
   "metadata": {
    "tags": []
   },
   "outputs": [],
   "source": [
    "# timelimit = 00:10:00\n",
    "%load_ext autoreload\n",
    "%autoreload 2\n",
    "import sys, os\n",
    "from os.path import expanduser\n",
    "## actions required!!!!!!!!!!!!!!!!!!!! change your folder path \n",
    "path_repo = expanduser(\"~/Documents/G3_2/regime-identification\"); sys.path.append(path_repo)\n",
    "path_file = expanduser(\"~/data/G3_2/regime-identification/simulation\")\n",
    "path = {}\n",
    "for folder in [\"data\", \"estimation\"]:\n",
    "    path[folder] = f\"{path_file}/{folder}\""
   ]
  },
  {
   "cell_type": "code",
   "execution_count": 2,
   "id": "46d65ded-9cd0-429b-9568-e7b0d5fb6746",
   "metadata": {
    "tags": []
   },
   "outputs": [],
   "source": [
    "import numpy as np\n",
    "from numpy.random import RandomState"
   ]
  },
  {
   "cell_type": "code",
   "execution_count": 3,
   "id": "7d7f863c-1c14-48bc-be92-13c96d4302cd",
   "metadata": {
    "tags": []
   },
   "outputs": [],
   "source": [
    "from regime.simulation_helper import *"
   ]
  },
  {
   "cell_type": "code",
   "execution_count": 4,
   "id": "1a5fcf73-d489-4219-be4d-79496bd5a60d",
   "metadata": {
    "tags": []
   },
   "outputs": [],
   "source": [
    "n_t, n_buffer = 1024, 20\n",
    "len_list = [[250, 500, 1000, 2000], [50, 100, 250, 500, 1000], [60, 120, 250, 500]]"
   ]
  },
  {
   "cell_type": "code",
   "execution_count": 5,
   "id": "5f979905-6153-4e5a-98e9-87257815ccf6",
   "metadata": {
    "tags": []
   },
   "outputs": [],
   "source": [
    "key_data_dict = {}\n",
    "DGP_dict = {}\n",
    "n_s_dict = {}"
   ]
  },
  {
   "cell_type": "markdown",
   "id": "41a70b13-94fc-4b44-a66e-bac479db887f",
   "metadata": {
    "jp-MarkdownHeadingCollapsed": true,
    "tags": []
   },
   "source": [
    "# 0-generate-data\n",
    "\n",
    "In this notebook we systematically generate the simulation data. We postpone estimation using the true model to a later notebook, to put estimation all in one place.\n"
   ]
  },
  {
   "cell_type": "markdown",
   "id": "74cd5a64-8018-4c23-8165-a14d2f5be227",
   "metadata": {},
   "source": [
    "# 2-state models\n",
    "\n",
    "- scale: We use the parameters estimated in the classical Hardy's paper, and convert into three scales: **daily, weekly, monthly**, with decreasing persistency.\n",
    "- length: We simulate seqs of different length.\n",
    "\n",
    "For each combo, we simulate `n_t=1024` seqs. The data in each combo are saved in a batch, thus in the shape of `(n_t, n_s, n_f)`. Also since we need to do feature engineering, every seq is 20 periods longer at both the beginning and the end."
   ]
  },
  {
   "cell_type": "code",
   "execution_count": 6,
   "id": "e39144fb-bd00-4e49-9fc7-289f81d1ae7d",
   "metadata": {
    "tags": []
   },
   "outputs": [],
   "source": [
    "n_c = 2\n",
    "data_name = f\"{n_c}-state\"\n",
    "random_state = RandomState(0)\n",
    "key_data_dict[data_name] = generate_key_data(n_c)\n",
    "DGP_dict[data_name] = {key_data: \\\n",
    "            get_HMM_instance_for_sampling(*load_hardy_params(key_data.split(\"-\")[-1], n_c), emission=\"Gaussian\", random_state=random_state) for key_data in key_data_dict[data_name]}\n",
    "n_s_dict[data_name] = dict(zip(key_data_dict[data_name], len_list))"
   ]
  },
  {
   "cell_type": "code",
   "execution_count": 7,
   "id": "0fbb3b41-4dbb-468e-ad59-b5a3137cb6f7",
   "metadata": {
    "tags": []
   },
   "outputs": [
    {
     "name": "stderr",
     "output_type": "stream",
     "text": [
      "  0%|                                                                                    | 0/3 [00:00<?, ?it/s]"
     ]
    },
    {
     "name": "stdout",
     "output_type": "stream",
     "text": [
      "created folder: /Users/yizhan/data/G3_2/regime-identification/simulation/data/2-state-daily.\n",
      "shape of the saved Xs: (1024, 290, 1).\n",
      "shape of the saved Xs: (1024, 250, 1).\n",
      "shape of the saved Zs: (1024, 250).\n",
      "shape of the saved Xs: (1024, 540, 1).\n",
      "shape of the saved Xs: (1024, 500, 1).\n",
      "shape of the saved Zs: (1024, 500).\n",
      "shape of the saved Xs: (1024, 1040, 1).\n",
      "shape of the saved Xs: (1024, 1000, 1).\n",
      "shape of the saved Zs: (1024, 1000).\n"
     ]
    },
    {
     "name": "stderr",
     "output_type": "stream",
     "text": [
      " 33%|█████████████████████████▎                                                  | 1/3 [00:08<00:17,  8.78s/it]"
     ]
    },
    {
     "name": "stdout",
     "output_type": "stream",
     "text": [
      "shape of the saved Xs: (1024, 2040, 1).\n",
      "shape of the saved Xs: (1024, 2000, 1).\n",
      "shape of the saved Zs: (1024, 2000).\n",
      "created folder: /Users/yizhan/data/G3_2/regime-identification/simulation/data/2-state-weekly.\n",
      "shape of the saved Xs: (1024, 90, 1).\n",
      "shape of the saved Xs: (1024, 50, 1).\n",
      "shape of the saved Zs: (1024, 50).\n",
      "shape of the saved Xs: (1024, 140, 1).\n",
      "shape of the saved Xs: (1024, 100, 1).\n",
      "shape of the saved Zs: (1024, 100).\n",
      "shape of the saved Xs: (1024, 290, 1).\n",
      "shape of the saved Xs: (1024, 250, 1).\n",
      "shape of the saved Zs: (1024, 250).\n",
      "shape of the saved Xs: (1024, 540, 1).\n",
      "shape of the saved Xs: (1024, 500, 1).\n",
      "shape of the saved Zs: (1024, 500).\n"
     ]
    },
    {
     "name": "stderr",
     "output_type": "stream",
     "text": [
      " 67%|██████████████████████████████████████████████████▋                         | 2/3 [00:13<00:06,  6.51s/it]"
     ]
    },
    {
     "name": "stdout",
     "output_type": "stream",
     "text": [
      "shape of the saved Xs: (1024, 1040, 1).\n",
      "shape of the saved Xs: (1024, 1000, 1).\n",
      "shape of the saved Zs: (1024, 1000).\n",
      "created folder: /Users/yizhan/data/G3_2/regime-identification/simulation/data/2-state-monthly.\n",
      "shape of the saved Xs: (1024, 100, 1).\n",
      "shape of the saved Xs: (1024, 60, 1).\n",
      "shape of the saved Zs: (1024, 60).\n",
      "shape of the saved Xs: (1024, 160, 1).\n",
      "shape of the saved Xs: (1024, 120, 1).\n",
      "shape of the saved Zs: (1024, 120).\n",
      "shape of the saved Xs: (1024, 290, 1).\n",
      "shape of the saved Xs: (1024, 250, 1).\n",
      "shape of the saved Zs: (1024, 250).\n"
     ]
    },
    {
     "name": "stderr",
     "output_type": "stream",
     "text": [
      "100%|████████████████████████████████████████████████████████████████████████████| 3/3 [00:16<00:00,  5.50s/it]"
     ]
    },
    {
     "name": "stdout",
     "output_type": "stream",
     "text": [
      "shape of the saved Xs: (1024, 540, 1).\n",
      "shape of the saved Xs: (1024, 500, 1).\n",
      "shape of the saved Zs: (1024, 500).\n"
     ]
    },
    {
     "name": "stderr",
     "output_type": "stream",
     "text": [
      "\n"
     ]
    }
   ],
   "source": [
    "simulate_data(DGP_dict[data_name], n_s_dict[data_name], n_t, n_buffer, path=path)"
   ]
  },
  {
   "cell_type": "markdown",
   "id": "f72df847-6566-4044-878c-56fbb0953353",
   "metadata": {},
   "source": [
    "# t-components"
   ]
  },
  {
   "cell_type": "code",
   "execution_count": 8,
   "id": "65b43f70-122d-4e54-ad46-b9601cb66d36",
   "metadata": {},
   "outputs": [],
   "source": [
    "n_c = 2; dof_ = 5\n",
    "data_name = f\"t-{dof_}\"\n",
    "random_state = RandomState(1)\n",
    "key_data_dict[data_name] = generate_key_data(\"t\", dof=dof_)\n",
    "DGP_dict[data_name] = {key_data: \\\n",
    "            get_HMM_instance_for_sampling(*load_hardy_params(key_data.split(\"-\")[-1], n_c), emission=\"t\", dof_=dof_, random_state=random_state) for key_data in key_data_dict[data_name]}\n",
    "n_s_dict[data_name] = dict(zip(key_data_dict[data_name], len_list))"
   ]
  },
  {
   "cell_type": "code",
   "execution_count": 9,
   "id": "fa381c94-a97b-46c6-8e86-c98be13f474d",
   "metadata": {
    "tags": []
   },
   "outputs": [
    {
     "name": "stderr",
     "output_type": "stream",
     "text": [
      "  0%|                                                                                    | 0/3 [00:00<?, ?it/s]"
     ]
    },
    {
     "name": "stdout",
     "output_type": "stream",
     "text": [
      "created folder: /Users/yizhan/data/G3_2/regime-identification/simulation/data/t-5-daily.\n",
      "shape of the saved Xs: (1024, 290, 1).\n",
      "shape of the saved Xs: (1024, 250, 1).\n",
      "shape of the saved Zs: (1024, 250).\n",
      "shape of the saved Xs: (1024, 540, 1).\n",
      "shape of the saved Xs: (1024, 500, 1).\n",
      "shape of the saved Zs: (1024, 500).\n",
      "shape of the saved Xs: (1024, 1040, 1).\n",
      "shape of the saved Xs: (1024, 1000, 1).\n",
      "shape of the saved Zs: (1024, 1000).\n"
     ]
    },
    {
     "name": "stderr",
     "output_type": "stream",
     "text": [
      " 33%|█████████████████████████▎                                                  | 1/3 [00:10<00:20, 10.00s/it]"
     ]
    },
    {
     "name": "stdout",
     "output_type": "stream",
     "text": [
      "shape of the saved Xs: (1024, 2040, 1).\n",
      "shape of the saved Xs: (1024, 2000, 1).\n",
      "shape of the saved Zs: (1024, 2000).\n",
      "created folder: /Users/yizhan/data/G3_2/regime-identification/simulation/data/t-5-weekly.\n",
      "shape of the saved Xs: (1024, 90, 1).\n",
      "shape of the saved Xs: (1024, 50, 1).\n",
      "shape of the saved Zs: (1024, 50).\n",
      "shape of the saved Xs: (1024, 140, 1).\n",
      "shape of the saved Xs: (1024, 100, 1).\n",
      "shape of the saved Zs: (1024, 100).\n",
      "shape of the saved Xs: (1024, 290, 1).\n",
      "shape of the saved Xs: (1024, 250, 1).\n",
      "shape of the saved Zs: (1024, 250).\n",
      "shape of the saved Xs: (1024, 540, 1).\n",
      "shape of the saved Xs: (1024, 500, 1).\n",
      "shape of the saved Zs: (1024, 500).\n"
     ]
    },
    {
     "name": "stderr",
     "output_type": "stream",
     "text": [
      " 67%|██████████████████████████████████████████████████▋                         | 2/3 [00:15<00:07,  7.42s/it]"
     ]
    },
    {
     "name": "stdout",
     "output_type": "stream",
     "text": [
      "shape of the saved Xs: (1024, 1040, 1).\n",
      "shape of the saved Xs: (1024, 1000, 1).\n",
      "shape of the saved Zs: (1024, 1000).\n",
      "created folder: /Users/yizhan/data/G3_2/regime-identification/simulation/data/t-5-monthly.\n",
      "shape of the saved Xs: (1024, 100, 1).\n",
      "shape of the saved Xs: (1024, 60, 1).\n",
      "shape of the saved Zs: (1024, 60).\n",
      "shape of the saved Xs: (1024, 160, 1).\n",
      "shape of the saved Xs: (1024, 120, 1).\n",
      "shape of the saved Zs: (1024, 120).\n",
      "shape of the saved Xs: (1024, 290, 1).\n",
      "shape of the saved Xs: (1024, 250, 1).\n",
      "shape of the saved Zs: (1024, 250).\n"
     ]
    },
    {
     "name": "stderr",
     "output_type": "stream",
     "text": [
      "100%|████████████████████████████████████████████████████████████████████████████| 3/3 [00:18<00:00,  6.15s/it]"
     ]
    },
    {
     "name": "stdout",
     "output_type": "stream",
     "text": [
      "shape of the saved Xs: (1024, 540, 1).\n",
      "shape of the saved Xs: (1024, 500, 1).\n",
      "shape of the saved Zs: (1024, 500).\n"
     ]
    },
    {
     "name": "stderr",
     "output_type": "stream",
     "text": [
      "\n"
     ]
    }
   ],
   "source": [
    "simulate_data(DGP_dict[data_name], n_s_dict[data_name], n_t, n_buffer, path=path)"
   ]
  },
  {
   "cell_type": "markdown",
   "id": "b0e5bbd9-bc6a-42c8-8fee-c013abd85f06",
   "metadata": {
    "tags": []
   },
   "source": [
    "# 3-state models"
   ]
  },
  {
   "cell_type": "code",
   "execution_count": 10,
   "id": "647ecf05-4321-410e-bbab-43bd33c383ac",
   "metadata": {
    "tags": []
   },
   "outputs": [],
   "source": [
    "n_c = 3\n",
    "data_name = f\"{n_c}-state\"\n",
    "random_state = RandomState(10)\n",
    "key_data_dict[data_name] = generate_key_data(n_c)\n",
    "DGP_dict[data_name] = {key_data: \\\n",
    "            get_HMM_instance_for_sampling(*load_hardy_params(key_data.split(\"-\")[-1], n_c), emission=\"Gaussian\", random_state=random_state) for key_data in key_data_dict[data_name]}\n",
    "n_s_dict[data_name] = dict(zip(key_data_dict[data_name], len_list))"
   ]
  },
  {
   "cell_type": "code",
   "execution_count": 11,
   "id": "fa9d6a60-e900-4e37-848e-1b5e3e2f857c",
   "metadata": {
    "tags": []
   },
   "outputs": [
    {
     "name": "stderr",
     "output_type": "stream",
     "text": [
      "  0%|                                                                                    | 0/3 [00:00<?, ?it/s]"
     ]
    },
    {
     "name": "stdout",
     "output_type": "stream",
     "text": [
      "created folder: /Users/yizhan/data/G3_2/regime-identification/simulation/data/3-state-daily.\n",
      "shape of the saved Xs: (1024, 290, 1).\n",
      "shape of the saved Xs: (1024, 250, 1).\n",
      "shape of the saved Zs: (1024, 250).\n",
      "shape of the saved Xs: (1024, 540, 1).\n",
      "shape of the saved Xs: (1024, 500, 1).\n",
      "shape of the saved Zs: (1024, 500).\n",
      "shape of the saved Xs: (1024, 1040, 1).\n",
      "shape of the saved Xs: (1024, 1000, 1).\n",
      "shape of the saved Zs: (1024, 1000).\n"
     ]
    },
    {
     "name": "stderr",
     "output_type": "stream",
     "text": [
      " 33%|█████████████████████████▎                                                  | 1/3 [00:09<00:18,  9.17s/it]"
     ]
    },
    {
     "name": "stdout",
     "output_type": "stream",
     "text": [
      "shape of the saved Xs: (1024, 2040, 1).\n",
      "shape of the saved Xs: (1024, 2000, 1).\n",
      "shape of the saved Zs: (1024, 2000).\n",
      "created folder: /Users/yizhan/data/G3_2/regime-identification/simulation/data/3-state-weekly.\n",
      "shape of the saved Xs: (1024, 90, 1).\n",
      "shape of the saved Xs: (1024, 50, 1).\n",
      "shape of the saved Zs: (1024, 50).\n",
      "shape of the saved Xs: (1024, 140, 1).\n",
      "shape of the saved Xs: (1024, 100, 1).\n",
      "shape of the saved Zs: (1024, 100).\n",
      "shape of the saved Xs: (1024, 290, 1).\n",
      "shape of the saved Xs: (1024, 250, 1).\n",
      "shape of the saved Zs: (1024, 250).\n",
      "shape of the saved Xs: (1024, 540, 1).\n",
      "shape of the saved Xs: (1024, 500, 1).\n",
      "shape of the saved Zs: (1024, 500).\n"
     ]
    },
    {
     "name": "stderr",
     "output_type": "stream",
     "text": [
      " 67%|██████████████████████████████████████████████████▋                         | 2/3 [00:13<00:06,  6.61s/it]"
     ]
    },
    {
     "name": "stdout",
     "output_type": "stream",
     "text": [
      "shape of the saved Xs: (1024, 1040, 1).\n",
      "shape of the saved Xs: (1024, 1000, 1).\n",
      "shape of the saved Zs: (1024, 1000).\n",
      "created folder: /Users/yizhan/data/G3_2/regime-identification/simulation/data/3-state-monthly.\n",
      "shape of the saved Xs: (1024, 100, 1).\n",
      "shape of the saved Xs: (1024, 60, 1).\n",
      "shape of the saved Zs: (1024, 60).\n",
      "shape of the saved Xs: (1024, 160, 1).\n",
      "shape of the saved Xs: (1024, 120, 1).\n",
      "shape of the saved Zs: (1024, 120).\n",
      "shape of the saved Xs: (1024, 290, 1).\n",
      "shape of the saved Xs: (1024, 250, 1).\n",
      "shape of the saved Zs: (1024, 250).\n"
     ]
    },
    {
     "name": "stderr",
     "output_type": "stream",
     "text": [
      "100%|████████████████████████████████████████████████████████████████████████████| 3/3 [00:16<00:00,  5.51s/it]"
     ]
    },
    {
     "name": "stdout",
     "output_type": "stream",
     "text": [
      "shape of the saved Xs: (1024, 540, 1).\n",
      "shape of the saved Xs: (1024, 500, 1).\n",
      "shape of the saved Zs: (1024, 500).\n"
     ]
    },
    {
     "name": "stderr",
     "output_type": "stream",
     "text": [
      "\n"
     ]
    }
   ],
   "source": [
    "simulate_data(DGP_dict[data_name], n_s_dict[data_name], n_t, n_buffer, path=path)"
   ]
  },
  {
   "cell_type": "markdown",
   "id": "83d6d5c7-e00d-434e-95f3-26889e0a8cef",
   "metadata": {},
   "source": [
    "# Feature engineering"
   ]
  },
  {
   "cell_type": "code",
   "execution_count": 13,
   "id": "35498cc9-f077-48a3-94bc-18117dd8498b",
   "metadata": {},
   "outputs": [
    {
     "name": "stderr",
     "output_type": "stream",
     "text": [
      "  0%|                                                                                    | 0/9 [00:00<?, ?it/s]"
     ]
    },
    {
     "name": "stdout",
     "output_type": "stream",
     "text": [
      "shape of the saved Xs: (1024, 250, 15).\n",
      "shape of the saved Xs: (1024, 2000, 15).\n",
      "shape of the saved Xs: (1024, 500, 15).\n"
     ]
    },
    {
     "name": "stderr",
     "output_type": "stream",
     "text": [
      " 11%|████████▍                                                                   | 1/9 [00:11<01:28, 11.06s/it]"
     ]
    },
    {
     "name": "stdout",
     "output_type": "stream",
     "text": [
      "shape of the saved Xs: (1024, 1000, 15).\n",
      "shape of the saved Xs: (1024, 250, 15).\n",
      "shape of the saved Xs: (1024, 100, 15).\n",
      "shape of the saved Xs: (1024, 500, 15).\n",
      "shape of the saved Xs: (1024, 50, 15).\n"
     ]
    },
    {
     "name": "stderr",
     "output_type": "stream",
     "text": [
      " 22%|████████████████▉                                                           | 2/9 [00:21<01:16, 10.88s/it]"
     ]
    },
    {
     "name": "stdout",
     "output_type": "stream",
     "text": [
      "shape of the saved Xs: (1024, 1000, 15).\n",
      "shape of the saved Xs: (1024, 60, 15).\n",
      "shape of the saved Xs: (1024, 250, 15).\n",
      "shape of the saved Xs: (1024, 120, 15).\n"
     ]
    },
    {
     "name": "stderr",
     "output_type": "stream",
     "text": [
      " 33%|█████████████████████████▎                                                  | 3/9 [00:29<00:55,  9.30s/it]"
     ]
    },
    {
     "name": "stdout",
     "output_type": "stream",
     "text": [
      "shape of the saved Xs: (1024, 500, 15).\n",
      "shape of the saved Xs: (1024, 250, 15).\n",
      "shape of the saved Xs: (1024, 2000, 15).\n",
      "shape of the saved Xs: (1024, 500, 15).\n"
     ]
    },
    {
     "name": "stderr",
     "output_type": "stream",
     "text": [
      " 44%|█████████████████████████████████▊                                          | 4/9 [00:40<00:49,  9.98s/it]"
     ]
    },
    {
     "name": "stdout",
     "output_type": "stream",
     "text": [
      "shape of the saved Xs: (1024, 1000, 15).\n",
      "shape of the saved Xs: (1024, 250, 15).\n",
      "shape of the saved Xs: (1024, 100, 15).\n",
      "shape of the saved Xs: (1024, 500, 15).\n",
      "shape of the saved Xs: (1024, 50, 15).\n"
     ]
    },
    {
     "name": "stderr",
     "output_type": "stream",
     "text": [
      " 56%|██████████████████████████████████████████▏                                 | 5/9 [00:50<00:40, 10.08s/it]"
     ]
    },
    {
     "name": "stdout",
     "output_type": "stream",
     "text": [
      "shape of the saved Xs: (1024, 1000, 15).\n",
      "shape of the saved Xs: (1024, 60, 15).\n",
      "shape of the saved Xs: (1024, 250, 15).\n",
      "shape of the saved Xs: (1024, 120, 15).\n"
     ]
    },
    {
     "name": "stderr",
     "output_type": "stream",
     "text": [
      " 67%|██████████████████████████████████████████████████▋                         | 6/9 [00:57<00:27,  9.15s/it]"
     ]
    },
    {
     "name": "stdout",
     "output_type": "stream",
     "text": [
      "shape of the saved Xs: (1024, 500, 15).\n",
      "shape of the saved Xs: (1024, 250, 15).\n",
      "shape of the saved Xs: (1024, 2000, 15).\n",
      "shape of the saved Xs: (1024, 500, 15).\n"
     ]
    },
    {
     "name": "stderr",
     "output_type": "stream",
     "text": [
      " 78%|███████████████████████████████████████████████████████████                 | 7/9 [01:09<00:20, 10.10s/it]"
     ]
    },
    {
     "name": "stdout",
     "output_type": "stream",
     "text": [
      "shape of the saved Xs: (1024, 1000, 15).\n",
      "shape of the saved Xs: (1024, 250, 15).\n",
      "shape of the saved Xs: (1024, 100, 15).\n",
      "shape of the saved Xs: (1024, 500, 15).\n",
      "shape of the saved Xs: (1024, 50, 15).\n"
     ]
    },
    {
     "name": "stderr",
     "output_type": "stream",
     "text": [
      " 89%|███████████████████████████████████████████████████████████████████▌        | 8/9 [01:21<00:10, 10.50s/it]"
     ]
    },
    {
     "name": "stdout",
     "output_type": "stream",
     "text": [
      "shape of the saved Xs: (1024, 1000, 15).\n",
      "shape of the saved Xs: (1024, 60, 15).\n",
      "shape of the saved Xs: (1024, 250, 15).\n",
      "shape of the saved Xs: (1024, 120, 15).\n"
     ]
    },
    {
     "name": "stderr",
     "output_type": "stream",
     "text": [
      "100%|████████████████████████████████████████████████████████████████████████████| 9/9 [01:28<00:00,  9.87s/it]"
     ]
    },
    {
     "name": "stdout",
     "output_type": "stream",
     "text": [
      "shape of the saved Xs: (1024, 500, 15).\n"
     ]
    },
    {
     "name": "stderr",
     "output_type": "stream",
     "text": [
      "\n"
     ]
    }
   ],
   "source": [
    "key_data_all = generate_key_data([2, 3, \"t\"], dof=5)\n",
    "feature_engineer(\"zhengB\", key_data_all, n_buffer, path)"
   ]
  },
  {
   "cell_type": "markdown",
   "id": "b2662643-49ab-4289-9b88-666f7316bb37",
   "metadata": {},
   "source": [
    "# makedir"
   ]
  },
  {
   "cell_type": "code",
   "execution_count": 19,
   "id": "67605631-443d-4e2f-b86c-20384b2bbc86",
   "metadata": {
    "tags": []
   },
   "outputs": [
    {
     "name": "stdout",
     "output_type": "stream",
     "text": [
      "created folder: /Users/yizhan/data/G3_2/regime-identification/simulation/estimation/2-state-daily.\n",
      "created folder: /Users/yizhan/data/G3_2/regime-identification/simulation/estimation/2-state-weekly.\n",
      "created folder: /Users/yizhan/data/G3_2/regime-identification/simulation/estimation/2-state-monthly.\n",
      "created folder: /Users/yizhan/data/G3_2/regime-identification/simulation/estimation/3-state-daily.\n",
      "created folder: /Users/yizhan/data/G3_2/regime-identification/simulation/estimation/3-state-weekly.\n",
      "created folder: /Users/yizhan/data/G3_2/regime-identification/simulation/estimation/3-state-monthly.\n",
      "created folder: /Users/yizhan/data/G3_2/regime-identification/simulation/estimation/t-5-daily.\n",
      "created folder: /Users/yizhan/data/G3_2/regime-identification/simulation/estimation/t-5-weekly.\n",
      "created folder: /Users/yizhan/data/G3_2/regime-identification/simulation/estimation/t-5-monthly.\n"
     ]
    }
   ],
   "source": [
    "makedir(path, \"estimation\", key_data_all)"
   ]
  },
  {
   "cell_type": "code",
   "execution_count": null,
   "id": "b45011c4-6082-4867-b8ac-26cccdaf081e",
   "metadata": {},
   "outputs": [],
   "source": []
  }
 ],
 "metadata": {
  "kernelspec": {
   "display_name": "Python 3 (ipykernel)",
   "language": "python",
   "name": "python3"
  },
  "language_info": {
   "codemirror_mode": {
    "name": "ipython",
    "version": 3
   },
   "file_extension": ".py",
   "mimetype": "text/x-python",
   "name": "python",
   "nbconvert_exporter": "python",
   "pygments_lexer": "ipython3",
   "version": "3.10.9"
  },
  "toc-autonumbering": true
 },
 "nbformat": 4,
 "nbformat_minor": 5
}
