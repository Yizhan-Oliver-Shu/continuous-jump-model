{
 "cells": [
  {
   "cell_type": "code",
   "execution_count": 1,
   "id": "3b82d6ed-1bca-46eb-81e3-91c70bf7c5fb",
   "metadata": {
    "tags": []
   },
   "outputs": [],
   "source": [
    "# timelimit = 00:10:00\n",
    "%load_ext autoreload\n",
    "%autoreload 2\n",
    "import sys, os\n",
    "from os.path import expanduser\n",
    "## actions required!!!!!!!!!!!!!!!!!!!! change your folder path \n",
    "path_repo = expanduser(\"~/Documents/G3_2/regime-identification\"); sys.path.append(path_repo)\n",
    "path_file = expanduser(\"~/data/G3_2/regime-identification/simulation\")\n",
    "path = {}\n",
    "for folder in [\"data\", \"estimation\"]:\n",
    "    path[folder] = f\"{path_file}/{folder}\""
   ]
  },
  {
   "cell_type": "code",
   "execution_count": 2,
   "id": "46d65ded-9cd0-429b-9568-e7b0d5fb6746",
   "metadata": {
    "tags": []
   },
   "outputs": [],
   "source": [
    "import numpy as np\n",
    "from numpy.random import RandomState"
   ]
  },
  {
   "cell_type": "code",
   "execution_count": 3,
   "id": "7d7f863c-1c14-48bc-be92-13c96d4302cd",
   "metadata": {
    "tags": []
   },
   "outputs": [],
   "source": [
    "from regime.simulation_helper import *"
   ]
  },
  {
   "cell_type": "code",
   "execution_count": 4,
   "id": "1a5fcf73-d489-4219-be4d-79496bd5a60d",
   "metadata": {
    "tags": []
   },
   "outputs": [],
   "source": [
    "n_t, n_buffer = 1024, 20\n",
    "len_list = [[250, 500, 1000, 2000], [50, 100, 250, 500, 1000], [60, 120, 250, 500]]"
   ]
  },
  {
   "cell_type": "code",
   "execution_count": 5,
   "id": "5f979905-6153-4e5a-98e9-87257815ccf6",
   "metadata": {
    "tags": []
   },
   "outputs": [],
   "source": [
    "key_data_dict = {}\n",
    "DGP_dict = {}\n",
    "n_s_dict = {}"
   ]
  },
  {
   "cell_type": "markdown",
   "id": "41a70b13-94fc-4b44-a66e-bac479db887f",
   "metadata": {
    "jp-MarkdownHeadingCollapsed": true,
    "tags": []
   },
   "source": [
    "# 0-generate-data\n",
    "\n",
    "In this notebook we systematically generate the simulation data. We postpone estimation using the true model to a later notebook, to put estimation all in one place.\n"
   ]
  },
  {
   "cell_type": "markdown",
   "id": "74cd5a64-8018-4c23-8165-a14d2f5be227",
   "metadata": {},
   "source": [
    "# NB sojourn time"
   ]
  },
  {
   "cell_type": "code",
   "execution_count": 6,
   "id": "e39144fb-bd00-4e49-9fc7-289f81d1ae7d",
   "metadata": {
    "tags": []
   },
   "outputs": [],
   "source": [
    "n_c = 2\n",
    "data_name = \"NB\"\n",
    "random_state = RandomState(0)\n",
    "key_data_dict[data_name] = generate_key_data(\"NB\")\n",
    "n_shape_ = np.array([.1, .06])\n",
    "\n",
    "DGP_dict[data_name] = \\\n",
    "{key_data: get_HSMM_instance_for_sampling(*load_hardy_params(key_data.split(\"-\")[-1], n_c), n_shape_=n_shape_, random_state=random_state) for key_data in key_data_dict[data_name]}\n",
    "n_s_dict[data_name] = dict(zip(key_data_dict[data_name], len_list))"
   ]
  },
  {
   "cell_type": "code",
   "execution_count": 7,
   "id": "0fbb3b41-4dbb-468e-ad59-b5a3137cb6f7",
   "metadata": {
    "tags": []
   },
   "outputs": [
    {
     "name": "stderr",
     "output_type": "stream",
     "text": [
      "  0%|                                                                                    | 0/3 [00:00<?, ?it/s]"
     ]
    },
    {
     "name": "stdout",
     "output_type": "stream",
     "text": [
      "created folder: /Users/yizhan/data/G3_2/regime-identification/simulation/data/NB-daily.\n",
      "shape of the saved Xs: (1024, 290, 1).\n",
      "shape of the saved Xs: (1024, 250, 1).\n",
      "shape of the saved Zs: (1024, 250).\n",
      "shape of the saved Xs: (1024, 540, 1).\n",
      "shape of the saved Xs: (1024, 500, 1).\n",
      "shape of the saved Zs: (1024, 500).\n",
      "shape of the saved Xs: (1024, 1040, 1).\n",
      "shape of the saved Xs: (1024, 1000, 1).\n",
      "shape of the saved Zs: (1024, 1000).\n",
      "shape of the saved Xs: (1024, 2040, 1).\n"
     ]
    },
    {
     "name": "stderr",
     "output_type": "stream",
     "text": [
      " 33%|█████████████████████████▎                                                  | 1/3 [00:00<00:01,  1.80it/s]"
     ]
    },
    {
     "name": "stdout",
     "output_type": "stream",
     "text": [
      "shape of the saved Xs: (1024, 2000, 1).\n",
      "shape of the saved Zs: (1024, 2000).\n",
      "created folder: /Users/yizhan/data/G3_2/regime-identification/simulation/data/NB-weekly.\n",
      "shape of the saved Xs: (1024, 90, 1).\n",
      "shape of the saved Xs: (1024, 50, 1).\n",
      "shape of the saved Zs: (1024, 50).\n",
      "shape of the saved Xs: (1024, 140, 1).\n",
      "shape of the saved Xs: (1024, 100, 1).\n",
      "shape of the saved Zs: (1024, 100).\n",
      "shape of the saved Xs: (1024, 290, 1).\n",
      "shape of the saved Xs: (1024, 250, 1).\n",
      "shape of the saved Zs: (1024, 250).\n",
      "shape of the saved Xs: (1024, 540, 1).\n",
      "shape of the saved Xs: (1024, 500, 1).\n",
      "shape of the saved Zs: (1024, 500).\n"
     ]
    },
    {
     "name": "stderr",
     "output_type": "stream",
     "text": [
      " 67%|██████████████████████████████████████████████████▋                         | 2/3 [00:00<00:00,  2.12it/s]"
     ]
    },
    {
     "name": "stdout",
     "output_type": "stream",
     "text": [
      "shape of the saved Xs: (1024, 1040, 1).\n",
      "shape of the saved Xs: (1024, 1000, 1).\n",
      "shape of the saved Zs: (1024, 1000).\n",
      "created folder: /Users/yizhan/data/G3_2/regime-identification/simulation/data/NB-monthly.\n",
      "shape of the saved Xs: (1024, 100, 1).\n",
      "shape of the saved Xs: (1024, 60, 1).\n",
      "shape of the saved Zs: (1024, 60).\n",
      "shape of the saved Xs: (1024, 160, 1).\n",
      "shape of the saved Xs: (1024, 120, 1).\n",
      "shape of the saved Zs: (1024, 120).\n"
     ]
    },
    {
     "name": "stderr",
     "output_type": "stream",
     "text": [
      "100%|████████████████████████████████████████████████████████████████████████████| 3/3 [00:01<00:00,  2.34it/s]"
     ]
    },
    {
     "name": "stdout",
     "output_type": "stream",
     "text": [
      "shape of the saved Xs: (1024, 290, 1).\n",
      "shape of the saved Xs: (1024, 250, 1).\n",
      "shape of the saved Zs: (1024, 250).\n",
      "shape of the saved Xs: (1024, 540, 1).\n",
      "shape of the saved Xs: (1024, 500, 1).\n",
      "shape of the saved Zs: (1024, 500).\n"
     ]
    },
    {
     "name": "stderr",
     "output_type": "stream",
     "text": [
      "\n"
     ]
    }
   ],
   "source": [
    "simulate_data(DGP_dict[data_name], n_s_dict[data_name], n_t, n_buffer, path=path)"
   ]
  },
  {
   "cell_type": "markdown",
   "id": "83d6d5c7-e00d-434e-95f3-26889e0a8cef",
   "metadata": {},
   "source": [
    "# Feature engineering"
   ]
  },
  {
   "cell_type": "code",
   "execution_count": 8,
   "id": "35498cc9-f077-48a3-94bc-18117dd8498b",
   "metadata": {},
   "outputs": [
    {
     "name": "stderr",
     "output_type": "stream",
     "text": [
      "  0%|                                                                                    | 0/3 [00:00<?, ?it/s]"
     ]
    },
    {
     "name": "stdout",
     "output_type": "stream",
     "text": [
      "shape of the saved Xs: (1024, 250, 15).\n",
      "shape of the saved Xs: (1024, 2000, 15).\n",
      "shape of the saved Xs: (1024, 500, 15).\n"
     ]
    },
    {
     "name": "stderr",
     "output_type": "stream",
     "text": [
      " 33%|█████████████████████████▎                                                  | 1/3 [00:10<00:21, 10.70s/it]"
     ]
    },
    {
     "name": "stdout",
     "output_type": "stream",
     "text": [
      "shape of the saved Xs: (1024, 1000, 15).\n",
      "shape of the saved Xs: (1024, 250, 15).\n",
      "shape of the saved Xs: (1024, 100, 15).\n",
      "shape of the saved Xs: (1024, 500, 15).\n",
      "shape of the saved Xs: (1024, 50, 15).\n"
     ]
    },
    {
     "name": "stderr",
     "output_type": "stream",
     "text": [
      " 67%|██████████████████████████████████████████████████▋                         | 2/3 [00:21<00:10, 10.67s/it]"
     ]
    },
    {
     "name": "stdout",
     "output_type": "stream",
     "text": [
      "shape of the saved Xs: (1024, 1000, 15).\n",
      "shape of the saved Xs: (1024, 60, 15).\n",
      "shape of the saved Xs: (1024, 250, 15).\n",
      "shape of the saved Xs: (1024, 120, 15).\n"
     ]
    },
    {
     "name": "stderr",
     "output_type": "stream",
     "text": [
      "100%|████████████████████████████████████████████████████████████████████████████| 3/3 [00:28<00:00,  9.56s/it]"
     ]
    },
    {
     "name": "stdout",
     "output_type": "stream",
     "text": [
      "shape of the saved Xs: (1024, 500, 15).\n"
     ]
    },
    {
     "name": "stderr",
     "output_type": "stream",
     "text": [
      "\n"
     ]
    }
   ],
   "source": [
    "key_data_all = generate_key_data(\"NB\")\n",
    "feature_engineer(\"zhengB\", key_data_all, n_buffer, path)"
   ]
  },
  {
   "cell_type": "markdown",
   "id": "b2662643-49ab-4289-9b88-666f7316bb37",
   "metadata": {},
   "source": [
    "# makedir"
   ]
  },
  {
   "cell_type": "code",
   "execution_count": 9,
   "id": "67605631-443d-4e2f-b86c-20384b2bbc86",
   "metadata": {
    "tags": []
   },
   "outputs": [
    {
     "name": "stdout",
     "output_type": "stream",
     "text": [
      "created folder: /Users/yizhan/data/G3_2/regime-identification/simulation/estimation/NB-daily.\n",
      "created folder: /Users/yizhan/data/G3_2/regime-identification/simulation/estimation/NB-weekly.\n",
      "created folder: /Users/yizhan/data/G3_2/regime-identification/simulation/estimation/NB-monthly.\n"
     ]
    }
   ],
   "source": [
    "makedir(path, \"estimation\", key_data_all)"
   ]
  },
  {
   "cell_type": "code",
   "execution_count": null,
   "id": "b45011c4-6082-4867-b8ac-26cccdaf081e",
   "metadata": {},
   "outputs": [],
   "source": []
  }
 ],
 "metadata": {
  "kernelspec": {
   "display_name": "Python 3 (ipykernel)",
   "language": "python",
   "name": "python3"
  },
  "language_info": {
   "codemirror_mode": {
    "name": "ipython",
    "version": 3
   },
   "file_extension": ".py",
   "mimetype": "text/x-python",
   "name": "python",
   "nbconvert_exporter": "python",
   "pygments_lexer": "ipython3",
   "version": "3.10.9"
  },
  "toc-autonumbering": true
 },
 "nbformat": 4,
 "nbformat_minor": 5
}
