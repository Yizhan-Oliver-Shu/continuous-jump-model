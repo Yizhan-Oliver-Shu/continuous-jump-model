{
 "cells": [
  {
   "cell_type": "code",
   "execution_count": 1,
   "id": "fbe842e2-0687-4e9b-a81a-e7d0a47e361e",
   "metadata": {
    "tags": []
   },
   "outputs": [],
   "source": [
    "## timelimit: 2:00:00, 1G\n",
    "%load_ext autoreload\n",
    "%autoreload 2\n",
    "import sys, os\n",
    "from os.path import expanduser\n",
    "## actions required!!!!!!!!!!!!!!!!!!!! change your folder path \n",
    "path_repo = expanduser(\"~/Documents/G3_2/regime-identification\"); sys.path.append(path_repo)\n",
    "path_file = expanduser(\"~/data/G3_2/regime-identification/simulation\")\n",
    "path = {}\n",
    "for folder in [\"data\", \"estimation\"]:\n",
    "    path[folder] = f\"{path_file}/{folder}\"\n",
    "\n",
    "job_id = 0 #int(os.environ[\"SLURM_ARRAY_TASK_ID\"])"
   ]
  },
  {
   "cell_type": "code",
   "execution_count": 2,
   "id": "f45688e6-f7af-441e-a9cb-f00e49b23df2",
   "metadata": {
    "tags": []
   },
   "outputs": [],
   "source": [
    "from numpy.random import RandomState"
   ]
  },
  {
   "cell_type": "code",
   "execution_count": 3,
   "id": "02027bcb-20cb-4909-9a94-0752435057f6",
   "metadata": {
    "tags": []
   },
   "outputs": [],
   "source": [
    "from regime.jump import *\n",
    "from regime.simulation_helper import *"
   ]
  },
  {
   "cell_type": "markdown",
   "id": "89a05196-15be-43b3-a61b-84b9f733f856",
   "metadata": {
    "tags": []
   },
   "source": [
    "# 2-model-fitting\n",
    "\n",
    "In this notebook we fit the models on two data scenarios: 2-state Hardy parameter and t emission dist."
   ]
  },
  {
   "cell_type": "code",
   "execution_count": 4,
   "id": "473811b7-df26-4184-898c-9f954e30edd2",
   "metadata": {
    "tags": []
   },
   "outputs": [],
   "source": [
    "n_c = 2\n",
    "batch_size = 32"
   ]
  },
  {
   "cell_type": "markdown",
   "id": "ac1e158a-b78b-45da-9447-d3bcdef23b7b",
   "metadata": {},
   "source": [
    "# Our models"
   ]
  },
  {
   "cell_type": "code",
   "execution_count": 5,
   "id": "ade9e30c-d968-43e5-ab11-123a0da21c82",
   "metadata": {},
   "outputs": [],
   "source": [
    "random_state = RandomState(10)\n",
    "model_discrete = jump_model(n_c, state_type=\"discrete\", random_state=random_state)\n",
    "model_cont_mode = jump_model(n_c, state_type=\"cont\", grid_size=.02, mode_loss=True, random_state=random_state)\n",
    "model_cont = jump_model(n_c, state_type=\"cont\", grid_size=.02, mode_loss=False, random_state=random_state)\n",
    "model_dict_jump = {\"discrete\": model_discrete, \"cont-mode\": model_cont_mode, \"cont\": model_cont}"
   ]
  },
  {
   "cell_type": "code",
   "execution_count": 6,
   "id": "9d7110e7-1a5b-48ed-a2e1-e2b19bcb1e00",
   "metadata": {
    "tags": []
   },
   "outputs": [
    {
     "name": "stdout",
     "output_type": "stream",
     "text": [
      "[1.00000000e-02 1.00000000e-01 1.00000000e+00 1.00000000e+01\n",
      " 2.15443469e+01 4.64158883e+01 1.00000000e+02 2.15443469e+02\n",
      " 4.64158883e+02 1.00000000e+03 2.15443469e+03 4.64158883e+03\n",
      " 1.00000000e+04 1.00000000e+05 1.00000000e+06]\n"
     ]
    }
   ],
   "source": [
    "param_grid = generate_param_grid()"
   ]
  },
  {
   "cell_type": "code",
   "execution_count": 7,
   "id": "da4e4458-a936-452c-b0ed-36c7dd8d8b2c",
   "metadata": {
    "tags": []
   },
   "outputs": [],
   "source": [
    "key_feat_jump = [\"zhengB\"]"
   ]
  },
  {
   "cell_type": "code",
   "execution_count": 8,
   "id": "36ea7bd4-b662-4297-85f5-77d1fee7e0fb",
   "metadata": {
    "tags": []
   },
   "outputs": [
    {
     "name": "stdout",
     "output_type": "stream",
     "text": [
      "1/3 combo starts.\n"
     ]
    },
    {
     "name": "stderr",
     "output_type": "stream",
     "text": [
      "100%|██████████████████████████████████████████████████████████████████████████| 15/15 [00:04<00:00,  3.62it/s]\n"
     ]
    },
    {
     "name": "stdout",
     "output_type": "stream",
     "text": [
      "shape of the saved modelParams: (32, 6, 15).\n",
      "shape of the saved labels: (32, 1000, 15).\n",
      "shape of the saved proba: (32, 1000, 2, 15).\n"
     ]
    },
    {
     "name": "stderr",
     "output_type": "stream",
     "text": [
      "100%|██████████████████████████████████████████████████████████████████████████| 15/15 [00:07<00:00,  1.99it/s]\n"
     ]
    },
    {
     "name": "stdout",
     "output_type": "stream",
     "text": [
      "shape of the saved modelParams: (32, 6, 15).\n",
      "shape of the saved labels: (32, 2000, 15).\n",
      "shape of the saved proba: (32, 2000, 2, 15).\n"
     ]
    },
    {
     "name": "stderr",
     "output_type": "stream",
     "text": [
      "100%|██████████████████████████████████████████████████████████████████████████| 15/15 [00:01<00:00,  9.00it/s]\n"
     ]
    },
    {
     "name": "stdout",
     "output_type": "stream",
     "text": [
      "shape of the saved modelParams: (32, 6, 15).\n",
      "shape of the saved labels: (32, 250, 15).\n",
      "shape of the saved proba: (32, 250, 2, 15).\n"
     ]
    },
    {
     "name": "stderr",
     "output_type": "stream",
     "text": [
      "100%|██████████████████████████████████████████████████████████████████████████| 15/15 [00:02<00:00,  6.34it/s]\n"
     ]
    },
    {
     "name": "stdout",
     "output_type": "stream",
     "text": [
      "shape of the saved modelParams: (32, 6, 15).\n",
      "shape of the saved labels: (32, 500, 15).\n",
      "shape of the saved proba: (32, 500, 2, 15).\n",
      "1/3 combo done. Time of this combo: 0:00:16s. Total time: 0:00:16s.\n",
      "2/3 combo starts.\n"
     ]
    },
    {
     "name": "stderr",
     "output_type": "stream",
     "text": [
      "100%|██████████████████████████████████████████████████████████████████████████| 15/15 [01:29<00:00,  5.96s/it]\n"
     ]
    },
    {
     "name": "stdout",
     "output_type": "stream",
     "text": [
      "shape of the saved modelParams: (32, 6, 15).\n",
      "shape of the saved labels: (32, 1000, 15).\n",
      "shape of the saved proba: (32, 1000, 2, 15).\n"
     ]
    },
    {
     "name": "stderr",
     "output_type": "stream",
     "text": [
      "100%|██████████████████████████████████████████████████████████████████████████| 15/15 [03:34<00:00, 14.33s/it]\n"
     ]
    },
    {
     "name": "stdout",
     "output_type": "stream",
     "text": [
      "shape of the saved modelParams: (32, 6, 15).\n",
      "shape of the saved labels: (32, 2000, 15).\n",
      "shape of the saved proba: (32, 2000, 2, 15).\n"
     ]
    },
    {
     "name": "stderr",
     "output_type": "stream",
     "text": [
      "100%|██████████████████████████████████████████████████████████████████████████| 15/15 [00:16<00:00,  1.13s/it]\n"
     ]
    },
    {
     "name": "stdout",
     "output_type": "stream",
     "text": [
      "shape of the saved modelParams: (32, 6, 15).\n",
      "shape of the saved labels: (32, 250, 15).\n",
      "shape of the saved proba: (32, 250, 2, 15).\n"
     ]
    },
    {
     "name": "stderr",
     "output_type": "stream",
     "text": [
      "100%|██████████████████████████████████████████████████████████████████████████| 15/15 [00:38<00:00,  2.57s/it]\n"
     ]
    },
    {
     "name": "stdout",
     "output_type": "stream",
     "text": [
      "shape of the saved modelParams: (32, 6, 15).\n",
      "shape of the saved labels: (32, 500, 15).\n",
      "shape of the saved proba: (32, 500, 2, 15).\n",
      "2/3 combo done. Time of this combo: 0:06:01s. Total time: 0:06:17s.\n",
      "3/3 combo starts.\n"
     ]
    },
    {
     "name": "stderr",
     "output_type": "stream",
     "text": [
      "100%|██████████████████████████████████████████████████████████████████████████| 15/15 [02:15<00:00,  9.06s/it]\n"
     ]
    },
    {
     "name": "stdout",
     "output_type": "stream",
     "text": [
      "shape of the saved modelParams: (32, 6, 15).\n",
      "shape of the saved labels: (32, 1000, 15).\n",
      "shape of the saved proba: (32, 1000, 2, 15).\n"
     ]
    },
    {
     "name": "stderr",
     "output_type": "stream",
     "text": [
      "100%|██████████████████████████████████████████████████████████████████████████| 15/15 [05:23<00:00, 21.56s/it]\n"
     ]
    },
    {
     "name": "stdout",
     "output_type": "stream",
     "text": [
      "shape of the saved modelParams: (32, 6, 15).\n",
      "shape of the saved labels: (32, 2000, 15).\n",
      "shape of the saved proba: (32, 2000, 2, 15).\n"
     ]
    },
    {
     "name": "stderr",
     "output_type": "stream",
     "text": [
      "100%|██████████████████████████████████████████████████████████████████████████| 15/15 [00:23<00:00,  1.57s/it]\n"
     ]
    },
    {
     "name": "stdout",
     "output_type": "stream",
     "text": [
      "shape of the saved modelParams: (32, 6, 15).\n",
      "shape of the saved labels: (32, 250, 15).\n",
      "shape of the saved proba: (32, 250, 2, 15).\n"
     ]
    },
    {
     "name": "stderr",
     "output_type": "stream",
     "text": [
      "100%|██████████████████████████████████████████████████████████████████████████| 15/15 [00:54<00:00,  3.62s/it]"
     ]
    },
    {
     "name": "stdout",
     "output_type": "stream",
     "text": [
      "shape of the saved modelParams: (32, 6, 15).\n",
      "shape of the saved labels: (32, 500, 15).\n",
      "shape of the saved proba: (32, 500, 2, 15).\n",
      "3/3 combo done. Time of this combo: 0:08:58s. Total time: 0:15:14s.\n"
     ]
    },
    {
     "name": "stderr",
     "output_type": "stream",
     "text": [
      "\n"
     ]
    }
   ],
   "source": [
    "model_fit_many_datas_models(\"NB-daily\", key_feat_jump, model_dict_jump, param_grid, path, job_id, batch_size)"
   ]
  }
 ],
 "metadata": {
  "kernelspec": {
   "display_name": "Python 3 (ipykernel)",
   "language": "python",
   "name": "python3"
  },
  "language_info": {
   "codemirror_mode": {
    "name": "ipython",
    "version": 3
   },
   "file_extension": ".py",
   "mimetype": "text/x-python",
   "name": "python",
   "nbconvert_exporter": "python",
   "pygments_lexer": "ipython3",
   "version": "3.10.9"
  }
 },
 "nbformat": 4,
 "nbformat_minor": 5
}
