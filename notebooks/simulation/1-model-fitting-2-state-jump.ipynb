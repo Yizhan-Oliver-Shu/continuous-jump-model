{
 "cells": [
  {
   "cell_type": "code",
   "execution_count": 1,
   "id": "fbe842e2-0687-4e9b-a81a-e7d0a47e361e",
   "metadata": {
    "tags": []
   },
   "outputs": [],
   "source": [
    "## timelimit: 2:00:00, 1G\n",
    "%load_ext autoreload\n",
    "%autoreload 2\n",
    "import sys, os\n",
    "from os.path import expanduser\n",
    "## actions required!!!!!!!!!!!!!!!!!!!! change your folder path \n",
    "path_repo = expanduser(\"~/Documents/G3_2/regime-identification\"); sys.path.append(path_repo)\n",
    "path_file = expanduser(\"~/data/G3_2/regime-identification/simulation\")\n",
    "path = {}\n",
    "for folder in [\"data\", \"estimation\"]:\n",
    "    path[folder] = f\"{path_file}/{folder}\"\n",
    "\n",
    "job_id = 0 #int(os.environ[\"SLURM_ARRAY_TASK_ID\"])"
   ]
  },
  {
   "cell_type": "code",
   "execution_count": 2,
   "id": "f45688e6-f7af-441e-a9cb-f00e49b23df2",
   "metadata": {
    "tags": []
   },
   "outputs": [],
   "source": [
    "from numpy.random import RandomState"
   ]
  },
  {
   "cell_type": "code",
   "execution_count": 3,
   "id": "02027bcb-20cb-4909-9a94-0752435057f6",
   "metadata": {
    "tags": []
   },
   "outputs": [],
   "source": [
    "from regime.jump import *\n",
    "from regime.simulation_helper import *"
   ]
  },
  {
   "cell_type": "markdown",
   "id": "89a05196-15be-43b3-a61b-84b9f733f856",
   "metadata": {
    "tags": []
   },
   "source": [
    "# 2-model-fitting\n",
    "\n",
    "In this notebook we fit the models on two data scenarios: 2-state Hardy parameter and t emission dist."
   ]
  },
  {
   "cell_type": "code",
   "execution_count": 4,
   "id": "473811b7-df26-4184-898c-9f954e30edd2",
   "metadata": {
    "tags": []
   },
   "outputs": [],
   "source": [
    "n_c = 2\n",
    "batch_size = 32"
   ]
  },
  {
   "cell_type": "markdown",
   "id": "ac1e158a-b78b-45da-9447-d3bcdef23b7b",
   "metadata": {},
   "source": [
    "# Our models"
   ]
  },
  {
   "cell_type": "code",
   "execution_count": 5,
   "id": "ade9e30c-d968-43e5-ab11-123a0da21c82",
   "metadata": {},
   "outputs": [],
   "source": [
    "random_state = RandomState(10)\n",
    "model_discrete = jump_model(n_c, state_type=\"discrete\", random_state=random_state)\n",
    "model_cont_mode = jump_model(n_c, state_type=\"cont\", grid_size=.02, mode_loss=True, random_state=random_state)\n",
    "model_cont = jump_model(n_c, state_type=\"cont\", grid_size=.02, mode_loss=False, random_state=random_state)\n",
    "model_dict_jump = {\"discrete\": model_discrete, \"cont-mode\": model_cont_mode, \"cont\": model_cont}"
   ]
  },
  {
   "cell_type": "code",
   "execution_count": 6,
   "id": "9d7110e7-1a5b-48ed-a2e1-e2b19bcb1e00",
   "metadata": {
    "tags": []
   },
   "outputs": [
    {
     "name": "stdout",
     "output_type": "stream",
     "text": [
      "[1.00000000e-02 1.00000000e-01 1.00000000e+00 1.00000000e+01\n",
      " 2.15443469e+01 4.64158883e+01 1.00000000e+02 2.15443469e+02\n",
      " 4.64158883e+02 1.00000000e+03 2.15443469e+03 4.64158883e+03\n",
      " 1.00000000e+04 1.00000000e+05 1.00000000e+06]\n"
     ]
    }
   ],
   "source": [
    "param_grid = generate_param_grid()"
   ]
  },
  {
   "cell_type": "code",
   "execution_count": 7,
   "id": "da4e4458-a936-452c-b0ed-36c7dd8d8b2c",
   "metadata": {
    "tags": []
   },
   "outputs": [],
   "source": [
    "key_feat_jump = [\"zhengB\"]"
   ]
  },
  {
   "cell_type": "code",
   "execution_count": 8,
   "id": "36ea7bd4-b662-4297-85f5-77d1fee7e0fb",
   "metadata": {
    "tags": []
   },
   "outputs": [
    {
     "name": "stdout",
     "output_type": "stream",
     "text": [
      "1/18 combo starts.\n"
     ]
    },
    {
     "name": "stderr",
     "output_type": "stream",
     "text": [
      "100%|██████████████████████████████████████████████████████████████████████████| 15/15 [00:03<00:00,  4.02it/s]\n"
     ]
    },
    {
     "name": "stdout",
     "output_type": "stream",
     "text": [
      "shape of the saved modelParams: (32, 6, 15).\n",
      "shape of the saved labels: (32, 1000, 15).\n",
      "shape of the saved proba: (32, 1000, 2, 15).\n"
     ]
    },
    {
     "name": "stderr",
     "output_type": "stream",
     "text": [
      "100%|██████████████████████████████████████████████████████████████████████████| 15/15 [00:06<00:00,  2.20it/s]\n"
     ]
    },
    {
     "name": "stdout",
     "output_type": "stream",
     "text": [
      "shape of the saved modelParams: (32, 6, 15).\n",
      "shape of the saved labels: (32, 2000, 15).\n",
      "shape of the saved proba: (32, 2000, 2, 15).\n"
     ]
    },
    {
     "name": "stderr",
     "output_type": "stream",
     "text": [
      "100%|██████████████████████████████████████████████████████████████████████████| 15/15 [00:01<00:00,  8.59it/s]\n"
     ]
    },
    {
     "name": "stdout",
     "output_type": "stream",
     "text": [
      "shape of the saved modelParams: (32, 6, 15).\n",
      "shape of the saved labels: (32, 250, 15).\n",
      "shape of the saved proba: (32, 250, 2, 15).\n"
     ]
    },
    {
     "name": "stderr",
     "output_type": "stream",
     "text": [
      "100%|██████████████████████████████████████████████████████████████████████████| 15/15 [00:02<00:00,  6.19it/s]\n"
     ]
    },
    {
     "name": "stdout",
     "output_type": "stream",
     "text": [
      "shape of the saved modelParams: (32, 6, 15).\n",
      "shape of the saved labels: (32, 500, 15).\n",
      "shape of the saved proba: (32, 500, 2, 15).\n",
      "1/18 combo done. Time of this combo: 0:00:15s. Total time: 0:00:15s.\n",
      "2/18 combo starts.\n"
     ]
    },
    {
     "name": "stderr",
     "output_type": "stream",
     "text": [
      "100%|██████████████████████████████████████████████████████████████████████████| 15/15 [01:16<00:00,  5.09s/it]\n"
     ]
    },
    {
     "name": "stdout",
     "output_type": "stream",
     "text": [
      "shape of the saved modelParams: (32, 6, 15).\n",
      "shape of the saved labels: (32, 1000, 15).\n",
      "shape of the saved proba: (32, 1000, 2, 15).\n"
     ]
    },
    {
     "name": "stderr",
     "output_type": "stream",
     "text": [
      "100%|██████████████████████████████████████████████████████████████████████████| 15/15 [02:45<00:00, 11.06s/it]\n"
     ]
    },
    {
     "name": "stdout",
     "output_type": "stream",
     "text": [
      "shape of the saved modelParams: (32, 6, 15).\n",
      "shape of the saved labels: (32, 2000, 15).\n",
      "shape of the saved proba: (32, 2000, 2, 15).\n"
     ]
    },
    {
     "name": "stderr",
     "output_type": "stream",
     "text": [
      "100%|██████████████████████████████████████████████████████████████████████████| 15/15 [00:17<00:00,  1.14s/it]\n"
     ]
    },
    {
     "name": "stdout",
     "output_type": "stream",
     "text": [
      "shape of the saved modelParams: (32, 6, 15).\n",
      "shape of the saved labels: (32, 250, 15).\n",
      "shape of the saved proba: (32, 250, 2, 15).\n"
     ]
    },
    {
     "name": "stderr",
     "output_type": "stream",
     "text": [
      "100%|██████████████████████████████████████████████████████████████████████████| 15/15 [00:37<00:00,  2.49s/it]\n"
     ]
    },
    {
     "name": "stdout",
     "output_type": "stream",
     "text": [
      "shape of the saved modelParams: (32, 6, 15).\n",
      "shape of the saved labels: (32, 500, 15).\n",
      "shape of the saved proba: (32, 500, 2, 15).\n",
      "2/18 combo done. Time of this combo: 0:04:57s. Total time: 0:05:12s.\n",
      "3/18 combo starts.\n"
     ]
    },
    {
     "name": "stderr",
     "output_type": "stream",
     "text": [
      "100%|██████████████████████████████████████████████████████████████████████████| 15/15 [01:34<00:00,  6.29s/it]\n"
     ]
    },
    {
     "name": "stdout",
     "output_type": "stream",
     "text": [
      "shape of the saved modelParams: (32, 6, 15).\n",
      "shape of the saved labels: (32, 1000, 15).\n",
      "shape of the saved proba: (32, 1000, 2, 15).\n"
     ]
    },
    {
     "name": "stderr",
     "output_type": "stream",
     "text": [
      "100%|██████████████████████████████████████████████████████████████████████████| 15/15 [03:20<00:00, 13.35s/it]\n"
     ]
    },
    {
     "name": "stdout",
     "output_type": "stream",
     "text": [
      "shape of the saved modelParams: (32, 6, 15).\n",
      "shape of the saved labels: (32, 2000, 15).\n",
      "shape of the saved proba: (32, 2000, 2, 15).\n"
     ]
    },
    {
     "name": "stderr",
     "output_type": "stream",
     "text": [
      "100%|██████████████████████████████████████████████████████████████████████████| 15/15 [00:24<00:00,  1.64s/it]\n"
     ]
    },
    {
     "name": "stdout",
     "output_type": "stream",
     "text": [
      "shape of the saved modelParams: (32, 6, 15).\n",
      "shape of the saved labels: (32, 250, 15).\n",
      "shape of the saved proba: (32, 250, 2, 15).\n"
     ]
    },
    {
     "name": "stderr",
     "output_type": "stream",
     "text": [
      "100%|██████████████████████████████████████████████████████████████████████████| 15/15 [00:53<00:00,  3.57s/it]\n"
     ]
    },
    {
     "name": "stdout",
     "output_type": "stream",
     "text": [
      "shape of the saved modelParams: (32, 6, 15).\n",
      "shape of the saved labels: (32, 500, 15).\n",
      "shape of the saved proba: (32, 500, 2, 15).\n",
      "3/18 combo done. Time of this combo: 0:06:13s. Total time: 0:11:25s.\n",
      "4/18 combo starts.\n"
     ]
    },
    {
     "name": "stderr",
     "output_type": "stream",
     "text": [
      "100%|██████████████████████████████████████████████████████████████████████████| 15/15 [00:01<00:00, 12.14it/s]\n"
     ]
    },
    {
     "name": "stdout",
     "output_type": "stream",
     "text": [
      "shape of the saved modelParams: (32, 6, 15).\n",
      "shape of the saved labels: (32, 100, 15).\n",
      "shape of the saved proba: (32, 100, 2, 15).\n"
     ]
    },
    {
     "name": "stderr",
     "output_type": "stream",
     "text": [
      "100%|██████████████████████████████████████████████████████████████████████████| 15/15 [00:04<00:00,  3.63it/s]\n"
     ]
    },
    {
     "name": "stdout",
     "output_type": "stream",
     "text": [
      "shape of the saved modelParams: (32, 6, 15).\n",
      "shape of the saved labels: (32, 1000, 15).\n",
      "shape of the saved proba: (32, 1000, 2, 15).\n"
     ]
    },
    {
     "name": "stderr",
     "output_type": "stream",
     "text": [
      "100%|██████████████████████████████████████████████████████████████████████████| 15/15 [00:01<00:00, 12.67it/s]\n"
     ]
    },
    {
     "name": "stdout",
     "output_type": "stream",
     "text": [
      "shape of the saved modelParams: (32, 6, 15).\n",
      "shape of the saved labels: (32, 50, 15).\n",
      "shape of the saved proba: (32, 50, 2, 15).\n"
     ]
    },
    {
     "name": "stderr",
     "output_type": "stream",
     "text": [
      "100%|██████████████████████████████████████████████████████████████████████████| 15/15 [00:01<00:00,  8.24it/s]\n"
     ]
    },
    {
     "name": "stdout",
     "output_type": "stream",
     "text": [
      "shape of the saved modelParams: (32, 6, 15).\n",
      "shape of the saved labels: (32, 250, 15).\n",
      "shape of the saved proba: (32, 250, 2, 15).\n"
     ]
    },
    {
     "name": "stderr",
     "output_type": "stream",
     "text": [
      "100%|██████████████████████████████████████████████████████████████████████████| 15/15 [00:02<00:00,  5.88it/s]\n"
     ]
    },
    {
     "name": "stdout",
     "output_type": "stream",
     "text": [
      "shape of the saved modelParams: (32, 6, 15).\n",
      "shape of the saved labels: (32, 500, 15).\n",
      "shape of the saved proba: (32, 500, 2, 15).\n",
      "4/18 combo done. Time of this combo: 0:00:12s. Total time: 0:11:36s.\n",
      "5/18 combo starts.\n"
     ]
    },
    {
     "name": "stderr",
     "output_type": "stream",
     "text": [
      "100%|██████████████████████████████████████████████████████████████████████████| 15/15 [00:06<00:00,  2.25it/s]\n"
     ]
    },
    {
     "name": "stdout",
     "output_type": "stream",
     "text": [
      "shape of the saved modelParams: (32, 6, 15).\n",
      "shape of the saved labels: (32, 100, 15).\n",
      "shape of the saved proba: (32, 100, 2, 15).\n"
     ]
    },
    {
     "name": "stderr",
     "output_type": "stream",
     "text": [
      "100%|██████████████████████████████████████████████████████████████████████████| 15/15 [01:32<00:00,  6.14s/it]\n"
     ]
    },
    {
     "name": "stdout",
     "output_type": "stream",
     "text": [
      "shape of the saved modelParams: (32, 6, 15).\n",
      "shape of the saved labels: (32, 1000, 15).\n",
      "shape of the saved proba: (32, 1000, 2, 15).\n"
     ]
    },
    {
     "name": "stderr",
     "output_type": "stream",
     "text": [
      "100%|██████████████████████████████████████████████████████████████████████████| 15/15 [00:03<00:00,  4.27it/s]\n"
     ]
    },
    {
     "name": "stdout",
     "output_type": "stream",
     "text": [
      "shape of the saved modelParams: (32, 6, 15).\n",
      "shape of the saved labels: (32, 50, 15).\n",
      "shape of the saved proba: (32, 50, 2, 15).\n"
     ]
    },
    {
     "name": "stderr",
     "output_type": "stream",
     "text": [
      "100%|██████████████████████████████████████████████████████████████████████████| 15/15 [00:18<00:00,  1.24s/it]\n"
     ]
    },
    {
     "name": "stdout",
     "output_type": "stream",
     "text": [
      "shape of the saved modelParams: (32, 6, 15).\n",
      "shape of the saved labels: (32, 250, 15).\n",
      "shape of the saved proba: (32, 250, 2, 15).\n"
     ]
    },
    {
     "name": "stderr",
     "output_type": "stream",
     "text": [
      "100%|██████████████████████████████████████████████████████████████████████████| 15/15 [00:40<00:00,  2.71s/it]\n"
     ]
    },
    {
     "name": "stdout",
     "output_type": "stream",
     "text": [
      "shape of the saved modelParams: (32, 6, 15).\n",
      "shape of the saved labels: (32, 500, 15).\n",
      "shape of the saved proba: (32, 500, 2, 15).\n",
      "5/18 combo done. Time of this combo: 0:02:42s. Total time: 0:14:18s.\n",
      "6/18 combo starts.\n"
     ]
    },
    {
     "name": "stderr",
     "output_type": "stream",
     "text": [
      "100%|██████████████████████████████████████████████████████████████████████████| 15/15 [00:08<00:00,  1.67it/s]\n"
     ]
    },
    {
     "name": "stdout",
     "output_type": "stream",
     "text": [
      "shape of the saved modelParams: (32, 6, 15).\n",
      "shape of the saved labels: (32, 100, 15).\n",
      "shape of the saved proba: (32, 100, 2, 15).\n"
     ]
    },
    {
     "name": "stderr",
     "output_type": "stream",
     "text": [
      "100%|██████████████████████████████████████████████████████████████████████████| 15/15 [01:50<00:00,  7.37s/it]\n"
     ]
    },
    {
     "name": "stdout",
     "output_type": "stream",
     "text": [
      "shape of the saved modelParams: (32, 6, 15).\n",
      "shape of the saved labels: (32, 1000, 15).\n",
      "shape of the saved proba: (32, 1000, 2, 15).\n"
     ]
    },
    {
     "name": "stderr",
     "output_type": "stream",
     "text": [
      "100%|██████████████████████████████████████████████████████████████████████████| 15/15 [00:04<00:00,  3.25it/s]\n"
     ]
    },
    {
     "name": "stdout",
     "output_type": "stream",
     "text": [
      "shape of the saved modelParams: (32, 6, 15).\n",
      "shape of the saved labels: (32, 50, 15).\n",
      "shape of the saved proba: (32, 50, 2, 15).\n"
     ]
    },
    {
     "name": "stderr",
     "output_type": "stream",
     "text": [
      "100%|██████████████████████████████████████████████████████████████████████████| 15/15 [00:23<00:00,  1.57s/it]\n"
     ]
    },
    {
     "name": "stdout",
     "output_type": "stream",
     "text": [
      "shape of the saved modelParams: (32, 6, 15).\n",
      "shape of the saved labels: (32, 250, 15).\n",
      "shape of the saved proba: (32, 250, 2, 15).\n"
     ]
    },
    {
     "name": "stderr",
     "output_type": "stream",
     "text": [
      "100%|██████████████████████████████████████████████████████████████████████████| 15/15 [00:53<00:00,  3.56s/it]\n"
     ]
    },
    {
     "name": "stdout",
     "output_type": "stream",
     "text": [
      "shape of the saved modelParams: (32, 6, 15).\n",
      "shape of the saved labels: (32, 500, 15).\n",
      "shape of the saved proba: (32, 500, 2, 15).\n",
      "6/18 combo done. Time of this combo: 0:03:22s. Total time: 0:17:39s.\n",
      "7/18 combo starts.\n"
     ]
    },
    {
     "name": "stderr",
     "output_type": "stream",
     "text": [
      "100%|██████████████████████████████████████████████████████████████████████████| 15/15 [00:01<00:00, 12.66it/s]\n"
     ]
    },
    {
     "name": "stdout",
     "output_type": "stream",
     "text": [
      "shape of the saved modelParams: (32, 6, 15).\n",
      "shape of the saved labels: (32, 60, 15).\n",
      "shape of the saved proba: (32, 60, 2, 15).\n"
     ]
    },
    {
     "name": "stderr",
     "output_type": "stream",
     "text": [
      "100%|██████████████████████████████████████████████████████████████████████████| 15/15 [00:01<00:00,  8.18it/s]\n"
     ]
    },
    {
     "name": "stdout",
     "output_type": "stream",
     "text": [
      "shape of the saved modelParams: (32, 6, 15).\n",
      "shape of the saved labels: (32, 250, 15).\n",
      "shape of the saved proba: (32, 250, 2, 15).\n"
     ]
    },
    {
     "name": "stderr",
     "output_type": "stream",
     "text": [
      "100%|██████████████████████████████████████████████████████████████████████████| 15/15 [00:01<00:00, 10.39it/s]\n"
     ]
    },
    {
     "name": "stdout",
     "output_type": "stream",
     "text": [
      "shape of the saved modelParams: (32, 6, 15).\n",
      "shape of the saved labels: (32, 120, 15).\n",
      "shape of the saved proba: (32, 120, 2, 15).\n"
     ]
    },
    {
     "name": "stderr",
     "output_type": "stream",
     "text": [
      "100%|██████████████████████████████████████████████████████████████████████████| 15/15 [00:02<00:00,  5.92it/s]\n"
     ]
    },
    {
     "name": "stdout",
     "output_type": "stream",
     "text": [
      "shape of the saved modelParams: (32, 6, 15).\n",
      "shape of the saved labels: (32, 500, 15).\n",
      "shape of the saved proba: (32, 500, 2, 15).\n",
      "7/18 combo done. Time of this combo: 0:00:08s. Total time: 0:17:46s.\n",
      "8/18 combo starts.\n"
     ]
    },
    {
     "name": "stderr",
     "output_type": "stream",
     "text": [
      "100%|██████████████████████████████████████████████████████████████████████████| 15/15 [00:04<00:00,  3.43it/s]\n"
     ]
    },
    {
     "name": "stdout",
     "output_type": "stream",
     "text": [
      "shape of the saved modelParams: (32, 6, 15).\n",
      "shape of the saved labels: (32, 60, 15).\n",
      "shape of the saved proba: (32, 60, 2, 15).\n"
     ]
    },
    {
     "name": "stderr",
     "output_type": "stream",
     "text": [
      "100%|██████████████████████████████████████████████████████████████████████████| 15/15 [00:19<00:00,  1.30s/it]\n"
     ]
    },
    {
     "name": "stdout",
     "output_type": "stream",
     "text": [
      "shape of the saved modelParams: (32, 6, 15).\n",
      "shape of the saved labels: (32, 250, 15).\n",
      "shape of the saved proba: (32, 250, 2, 15).\n"
     ]
    },
    {
     "name": "stderr",
     "output_type": "stream",
     "text": [
      "100%|██████████████████████████████████████████████████████████████████████████| 15/15 [00:08<00:00,  1.71it/s]\n"
     ]
    },
    {
     "name": "stdout",
     "output_type": "stream",
     "text": [
      "shape of the saved modelParams: (32, 6, 15).\n",
      "shape of the saved labels: (32, 120, 15).\n",
      "shape of the saved proba: (32, 120, 2, 15).\n"
     ]
    },
    {
     "name": "stderr",
     "output_type": "stream",
     "text": [
      "100%|██████████████████████████████████████████████████████████████████████████| 15/15 [00:43<00:00,  2.91s/it]\n"
     ]
    },
    {
     "name": "stdout",
     "output_type": "stream",
     "text": [
      "shape of the saved modelParams: (32, 6, 15).\n",
      "shape of the saved labels: (32, 500, 15).\n",
      "shape of the saved proba: (32, 500, 2, 15).\n",
      "8/18 combo done. Time of this combo: 0:01:17s. Total time: 0:19:03s.\n",
      "9/18 combo starts.\n"
     ]
    },
    {
     "name": "stderr",
     "output_type": "stream",
     "text": [
      "100%|██████████████████████████████████████████████████████████████████████████| 15/15 [00:05<00:00,  2.81it/s]\n"
     ]
    },
    {
     "name": "stdout",
     "output_type": "stream",
     "text": [
      "shape of the saved modelParams: (32, 6, 15).\n",
      "shape of the saved labels: (32, 60, 15).\n",
      "shape of the saved proba: (32, 60, 2, 15).\n"
     ]
    },
    {
     "name": "stderr",
     "output_type": "stream",
     "text": [
      "100%|██████████████████████████████████████████████████████████████████████████| 15/15 [00:25<00:00,  1.71s/it]\n"
     ]
    },
    {
     "name": "stdout",
     "output_type": "stream",
     "text": [
      "shape of the saved modelParams: (32, 6, 15).\n",
      "shape of the saved labels: (32, 250, 15).\n",
      "shape of the saved proba: (32, 250, 2, 15).\n"
     ]
    },
    {
     "name": "stderr",
     "output_type": "stream",
     "text": [
      "100%|██████████████████████████████████████████████████████████████████████████| 15/15 [00:11<00:00,  1.31it/s]\n"
     ]
    },
    {
     "name": "stdout",
     "output_type": "stream",
     "text": [
      "shape of the saved modelParams: (32, 6, 15).\n",
      "shape of the saved labels: (32, 120, 15).\n",
      "shape of the saved proba: (32, 120, 2, 15).\n"
     ]
    },
    {
     "name": "stderr",
     "output_type": "stream",
     "text": [
      "100%|██████████████████████████████████████████████████████████████████████████| 15/15 [00:54<00:00,  3.63s/it]\n"
     ]
    },
    {
     "name": "stdout",
     "output_type": "stream",
     "text": [
      "shape of the saved modelParams: (32, 6, 15).\n",
      "shape of the saved labels: (32, 500, 15).\n",
      "shape of the saved proba: (32, 500, 2, 15).\n",
      "9/18 combo done. Time of this combo: 0:01:38s. Total time: 0:20:40s.\n",
      "10/18 combo starts.\n"
     ]
    },
    {
     "name": "stderr",
     "output_type": "stream",
     "text": [
      "100%|██████████████████████████████████████████████████████████████████████████| 15/15 [00:04<00:00,  3.60it/s]\n"
     ]
    },
    {
     "name": "stdout",
     "output_type": "stream",
     "text": [
      "shape of the saved modelParams: (32, 6, 15).\n",
      "shape of the saved labels: (32, 1000, 15).\n",
      "shape of the saved proba: (32, 1000, 2, 15).\n"
     ]
    },
    {
     "name": "stderr",
     "output_type": "stream",
     "text": [
      "100%|██████████████████████████████████████████████████████████████████████████| 15/15 [00:07<00:00,  1.90it/s]\n"
     ]
    },
    {
     "name": "stdout",
     "output_type": "stream",
     "text": [
      "shape of the saved modelParams: (32, 6, 15).\n",
      "shape of the saved labels: (32, 2000, 15).\n",
      "shape of the saved proba: (32, 2000, 2, 15).\n"
     ]
    },
    {
     "name": "stderr",
     "output_type": "stream",
     "text": [
      "100%|██████████████████████████████████████████████████████████████████████████| 15/15 [00:01<00:00,  8.54it/s]\n"
     ]
    },
    {
     "name": "stdout",
     "output_type": "stream",
     "text": [
      "shape of the saved modelParams: (32, 6, 15).\n",
      "shape of the saved labels: (32, 250, 15).\n",
      "shape of the saved proba: (32, 250, 2, 15).\n"
     ]
    },
    {
     "name": "stderr",
     "output_type": "stream",
     "text": [
      "100%|██████████████████████████████████████████████████████████████████████████| 15/15 [00:02<00:00,  6.12it/s]\n"
     ]
    },
    {
     "name": "stdout",
     "output_type": "stream",
     "text": [
      "shape of the saved modelParams: (32, 6, 15).\n",
      "shape of the saved labels: (32, 500, 15).\n",
      "shape of the saved proba: (32, 500, 2, 15).\n",
      "10/18 combo done. Time of this combo: 0:00:17s. Total time: 0:20:56s.\n",
      "11/18 combo starts.\n"
     ]
    },
    {
     "name": "stderr",
     "output_type": "stream",
     "text": [
      "100%|██████████████████████████████████████████████████████████████████████████| 15/15 [01:32<00:00,  6.17s/it]\n"
     ]
    },
    {
     "name": "stdout",
     "output_type": "stream",
     "text": [
      "shape of the saved modelParams: (32, 6, 15).\n",
      "shape of the saved labels: (32, 1000, 15).\n",
      "shape of the saved proba: (32, 1000, 2, 15).\n"
     ]
    },
    {
     "name": "stderr",
     "output_type": "stream",
     "text": [
      "100%|██████████████████████████████████████████████████████████████████████████| 15/15 [03:33<00:00, 14.26s/it]\n"
     ]
    },
    {
     "name": "stdout",
     "output_type": "stream",
     "text": [
      "shape of the saved modelParams: (32, 6, 15).\n",
      "shape of the saved labels: (32, 2000, 15).\n",
      "shape of the saved proba: (32, 2000, 2, 15).\n"
     ]
    },
    {
     "name": "stderr",
     "output_type": "stream",
     "text": [
      "100%|██████████████████████████████████████████████████████████████████████████| 15/15 [00:19<00:00,  1.32s/it]\n"
     ]
    },
    {
     "name": "stdout",
     "output_type": "stream",
     "text": [
      "shape of the saved modelParams: (32, 6, 15).\n",
      "shape of the saved labels: (32, 250, 15).\n",
      "shape of the saved proba: (32, 250, 2, 15).\n"
     ]
    },
    {
     "name": "stderr",
     "output_type": "stream",
     "text": [
      "100%|██████████████████████████████████████████████████████████████████████████| 15/15 [00:43<00:00,  2.88s/it]\n"
     ]
    },
    {
     "name": "stdout",
     "output_type": "stream",
     "text": [
      "shape of the saved modelParams: (32, 6, 15).\n",
      "shape of the saved labels: (32, 500, 15).\n",
      "shape of the saved proba: (32, 500, 2, 15).\n",
      "11/18 combo done. Time of this combo: 0:06:10s. Total time: 0:27:06s.\n",
      "12/18 combo starts.\n"
     ]
    },
    {
     "name": "stderr",
     "output_type": "stream",
     "text": [
      "100%|██████████████████████████████████████████████████████████████████████████| 15/15 [01:57<00:00,  7.85s/it]\n"
     ]
    },
    {
     "name": "stdout",
     "output_type": "stream",
     "text": [
      "shape of the saved modelParams: (32, 6, 15).\n",
      "shape of the saved labels: (32, 1000, 15).\n",
      "shape of the saved proba: (32, 1000, 2, 15).\n"
     ]
    },
    {
     "name": "stderr",
     "output_type": "stream",
     "text": [
      "100%|██████████████████████████████████████████████████████████████████████████| 15/15 [04:13<00:00, 16.88s/it]\n"
     ]
    },
    {
     "name": "stdout",
     "output_type": "stream",
     "text": [
      "shape of the saved modelParams: (32, 6, 15).\n",
      "shape of the saved labels: (32, 2000, 15).\n",
      "shape of the saved proba: (32, 2000, 2, 15).\n"
     ]
    },
    {
     "name": "stderr",
     "output_type": "stream",
     "text": [
      "100%|██████████████████████████████████████████████████████████████████████████| 15/15 [00:26<00:00,  1.78s/it]\n"
     ]
    },
    {
     "name": "stdout",
     "output_type": "stream",
     "text": [
      "shape of the saved modelParams: (32, 6, 15).\n",
      "shape of the saved labels: (32, 250, 15).\n",
      "shape of the saved proba: (32, 250, 2, 15).\n"
     ]
    },
    {
     "name": "stderr",
     "output_type": "stream",
     "text": [
      "100%|██████████████████████████████████████████████████████████████████████████| 15/15 [00:55<00:00,  3.67s/it]\n"
     ]
    },
    {
     "name": "stdout",
     "output_type": "stream",
     "text": [
      "shape of the saved modelParams: (32, 6, 15).\n",
      "shape of the saved labels: (32, 500, 15).\n",
      "shape of the saved proba: (32, 500, 2, 15).\n",
      "12/18 combo done. Time of this combo: 0:07:33s. Total time: 0:34:39s.\n",
      "13/18 combo starts.\n"
     ]
    },
    {
     "name": "stderr",
     "output_type": "stream",
     "text": [
      "100%|██████████████████████████████████████████████████████████████████████████| 15/15 [00:01<00:00, 12.40it/s]\n"
     ]
    },
    {
     "name": "stdout",
     "output_type": "stream",
     "text": [
      "shape of the saved modelParams: (32, 6, 15).\n",
      "shape of the saved labels: (32, 100, 15).\n",
      "shape of the saved proba: (32, 100, 2, 15).\n"
     ]
    },
    {
     "name": "stderr",
     "output_type": "stream",
     "text": [
      "100%|██████████████████████████████████████████████████████████████████████████| 15/15 [00:03<00:00,  3.98it/s]\n"
     ]
    },
    {
     "name": "stdout",
     "output_type": "stream",
     "text": [
      "shape of the saved modelParams: (32, 6, 15).\n",
      "shape of the saved labels: (32, 1000, 15).\n",
      "shape of the saved proba: (32, 1000, 2, 15).\n"
     ]
    },
    {
     "name": "stderr",
     "output_type": "stream",
     "text": [
      "100%|██████████████████████████████████████████████████████████████████████████| 15/15 [00:01<00:00, 13.95it/s]\n"
     ]
    },
    {
     "name": "stdout",
     "output_type": "stream",
     "text": [
      "shape of the saved modelParams: (32, 6, 15).\n",
      "shape of the saved labels: (32, 50, 15).\n",
      "shape of the saved proba: (32, 50, 2, 15).\n"
     ]
    },
    {
     "name": "stderr",
     "output_type": "stream",
     "text": [
      "100%|██████████████████████████████████████████████████████████████████████████| 15/15 [00:01<00:00,  9.29it/s]\n"
     ]
    },
    {
     "name": "stdout",
     "output_type": "stream",
     "text": [
      "shape of the saved modelParams: (32, 6, 15).\n",
      "shape of the saved labels: (32, 250, 15).\n",
      "shape of the saved proba: (32, 250, 2, 15).\n"
     ]
    },
    {
     "name": "stderr",
     "output_type": "stream",
     "text": [
      "100%|██████████████████████████████████████████████████████████████████████████| 15/15 [00:02<00:00,  6.34it/s]\n"
     ]
    },
    {
     "name": "stdout",
     "output_type": "stream",
     "text": [
      "shape of the saved modelParams: (32, 6, 15).\n",
      "shape of the saved labels: (32, 500, 15).\n",
      "shape of the saved proba: (32, 500, 2, 15).\n",
      "13/18 combo done. Time of this combo: 0:00:11s. Total time: 0:34:49s.\n",
      "14/18 combo starts.\n"
     ]
    },
    {
     "name": "stderr",
     "output_type": "stream",
     "text": [
      "100%|██████████████████████████████████████████████████████████████████████████| 15/15 [00:06<00:00,  2.27it/s]\n"
     ]
    },
    {
     "name": "stdout",
     "output_type": "stream",
     "text": [
      "shape of the saved modelParams: (32, 6, 15).\n",
      "shape of the saved labels: (32, 100, 15).\n",
      "shape of the saved proba: (32, 100, 2, 15).\n"
     ]
    },
    {
     "name": "stderr",
     "output_type": "stream",
     "text": [
      "100%|██████████████████████████████████████████████████████████████████████████| 15/15 [01:28<00:00,  5.87s/it]\n"
     ]
    },
    {
     "name": "stdout",
     "output_type": "stream",
     "text": [
      "shape of the saved modelParams: (32, 6, 15).\n",
      "shape of the saved labels: (32, 1000, 15).\n",
      "shape of the saved proba: (32, 1000, 2, 15).\n"
     ]
    },
    {
     "name": "stderr",
     "output_type": "stream",
     "text": [
      "100%|██████████████████████████████████████████████████████████████████████████| 15/15 [00:03<00:00,  4.46it/s]\n"
     ]
    },
    {
     "name": "stdout",
     "output_type": "stream",
     "text": [
      "shape of the saved modelParams: (32, 6, 15).\n",
      "shape of the saved labels: (32, 50, 15).\n",
      "shape of the saved proba: (32, 50, 2, 15).\n"
     ]
    },
    {
     "name": "stderr",
     "output_type": "stream",
     "text": [
      "100%|██████████████████████████████████████████████████████████████████████████| 15/15 [00:18<00:00,  1.20s/it]\n"
     ]
    },
    {
     "name": "stdout",
     "output_type": "stream",
     "text": [
      "shape of the saved modelParams: (32, 6, 15).\n",
      "shape of the saved labels: (32, 250, 15).\n",
      "shape of the saved proba: (32, 250, 2, 15).\n"
     ]
    },
    {
     "name": "stderr",
     "output_type": "stream",
     "text": [
      "100%|██████████████████████████████████████████████████████████████████████████| 15/15 [00:41<00:00,  2.73s/it]\n"
     ]
    },
    {
     "name": "stdout",
     "output_type": "stream",
     "text": [
      "shape of the saved modelParams: (32, 6, 15).\n",
      "shape of the saved labels: (32, 500, 15).\n",
      "shape of the saved proba: (32, 500, 2, 15).\n",
      "14/18 combo done. Time of this combo: 0:02:38s. Total time: 0:37:26s.\n",
      "15/18 combo starts.\n"
     ]
    },
    {
     "name": "stderr",
     "output_type": "stream",
     "text": [
      "100%|██████████████████████████████████████████████████████████████████████████| 15/15 [00:09<00:00,  1.62it/s]\n"
     ]
    },
    {
     "name": "stdout",
     "output_type": "stream",
     "text": [
      "shape of the saved modelParams: (32, 6, 15).\n",
      "shape of the saved labels: (32, 100, 15).\n",
      "shape of the saved proba: (32, 100, 2, 15).\n"
     ]
    },
    {
     "name": "stderr",
     "output_type": "stream",
     "text": [
      "100%|██████████████████████████████████████████████████████████████████████████| 15/15 [01:49<00:00,  7.27s/it]\n"
     ]
    },
    {
     "name": "stdout",
     "output_type": "stream",
     "text": [
      "shape of the saved modelParams: (32, 6, 15).\n",
      "shape of the saved labels: (32, 1000, 15).\n",
      "shape of the saved proba: (32, 1000, 2, 15).\n"
     ]
    },
    {
     "name": "stderr",
     "output_type": "stream",
     "text": [
      "100%|██████████████████████████████████████████████████████████████████████████| 15/15 [00:04<00:00,  3.55it/s]\n"
     ]
    },
    {
     "name": "stdout",
     "output_type": "stream",
     "text": [
      "shape of the saved modelParams: (32, 6, 15).\n",
      "shape of the saved labels: (32, 50, 15).\n",
      "shape of the saved proba: (32, 50, 2, 15).\n"
     ]
    },
    {
     "name": "stderr",
     "output_type": "stream",
     "text": [
      "100%|██████████████████████████████████████████████████████████████████████████| 15/15 [00:22<00:00,  1.53s/it]\n"
     ]
    },
    {
     "name": "stdout",
     "output_type": "stream",
     "text": [
      "shape of the saved modelParams: (32, 6, 15).\n",
      "shape of the saved labels: (32, 250, 15).\n",
      "shape of the saved proba: (32, 250, 2, 15).\n"
     ]
    },
    {
     "name": "stderr",
     "output_type": "stream",
     "text": [
      "100%|██████████████████████████████████████████████████████████████████████████| 15/15 [00:50<00:00,  3.35s/it]\n"
     ]
    },
    {
     "name": "stdout",
     "output_type": "stream",
     "text": [
      "shape of the saved modelParams: (32, 6, 15).\n",
      "shape of the saved labels: (32, 500, 15).\n",
      "shape of the saved proba: (32, 500, 2, 15).\n",
      "15/18 combo done. Time of this combo: 0:03:16s. Total time: 0:40:42s.\n",
      "16/18 combo starts.\n"
     ]
    },
    {
     "name": "stderr",
     "output_type": "stream",
     "text": [
      "100%|██████████████████████████████████████████████████████████████████████████| 15/15 [00:01<00:00, 13.66it/s]\n"
     ]
    },
    {
     "name": "stdout",
     "output_type": "stream",
     "text": [
      "shape of the saved modelParams: (32, 6, 15).\n",
      "shape of the saved labels: (32, 60, 15).\n",
      "shape of the saved proba: (32, 60, 2, 15).\n"
     ]
    },
    {
     "name": "stderr",
     "output_type": "stream",
     "text": [
      "100%|██████████████████████████████████████████████████████████████████████████| 15/15 [00:01<00:00,  9.50it/s]\n"
     ]
    },
    {
     "name": "stdout",
     "output_type": "stream",
     "text": [
      "shape of the saved modelParams: (32, 6, 15).\n",
      "shape of the saved labels: (32, 250, 15).\n",
      "shape of the saved proba: (32, 250, 2, 15).\n"
     ]
    },
    {
     "name": "stderr",
     "output_type": "stream",
     "text": [
      "100%|██████████████████████████████████████████████████████████████████████████| 15/15 [00:01<00:00, 11.25it/s]\n"
     ]
    },
    {
     "name": "stdout",
     "output_type": "stream",
     "text": [
      "shape of the saved modelParams: (32, 6, 15).\n",
      "shape of the saved labels: (32, 120, 15).\n",
      "shape of the saved proba: (32, 120, 2, 15).\n"
     ]
    },
    {
     "name": "stderr",
     "output_type": "stream",
     "text": [
      "100%|██████████████████████████████████████████████████████████████████████████| 15/15 [00:02<00:00,  6.57it/s]\n"
     ]
    },
    {
     "name": "stdout",
     "output_type": "stream",
     "text": [
      "shape of the saved modelParams: (32, 6, 15).\n",
      "shape of the saved labels: (32, 500, 15).\n",
      "shape of the saved proba: (32, 500, 2, 15).\n",
      "16/18 combo done. Time of this combo: 0:00:07s. Total time: 0:40:48s.\n",
      "17/18 combo starts.\n"
     ]
    },
    {
     "name": "stderr",
     "output_type": "stream",
     "text": [
      "100%|██████████████████████████████████████████████████████████████████████████| 15/15 [00:03<00:00,  3.93it/s]\n"
     ]
    },
    {
     "name": "stdout",
     "output_type": "stream",
     "text": [
      "shape of the saved modelParams: (32, 6, 15).\n",
      "shape of the saved labels: (32, 60, 15).\n",
      "shape of the saved proba: (32, 60, 2, 15).\n"
     ]
    },
    {
     "name": "stderr",
     "output_type": "stream",
     "text": [
      "100%|██████████████████████████████████████████████████████████████████████████| 15/15 [00:18<00:00,  1.21s/it]\n"
     ]
    },
    {
     "name": "stdout",
     "output_type": "stream",
     "text": [
      "shape of the saved modelParams: (32, 6, 15).\n",
      "shape of the saved labels: (32, 250, 15).\n",
      "shape of the saved proba: (32, 250, 2, 15).\n"
     ]
    },
    {
     "name": "stderr",
     "output_type": "stream",
     "text": [
      "100%|██████████████████████████████████████████████████████████████████████████| 15/15 [00:07<00:00,  1.94it/s]\n"
     ]
    },
    {
     "name": "stdout",
     "output_type": "stream",
     "text": [
      "shape of the saved modelParams: (32, 6, 15).\n",
      "shape of the saved labels: (32, 120, 15).\n",
      "shape of the saved proba: (32, 120, 2, 15).\n"
     ]
    },
    {
     "name": "stderr",
     "output_type": "stream",
     "text": [
      "100%|██████████████████████████████████████████████████████████████████████████| 15/15 [00:41<00:00,  2.78s/it]\n"
     ]
    },
    {
     "name": "stdout",
     "output_type": "stream",
     "text": [
      "shape of the saved modelParams: (32, 6, 15).\n",
      "shape of the saved labels: (32, 500, 15).\n",
      "shape of the saved proba: (32, 500, 2, 15).\n",
      "17/18 combo done. Time of this combo: 0:01:12s. Total time: 0:42:00s.\n",
      "18/18 combo starts.\n"
     ]
    },
    {
     "name": "stderr",
     "output_type": "stream",
     "text": [
      "100%|██████████████████████████████████████████████████████████████████████████| 15/15 [00:04<00:00,  3.13it/s]\n"
     ]
    },
    {
     "name": "stdout",
     "output_type": "stream",
     "text": [
      "shape of the saved modelParams: (32, 6, 15).\n",
      "shape of the saved labels: (32, 60, 15).\n",
      "shape of the saved proba: (32, 60, 2, 15).\n"
     ]
    },
    {
     "name": "stderr",
     "output_type": "stream",
     "text": [
      "100%|██████████████████████████████████████████████████████████████████████████| 15/15 [00:23<00:00,  1.57s/it]\n"
     ]
    },
    {
     "name": "stdout",
     "output_type": "stream",
     "text": [
      "shape of the saved modelParams: (32, 6, 15).\n",
      "shape of the saved labels: (32, 250, 15).\n",
      "shape of the saved proba: (32, 250, 2, 15).\n"
     ]
    },
    {
     "name": "stderr",
     "output_type": "stream",
     "text": [
      "100%|██████████████████████████████████████████████████████████████████████████| 15/15 [00:10<00:00,  1.38it/s]\n"
     ]
    },
    {
     "name": "stdout",
     "output_type": "stream",
     "text": [
      "shape of the saved modelParams: (32, 6, 15).\n",
      "shape of the saved labels: (32, 120, 15).\n",
      "shape of the saved proba: (32, 120, 2, 15).\n"
     ]
    },
    {
     "name": "stderr",
     "output_type": "stream",
     "text": [
      "100%|██████████████████████████████████████████████████████████████████████████| 15/15 [00:56<00:00,  3.77s/it]"
     ]
    },
    {
     "name": "stdout",
     "output_type": "stream",
     "text": [
      "shape of the saved modelParams: (32, 6, 15).\n",
      "shape of the saved labels: (32, 500, 15).\n",
      "shape of the saved proba: (32, 500, 2, 15).\n",
      "18/18 combo done. Time of this combo: 0:01:36s. Total time: 0:43:35s.\n"
     ]
    },
    {
     "name": "stderr",
     "output_type": "stream",
     "text": [
      "\n"
     ]
    }
   ],
   "source": [
    "model_fit_many_datas_models(generate_key_data([2, \"t\"], dof=5), key_feat_jump, model_dict_jump, param_grid, path, job_id, batch_size)"
   ]
  }
 ],
 "metadata": {
  "kernelspec": {
   "display_name": "Python 3 (ipykernel)",
   "language": "python",
   "name": "python3"
  },
  "language_info": {
   "codemirror_mode": {
    "name": "ipython",
    "version": 3
   },
   "file_extension": ".py",
   "mimetype": "text/x-python",
   "name": "python",
   "nbconvert_exporter": "python",
   "pygments_lexer": "ipython3",
   "version": "3.10.9"
  }
 },
 "nbformat": 4,
 "nbformat_minor": 5
}
