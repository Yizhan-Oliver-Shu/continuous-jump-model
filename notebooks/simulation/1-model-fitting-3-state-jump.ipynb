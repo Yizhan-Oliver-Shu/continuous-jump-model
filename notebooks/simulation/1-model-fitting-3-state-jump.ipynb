{
 "cells": [
  {
   "cell_type": "code",
   "execution_count": 1,
   "id": "fbe842e2-0687-4e9b-a81a-e7d0a47e361e",
   "metadata": {
    "tags": []
   },
   "outputs": [],
   "source": [
    "## timelimit = 02:45:00 \n",
    "%load_ext autoreload\n",
    "%autoreload 2\n",
    "import sys, os\n",
    "from os.path import expanduser\n",
    "## actions required!!!!!!!!!!!!!!!!!!!! change your folder path \n",
    "path_repo = expanduser(\"~/Documents/G3_2/regime-identification\"); sys.path.append(path_repo)\n",
    "path_file = expanduser(\"~/data/G3_2/regime-identification/simulation\")\n",
    "path = {}\n",
    "for folder in [\"data\", \"estimation\"]:\n",
    "    path[folder] = f\"{path_file}/{folder}\"\n",
    "\n",
    "job_id = 0 #int(os.environ[\"SLURM_ARRAY_TASK_ID\"])"
   ]
  },
  {
   "cell_type": "code",
   "execution_count": 2,
   "id": "f45688e6-f7af-441e-a9cb-f00e49b23df2",
   "metadata": {
    "tags": []
   },
   "outputs": [],
   "source": [
    "from numpy.random import RandomState"
   ]
  },
  {
   "cell_type": "code",
   "execution_count": 3,
   "id": "02027bcb-20cb-4909-9a94-0752435057f6",
   "metadata": {
    "tags": []
   },
   "outputs": [],
   "source": [
    "from regime.jump import *\n",
    "from regime.simulation_helper import *"
   ]
  },
  {
   "cell_type": "markdown",
   "id": "89a05196-15be-43b3-a61b-84b9f733f856",
   "metadata": {
    "tags": []
   },
   "source": [
    "# 3-model-fitting\n",
    "\n",
    "In this notebook we fit the models on the data scenario: 3-state Hardy parametert."
   ]
  },
  {
   "cell_type": "code",
   "execution_count": 4,
   "id": "473811b7-df26-4184-898c-9f954e30edd2",
   "metadata": {
    "tags": []
   },
   "outputs": [],
   "source": [
    "n_c = 3\n",
    "batch_size = 4"
   ]
  },
  {
   "cell_type": "markdown",
   "id": "ac1e158a-b78b-45da-9447-d3bcdef23b7b",
   "metadata": {},
   "source": [
    "# Our models"
   ]
  },
  {
   "cell_type": "code",
   "execution_count": 5,
   "id": "ade9e30c-d968-43e5-ab11-123a0da21c82",
   "metadata": {},
   "outputs": [],
   "source": [
    "random_state = RandomState(10)\n",
    "model_discrete = jump_model(n_c, state_type=\"discrete\", random_state=random_state)\n",
    "model_cont_mode = jump_model(n_c, state_type=\"cont\", grid_size=.05, mode_loss=True, random_state=random_state)\n",
    "model_cont = jump_model(n_c, state_type=\"cont\", grid_size=.05, mode_loss=False, random_state=random_state)\n",
    "model_dict_jump = {\"discrete\": model_discrete, \"cont-mode\": model_cont_mode, \"cont\": model_cont}"
   ]
  },
  {
   "cell_type": "code",
   "execution_count": 6,
   "id": "9d7110e7-1a5b-48ed-a2e1-e2b19bcb1e00",
   "metadata": {
    "tags": []
   },
   "outputs": [
    {
     "name": "stdout",
     "output_type": "stream",
     "text": [
      "[1.00000000e-02 1.00000000e-01 1.00000000e+00 1.00000000e+01\n",
      " 2.15443469e+01 4.64158883e+01 1.00000000e+02 2.15443469e+02\n",
      " 4.64158883e+02 1.00000000e+03 2.15443469e+03 4.64158883e+03\n",
      " 1.00000000e+04 1.00000000e+05 1.00000000e+06]\n"
     ]
    }
   ],
   "source": [
    "param_grid = generate_param_grid()"
   ]
  },
  {
   "cell_type": "code",
   "execution_count": 7,
   "id": "da4e4458-a936-452c-b0ed-36c7dd8d8b2c",
   "metadata": {
    "tags": []
   },
   "outputs": [],
   "source": [
    "key_feat_jump = [\"zhengB\"]"
   ]
  },
  {
   "cell_type": "code",
   "execution_count": 8,
   "id": "36ea7bd4-b662-4297-85f5-77d1fee7e0fb",
   "metadata": {
    "tags": []
   },
   "outputs": [
    {
     "name": "stdout",
     "output_type": "stream",
     "text": [
      "1/9 combo starts.\n"
     ]
    },
    {
     "name": "stderr",
     "output_type": "stream",
     "text": [
      "100%|██████████████████████████████████████████████████████████████████████████| 15/15 [00:00<00:00, 19.89it/s]\n"
     ]
    },
    {
     "name": "stdout",
     "output_type": "stream",
     "text": [
      "shape of the saved modelParams: (4, 12, 15).\n",
      "shape of the saved labels: (4, 1000, 15).\n",
      "shape of the saved proba: (4, 1000, 3, 15).\n"
     ]
    },
    {
     "name": "stderr",
     "output_type": "stream",
     "text": [
      "100%|██████████████████████████████████████████████████████████████████████████| 15/15 [00:01<00:00, 10.19it/s]\n"
     ]
    },
    {
     "name": "stdout",
     "output_type": "stream",
     "text": [
      "shape of the saved modelParams: (4, 12, 15).\n",
      "shape of the saved labels: (4, 2000, 15).\n",
      "shape of the saved proba: (4, 2000, 3, 15).\n"
     ]
    },
    {
     "name": "stderr",
     "output_type": "stream",
     "text": [
      "100%|██████████████████████████████████████████████████████████████████████████| 15/15 [00:00<00:00, 51.02it/s]\n"
     ]
    },
    {
     "name": "stdout",
     "output_type": "stream",
     "text": [
      "shape of the saved modelParams: (4, 12, 15).\n",
      "shape of the saved labels: (4, 250, 15).\n",
      "shape of the saved proba: (4, 250, 3, 15).\n"
     ]
    },
    {
     "name": "stderr",
     "output_type": "stream",
     "text": [
      "100%|██████████████████████████████████████████████████████████████████████████| 15/15 [00:00<00:00, 35.76it/s]\n"
     ]
    },
    {
     "name": "stdout",
     "output_type": "stream",
     "text": [
      "shape of the saved modelParams: (4, 12, 15).\n",
      "shape of the saved labels: (4, 500, 15).\n",
      "shape of the saved proba: (4, 500, 3, 15).\n",
      "1/9 combo done. Time of this combo: 0:00:04s. Total time: 0:00:04s.\n",
      "2/9 combo starts.\n"
     ]
    },
    {
     "name": "stderr",
     "output_type": "stream",
     "text": [
      "100%|██████████████████████████████████████████████████████████████████████████| 15/15 [03:31<00:00, 14.11s/it]\n"
     ]
    },
    {
     "name": "stdout",
     "output_type": "stream",
     "text": [
      "shape of the saved modelParams: (4, 12, 15).\n",
      "shape of the saved labels: (4, 1000, 15).\n",
      "shape of the saved proba: (4, 1000, 3, 15).\n"
     ]
    },
    {
     "name": "stderr",
     "output_type": "stream",
     "text": [
      "100%|██████████████████████████████████████████████████████████████████████████| 15/15 [09:17<00:00, 37.16s/it]\n"
     ]
    },
    {
     "name": "stdout",
     "output_type": "stream",
     "text": [
      "shape of the saved modelParams: (4, 12, 15).\n",
      "shape of the saved labels: (4, 2000, 15).\n",
      "shape of the saved proba: (4, 2000, 3, 15).\n"
     ]
    },
    {
     "name": "stderr",
     "output_type": "stream",
     "text": [
      "100%|██████████████████████████████████████████████████████████████████████████| 15/15 [00:34<00:00,  2.28s/it]\n"
     ]
    },
    {
     "name": "stdout",
     "output_type": "stream",
     "text": [
      "shape of the saved modelParams: (4, 12, 15).\n",
      "shape of the saved labels: (4, 250, 15).\n",
      "shape of the saved proba: (4, 250, 3, 15).\n"
     ]
    },
    {
     "name": "stderr",
     "output_type": "stream",
     "text": [
      "100%|██████████████████████████████████████████████████████████████████████████| 15/15 [01:28<00:00,  5.91s/it]\n"
     ]
    },
    {
     "name": "stdout",
     "output_type": "stream",
     "text": [
      "shape of the saved modelParams: (4, 12, 15).\n",
      "shape of the saved labels: (4, 500, 15).\n",
      "shape of the saved proba: (4, 500, 3, 15).\n",
      "2/9 combo done. Time of this combo: 0:14:53s. Total time: 0:14:56s.\n",
      "3/9 combo starts.\n"
     ]
    },
    {
     "name": "stderr",
     "output_type": "stream",
     "text": [
      "100%|██████████████████████████████████████████████████████████████████████████| 15/15 [04:52<00:00, 19.49s/it]\n"
     ]
    },
    {
     "name": "stdout",
     "output_type": "stream",
     "text": [
      "shape of the saved modelParams: (4, 12, 15).\n",
      "shape of the saved labels: (4, 1000, 15).\n",
      "shape of the saved proba: (4, 1000, 3, 15).\n"
     ]
    },
    {
     "name": "stderr",
     "output_type": "stream",
     "text": [
      "100%|██████████████████████████████████████████████████████████████████████████| 15/15 [13:30<00:00, 54.03s/it]\n"
     ]
    },
    {
     "name": "stdout",
     "output_type": "stream",
     "text": [
      "shape of the saved modelParams: (4, 12, 15).\n",
      "shape of the saved labels: (4, 2000, 15).\n",
      "shape of the saved proba: (4, 2000, 3, 15).\n"
     ]
    },
    {
     "name": "stderr",
     "output_type": "stream",
     "text": [
      "100%|██████████████████████████████████████████████████████████████████████████| 15/15 [00:45<00:00,  3.01s/it]\n"
     ]
    },
    {
     "name": "stdout",
     "output_type": "stream",
     "text": [
      "shape of the saved modelParams: (4, 12, 15).\n",
      "shape of the saved labels: (4, 250, 15).\n",
      "shape of the saved proba: (4, 250, 3, 15).\n"
     ]
    },
    {
     "name": "stderr",
     "output_type": "stream",
     "text": [
      "100%|██████████████████████████████████████████████████████████████████████████| 15/15 [02:21<00:00,  9.40s/it]\n"
     ]
    },
    {
     "name": "stdout",
     "output_type": "stream",
     "text": [
      "shape of the saved modelParams: (4, 12, 15).\n",
      "shape of the saved labels: (4, 500, 15).\n",
      "shape of the saved proba: (4, 500, 3, 15).\n",
      "3/9 combo done. Time of this combo: 0:21:30s. Total time: 0:36:25s.\n",
      "4/9 combo starts.\n"
     ]
    },
    {
     "name": "stderr",
     "output_type": "stream",
     "text": [
      "100%|██████████████████████████████████████████████████████████████████████████| 15/15 [00:00<00:00, 65.96it/s]\n"
     ]
    },
    {
     "name": "stdout",
     "output_type": "stream",
     "text": [
      "shape of the saved modelParams: (4, 12, 15).\n",
      "shape of the saved labels: (4, 100, 15).\n",
      "shape of the saved proba: (4, 100, 3, 15).\n"
     ]
    },
    {
     "name": "stderr",
     "output_type": "stream",
     "text": [
      "100%|██████████████████████████████████████████████████████████████████████████| 15/15 [00:00<00:00, 20.98it/s]\n"
     ]
    },
    {
     "name": "stdout",
     "output_type": "stream",
     "text": [
      "shape of the saved modelParams: (4, 12, 15).\n",
      "shape of the saved labels: (4, 1000, 15).\n",
      "shape of the saved proba: (4, 1000, 3, 15).\n"
     ]
    },
    {
     "name": "stderr",
     "output_type": "stream",
     "text": [
      "100%|██████████████████████████████████████████████████████████████████████████| 15/15 [00:00<00:00, 85.53it/s]\n"
     ]
    },
    {
     "name": "stdout",
     "output_type": "stream",
     "text": [
      "shape of the saved modelParams: (4, 6, 15).\n",
      "shape of the saved labels: (4, 50, 15).\n",
      "shape of the saved proba: (4, 50, 2, 15).\n"
     ]
    },
    {
     "name": "stderr",
     "output_type": "stream",
     "text": [
      "100%|██████████████████████████████████████████████████████████████████████████| 15/15 [00:00<00:00, 50.33it/s]\n"
     ]
    },
    {
     "name": "stdout",
     "output_type": "stream",
     "text": [
      "shape of the saved modelParams: (4, 12, 15).\n",
      "shape of the saved labels: (4, 250, 15).\n",
      "shape of the saved proba: (4, 250, 3, 15).\n"
     ]
    },
    {
     "name": "stderr",
     "output_type": "stream",
     "text": [
      "100%|██████████████████████████████████████████████████████████████████████████| 15/15 [00:00<00:00, 35.86it/s]\n"
     ]
    },
    {
     "name": "stdout",
     "output_type": "stream",
     "text": [
      "shape of the saved modelParams: (4, 12, 15).\n",
      "shape of the saved labels: (4, 500, 15).\n",
      "shape of the saved proba: (4, 500, 3, 15).\n",
      "4/9 combo done. Time of this combo: 0:00:02s. Total time: 0:36:27s.\n",
      "5/9 combo starts.\n"
     ]
    },
    {
     "name": "stderr",
     "output_type": "stream",
     "text": [
      "100%|██████████████████████████████████████████████████████████████████████████| 15/15 [00:10<00:00,  1.44it/s]\n"
     ]
    },
    {
     "name": "stdout",
     "output_type": "stream",
     "text": [
      "shape of the saved modelParams: (4, 12, 15).\n",
      "shape of the saved labels: (4, 100, 15).\n",
      "shape of the saved proba: (4, 100, 3, 15).\n"
     ]
    },
    {
     "name": "stderr",
     "output_type": "stream",
     "text": [
      "100%|██████████████████████████████████████████████████████████████████████████| 15/15 [03:30<00:00, 14.04s/it]\n"
     ]
    },
    {
     "name": "stdout",
     "output_type": "stream",
     "text": [
      "shape of the saved modelParams: (4, 12, 15).\n",
      "shape of the saved labels: (4, 1000, 15).\n",
      "shape of the saved proba: (4, 1000, 3, 15).\n"
     ]
    },
    {
     "name": "stderr",
     "output_type": "stream",
     "text": [
      "100%|██████████████████████████████████████████████████████████████████████████| 15/15 [00:04<00:00,  3.41it/s]\n"
     ]
    },
    {
     "name": "stdout",
     "output_type": "stream",
     "text": [
      "shape of the saved modelParams: (4, 6, 15).\n",
      "shape of the saved labels: (4, 50, 15).\n",
      "shape of the saved proba: (4, 50, 2, 15).\n"
     ]
    },
    {
     "name": "stderr",
     "output_type": "stream",
     "text": [
      "100%|██████████████████████████████████████████████████████████████████████████| 15/15 [00:37<00:00,  2.47s/it]\n"
     ]
    },
    {
     "name": "stdout",
     "output_type": "stream",
     "text": [
      "shape of the saved modelParams: (4, 12, 15).\n",
      "shape of the saved labels: (4, 250, 15).\n",
      "shape of the saved proba: (4, 250, 3, 15).\n"
     ]
    },
    {
     "name": "stderr",
     "output_type": "stream",
     "text": [
      "100%|██████████████████████████████████████████████████████████████████████████| 15/15 [01:31<00:00,  6.08s/it]\n"
     ]
    },
    {
     "name": "stdout",
     "output_type": "stream",
     "text": [
      "shape of the saved modelParams: (4, 12, 15).\n",
      "shape of the saved labels: (4, 500, 15).\n",
      "shape of the saved proba: (4, 500, 3, 15).\n",
      "5/9 combo done. Time of this combo: 0:05:54s. Total time: 0:42:21s.\n",
      "6/9 combo starts.\n"
     ]
    },
    {
     "name": "stderr",
     "output_type": "stream",
     "text": [
      "100%|██████████████████████████████████████████████████████████████████████████| 15/15 [00:14<00:00,  1.04it/s]\n"
     ]
    },
    {
     "name": "stdout",
     "output_type": "stream",
     "text": [
      "shape of the saved modelParams: (4, 12, 15).\n",
      "shape of the saved labels: (4, 100, 15).\n",
      "shape of the saved proba: (4, 100, 3, 15).\n"
     ]
    },
    {
     "name": "stderr",
     "output_type": "stream",
     "text": [
      "100%|██████████████████████████████████████████████████████████████████████████| 15/15 [05:06<00:00, 20.46s/it]\n"
     ]
    },
    {
     "name": "stdout",
     "output_type": "stream",
     "text": [
      "shape of the saved modelParams: (4, 12, 15).\n",
      "shape of the saved labels: (4, 1000, 15).\n",
      "shape of the saved proba: (4, 1000, 3, 15).\n"
     ]
    },
    {
     "name": "stderr",
     "output_type": "stream",
     "text": [
      "100%|██████████████████████████████████████████████████████████████████████████| 15/15 [00:05<00:00,  2.84it/s]\n"
     ]
    },
    {
     "name": "stdout",
     "output_type": "stream",
     "text": [
      "shape of the saved modelParams: (4, 6, 15).\n",
      "shape of the saved labels: (4, 50, 15).\n",
      "shape of the saved proba: (4, 50, 2, 15).\n"
     ]
    },
    {
     "name": "stderr",
     "output_type": "stream",
     "text": [
      "100%|██████████████████████████████████████████████████████████████████████████| 15/15 [00:49<00:00,  3.30s/it]\n"
     ]
    },
    {
     "name": "stdout",
     "output_type": "stream",
     "text": [
      "shape of the saved modelParams: (4, 12, 15).\n",
      "shape of the saved labels: (4, 250, 15).\n",
      "shape of the saved proba: (4, 250, 3, 15).\n"
     ]
    },
    {
     "name": "stderr",
     "output_type": "stream",
     "text": [
      "100%|██████████████████████████████████████████████████████████████████████████| 15/15 [02:09<00:00,  8.63s/it]\n"
     ]
    },
    {
     "name": "stdout",
     "output_type": "stream",
     "text": [
      "shape of the saved modelParams: (4, 12, 15).\n",
      "shape of the saved labels: (4, 500, 15).\n",
      "shape of the saved proba: (4, 500, 3, 15).\n",
      "6/9 combo done. Time of this combo: 0:08:26s. Total time: 0:50:46s.\n",
      "7/9 combo starts.\n"
     ]
    },
    {
     "name": "stderr",
     "output_type": "stream",
     "text": [
      "100%|██████████████████████████████████████████████████████████████████████████| 15/15 [00:00<00:00, 74.18it/s]\n"
     ]
    },
    {
     "name": "stdout",
     "output_type": "stream",
     "text": [
      "shape of the saved modelParams: (4, 12, 15).\n",
      "shape of the saved labels: (4, 60, 15).\n",
      "shape of the saved proba: (4, 60, 3, 15).\n"
     ]
    },
    {
     "name": "stderr",
     "output_type": "stream",
     "text": [
      "100%|██████████████████████████████████████████████████████████████████████████| 15/15 [00:00<00:00, 52.53it/s]\n"
     ]
    },
    {
     "name": "stdout",
     "output_type": "stream",
     "text": [
      "shape of the saved modelParams: (4, 12, 15).\n",
      "shape of the saved labels: (4, 250, 15).\n",
      "shape of the saved proba: (4, 250, 3, 15).\n"
     ]
    },
    {
     "name": "stderr",
     "output_type": "stream",
     "text": [
      "100%|██████████████████████████████████████████████████████████████████████████| 15/15 [00:00<00:00, 65.36it/s]\n"
     ]
    },
    {
     "name": "stdout",
     "output_type": "stream",
     "text": [
      "shape of the saved modelParams: (4, 12, 15).\n",
      "shape of the saved labels: (4, 120, 15).\n",
      "shape of the saved proba: (4, 120, 3, 15).\n"
     ]
    },
    {
     "name": "stderr",
     "output_type": "stream",
     "text": [
      "100%|██████████████████████████████████████████████████████████████████████████| 15/15 [00:00<00:00, 36.77it/s]\n"
     ]
    },
    {
     "name": "stdout",
     "output_type": "stream",
     "text": [
      "shape of the saved modelParams: (4, 12, 15).\n",
      "shape of the saved labels: (4, 500, 15).\n",
      "shape of the saved proba: (4, 500, 3, 15).\n",
      "7/9 combo done. Time of this combo: 0:00:02s. Total time: 0:50:47s.\n",
      "8/9 combo starts.\n"
     ]
    },
    {
     "name": "stderr",
     "output_type": "stream",
     "text": [
      "100%|██████████████████████████████████████████████████████████████████████████| 15/15 [00:05<00:00,  2.57it/s]\n"
     ]
    },
    {
     "name": "stdout",
     "output_type": "stream",
     "text": [
      "shape of the saved modelParams: (4, 12, 15).\n",
      "shape of the saved labels: (4, 60, 15).\n",
      "shape of the saved proba: (4, 60, 3, 15).\n"
     ]
    },
    {
     "name": "stderr",
     "output_type": "stream",
     "text": [
      "100%|██████████████████████████████████████████████████████████████████████████| 15/15 [00:35<00:00,  2.35s/it]\n"
     ]
    },
    {
     "name": "stdout",
     "output_type": "stream",
     "text": [
      "shape of the saved modelParams: (4, 12, 15).\n",
      "shape of the saved labels: (4, 250, 15).\n",
      "shape of the saved proba: (4, 250, 3, 15).\n"
     ]
    },
    {
     "name": "stderr",
     "output_type": "stream",
     "text": [
      "100%|██████████████████████████████████████████████████████████████████████████| 15/15 [00:14<00:00,  1.03it/s]\n"
     ]
    },
    {
     "name": "stdout",
     "output_type": "stream",
     "text": [
      "shape of the saved modelParams: (4, 12, 15).\n",
      "shape of the saved labels: (4, 120, 15).\n",
      "shape of the saved proba: (4, 120, 3, 15).\n"
     ]
    },
    {
     "name": "stderr",
     "output_type": "stream",
     "text": [
      "100%|██████████████████████████████████████████████████████████████████████████| 15/15 [01:27<00:00,  5.86s/it]\n"
     ]
    },
    {
     "name": "stdout",
     "output_type": "stream",
     "text": [
      "shape of the saved modelParams: (4, 12, 15).\n",
      "shape of the saved labels: (4, 500, 15).\n",
      "shape of the saved proba: (4, 500, 3, 15).\n",
      "8/9 combo done. Time of this combo: 0:02:24s. Total time: 0:53:11s.\n",
      "9/9 combo starts.\n"
     ]
    },
    {
     "name": "stderr",
     "output_type": "stream",
     "text": [
      "100%|██████████████████████████████████████████████████████████████████████████| 15/15 [00:07<00:00,  2.13it/s]\n"
     ]
    },
    {
     "name": "stdout",
     "output_type": "stream",
     "text": [
      "shape of the saved modelParams: (4, 12, 15).\n",
      "shape of the saved labels: (4, 60, 15).\n",
      "shape of the saved proba: (4, 60, 3, 15).\n"
     ]
    },
    {
     "name": "stderr",
     "output_type": "stream",
     "text": [
      "100%|██████████████████████████████████████████████████████████████████████████| 15/15 [00:48<00:00,  3.25s/it]\n"
     ]
    },
    {
     "name": "stdout",
     "output_type": "stream",
     "text": [
      "shape of the saved modelParams: (4, 12, 15).\n",
      "shape of the saved labels: (4, 250, 15).\n",
      "shape of the saved proba: (4, 250, 3, 15).\n"
     ]
    },
    {
     "name": "stderr",
     "output_type": "stream",
     "text": [
      "100%|██████████████████████████████████████████████████████████████████████████| 15/15 [00:17<00:00,  1.18s/it]\n"
     ]
    },
    {
     "name": "stdout",
     "output_type": "stream",
     "text": [
      "shape of the saved modelParams: (4, 12, 15).\n",
      "shape of the saved labels: (4, 120, 15).\n",
      "shape of the saved proba: (4, 120, 3, 15).\n"
     ]
    },
    {
     "name": "stderr",
     "output_type": "stream",
     "text": [
      "100%|██████████████████████████████████████████████████████████████████████████| 15/15 [02:07<00:00,  8.47s/it]"
     ]
    },
    {
     "name": "stdout",
     "output_type": "stream",
     "text": [
      "shape of the saved modelParams: (4, 12, 15).\n",
      "shape of the saved labels: (4, 500, 15).\n",
      "shape of the saved proba: (4, 500, 3, 15).\n",
      "9/9 combo done. Time of this combo: 0:03:21s. Total time: 0:56:31s.\n"
     ]
    },
    {
     "name": "stderr",
     "output_type": "stream",
     "text": [
      "\n"
     ]
    }
   ],
   "source": [
    "model_fit_many_datas_models(generate_key_data(n_c), key_feat_jump, model_dict_jump, param_grid, path, job_id, batch_size)"
   ]
  },
  {
   "cell_type": "code",
   "execution_count": null,
   "id": "b2be49e0-891f-4790-8174-23b81e9a868a",
   "metadata": {},
   "outputs": [],
   "source": []
  }
 ],
 "metadata": {
  "kernelspec": {
   "display_name": "Python 3 (ipykernel)",
   "language": "python",
   "name": "python3"
  },
  "language_info": {
   "codemirror_mode": {
    "name": "ipython",
    "version": 3
   },
   "file_extension": ".py",
   "mimetype": "text/x-python",
   "name": "python",
   "nbconvert_exporter": "python",
   "pygments_lexer": "ipython3",
   "version": "3.10.9"
  }
 },
 "nbformat": 4,
 "nbformat_minor": 5
}
