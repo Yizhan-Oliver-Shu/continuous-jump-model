{
 "cells": [
  {
   "cell_type": "code",
   "execution_count": 1,
   "id": "fb883732-6c31-4e0b-88d1-14ea126daed6",
   "metadata": {
    "tags": []
   },
   "outputs": [],
   "source": [
    "import numpy as np\n",
    "import pandas as pd"
   ]
  },
  {
   "cell_type": "code",
   "execution_count": 2,
   "id": "adeb6338-743e-4577-9385-c37f6a91ec01",
   "metadata": {
    "tags": []
   },
   "outputs": [],
   "source": [
    "from numpy.random import RandomState\n",
    "random_state = RandomState(0)"
   ]
  },
  {
   "cell_type": "code",
   "execution_count": 3,
   "id": "87625e93-39ab-44d5-8b7f-a5a30b5e0429",
   "metadata": {
    "tags": []
   },
   "outputs": [],
   "source": [
    "scores = random_state.randn(1000, 3)"
   ]
  },
  {
   "cell_type": "code",
   "execution_count": 28,
   "id": "bdb7b56a-cf7d-4cd6-bbb4-31bcbbfa4124",
   "metadata": {
    "tags": []
   },
   "outputs": [],
   "source": [
    "mask0 = random_state.choice(range(1000), 500, replace=False)\n",
    "mask1 = random_state.choice(range(1000), 700, replace=False)\n",
    "mask2 = random_state.choice(range(1000), 100, replace=False)"
   ]
  },
  {
   "cell_type": "code",
   "execution_count": 29,
   "id": "5cae1699-1552-419b-abfb-62c6cc0fe386",
   "metadata": {
    "tags": []
   },
   "outputs": [],
   "source": [
    "scores[mask0,0]=np.nan\n",
    "scores[mask1,1]=np.nan\n",
    "scores[mask2,2]=np.nan"
   ]
  },
  {
   "cell_type": "code",
   "execution_count": 30,
   "id": "12c49cf0-93da-42a4-8110-7f5f53e615ff",
   "metadata": {
    "tags": []
   },
   "outputs": [],
   "source": [
    "score_df = pd.DataFrame(scores)#.cov()"
   ]
  },
  {
   "cell_type": "code",
   "execution_count": 31,
   "id": "43e4396c-5c46-4242-870d-a989ac948cf7",
   "metadata": {
    "tags": []
   },
   "outputs": [
    {
     "data": {
      "text/html": [
       "<div>\n",
       "<style scoped>\n",
       "    .dataframe tbody tr th:only-of-type {\n",
       "        vertical-align: middle;\n",
       "    }\n",
       "\n",
       "    .dataframe tbody tr th {\n",
       "        vertical-align: top;\n",
       "    }\n",
       "\n",
       "    .dataframe thead th {\n",
       "        text-align: right;\n",
       "    }\n",
       "</style>\n",
       "<table border=\"1\" class=\"dataframe\">\n",
       "  <thead>\n",
       "    <tr style=\"text-align: right;\">\n",
       "      <th></th>\n",
       "      <th>0</th>\n",
       "      <th>1</th>\n",
       "      <th>2</th>\n",
       "    </tr>\n",
       "  </thead>\n",
       "  <tbody>\n",
       "    <tr>\n",
       "      <th>0</th>\n",
       "      <td>1.000000</td>\n",
       "      <td>-0.317953</td>\n",
       "      <td>0.036624</td>\n",
       "    </tr>\n",
       "    <tr>\n",
       "      <th>1</th>\n",
       "      <td>-0.317953</td>\n",
       "      <td>1.000000</td>\n",
       "      <td>0.030773</td>\n",
       "    </tr>\n",
       "    <tr>\n",
       "      <th>2</th>\n",
       "      <td>0.036624</td>\n",
       "      <td>0.030773</td>\n",
       "      <td>1.000000</td>\n",
       "    </tr>\n",
       "  </tbody>\n",
       "</table>\n",
       "</div>"
      ],
      "text/plain": [
       "          0         1         2\n",
       "0  1.000000 -0.317953  0.036624\n",
       "1 -0.317953  1.000000  0.030773\n",
       "2  0.036624  0.030773  1.000000"
      ]
     },
     "execution_count": 31,
     "metadata": {},
     "output_type": "execute_result"
    }
   ],
   "source": [
    "score_df.corr()"
   ]
  },
  {
   "cell_type": "code",
   "execution_count": 22,
   "id": "cc08011b-863e-4f46-bfc0-76218206a5a4",
   "metadata": {
    "tags": []
   },
   "outputs": [
    {
     "data": {
      "text/html": [
       "<div>\n",
       "<style scoped>\n",
       "    .dataframe tbody tr th:only-of-type {\n",
       "        vertical-align: middle;\n",
       "    }\n",
       "\n",
       "    .dataframe tbody tr th {\n",
       "        vertical-align: top;\n",
       "    }\n",
       "\n",
       "    .dataframe thead th {\n",
       "        text-align: right;\n",
       "    }\n",
       "</style>\n",
       "<table border=\"1\" class=\"dataframe\">\n",
       "  <thead>\n",
       "    <tr style=\"text-align: right;\">\n",
       "      <th></th>\n",
       "      <th>0</th>\n",
       "      <th>1</th>\n",
       "      <th>2</th>\n",
       "    </tr>\n",
       "  </thead>\n",
       "  <tbody>\n",
       "    <tr>\n",
       "      <th>0</th>\n",
       "      <td>1.040628</td>\n",
       "      <td>-0.026403</td>\n",
       "      <td>-0.088737</td>\n",
       "    </tr>\n",
       "    <tr>\n",
       "      <th>1</th>\n",
       "      <td>-0.026403</td>\n",
       "      <td>0.902941</td>\n",
       "      <td>0.034090</td>\n",
       "    </tr>\n",
       "    <tr>\n",
       "      <th>2</th>\n",
       "      <td>-0.088737</td>\n",
       "      <td>0.034090</td>\n",
       "      <td>0.921136</td>\n",
       "    </tr>\n",
       "  </tbody>\n",
       "</table>\n",
       "</div>"
      ],
      "text/plain": [
       "          0         1         2\n",
       "0  1.040628 -0.026403 -0.088737\n",
       "1 -0.026403  0.902941  0.034090\n",
       "2 -0.088737  0.034090  0.921136"
      ]
     },
     "execution_count": 22,
     "metadata": {},
     "output_type": "execute_result"
    }
   ],
   "source": [
    "score_df.dropna().cov()"
   ]
  },
  {
   "cell_type": "code",
   "execution_count": 26,
   "id": "9c46838f-f27f-4609-b897-678320dbf247",
   "metadata": {
    "tags": []
   },
   "outputs": [
    {
     "data": {
      "text/plain": [
       "0.98316515880533"
      ]
     },
     "execution_count": 26,
     "metadata": {},
     "output_type": "execute_result"
    }
   ],
   "source": [
    "score_df[1].var()"
   ]
  },
  {
   "cell_type": "code",
   "execution_count": null,
   "id": "ec4a0590-8503-4aa8-a80c-d68d9d6c66f0",
   "metadata": {},
   "outputs": [],
   "source": []
  },
  {
   "cell_type": "code",
   "execution_count": null,
   "id": "6e253611-fe59-4a7a-9031-c7aa1503c70f",
   "metadata": {},
   "outputs": [],
   "source": []
  },
  {
   "cell_type": "code",
   "execution_count": null,
   "id": "0117dbf2-cc4b-4251-ba31-a715a9c17298",
   "metadata": {},
   "outputs": [],
   "source": []
  },
  {
   "cell_type": "code",
   "execution_count": 14,
   "id": "dd622819-1ef3-42e2-8d8c-6bad0c701db4",
   "metadata": {
    "tags": []
   },
   "outputs": [
    {
     "data": {
      "text/plain": [
       "array([[        nan,         nan,  0.97873798],\n",
       "       [        nan,  1.86755799, -0.97727788],\n",
       "       [        nan, -0.15135721,         nan],\n",
       "       [ 0.4105985 ,         nan,  1.45427351],\n",
       "       [        nan,  0.12167502,         nan],\n",
       "       [        nan,         nan, -0.20515826],\n",
       "       [ 0.3130677 , -0.85409574, -2.55298982],\n",
       "       [        nan,  0.8644362 , -0.74216502],\n",
       "       [ 2.26975462, -1.45436567,  0.04575852],\n",
       "       [        nan,  1.53277921,  1.46935877]])"
      ]
     },
     "execution_count": 14,
     "metadata": {},
     "output_type": "execute_result"
    }
   ],
   "source": [
    "scores[:10]"
   ]
  },
  {
   "cell_type": "code",
   "execution_count": null,
   "id": "c61663d6-0a9d-48c5-bc20-151e843c4086",
   "metadata": {},
   "outputs": [],
   "source": []
  }
 ],
 "metadata": {
  "kernelspec": {
   "display_name": "Python 3 (ipykernel)",
   "language": "python",
   "name": "python3"
  },
  "language_info": {
   "codemirror_mode": {
    "name": "ipython",
    "version": 3
   },
   "file_extension": ".py",
   "mimetype": "text/x-python",
   "name": "python",
   "nbconvert_exporter": "python",
   "pygments_lexer": "ipython3",
   "version": "3.10.9"
  }
 },
 "nbformat": 4,
 "nbformat_minor": 5
}
