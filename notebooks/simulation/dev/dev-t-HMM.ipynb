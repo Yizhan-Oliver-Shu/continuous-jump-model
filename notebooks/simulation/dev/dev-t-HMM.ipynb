{
 "cells": [
  {
   "cell_type": "code",
   "execution_count": 1,
   "id": "832f640f-74d2-4830-93f2-3e0d76484c83",
   "metadata": {
    "tags": []
   },
   "outputs": [],
   "source": [
    "%load_ext autoreload\n",
    "%autoreload 2\n",
    "import sys, os\n",
    "from os.path import expanduser\n",
    "## actions required!!!!!!!!!!!!!!!!!!!! change your folder path \n",
    "path_repo = expanduser(\"~/Documents/G3_2/regime-identification\"); sys.path.append(path_repo)\n",
    "path_file = expanduser(\"~/data/G3_2/regime-identification/simulation\")\n",
    "path = {}\n",
    "for folder in [\"data\", \"estimation\", \"score\", \"figure\", \"latex\"]:\n",
    "    path[folder] = f\"{path_file}/{folder}\""
   ]
  },
  {
   "cell_type": "code",
   "execution_count": 2,
   "id": "a85d4ad3-9b8a-477b-a307-37d17cb38462",
   "metadata": {
    "tags": []
   },
   "outputs": [],
   "source": [
    "from hmmlearn.base import BaseHMM"
   ]
  },
  {
   "cell_type": "code",
   "execution_count": 18,
   "id": "58d3d9ad-e746-412f-af6a-922930b1403a",
   "metadata": {
    "tags": []
   },
   "outputs": [],
   "source": [
    "from regime.simulation_helper import *"
   ]
  },
  {
   "cell_type": "code",
   "execution_count": 3,
   "id": "adff9e51-daab-415b-961b-9c9c9d5ada73",
   "metadata": {
    "tags": []
   },
   "outputs": [],
   "source": [
    "import numpy as np\n",
    "from numpy.random import RandomState"
   ]
  },
  {
   "cell_type": "code",
   "execution_count": 4,
   "id": "39c9951d-e7de-421d-a111-4ba2993c8bbf",
   "metadata": {
    "tags": []
   },
   "outputs": [],
   "source": [
    "rng = RandomState(0)"
   ]
  },
  {
   "cell_type": "code",
   "execution_count": 6,
   "id": "6fea1f2e-5f00-4dc3-aced-21a89ce6a491",
   "metadata": {
    "tags": []
   },
   "outputs": [],
   "source": [
    "dof = 5"
   ]
  },
  {
   "cell_type": "code",
   "execution_count": 11,
   "id": "7f411d59-383a-4b66-8f9a-aed3de95a24e",
   "metadata": {
    "tags": []
   },
   "outputs": [],
   "source": [
    "Xs = rng.standard_t(dof, size=(10000))"
   ]
  },
  {
   "cell_type": "code",
   "execution_count": 12,
   "id": "21619d07-b62e-467a-947c-476851340554",
   "metadata": {
    "tags": []
   },
   "outputs": [
    {
     "data": {
      "text/plain": [
       "1.2734326189102665"
      ]
     },
     "execution_count": 12,
     "metadata": {},
     "output_type": "execute_result"
    }
   ],
   "source": [
    "Xs.std()"
   ]
  },
  {
   "cell_type": "code",
   "execution_count": 13,
   "id": "62a8e62f-1be6-426b-b93a-3e78dcc7a0b9",
   "metadata": {
    "tags": []
   },
   "outputs": [
    {
     "data": {
      "text/plain": [
       "1.2909944487358056"
      ]
     },
     "execution_count": 13,
     "metadata": {},
     "output_type": "execute_result"
    }
   ],
   "source": [
    "np.sqrt(5/3)"
   ]
  },
  {
   "cell_type": "code",
   "execution_count": 29,
   "id": "460c2947-2c97-43e9-bdd4-2d33e328ec6a",
   "metadata": {
    "tags": []
   },
   "outputs": [],
   "source": [
    "class tHMM(BaseHMM):\n",
    "    def __init__(self, n_components, random_state):\n",
    "        super().__init__(n_components=n_components, random_state=random_state,)\n",
    "    \n",
    "    def _check(self):\n",
    "        return \n",
    "    \n",
    "    def _generate_sample_from_state(self, state, random_state):\n",
    "        \"\"\"\n",
    "        Generate a random sample from a given component.\n",
    "        Parameters\n",
    "        ----------\n",
    "        state : int\n",
    "            Index of the component to condition on.\n",
    "        random_state: RandomState\n",
    "            A random number generator instance.  (`sample` is the only caller\n",
    "            for this method and already normalizes *random_state*.)\n",
    "        Returns\n",
    "        -------\n",
    "        X : array, shape (n_features, )\n",
    "            A random sample from the emission distribution corresponding\n",
    "            to a given component.\n",
    "        \"\"\"\n",
    "        return self.means_[state, 0] + np.sqrt(self.covars_[state, 0] * (self.dof_-2)/self.dof_) * random_state.standard_t(self.dof_)    "
   ]
  },
  {
   "cell_type": "code",
   "execution_count": 50,
   "id": "2b8a9497-70a2-4c96-83fb-a40a17672d39",
   "metadata": {
    "tags": []
   },
   "outputs": [],
   "source": [
    "def get_tHMM_model(means_, covars_, transmat_, dof_, startprob_=None, random_state=None):\n",
    "    \"\"\"\n",
    "    get a GaussianHMM model with the given params. The instance won't update any parameter if fit method is called. \n",
    "    \"\"\"\n",
    "    n_c, n_f = means_.shape\n",
    "    random_state = check_random_state(random_state)\n",
    "    \n",
    "    if startprob_ is None:\n",
    "        startprob_ = invariant_dist_transmat_(transmat_)\n",
    "        \n",
    "    hmm_model = tHMM(n_components=n_c, random_state=random_state)\n",
    "    # hmm_model.n_features = n_f\n",
    "    hmm_model.dof_ = dof_\n",
    "    hmm_model.means_ = means_\n",
    "    hmm_model.covars_ = covars_\n",
    "    hmm_model.transmat_ = transmat_\n",
    "    hmm_model.startprob_ = startprob_\n",
    "    return hmm_model"
   ]
  },
  {
   "cell_type": "code",
   "execution_count": 51,
   "id": "c507b508-0541-476e-8190-49b1fde93152",
   "metadata": {
    "tags": []
   },
   "outputs": [],
   "source": [
    "thmm_model = get_tHMM_model(*load_hardy_params(\"daily\"), 5)"
   ]
  },
  {
   "cell_type": "code",
   "execution_count": null,
   "id": "a7fe9d07-6013-43e1-ba14-a83de36f9863",
   "metadata": {},
   "outputs": [],
   "source": []
  },
  {
   "cell_type": "code",
   "execution_count": null,
   "id": "26fb837b-ea8d-443d-9e24-b5f9b111c40d",
   "metadata": {},
   "outputs": [],
   "source": []
  },
  {
   "cell_type": "code",
   "execution_count": null,
   "id": "1cb07a6a-8fb2-4915-abe0-325633fc55db",
   "metadata": {},
   "outputs": [],
   "source": []
  },
  {
   "cell_type": "code",
   "execution_count": 30,
   "id": "7d9eb498-f486-4ae0-9e38-ce632bc52738",
   "metadata": {
    "tags": []
   },
   "outputs": [],
   "source": [
    "thmm_model = tHMM(2, rng)"
   ]
  },
  {
   "cell_type": "code",
   "execution_count": 31,
   "id": "d08b259f-df74-4e28-9765-b8bd8087249a",
   "metadata": {
    "tags": []
   },
   "outputs": [],
   "source": [
    "thmm_model.means_, thmm_model.covars_, thmm_model.transmat_ = load_hardy_params(\"daily\")"
   ]
  },
  {
   "cell_type": "code",
   "execution_count": 32,
   "id": "79445f18-403b-4995-8f65-1caeeafe2283",
   "metadata": {
    "tags": []
   },
   "outputs": [],
   "source": [
    "thmm_model.dof_=5"
   ]
  },
  {
   "cell_type": "code",
   "execution_count": 34,
   "id": "c99973fc-6b73-4b91-bfec-eea4d604f41f",
   "metadata": {
    "tags": []
   },
   "outputs": [],
   "source": [
    "from tqdm import trange"
   ]
  },
  {
   "cell_type": "code",
   "execution_count": 44,
   "id": "9f94952a-5449-4f2e-82e2-aab869a8432b",
   "metadata": {
    "tags": []
   },
   "outputs": [
    {
     "name": "stderr",
     "output_type": "stream",
     "text": [
      "100%|████████████████████████████████████████████████████████████████████████████████████████████████████████████████████████████████████| 100000/100000 [00:00<00:00, 755509.92it/s]\n"
     ]
    }
   ],
   "source": [
    "res = []\n",
    "for i in trange(100000):\n",
    "    res.append(thmm_model._generate_sample_from_state(1, thmm_model.random_state))"
   ]
  },
  {
   "cell_type": "code",
   "execution_count": 47,
   "id": "08f70bec-86eb-464f-823b-acbc8329f573",
   "metadata": {
    "tags": []
   },
   "outputs": [
    {
     "data": {
      "text/plain": [
       "-0.0007372555042821692"
      ]
     },
     "execution_count": 47,
     "metadata": {},
     "output_type": "execute_result"
    }
   ],
   "source": [
    "np.array(res).mean()"
   ]
  },
  {
   "cell_type": "code",
   "execution_count": 48,
   "id": "eabb15fa-499c-48a1-a356-f9ae6f3b1ef6",
   "metadata": {
    "tags": []
   },
   "outputs": [
    {
     "data": {
      "text/plain": [
       "array([[ 0.000615],\n",
       "       [-0.000785]])"
      ]
     },
     "execution_count": 48,
     "metadata": {},
     "output_type": "execute_result"
    }
   ],
   "source": [
    "thmm_model.means_"
   ]
  },
  {
   "cell_type": "code",
   "execution_count": 46,
   "id": "63f73aea-0369-459a-9998-cef0411ae700",
   "metadata": {
    "tags": []
   },
   "outputs": [
    {
     "data": {
      "text/plain": [
       "array([[0.00775916],\n",
       "       [0.01739661]])"
      ]
     },
     "execution_count": 46,
     "metadata": {},
     "output_type": "execute_result"
    }
   ],
   "source": [
    "np.sqrt(thmm_model.covars_)"
   ]
  },
  {
   "cell_type": "code",
   "execution_count": null,
   "id": "a9ed6d7f-c2ea-4856-8611-1462c439eb01",
   "metadata": {},
   "outputs": [],
   "source": []
  },
  {
   "cell_type": "code",
   "execution_count": 33,
   "id": "3022e2da-aa4c-42a2-bde0-6af7321f2eaa",
   "metadata": {
    "tags": []
   },
   "outputs": [
    {
     "data": {
      "text/plain": [
       "0.008659769253273074"
      ]
     },
     "execution_count": 33,
     "metadata": {},
     "output_type": "execute_result"
    }
   ],
   "source": [
    "thmm_model._generate_sample_from_state(0, thmm_model.random_state)"
   ]
  },
  {
   "cell_type": "code",
   "execution_count": null,
   "id": "21d91a1c-642e-4018-8101-ae327317f7e9",
   "metadata": {},
   "outputs": [],
   "source": []
  },
  {
   "cell_type": "code",
   "execution_count": 19,
   "id": "5c633147-1ecb-40fd-a8dc-85dfe3126701",
   "metadata": {
    "tags": []
   },
   "outputs": [
    {
     "data": {
      "text/plain": [
       "(array([[ 0.000615],\n",
       "        [-0.000785]]),\n",
       " array([[6.02045e-05],\n",
       "        [3.02642e-04]]),\n",
       " array([[0.99788424, 0.00211576],\n",
       "        [0.01198171, 0.98801829]]))"
      ]
     },
     "execution_count": 19,
     "metadata": {},
     "output_type": "execute_result"
    }
   ],
   "source": [
    "load_hardy_params(\"daily\")"
   ]
  },
  {
   "cell_type": "code",
   "execution_count": null,
   "id": "2680dbeb-0310-4676-9a39-f37cc2e72c3c",
   "metadata": {},
   "outputs": [],
   "source": []
  },
  {
   "cell_type": "code",
   "execution_count": null,
   "id": "ed4c2901-f1d3-48ac-90a1-a8b3c95612bf",
   "metadata": {},
   "outputs": [],
   "source": [
    "    def _generate_sample_from_state(self, state, random_state):\n",
    "        return random_state.multivariate_normal(\n",
    "            self.means_[state], self.covars_[state]\n",
    "        )\n"
   ]
  },
  {
   "cell_type": "code",
   "execution_count": null,
   "id": "5b5b4d1f-87a6-4621-be24-544fd46171ad",
   "metadata": {},
   "outputs": [],
   "source": []
  }
 ],
 "metadata": {
  "kernelspec": {
   "display_name": "Python 3 (ipykernel)",
   "language": "python",
   "name": "python3"
  },
  "language_info": {
   "codemirror_mode": {
    "name": "ipython",
    "version": 3
   },
   "file_extension": ".py",
   "mimetype": "text/x-python",
   "name": "python",
   "nbconvert_exporter": "python",
   "pygments_lexer": "ipython3",
   "version": "3.10.9"
  }
 },
 "nbformat": 4,
 "nbformat_minor": 5
}
