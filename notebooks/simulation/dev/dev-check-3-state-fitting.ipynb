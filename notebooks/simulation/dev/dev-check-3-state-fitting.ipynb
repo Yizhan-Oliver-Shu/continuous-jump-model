{
 "cells": [
  {
   "cell_type": "code",
   "execution_count": 1,
   "id": "5f479da6-bc2f-4893-b0ee-e9b5f9ad5405",
   "metadata": {
    "tags": []
   },
   "outputs": [],
   "source": [
    "## timelimit = 02:45:00 \n",
    "%load_ext autoreload\n",
    "%autoreload 2\n",
    "import sys, os\n",
    "from os.path import expanduser\n",
    "## actions required!!!!!!!!!!!!!!!!!!!! change your folder path \n",
    "path_repo = expanduser(\"~/Documents/G3_2/regime-identification\"); sys.path.append(path_repo)\n",
    "path_file = expanduser(\"~/data/G3_2/regime-identification/simulation\")\n",
    "path = {}\n",
    "for folder in [\"data\", \"estimation\"]:\n",
    "    path[folder] = f\"{path_file}/{folder}\"\n",
    "\n",
    "job_id = 0 #int(os.environ[\"SLURM_ARRAY_TASK_ID\"])"
   ]
  },
  {
   "cell_type": "code",
   "execution_count": 2,
   "id": "8a8512ea-bee3-4fae-a18d-0a8f7dfa85ad",
   "metadata": {
    "tags": []
   },
   "outputs": [],
   "source": [
    "from numpy.random import RandomState"
   ]
  },
  {
   "cell_type": "code",
   "execution_count": 3,
   "id": "8b49e00e-e0ba-4661-9d43-846d6bf85ee6",
   "metadata": {
    "tags": []
   },
   "outputs": [],
   "source": [
    "from regime.jump import *\n",
    "from regime.simulation_helper import *"
   ]
  },
  {
   "cell_type": "code",
   "execution_count": 4,
   "id": "210958fe-8cfe-4a82-adc6-676bf4aa825a",
   "metadata": {
    "tags": []
   },
   "outputs": [],
   "source": [
    "n_c = 3\n",
    "batch_size = 4"
   ]
  },
  {
   "cell_type": "code",
   "execution_count": 5,
   "id": "4c8e3875-19a6-41a6-9bf1-72bd25c83ce9",
   "metadata": {
    "tags": []
   },
   "outputs": [],
   "source": [
    "random_state = RandomState(10)\n",
    "model_discrete = jump_model(n_c, state_type=\"discrete\", random_state=random_state)\n",
    "model_cont_mode = jump_model(n_c, state_type=\"cont\", grid_size=.05, mode_loss=True, random_state=random_state)\n",
    "model_cont = jump_model(n_c, state_type=\"cont\", grid_size=.05, mode_loss=False, random_state=random_state)\n",
    "model_dict_jump = {\"discrete\": model_discrete, \"cont-mode\": model_cont_mode, \"cont\": model_cont}"
   ]
  },
  {
   "cell_type": "code",
   "execution_count": 6,
   "id": "667ec26b-18b8-40ee-854c-553ea80739b5",
   "metadata": {
    "tags": []
   },
   "outputs": [
    {
     "name": "stdout",
     "output_type": "stream",
     "text": [
      "[1.00000000e-02 1.00000000e-01 1.00000000e+00 1.00000000e+01\n",
      " 2.15443469e+01 4.64158883e+01 1.00000000e+02 2.15443469e+02\n",
      " 4.64158883e+02 1.00000000e+03 2.15443469e+03 4.64158883e+03\n",
      " 1.00000000e+04 1.00000000e+05 1.00000000e+06]\n"
     ]
    }
   ],
   "source": [
    "param_grid = generate_param_grid()"
   ]
  },
  {
   "cell_type": "code",
   "execution_count": 7,
   "id": "40201fda-801a-4ec7-baca-56d7de77a764",
   "metadata": {
    "tags": []
   },
   "outputs": [],
   "source": [
    "key_feat_jump = [\"zhengB\"]"
   ]
  },
  {
   "cell_type": "code",
   "execution_count": 9,
   "id": "a05c3d05-db6c-468b-9ad3-96e0ac18e9f8",
   "metadata": {
    "tags": []
   },
   "outputs": [],
   "source": [
    "job_id = 3"
   ]
  },
  {
   "cell_type": "code",
   "execution_count": 8,
   "id": "cf331776-b502-413b-a8a2-5bca09fd9089",
   "metadata": {
    "tags": []
   },
   "outputs": [],
   "source": [
    "key_data = \"3-state-daily\"\n",
    "name = \"modelParams\"\n",
    "key_len = 250\n",
    "key_feat = \"zhengB\"\n",
    "key_model = \"discrete\"\n",
    "folder = \"estimation\""
   ]
  },
  {
   "cell_type": "code",
   "execution_count": 10,
   "id": "35481860-961c-45db-8d05-222099e27079",
   "metadata": {
    "tags": []
   },
   "outputs": [],
   "source": [
    "start = job_id * batch_size; end = start + batch_size"
   ]
  },
  {
   "cell_type": "code",
   "execution_count": 13,
   "id": "4a58fa69-0424-4b69-a932-1118e052f4ec",
   "metadata": {
    "tags": []
   },
   "outputs": [],
   "source": [
    "Zs = load_file(path, \"data\", key_data, \"Zs\", key_len)[start:end]"
   ]
  },
  {
   "cell_type": "code",
   "execution_count": 19,
   "id": "fd381fa9-9640-4e19-86e2-1e003ac4d940",
   "metadata": {
    "tags": []
   },
   "outputs": [],
   "source": [
    "filename = \"Xs_250_zhengB.npy\""
   ]
  },
  {
   "cell_type": "code",
   "execution_count": 20,
   "id": "93675df3-99ff-47ff-b136-36595317b3b4",
   "metadata": {
    "tags": []
   },
   "outputs": [],
   "source": [
    "Xs = np.load(f\"{path['data']}/{key_data}/{filename}\")[start:end]"
   ]
  },
  {
   "cell_type": "code",
   "execution_count": 28,
   "id": "d8047ade-b4cc-4894-b52b-77ae017d2f44",
   "metadata": {
    "tags": []
   },
   "outputs": [],
   "source": [
    "model_params_arr, labels_arr, proba_arr = model_fit_batch(model_discrete, Xs, Zs, True)#model_fit_batch_with_params(model_discrete, Xs, Zs, param_grid, True)"
   ]
  },
  {
   "cell_type": "code",
   "execution_count": null,
   "id": "ede1f27d-4ebf-4787-995c-2cdad2ddbc33",
   "metadata": {},
   "outputs": [],
   "source": [
    "def model_fit_batch(model, Xs, Zs, align=True):\n",
    "    \"\"\"\n",
    "    fit a model on a batch of data. save model parameters, and fitted labels & proba.\n",
    "    need the true labels to do alignments (i.e. the permutation with the highest overall accuracy)\n",
    "\n",
    "        \n",
    "    Paramaters:\n",
    "    ---------------------\n",
    "    model: a model instance.\n",
    "    \n",
    "    Xs: array of size (n_t, n_s, n_f)\n",
    "        input data\n",
    "        \n",
    "    Zs: array (n_t, n_s)\n",
    "        true labels\n",
    "        \n",
    "    Returns:\n",
    "    -------------------------\n",
    "    model_params_arr: (n_t, n_c**2 + n_c)\n",
    "    \n",
    "    labels_arr: array of size (n_t, n_s)\n",
    "    \n",
    "    proba_arr: array of size (n_t, n_s, n_c)\n",
    "    \"\"\"\n",
    "    n_t, n_s, _ = Xs.shape\n",
    "    n_c = model.n_components\n",
    "\n",
    "    res_list = []\n",
    "    # estimate\n",
    "    # for i_t in trange(n_t):\n",
    "    for i_t in range(n_t):\n",
    "        X, Z = Xs[i_t], Zs[i_t]\n",
    "        # fit\n",
    "        model.fit(X)\n",
    "        # save dict result\n",
    "        res_list.append(extract_results_from_model(model, X_=X[:, 0]))\n",
    "    # dict of results\n",
    "    res = combine_list_dict(res_list)\n",
    "    # align with true labels\n",
    "    if align:\n",
    "        res = align_estimation_results_batch(Zs, res)\n",
    "    # combine model params\n",
    "    model_params_arr = combine_model_param_estimation(res[\"means_\"], res[\"covars_\"], res[\"transmat_\"])\n",
    "    labels_arr = res[\"labels_\"]; proba_arr = res[\"proba_\"]\n",
    "    return model_params_arr, labels_arr, proba_arr"
   ]
  },
  {
   "cell_type": "code",
   "execution_count": 67,
   "id": "8ef0eb9f-f225-40c2-9fd1-99a8c34bbc91",
   "metadata": {
    "tags": []
   },
   "outputs": [],
   "source": [
    "model_params_arr, labels_arr, proba_arr = model_fit_batch(model, Xs, Zs, align=True)"
   ]
  },
  {
   "cell_type": "code",
   "execution_count": 70,
   "id": "587aea9e-5d3e-4693-9cfb-d13cb9d373e7",
   "metadata": {
    "tags": []
   },
   "outputs": [
    {
     "data": {
      "text/plain": [
       "(4, 250, 3)"
      ]
     },
     "execution_count": 70,
     "metadata": {},
     "output_type": "execute_result"
    }
   ],
   "source": [
    "proba_arr.shape"
   ]
  },
  {
   "cell_type": "code",
   "execution_count": null,
   "id": "cacf64a3-fd5a-419f-84c9-0b1210113ed4",
   "metadata": {},
   "outputs": [],
   "source": []
  },
  {
   "cell_type": "code",
   "execution_count": 46,
   "id": "d52bf4af-93f2-4e31-9fac-3b1228be5cdc",
   "metadata": {
    "tags": []
   },
   "outputs": [],
   "source": [
    "model=model_discrete"
   ]
  },
  {
   "cell_type": "code",
   "execution_count": 47,
   "id": "1d973079-5d7a-48d9-81c3-3094a7514ebd",
   "metadata": {
    "tags": []
   },
   "outputs": [],
   "source": [
    "n_t, n_s, _ = Xs.shape\n",
    "n_c = model.n_components\n",
    "\n",
    "res_list = []"
   ]
  },
  {
   "cell_type": "code",
   "execution_count": 48,
   "id": "7a454740-b3bb-493f-bdc1-1b8715eb5480",
   "metadata": {
    "tags": []
   },
   "outputs": [],
   "source": [
    "i_t=0"
   ]
  },
  {
   "cell_type": "code",
   "execution_count": 49,
   "id": "a3bc2f01-920b-461f-828b-e27252c0a3ff",
   "metadata": {
    "tags": []
   },
   "outputs": [],
   "source": [
    "X, Z = Xs[i_t], Zs[i_t]\n",
    "# fit\n",
    "model.fit(X)\n",
    "# save dict result\n",
    "res_list.append(extract_results_from_model(model, X_=X[:, 0]))"
   ]
  },
  {
   "cell_type": "code",
   "execution_count": 55,
   "id": "f07a7466-4072-4203-9b04-cabf40c47c74",
   "metadata": {
    "tags": []
   },
   "outputs": [],
   "source": [
    "res = combine_list_dict(res_list)"
   ]
  },
  {
   "cell_type": "code",
   "execution_count": null,
   "id": "4725933a-e65e-46e2-964e-439ea57d5da2",
   "metadata": {},
   "outputs": [],
   "source": []
  },
  {
   "cell_type": "code",
   "execution_count": null,
   "id": "5c5a6b4b-85ce-42b2-ba20-a8a0ce5d6941",
   "metadata": {},
   "outputs": [],
   "source": []
  },
  {
   "cell_type": "code",
   "execution_count": null,
   "id": "fc48c053-b929-4c41-b175-6b710e68781c",
   "metadata": {},
   "outputs": [],
   "source": []
  },
  {
   "cell_type": "code",
   "execution_count": null,
   "id": "31ba348d-879b-49c8-881b-4d91232f2812",
   "metadata": {},
   "outputs": [],
   "source": []
  },
  {
   "cell_type": "code",
   "execution_count": null,
   "id": "93ad82ae-e8a4-475b-b2b5-52aa4b138554",
   "metadata": {},
   "outputs": [],
   "source": []
  },
  {
   "cell_type": "code",
   "execution_count": null,
   "id": "ac2a9bca-bb83-48d7-8f35-d28476887dd9",
   "metadata": {},
   "outputs": [],
   "source": []
  },
  {
   "cell_type": "code",
   "execution_count": null,
   "id": "78361bcc-24b4-4d50-ba85-1566bc8c66e6",
   "metadata": {},
   "outputs": [],
   "source": [
    "n_t, n_s, _ = Xs.shape\n",
    "n_c = model.n_components\n",
    "\n",
    "res_list = []\n",
    "# estimate\n",
    "# for i_t in trange(n_t):\n",
    "for i_t in range(n_t):\n",
    "    X, Z = Xs[i_t], Zs[i_t]\n",
    "    # fit\n",
    "    model.fit(X)\n",
    "    # save dict result\n",
    "    res_list.append(extract_results_from_model(model, X_=X[:, 0]))\n",
    "# dict of results\n",
    "res = combine_list_dict(res_list)\n",
    "# align with true labels\n",
    "if align:\n",
    "    res = align_estimation_results_batch(Zs, res)\n",
    "# combine model params\n",
    "model_params_arr = combine_model_param_estimation(res[\"means_\"], res[\"covars_\"], res[\"transmat_\"])\n",
    "labels_arr = res[\"labels_\"]; proba_arr = res[\"proba_\"]"
   ]
  },
  {
   "cell_type": "code",
   "execution_count": null,
   "id": "271cb131-c71d-44ff-bd08-b9f806fa487b",
   "metadata": {},
   "outputs": [],
   "source": []
  },
  {
   "cell_type": "code",
   "execution_count": null,
   "id": "b679c488-024d-42fc-9626-099bd9f4fd9c",
   "metadata": {},
   "outputs": [],
   "source": []
  },
  {
   "cell_type": "code",
   "execution_count": null,
   "id": "631b9727-51c6-4ca9-9972-4870e47c4448",
   "metadata": {},
   "outputs": [],
   "source": []
  },
  {
   "cell_type": "code",
   "execution_count": null,
   "id": "4ce567cb-e364-4a6e-9036-2dd90bdab3de",
   "metadata": {},
   "outputs": [],
   "source": []
  },
  {
   "cell_type": "code",
   "execution_count": null,
   "id": "e948884f-5282-47e6-aa00-c76f05a2fa9a",
   "metadata": {},
   "outputs": [],
   "source": []
  },
  {
   "cell_type": "code",
   "execution_count": null,
   "id": "98b7826a-fa83-4762-af18-30e486179f1b",
   "metadata": {},
   "outputs": [],
   "source": []
  },
  {
   "cell_type": "code",
   "execution_count": 29,
   "id": "435756ab-25f6-4a54-85dc-623b44300369",
   "metadata": {
    "tags": []
   },
   "outputs": [
    {
     "data": {
      "text/plain": [
       "(4, 6)"
      ]
     },
     "execution_count": 29,
     "metadata": {},
     "output_type": "execute_result"
    }
   ],
   "source": [
    "model_params_arr.shape"
   ]
  },
  {
   "cell_type": "code",
   "execution_count": 26,
   "id": "d9f648d9-cc16-4683-b95e-51fef16a16b0",
   "metadata": {
    "tags": []
   },
   "outputs": [
    {
     "data": {
      "text/plain": [
       "(4, 250, 2, 15)"
      ]
     },
     "execution_count": 26,
     "metadata": {},
     "output_type": "execute_result"
    }
   ],
   "source": [
    "proba_arr.shape"
   ]
  },
  {
   "cell_type": "code",
   "execution_count": null,
   "id": "cb0e766d-37cc-4b3a-a79a-3a0d6d081713",
   "metadata": {},
   "outputs": [],
   "source": []
  },
  {
   "cell_type": "code",
   "execution_count": null,
   "id": "c435d00f-5c04-4dcd-9991-284aa93caf63",
   "metadata": {},
   "outputs": [],
   "source": []
  },
  {
   "cell_type": "code",
   "execution_count": null,
   "id": "52a3bafa-04a0-485c-87a5-51213b4cc21d",
   "metadata": {},
   "outputs": [],
   "source": []
  },
  {
   "cell_type": "code",
   "execution_count": null,
   "id": "175c69a6-6729-4fd0-8103-dce5ca84ebb7",
   "metadata": {},
   "outputs": [],
   "source": [
    "def model_fit_many_datas_models(key_data_list, key_feat_list, model_dict, param_grid, path, job_id, batch_size, n_s_list=None, align=True):\n",
    "    \"\"\"\n",
    "    train a collection of models, w/ hyperparams to tune, on a batch of data from many datasets.\n",
    "    can specify the seq length to fit, or fit all in the folder.\n",
    "    \"\"\"\n",
    "    key_data_list, key_feat_list = raise_str_to_list(key_data_list), raise_str_to_list(key_feat_list)\n",
    "    #\n",
    "    start = job_id * batch_size; end = start + batch_size\n",
    "    N_combos = len(key_data_list) * len(key_feat_list) * len(model_dict)\n",
    "    count = 0; time_old = time.time(); total_time=0.\n",
    "    for key_data, key_feat in product(key_data_list, key_feat_list):\n",
    "        folder = f\"{path['data']}/{key_data}\"\n",
    "        if n_s_list is not None:\n",
    "            filenames = [f\"Xs_{n_s}_{key_feat}.npy\" for n_s in n_s_list]\n",
    "        else:\n",
    "            filenames = filter_filenames_in_folder(folder, key_feat)\n",
    "        for key_model, model in model_dict.items():\n",
    "            count+=1; print(f\"{count}/{N_combos} combo starts.\")\n",
    "            for filename in filenames:\n",
    "                Xs = np.load(f\"{folder}/{filename}\")[start:end]\n",
    "                n_s = int(filename.split('_')[1]); Zs = load_file(path, \"data\", key_data, \"Zs\", n_s)[start:end]\n",
    "                # train the model, on a param grid, on a batch of data\n",
    "                model_params_arr, labels_arr, proba_arr = model_fit_batch_with_params(model, Xs, Zs, param_grid, align)\n",
    "                # save results\n",
    "                save_file({\"modelParams\": model_params_arr,\n",
    "                          \"labels\": labels_arr,\n",
    "                          \"proba\": proba_arr}, \n",
    "                          path, \"estimation\", key_data, None, n_s, key_feat, key_model, job_id)\n",
    "            time_now = time.time(); time_this_iter = time_now-time_old; total_time += time_this_iter; time_old = time_now\n",
    "            print(f\"{count}/{N_combos} combo done. Time of this combo: {print_seconds(time_this_iter)}s. Total time: {print_seconds(total_time)}s.\")\n",
    "    return \n"
   ]
  }
 ],
 "metadata": {
  "kernelspec": {
   "display_name": "Python 3 (ipykernel)",
   "language": "python",
   "name": "python3"
  },
  "language_info": {
   "codemirror_mode": {
    "name": "ipython",
    "version": 3
   },
   "file_extension": ".py",
   "mimetype": "text/x-python",
   "name": "python",
   "nbconvert_exporter": "python",
   "pygments_lexer": "ipython3",
   "version": "3.10.9"
  }
 },
 "nbformat": 4,
 "nbformat_minor": 5
}
