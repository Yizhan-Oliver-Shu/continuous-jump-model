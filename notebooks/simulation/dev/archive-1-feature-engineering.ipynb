{
 "cells": [
  {
   "cell_type": "code",
   "execution_count": 1,
   "id": "88a51e4b-aa81-4377-a2d3-d5e43d9be918",
   "metadata": {
    "tags": []
   },
   "outputs": [],
   "source": [
    "%load_ext autoreload\n",
    "%autoreload 2\n",
    "import sys, os\n",
    "from os.path import expanduser\n",
    "## actions required!!!!!!!!!!!!!!!!!!!! change your folder path \n",
    "path = expanduser(\"~/Documents/G3_2/regime-identification\")\n",
    "sys.path.append(path)\n",
    "\n",
    "path_file = expanduser(\"~/data/G3_2/regime-identification/simulation\")\n",
    "path_data = f\"{path_file}/data\"\n",
    "path_estimation = f\"{path_file}/estimation\"\n",
    "path_score = f\"{path_file}/score\"\n",
    "path_figure = f\"{path_file}/figure\""
   ]
  },
  {
   "cell_type": "code",
   "execution_count": 2,
   "id": "fa90703e-2c0d-45c8-bdc9-eb55cb2b0806",
   "metadata": {
    "tags": []
   },
   "outputs": [],
   "source": [
    "import numpy as np"
   ]
  },
  {
   "cell_type": "code",
   "execution_count": 8,
   "id": "7af115dc-6da4-404c-9449-78289800fdfd",
   "metadata": {
    "tags": []
   },
   "outputs": [],
   "source": [
    "from regime.simulation_helper import *\n",
    "from regime.stats import *"
   ]
  },
  {
   "cell_type": "markdown",
   "id": "369a2c11-22c0-42a9-8a22-ea631a455488",
   "metadata": {
    "jp-MarkdownHeadingCollapsed": true,
    "tags": []
   },
   "source": [
    "# 1-feature-engineering\n",
    "\n",
    "In this notebook we perform feature engineering."
   ]
  },
  {
   "cell_type": "markdown",
   "id": "f223f8c5-746d-455f-a358-70204d33ec0b",
   "metadata": {},
   "source": [
    "#  Zheng features"
   ]
  },
  {
   "cell_type": "code",
   "execution_count": 4,
   "id": "9ef30224-1dc3-4142-923a-ad8ce05a6044",
   "metadata": {
    "tags": []
   },
   "outputs": [],
   "source": [
    "n_s_lst = [250, 500, 1000]\n",
    "n_t, n_buffer = 1024, 20\n",
    "\n",
    "key_data_list_dict = generate_key_data_list_dict()"
   ]
  },
  {
   "cell_type": "code",
   "execution_count": null,
   "id": "477d83c4-912c-4af2-901a-740f15eefb2b",
   "metadata": {},
   "outputs": [],
   "source": []
  },
  {
   "cell_type": "code",
   "execution_count": null,
   "id": "cc300f7e-90c4-4650-b8ef-fcbad86e72fd",
   "metadata": {},
   "outputs": [],
   "source": []
  },
  {
   "cell_type": "code",
   "execution_count": null,
   "id": "9f20e5c6-c8d7-442d-83aa-f672b3e9a1a1",
   "metadata": {},
   "outputs": [],
   "source": []
  },
  {
   "cell_type": "code",
   "execution_count": 5,
   "id": "a922af25-74e4-4784-ae0e-068191bce6f1",
   "metadata": {
    "tags": []
   },
   "outputs": [
    {
     "name": "stdout",
     "output_type": "stream",
     "text": [
      "shape of the saved arr: (1024, 250, 15).\n",
      "shape of the saved arr: (1024, 500, 15).\n",
      "shape of the saved arr: (1024, 1000, 15).\n",
      "shape of the saved arr: (1024, 250, 15).\n",
      "shape of the saved arr: (1024, 500, 15).\n",
      "shape of the saved arr: (1024, 1000, 15).\n",
      "shape of the saved arr: (1024, 250, 15).\n",
      "shape of the saved arr: (1024, 500, 15).\n",
      "shape of the saved arr: (1024, 1000, 15).\n"
     ]
    }
   ],
   "source": [
    "feature_engineer(\"zhengBackward\", concat_dict_values_as_list(key_data_list_dict), n_buffer, path_data)"
   ]
  },
  {
   "cell_type": "code",
   "execution_count": 6,
   "id": "0637484e-2c89-4b3a-bf9c-e80d0471d585",
   "metadata": {
    "tags": []
   },
   "outputs": [
    {
     "name": "stdout",
     "output_type": "stream",
     "text": [
      "shape of the saved arr: (1024, 250, 15).\n",
      "shape of the saved arr: (1024, 500, 15).\n",
      "shape of the saved arr: (1024, 1000, 15).\n",
      "shape of the saved arr: (1024, 250, 15).\n",
      "shape of the saved arr: (1024, 500, 15).\n",
      "shape of the saved arr: (1024, 1000, 15).\n",
      "shape of the saved arr: (1024, 250, 15).\n",
      "shape of the saved arr: (1024, 500, 15).\n",
      "shape of the saved arr: (1024, 1000, 15).\n"
     ]
    }
   ],
   "source": [
    "feature_engineer(\"zhengForward\", concat_dict_values_as_list(key_data_list_dict), n_buffer, path_data)"
   ]
  },
  {
   "cell_type": "markdown",
   "id": "3fe56743-ba8b-4b57-a548-2d9dcbd827dd",
   "metadata": {},
   "source": [
    "# EMWA features"
   ]
  },
  {
   "cell_type": "code",
   "execution_count": 9,
   "id": "2b9b3bd1-a008-433c-9020-e960c56ccdd7",
   "metadata": {
    "tags": []
   },
   "outputs": [
    {
     "name": "stdout",
     "output_type": "stream",
     "text": [
      "shape of the saved arr: (1024, 250, 13).\n",
      "shape of the saved arr: (1024, 500, 13).\n",
      "shape of the saved arr: (1024, 1000, 13).\n",
      "shape of the saved arr: (1024, 250, 13).\n",
      "shape of the saved arr: (1024, 500, 13).\n",
      "shape of the saved arr: (1024, 1000, 13).\n",
      "shape of the saved arr: (1024, 250, 13).\n",
      "shape of the saved arr: (1024, 500, 13).\n",
      "shape of the saved arr: (1024, 1000, 13).\n"
     ]
    }
   ],
   "source": [
    "feature_engineer(\"ewm\", concat_dict_values_as_list(key_data_list_dict), n_buffer, path_data)"
   ]
  },
  {
   "cell_type": "code",
   "execution_count": null,
   "id": "79f3b711-51b3-4149-93f7-0b5455b4d348",
   "metadata": {},
   "outputs": [],
   "source": []
  }
 ],
 "metadata": {
  "kernelspec": {
   "display_name": "Python 3 (ipykernel)",
   "language": "python",
   "name": "python3"
  },
  "language_info": {
   "codemirror_mode": {
    "name": "ipython",
    "version": 3
   },
   "file_extension": ".py",
   "mimetype": "text/x-python",
   "name": "python",
   "nbconvert_exporter": "python",
   "pygments_lexer": "ipython3",
   "version": "3.10.9"
  },
  "toc-autonumbering": true
 },
 "nbformat": 4,
 "nbformat_minor": 5
}
