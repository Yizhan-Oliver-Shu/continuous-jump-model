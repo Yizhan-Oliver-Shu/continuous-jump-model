{
 "cells": [
  {
   "cell_type": "code",
   "execution_count": 1,
   "id": "051795bf-1bb5-4956-b95f-2c3c82d2afae",
   "metadata": {
    "tags": []
   },
   "outputs": [],
   "source": [
    "%load_ext autoreload\n",
    "%autoreload 2\n",
    "import sys, os\n",
    "from os.path import expanduser\n",
    "## actions required!!!!!!!!!!!!!!!!!!!! change your folder path \n",
    "path = expanduser(\"~/Documents/G3_2/regime-identification\")\n",
    "sys.path.append(path)\n",
    "\n",
    "path_file = expanduser(\"~/data/G3_2/regime-identification/simulation\")\n",
    "path_data = f\"{path_file}/data\"\n",
    "path_estimation = f\"{path_file}/estimation\"\n",
    "path_score = f\"{path_file}/score\"\n",
    "path_figure = f\"{path_file}/figure\""
   ]
  },
  {
   "cell_type": "code",
   "execution_count": 2,
   "id": "cb52d3c5-af9a-4a3a-8757-c1fcf31111b8",
   "metadata": {
    "tags": []
   },
   "outputs": [],
   "source": [
    "import numpy as np\n",
    "import pandas as pd\n",
    "from numpy.lib.stride_tricks import as_strided"
   ]
  },
  {
   "cell_type": "code",
   "execution_count": 3,
   "id": "4986a321-793f-45e6-a68b-3a379771f28f",
   "metadata": {
    "tags": []
   },
   "outputs": [],
   "source": [
    "from regime.stats import *"
   ]
  },
  {
   "cell_type": "code",
   "execution_count": 4,
   "id": "e9a56aad-dd3c-4f23-aaa7-7b081e0528bd",
   "metadata": {
    "tags": []
   },
   "outputs": [],
   "source": [
    "# # gpt4 through chatgpt plus wrote this.\n",
    "# def custom_slice(X, left, right):\n",
    "#     X = X.astype(float)\n",
    "#     n = X.shape[0]\n",
    "#     width = right - left + 1\n",
    "#     Y = np.empty((n, width))\n",
    "\n",
    "#     # Pad the original array with NaNs\n",
    "#     X_padded = np.pad(X, pad_width=((abs(left), abs(right)), (0, 0)), mode='constant', constant_values=np.nan)\n",
    "\n",
    "#     # Shift the indices according to the given left and right values\n",
    "#     shifted_start = abs(left) + left\n",
    "#     shifted_end = abs(left) + n + left\n",
    "\n",
    "#     # Use strides to get the desired shape and fill the values\n",
    "#     strides = X_padded.strides\n",
    "#     Y = as_strided(X_padded[shifted_start:shifted_end], shape=(n, width), strides=(strides[0], strides[0]))\n",
    "#     return Y"
   ]
  },
  {
   "cell_type": "code",
   "execution_count": 23,
   "id": "b533d1bf-da65-4984-8a74-507cc5a900e5",
   "metadata": {
    "tags": []
   },
   "outputs": [],
   "source": [
    "# def extract_mean_std_from_sliding_window(X, left, right):\n",
    "#     X_window = pd.DataFrame(custom_slice(X, left, right))\n",
    "#     return pd.DataFrame({\"mean\":X_window.mean(axis=1), \"std\":X_window.std(axis=1, ddof=1)}).to_numpy()\n",
    "# def custom_abs_diff(X, k):\n",
    "#     X_df = pd.DataFrame(X)\n",
    "#     return abs((X_df.shift(-k) - X_df.shift(-k+1)).to_numpy())"
   ]
  },
  {
   "cell_type": "code",
   "execution_count": 24,
   "id": "40f05bf6-ce3b-4210-bd9b-7bbb31086d3a",
   "metadata": {
    "tags": []
   },
   "outputs": [],
   "source": []
  },
  {
   "cell_type": "code",
   "execution_count": 25,
   "id": "90da62fe-a372-490b-8174-9612c77f8885",
   "metadata": {
    "tags": []
   },
   "outputs": [],
   "source": [
    "# def extract_features_zheng(X, backward = True):\n",
    "#     \"\"\"\n",
    "#     X is 2-dim.\n",
    "    \n",
    "#     extract:\n",
    "#     - x_t\n",
    "#     - |x_t-x_{t-1}|\n",
    "#     - |x_{t-1}-x_{t-2}|\n",
    "#     and for each window, its six features\n",
    "#     - mean, \n",
    "#     - std, \n",
    "#     - left mean, \n",
    "#     - left std, \n",
    "#     - right mean, \n",
    "#     - right std.    \n",
    "#     \"\"\"\n",
    "#     res = [X]\n",
    "#     if backward:\n",
    "#         res += [custom_abs_diff(X, 0), custom_abs_diff(X, -1)]\n",
    "#         for l in [6, 14]:\n",
    "#             for start, end in [[-l+1, 0], [-l+1, -int(l/2)], [-int(l/2)+1, 0]]:\n",
    "#                 res.append(extract_mean_std_from_sliding_window(X, start, end))\n",
    "#         return np.concatenate(res, axis=1)\n",
    "#     if not backward:\n",
    "#         res += [custom_abs_diff(X, 0), custom_abs_diff(X, 1)]\n",
    "#         for l in [5, 13]:\n",
    "#             temp = int(l/2)\n",
    "#             for start, end in [[-temp, temp], [-temp, 0], [0, temp]]:\n",
    "#                 res.append(extract_mean_std_from_sliding_window(X, start, end))\n",
    "#         return np.concatenate(res, axis=1)"
   ]
  },
  {
   "cell_type": "code",
   "execution_count": null,
   "id": "c9999114-5f17-41eb-a73b-6366326dd9bb",
   "metadata": {},
   "outputs": [],
   "source": [
    "# def extract_features_zheng_batch(Xs, backward = True):\n",
    "#     \"\"\"\n",
    "#     Xs is 3-dim.\n",
    "#     extract zheng features for a batch of sequences.\n",
    "    \n",
    "#     extract:\n",
    "#     - x_t\n",
    "#     - |x_t-x_{t-1}|\n",
    "#     - |x_{t-1}-x_{t-2}|\n",
    "#     and for each window, its six features\n",
    "#     - mean, \n",
    "#     - std, \n",
    "#     - left mean, \n",
    "#     - left std, \n",
    "#     - right mean, \n",
    "#     - right std.    \n",
    "#     \"\"\"\n",
    "#     return np.array([extract_features_zheng(X, backward) for X in Xs])"
   ]
  },
  {
   "cell_type": "code",
   "execution_count": 4,
   "id": "e735903f-b6bf-49bf-a2d5-5bddd8f4ceb5",
   "metadata": {
    "tags": []
   },
   "outputs": [],
   "source": [
    "Xs = np.load(f\"{path_data}/Xs_2StateDaily1000_raw.npy\")\n",
    "X=Xs[0]"
   ]
  },
  {
   "cell_type": "code",
   "execution_count": 5,
   "id": "5859adab-b7a4-49a4-97f2-4604513a0b7a",
   "metadata": {
    "tags": []
   },
   "outputs": [],
   "source": [
    "X_zheng_f = extract_features_zheng(X, False)"
   ]
  },
  {
   "cell_type": "code",
   "execution_count": 6,
   "id": "cd012cb3-4319-48e7-b4db-96309015b41d",
   "metadata": {
    "tags": []
   },
   "outputs": [],
   "source": [
    "X_zheng_b = extract_features_zheng(X, True)"
   ]
  },
  {
   "cell_type": "code",
   "execution_count": 7,
   "id": "7a0078dd-fe53-44e6-9299-308fe7007498",
   "metadata": {
    "tags": []
   },
   "outputs": [
    {
     "data": {
      "text/plain": [
       "array([0.00478432, 0.00219443, 0.00923969, 0.00448044, 0.00751653,\n",
       "       0.00350534, 0.00114149, 0.00555683, 0.01041996, 0.00248619,\n",
       "       0.00665155, 0.00369062, 0.00488732, 0.00161007, 0.00793048])"
      ]
     },
     "execution_count": 7,
     "metadata": {},
     "output_type": "execute_result"
    }
   ],
   "source": [
    "X_zheng_f[500]"
   ]
  },
  {
   "cell_type": "code",
   "execution_count": 8,
   "id": "c16444a7-517d-4c79-8a3e-ef842818b60a",
   "metadata": {
    "tags": []
   },
   "outputs": [
    {
     "data": {
      "text/plain": [
       "array([ 0.00478432,  0.00219443,  0.00055194,  0.00373718,  0.00535209,\n",
       "        0.00396901,  0.00837544,  0.00350534,  0.00114149, -0.00027286,\n",
       "        0.00772354, -0.00423633,  0.00828902,  0.00369062,  0.00488732])"
      ]
     },
     "execution_count": 8,
     "metadata": {},
     "output_type": "execute_result"
    }
   ],
   "source": [
    "X_zheng_b[500]"
   ]
  },
  {
   "cell_type": "code",
   "execution_count": null,
   "id": "2657d56d-bff0-43f9-be50-2961e1dedc3b",
   "metadata": {},
   "outputs": [],
   "source": []
  },
  {
   "cell_type": "code",
   "execution_count": null,
   "id": "e5319527-0ca5-4718-b59a-3519c0543060",
   "metadata": {},
   "outputs": [],
   "source": []
  },
  {
   "cell_type": "code",
   "execution_count": null,
   "id": "31f31b2c-5a59-4c20-a140-c6b119160adb",
   "metadata": {},
   "outputs": [],
   "source": []
  },
  {
   "cell_type": "code",
   "execution_count": 26,
   "id": "cb8afd98-5920-42ba-9303-8ce520fb2fd1",
   "metadata": {
    "tags": []
   },
   "outputs": [],
   "source": [
    "X_zheng_old = extract_features_zheng(X)"
   ]
  },
  {
   "cell_type": "code",
   "execution_count": 27,
   "id": "67860897-d0e1-42ed-83a7-2a050b4fe113",
   "metadata": {
    "tags": []
   },
   "outputs": [],
   "source": [
    "X_zheng_new = extract_features_zheng_new(X)"
   ]
  },
  {
   "cell_type": "code",
   "execution_count": 28,
   "id": "a2f76daa-f220-4f9e-8fd6-232ae01a93f6",
   "metadata": {
    "tags": []
   },
   "outputs": [
    {
     "data": {
      "text/plain": [
       "array([ 0.00478432,  0.00219443,  0.00055194,  0.00373718,  0.00488577,\n",
       "        0.00396901,  0.00683852,  0.00350534,  0.00093202, -0.00027286,\n",
       "        0.00744259, -0.00423633,  0.00767414,  0.00369062,  0.00452478])"
      ]
     },
     "execution_count": 28,
     "metadata": {},
     "output_type": "execute_result"
    }
   ],
   "source": [
    "X_zheng_new[500]"
   ]
  },
  {
   "cell_type": "code",
   "execution_count": 29,
   "id": "da4fa4c3-d6e9-47af-9c89-3c3f84536e9e",
   "metadata": {
    "tags": []
   },
   "outputs": [
    {
     "data": {
      "text/plain": [
       "array([ 0.00478432,  0.00219443,  0.00055194,  0.00373718,  0.00488577,\n",
       "        0.00396901,  0.00683852,  0.00350534,  0.00093202, -0.00027286,\n",
       "        0.00744259, -0.00423633,  0.00767414,  0.00369062,  0.00452478])"
      ]
     },
     "execution_count": 29,
     "metadata": {},
     "output_type": "execute_result"
    }
   ],
   "source": [
    "X_zheng_old[500]"
   ]
  },
  {
   "cell_type": "code",
   "execution_count": null,
   "id": "2bd75da8-d2f8-4a96-a851-a774b3a4cdd1",
   "metadata": {},
   "outputs": [],
   "source": []
  },
  {
   "cell_type": "code",
   "execution_count": null,
   "id": "1d51ce65-5d90-48a5-9dbd-b25b14abb349",
   "metadata": {},
   "outputs": [],
   "source": []
  },
  {
   "cell_type": "code",
   "execution_count": null,
   "id": "5fdc2f37-e839-4b8e-8c2a-8ec564e97638",
   "metadata": {},
   "outputs": [],
   "source": []
  },
  {
   "cell_type": "code",
   "execution_count": 9,
   "id": "bc7d51b1-1875-48b4-a8a9-1455100a0f32",
   "metadata": {
    "tags": []
   },
   "outputs": [
    {
     "data": {
      "text/plain": [
       "array([[[ 8.77533515e-03],\n",
       "        [ 8.44426658e-03],\n",
       "        [ 2.97537193e-03],\n",
       "        ...,\n",
       "        [-1.00074345e-02],\n",
       "        [-5.28861085e-03],\n",
       "        [ 1.68684007e-03]],\n",
       "\n",
       "       [[-5.87730126e-03],\n",
       "        [ 2.63490585e-03],\n",
       "        [ 7.89593953e-03],\n",
       "        ...,\n",
       "        [ 2.60174850e-03],\n",
       "        [ 1.15975009e-03],\n",
       "        [ 1.55025716e-03]],\n",
       "\n",
       "       [[ 1.19048043e-02],\n",
       "        [-5.73868725e-03],\n",
       "        [-9.53878497e-03],\n",
       "        ...,\n",
       "        [-3.59512934e-04],\n",
       "        [-3.80114747e-03],\n",
       "        [ 2.62776404e-02]],\n",
       "\n",
       "       ...,\n",
       "\n",
       "       [[ 8.61151949e-03],\n",
       "        [ 1.28025836e-02],\n",
       "        [ 6.84779732e-03],\n",
       "        ...,\n",
       "        [-1.54349476e-03],\n",
       "        [ 1.25445282e-03],\n",
       "        [-2.86007305e-03]],\n",
       "\n",
       "       [[ 4.86194126e-03],\n",
       "        [ 4.70553011e-03],\n",
       "        [ 9.11574704e-03],\n",
       "        ...,\n",
       "        [-8.79957656e-03],\n",
       "        [ 2.11064910e-05],\n",
       "        [-6.79041541e-03]],\n",
       "\n",
       "       [[ 7.46446023e-03],\n",
       "        [-9.96503047e-04],\n",
       "        [-1.83862808e-02],\n",
       "        ...,\n",
       "        [ 1.09731973e-02],\n",
       "        [ 1.39141765e-02],\n",
       "        [ 1.85950253e-02]]])"
      ]
     },
     "execution_count": 9,
     "metadata": {},
     "output_type": "execute_result"
    }
   ],
   "source": [
    "X"
   ]
  },
  {
   "cell_type": "code",
   "execution_count": null,
   "id": "a190bc6b-a0d1-4cf5-b706-29c26d7544b1",
   "metadata": {},
   "outputs": [],
   "source": []
  },
  {
   "cell_type": "code",
   "execution_count": null,
   "id": "c1072d37-5c6b-419d-82a6-908a05a2a5fa",
   "metadata": {},
   "outputs": [],
   "source": []
  },
  {
   "cell_type": "code",
   "execution_count": null,
   "id": "7c2ab661-11a1-431d-a27e-6c80ec4e4e7c",
   "metadata": {},
   "outputs": [],
   "source": []
  },
  {
   "cell_type": "code",
   "execution_count": null,
   "id": "8a7d8837-eb18-4f6f-a50c-47f45108bb9b",
   "metadata": {},
   "outputs": [],
   "source": []
  },
  {
   "cell_type": "code",
   "execution_count": null,
   "id": "9cd54ff8-4e6b-48cd-b938-efd72bb48254",
   "metadata": {},
   "outputs": [],
   "source": []
  },
  {
   "cell_type": "code",
   "execution_count": null,
   "id": "8a493cc6-7a22-4fb8-b063-8a6c7b5416f0",
   "metadata": {},
   "outputs": [],
   "source": [
    "def feature_engineer(key_feat, key_data_list, n_buffer, path_data):\n",
    "    if key_feat == \"zheng\":\n",
    "        for key_data in key_data_list:\n",
    "            Xs_raw = np.load(f\"{path_data}/Xs_{key_data}_raw.npy\")\n",
    "            Xs_feat = extract_features_zheng_batch(Xs_raw)[:, n_buffer:-n_buffer]\n",
    "            # save results\n",
    "            np_save_print(f\"{path_data}/Xs_{key_data}_{key_feat}.npy\", Xs_feat)\n",
    "        return \n",
    "    else:\n",
    "        raise NotImplementedError(\"feature not supported yet\")  "
   ]
  },
  {
   "cell_type": "code",
   "execution_count": null,
   "id": "64de9f88-02db-489b-84a0-0bc9a674445d",
   "metadata": {},
   "outputs": [],
   "source": []
  },
  {
   "cell_type": "code",
   "execution_count": null,
   "id": "808cf0aa-35e7-4386-a092-92c02e2215cc",
   "metadata": {},
   "outputs": [],
   "source": []
  },
  {
   "cell_type": "code",
   "execution_count": null,
   "id": "c739213b-c129-4269-a589-bec088210043",
   "metadata": {},
   "outputs": [],
   "source": []
  },
  {
   "cell_type": "code",
   "execution_count": null,
   "id": "39e59993-d9df-47d4-a656-865d0915a23b",
   "metadata": {},
   "outputs": [],
   "source": []
  },
  {
   "cell_type": "code",
   "execution_count": null,
   "id": "5bcf3300-dad6-4f2c-bcae-e39d1d8ce980",
   "metadata": {},
   "outputs": [],
   "source": []
  },
  {
   "cell_type": "code",
   "execution_count": null,
   "id": "94b55458-8f73-404b-9396-a5b222388b64",
   "metadata": {},
   "outputs": [],
   "source": []
  },
  {
   "cell_type": "code",
   "execution_count": null,
   "id": "48ef1b4e-c549-4899-815c-4cc13585472f",
   "metadata": {},
   "outputs": [],
   "source": [
    "\n",
    "\n",
    "\n",
    "def extract_features_zheng_batch(Xs, window_list = [[5, 0], [13, 0]]):\n",
    "    \"\"\"\n",
    "    Xs is 3-dim.\n",
    "    extract zheng features for a batch of sequences.\n",
    "    \n",
    "    extract:\n",
    "    - x_t\n",
    "    - |x_t-x_{t-1}|\n",
    "    - |x_{t-1}-x_{t-2}|\n",
    "    and for each window, its six features\n",
    "    - mean, \n",
    "    - std, \n",
    "    - left mean, \n",
    "    - left std, \n",
    "    - right mean, \n",
    "    - right std.    \n",
    "    \"\"\"\n",
    "    return np.array([extract_features_zheng(X, window_list) for X in Xs])\n",
    "\n"
   ]
  }
 ],
 "metadata": {
  "kernelspec": {
   "display_name": "Python 3 (ipykernel)",
   "language": "python",
   "name": "python3"
  },
  "language_info": {
   "codemirror_mode": {
    "name": "ipython",
    "version": 3
   },
   "file_extension": ".py",
   "mimetype": "text/x-python",
   "name": "python",
   "nbconvert_exporter": "python",
   "pygments_lexer": "ipython3",
   "version": "3.10.9"
  }
 },
 "nbformat": 4,
 "nbformat_minor": 5
}
