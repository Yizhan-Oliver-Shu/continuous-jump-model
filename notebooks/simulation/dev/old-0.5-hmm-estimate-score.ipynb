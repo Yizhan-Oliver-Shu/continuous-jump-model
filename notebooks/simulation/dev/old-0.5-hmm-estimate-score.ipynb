{
 "cells": [
  {
   "cell_type": "code",
   "execution_count": 1,
   "id": "b0024683-4d43-4399-af3a-053cb4d2e2c7",
   "metadata": {},
   "outputs": [],
   "source": [
    "%load_ext autoreload\n",
    "%autoreload 2\n",
    "import sys, os\n",
    "from os.path import expanduser\n",
    "## actions required!!!!!!!!!!!!!!!!!!!! change your folder path \n",
    "path = \"~/Documents/G3_2/regime-identification\"\n",
    "path = expanduser(path)\n",
    "sys.path.append(path)\n",
    "\n",
    "path_file = f\"~/data/G3_2/regime-identification/simulation\"\n",
    "path_file = expanduser(path_file)\n",
    "path_data = f\"{path_file}/data\"\n",
    "path_estimation = f\"{path_file}/estimation\"\n",
    "path_score = f\"{path_file}/score\""
   ]
  },
  {
   "cell_type": "code",
   "execution_count": 67,
   "id": "8a36cc49-de49-4c02-96ba-64be4a047f4b",
   "metadata": {},
   "outputs": [],
   "source": [
    "import numpy as np\n",
    "from sklearn.metrics import roc_auc_score\n",
    "from hmmlearn.hmm import GaussianHMM\n",
    "from tqdm import trange, tqdm\n",
    "import logging\n",
    "logging.basicConfig(level=logging.WARNING+1)\n",
    "\n",
    "from numpy.random import RandomState\n",
    "random_state = RandomState(0)"
   ]
  },
  {
   "cell_type": "code",
   "execution_count": 127,
   "id": "ea8a5ec4-e6ea-4f65-a311-d2d29d4839a8",
   "metadata": {},
   "outputs": [],
   "source": [
    "from regime.simulation_helper import *\n",
    "from regime.jump import _sort_centers_by_first_feature\n",
    "from regime.cluster_utils import *\n",
    "\n",
    "from sklearn.utils import check_random_state\n",
    "from sklearn.cluster import kmeans_plusplus"
   ]
  },
  {
   "cell_type": "markdown",
   "id": "aaa07b40-5bbd-46d5-b615-bafdfa76233b",
   "metadata": {},
   "source": [
    "# HMM estimation\n",
    "\n",
    "In this notebok we estimated the simulated sequence by HMMs."
   ]
  },
  {
   "cell_type": "code",
   "execution_count": 6,
   "id": "b807c533-20a6-43b8-8384-c94aae7a5edb",
   "metadata": {},
   "outputs": [],
   "source": [
    "scale_lst = [\"daily\", \"weekly\", \"monthly\"]\n",
    "n_s_lst = [250, 500, 1000]\n",
    "key_data_list = [f\"{scale}_{n_s}\" for scale in scale_lst for n_s in n_s_lst]\n",
    "\n",
    "n_buffer, n_t, n_c = 20, 1024, 2"
   ]
  },
  {
   "cell_type": "code",
   "execution_count": 5,
   "id": "9b1f2d7b-0c7c-4c07-b20a-2a71ee92654b",
   "metadata": {},
   "outputs": [
    {
     "data": {
      "text/plain": [
       "(array([[ 0.000615],\n",
       "        [-0.000785]]),\n",
       " array([[6.02045e-05],\n",
       "        [3.02642e-04]]),\n",
       " array([[0.99788424, 0.00211576],\n",
       "        [0.01198171, 0.98801829]]))"
      ]
     },
     "execution_count": 5,
     "metadata": {},
     "output_type": "execute_result"
    }
   ],
   "source": [
    "load_hardy_params(\"daily\")"
   ]
  },
  {
   "cell_type": "code",
   "execution_count": 52,
   "id": "bf5f9292-652e-4cb6-8b97-165841deb209",
   "metadata": {},
   "outputs": [],
   "source": [
    "hmm_model = GaussianHMM(n_components=n_c, init_params=\"sc\", min_covar=1e-6, covars_prior=1e-6, random_state=random_state, n_iter=300, tol=1e-4, )"
   ]
  },
  {
   "cell_type": "code",
   "execution_count": 13,
   "id": "9643cbeb-a122-44d2-805b-5745b6ff1b23",
   "metadata": {},
   "outputs": [],
   "source": [
    "key_data = \"daily_1000\"\n",
    "n_s = 1000\n",
    "Xs = np.load(f\"{path_data}/X_raw_{key_data}.npy\")[:, -n_s:]"
   ]
  },
  {
   "cell_type": "code",
   "execution_count": 119,
   "id": "9221a84d-b3ff-485c-a6c2-5829c821537f",
   "metadata": {},
   "outputs": [],
   "source": [
    "Zs = np.load(f\"{path_data}/Z_{key_data}.npy\")#[:, -n_s:]"
   ]
  },
  {
   "cell_type": "code",
   "execution_count": 120,
   "id": "a986b32c-a103-41d7-a4f4-8587a7dbe138",
   "metadata": {},
   "outputs": [
    {
     "data": {
      "text/plain": [
       "(1024, 1000)"
      ]
     },
     "execution_count": 120,
     "metadata": {},
     "output_type": "execute_result"
    }
   ],
   "source": [
    "Zs.shape"
   ]
  },
  {
   "cell_type": "code",
   "execution_count": 14,
   "id": "a6a12ad4-d22d-4a12-aaad-1e4da860251f",
   "metadata": {},
   "outputs": [
    {
     "data": {
      "text/plain": [
       "(1024, 1000, 1)"
      ]
     },
     "execution_count": 14,
     "metadata": {},
     "output_type": "execute_result"
    }
   ],
   "source": [
    "Xs.shape"
   ]
  },
  {
   "cell_type": "code",
   "execution_count": 19,
   "id": "ee605168-8219-43cd-ab82-336169d56983",
   "metadata": {},
   "outputs": [],
   "source": []
  },
  {
   "cell_type": "code",
   "execution_count": 16,
   "id": "78d2120c-9095-44d6-b67a-35a097a87396",
   "metadata": {},
   "outputs": [],
   "source": []
  },
  {
   "cell_type": "code",
   "execution_count": 59,
   "id": "39ba104d-ea9d-434f-b6e3-5eb21223d5fb",
   "metadata": {},
   "outputs": [],
   "source": [
    "def init_k_means_plusplus(X, n_c, n_init=10, random_state=None):\n",
    "    \"\"\"\n",
    "    initialize the centers, by k-means++, for n_init times.\n",
    "    \"\"\"\n",
    "    random_state = check_random_state(random_state)\n",
    "    #\n",
    "    init = np.empty((n_init, n_c, X.shape[1]))  \n",
    "    for i_ in range(n_init):\n",
    "        init[i_] = kmeans_plusplus(X, n_c, random_state=random_state)[0]\n",
    "    # sort the centers by the first element (assumed to be some returns), in descending order, so that crash periods in regimes w/ higher no.\n",
    "    return _sort_centers_by_first_feature(init)"
   ]
  },
  {
   "cell_type": "code",
   "execution_count": 79,
   "id": "14cad2a8-4bfc-4b45-b391-4ed6d3ee1248",
   "metadata": {},
   "outputs": [],
   "source": [
    "def fit_HMM_with_init(hmm_model, X, means_init_, transmat_init):\n",
    "    # initialize\n",
    "    hmm_model.means_ = means_init_\n",
    "    hmm_model.transmat_ = transmat_init\n",
    "    # fit model\n",
    "    hmm_model.fit(X)\n",
    "    return "
   ]
  },
  {
   "cell_type": "code",
   "execution_count": 104,
   "id": "fd6fbe49-8d55-4e74-8189-85b736643aff",
   "metadata": {},
   "outputs": [],
   "source": [
    "def train_HMM_batch_data(hmm_model, Xs, n_init=10, transmat_init = np.array([[.9, .1], [.1, .9]]), random_state=None):\n",
    "    \"\"\"\n",
    "    Train an HMM model on a batch of data. \n",
    "    Centers initialized 10 times by k-means++. the best model is retained.\n",
    "    return estimated means, covars, labels and proba\n",
    "    \"\"\"\n",
    "    random_state = check_random_state(random_state)\n",
    "    n_t, n_s, n_f = Xs.shape\n",
    "    n_c = hmm_model.n_components\n",
    "    means_arr = np.empty((n_t, n_c, n_f)); covars_arr = np.empty((n_t, n_c, n_f, n_f))\n",
    "    labels_arr = np.empty((n_t, n_s)); proba_arr = np.empty((n_t, n_s, n_c))\n",
    "    for i_trial in trange(n_t):\n",
    "        X = Xs[i_trial]\n",
    "        means_init = init_k_means_plusplus(X, n_c, n_init, random_state=random_state)\n",
    "        best_score = -np.inf\n",
    "        for i_init in range(n_init):\n",
    "            fit_HMM_with_init(hmm_model, X, means_init[i_init], transmat_init)\n",
    "            score = hmm_model.score(X)\n",
    "            # print(f\"{i_init}: {score}\")\n",
    "            if score > best_score:\n",
    "                best_idx = i_init\n",
    "                best_score = score\n",
    "        # print(best_idx)\n",
    "        fit_HMM_with_init(hmm_model, X, means_init[best_idx], transmat_init)\n",
    "        means_arr[i_trial] = hmm_model.means_\n",
    "        covars_arr[i_trial] = hmm_model.covars_\n",
    "        labels_arr[i_trial] = hmm_model.predict(X)\n",
    "        proba_arr[i_trial] = hmm_model.predict_proba(X)     \n",
    "    return means_arr, covars_arr, labels_arr, proba_arr"
   ]
  },
  {
   "cell_type": "code",
   "execution_count": 118,
   "id": "c94d0f72-d20e-494e-a4ed-c24f09f703c6",
   "metadata": {},
   "outputs": [
    {
     "name": "stderr",
     "output_type": "stream",
     "text": [
      "100%|████████████████████████████████████████████████████████████████████████████████████████████████████████████████████████████████████████████████| 1024/1024 [02:52<00:00,  5.92it/s]\n"
     ]
    }
   ],
   "source": [
    "means_arr, covars_arr, labels_arr, proba_arr=train_HMM_batch_data(hmm_model, Xs, random_state=random_state)"
   ]
  },
  {
   "cell_type": "code",
   "execution_count": 129,
   "id": "6bdd01a3-e5d2-4fda-8c79-1c9791af5fc6",
   "metadata": {},
   "outputs": [],
   "source": [
    "def align_labels_proba_by_accuracy_(Zs_true, labels_arr, n_c):\n",
    "    \"\"\"\n",
    "    In a clustering problem, any permutation of the labels is a vaid clustering result. \n",
    "    we find the best permutation for each trial. Here best refers to the highest accuracy.\n",
    "    \n",
    "    Parameters:\n",
    "    ---------------------\n",
    "    labels_arr: arr of shape (n_t, n_s)\n",
    "    \"\"\"\n",
    "    n_t, n_s = labels_arr.shape\n",
    "    # all the perms\n",
    "    all_perms = generate_all_perms_as_arr(n_c)\n",
    "    # all the possible perms of labels\n",
    "    labels_all_perms = permute_labels(labels_arr, all_perms)\n",
    "    # score accuracy for each perm\n",
    "    acc_all_perms = scorer_batch(accuracy_score, Zs_true, labels_all_perms, has_params=True) # of shape (n_t, n_p)\n",
    "    # best perm for each trial \n",
    "    best_perm_idx = acc_all_perms.argmax(-1) # shape (n_t,)\n",
    "    # take the corresponding perm for labels\n",
    "    labels_arr_new = np.take_along_axis(labels_all_perms, best_perm_idx[:, np.newaxis, np.newaxis], axis=-1).squeeze(axis=-1)\n",
    "    # do the same for proba_\n",
    "    best_perm = all_perms[best_perm_idx]\n",
    "    return labels_arr_new, best_perm\n",
    "    proba_arr_new = np.take_along_axis(proba_arr, best_perm[:, np.newaxis, :], axis=-1)\n",
    "    # proba_arr_new = proba_arr[np.arange(n_t)[:, np.newaxis, np.newaxis], np.arange(n_s)[np.newaxis, :, np.newaxis], best_perm[:, np.newaxis, :]]\n",
    "    return proba_arr_new, labels_arr_new"
   ]
  },
  {
   "cell_type": "code",
   "execution_count": 130,
   "id": "9bc4a2ef-52a9-4d36-8723-0cee926dc857",
   "metadata": {},
   "outputs": [],
   "source": [
    "labels_arr_new, best_perm = align_labels_proba_by_accuracy_(Zs, labels_arr, n_c)"
   ]
  },
  {
   "cell_type": "code",
   "execution_count": 142,
   "id": "8da99c76-3552-4ba2-be18-0206ff121e4b",
   "metadata": {},
   "outputs": [],
   "source": [
    "proba_arr_new = align_proba_arr(proba_arr, best_perm)"
   ]
  },
  {
   "cell_type": "code",
   "execution_count": 146,
   "id": "63a25f16-9eaf-4ab0-9695-3d2c2faf13b4",
   "metadata": {},
   "outputs": [],
   "source": [
    "roc_auc_arr = scorer_batch(roc_auc_score, Zs, proba_arr_new[..., 1], idx_subset=get_idx_have_all_clusters(Zs, n_c))"
   ]
  },
  {
   "cell_type": "code",
   "execution_count": 148,
   "id": "bf332754-62a6-4388-a359-b5993fd83a65",
   "metadata": {},
   "outputs": [
    {
     "data": {
      "text/plain": [
       "0.9837791826688049"
      ]
     },
     "execution_count": 148,
     "metadata": {},
     "output_type": "execute_result"
    }
   ],
   "source": [
    "np.nanmean(roc_auc_arr)"
   ]
  },
  {
   "cell_type": "code",
   "execution_count": null,
   "id": "9b9a5b21-c17a-463a-a3ac-360790e57651",
   "metadata": {},
   "outputs": [],
   "source": []
  },
  {
   "cell_type": "code",
   "execution_count": null,
   "id": "6cae0028-705f-46f8-9ded-fb22215fc69a",
   "metadata": {},
   "outputs": [],
   "source": []
  },
  {
   "cell_type": "code",
   "execution_count": null,
   "id": "0a1bd9ac-df1f-4c65-b8b4-06499823f043",
   "metadata": {},
   "outputs": [],
   "source": []
  },
  {
   "cell_type": "code",
   "execution_count": null,
   "id": "48b32e21-d39d-4c82-aea1-005743efa8e0",
   "metadata": {},
   "outputs": [],
   "source": []
  },
  {
   "cell_type": "code",
   "execution_count": 138,
   "id": "689a401e-8811-488d-8567-4c31c755b80f",
   "metadata": {},
   "outputs": [],
   "source": [
    "def align_proba_arr(proba_arr, best_perm):\n",
    "    return np.take_along_axis(proba_arr, best_perm[:, np.newaxis, :], axis=-1)\n",
    "    \n",
    "def align_means_covars(means_arr, covars_arr, best_perm):\n",
    "    n_t, n_s, n_f = means_arr.shape\n",
    "    return means_arr[np.arange(n_t)[:, np.newaxis], best_perm], covars_arr[np.arange(n_t)[:, np.newaxis], best_perm]"
   ]
  },
  {
   "cell_type": "code",
   "execution_count": 139,
   "id": "70de5320-6a98-4921-b8e9-190536cdd8d0",
   "metadata": {},
   "outputs": [],
   "source": [
    "means_arr_aligned, covars_arr_aligned = align_means_covars(means_arr, covars_arr, best_perm)"
   ]
  },
  {
   "cell_type": "code",
   "execution_count": 140,
   "id": "346be13d-4259-48dc-952a-ec6407ce065f",
   "metadata": {},
   "outputs": [
    {
     "data": {
      "text/plain": [
       "(1024, 2, 1)"
      ]
     },
     "execution_count": 140,
     "metadata": {},
     "output_type": "execute_result"
    }
   ],
   "source": [
    "means_arr_aligned.shape"
   ]
  },
  {
   "cell_type": "code",
   "execution_count": 141,
   "id": "4b640356-9014-4963-a1ea-7dc66deff5f5",
   "metadata": {},
   "outputs": [
    {
     "data": {
      "text/plain": [
       "array([[ 0.00059545],\n",
       "       [-0.00064935]])"
      ]
     },
     "execution_count": 141,
     "metadata": {},
     "output_type": "execute_result"
    }
   ],
   "source": [
    "means_arr_aligned.mean(0)"
   ]
  },
  {
   "cell_type": "code",
   "execution_count": null,
   "id": "521f59c3-6a1c-44f1-ad9d-a6f260667022",
   "metadata": {},
   "outputs": [],
   "source": []
  },
  {
   "cell_type": "code",
   "execution_count": null,
   "id": "6999faa5-24d8-4a55-b63c-03b949b5686e",
   "metadata": {},
   "outputs": [],
   "source": []
  },
  {
   "cell_type": "code",
   "execution_count": 132,
   "id": "33c6b4c3-9d69-4742-9bd0-593b2e1986c4",
   "metadata": {},
   "outputs": [],
   "source": [
    "acc = scorer_batch(accuracy_each_cluster, Zs, labels_arr_new)"
   ]
  },
  {
   "cell_type": "code",
   "execution_count": 135,
   "id": "c4a952fe-18e4-4d93-874b-881054400202",
   "metadata": {},
   "outputs": [
    {
     "data": {
      "text/plain": [
       "0.952070423057263"
      ]
     },
     "execution_count": 135,
     "metadata": {},
     "output_type": "execute_result"
    }
   ],
   "source": [
    "np.nanmean(acc, 0).mean()"
   ]
  },
  {
   "cell_type": "code",
   "execution_count": 137,
   "id": "b354b4ab-f61f-42a3-8102-1e93d6413a1a",
   "metadata": {},
   "outputs": [
    {
     "data": {
      "text/plain": [
       "array([[0, 1],\n",
       "       [0, 1],\n",
       "       [1, 0],\n",
       "       ...,\n",
       "       [1, 0],\n",
       "       [0, 1],\n",
       "       [0, 1]])"
      ]
     },
     "execution_count": 137,
     "metadata": {},
     "output_type": "execute_result"
    }
   ],
   "source": [
    "best_perm"
   ]
  },
  {
   "cell_type": "code",
   "execution_count": null,
   "id": "e0d67b47-c074-4fb0-b6c1-8672b6598788",
   "metadata": {},
   "outputs": [],
   "source": []
  },
  {
   "cell_type": "code",
   "execution_count": 121,
   "id": "879cec3b-a7b6-40dc-93a7-b3fec345cf13",
   "metadata": {},
   "outputs": [
    {
     "data": {
      "text/plain": [
       "(1024, 1000)"
      ]
     },
     "execution_count": 121,
     "metadata": {},
     "output_type": "execute_result"
    }
   ],
   "source": [
    "labels_arr.shape"
   ]
  },
  {
   "cell_type": "code",
   "execution_count": null,
   "id": "0c598763-2218-4ad9-970e-2d3e3976d520",
   "metadata": {},
   "outputs": [],
   "source": []
  },
  {
   "cell_type": "code",
   "execution_count": null,
   "id": "c92c0b86-00e8-49ef-b3ab-b379bb842d89",
   "metadata": {},
   "outputs": [],
   "source": []
  },
  {
   "cell_type": "code",
   "execution_count": null,
   "id": "a7041d19-031d-4fae-ad5c-8052b1e6b9a8",
   "metadata": {},
   "outputs": [],
   "source": []
  },
  {
   "cell_type": "code",
   "execution_count": 108,
   "id": "8fd505a6-4ad8-4e81-918d-45b3295e0866",
   "metadata": {},
   "outputs": [
    {
     "data": {
      "text/plain": [
       "(2, 2, 1)"
      ]
     },
     "execution_count": 108,
     "metadata": {},
     "output_type": "execute_result"
    }
   ],
   "source": [
    "means_arr.shape"
   ]
  },
  {
   "cell_type": "code",
   "execution_count": 115,
   "id": "3a85a0ee-faaf-4296-816d-5340c9a04a9f",
   "metadata": {},
   "outputs": [
    {
     "data": {
      "text/plain": [
       "array([[[ 0.76103773,  0.12167502,  0.44386323,  0.33367433],\n",
       "        [ 1.49407907, -0.20515826,  0.3130677 , -0.85409574]],\n",
       "\n",
       "       [[-2.55298982,  0.6536186 ,  0.8644362 , -0.74216502],\n",
       "        [ 2.26975462, -1.45436567,  0.04575852, -0.18718385]],\n",
       "\n",
       "       [[ 1.53277921,  1.46935877,  0.15494743,  0.37816252],\n",
       "        [-0.88778575, -1.98079647, -0.34791215,  0.15634897]]])"
      ]
     },
     "execution_count": 115,
     "metadata": {},
     "output_type": "execute_result"
    }
   ],
   "source": [
    "test_arr = random_state.randn(3, 2, 4)\n",
    "test_arr"
   ]
  },
  {
   "cell_type": "code",
   "execution_count": 116,
   "id": "c2918eed-25da-4eac-a9b2-7f8f1e7bc483",
   "metadata": {},
   "outputs": [],
   "source": [
    "best_idx_perm = np.array([[0, 1], [1, 0], [1, 0]])"
   ]
  },
  {
   "cell_type": "code",
   "execution_count": 113,
   "id": "7ff949da-495f-4cf1-89de-79906f6e9c98",
   "metadata": {},
   "outputs": [
    {
     "data": {
      "text/plain": [
       "array([[0, 1],\n",
       "       [1, 0],\n",
       "       [1, 0]])"
      ]
     },
     "execution_count": 113,
     "metadata": {},
     "output_type": "execute_result"
    }
   ],
   "source": [
    "best_idx_perm"
   ]
  },
  {
   "cell_type": "code",
   "execution_count": 117,
   "id": "a132a691-c014-41fe-9c8c-d3c70794f8cb",
   "metadata": {},
   "outputs": [
    {
     "data": {
      "text/plain": [
       "array([[[ 0.76103773,  0.12167502,  0.44386323,  0.33367433],\n",
       "        [ 1.49407907, -0.20515826,  0.3130677 , -0.85409574]],\n",
       "\n",
       "       [[ 2.26975462, -1.45436567,  0.04575852, -0.18718385],\n",
       "        [-2.55298982,  0.6536186 ,  0.8644362 , -0.74216502]],\n",
       "\n",
       "       [[-0.88778575, -1.98079647, -0.34791215,  0.15634897],\n",
       "        [ 1.53277921,  1.46935877,  0.15494743,  0.37816252]]])"
      ]
     },
     "execution_count": 117,
     "metadata": {},
     "output_type": "execute_result"
    }
   ],
   "source": [
    "test_arr[np.arange(3)[:, np.newaxis], best_idx_perm]"
   ]
  },
  {
   "cell_type": "code",
   "execution_count": null,
   "id": "1fc6319d-7b35-4dff-82e4-66e8af1ed5bb",
   "metadata": {},
   "outputs": [],
   "source": [
    "means_arr"
   ]
  },
  {
   "cell_type": "code",
   "execution_count": null,
   "id": "d9856d37-319e-4f10-9ce4-301e371499f7",
   "metadata": {},
   "outputs": [],
   "source": []
  },
  {
   "cell_type": "code",
   "execution_count": null,
   "id": "8c39c8b8-78ae-4780-a70d-90faf411b562",
   "metadata": {},
   "outputs": [],
   "source": []
  },
  {
   "cell_type": "code",
   "execution_count": null,
   "id": "38e9038e-8729-4c52-9b73-cf40af93a0d9",
   "metadata": {},
   "outputs": [],
   "source": []
  },
  {
   "cell_type": "code",
   "execution_count": null,
   "id": "5080e1fd-1d10-4c31-b7ca-39c0ac8d7de3",
   "metadata": {},
   "outputs": [],
   "source": []
  },
  {
   "cell_type": "code",
   "execution_count": null,
   "id": "455f26dc-38fa-48b2-a18b-616ffec2a95f",
   "metadata": {},
   "outputs": [],
   "source": []
  },
  {
   "cell_type": "code",
   "execution_count": 74,
   "id": "7251b4f3-6a2f-464f-ba0d-ec7671ae5eb9",
   "metadata": {},
   "outputs": [
    {
     "data": {
      "text/plain": [
       "(2, 1000, 1)"
      ]
     },
     "execution_count": 74,
     "metadata": {},
     "output_type": "execute_result"
    }
   ],
   "source": [
    "Xs[:2].shape"
   ]
  },
  {
   "cell_type": "code",
   "execution_count": null,
   "id": "c72e2687-8f85-4f0c-a88f-0303b64454e6",
   "metadata": {},
   "outputs": [],
   "source": []
  },
  {
   "cell_type": "code",
   "execution_count": null,
   "id": "0300e07a-1ca2-490e-986e-6e1ae42f10b7",
   "metadata": {},
   "outputs": [],
   "source": []
  },
  {
   "cell_type": "code",
   "execution_count": null,
   "id": "bb5c0a34-40ff-4a0a-9c00-948f76274c9a",
   "metadata": {},
   "outputs": [],
   "source": []
  },
  {
   "cell_type": "code",
   "execution_count": null,
   "id": "9e5be77c-7b94-4431-bf67-c8291d5e9133",
   "metadata": {},
   "outputs": [],
   "source": []
  },
  {
   "cell_type": "code",
   "execution_count": 68,
   "id": "c330117f-e5da-4e80-bd3c-692bb5527743",
   "metadata": {},
   "outputs": [
    {
     "data": {
      "text/plain": [
       "{'algorithm': 'viterbi',\n",
       " 'covariance_type': 'diag',\n",
       " 'covars_prior': 1e-06,\n",
       " 'covars_weight': 1,\n",
       " 'implementation': 'log',\n",
       " 'init_params': 'sc',\n",
       " 'means_prior': 0,\n",
       " 'means_weight': 0,\n",
       " 'min_covar': 1e-06,\n",
       " 'n_components': 2,\n",
       " 'n_iter': 300,\n",
       " 'params': 'stmc',\n",
       " 'random_state': RandomState(MT19937) at 0x1464E7340,\n",
       " 'startprob_prior': 1.0,\n",
       " 'tol': 0.0001,\n",
       " 'transmat_prior': 1.0,\n",
       " 'verbose': False}"
      ]
     },
     "execution_count": 68,
     "metadata": {},
     "output_type": "execute_result"
    }
   ],
   "source": [
    "hmm.get_params()"
   ]
  },
  {
   "cell_type": "code",
   "execution_count": null,
   "id": "3165e160-a384-4eed-a8e3-f8391ef02144",
   "metadata": {},
   "outputs": [],
   "source": []
  },
  {
   "cell_type": "code",
   "execution_count": 54,
   "id": "221d4b0a-26ae-4d8d-ad2f-33c2c9e5b98a",
   "metadata": {},
   "outputs": [],
   "source": [
    "hmm_model.means = means_init[0]\n",
    "hmm_model.transmat_ = generate_2d_TPM(.9, .9)"
   ]
  },
  {
   "cell_type": "code",
   "execution_count": 55,
   "id": "a51a4697-a9ff-459f-bca5-af02b81151b3",
   "metadata": {},
   "outputs": [
    {
     "data": {
      "text/html": [
       "<style>#sk-container-id-11 {color: black;background-color: white;}#sk-container-id-11 pre{padding: 0;}#sk-container-id-11 div.sk-toggleable {background-color: white;}#sk-container-id-11 label.sk-toggleable__label {cursor: pointer;display: block;width: 100%;margin-bottom: 0;padding: 0.3em;box-sizing: border-box;text-align: center;}#sk-container-id-11 label.sk-toggleable__label-arrow:before {content: \"▸\";float: left;margin-right: 0.25em;color: #696969;}#sk-container-id-11 label.sk-toggleable__label-arrow:hover:before {color: black;}#sk-container-id-11 div.sk-estimator:hover label.sk-toggleable__label-arrow:before {color: black;}#sk-container-id-11 div.sk-toggleable__content {max-height: 0;max-width: 0;overflow: hidden;text-align: left;background-color: #f0f8ff;}#sk-container-id-11 div.sk-toggleable__content pre {margin: 0.2em;color: black;border-radius: 0.25em;background-color: #f0f8ff;}#sk-container-id-11 input.sk-toggleable__control:checked~div.sk-toggleable__content {max-height: 200px;max-width: 100%;overflow: auto;}#sk-container-id-11 input.sk-toggleable__control:checked~label.sk-toggleable__label-arrow:before {content: \"▾\";}#sk-container-id-11 div.sk-estimator input.sk-toggleable__control:checked~label.sk-toggleable__label {background-color: #d4ebff;}#sk-container-id-11 div.sk-label input.sk-toggleable__control:checked~label.sk-toggleable__label {background-color: #d4ebff;}#sk-container-id-11 input.sk-hidden--visually {border: 0;clip: rect(1px 1px 1px 1px);clip: rect(1px, 1px, 1px, 1px);height: 1px;margin: -1px;overflow: hidden;padding: 0;position: absolute;width: 1px;}#sk-container-id-11 div.sk-estimator {font-family: monospace;background-color: #f0f8ff;border: 1px dotted black;border-radius: 0.25em;box-sizing: border-box;margin-bottom: 0.5em;}#sk-container-id-11 div.sk-estimator:hover {background-color: #d4ebff;}#sk-container-id-11 div.sk-parallel-item::after {content: \"\";width: 100%;border-bottom: 1px solid gray;flex-grow: 1;}#sk-container-id-11 div.sk-label:hover label.sk-toggleable__label {background-color: #d4ebff;}#sk-container-id-11 div.sk-serial::before {content: \"\";position: absolute;border-left: 1px solid gray;box-sizing: border-box;top: 0;bottom: 0;left: 50%;z-index: 0;}#sk-container-id-11 div.sk-serial {display: flex;flex-direction: column;align-items: center;background-color: white;padding-right: 0.2em;padding-left: 0.2em;position: relative;}#sk-container-id-11 div.sk-item {position: relative;z-index: 1;}#sk-container-id-11 div.sk-parallel {display: flex;align-items: stretch;justify-content: center;background-color: white;position: relative;}#sk-container-id-11 div.sk-item::before, #sk-container-id-11 div.sk-parallel-item::before {content: \"\";position: absolute;border-left: 1px solid gray;box-sizing: border-box;top: 0;bottom: 0;left: 50%;z-index: -1;}#sk-container-id-11 div.sk-parallel-item {display: flex;flex-direction: column;z-index: 1;position: relative;background-color: white;}#sk-container-id-11 div.sk-parallel-item:first-child::after {align-self: flex-end;width: 50%;}#sk-container-id-11 div.sk-parallel-item:last-child::after {align-self: flex-start;width: 50%;}#sk-container-id-11 div.sk-parallel-item:only-child::after {width: 0;}#sk-container-id-11 div.sk-dashed-wrapped {border: 1px dashed gray;margin: 0 0.4em 0.5em 0.4em;box-sizing: border-box;padding-bottom: 0.4em;background-color: white;}#sk-container-id-11 div.sk-label label {font-family: monospace;font-weight: bold;display: inline-block;line-height: 1.2em;}#sk-container-id-11 div.sk-label-container {text-align: center;}#sk-container-id-11 div.sk-container {/* jupyter's `normalize.less` sets `[hidden] { display: none; }` but bootstrap.min.css set `[hidden] { display: none !important; }` so we also need the `!important` here to be able to override the default hidden behavior on the sphinx rendered scikit-learn.org. See: https://github.com/scikit-learn/scikit-learn/issues/21755 */display: inline-block !important;position: relative;}#sk-container-id-11 div.sk-text-repr-fallback {display: none;}</style><div id=\"sk-container-id-11\" class=\"sk-top-container\"><div class=\"sk-text-repr-fallback\"><pre>GaussianHMM(covars_prior=1e-06, init_params=&#x27;sc&#x27;, min_covar=1e-06,\n",
       "            n_components=2, n_iter=300,\n",
       "            random_state=RandomState(MT19937) at 0x1464E7340, tol=0.0001)</pre><b>In a Jupyter environment, please rerun this cell to show the HTML representation or trust the notebook. <br />On GitHub, the HTML representation is unable to render, please try loading this page with nbviewer.org.</b></div><div class=\"sk-container\" hidden><div class=\"sk-item\"><div class=\"sk-estimator sk-toggleable\"><input class=\"sk-toggleable__control sk-hidden--visually\" id=\"sk-estimator-id-11\" type=\"checkbox\" checked><label for=\"sk-estimator-id-11\" class=\"sk-toggleable__label sk-toggleable__label-arrow\">GaussianHMM</label><div class=\"sk-toggleable__content\"><pre>GaussianHMM(covars_prior=1e-06, init_params=&#x27;sc&#x27;, min_covar=1e-06,\n",
       "            n_components=2, n_iter=300,\n",
       "            random_state=RandomState(MT19937) at 0x1464E7340, tol=0.0001)</pre></div></div></div></div></div>"
      ],
      "text/plain": [
       "GaussianHMM(covars_prior=1e-06, init_params='sc', min_covar=1e-06,\n",
       "            n_components=2, n_iter=300,\n",
       "            random_state=RandomState(MT19937) at 0x1464E7340, tol=0.0001)"
      ]
     },
     "execution_count": 55,
     "metadata": {},
     "output_type": "execute_result"
    }
   ],
   "source": [
    "hmm_model.fit(Xs[0])"
   ]
  },
  {
   "cell_type": "code",
   "execution_count": 61,
   "id": "b6fdfcc8-f214-4054-b86f-24a4dbf269be",
   "metadata": {},
   "outputs": [
    {
     "data": {
      "text/plain": [
       "(3150.2150731016895,\n",
       " array([[3.30789689e-08, 9.99999967e-01],\n",
       "        [4.15596571e-04, 9.99584403e-01],\n",
       "        [6.19204955e-04, 9.99380795e-01],\n",
       "        ...,\n",
       "        [4.97151215e-03, 9.95028488e-01],\n",
       "        [6.92505088e-03, 9.93074949e-01],\n",
       "        [1.09651671e-02, 9.89034833e-01]]))"
      ]
     },
     "execution_count": 61,
     "metadata": {},
     "output_type": "execute_result"
    }
   ],
   "source": [
    "hmm_model.score_samples(Xs[0])"
   ]
  },
  {
   "cell_type": "code",
   "execution_count": 62,
   "id": "c816df4d-ada3-4962-b962-1b46bf83e687",
   "metadata": {},
   "outputs": [
    {
     "data": {
      "text/plain": [
       "3150.2150731016895"
      ]
     },
     "execution_count": 62,
     "metadata": {},
     "output_type": "execute_result"
    }
   ],
   "source": [
    "hmm_model.score(Xs[0])"
   ]
  },
  {
   "cell_type": "code",
   "execution_count": 63,
   "id": "acbef662-af46-417f-ac54-7f0b14471ff1",
   "metadata": {},
   "outputs": [
    {
     "data": {
      "text/plain": [
       "array([[ 0.00181927],\n",
       "       [-0.01728237]])"
      ]
     },
     "execution_count": 63,
     "metadata": {},
     "output_type": "execute_result"
    }
   ],
   "source": [
    "hmm_model.means"
   ]
  },
  {
   "cell_type": "code",
   "execution_count": 66,
   "id": "cb2a35b0-fe6e-46a4-b73d-cb03dd838e44",
   "metadata": {},
   "outputs": [
    {
     "data": {
      "text/plain": [
       "array([[0.98265955, 0.01734045],\n",
       "       [0.00832298, 0.99167702]])"
      ]
     },
     "execution_count": 66,
     "metadata": {},
     "output_type": "execute_result"
    }
   ],
   "source": [
    "hmm_model.transmat_"
   ]
  },
  {
   "cell_type": "code",
   "execution_count": 65,
   "id": "4abae8ee-f09c-43ca-86d9-147dab0002bf",
   "metadata": {},
   "outputs": [
    {
     "data": {
      "text/plain": [
       "(array([[ 0.000615],\n",
       "        [-0.000785]]),\n",
       " array([[6.02045e-05],\n",
       "        [3.02642e-04]]),\n",
       " array([[0.99788424, 0.00211576],\n",
       "        [0.01198171, 0.98801829]]))"
      ]
     },
     "execution_count": 65,
     "metadata": {},
     "output_type": "execute_result"
    }
   ],
   "source": [
    "load_hardy_params(\"daily\")"
   ]
  },
  {
   "cell_type": "code",
   "execution_count": null,
   "id": "321410b6-4581-40a3-8b8c-a05684d02a58",
   "metadata": {},
   "outputs": [],
   "source": []
  },
  {
   "cell_type": "code",
   "execution_count": null,
   "id": "7653f16f-b325-46f1-9b8e-bc7d581850a3",
   "metadata": {},
   "outputs": [],
   "source": []
  },
  {
   "cell_type": "code",
   "execution_count": null,
   "id": "edce8b3c-52a7-4fc5-b1be-987f6c9241cc",
   "metadata": {},
   "outputs": [],
   "source": []
  },
  {
   "cell_type": "code",
   "execution_count": null,
   "id": "9190dc16-889e-49b0-86f1-5f08eeb236dc",
   "metadata": {},
   "outputs": [],
   "source": []
  },
  {
   "cell_type": "code",
   "execution_count": 58,
   "id": "0564e981-9469-4c62-ad5b-67f5fcb7c16b",
   "metadata": {},
   "outputs": [
    {
     "data": {
      "text/plain": [
       "(2, 1, 1)"
      ]
     },
     "execution_count": 58,
     "metadata": {},
     "output_type": "execute_result"
    }
   ],
   "source": [
    "hmm_model.covars_.shape"
   ]
  },
  {
   "cell_type": "code",
   "execution_count": 48,
   "id": "eef177e3-acc1-4e9d-9b26-4024faad1423",
   "metadata": {},
   "outputs": [
    {
     "data": {
      "text/plain": [
       "array([[0.99168301, 0.00831699],\n",
       "       [0.01732639, 0.98267361]])"
      ]
     },
     "execution_count": 48,
     "metadata": {},
     "output_type": "execute_result"
    }
   ],
   "source": [
    "hmm_model.transmat_"
   ]
  },
  {
   "cell_type": "code",
   "execution_count": 47,
   "id": "488367ee-7602-4487-a0d1-b25f37a2cfcd",
   "metadata": {},
   "outputs": [
    {
     "data": {
      "text/plain": [
       "3150.215073225688"
      ]
     },
     "execution_count": 47,
     "metadata": {},
     "output_type": "execute_result"
    }
   ],
   "source": [
    "hmm_model.score(Xs[0])"
   ]
  },
  {
   "cell_type": "code",
   "execution_count": 24,
   "id": "4b0e3511-cb2c-4623-a2ae-c835c3ae300a",
   "metadata": {},
   "outputs": [
    {
     "data": {
      "text/plain": [
       "array([[0.1, 0.9],\n",
       "       [0.9, 0.1]])"
      ]
     },
     "execution_count": 24,
     "metadata": {},
     "output_type": "execute_result"
    }
   ],
   "source": [
    "hmm_model.transmat_"
   ]
  },
  {
   "cell_type": "code",
   "execution_count": 21,
   "id": "d02ee954-640a-4448-9129-98949d7eede9",
   "metadata": {},
   "outputs": [],
   "source": [
    "means_init = init_k_means_pluspus(Xs[0], 2, 10)"
   ]
  },
  {
   "cell_type": "code",
   "execution_count": null,
   "id": "5edba316-4d50-42e9-a694-1ba5cc56a5a5",
   "metadata": {},
   "outputs": [],
   "source": []
  },
  {
   "cell_type": "code",
   "execution_count": null,
   "id": "1210d35c-8789-45c7-a5ff-0d3db5ee4303",
   "metadata": {},
   "outputs": [],
   "source": []
  },
  {
   "cell_type": "code",
   "execution_count": null,
   "id": "7d111177-7a10-4e93-ab57-2884ad2922a6",
   "metadata": {},
   "outputs": [],
   "source": []
  },
  {
   "cell_type": "code",
   "execution_count": null,
   "id": "2bed7b34-3e8d-4cf1-b6c3-a8068aae11cb",
   "metadata": {},
   "outputs": [],
   "source": [
    "def fit_hmm_model()"
   ]
  },
  {
   "cell_type": "code",
   "execution_count": null,
   "id": "f5a00491-8266-4a51-ac98-39edd315673a",
   "metadata": {},
   "outputs": [],
   "source": [
    "hmm_model.means_ = \n",
    "hmm_model.transmat_ = "
   ]
  },
  {
   "cell_type": "code",
   "execution_count": null,
   "id": "67f3806d-4f65-4514-ac6d-b62f2f13c318",
   "metadata": {},
   "outputs": [],
   "source": [
    "hmm_model.fit()"
   ]
  }
 ],
 "metadata": {
  "kernelspec": {
   "display_name": "Python 3 (ipykernel)",
   "language": "python",
   "name": "python3"
  },
  "language_info": {
   "codemirror_mode": {
    "name": "ipython",
    "version": 3
   },
   "file_extension": ".py",
   "mimetype": "text/x-python",
   "name": "python",
   "nbconvert_exporter": "python",
   "pygments_lexer": "ipython3",
   "version": "3.10.9"
  }
 },
 "nbformat": 4,
 "nbformat_minor": 5
}
