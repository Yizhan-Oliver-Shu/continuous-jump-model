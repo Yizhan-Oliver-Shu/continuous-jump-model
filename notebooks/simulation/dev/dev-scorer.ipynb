{
 "cells": [
  {
   "cell_type": "code",
   "execution_count": 1,
   "id": "8796b177-3806-4801-b327-3f282150ba53",
   "metadata": {
    "tags": []
   },
   "outputs": [],
   "source": [
    "%load_ext autoreload\n",
    "%autoreload 2\n",
    "import sys, os\n",
    "from os.path import expanduser\n",
    "## actions required!!!!!!!!!!!!!!!!!!!! change your folder path \n",
    "path = expanduser(\"~/Documents/G3_2/regime-identification\")\n",
    "sys.path.append(path)\n",
    "\n",
    "path_file = expanduser(\"~/data/G3_2/regime-identification/simulation\")\n",
    "path_data = f\"{path_file}/data\"\n",
    "path_estimation = f\"{path_file}/estimation\"\n",
    "path_score = f\"{path_file}/score\"\n",
    "path_figure = f\"{path_file}/figure\""
   ]
  },
  {
   "cell_type": "code",
   "execution_count": 2,
   "id": "cbb9bbaa-efa7-4593-97ec-077a09fd435a",
   "metadata": {
    "tags": []
   },
   "outputs": [],
   "source": [
    "import numpy as np\n",
    "from sklearn.metrics import roc_auc_score\n",
    "\n",
    "from numpy.random import RandomState\n",
    "random_state = RandomState(0)"
   ]
  },
  {
   "cell_type": "code",
   "execution_count": 9,
   "id": "157e5e11-1b3d-49c0-ba29-58eabcd49ca3",
   "metadata": {
    "tags": []
   },
   "outputs": [],
   "source": [
    "from regime.simulation_helper import *"
   ]
  },
  {
   "cell_type": "code",
   "execution_count": null,
   "id": "e74f28a0-3e96-4f92-a3d9-124db4cd70c4",
   "metadata": {},
   "outputs": [],
   "source": [
    "def scorer_batch(scorer, Zs_true, Zs_pred, *args, has_params = False, idx = None, n_c = None, **kwargs):\n",
    "    \"\"\"\n",
    "    compute scores for a batch of seqs, with possibly some hyparameters.\n",
    "    \n",
    "    Parameters:\n",
    "    --------------------------\n",
    "    - scorer:\n",
    "    \n",
    "    - Zs_true: array of size (n_t, n_s)\n",
    "    \n",
    "    - Zs_pred: array of size (n_t, n_s), or (n_t, n_s, n_l) if there is hyperparams.\n",
    "        \n",
    "    - has_params: \n",
    "        \n",
    "    - idx: \n",
    "        indices of the trials to score. None means no need to subset. If true, select the trials where all of the classes appear in the true data.\n",
    "    - n_c:\n",
    "        used only when subseting.\n",
    "    \n",
    "    Returns:\n",
    "    --------------------------\n",
    "    - scores_arr: array of size (n_t, ), (n_t, n_c), or a dim in the last axis representing hyperparams. \n",
    "    \"\"\"\n",
    "    if idx is None: # no need to sub-index\n",
    "        if not has_params:  # no hyperparam\n",
    "            return np.array([scorer(Z_true, Z_pred, *args, **kwargs) for Z_true, Z_pred in zip(Zs_true, Zs_pred)])\n",
    "        else: # has hyperparams\n",
    "            n_l = Zs_pred.shape[-1]\n",
    "            return np.stack([scorer_batch(scorer, Zs_true, Zs_pred[..., i_param], *args, **kwargs) for i_param in range(n_l)], axis=-1)\n",
    "    # need to subset\n",
    "    n_t = len(Zs_true)\n",
    "    if idx is True:\n",
    "        idx = get_idx_have_all_clusters(Zs_true, n_c)\n",
    "    scores_arr_subset = scorer_batch(scorer, Zs_true[idx], Zs_pred[idx], *args, has_params = has_params, **kwargs)\n",
    "    scores_arr = np.full((n_t,) + scores_arr_subset.shape[1:], np.nan)\n",
    "    scores_arr[idx] = scores_arr_subset\n",
    "    return scores_arr"
   ]
  }
 ],
 "metadata": {
  "kernelspec": {
   "display_name": "Python 3 (ipykernel)",
   "language": "python",
   "name": "python3"
  },
  "language_info": {
   "codemirror_mode": {
    "name": "ipython",
    "version": 3
   },
   "file_extension": ".py",
   "mimetype": "text/x-python",
   "name": "python",
   "nbconvert_exporter": "python",
   "pygments_lexer": "ipython3",
   "version": "3.10.9"
  }
 },
 "nbformat": 4,
 "nbformat_minor": 5
}
