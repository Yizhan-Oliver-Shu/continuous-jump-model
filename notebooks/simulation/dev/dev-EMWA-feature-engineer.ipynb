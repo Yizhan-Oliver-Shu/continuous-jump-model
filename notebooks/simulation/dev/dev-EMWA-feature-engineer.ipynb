{
 "cells": [
  {
   "cell_type": "code",
   "execution_count": 1,
   "id": "9eaafe42-f829-437f-b0b6-a1ea8fc74cee",
   "metadata": {
    "tags": []
   },
   "outputs": [],
   "source": [
    "%load_ext autoreload\n",
    "%autoreload 2\n",
    "import sys, os\n",
    "from os.path import expanduser\n",
    "## actions required!!!!!!!!!!!!!!!!!!!! change your folder path \n",
    "path = expanduser(\"~/Documents/G3_2/regime-identification\")\n",
    "sys.path.append(path)\n",
    "\n",
    "path_file = expanduser(\"~/data/G3_2/regime-identification/simulation\")\n",
    "path_data = f\"{path_file}/data\"\n",
    "path_estimation = f\"{path_file}/estimation\"\n",
    "path_score = f\"{path_file}/score\"\n",
    "path_figure = f\"{path_file}/figure\""
   ]
  },
  {
   "cell_type": "code",
   "execution_count": 2,
   "id": "3faa57a7-d01a-47e0-a45f-08b25a3f974d",
   "metadata": {
    "tags": []
   },
   "outputs": [],
   "source": [
    "import numpy as np\n",
    "import pandas as pd"
   ]
  },
  {
   "cell_type": "code",
   "execution_count": 17,
   "id": "05171004-886d-4c2b-91da-3053d46166b8",
   "metadata": {
    "tags": []
   },
   "outputs": [],
   "source": [
    "from regime.stats import *"
   ]
  },
  {
   "cell_type": "code",
   "execution_count": 5,
   "id": "c6868aa9-801a-489f-895a-b2ad23b7e9ca",
   "metadata": {
    "tags": []
   },
   "outputs": [],
   "source": [
    "Xs = np.load(f\"{path_data}/Xs_2StateDaily1000_raw.npy\")\n",
    "X = Xs[0]"
   ]
  },
  {
   "cell_type": "code",
   "execution_count": 6,
   "id": "35929765-558d-4cae-a066-3b16d65aff6a",
   "metadata": {
    "tags": []
   },
   "outputs": [],
   "source": [
    "X_ser = pd.Series(X.squeeze())"
   ]
  },
  {
   "cell_type": "code",
   "execution_count": 14,
   "id": "0e0502ce-6a93-4704-ab9f-b063a59db4e7",
   "metadata": {
    "tags": []
   },
   "outputs": [],
   "source": []
  },
  {
   "cell_type": "code",
   "execution_count": 18,
   "id": "82862606-9c37-4c91-9665-cfd87221aa33",
   "metadata": {
    "tags": []
   },
   "outputs": [],
   "source": [
    "def ewma_mean_std(X, halflife):\n",
    "    X_ser = pd.Series(X.squeeze())\n",
    "    X_ewm = X_ser.ewm(halflife=halflife)\n",
    "    return pd.DataFrame({\"mean\": X_ewm.mean(), \"std\": X_ewm.std()}).to_numpy()\n",
    "\n",
    "def feature_engineer_ewm(X, halflife_list = [1, 2, 5, 10, 20]):\n",
    "    res = [X, custom_abs_diff(X, 0), custom_abs_diff(X, -1)]\n",
    "    for halflife in halflife_list:\n",
    "        res.append(ewma_mean_std(X, halflife))\n",
    "    return np.concatenate(res, axis=1)\n",
    "\n",
    "def feature_engineer_ewm_batch(Xs, halflife_list = [1, 2, 5, 10, 20]):\n",
    "    \"\"\"\n",
    "      \n",
    "    \"\"\"\n",
    "    return np.array([feature_engineer_ewm(X, halflife_list) for X in Xs])"
   ]
  },
  {
   "cell_type": "code",
   "execution_count": 22,
   "id": "e35a99e9-44a1-42b8-85d8-ff1b976cf67c",
   "metadata": {
    "tags": []
   },
   "outputs": [],
   "source": []
  },
  {
   "cell_type": "code",
   "execution_count": 23,
   "id": "bc741f31-baa9-49e0-b5e2-93037d59e7d7",
   "metadata": {
    "tags": []
   },
   "outputs": [],
   "source": [
    "Xs_ewm = feature_engineer_ewm_batch(Xs)"
   ]
  },
  {
   "cell_type": "code",
   "execution_count": 24,
   "id": "53a903a4-fa4f-47e6-a99f-c43b02a41b8a",
   "metadata": {
    "tags": []
   },
   "outputs": [],
   "source": [
    "Xs_zheng = feature_engineer_zheng_batch(Xs)"
   ]
  },
  {
   "cell_type": "code",
   "execution_count": null,
   "id": "cf35e530-465a-4a9a-b7c6-dea4003d7deb",
   "metadata": {},
   "outputs": [],
   "source": []
  },
  {
   "cell_type": "code",
   "execution_count": null,
   "id": "3a6d433b-ed2c-4150-99f8-814a42b0a1fa",
   "metadata": {},
   "outputs": [],
   "source": []
  },
  {
   "cell_type": "code",
   "execution_count": null,
   "id": "77d4b5de-774f-4d3e-81c9-62104052fa45",
   "metadata": {},
   "outputs": [],
   "source": []
  },
  {
   "cell_type": "code",
   "execution_count": 19,
   "id": "243d1586-8182-459b-af91-df7816c551d9",
   "metadata": {
    "tags": []
   },
   "outputs": [],
   "source": [
    "res = feature_engineer_ewm(X)"
   ]
  },
  {
   "cell_type": "code",
   "execution_count": 20,
   "id": "7da46264-a8e5-440b-a295-1bb628b6d4af",
   "metadata": {
    "tags": []
   },
   "outputs": [
    {
     "data": {
      "text/plain": [
       "(1040, 13)"
      ]
     },
     "execution_count": 20,
     "metadata": {},
     "output_type": "execute_result"
    }
   ],
   "source": [
    "res.shape"
   ]
  },
  {
   "cell_type": "code",
   "execution_count": null,
   "id": "c5e7180e-f8d6-4e96-8328-79bb93c1641d",
   "metadata": {},
   "outputs": [],
   "source": [
    "feature_engineer_zheng()"
   ]
  },
  {
   "cell_type": "code",
   "execution_count": null,
   "id": "2767fa55-36dc-49de-92bf-e2e59809659a",
   "metadata": {},
   "outputs": [],
   "source": []
  },
  {
   "cell_type": "code",
   "execution_count": null,
   "id": "ced14467-7e3b-4862-8371-53d9f522d99d",
   "metadata": {},
   "outputs": [],
   "source": []
  },
  {
   "cell_type": "code",
   "execution_count": null,
   "id": "30072d61-bfee-48cf-bb1a-d8030d606779",
   "metadata": {},
   "outputs": [],
   "source": []
  },
  {
   "cell_type": "code",
   "execution_count": 16,
   "id": "f1f97af0-0f17-4794-a1b4-a7ae2e3e57b4",
   "metadata": {
    "tags": []
   },
   "outputs": [
    {
     "data": {
      "text/plain": [
       "array([[ 0.00877534,         nan],\n",
       "       [ 0.00855462,  0.0002341 ],\n",
       "       [ 0.00536648,  0.00365498],\n",
       "       ...,\n",
       "       [-0.00747488,  0.00452595],\n",
       "       [-0.00638175,  0.00346909],\n",
       "       [-0.00234745,  0.00551639]])"
      ]
     },
     "execution_count": 16,
     "metadata": {},
     "output_type": "execute_result"
    }
   ],
   "source": [
    "ewma_mean_std(X, 1).to_numpy()"
   ]
  },
  {
   "cell_type": "code",
   "execution_count": 11,
   "id": "aef9cf14-97f4-4782-a9e5-17af0a39436a",
   "metadata": {
    "tags": []
   },
   "outputs": [
    {
     "data": {
      "text/plain": [
       "0       0.008775\n",
       "1       0.008581\n",
       "2       0.006041\n",
       "3       0.002669\n",
       "4       0.002634\n",
       "          ...   \n",
       "1035   -0.001458\n",
       "1036   -0.003473\n",
       "1037   -0.005387\n",
       "1038   -0.005358\n",
       "1039   -0.003295\n",
       "Length: 1040, dtype: float64"
      ]
     },
     "execution_count": 11,
     "metadata": {},
     "output_type": "execute_result"
    }
   ],
   "source": [
    "X_ser.ewm(halflife=2).mean()"
   ]
  },
  {
   "cell_type": "code",
   "execution_count": 12,
   "id": "d95be5ee-d712-4a1a-bc58-6825f5a5d9ac",
   "metadata": {
    "tags": []
   },
   "outputs": [
    {
     "data": {
      "text/plain": [
       "0       0.008775\n",
       "1       0.008555\n",
       "2       0.005366\n",
       "3       0.001121\n",
       "4       0.001869\n",
       "          ...   \n",
       "1035   -0.001547\n",
       "1036   -0.004942\n",
       "1037   -0.007475\n",
       "1038   -0.006382\n",
       "1039   -0.002347\n",
       "Length: 1040, dtype: float64"
      ]
     },
     "execution_count": 12,
     "metadata": {},
     "output_type": "execute_result"
    }
   ],
   "source": [
    "X_ser.ewm(halflife=1).mean()"
   ]
  },
  {
   "cell_type": "code",
   "execution_count": 10,
   "id": "8571ec17-7222-4e60-9568-43bd6074e855",
   "metadata": {
    "tags": []
   },
   "outputs": [
    {
     "data": {
      "text/plain": [
       "0            NaN\n",
       "1       0.000234\n",
       "2       0.003655\n",
       "3       0.005574\n",
       "4       0.003913\n",
       "          ...   \n",
       "1035    0.002978\n",
       "1036    0.004661\n",
       "1037    0.004526\n",
       "1038    0.003469\n",
       "1039    0.005516\n",
       "Length: 1040, dtype: float64"
      ]
     },
     "execution_count": 10,
     "metadata": {},
     "output_type": "execute_result"
    }
   ],
   "source": [
    "X_ser.ewm(halflife=1).std()"
   ]
  },
  {
   "cell_type": "code",
   "execution_count": 13,
   "id": "b259be66-d2ae-4627-b768-7d3c83d745f4",
   "metadata": {
    "tags": []
   },
   "outputs": [
    {
     "data": {
      "text/plain": [
       "0            NaN\n",
       "1       0.000234\n",
       "2       0.003490\n",
       "3       0.005614\n",
       "4       0.004383\n",
       "          ...   \n",
       "1035    0.004621\n",
       "1036    0.005190\n",
       "1037    0.005451\n",
       "1038    0.004584\n",
       "1039    0.005222\n",
       "Length: 1040, dtype: float64"
      ]
     },
     "execution_count": 13,
     "metadata": {},
     "output_type": "execute_result"
    }
   ],
   "source": [
    "X_ser.ewm(halflife=2).std()"
   ]
  },
  {
   "cell_type": "code",
   "execution_count": null,
   "id": "07a171cb-d51b-4d85-a1ab-b13fdb3a396e",
   "metadata": {},
   "outputs": [],
   "source": []
  }
 ],
 "metadata": {
  "kernelspec": {
   "display_name": "Python 3 (ipykernel)",
   "language": "python",
   "name": "python3"
  },
  "language_info": {
   "codemirror_mode": {
    "name": "ipython",
    "version": 3
   },
   "file_extension": ".py",
   "mimetype": "text/x-python",
   "name": "python",
   "nbconvert_exporter": "python",
   "pygments_lexer": "ipython3",
   "version": "3.10.9"
  }
 },
 "nbformat": 4,
 "nbformat_minor": 5
}
