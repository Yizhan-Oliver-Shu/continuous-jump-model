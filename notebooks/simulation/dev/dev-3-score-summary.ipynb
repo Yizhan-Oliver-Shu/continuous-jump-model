{
 "cells": [
  {
   "cell_type": "code",
   "execution_count": 1,
   "id": "badd5cef-fbcf-47f0-9c2c-4acb457d5b7f",
   "metadata": {
    "tags": []
   },
   "outputs": [],
   "source": [
    "%load_ext autoreload\n",
    "%autoreload 2\n",
    "import sys, os\n",
    "from os.path import expanduser\n",
    "## actions required!!!!!!!!!!!!!!!!!!!! change your folder path \n",
    "path = expanduser(\"~/Documents/G3_2/regime-identification\")\n",
    "sys.path.append(path)\n",
    "\n",
    "path_file = expanduser(\"~/data/G3_2/regime-identification/simulation\")\n",
    "path_data = f\"{path_file}/data\"\n",
    "path_estimation = f\"{path_file}/estimation\"\n",
    "path_score = f\"{path_file}/score\"\n",
    "path_figure = f\"{path_file}/figure\""
   ]
  },
  {
   "cell_type": "code",
   "execution_count": 2,
   "id": "4211d697-4e8f-4d66-b030-354d8b5c750a",
   "metadata": {
    "tags": []
   },
   "outputs": [],
   "source": [
    "import numpy as np"
   ]
  },
  {
   "cell_type": "code",
   "execution_count": 79,
   "id": "22aa58f8-59b7-4581-ade8-38e660595112",
   "metadata": {
    "tags": []
   },
   "outputs": [],
   "source": [
    "from regime.simulation_helper import *"
   ]
  },
  {
   "cell_type": "code",
   "execution_count": null,
   "id": "9558f463-939c-4c86-b689-223601148a59",
   "metadata": {},
   "outputs": [],
   "source": []
  },
  {
   "cell_type": "code",
   "execution_count": null,
   "id": "6ab75dc7-03cb-46de-bfb5-6b6cf6226461",
   "metadata": {},
   "outputs": [],
   "source": [
    "n_s_lst = [250, 500, 1000]\n",
    "n_t, n_buffer = 1024, 20\n",
    "\n",
    "key_data_list_dict = generate_key_data_list_dict()"
   ]
  },
  {
   "cell_type": "code",
   "execution_count": null,
   "id": "3c72cf79-a85b-425e-abe1-d29962dafa76",
   "metadata": {},
   "outputs": [],
   "source": [
    "batch_size, num_of_batch = 32, 1"
   ]
  },
  {
   "cell_type": "code",
   "execution_count": null,
   "id": "fbf2f127-8ce9-415b-bd19-585d63b52aa5",
   "metadata": {},
   "outputs": [],
   "source": []
  },
  {
   "cell_type": "code",
   "execution_count": null,
   "id": "39e572e8-1b75-46cf-afbd-e7d74f6e0e57",
   "metadata": {},
   "outputs": [],
   "source": []
  },
  {
   "cell_type": "code",
   "execution_count": null,
   "id": "55837da6-9f3d-447e-96b8-a0e81fe31dbc",
   "metadata": {},
   "outputs": [],
   "source": []
  },
  {
   "cell_type": "code",
   "execution_count": null,
   "id": "878ae6c9-3ba4-436c-a364-c05580d7cac9",
   "metadata": {},
   "outputs": [],
   "source": []
  },
  {
   "cell_type": "code",
   "execution_count": 5,
   "id": "c1c7826f-d202-40d5-82d7-954f8c6bf752",
   "metadata": {
    "tags": []
   },
   "outputs": [],
   "source": [
    "def generate_off_diagonal_idx(n_c):\n",
    "    res = []\n",
    "    for i, j in product(range(1, n_c+1), repeat=2):\n",
    "        if i != j:\n",
    "            res.append(f\"{i}{j}\")\n",
    "    return res\n",
    "\n",
    "def generate_summary_index(n_c):\n",
    "    index=[]\n",
    "    index += [f\"$\\mu_{i}$\" for i in range(1, n_c+1)]\n",
    "    index += [f\"$\\sigma_{i}$\" for i in range(1, n_c+1)]\n",
    "    index += [f\"$\\gamma_{{{ij}}}$\" for ij in generate_off_diagonal_idx(n_c)]\n",
    "    return index\n",
    "\n",
    "def compute_BAC_std_from_acc_arr(acc_arr):\n",
    "    \"\"\"\n",
    "    compute the mean/std of accuracy per class and balanced accuracy.\n",
    "    \n",
    "    Parameters:\n",
    "    ----------------------------------\n",
    "    acc_arr: size (n_s, n_c)\n",
    "        the accuracy of k-th class in n-th trial.\n",
    "        \n",
    "    Returns:\n",
    "    ----------------------------------\n",
    "    acc_mean,\n",
    "    \n",
    "    acc_std\n",
    "    \"\"\"\n",
    "    if acc_arr.ndim == 2:  # (n_t, n_c)\n",
    "        n_c = acc_arr.shape[1]\n",
    "        acc_cov = pd.DataFrame(acc_arr).cov().to_numpy()\n",
    "        vec = np.repeat(1/n_c, n_c)\n",
    "        quad_form = vec @ (acc_cov @ vec)\n",
    "        return 0 if quad_form<=0 else np.sqrt(quad_form)   #vec @ (acc_cov @ vec) #np.sqrt(vec @ (acc_cov @ vec))\n",
    "    # ndim == 3\n",
    "    n_l = acc_arr.shape[-1]\n",
    "    return np.array([compute_BAC_std_from_acc_arr(acc_arr[..., i_l]) for i_l in range(n_l)])"
   ]
  },
  {
   "cell_type": "code",
   "execution_count": 59,
   "id": "3da69fdc-969e-4af1-99ba-b0531ce5ad80",
   "metadata": {
    "tags": []
   },
   "outputs": [],
   "source": [
    "def generate_summary_df(model_params_arr, scoring_results):\n",
    "    def raise_scalar_to_list(x):\n",
    "        if np.isscalar(x): return [x] \n",
    "        return x\n",
    "    n_c = scoring_results[\"acc\"].shape[1]\n",
    "    means_dict, stds_dict = {}, {}\n",
    "    #\n",
    "    means_dict[\"model_params\"] = pd.DataFrame(np.nanmean(model_params_arr, axis=0), index=generate_summary_index(n_c))\n",
    "    stds_dict[\"model_params\"] = pd.DataFrame(np.nanstd(model_params_arr, axis=0), index=generate_summary_index(n_c))\n",
    "    #\n",
    "    acc_index = [f\"Accuracy {i}\" for i in range(1, n_c+1)]\n",
    "    means_dict[\"acc\"] = pd.DataFrame(np.nanmean(scoring_results[\"acc\"], axis=0), index=acc_index)\n",
    "    stds_dict[\"acc\"] = pd.DataFrame(np.nanstd(scoring_results[\"acc\"], axis=0), index=acc_index)\n",
    "    #\n",
    "    means_dict[\"BAC\"] = means_dict[\"acc\"].mean(0); means_dict[\"BAC\"] = pd.DataFrame(means_dict[\"BAC\"], columns=[\"BAC\"]).T\n",
    "    BAC_std = compute_BAC_std_from_acc_arr(scoring_results[\"acc\"]); BAC_std = raise_scalar_to_list(BAC_std)\n",
    "    stds_dict[\"BAC\"] = pd.DataFrame(BAC_std, columns=[\"BAC\"]).T\n",
    "    for name, score_arr in scoring_results.items():\n",
    "        if name == \"acc\":\n",
    "            continue\n",
    "        # print(raise_scalar_to_list(np.nanmean(score_arr, axis=0)))\n",
    "        means_dict[name] = pd.DataFrame(raise_scalar_to_list(np.nanmean(score_arr, axis=0)), columns=[name]).T\n",
    "        stds_dict[name] = pd.DataFrame(raise_scalar_to_list(np.nanstd(score_arr, axis=0)), columns=[name]).T\n",
    "    def combine_dict_to_df(dictionary):\n",
    "        return pd.concat(dictionary.values(), axis=0)\n",
    "    means_df, stds_df = combine_dict_to_df(means_dict).T, combine_dict_to_df(stds_dict).T\n",
    "    return means_df, stds_df, combine_means_std_df(means_df, stds_df)  #means_dict, stds_dict\n",
    "\n",
    "\n",
    "def combine_means_std_df(means_df, stds_df):\n",
    "    index, columns = means_df.index, means_df.columns\n",
    "    df = pd.DataFrame(index=index, columns=columns)\n",
    "    for idx, col in product(index, columns):\n",
    "        df.loc[idx, col] = f\"{means_df.loc[idx, col]:.4f} ({stds_df.loc[idx, col]:.4f})\"\n",
    "    return df"
   ]
  },
  {
   "cell_type": "code",
   "execution_count": 84,
   "id": "d8ca6292-aec0-4b7c-9ec7-c52531443fe7",
   "metadata": {
    "tags": []
   },
   "outputs": [],
   "source": [
    "def load_combine_estimation_arrs(name, key, path_estimation, number_of_batch=1, batch_size=32):\n",
    "    \"\"\"\n",
    "    load and combine one estimation arrs, from distributed locations.\n",
    "    \"\"\"\n",
    "    res = [np.load(f\"{path_estimation}/{name}{key}_{i}.npy\")[:batch_size] for i in range(number_of_batch)]\n",
    "    return np.concatenate(res, axis=0)\n",
    "\n",
    "def load_combine_estimation_results(key, path_estimation, number_of_batch=1, batch_size=32):\n",
    "    \"\"\"\n",
    "    load and combine estimated {\"model_params_\", \"labels_\", \"proba_\"}, from distributed locations.\n",
    "    \"\"\"\n",
    "    estimation_results = {}\n",
    "    for name in [\"modelParams_\", \"labels_\", \"proba_\"]:\n",
    "        estimation_results[name] = load_combine_estimation_arrs(name, key, path_estimation, number_of_batch, batch_size)\n",
    "    return estimation_results[\"modelParams_\"], estimation_results[\"labels_\"], estimation_results[\"proba_\"]\n",
    "    #  model_params_, labels_, proba_"
   ]
  },
  {
   "cell_type": "code",
   "execution_count": 74,
   "id": "128f28af-1087-47d8-9bc2-daf03609f75b",
   "metadata": {
    "tags": []
   },
   "outputs": [
    {
     "data": {
      "text/plain": [
       "'3StateDaily1000_HMM_true'"
      ]
     },
     "execution_count": 74,
     "metadata": {},
     "output_type": "execute_result"
    }
   ],
   "source": [
    "\"3StateDaily1000_HMM_true\"\n",
    "model_params_, labels_, proba_ = load_combine_estimation_results(\"2StateDaily1000_HMM_true\", path_estimation)"
   ]
  },
  {
   "cell_type": "code",
   "execution_count": 4,
   "id": "a45f141d-fc4a-43f3-8259-6bcf1f878da4",
   "metadata": {
    "tags": []
   },
   "outputs": [],
   "source": [
    "def scoring_labels_proba_(Zs_true, labels_arr, proba_arr):\n",
    "    has_params = labels_arr.ndim==3\n",
    "    n_c = len(np.unique(Zs_true))\n",
    "    scoring_res = {}\n",
    "    scoring_res[\"acc\"] = scorer_batch(accuracy_each_cluster, Zs_true, labels_arr, n_c, has_params=has_params)\n",
    "    scoring_res[\"ROC-AUC\"] = scorer_batch(roc_auc_score, Zs_true, proba_arr[:, :, 1], has_params=has_params, idx=True)\n",
    "    return scoring_res\n",
    "\n",
    "def save_scoring_results(scoring_results, key, path_score):\n",
    "    for score_name, scores in scoring_results.items():\n",
    "        np_save_print(f\"{path_score}/{score_name}_{key}.npy\", scores, score_name)"
   ]
  },
  {
   "cell_type": "code",
   "execution_count": null,
   "id": "50c4d4f1-f5ca-4134-aca5-842071fb5aff",
   "metadata": {},
   "outputs": [],
   "source": [
    "def score_and_summary_model(key, path_data, path_estimation, path_score, number_of_batch=1, batch_size=32):\n",
    "    \"\"\"\n",
    "    score and summary one model estimation results, from distributed locations.\n",
    "    \"\"\"\n",
    "    key_data = key.split(\"_\")[0]\n",
    "    # load true labels\n",
    "    Zs = np.load(f\"{path_data}/Zs_{key_data}.npy\")[:number_of_batch * batch_size]  \n",
    "    # load estimation results\n",
    "    model_params_, labels_, proba_ = load_combine_estimation_results(key, path_estimation, number_of_batch, batch_size)\n",
    "    # scoring classification accuracy\n",
    "    scoring_results = scoring_labels_proba_(Zs, labels_, proba_)\n",
    "    # save scores\n",
    "    save_scoring_results(scoring_results, key, path_score)\n",
    "    # combine model params estimation with accuracy scores\n",
    "    means_df, stds_df, summary_df = generate_summary_df(estimation_results[\"model_params_\"], scoring_results)\n",
    "    return means_df, stds_df, summary_df    "
   ]
  },
  {
   "cell_type": "code",
   "execution_count": null,
   "id": "0cc77f6a-e9d7-4c12-8ed6-a70aa5859b76",
   "metadata": {},
   "outputs": [],
   "source": [
    "model_fit_many_datas_models(key_data_list_dict[n_c], [key_feat_hmm], model_dict_hmm, param_grid_hmm, path_data, path_estimation, job_id, batch_size)"
   ]
  },
  {
   "cell_type": "code",
   "execution_count": 90,
   "id": "43c35f0b-b3e9-4195-8397-22a78e1d9245",
   "metadata": {
    "tags": []
   },
   "outputs": [],
   "source": [
    "import imgkit\n",
    "def save_df_as_fig(df, fig_path):\n",
    "    return imgkit.from_string(df.style.to_html(), fig_path)"
   ]
  },
  {
   "cell_type": "code",
   "execution_count": 92,
   "id": "f53b807c-81d8-4572-b3f3-67ac11356c0d",
   "metadata": {
    "tags": []
   },
   "outputs": [
    {
     "name": "stdout",
     "output_type": "stream",
     "text": [
      "Loading page (1/2)\n",
      "Rendering (2/2)                                                    \n",
      "Done                                                               \n"
     ]
    },
    {
     "data": {
      "text/plain": [
       "True"
      ]
     },
     "execution_count": 92,
     "metadata": {},
     "output_type": "execute_result"
    }
   ],
   "source": [
    "df = pd.DataFrame(np.random.randn(4, 3))\n",
    "save_df_as_fig(df, f\"{path_figure}/test.jpeg\")"
   ]
  },
  {
   "cell_type": "code",
   "execution_count": null,
   "id": "5899270d-46ba-46e7-a133-2d2bc5c9ebaf",
   "metadata": {},
   "outputs": [],
   "source": []
  },
  {
   "cell_type": "code",
   "execution_count": null,
   "id": "6971d872-5344-4eed-bed2-46aa7dff45d8",
   "metadata": {},
   "outputs": [],
   "source": []
  },
  {
   "cell_type": "code",
   "execution_count": null,
   "id": "ec5c2b10-4402-4d56-89c0-70b36f470d5c",
   "metadata": {},
   "outputs": [],
   "source": []
  },
  {
   "cell_type": "code",
   "execution_count": null,
   "id": "f3305054-5d99-4284-a83a-75a1b726b9d5",
   "metadata": {},
   "outputs": [],
   "source": [
    "def score_and_summary_many_models(key_data_list, key_feat_list, key_model_list, path_data, path_estimation, path_score, path_figure, number_of_batch=1, batch_size=32):\n",
    "    for key_data, key_feat, key_model in product(key_data_list, key_feat_list, key_model_list):\n",
    "        key = f\"{key_data}_{key_feat}_{key_model}\"\n",
    "        means_df, stds_df, summary_df = score_and_summary_model(key, path_data, path_estimation, path_score, number_of_batch, batch_size)\n",
    "        means_df.to_hdf(f\"{path_score}/means_{key}.h5\", \"means\", \"w\")\n",
    "        stds_df.to_hdf(f\"{path_score}/stds_{key}.h5\", \"stds\", \"w\")\n",
    "        summary_df.to_hdf(f\"{path_score}/summary_{key}.h5\", \"summary\", \"w\")\n",
    "        save_df_as_fig(summary_df, f\"{path_figure}/summary_{key}.jpeg\")\n",
    "    return \n",
    "    "
   ]
  },
  {
   "cell_type": "code",
   "execution_count": null,
   "id": "5ee4693f-1042-47dc-a1ff-2f29fb882b2e",
   "metadata": {},
   "outputs": [],
   "source": [
    "# def score_and_summary_models(key_data_list, key_feat_list, key_model_list, number_of_batch=1):\n",
    "#     \"\"\"\n",
    "#     score and summary models.\n",
    "#     \"\"\"\n",
    "#     for key_data in key_data_list:\n",
    "#         # true labels\n",
    "#         Zs = np.load(f\"{path_data}/Zs_{key_data}.npy\")\n",
    "#         n_c = len(np.unique(Zs))\n",
    "#         for key_feat, key_model in product(key_feat_list, key_model_list):\n",
    "#             key = f\"{key_data}_{key_feat}_{key_model}\"\n",
    "#             estimation_restuls = {}\n",
    "#             for name in [\"model_params_\", \"labels_\", \"proba_\"]:\n",
    "#                 estimation_results[name] = load_and_combine_estimation_arrs(name, key, number_of_batch)\n",
    "#             scoring_results = scoring_labels_proba(Zs, estimation_results[\"labels_\"], estimation_results[\"proba_\"])\n",
    "                \n",
    "                \n",
    "            \n",
    "            \n",
    "            \n",
    "            \n",
    "#             # load estimation results\n",
    "#             labels_arr, proba_arr = np.load(f\"{path_estimation}/labels_{key}.npy\"), np.load(f\"{path_estimation}/proba_{key}.npy\")\n",
    "#             # scoring\n",
    "#             acc_arr = scorer_batch(accuracy_each_cluster, Zs, labels_arr, n_c)\n",
    "#             roc_auc_arr = scorer_batch(roc_auc_score, Zs, proba_arr[..., 1], idx=True)\n",
    "#             # save scores\n",
    "#             np_save_print(f\"{path_score}/acc_{key}.npy\", acc_arr, \"accuracy score\")\n",
    "#             np_save_print(f\"{path_score}/roc_auc_{key}.npy\", roc_auc_arr, \"roc auc score\")\n",
    "#             # load model params\n",
    "#             model_params_arr = np.load(f\"{path_estimation}/model_params_{key}.npy\")\n",
    "            "
   ]
  },
  {
   "cell_type": "code",
   "execution_count": 39,
   "id": "3091cb34-d43b-4fde-8cc1-faf44ad6ce22",
   "metadata": {
    "tags": []
   },
   "outputs": [],
   "source": [
    "# def score_and_summary_model(key_data, key_feat, key_model, path_data, path_estimation, path_score, number_of_batch=1, batch_size=32):\n",
    "#     key=f\"{key_data}_{key_feat}_{key_model}\"\n",
    "#     # load true labels\n",
    "#     Zs = np.load(f\"{path_data}/Zs_{key_data}.npy\")[:number_of_batch * batch_size]\n",
    "#     # load and combine estimation results\n",
    "#     model_params_arr, labels_arr, proba_arr = load_combine_estimation_results()\n",
    "#     estimation_results = {}\n",
    "#     for name in [\"model_params_\", \"labels_\", \"proba_\"]:\n",
    "#         estimation_results[name] = load_and_combine_estimation_arrs(name, key, path_estimation, number_of_batch)[:number_of_batch * batch_size]\n",
    "#     # scoring classification accuracy\n",
    "#     scoring_results = scoring_labels_proba_(Zs, estimation_results[\"labels_\"], estimation_results[\"proba_\"])\n",
    "#     # save scores\n",
    "#     save_scoring_results(scoring_results, key, path_score)\n",
    "#     # combine model params estimation with accuracy scores\n",
    "#     means_df, stds_df, summary_df = generate_summary_df(estimation_results[\"model_params_\"], scoring_results)\n",
    "#     return means_df, stds_df, summary_df\n",
    "#     # save as picture for convenience    "
   ]
  },
  {
   "cell_type": "code",
   "execution_count": 35,
   "id": "d4fab350-85df-4909-847a-1653265c0dca",
   "metadata": {
    "tags": []
   },
   "outputs": [
    {
     "name": "stdout",
     "output_type": "stream",
     "text": [
      "shape of the saved acc: (32, 2).\n",
      "shape of the saved ROC-AUC: (32,).\n"
     ]
    }
   ],
   "source": [
    "means_df, stds_df, summary_df = score_and_summary_model(\"daily_1000\", \"HMM\", \"HMM\", path_data, path_estimation, path_score)"
   ]
  },
  {
   "cell_type": "code",
   "execution_count": 40,
   "id": "5bf652b9-5ee2-490a-8537-406c3bd25855",
   "metadata": {
    "tags": []
   },
   "outputs": [
    {
     "name": "stdout",
     "output_type": "stream",
     "text": [
      "shape of the saved acc: (32, 2).\n",
      "shape of the saved ROC-AUC: (32,).\n"
     ]
    }
   ],
   "source": [
    "means_df, stds_df, summary_df = score_and_summary_model(\"daily_1000\", \"HMM\", \"true\", path_data, path_estimation, path_score)"
   ]
  },
  {
   "cell_type": "code",
   "execution_count": 60,
   "id": "71322f9f-4ccc-4658-ab0a-be4829c18a97",
   "metadata": {
    "tags": []
   },
   "outputs": [
    {
     "name": "stdout",
     "output_type": "stream",
     "text": [
      "shape of the saved acc: (32, 2, 15).\n",
      "shape of the saved ROC-AUC: (32, 15).\n",
      "[0.85109964 0.85155089 0.85073145 0.85772333 0.85113359 0.88624524\n",
      " 0.93599888 0.94829801 0.83063785 0.5        0.5        0.5\n",
      " 0.5        0.5        0.5       ]\n"
     ]
    }
   ],
   "source": [
    "means_df, stds_df, summary_df = score_and_summary_model(\"daily_1000\", \"zheng\", \"discrete\", path_data, path_estimation, path_score)"
   ]
  },
  {
   "cell_type": "code",
   "execution_count": null,
   "id": "e4d43238-6c63-44fc-9cb6-6a6946c8d3eb",
   "metadata": {},
   "outputs": [],
   "source": []
  },
  {
   "cell_type": "code",
   "execution_count": null,
   "id": "19ad9907-5a84-4636-a91d-030b7c0f5bb2",
   "metadata": {},
   "outputs": [],
   "source": []
  },
  {
   "cell_type": "code",
   "execution_count": null,
   "id": "35bc47d9-742b-4d86-9b6b-2d7bbea360a3",
   "metadata": {},
   "outputs": [],
   "source": []
  },
  {
   "cell_type": "code",
   "execution_count": 51,
   "id": "cc3ed051-6179-434e-8da7-23f67b06106e",
   "metadata": {
    "tags": []
   },
   "outputs": [],
   "source": [
    "acc=np.load(f\"{path_score}/acc_daily_1000_zheng_discrete.npy\")\n",
    "roc_auc=np.load(f\"{path_score}/ROC-AUC_daily_1000_zheng_discrete.npy\")"
   ]
  },
  {
   "cell_type": "code",
   "execution_count": 53,
   "id": "a3d7ee5d-90d6-4106-8657-a733def8fb06",
   "metadata": {
    "tags": []
   },
   "outputs": [
    {
     "data": {
      "text/plain": [
       "array([0.85109964, 0.85155089, 0.85073145, 0.85772333, 0.85113359,\n",
       "       0.88624524, 0.93599888, 0.94829801, 0.83063785, 0.5       ,\n",
       "       0.5       , 0.5       , 0.5       , 0.5       , 0.5       ])"
      ]
     },
     "execution_count": 53,
     "metadata": {},
     "output_type": "execute_result"
    }
   ],
   "source": [
    "np.nanmean(roc_auc, 0)"
   ]
  },
  {
   "cell_type": "code",
   "execution_count": 49,
   "id": "b99251c5-eb3f-40f0-b91a-da24f5c45885",
   "metadata": {
    "tags": []
   },
   "outputs": [
    {
     "data": {
      "text/plain": [
       "array([[0.85929377, 0.86009896, 0.86086198, 0.86309048, 0.87171385,\n",
       "        0.88683847, 0.93994484, 0.98006696, 0.98845667, 0.96875   ,\n",
       "        0.96875   , 0.96875   , 0.96875   , 0.96875   , 0.96875   ],\n",
       "       [0.78525851, 0.7852808 , 0.78292278, 0.79426534, 0.77001373,\n",
       "        0.82620043, 0.89691497, 0.91510925, 0.67495668, 0.03703704,\n",
       "        0.03703704, 0.03703704, 0.03703704, 0.03703704, 0.03703704]])"
      ]
     },
     "execution_count": 49,
     "metadata": {},
     "output_type": "execute_result"
    }
   ],
   "source": [
    "np.nanmean(acc, axis=0)#.shape"
   ]
  },
  {
   "cell_type": "code",
   "execution_count": null,
   "id": "d494f892-80be-440d-868c-5ecdbd03161a",
   "metadata": {},
   "outputs": [],
   "source": []
  },
  {
   "cell_type": "code",
   "execution_count": 61,
   "id": "ca00874c-febe-4523-a09e-1a94e1d82daa",
   "metadata": {
    "tags": []
   },
   "outputs": [
    {
     "data": {
      "text/html": [
       "<div>\n",
       "<style scoped>\n",
       "    .dataframe tbody tr th:only-of-type {\n",
       "        vertical-align: middle;\n",
       "    }\n",
       "\n",
       "    .dataframe tbody tr th {\n",
       "        vertical-align: top;\n",
       "    }\n",
       "\n",
       "    .dataframe thead th {\n",
       "        text-align: right;\n",
       "    }\n",
       "</style>\n",
       "<table border=\"1\" class=\"dataframe\">\n",
       "  <thead>\n",
       "    <tr style=\"text-align: right;\">\n",
       "      <th></th>\n",
       "      <th>$\\mu_1$</th>\n",
       "      <th>$\\mu_2$</th>\n",
       "      <th>$\\sigma_1$</th>\n",
       "      <th>$\\sigma_2$</th>\n",
       "      <th>$\\gamma_{12}$</th>\n",
       "      <th>$\\gamma_{21}$</th>\n",
       "      <th>Accuracy 1</th>\n",
       "      <th>Accuracy 2</th>\n",
       "      <th>BAC</th>\n",
       "      <th>ROC-AUC</th>\n",
       "    </tr>\n",
       "  </thead>\n",
       "  <tbody>\n",
       "    <tr>\n",
       "      <th>0</th>\n",
       "      <td>0.0007 (0.0009)</td>\n",
       "      <td>-0.0005 (0.0024)</td>\n",
       "      <td>0.0076 (0.0009)</td>\n",
       "      <td>0.0150 (0.0041)</td>\n",
       "      <td>0.0558 (0.0484)</td>\n",
       "      <td>0.1315 (0.0482)</td>\n",
       "      <td>0.8593 (0.1800)</td>\n",
       "      <td>0.7853 (0.1786)</td>\n",
       "      <td>0.8223 (0.1408)</td>\n",
       "      <td>0.8511 (0.1236)</td>\n",
       "    </tr>\n",
       "    <tr>\n",
       "      <th>1</th>\n",
       "      <td>0.0007 (0.0009)</td>\n",
       "      <td>-0.0006 (0.0024)</td>\n",
       "      <td>0.0076 (0.0009)</td>\n",
       "      <td>0.0151 (0.0041)</td>\n",
       "      <td>0.0530 (0.0457)</td>\n",
       "      <td>0.1260 (0.0452)</td>\n",
       "      <td>0.8601 (0.1800)</td>\n",
       "      <td>0.7853 (0.1782)</td>\n",
       "      <td>0.8227 (0.1408)</td>\n",
       "      <td>0.8516 (0.1235)</td>\n",
       "    </tr>\n",
       "    <tr>\n",
       "      <th>2</th>\n",
       "      <td>0.0007 (0.0009)</td>\n",
       "      <td>-0.0006 (0.0024)</td>\n",
       "      <td>0.0076 (0.0009)</td>\n",
       "      <td>0.0151 (0.0042)</td>\n",
       "      <td>0.0471 (0.0401)</td>\n",
       "      <td>0.1145 (0.0407)</td>\n",
       "      <td>0.8609 (0.1795)</td>\n",
       "      <td>0.7829 (0.1774)</td>\n",
       "      <td>0.8219 (0.1402)</td>\n",
       "      <td>0.8507 (0.1228)</td>\n",
       "    </tr>\n",
       "    <tr>\n",
       "      <th>3</th>\n",
       "      <td>0.0009 (0.0008)</td>\n",
       "      <td>-0.0007 (0.0022)</td>\n",
       "      <td>0.0077 (0.0008)</td>\n",
       "      <td>0.0150 (0.0042)</td>\n",
       "      <td>0.0365 (0.0312)</td>\n",
       "      <td>0.0908 (0.0365)</td>\n",
       "      <td>0.8631 (0.1785)</td>\n",
       "      <td>0.7943 (0.1800)</td>\n",
       "      <td>0.8287 (0.1420)</td>\n",
       "      <td>0.8577 (0.1245)</td>\n",
       "    </tr>\n",
       "    <tr>\n",
       "      <th>4</th>\n",
       "      <td>0.0008 (0.0008)</td>\n",
       "      <td>-0.0007 (0.0021)</td>\n",
       "      <td>0.0079 (0.0007)</td>\n",
       "      <td>0.0149 (0.0045)</td>\n",
       "      <td>0.0226 (0.0209)</td>\n",
       "      <td>0.0588 (0.0256)</td>\n",
       "      <td>0.8717 (0.1798)</td>\n",
       "      <td>0.7700 (0.2249)</td>\n",
       "      <td>0.8209 (0.1795)</td>\n",
       "      <td>0.8511 (0.1632)</td>\n",
       "    </tr>\n",
       "    <tr>\n",
       "      <th>5</th>\n",
       "      <td>0.0008 (0.0006)</td>\n",
       "      <td>-0.0005 (0.0020)</td>\n",
       "      <td>0.0079 (0.0005)</td>\n",
       "      <td>0.0149 (0.0044)</td>\n",
       "      <td>0.0115 (0.0105)</td>\n",
       "      <td>0.0326 (0.0154)</td>\n",
       "      <td>0.8868 (0.1694)</td>\n",
       "      <td>0.8262 (0.1842)</td>\n",
       "      <td>0.8565 (0.1416)</td>\n",
       "      <td>0.8862 (0.1220)</td>\n",
       "    </tr>\n",
       "    <tr>\n",
       "      <th>6</th>\n",
       "      <td>0.0008 (0.0005)</td>\n",
       "      <td>-0.0006 (0.0022)</td>\n",
       "      <td>0.0079 (0.0003)</td>\n",
       "      <td>0.0152 (0.0040)</td>\n",
       "      <td>0.0041 (0.0028)</td>\n",
       "      <td>0.0200 (0.0147)</td>\n",
       "      <td>0.9399 (0.1050)</td>\n",
       "      <td>0.8969 (0.0874)</td>\n",
       "      <td>0.9184 (0.0677)</td>\n",
       "      <td>0.9360 (0.0473)</td>\n",
       "    </tr>\n",
       "    <tr>\n",
       "      <th>7</th>\n",
       "      <td>0.0007 (0.0002)</td>\n",
       "      <td>-0.0002 (0.0023)</td>\n",
       "      <td>0.0079 (0.0003)</td>\n",
       "      <td>0.0157 (0.0032)</td>\n",
       "      <td>0.0019 (0.0013)</td>\n",
       "      <td>0.0197 (0.0225)</td>\n",
       "      <td>0.9801 (0.0280)</td>\n",
       "      <td>0.9151 (0.0838)</td>\n",
       "      <td>0.9476 (0.0406)</td>\n",
       "      <td>0.9483 (0.0397)</td>\n",
       "    </tr>\n",
       "    <tr>\n",
       "      <th>8</th>\n",
       "      <td>0.0007 (0.0003)</td>\n",
       "      <td>-0.0008 (0.0023)</td>\n",
       "      <td>0.0084 (0.0010)</td>\n",
       "      <td>0.0170 (0.0012)</td>\n",
       "      <td>0.0009 (0.0008)</td>\n",
       "      <td>0.0094 (0.0063)</td>\n",
       "      <td>0.9885 (0.0233)</td>\n",
       "      <td>0.6750 (0.3316)</td>\n",
       "      <td>0.8317 (0.1659)</td>\n",
       "      <td>0.8306 (0.1629)</td>\n",
       "    </tr>\n",
       "    <tr>\n",
       "      <th>9</th>\n",
       "      <td>0.0005 (0.0003)</td>\n",
       "      <td>0.0007 (0.0000)</td>\n",
       "      <td>0.0096 (0.0015)</td>\n",
       "      <td>0.0145 (0.0000)</td>\n",
       "      <td>0.0000 (0.0000)</td>\n",
       "      <td>0.0000 (0.0000)</td>\n",
       "      <td>0.9688 (0.1740)</td>\n",
       "      <td>0.0370 (0.1889)</td>\n",
       "      <td>0.5029 (0.0000)</td>\n",
       "      <td>0.5000 (0.0000)</td>\n",
       "    </tr>\n",
       "    <tr>\n",
       "      <th>10</th>\n",
       "      <td>0.0005 (0.0003)</td>\n",
       "      <td>0.0007 (0.0000)</td>\n",
       "      <td>0.0096 (0.0015)</td>\n",
       "      <td>0.0145 (0.0000)</td>\n",
       "      <td>0.0000 (0.0000)</td>\n",
       "      <td>0.0000 (0.0000)</td>\n",
       "      <td>0.9688 (0.1740)</td>\n",
       "      <td>0.0370 (0.1889)</td>\n",
       "      <td>0.5029 (0.0000)</td>\n",
       "      <td>0.5000 (0.0000)</td>\n",
       "    </tr>\n",
       "    <tr>\n",
       "      <th>11</th>\n",
       "      <td>0.0005 (0.0003)</td>\n",
       "      <td>0.0007 (0.0000)</td>\n",
       "      <td>0.0096 (0.0015)</td>\n",
       "      <td>0.0145 (0.0000)</td>\n",
       "      <td>0.0000 (0.0000)</td>\n",
       "      <td>0.0000 (0.0000)</td>\n",
       "      <td>0.9688 (0.1740)</td>\n",
       "      <td>0.0370 (0.1889)</td>\n",
       "      <td>0.5029 (0.0000)</td>\n",
       "      <td>0.5000 (0.0000)</td>\n",
       "    </tr>\n",
       "    <tr>\n",
       "      <th>12</th>\n",
       "      <td>0.0005 (0.0003)</td>\n",
       "      <td>0.0007 (0.0000)</td>\n",
       "      <td>0.0096 (0.0015)</td>\n",
       "      <td>0.0145 (0.0000)</td>\n",
       "      <td>0.0000 (0.0000)</td>\n",
       "      <td>0.0000 (0.0000)</td>\n",
       "      <td>0.9688 (0.1740)</td>\n",
       "      <td>0.0370 (0.1889)</td>\n",
       "      <td>0.5029 (0.0000)</td>\n",
       "      <td>0.5000 (0.0000)</td>\n",
       "    </tr>\n",
       "    <tr>\n",
       "      <th>13</th>\n",
       "      <td>0.0005 (0.0003)</td>\n",
       "      <td>0.0007 (0.0000)</td>\n",
       "      <td>0.0096 (0.0015)</td>\n",
       "      <td>0.0145 (0.0000)</td>\n",
       "      <td>0.0000 (0.0000)</td>\n",
       "      <td>0.0000 (0.0000)</td>\n",
       "      <td>0.9688 (0.1740)</td>\n",
       "      <td>0.0370 (0.1889)</td>\n",
       "      <td>0.5029 (0.0000)</td>\n",
       "      <td>0.5000 (0.0000)</td>\n",
       "    </tr>\n",
       "    <tr>\n",
       "      <th>14</th>\n",
       "      <td>0.0005 (0.0003)</td>\n",
       "      <td>0.0007 (0.0000)</td>\n",
       "      <td>0.0096 (0.0015)</td>\n",
       "      <td>0.0145 (0.0000)</td>\n",
       "      <td>0.0000 (0.0000)</td>\n",
       "      <td>0.0000 (0.0000)</td>\n",
       "      <td>0.9688 (0.1740)</td>\n",
       "      <td>0.0370 (0.1889)</td>\n",
       "      <td>0.5029 (0.0000)</td>\n",
       "      <td>0.5000 (0.0000)</td>\n",
       "    </tr>\n",
       "  </tbody>\n",
       "</table>\n",
       "</div>"
      ],
      "text/plain": [
       "            $\\mu_1$           $\\mu_2$       $\\sigma_1$       $\\sigma_2$  \\\n",
       "0   0.0007 (0.0009)  -0.0005 (0.0024)  0.0076 (0.0009)  0.0150 (0.0041)   \n",
       "1   0.0007 (0.0009)  -0.0006 (0.0024)  0.0076 (0.0009)  0.0151 (0.0041)   \n",
       "2   0.0007 (0.0009)  -0.0006 (0.0024)  0.0076 (0.0009)  0.0151 (0.0042)   \n",
       "3   0.0009 (0.0008)  -0.0007 (0.0022)  0.0077 (0.0008)  0.0150 (0.0042)   \n",
       "4   0.0008 (0.0008)  -0.0007 (0.0021)  0.0079 (0.0007)  0.0149 (0.0045)   \n",
       "5   0.0008 (0.0006)  -0.0005 (0.0020)  0.0079 (0.0005)  0.0149 (0.0044)   \n",
       "6   0.0008 (0.0005)  -0.0006 (0.0022)  0.0079 (0.0003)  0.0152 (0.0040)   \n",
       "7   0.0007 (0.0002)  -0.0002 (0.0023)  0.0079 (0.0003)  0.0157 (0.0032)   \n",
       "8   0.0007 (0.0003)  -0.0008 (0.0023)  0.0084 (0.0010)  0.0170 (0.0012)   \n",
       "9   0.0005 (0.0003)   0.0007 (0.0000)  0.0096 (0.0015)  0.0145 (0.0000)   \n",
       "10  0.0005 (0.0003)   0.0007 (0.0000)  0.0096 (0.0015)  0.0145 (0.0000)   \n",
       "11  0.0005 (0.0003)   0.0007 (0.0000)  0.0096 (0.0015)  0.0145 (0.0000)   \n",
       "12  0.0005 (0.0003)   0.0007 (0.0000)  0.0096 (0.0015)  0.0145 (0.0000)   \n",
       "13  0.0005 (0.0003)   0.0007 (0.0000)  0.0096 (0.0015)  0.0145 (0.0000)   \n",
       "14  0.0005 (0.0003)   0.0007 (0.0000)  0.0096 (0.0015)  0.0145 (0.0000)   \n",
       "\n",
       "      $\\gamma_{12}$    $\\gamma_{21}$       Accuracy 1       Accuracy 2  \\\n",
       "0   0.0558 (0.0484)  0.1315 (0.0482)  0.8593 (0.1800)  0.7853 (0.1786)   \n",
       "1   0.0530 (0.0457)  0.1260 (0.0452)  0.8601 (0.1800)  0.7853 (0.1782)   \n",
       "2   0.0471 (0.0401)  0.1145 (0.0407)  0.8609 (0.1795)  0.7829 (0.1774)   \n",
       "3   0.0365 (0.0312)  0.0908 (0.0365)  0.8631 (0.1785)  0.7943 (0.1800)   \n",
       "4   0.0226 (0.0209)  0.0588 (0.0256)  0.8717 (0.1798)  0.7700 (0.2249)   \n",
       "5   0.0115 (0.0105)  0.0326 (0.0154)  0.8868 (0.1694)  0.8262 (0.1842)   \n",
       "6   0.0041 (0.0028)  0.0200 (0.0147)  0.9399 (0.1050)  0.8969 (0.0874)   \n",
       "7   0.0019 (0.0013)  0.0197 (0.0225)  0.9801 (0.0280)  0.9151 (0.0838)   \n",
       "8   0.0009 (0.0008)  0.0094 (0.0063)  0.9885 (0.0233)  0.6750 (0.3316)   \n",
       "9   0.0000 (0.0000)  0.0000 (0.0000)  0.9688 (0.1740)  0.0370 (0.1889)   \n",
       "10  0.0000 (0.0000)  0.0000 (0.0000)  0.9688 (0.1740)  0.0370 (0.1889)   \n",
       "11  0.0000 (0.0000)  0.0000 (0.0000)  0.9688 (0.1740)  0.0370 (0.1889)   \n",
       "12  0.0000 (0.0000)  0.0000 (0.0000)  0.9688 (0.1740)  0.0370 (0.1889)   \n",
       "13  0.0000 (0.0000)  0.0000 (0.0000)  0.9688 (0.1740)  0.0370 (0.1889)   \n",
       "14  0.0000 (0.0000)  0.0000 (0.0000)  0.9688 (0.1740)  0.0370 (0.1889)   \n",
       "\n",
       "                BAC          ROC-AUC  \n",
       "0   0.8223 (0.1408)  0.8511 (0.1236)  \n",
       "1   0.8227 (0.1408)  0.8516 (0.1235)  \n",
       "2   0.8219 (0.1402)  0.8507 (0.1228)  \n",
       "3   0.8287 (0.1420)  0.8577 (0.1245)  \n",
       "4   0.8209 (0.1795)  0.8511 (0.1632)  \n",
       "5   0.8565 (0.1416)  0.8862 (0.1220)  \n",
       "6   0.9184 (0.0677)  0.9360 (0.0473)  \n",
       "7   0.9476 (0.0406)  0.9483 (0.0397)  \n",
       "8   0.8317 (0.1659)  0.8306 (0.1629)  \n",
       "9   0.5029 (0.0000)  0.5000 (0.0000)  \n",
       "10  0.5029 (0.0000)  0.5000 (0.0000)  \n",
       "11  0.5029 (0.0000)  0.5000 (0.0000)  \n",
       "12  0.5029 (0.0000)  0.5000 (0.0000)  \n",
       "13  0.5029 (0.0000)  0.5000 (0.0000)  \n",
       "14  0.5029 (0.0000)  0.5000 (0.0000)  "
      ]
     },
     "execution_count": 61,
     "metadata": {},
     "output_type": "execute_result"
    }
   ],
   "source": [
    "summary_df"
   ]
  },
  {
   "cell_type": "code",
   "execution_count": 41,
   "id": "6db22844-90a6-4bac-8478-6e2c63d06435",
   "metadata": {
    "tags": []
   },
   "outputs": [
    {
     "data": {
      "text/html": [
       "<div>\n",
       "<style scoped>\n",
       "    .dataframe tbody tr th:only-of-type {\n",
       "        vertical-align: middle;\n",
       "    }\n",
       "\n",
       "    .dataframe tbody tr th {\n",
       "        vertical-align: top;\n",
       "    }\n",
       "\n",
       "    .dataframe thead th {\n",
       "        text-align: right;\n",
       "    }\n",
       "</style>\n",
       "<table border=\"1\" class=\"dataframe\">\n",
       "  <thead>\n",
       "    <tr style=\"text-align: right;\">\n",
       "      <th></th>\n",
       "      <th>$\\mu_1$</th>\n",
       "      <th>$\\mu_2$</th>\n",
       "      <th>$\\sigma_1$</th>\n",
       "      <th>$\\sigma_2$</th>\n",
       "      <th>$\\gamma_{12}$</th>\n",
       "      <th>$\\gamma_{21}$</th>\n",
       "      <th>Accuracy 1</th>\n",
       "      <th>Accuracy 2</th>\n",
       "      <th>BAC</th>\n",
       "      <th>ROC-AUC</th>\n",
       "    </tr>\n",
       "  </thead>\n",
       "  <tbody>\n",
       "    <tr>\n",
       "      <th>0</th>\n",
       "      <td>0.0006 (0.0000)</td>\n",
       "      <td>-0.0008 (0.0000)</td>\n",
       "      <td>0.0078 (0.0000)</td>\n",
       "      <td>0.0174 (0.0000)</td>\n",
       "      <td>0.0021 (0.0000)</td>\n",
       "      <td>0.0120 (0.0000)</td>\n",
       "      <td>0.9915 (0.0186)</td>\n",
       "      <td>0.9120 (0.1871)</td>\n",
       "      <td>0.9517 (0.0943)</td>\n",
       "      <td>0.9988 (0.0020)</td>\n",
       "    </tr>\n",
       "  </tbody>\n",
       "</table>\n",
       "</div>"
      ],
      "text/plain": [
       "           $\\mu_1$           $\\mu_2$       $\\sigma_1$       $\\sigma_2$  \\\n",
       "0  0.0006 (0.0000)  -0.0008 (0.0000)  0.0078 (0.0000)  0.0174 (0.0000)   \n",
       "\n",
       "     $\\gamma_{12}$    $\\gamma_{21}$       Accuracy 1       Accuracy 2  \\\n",
       "0  0.0021 (0.0000)  0.0120 (0.0000)  0.9915 (0.0186)  0.9120 (0.1871)   \n",
       "\n",
       "               BAC          ROC-AUC  \n",
       "0  0.9517 (0.0943)  0.9988 (0.0020)  "
      ]
     },
     "execution_count": 41,
     "metadata": {},
     "output_type": "execute_result"
    }
   ],
   "source": [
    "summary_df"
   ]
  },
  {
   "cell_type": "code",
   "execution_count": 36,
   "id": "13f3dfae-22f3-440f-b965-ba0db0fd6538",
   "metadata": {
    "tags": []
   },
   "outputs": [
    {
     "data": {
      "text/html": [
       "<div>\n",
       "<style scoped>\n",
       "    .dataframe tbody tr th:only-of-type {\n",
       "        vertical-align: middle;\n",
       "    }\n",
       "\n",
       "    .dataframe tbody tr th {\n",
       "        vertical-align: top;\n",
       "    }\n",
       "\n",
       "    .dataframe thead th {\n",
       "        text-align: right;\n",
       "    }\n",
       "</style>\n",
       "<table border=\"1\" class=\"dataframe\">\n",
       "  <thead>\n",
       "    <tr style=\"text-align: right;\">\n",
       "      <th></th>\n",
       "      <th>$\\mu_1$</th>\n",
       "      <th>$\\mu_2$</th>\n",
       "      <th>$\\sigma_1$</th>\n",
       "      <th>$\\sigma_2$</th>\n",
       "      <th>$\\gamma_{12}$</th>\n",
       "      <th>$\\gamma_{21}$</th>\n",
       "      <th>Accuracy 1</th>\n",
       "      <th>Accuracy 2</th>\n",
       "      <th>BAC</th>\n",
       "      <th>ROC-AUC</th>\n",
       "    </tr>\n",
       "  </thead>\n",
       "  <tbody>\n",
       "    <tr>\n",
       "      <th>0</th>\n",
       "      <td>0.0006 (0.0003)</td>\n",
       "      <td>0.0002 (0.0058)</td>\n",
       "      <td>0.0078 (0.0002)</td>\n",
       "      <td>0.0142 (0.0056)</td>\n",
       "      <td>0.0083 (0.0176)</td>\n",
       "      <td>0.1665 (0.3205)</td>\n",
       "      <td>0.9884 (0.0200)</td>\n",
       "      <td>0.9130 (0.1873)</td>\n",
       "      <td>0.9507 (0.0944)</td>\n",
       "      <td>0.9756 (0.1162)</td>\n",
       "    </tr>\n",
       "  </tbody>\n",
       "</table>\n",
       "</div>"
      ],
      "text/plain": [
       "           $\\mu_1$          $\\mu_2$       $\\sigma_1$       $\\sigma_2$  \\\n",
       "0  0.0006 (0.0003)  0.0002 (0.0058)  0.0078 (0.0002)  0.0142 (0.0056)   \n",
       "\n",
       "     $\\gamma_{12}$    $\\gamma_{21}$       Accuracy 1       Accuracy 2  \\\n",
       "0  0.0083 (0.0176)  0.1665 (0.3205)  0.9884 (0.0200)  0.9130 (0.1873)   \n",
       "\n",
       "               BAC          ROC-AUC  \n",
       "0  0.9507 (0.0944)  0.9756 (0.1162)  "
      ]
     },
     "execution_count": 36,
     "metadata": {},
     "output_type": "execute_result"
    }
   ],
   "source": [
    "summary_df"
   ]
  },
  {
   "cell_type": "code",
   "execution_count": 37,
   "id": "d70bc773-0360-4912-8f4e-d8f29998edb3",
   "metadata": {
    "tags": []
   },
   "outputs": [
    {
     "data": {
      "text/html": [
       "<div>\n",
       "<style scoped>\n",
       "    .dataframe tbody tr th:only-of-type {\n",
       "        vertical-align: middle;\n",
       "    }\n",
       "\n",
       "    .dataframe tbody tr th {\n",
       "        vertical-align: top;\n",
       "    }\n",
       "\n",
       "    .dataframe thead th {\n",
       "        text-align: right;\n",
       "    }\n",
       "</style>\n",
       "<table border=\"1\" class=\"dataframe\">\n",
       "  <thead>\n",
       "    <tr style=\"text-align: right;\">\n",
       "      <th></th>\n",
       "      <th>$\\mu_1$</th>\n",
       "      <th>$\\mu_2$</th>\n",
       "      <th>$\\sigma_1$</th>\n",
       "      <th>$\\sigma_2$</th>\n",
       "      <th>$\\gamma_{12}$</th>\n",
       "      <th>$\\gamma_{21}$</th>\n",
       "      <th>Accuracy 1</th>\n",
       "      <th>Accuracy 2</th>\n",
       "      <th>BAC</th>\n",
       "      <th>ROC-AUC</th>\n",
       "    </tr>\n",
       "  </thead>\n",
       "  <tbody>\n",
       "    <tr>\n",
       "      <th>0</th>\n",
       "      <td>0.000313</td>\n",
       "      <td>0.005751</td>\n",
       "      <td>0.000249</td>\n",
       "      <td>0.005596</td>\n",
       "      <td>0.017612</td>\n",
       "      <td>0.320495</td>\n",
       "      <td>0.01997</td>\n",
       "      <td>0.187276</td>\n",
       "      <td>0.094413</td>\n",
       "      <td>0.116222</td>\n",
       "    </tr>\n",
       "  </tbody>\n",
       "</table>\n",
       "</div>"
      ],
      "text/plain": [
       "    $\\mu_1$   $\\mu_2$  $\\sigma_1$  $\\sigma_2$  $\\gamma_{12}$  $\\gamma_{21}$  \\\n",
       "0  0.000313  0.005751    0.000249    0.005596       0.017612       0.320495   \n",
       "\n",
       "   Accuracy 1  Accuracy 2       BAC   ROC-AUC  \n",
       "0     0.01997    0.187276  0.094413  0.116222  "
      ]
     },
     "execution_count": 37,
     "metadata": {},
     "output_type": "execute_result"
    }
   ],
   "source": [
    "stds_df"
   ]
  },
  {
   "cell_type": "code",
   "execution_count": null,
   "id": "9c428728-5fa9-4f5b-b0cf-68cd4a0390f1",
   "metadata": {},
   "outputs": [],
   "source": []
  },
  {
   "cell_type": "code",
   "execution_count": null,
   "id": "2c9989b2-c838-4756-a653-38fb5df7723d",
   "metadata": {},
   "outputs": [],
   "source": []
  },
  {
   "cell_type": "code",
   "execution_count": null,
   "id": "a7e491ac-bfe8-4c1e-8c20-ada61c7332b9",
   "metadata": {},
   "outputs": [],
   "source": []
  },
  {
   "cell_type": "code",
   "execution_count": null,
   "id": "fd953f47-830a-4908-8757-215322b71339",
   "metadata": {},
   "outputs": [],
   "source": []
  },
  {
   "cell_type": "code",
   "execution_count": null,
   "id": "17d671f8-b04d-4fd5-afe1-d0a61fe8fdb6",
   "metadata": {},
   "outputs": [],
   "source": []
  },
  {
   "cell_type": "code",
   "execution_count": null,
   "id": "266a5a24-fb66-466f-875d-9203f1f2ea90",
   "metadata": {},
   "outputs": [],
   "source": []
  },
  {
   "cell_type": "code",
   "execution_count": null,
   "id": "f4cc37df-6654-448e-924c-10df70eed16f",
   "metadata": {},
   "outputs": [],
   "source": []
  },
  {
   "cell_type": "code",
   "execution_count": 4,
   "id": "3e14b2ab-c8fa-4d62-bed9-595534b8446a",
   "metadata": {
    "tags": []
   },
   "outputs": [],
   "source": [
    "model_params_arr = np.load(f\"{path_estimation}/model_params_daily_1000_zheng_cont_mode0.npy\")"
   ]
  }
 ],
 "metadata": {
  "kernelspec": {
   "display_name": "Python 3 (ipykernel)",
   "language": "python",
   "name": "python3"
  },
  "language_info": {
   "codemirror_mode": {
    "name": "ipython",
    "version": 3
   },
   "file_extension": ".py",
   "mimetype": "text/x-python",
   "name": "python",
   "nbconvert_exporter": "python",
   "pygments_lexer": "ipython3",
   "version": "3.10.9"
  }
 },
 "nbformat": 4,
 "nbformat_minor": 5
}
