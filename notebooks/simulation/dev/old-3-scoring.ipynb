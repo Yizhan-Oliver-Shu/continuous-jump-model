{
 "cells": [
  {
   "cell_type": "code",
   "execution_count": 1,
   "id": "903d42e0-1771-48b6-8138-f8ee14107a21",
   "metadata": {
    "tags": []
   },
   "outputs": [],
   "source": [
    "%load_ext autoreload\n",
    "%autoreload 2\n",
    "import sys, os\n",
    "from os.path import expanduser\n",
    "## actions required!!!!!!!!!!!!!!!!!!!! change your folder path \n",
    "path = \"~/Documents/G3_2/regime-identification\"\n",
    "path = expanduser(path)\n",
    "sys.path.append(path)\n",
    "\n",
    "path_file = f\"~/data/G3_2/regime-identification/simulation\"\n",
    "path_file = expanduser(path_file)\n",
    "path_data = f\"{path_file}/data\"\n",
    "path_estimation = f\"{path_file}/estimation\"\n",
    "path_score = f\"{path_file}/score\""
   ]
  },
  {
   "cell_type": "code",
   "execution_count": 2,
   "id": "2f24702a-aa40-43ea-b0ce-4b17fa906825",
   "metadata": {
    "tags": []
   },
   "outputs": [],
   "source": [
    "import numpy as np\n",
    "from sklearn.metrics import accuracy_score, roc_auc_score"
   ]
  },
  {
   "cell_type": "code",
   "execution_count": 3,
   "id": "39e2eb60-ccc3-4075-baa4-ad7dc2c4784c",
   "metadata": {
    "tags": []
   },
   "outputs": [],
   "source": [
    "from regime.simulation_helper import *"
   ]
  },
  {
   "cell_type": "code",
   "execution_count": 4,
   "id": "476631df-f432-40e4-8b78-480e9575c48f",
   "metadata": {
    "tags": []
   },
   "outputs": [],
   "source": [
    "scale_lst = [\"daily\", \"weekly\", \"monthly\"]\n",
    "n_s_lst = [250, 500, 1000]\n",
    "key_data_list = [f\"{scale}_{n_s}\" for scale in scale_lst for n_s in n_s_lst]\n",
    "\n",
    "n_buffer, n_t, n_c = 20, 1024, 2\n",
    "n_batch = 32\n",
    "key_feat = \"zheng\""
   ]
  },
  {
   "cell_type": "markdown",
   "id": "2bffa357-4fc9-463e-9164-d702900eb27c",
   "metadata": {},
   "source": [
    "# Scoring: Jump models.\n"
   ]
  },
  {
   "cell_type": "code",
   "execution_count": 2,
   "id": "1fa5a749-71fd-4a0f-93b3-538deab499fe",
   "metadata": {},
   "outputs": [],
   "source": [
    "# plotting\n",
    "import matplotlib.pyplot as plt\n",
    "import matplotlib as mpl\n",
    "import seaborn as sns\n",
    "mpl.style.use(\"seaborn-v0_8\")\n",
    "plt.rcParams['figure.figsize'] = [9, 9]\n",
    "plt.rcParams['axes.titlesize'] = 20\n",
    "plt.rcParams['axes.labelsize'] = 20\n",
    "plt.rcParams['xtick.labelsize'] = 15\n",
    "plt.rcParams['ytick.labelsize'] = 15\n",
    "plt.rcParams['legend.fontsize'] = 18\n",
    "plt.rcParams['font.size'] = 30"
   ]
  },
  {
   "cell_type": "code",
   "execution_count": null,
   "id": "816645bb-91b6-45a1-bdc7-6efc12742805",
   "metadata": {},
   "outputs": [],
   "source": []
  },
  {
   "cell_type": "code",
   "execution_count": null,
   "id": "6632c463-0034-440e-9429-1520d809ee93",
   "metadata": {},
   "outputs": [],
   "source": []
  },
  {
   "cell_type": "code",
   "execution_count": null,
   "id": "79e96045-b445-4652-b77b-7dc76b0e7c95",
   "metadata": {},
   "outputs": [],
   "source": []
  }
 ],
 "metadata": {
  "kernelspec": {
   "display_name": "Python 3 (ipykernel)",
   "language": "python",
   "name": "python3"
  },
  "language_info": {
   "codemirror_mode": {
    "name": "ipython",
    "version": 3
   },
   "file_extension": ".py",
   "mimetype": "text/x-python",
   "name": "python",
   "nbconvert_exporter": "python",
   "pygments_lexer": "ipython3",
   "version": "3.11.0"
  }
 },
 "nbformat": 4,
 "nbformat_minor": 5
}
