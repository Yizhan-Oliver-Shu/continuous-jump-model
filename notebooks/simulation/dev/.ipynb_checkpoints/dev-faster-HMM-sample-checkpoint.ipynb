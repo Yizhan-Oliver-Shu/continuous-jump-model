{
 "cells": [
  {
   "cell_type": "code",
   "execution_count": 1,
   "id": "75a4495a-07bd-4d8b-addf-cca6863475b0",
   "metadata": {
    "tags": []
   },
   "outputs": [],
   "source": [
    "%load_ext autoreload\n",
    "%autoreload 2\n",
    "import sys, os\n",
    "from os.path import expanduser\n",
    "## actions required!!!!!!!!!!!!!!!!!!!! change your folder path \n",
    "path_repo = expanduser(\"~/Documents/G3_2/regime-identification\"); sys.path.append(path_repo)\n",
    "path_file = expanduser(\"~/data/G3_2/regime-identification/simulation\")\n",
    "path = {}\n",
    "for folder in [\"data\", \"estimation\", \"score\", \"figure\", \"latex\"]:\n",
    "    path[folder] = f\"{path_file}/{folder}\""
   ]
  },
  {
   "cell_type": "code",
   "execution_count": 8,
   "id": "cc37a011-abd1-4891-859d-55ecac447073",
   "metadata": {
    "tags": []
   },
   "outputs": [],
   "source": [
    "n_t, n_buffer = 1024, 20\n",
    "len_list = [[250, 500, 1000, 2000], [50, 100, 250, 500, 1000], [60, 120, 250, 500]]"
   ]
  },
  {
   "cell_type": "code",
   "execution_count": 30,
   "id": "b7888284-cbd5-4f0e-9595-475c28c73166",
   "metadata": {
    "tags": []
   },
   "outputs": [],
   "source": [
    "import numpy as np\n",
    "from numpy.random import RandomState\n",
    "random_state = RandomState(0)"
   ]
  },
  {
   "cell_type": "code",
   "execution_count": 38,
   "id": "74dadf08-6eb1-4068-af93-6565d1ae6fbd",
   "metadata": {
    "tags": []
   },
   "outputs": [],
   "source": [
    "from hmmlearn.hmm import GaussianHMM"
   ]
  },
  {
   "cell_type": "code",
   "execution_count": 52,
   "id": "77890dd9-740f-4e54-ac49-1c7cc1014524",
   "metadata": {
    "tags": []
   },
   "outputs": [],
   "source": [
    "class HMM_for_sample(BaseHMM):\n",
    "    \"\"\"\n",
    "    A base class for HMM only used for fast sampling.\n",
    "    means_, covars_ would be squeezed when being inputted. _check method does nothing.\n",
    "    \"\"\"\n",
    "    def __init__(self, n_components, random_state):\n",
    "        super().__init__(n_components=n_components, random_state=random_state,)\n",
    "    \n",
    "    @property\n",
    "    def means_(self):\n",
    "        return self._means_\n",
    "    \n",
    "    @means_.setter\n",
    "    def means_(self, means_):\n",
    "        self._means_ = means_.squeeze()\n",
    "        \n",
    "    @property\n",
    "    def covars_(self):\n",
    "        return self._covars_\n",
    "    \n",
    "    @covars_.setter\n",
    "    def covars_(self, covars_):\n",
    "        self._covars_ = covars_.squeeze()    \n",
    "        \n",
    "    def _check(self):\n",
    "        return "
   ]
  },
  {
   "cell_type": "code",
   "execution_count": 61,
   "id": "f5e97ce3-ef57-4d30-9b86-e137d4adf76d",
   "metadata": {
    "tags": []
   },
   "outputs": [],
   "source": [
    "class tHMM_1d_for_sample(HMM_for_sample):\n",
    "    \"\"\"\n",
    "    a class for 1d t-HMM that can sample very fastly, but can only do sampling.\n",
    "    \"\"\"\n",
    "    def __init__(self, n_components, random_state):\n",
    "        super().__init__(n_components, random_state)\n",
    "\n",
    "    def _generate_sample_from_state(self, state, random_state):\n",
    "        return [self._means_[state] + np.sqrt(self._covars_[state] * (self.dof_-2)/self.dof_) * random_state.standard_t(self.dof_)]"
   ]
  },
  {
   "cell_type": "code",
   "execution_count": 62,
   "id": "1b9f09e2-a3af-4383-8c21-2fe5b91069b9",
   "metadata": {
    "tags": []
   },
   "outputs": [],
   "source": [
    "class GaussianHMM_1d_for_sample(HMM_for_sample):\n",
    "    \"\"\"\n",
    "    a class for 1d GaussianHMM that can sample very fastly, but can only do sampling.\n",
    "    \"\"\"\n",
    "    def __init__(self, n_components, random_state):\n",
    "        super().__init__(n_components, random_state)\n",
    "\n",
    "    def _generate_sample_from_state(self, state, random_state):\n",
    "        return [self._means_[state] + np.sqrt(self._covars_[state]) * random_state.standard_normal()]"
   ]
  },
  {
   "cell_type": "code",
   "execution_count": null,
   "id": "bef8a542-b69a-47ce-8b49-726827909a5d",
   "metadata": {},
   "outputs": [],
   "source": [
    "def get_HMM_instance_for_sampling(means_, covars_, transmat_, startprob_=None, emission = \"Gaussian\", dof_ = None, random_state=None):\n",
    "    n_c = len(transmat_)\n",
    "    random_state = check_random_state(random_state)\n",
    "    if startprob_ is None:\n",
    "        startprob_ = invariant_dist_transmat_(transmat_)\n",
    "    \n",
    "    if emission == \"Gaussian\":\n",
    "        model = GaussianHMM_1d_for_sample(n_c, random_state)\n",
    "    elif emission == \"t\":\n",
    "        model = tHMM_1d_for_sample(n_c, random_state)\n",
    "    else:\n",
    "        raise NotImplementedError()\n",
    "    \n",
    "    model.means_ = means_\n",
    "    model.covars_ = covars_\n",
    "    model.transmat_ = transmat_\n",
    "    model.startprob_ = startprob_\n",
    "    if emission == \"t\":\n",
    "        model.dof_ = dof_\n",
    "    return model"
   ]
  },
  {
   "cell_type": "code",
   "execution_count": 64,
   "id": "7161e5b0-2ea8-44ea-9485-3acd1135c1d8",
   "metadata": {
    "tags": []
   },
   "outputs": [],
   "source": [
    "def generate_key_data(data=\"all\", **kwargs):\n",
    "    \"\"\"\n",
    "    data can be a string of key, a list, or \"all\".\n",
    "    if data == \"t\", needs a kwargs \"dof\", which can be either an int, or a list of ints.\n",
    "    \"\"\"\n",
    "    all_keys = [2, 3, \"t\", \"Onat\"]\n",
    "    scale_list = [\"daily\", \"weekly\", \"monthly\"]\n",
    "    if isinstance(data, list):\n",
    "        return list(chain.from_iterable([generate_key_data(key, **kwargs) for key in data]))\n",
    "    if data == \"all\":\n",
    "        data = all_keys\n",
    "        return generate_key_data(all_keys, **kwargs)\n",
    "    if data == 2 or data == 3:\n",
    "        return [f\"{data}-state-{scale}\" for scale in scale_list]\n",
    "    if data == \"t\":\n",
    "        dof = kwargs[\"dof\"]\n",
    "        if isinstance(dof, list):\n",
    "            return list(chain.from_iterable([generate_key_data(\"t\", dof=dof_) for dof_ in dof]))\n",
    "        return [f\"t-{dof}-{scale}\" for scale in scale_list]\n",
    "    if data == 'Onat':\n",
    "        return [f\"Onat-{i}\" for i in range(1, 3)]\n",
    "\n",
    "    raise NotImplementedError()"
   ]
  },
  {
   "cell_type": "code",
   "execution_count": 68,
   "id": "12bd262c-f062-46a1-a3d4-837688e04692",
   "metadata": {
    "tags": []
   },
   "outputs": [
    {
     "data": {
      "text/plain": [
       "['t-3-daily',\n",
       " 't-3-weekly',\n",
       " 't-3-monthly',\n",
       " 't-5-daily',\n",
       " 't-5-weekly',\n",
       " 't-5-monthly',\n",
       " '2-state-daily',\n",
       " '2-state-weekly',\n",
       " '2-state-monthly']"
      ]
     },
     "execution_count": 68,
     "metadata": {},
     "output_type": "execute_result"
    }
   ],
   "source": [
    "generate_key_data([\"t\", 2], dof=[3, 5])"
   ]
  },
  {
   "cell_type": "code",
   "execution_count": null,
   "id": "50b929dc-8650-4547-9e9d-14f9668a2740",
   "metadata": {},
   "outputs": [],
   "source": []
  },
  {
   "cell_type": "code",
   "execution_count": null,
   "id": "e58b4f8f-52eb-43fc-8412-e00716f6cba8",
   "metadata": {},
   "outputs": [],
   "source": []
  },
  {
   "cell_type": "code",
   "execution_count": null,
   "id": "b5e6cdee-07db-46f7-b418-622f7f2107e9",
   "metadata": {},
   "outputs": [],
   "source": [
    "get_GaussianHMM_model_sample()"
   ]
  },
  {
   "cell_type": "code",
   "execution_count": null,
   "id": "52b3bbe3-2ddc-4ba7-87d0-4c4a7e796061",
   "metadata": {},
   "outputs": [],
   "source": [
    "def get_GaussianHMM_model(means_, covars_, transmat_, startprob_=None, random_state=None):\n",
    "    \"\"\"\n",
    "    get a GaussianHMM model with the given params. The instance won't update any parameter if fit method is called. \n",
    "    \"\"\"\n",
    "    n_c, n_f = means_.shape\n",
    "    random_state = check_random_state(random_state)\n",
    "    \n",
    "    if startprob_ is None:\n",
    "        startprob_ = invariant_dist_transmat_(transmat_)\n",
    "        \n",
    "    hmm_model = GaussianHMM(n_components=n_c, random_state=random_state, params=\"\", init_params=\"\")\n",
    "    hmm_model.n_features = n_f\n",
    "    hmm_model.means_ = means_\n",
    "    hmm_model.covars_ = covars_\n",
    "    hmm_model.transmat_ = transmat_\n",
    "    hmm_model.startprob_ = startprob_\n",
    "    return hmm_model"
   ]
  },
  {
   "cell_type": "code",
   "execution_count": null,
   "id": "3f3e0513-dba2-44b0-8344-9e6d4b8172d0",
   "metadata": {},
   "outputs": [],
   "source": []
  },
  {
   "cell_type": "code",
   "execution_count": null,
   "id": "e6eb0b03-c148-4361-b1ef-512dfe1c340e",
   "metadata": {},
   "outputs": [],
   "source": []
  },
  {
   "cell_type": "code",
   "execution_count": null,
   "id": "3ed1c156-5d37-4766-9e38-ec3e1669e043",
   "metadata": {},
   "outputs": [],
   "source": [
    "[self.means_[state, 0] + np.sqrt(self.covars_[state, 0]) * random_state.standard_normal()]"
   ]
  },
  {
   "cell_type": "code",
   "execution_count": 54,
   "id": "bf87d35c-d219-4a1c-842d-31f633945ed0",
   "metadata": {
    "tags": []
   },
   "outputs": [],
   "source": [
    "model = tHMM_1d_for_sample(2, random_state)"
   ]
  },
  {
   "cell_type": "code",
   "execution_count": 57,
   "id": "af5850b3-7f56-4f87-9fcb-e99239e0f6d8",
   "metadata": {
    "tags": []
   },
   "outputs": [
    {
     "data": {
      "text/plain": [
       "RandomState(MT19937) at 0x14660EB40"
      ]
     },
     "execution_count": 57,
     "metadata": {},
     "output_type": "execute_result"
    }
   ],
   "source": [
    "model.random_state"
   ]
  },
  {
   "cell_type": "code",
   "execution_count": 59,
   "id": "5ff16a52-a7a5-4372-b5b0-f1dd91d871e8",
   "metadata": {
    "tags": []
   },
   "outputs": [],
   "source": [
    "model.means_ = random_state.randn(3).reshape((1, 3, 1))"
   ]
  },
  {
   "cell_type": "code",
   "execution_count": 60,
   "id": "04b2e57b-24ae-4258-b604-4547a7da07d4",
   "metadata": {
    "tags": []
   },
   "outputs": [
    {
     "data": {
      "text/plain": [
       "array([-0.16989499,  0.15985927, -1.09584447])"
      ]
     },
     "execution_count": 60,
     "metadata": {},
     "output_type": "execute_result"
    }
   ],
   "source": [
    "model._means_"
   ]
  },
  {
   "cell_type": "code",
   "execution_count": null,
   "id": "34ac0602-8e1f-40dc-b195-5b5610dbff49",
   "metadata": {},
   "outputs": [],
   "source": []
  },
  {
   "cell_type": "code",
   "execution_count": null,
   "id": "22ca3bb7-84c7-4b8f-b43d-a9e99c9cb266",
   "metadata": {},
   "outputs": [],
   "source": []
  },
  {
   "cell_type": "code",
   "execution_count": null,
   "id": "c4924003-e0e0-4180-bb02-833699f96fa9",
   "metadata": {},
   "outputs": [],
   "source": []
  },
  {
   "cell_type": "code",
   "execution_count": 34,
   "id": "fb9bf6a9-6528-4bbf-8176-33a04df61ba6",
   "metadata": {
    "tags": []
   },
   "outputs": [
    {
     "name": "stdout",
     "output_type": "stream",
     "text": [
      "22.6 µs ± 125 ns per loop (mean ± std. dev. of 7 runs, 10,000 loops each)\n"
     ]
    }
   ],
   "source": [
    "%%timeit\n",
    "random_state.multivariate_normal([0.], [[1.]])"
   ]
  },
  {
   "cell_type": "code",
   "execution_count": 33,
   "id": "53719af9-c8a4-4e36-b43a-c8d5b4bf28df",
   "metadata": {
    "tags": []
   },
   "outputs": [
    {
     "name": "stdout",
     "output_type": "stream",
     "text": [
      "161 ns ± 0.65 ns per loop (mean ± std. dev. of 7 runs, 10,000,000 loops each)\n"
     ]
    }
   ],
   "source": [
    "%%timeit\n",
    "random_state.standard_normal()"
   ]
  },
  {
   "cell_type": "code",
   "execution_count": 37,
   "id": "2036c7fb-10b0-403f-ba7e-4e0e92cbd217",
   "metadata": {
    "tags": []
   },
   "outputs": [
    {
     "name": "stdout",
     "output_type": "stream",
     "text": [
      "298 ns ± 0.635 ns per loop (mean ± std. dev. of 7 runs, 1,000,000 loops each)\n"
     ]
    }
   ],
   "source": [
    "%%timeit\n",
    "random_state.standard_t(5)"
   ]
  },
  {
   "cell_type": "code",
   "execution_count": 39,
   "id": "dfab3f27-9555-4a45-8051-73af8285edfd",
   "metadata": {
    "tags": []
   },
   "outputs": [],
   "source": [
    "model = GaussianHMM()"
   ]
  },
  {
   "cell_type": "code",
   "execution_count": 40,
   "id": "2e184f9e-4ceb-436a-a0e6-19ddd42ba6df",
   "metadata": {
    "tags": []
   },
   "outputs": [],
   "source": [
    "model.means = [[0], [1.], [2.]]"
   ]
  },
  {
   "cell_type": "code",
   "execution_count": 41,
   "id": "f57fc11c-bd10-45bd-9596-6ee5b5d1f4f6",
   "metadata": {
    "tags": []
   },
   "outputs": [],
   "source": [
    "model.covars_ = np.array([[1], [4], [9.]])"
   ]
  },
  {
   "cell_type": "code",
   "execution_count": 43,
   "id": "92f7fae6-f0c8-4e03-a4dd-edbc2a66dea3",
   "metadata": {
    "tags": []
   },
   "outputs": [
    {
     "data": {
      "text/plain": [
       "array([[1.],\n",
       "       [4.],\n",
       "       [9.]])"
      ]
     },
     "execution_count": 43,
     "metadata": {},
     "output_type": "execute_result"
    }
   ],
   "source": [
    "model._covars_"
   ]
  },
  {
   "cell_type": "code",
   "execution_count": null,
   "id": "f38184ec-9d94-487e-9515-3d33e86fe753",
   "metadata": {},
   "outputs": [],
   "source": []
  },
  {
   "cell_type": "code",
   "execution_count": null,
   "id": "a59fb376-7dc9-47c3-956e-5fc67240895e",
   "metadata": {},
   "outputs": [],
   "source": [
    "random_state.randn()"
   ]
  },
  {
   "cell_type": "code",
   "execution_count": null,
   "id": "ca30f2ec-33a2-4f1c-9ba8-71efe04c551f",
   "metadata": {},
   "outputs": [],
   "source": []
  },
  {
   "cell_type": "code",
   "execution_count": null,
   "id": "276b729b-6294-427e-85d0-ecbfde39984d",
   "metadata": {},
   "outputs": [],
   "source": []
  },
  {
   "cell_type": "code",
   "execution_count": null,
   "id": "12e6c679-667e-45bc-9106-39ed5681952c",
   "metadata": {},
   "outputs": [],
   "source": []
  },
  {
   "cell_type": "code",
   "execution_count": 2,
   "id": "2937e5cc-b4ae-4c1d-a8ec-5273dd2913bf",
   "metadata": {
    "tags": []
   },
   "outputs": [],
   "source": [
    "from hmmlearn.base import BaseHMM"
   ]
  },
  {
   "cell_type": "code",
   "execution_count": 3,
   "id": "0a84571e-8b0d-45c6-98ef-6f4586855e53",
   "metadata": {
    "tags": []
   },
   "outputs": [],
   "source": [
    "from regime.simulation_helper import *"
   ]
  },
  {
   "cell_type": "code",
   "execution_count": 16,
   "id": "e564db69-6835-4a04-8ab7-26a2a076d8ed",
   "metadata": {
    "tags": []
   },
   "outputs": [],
   "source": []
  },
  {
   "cell_type": "code",
   "execution_count": 23,
   "id": "4778fc28-035e-464c-b176-400072b31112",
   "metadata": {
    "tags": []
   },
   "outputs": [],
   "source": [
    "class GaussianHMM_sample(BaseHMM):\n",
    "    def __init__(self, n_components, random_state):\n",
    "        super().__init__(n_components=n_components, random_state=random_state,)\n",
    "    \n",
    "    def _check(self):\n",
    "        return \n",
    "    \n",
    "    def _generate_sample_from_state(self, state, random_state):\n",
    "        return [self.means_[state, 0] + np.sqrt(self.covars_[state, 0]) * random_state.standard_normal()]"
   ]
  },
  {
   "cell_type": "code",
   "execution_count": 24,
   "id": "dddd6abe-9db4-46c6-8e19-d343dbac5715",
   "metadata": {
    "tags": []
   },
   "outputs": [],
   "source": [
    "def get_GaussianHMM_model_sample(means_, covars_, transmat_, startprob_=None, random_state=None):\n",
    "    \"\"\"\n",
    "    get a GaussianHMM model with the given params. The instance won't update any parameter if fit method is called. \n",
    "    \"\"\"\n",
    "    n_c, n_f = means_.shape\n",
    "    random_state = check_random_state(random_state)\n",
    "    \n",
    "    if startprob_ is None:\n",
    "        startprob_ = invariant_dist_transmat_(transmat_)\n",
    "        \n",
    "    hmm_model = GaussianHMM_sample(n_components=n_c, random_state=random_state)\n",
    "    hmm_model.means_ = means_\n",
    "    hmm_model.covars_ = covars_[..., np.newaxis]\n",
    "    hmm_model.transmat_ = transmat_\n",
    "    hmm_model.startprob_ = startprob_\n",
    "    return hmm_model"
   ]
  },
  {
   "cell_type": "code",
   "execution_count": 25,
   "id": "3e09b648-a30f-44c4-9347-32a63cb5ae39",
   "metadata": {
    "tags": []
   },
   "outputs": [],
   "source": [
    "n_c = 3\n",
    "random_state = None\n",
    "key_data_list_3_state = generate_key_data(n_c)\n",
    "DGP_dict_3_state = {key_data: \\\n",
    "            get_GaussianHMM_model_sample(*load_hardy_params(key_data.split(\"-\")[-1], n_c), random_state=random_state) for key_data in key_data_list_3_state}\n",
    "n_s_dict_3_state = dict(zip(key_data_list_3_state, len_list))"
   ]
  },
  {
   "cell_type": "code",
   "execution_count": 26,
   "id": "a684a824-adc0-4b69-8ba1-eaaf75dd4722",
   "metadata": {
    "tags": []
   },
   "outputs": [
    {
     "name": "stderr",
     "output_type": "stream",
     "text": [
      "  0%|                                                                                    | 0/3 [00:00<?, ?it/s]"
     ]
    },
    {
     "name": "stdout",
     "output_type": "stream",
     "text": [
      "shape of the saved Xs: (1024, 290, 1, 1).\n",
      "shape of the saved Xs: (1024, 250, 1, 1).\n",
      "shape of the saved Zs: (1024, 250).\n",
      "shape of the saved Xs: (1024, 540, 1, 1).\n",
      "shape of the saved Xs: (1024, 500, 1, 1).\n",
      "shape of the saved Zs: (1024, 500).\n",
      "shape of the saved Xs: (1024, 1040, 1, 1).\n",
      "shape of the saved Xs: (1024, 1000, 1, 1).\n",
      "shape of the saved Zs: (1024, 1000).\n"
     ]
    },
    {
     "name": "stderr",
     "output_type": "stream",
     "text": [
      " 33%|█████████████████████████▎                                                  | 1/3 [00:12<00:25, 12.66s/it]"
     ]
    },
    {
     "name": "stdout",
     "output_type": "stream",
     "text": [
      "shape of the saved Xs: (1024, 2040, 1, 1).\n",
      "shape of the saved Xs: (1024, 2000, 1, 1).\n",
      "shape of the saved Zs: (1024, 2000).\n",
      "shape of the saved Xs: (1024, 90, 1, 1).\n",
      "shape of the saved Xs: (1024, 50, 1, 1).\n",
      "shape of the saved Zs: (1024, 50).\n",
      "shape of the saved Xs: (1024, 140, 1, 1).\n",
      "shape of the saved Xs: (1024, 100, 1, 1).\n",
      "shape of the saved Zs: (1024, 100).\n",
      "shape of the saved Xs: (1024, 290, 1, 1).\n",
      "shape of the saved Xs: (1024, 250, 1, 1).\n",
      "shape of the saved Zs: (1024, 250).\n",
      "shape of the saved Xs: (1024, 540, 1, 1).\n",
      "shape of the saved Xs: (1024, 500, 1, 1).\n",
      "shape of the saved Zs: (1024, 500).\n"
     ]
    },
    {
     "name": "stderr",
     "output_type": "stream",
     "text": [
      " 33%|█████████████████████████▎                                                  | 1/3 [00:17<00:35, 17.71s/it]\n"
     ]
    },
    {
     "ename": "KeyboardInterrupt",
     "evalue": "",
     "output_type": "error",
     "traceback": [
      "\u001b[0;31m---------------------------------------------------------------------------\u001b[0m",
      "\u001b[0;31mKeyboardInterrupt\u001b[0m                         Traceback (most recent call last)",
      "Cell \u001b[0;32mIn[26], line 1\u001b[0m\n\u001b[0;32m----> 1\u001b[0m \u001b[43msimulate_data_estimate_true_model\u001b[49m\u001b[43m(\u001b[49m\u001b[43mDGP_dict_3_state\u001b[49m\u001b[43m,\u001b[49m\u001b[43m \u001b[49m\u001b[43mn_s_dict_3_state\u001b[49m\u001b[43m,\u001b[49m\u001b[43m \u001b[49m\u001b[43mn_t\u001b[49m\u001b[43m,\u001b[49m\u001b[43m \u001b[49m\u001b[43mn_buffer\u001b[49m\u001b[43m,\u001b[49m\u001b[43m \u001b[49m\u001b[38;5;28;43;01mFalse\u001b[39;49;00m\u001b[43m,\u001b[49m\u001b[43m \u001b[49m\u001b[43mpath\u001b[49m\u001b[38;5;241;43m=\u001b[39;49m\u001b[43mpath\u001b[49m\u001b[43m)\u001b[49m\n",
      "File \u001b[0;32m~/Documents/G3_2/regime-identification/regime/simulation_helper.py:203\u001b[0m, in \u001b[0;36msimulate_data_estimate_true_model\u001b[0;34m(model, len_list, n_t, n_b, fit_true_model, key_data, path)\u001b[0m\n\u001b[1;32m    201\u001b[0m \u001b[38;5;28;01mif\u001b[39;00m \u001b[38;5;28misinstance\u001b[39m(model, \u001b[38;5;28mdict\u001b[39m):\n\u001b[1;32m    202\u001b[0m     \u001b[38;5;28;01mfor\u001b[39;00m key_data_, model_ \u001b[38;5;129;01min\u001b[39;00m tqdm(\u001b[38;5;28mlist\u001b[39m(model\u001b[38;5;241m.\u001b[39mitems())):\n\u001b[0;32m--> 203\u001b[0m         \u001b[43msimulate_data_estimate_true_model\u001b[49m\u001b[43m(\u001b[49m\u001b[43mmodel_\u001b[49m\u001b[43m,\u001b[49m\u001b[43m \u001b[49m\u001b[43mlen_list\u001b[49m\u001b[43m[\u001b[49m\u001b[43mkey_data_\u001b[49m\u001b[43m]\u001b[49m\u001b[43m,\u001b[49m\u001b[43m \u001b[49m\u001b[43mn_t\u001b[49m\u001b[43m,\u001b[49m\u001b[43m \u001b[49m\u001b[43mn_b\u001b[49m\u001b[43m,\u001b[49m\u001b[43m \u001b[49m\u001b[43mfit_true_model\u001b[49m\u001b[43m,\u001b[49m\u001b[43m \u001b[49m\u001b[43mkey_data_\u001b[49m\u001b[43m,\u001b[49m\u001b[43m \u001b[49m\u001b[43mpath\u001b[49m\u001b[43m)\u001b[49m\n\u001b[1;32m    204\u001b[0m     \u001b[38;5;28;01mreturn\u001b[39;00m \n\u001b[1;32m    205\u001b[0m \u001b[38;5;66;03m# model is a model instance\u001b[39;00m\n",
      "File \u001b[0;32m~/Documents/G3_2/regime-identification/regime/simulation_helper.py:207\u001b[0m, in \u001b[0;36msimulate_data_estimate_true_model\u001b[0;34m(model, len_list, n_t, n_b, fit_true_model, key_data, path)\u001b[0m\n\u001b[1;32m    205\u001b[0m \u001b[38;5;66;03m# model is a model instance\u001b[39;00m\n\u001b[1;32m    206\u001b[0m \u001b[38;5;28;01mfor\u001b[39;00m n_s \u001b[38;5;129;01min\u001b[39;00m len_list:\n\u001b[0;32m--> 207\u001b[0m     Xs, Zs \u001b[38;5;241m=\u001b[39m \u001b[43msample_from_model\u001b[49m\u001b[43m(\u001b[49m\u001b[43mmodel\u001b[49m\u001b[43m,\u001b[49m\u001b[43m \u001b[49m\u001b[43mn_t\u001b[49m\u001b[43m,\u001b[49m\u001b[43m \u001b[49m\u001b[43mn_s\u001b[49m\u001b[38;5;241;43m+\u001b[39;49m\u001b[38;5;241;43m2\u001b[39;49m\u001b[38;5;241;43m*\u001b[39;49m\u001b[43mn_b\u001b[49m\u001b[43m)\u001b[49m\n\u001b[1;32m    208\u001b[0m     save_file(Xs, path, \u001b[38;5;124m\"\u001b[39m\u001b[38;5;124mdata\u001b[39m\u001b[38;5;124m\"\u001b[39m, key_data, \u001b[38;5;124m\"\u001b[39m\u001b[38;5;124mXs\u001b[39m\u001b[38;5;124m\"\u001b[39m, n_s, \u001b[38;5;124m\"\u001b[39m\u001b[38;5;124mraw\u001b[39m\u001b[38;5;124m\"\u001b[39m)\n\u001b[1;32m    209\u001b[0m     Xs, Zs \u001b[38;5;241m=\u001b[39m Xs[:, n_b:\u001b[38;5;241m-\u001b[39mn_b], Zs[:, n_b:\u001b[38;5;241m-\u001b[39mn_b]\n",
      "File \u001b[0;32m~/Documents/G3_2/regime-identification/regime/simulation_helper.py:194\u001b[0m, in \u001b[0;36msample_from_model\u001b[0;34m(model, n_t, n_s)\u001b[0m\n\u001b[1;32m    190\u001b[0m \u001b[38;5;28;01mdef\u001b[39;00m \u001b[38;5;21msample_from_model\u001b[39m(model, n_t, n_s):\n\u001b[1;32m    191\u001b[0m \u001b[38;5;250m    \u001b[39m\u001b[38;5;124;03m\"\"\"\u001b[39;00m\n\u001b[1;32m    192\u001b[0m \u001b[38;5;124;03m    generate a batch of sequences from a model, by calling the `sample` method of the model instance.\u001b[39;00m\n\u001b[1;32m    193\u001b[0m \u001b[38;5;124;03m    \"\"\"\u001b[39;00m\n\u001b[0;32m--> 194\u001b[0m     XZ_list \u001b[38;5;241m=\u001b[39m [model\u001b[38;5;241m.\u001b[39msample(n_samples\u001b[38;5;241m=\u001b[39mn_s) \u001b[38;5;28;01mfor\u001b[39;00m _ \u001b[38;5;129;01min\u001b[39;00m \u001b[38;5;28mrange\u001b[39m(n_t)] \u001b[38;5;66;03m#(X:(n_s, n_f), Z:(n_s,))\u001b[39;00m\n\u001b[1;32m    195\u001b[0m     \u001b[38;5;28;01mreturn\u001b[39;00m np\u001b[38;5;241m.\u001b[39marray([XZ[\u001b[38;5;241m0\u001b[39m] \u001b[38;5;28;01mfor\u001b[39;00m XZ \u001b[38;5;129;01min\u001b[39;00m XZ_list]), np\u001b[38;5;241m.\u001b[39marray([XZ[\u001b[38;5;241m1\u001b[39m] \u001b[38;5;28;01mfor\u001b[39;00m XZ \u001b[38;5;129;01min\u001b[39;00m XZ_list])\n",
      "File \u001b[0;32m~/Documents/G3_2/regime-identification/regime/simulation_helper.py:194\u001b[0m, in \u001b[0;36m<listcomp>\u001b[0;34m(.0)\u001b[0m\n\u001b[1;32m    190\u001b[0m \u001b[38;5;28;01mdef\u001b[39;00m \u001b[38;5;21msample_from_model\u001b[39m(model, n_t, n_s):\n\u001b[1;32m    191\u001b[0m \u001b[38;5;250m    \u001b[39m\u001b[38;5;124;03m\"\"\"\u001b[39;00m\n\u001b[1;32m    192\u001b[0m \u001b[38;5;124;03m    generate a batch of sequences from a model, by calling the `sample` method of the model instance.\u001b[39;00m\n\u001b[1;32m    193\u001b[0m \u001b[38;5;124;03m    \"\"\"\u001b[39;00m\n\u001b[0;32m--> 194\u001b[0m     XZ_list \u001b[38;5;241m=\u001b[39m [\u001b[43mmodel\u001b[49m\u001b[38;5;241;43m.\u001b[39;49m\u001b[43msample\u001b[49m\u001b[43m(\u001b[49m\u001b[43mn_samples\u001b[49m\u001b[38;5;241;43m=\u001b[39;49m\u001b[43mn_s\u001b[49m\u001b[43m)\u001b[49m \u001b[38;5;28;01mfor\u001b[39;00m _ \u001b[38;5;129;01min\u001b[39;00m \u001b[38;5;28mrange\u001b[39m(n_t)] \u001b[38;5;66;03m#(X:(n_s, n_f), Z:(n_s,))\u001b[39;00m\n\u001b[1;32m    195\u001b[0m     \u001b[38;5;28;01mreturn\u001b[39;00m np\u001b[38;5;241m.\u001b[39marray([XZ[\u001b[38;5;241m0\u001b[39m] \u001b[38;5;28;01mfor\u001b[39;00m XZ \u001b[38;5;129;01min\u001b[39;00m XZ_list]), np\u001b[38;5;241m.\u001b[39marray([XZ[\u001b[38;5;241m1\u001b[39m] \u001b[38;5;28;01mfor\u001b[39;00m XZ \u001b[38;5;129;01min\u001b[39;00m XZ_list])\n",
      "File \u001b[0;32m~/mambaforge/envs/regime-gurobi/lib/python3.10/site-packages/hmmlearn/base.py:469\u001b[0m, in \u001b[0;36mBaseHMM.sample\u001b[0;34m(self, n_samples, random_state, currstate)\u001b[0m\n\u001b[1;32m    466\u001b[0m     currstate \u001b[38;5;241m=\u001b[39m (transmat_cdf[currstate] \u001b[38;5;241m>\u001b[39m random_state\u001b[38;5;241m.\u001b[39mrand()) \\\n\u001b[1;32m    467\u001b[0m         \u001b[38;5;241m.\u001b[39margmax()\n\u001b[1;32m    468\u001b[0m     state_sequence\u001b[38;5;241m.\u001b[39mappend(currstate)\n\u001b[0;32m--> 469\u001b[0m     X\u001b[38;5;241m.\u001b[39mappend(\u001b[38;5;28;43mself\u001b[39;49m\u001b[38;5;241;43m.\u001b[39;49m\u001b[43m_generate_sample_from_state\u001b[49m\u001b[43m(\u001b[49m\n\u001b[1;32m    470\u001b[0m \u001b[43m        \u001b[49m\u001b[43mcurrstate\u001b[49m\u001b[43m,\u001b[49m\u001b[43m \u001b[49m\u001b[43mrandom_state\u001b[49m\u001b[38;5;241;43m=\u001b[39;49m\u001b[43mrandom_state\u001b[49m\u001b[43m)\u001b[49m)\n\u001b[1;32m    472\u001b[0m \u001b[38;5;28;01mreturn\u001b[39;00m np\u001b[38;5;241m.\u001b[39matleast_2d(X), np\u001b[38;5;241m.\u001b[39marray(state_sequence, dtype\u001b[38;5;241m=\u001b[39m\u001b[38;5;28mint\u001b[39m)\n",
      "Cell \u001b[0;32mIn[23], line 9\u001b[0m, in \u001b[0;36mGaussianHMM_sample._generate_sample_from_state\u001b[0;34m(self, state, random_state)\u001b[0m\n\u001b[1;32m      8\u001b[0m \u001b[38;5;28;01mdef\u001b[39;00m \u001b[38;5;21m_generate_sample_from_state\u001b[39m(\u001b[38;5;28mself\u001b[39m, state, random_state):\n\u001b[0;32m----> 9\u001b[0m     \u001b[38;5;28;01mreturn\u001b[39;00m [\u001b[38;5;28mself\u001b[39m\u001b[38;5;241m.\u001b[39mmeans_[state, \u001b[38;5;241m0\u001b[39m] \u001b[38;5;241m+\u001b[39m \u001b[43mnp\u001b[49m\u001b[38;5;241;43m.\u001b[39;49m\u001b[43msqrt\u001b[49m\u001b[43m(\u001b[49m\u001b[38;5;28;43mself\u001b[39;49m\u001b[38;5;241;43m.\u001b[39;49m\u001b[43mcovars_\u001b[49m\u001b[43m[\u001b[49m\u001b[43mstate\u001b[49m\u001b[43m,\u001b[49m\u001b[43m \u001b[49m\u001b[38;5;241;43m0\u001b[39;49m\u001b[43m]\u001b[49m\u001b[43m)\u001b[49m \u001b[38;5;241m*\u001b[39m random_state\u001b[38;5;241m.\u001b[39mstandard_normal()]\n",
      "\u001b[0;31mKeyboardInterrupt\u001b[0m: "
     ]
    }
   ],
   "source": [
    "simulate_data_estimate_true_model(DGP_dict_3_state, n_s_dict_3_state, n_t, n_buffer, False, path=path)"
   ]
  },
  {
   "cell_type": "code",
   "execution_count": null,
   "id": "9de889af-0800-4d9d-89ca-9cc04cd6096e",
   "metadata": {},
   "outputs": [],
   "source": []
  }
 ],
 "metadata": {
  "kernelspec": {
   "display_name": "Python 3 (ipykernel)",
   "language": "python",
   "name": "python3"
  },
  "language_info": {
   "codemirror_mode": {
    "name": "ipython",
    "version": 3
   },
   "file_extension": ".py",
   "mimetype": "text/x-python",
   "name": "python",
   "nbconvert_exporter": "python",
   "pygments_lexer": "ipython3",
   "version": "3.10.9"
  }
 },
 "nbformat": 4,
 "nbformat_minor": 5
}
