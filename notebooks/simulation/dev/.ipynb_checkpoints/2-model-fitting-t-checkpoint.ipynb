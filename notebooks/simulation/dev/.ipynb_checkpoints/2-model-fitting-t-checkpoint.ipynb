{
 "cells": [
  {
   "cell_type": "code",
   "execution_count": 1,
   "id": "fbe842e2-0687-4e9b-a81a-e7d0a47e361e",
   "metadata": {
    "tags": []
   },
   "outputs": [],
   "source": [
    "%load_ext autoreload\n",
    "%autoreload 2\n",
    "import sys, os\n",
    "from os.path import expanduser\n",
    "## actions required!!!!!!!!!!!!!!!!!!!! change your folder path \n",
    "path_repo = expanduser(\"~/Documents/G3_2/regime-identification\"); sys.path.append(path_repo)\n",
    "path_file = expanduser(\"~/data/G3_2/regime-identification/simulation\")\n",
    "path = {}\n",
    "for folder in [\"data\", \"estimation\", \"score\", \"figure\", \"table-latex\"]:\n",
    "    path[folder] = f\"{path_file}/{folder}\"\n",
    "\n",
    "job_id = 0 #int(os.environ[\"SLURM_ARRAY_TASK_ID\"])"
   ]
  },
  {
   "cell_type": "code",
   "execution_count": 2,
   "id": "f45688e6-f7af-441e-a9cb-f00e49b23df2",
   "metadata": {
    "tags": []
   },
   "outputs": [],
   "source": [
    "from numpy.random import RandomState"
   ]
  },
  {
   "cell_type": "code",
   "execution_count": 3,
   "id": "02027bcb-20cb-4909-9a94-0752435057f6",
   "metadata": {
    "tags": []
   },
   "outputs": [],
   "source": [
    "from regime.jump import *\n",
    "from regime.simulation_helper import *"
   ]
  },
  {
   "cell_type": "markdown",
   "id": "89a05196-15be-43b3-a61b-84b9f733f856",
   "metadata": {
    "tags": []
   },
   "source": [
    "# 2-model-fitting\n",
    "\n",
    "In this notebook we fit the models on the datasets."
   ]
  },
  {
   "cell_type": "code",
   "execution_count": 4,
   "id": "473811b7-df26-4184-898c-9f954e30edd2",
   "metadata": {
    "tags": []
   },
   "outputs": [],
   "source": [
    "n_t, n_buffer = 1024, 20\n",
    "batch_size = 32"
   ]
  },
  {
   "cell_type": "markdown",
   "id": "29ba2511-ab95-4a91-bea6-2f8bfc174da6",
   "metadata": {},
   "source": [
    "# t emission dist model\n",
    "## HMM"
   ]
  },
  {
   "cell_type": "code",
   "execution_count": 5,
   "id": "a8dec29b-6f87-447a-a036-8b9b553e0a61",
   "metadata": {
    "tags": []
   },
   "outputs": [],
   "source": [
    "n_c = 2\n",
    "random_state = RandomState(10)\n",
    "model_true = Viterbi_wrapper(*load_hardy_params(\"daily\"))\n",
    "model_hmm_10init = GaussianHMM_model(n_c, n_init=10, init='k-means++', random_state=random_state, n_iter = 300, tol = 1e-4, min_covar=1e-6, covars_prior=1e-6)\n",
    "model_hmm_1init = GaussianHMM_model(n_c, n_init=1, init='k-means', random_state=random_state, n_iter = 300, tol = 1e-4, min_covar=1e-6, covars_prior=1e-6)\n",
    "model_hmm_1initCovPrior = GaussianHMM_model(n_c, n_init=1, init='k-means', random_state=random_state, n_iter = 300, tol = 1e-4, min_covar=1e-6, covars_prior=1e-4)\n",
    "model_dict_hmm = {\"true\": model_true, \"HMM10init\": model_hmm_10init, \"HMM1init\": model_hmm_1init, \"HMM1initCovPrior\": model_hmm_1initCovPrior}"
   ]
  },
  {
   "cell_type": "code",
   "execution_count": 6,
   "id": "7b550385-58f4-4a0b-9f8a-828ae1fc9e26",
   "metadata": {
    "tags": []
   },
   "outputs": [],
   "source": [
    "key_feat_hmm = \"HMM\"\n",
    "param_grid_hmm = None"
   ]
  },
  {
   "cell_type": "code",
   "execution_count": 7,
   "id": "3e676da5-1048-40b2-a178-1ba0c4046bf8",
   "metadata": {
    "tags": []
   },
   "outputs": [
    {
     "name": "stdout",
     "output_type": "stream",
     "text": [
      "1/4 combo starts.\n",
      "created folder: /Users/yizhan/data/G3_2/regime-identification/simulation/estimation/t-daily.\n",
      "shape of the saved modelParams: (32, 6).\n",
      "shape of the saved labels: (32, 500).\n",
      "shape of the saved proba: (32, 500, 2).\n",
      "shape of the saved modelParams: (32, 6).\n",
      "shape of the saved labels: (32, 1000).\n",
      "shape of the saved proba: (32, 1000, 2).\n",
      "shape of the saved modelParams: (32, 6).\n",
      "shape of the saved labels: (32, 2000).\n",
      "shape of the saved proba: (32, 2000, 2).\n",
      "shape of the saved modelParams: (32, 6).\n",
      "shape of the saved labels: (32, 250).\n",
      "shape of the saved proba: (32, 250, 2).\n",
      "1/4 combo done. Time of this combo: 0:00:01s. Total time: 0:00:01s.\n",
      "2/4 combo starts.\n",
      "shape of the saved modelParams: (32, 6).\n",
      "shape of the saved labels: (32, 500).\n",
      "shape of the saved proba: (32, 500, 2).\n",
      "shape of the saved modelParams: (32, 6).\n",
      "shape of the saved labels: (32, 1000).\n",
      "shape of the saved proba: (32, 1000, 2).\n",
      "shape of the saved modelParams: (32, 6).\n",
      "shape of the saved labels: (32, 2000).\n",
      "shape of the saved proba: (32, 2000, 2).\n",
      "shape of the saved modelParams: (32, 6).\n",
      "shape of the saved labels: (32, 250).\n",
      "shape of the saved proba: (32, 250, 2).\n",
      "2/4 combo done. Time of this combo: 0:00:51s. Total time: 0:00:51s.\n",
      "3/4 combo starts.\n",
      "shape of the saved modelParams: (32, 6).\n",
      "shape of the saved labels: (32, 500).\n",
      "shape of the saved proba: (32, 500, 2).\n",
      "shape of the saved modelParams: (32, 6).\n",
      "shape of the saved labels: (32, 1000).\n",
      "shape of the saved proba: (32, 1000, 2).\n",
      "shape of the saved modelParams: (32, 6).\n",
      "shape of the saved labels: (32, 2000).\n",
      "shape of the saved proba: (32, 2000, 2).\n",
      "shape of the saved modelParams: (32, 6).\n",
      "shape of the saved labels: (32, 250).\n",
      "shape of the saved proba: (32, 250, 2).\n",
      "3/4 combo done. Time of this combo: 0:00:09s. Total time: 0:01:00s.\n",
      "4/4 combo starts.\n",
      "shape of the saved modelParams: (32, 6).\n",
      "shape of the saved labels: (32, 500).\n",
      "shape of the saved proba: (32, 500, 2).\n",
      "shape of the saved modelParams: (32, 6).\n",
      "shape of the saved labels: (32, 1000).\n",
      "shape of the saved proba: (32, 1000, 2).\n",
      "shape of the saved modelParams: (32, 6).\n",
      "shape of the saved labels: (32, 2000).\n",
      "shape of the saved proba: (32, 2000, 2).\n",
      "shape of the saved modelParams: (32, 6).\n",
      "shape of the saved labels: (32, 250).\n",
      "shape of the saved proba: (32, 250, 2).\n",
      "4/4 combo done. Time of this combo: 0:00:08s. Total time: 0:01:07s.\n"
     ]
    }
   ],
   "source": [
    "model_fit_many_datas_models(generate_key_data(\"t\"), key_feat_hmm, model_dict_hmm, param_grid_hmm, path, job_id, batch_size)"
   ]
  },
  {
   "cell_type": "markdown",
   "id": "ac1e158a-b78b-45da-9447-d3bcdef23b7b",
   "metadata": {},
   "source": [
    "## Our models"
   ]
  },
  {
   "cell_type": "code",
   "execution_count": 8,
   "id": "ade9e30c-d968-43e5-ab11-123a0da21c82",
   "metadata": {},
   "outputs": [],
   "source": [
    "random_state = RandomState(2)\n",
    "model_discrete = jump_model(n_c, state_type=\"discrete\", random_state=random_state)\n",
    "model_cont_mode = jump_model(n_c, state_type=\"cont\", grid_size=.02, mode_loss=True, random_state=random_state)\n",
    "model_cont = jump_model(n_c, state_type=\"cont\", grid_size=.02, mode_loss=False, random_state=random_state)\n",
    "model_dict_jump = {\"discrete\": model_discrete, \"cont-mode\": model_cont_mode, \"cont\": model_cont}"
   ]
  },
  {
   "cell_type": "code",
   "execution_count": 9,
   "id": "9d7110e7-1a5b-48ed-a2e1-e2b19bcb1e00",
   "metadata": {
    "tags": []
   },
   "outputs": [
    {
     "name": "stdout",
     "output_type": "stream",
     "text": [
      "[1.00000000e-02 1.00000000e-01 1.00000000e+00 1.00000000e+01\n",
      " 2.15443469e+01 4.64158883e+01 1.00000000e+02 2.15443469e+02\n",
      " 4.64158883e+02 1.00000000e+03 2.15443469e+03 4.64158883e+03\n",
      " 1.00000000e+04 1.00000000e+05 1.00000000e+06]\n"
     ]
    }
   ],
   "source": [
    "param_grid = generate_param_grid()"
   ]
  },
  {
   "cell_type": "code",
   "execution_count": 10,
   "id": "da4e4458-a936-452c-b0ed-36c7dd8d8b2c",
   "metadata": {
    "tags": []
   },
   "outputs": [],
   "source": [
    "key_feat_jump = \"zhengF\""
   ]
  },
  {
   "cell_type": "code",
   "execution_count": 11,
   "id": "36ea7bd4-b662-4297-85f5-77d1fee7e0fb",
   "metadata": {
    "tags": []
   },
   "outputs": [
    {
     "name": "stdout",
     "output_type": "stream",
     "text": [
      "1/3 combo starts.\n"
     ]
    },
    {
     "name": "stderr",
     "output_type": "stream",
     "text": [
      "100%|████████████████████████████████████████████████████████████████████████████████████████████████████████████████████████████████████████████████| 15/15 [00:08<00:00,  1.82it/s]\n"
     ]
    },
    {
     "name": "stdout",
     "output_type": "stream",
     "text": [
      "shape of the saved modelParams: (32, 6, 15).\n",
      "shape of the saved labels: (32, 2000, 15).\n",
      "shape of the saved proba: (32, 2000, 2, 15).\n"
     ]
    },
    {
     "name": "stderr",
     "output_type": "stream",
     "text": [
      "100%|████████████████████████████████████████████████████████████████████████████████████████████████████████████████████████████████████████████████| 15/15 [00:04<00:00,  3.31it/s]\n"
     ]
    },
    {
     "name": "stdout",
     "output_type": "stream",
     "text": [
      "shape of the saved modelParams: (32, 6, 15).\n",
      "shape of the saved labels: (32, 1000, 15).\n",
      "shape of the saved proba: (32, 1000, 2, 15).\n"
     ]
    },
    {
     "name": "stderr",
     "output_type": "stream",
     "text": [
      "100%|████████████████████████████████████████████████████████████████████████████████████████████████████████████████████████████████████████████████| 15/15 [00:02<00:00,  5.98it/s]\n"
     ]
    },
    {
     "name": "stdout",
     "output_type": "stream",
     "text": [
      "shape of the saved modelParams: (32, 6, 15).\n",
      "shape of the saved labels: (32, 500, 15).\n",
      "shape of the saved proba: (32, 500, 2, 15).\n"
     ]
    },
    {
     "name": "stderr",
     "output_type": "stream",
     "text": [
      "100%|████████████████████████████████████████████████████████████████████████████████████████████████████████████████████████████████████████████████| 15/15 [00:01<00:00,  8.61it/s]\n"
     ]
    },
    {
     "name": "stdout",
     "output_type": "stream",
     "text": [
      "shape of the saved modelParams: (32, 6, 15).\n",
      "shape of the saved labels: (32, 250, 15).\n",
      "shape of the saved proba: (32, 250, 2, 15).\n",
      "1/3 combo done. Time of this combo: 0:00:18s. Total time: 0:00:18s.\n",
      "2/3 combo starts.\n"
     ]
    },
    {
     "name": "stderr",
     "output_type": "stream",
     "text": [
      "100%|████████████████████████████████████████████████████████████████████████████████████████████████████████████████████████████████████████████████| 15/15 [03:43<00:00, 14.91s/it]\n"
     ]
    },
    {
     "name": "stdout",
     "output_type": "stream",
     "text": [
      "shape of the saved modelParams: (32, 6, 15).\n",
      "shape of the saved labels: (32, 2000, 15).\n",
      "shape of the saved proba: (32, 2000, 2, 15).\n"
     ]
    },
    {
     "name": "stderr",
     "output_type": "stream",
     "text": [
      "100%|████████████████████████████████████████████████████████████████████████████████████████████████████████████████████████████████████████████████| 15/15 [01:34<00:00,  6.33s/it]\n"
     ]
    },
    {
     "name": "stdout",
     "output_type": "stream",
     "text": [
      "shape of the saved modelParams: (32, 6, 15).\n",
      "shape of the saved labels: (32, 1000, 15).\n",
      "shape of the saved proba: (32, 1000, 2, 15).\n"
     ]
    },
    {
     "name": "stderr",
     "output_type": "stream",
     "text": [
      "100%|████████████████████████████████████████████████████████████████████████████████████████████████████████████████████████████████████████████████| 15/15 [00:40<00:00,  2.70s/it]\n"
     ]
    },
    {
     "name": "stdout",
     "output_type": "stream",
     "text": [
      "shape of the saved modelParams: (32, 6, 15).\n",
      "shape of the saved labels: (32, 500, 15).\n",
      "shape of the saved proba: (32, 500, 2, 15).\n"
     ]
    },
    {
     "name": "stderr",
     "output_type": "stream",
     "text": [
      "100%|████████████████████████████████████████████████████████████████████████████████████████████████████████████████████████████████████████████████| 15/15 [00:18<00:00,  1.23s/it]\n"
     ]
    },
    {
     "name": "stdout",
     "output_type": "stream",
     "text": [
      "shape of the saved modelParams: (32, 6, 15).\n",
      "shape of the saved labels: (32, 250, 15).\n",
      "shape of the saved proba: (32, 250, 2, 15).\n",
      "2/3 combo done. Time of this combo: 0:06:18s. Total time: 0:06:36s.\n",
      "3/3 combo starts.\n"
     ]
    },
    {
     "name": "stderr",
     "output_type": "stream",
     "text": [
      "100%|████████████████████████████████████████████████████████████████████████████████████████████████████████████████████████████████████████████████| 15/15 [04:44<00:00, 18.97s/it]\n"
     ]
    },
    {
     "name": "stdout",
     "output_type": "stream",
     "text": [
      "shape of the saved modelParams: (32, 6, 15).\n",
      "shape of the saved labels: (32, 2000, 15).\n",
      "shape of the saved proba: (32, 2000, 2, 15).\n"
     ]
    },
    {
     "name": "stderr",
     "output_type": "stream",
     "text": [
      "100%|████████████████████████████████████████████████████████████████████████████████████████████████████████████████████████████████████████████████| 15/15 [02:04<00:00,  8.30s/it]\n"
     ]
    },
    {
     "name": "stdout",
     "output_type": "stream",
     "text": [
      "shape of the saved modelParams: (32, 6, 15).\n",
      "shape of the saved labels: (32, 1000, 15).\n",
      "shape of the saved proba: (32, 1000, 2, 15).\n"
     ]
    },
    {
     "name": "stderr",
     "output_type": "stream",
     "text": [
      "100%|████████████████████████████████████████████████████████████████████████████████████████████████████████████████████████████████████████████████| 15/15 [00:54<00:00,  3.66s/it]\n"
     ]
    },
    {
     "name": "stdout",
     "output_type": "stream",
     "text": [
      "shape of the saved modelParams: (32, 6, 15).\n",
      "shape of the saved labels: (32, 500, 15).\n",
      "shape of the saved proba: (32, 500, 2, 15).\n"
     ]
    },
    {
     "name": "stderr",
     "output_type": "stream",
     "text": [
      "100%|████████████████████████████████████████████████████████████████████████████████████████████████████████████████████████████████████████████████| 15/15 [00:24<00:00,  1.62s/it]"
     ]
    },
    {
     "name": "stdout",
     "output_type": "stream",
     "text": [
      "shape of the saved modelParams: (32, 6, 15).\n",
      "shape of the saved labels: (32, 250, 15).\n",
      "shape of the saved proba: (32, 250, 2, 15).\n",
      "3/3 combo done. Time of this combo: 0:08:09s. Total time: 0:14:44s.\n"
     ]
    },
    {
     "name": "stderr",
     "output_type": "stream",
     "text": [
      "\n"
     ]
    }
   ],
   "source": [
    "model_fit_many_datas_models(generate_key_data(\"t\"), key_feat_jump, model_dict_jump, param_grid, path, job_id, batch_size)"
   ]
  },
  {
   "cell_type": "code",
   "execution_count": null,
   "id": "7ef1680c-d9db-4504-b40e-a6a18cb88831",
   "metadata": {},
   "outputs": [],
   "source": []
  }
 ],
 "metadata": {
  "kernelspec": {
   "display_name": "Python 3 (ipykernel)",
   "language": "python",
   "name": "python3"
  },
  "language_info": {
   "codemirror_mode": {
    "name": "ipython",
    "version": 3
   },
   "file_extension": ".py",
   "mimetype": "text/x-python",
   "name": "python",
   "nbconvert_exporter": "python",
   "pygments_lexer": "ipython3",
   "version": "3.10.9"
  }
 },
 "nbformat": 4,
 "nbformat_minor": 5
}
