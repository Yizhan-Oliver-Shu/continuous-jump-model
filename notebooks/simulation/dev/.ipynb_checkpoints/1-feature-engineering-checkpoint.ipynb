{
 "cells": [
  {
   "cell_type": "code",
   "execution_count": 1,
   "id": "88a51e4b-aa81-4377-a2d3-d5e43d9be918",
   "metadata": {
    "tags": []
   },
   "outputs": [],
   "source": [
    "%load_ext autoreload\n",
    "%autoreload 2\n",
    "import sys, os\n",
    "from os.path import expanduser\n",
    "## actions required!!!!!!!!!!!!!!!!!!!! change your folder path \n",
    "path_repo = expanduser(\"~/Documents/G3_2/regime-identification\"); sys.path.append(path_repo)\n",
    "path_file = expanduser(\"~/data/G3_2/regime-identification/simulation\")\n",
    "path = {}\n",
    "for folder in [\"data\", \"estimation\", \"score\", \"figure\", \"latex\"]:\n",
    "    path[folder] = f\"{path_file}/{folder}\""
   ]
  },
  {
   "cell_type": "code",
   "execution_count": 2,
   "id": "fa90703e-2c0d-45c8-bdc9-eb55cb2b0806",
   "metadata": {
    "tags": []
   },
   "outputs": [],
   "source": [
    "import numpy as np"
   ]
  },
  {
   "cell_type": "code",
   "execution_count": 3,
   "id": "7af115dc-6da4-404c-9449-78289800fdfd",
   "metadata": {
    "tags": []
   },
   "outputs": [],
   "source": [
    "from regime.simulation_helper import *\n",
    "from regime.stats import *"
   ]
  },
  {
   "cell_type": "markdown",
   "id": "369a2c11-22c0-42a9-8a22-ea631a455488",
   "metadata": {
    "jp-MarkdownHeadingCollapsed": true,
    "tags": []
   },
   "source": [
    "# 1-feature-engineering\n",
    "\n",
    "In this notebook we perform feature engineering."
   ]
  },
  {
   "cell_type": "markdown",
   "id": "f223f8c5-746d-455f-a358-70204d33ec0b",
   "metadata": {},
   "source": [
    "#  Zheng features"
   ]
  },
  {
   "cell_type": "code",
   "execution_count": 4,
   "id": "38a4bedf-ff88-4f8e-b243-83d0c15583b6",
   "metadata": {
    "tags": []
   },
   "outputs": [],
   "source": [
    "n_b = 20"
   ]
  },
  {
   "cell_type": "code",
   "execution_count": 5,
   "id": "1011bb99-572e-48bf-9c9b-34494abb188f",
   "metadata": {
    "tags": []
   },
   "outputs": [
    {
     "data": {
      "text/plain": [
       "['2-state-daily',\n",
       " '2-state-weekly',\n",
       " '2-state-monthly',\n",
       " '3-state-daily',\n",
       " '3-state-weekly',\n",
       " '3-state-monthly',\n",
       " 't-5-daily',\n",
       " 't-5-weekly',\n",
       " 't-5-monthly']"
      ]
     },
     "execution_count": 5,
     "metadata": {},
     "output_type": "execute_result"
    }
   ],
   "source": [
    "key_data_list = generate_key_data([2, 3, \"t\"], dof=5)\n",
    "key_data_list"
   ]
  },
  {
   "cell_type": "code",
   "execution_count": 6,
   "id": "9ddb0d8b-a51e-4816-bab1-c1eecc09cc24",
   "metadata": {},
   "outputs": [
    {
     "name": "stderr",
     "output_type": "stream",
     "text": [
      "  0%|                                                                                   | 0/18 [00:00<?, ?it/s]"
     ]
    },
    {
     "name": "stdout",
     "output_type": "stream",
     "text": [
      "shape of the saved Xs: (1024, 250, 15).\n",
      "shape of the saved Xs: (1024, 2000, 15).\n",
      "shape of the saved Xs: (1024, 500, 15).\n"
     ]
    },
    {
     "name": "stderr",
     "output_type": "stream",
     "text": [
      "  6%|████▏                                                                      | 1/18 [00:10<03:05, 10.92s/it]"
     ]
    },
    {
     "name": "stdout",
     "output_type": "stream",
     "text": [
      "shape of the saved Xs: (1024, 1000, 15).\n",
      "shape of the saved Xs: (1024, 250, 15).\n",
      "shape of the saved Xs: (1024, 100, 15).\n",
      "shape of the saved Xs: (1024, 500, 15).\n",
      "shape of the saved Xs: (1024, 50, 15).\n"
     ]
    },
    {
     "name": "stderr",
     "output_type": "stream",
     "text": [
      " 11%|████████▎                                                                  | 2/18 [00:21<02:53, 10.82s/it]"
     ]
    },
    {
     "name": "stdout",
     "output_type": "stream",
     "text": [
      "shape of the saved Xs: (1024, 1000, 15).\n",
      "shape of the saved Xs: (1024, 60, 15).\n",
      "shape of the saved Xs: (1024, 250, 15).\n",
      "shape of the saved Xs: (1024, 120, 15).\n"
     ]
    },
    {
     "name": "stderr",
     "output_type": "stream",
     "text": [
      " 17%|████████████▌                                                              | 3/18 [00:29<02:19,  9.28s/it]"
     ]
    },
    {
     "name": "stdout",
     "output_type": "stream",
     "text": [
      "shape of the saved Xs: (1024, 500, 15).\n",
      "shape of the saved Xs: (1024, 250, 15).\n",
      "shape of the saved Xs: (1024, 2000, 15).\n",
      "shape of the saved Xs: (1024, 500, 15).\n"
     ]
    },
    {
     "name": "stderr",
     "output_type": "stream",
     "text": [
      " 22%|████████████████▋                                                          | 4/18 [00:40<02:21, 10.08s/it]"
     ]
    },
    {
     "name": "stdout",
     "output_type": "stream",
     "text": [
      "shape of the saved Xs: (1024, 1000, 15).\n",
      "shape of the saved Xs: (1024, 250, 15).\n",
      "shape of the saved Xs: (1024, 100, 15).\n",
      "shape of the saved Xs: (1024, 500, 15).\n",
      "shape of the saved Xs: (1024, 50, 15).\n"
     ]
    },
    {
     "name": "stderr",
     "output_type": "stream",
     "text": [
      " 28%|████████████████████▊                                                      | 5/18 [00:51<02:13, 10.31s/it]"
     ]
    },
    {
     "name": "stdout",
     "output_type": "stream",
     "text": [
      "shape of the saved Xs: (1024, 1000, 15).\n",
      "shape of the saved Xs: (1024, 60, 15).\n",
      "shape of the saved Xs: (1024, 250, 15).\n",
      "shape of the saved Xs: (1024, 120, 15).\n"
     ]
    },
    {
     "name": "stderr",
     "output_type": "stream",
     "text": [
      " 33%|█████████████████████████                                                  | 6/18 [00:58<01:53,  9.45s/it]"
     ]
    },
    {
     "name": "stdout",
     "output_type": "stream",
     "text": [
      "shape of the saved Xs: (1024, 500, 15).\n",
      "shape of the saved Xs: (1024, 250, 15).\n",
      "shape of the saved Xs: (1024, 2000, 15).\n",
      "shape of the saved Xs: (1024, 500, 15).\n"
     ]
    },
    {
     "name": "stderr",
     "output_type": "stream",
     "text": [
      " 39%|█████████████████████████████▏                                             | 7/18 [01:11<01:53, 10.32s/it]"
     ]
    },
    {
     "name": "stdout",
     "output_type": "stream",
     "text": [
      "shape of the saved Xs: (1024, 1000, 15).\n",
      "shape of the saved Xs: (1024, 250, 15).\n",
      "shape of the saved Xs: (1024, 100, 15).\n",
      "shape of the saved Xs: (1024, 500, 15).\n",
      "shape of the saved Xs: (1024, 50, 15).\n"
     ]
    },
    {
     "name": "stderr",
     "output_type": "stream",
     "text": [
      " 44%|█████████████████████████████████▎                                         | 8/18 [01:21<01:44, 10.44s/it]"
     ]
    },
    {
     "name": "stdout",
     "output_type": "stream",
     "text": [
      "shape of the saved Xs: (1024, 1000, 15).\n",
      "shape of the saved Xs: (1024, 60, 15).\n",
      "shape of the saved Xs: (1024, 250, 15).\n",
      "shape of the saved Xs: (1024, 120, 15).\n"
     ]
    },
    {
     "name": "stderr",
     "output_type": "stream",
     "text": [
      " 50%|█████████████████████████████████████▌                                     | 9/18 [01:29<01:26,  9.57s/it]"
     ]
    },
    {
     "name": "stdout",
     "output_type": "stream",
     "text": [
      "shape of the saved Xs: (1024, 500, 15).\n",
      "shape of the saved Xs: (1024, 250, 15).\n",
      "shape of the saved Xs: (1024, 2000, 15).\n",
      "shape of the saved Xs: (1024, 500, 15).\n"
     ]
    },
    {
     "name": "stderr",
     "output_type": "stream",
     "text": [
      " 56%|█████████████████████████████████████████                                 | 10/18 [01:41<01:23, 10.41s/it]"
     ]
    },
    {
     "name": "stdout",
     "output_type": "stream",
     "text": [
      "shape of the saved Xs: (1024, 1000, 15).\n",
      "shape of the saved Xs: (1024, 250, 15).\n",
      "shape of the saved Xs: (1024, 100, 15).\n",
      "shape of the saved Xs: (1024, 500, 15).\n",
      "shape of the saved Xs: (1024, 50, 15).\n"
     ]
    },
    {
     "name": "stderr",
     "output_type": "stream",
     "text": [
      " 61%|█████████████████████████████████████████████▏                            | 11/18 [01:52<01:14, 10.64s/it]"
     ]
    },
    {
     "name": "stdout",
     "output_type": "stream",
     "text": [
      "shape of the saved Xs: (1024, 1000, 15).\n",
      "shape of the saved Xs: (1024, 60, 15).\n",
      "shape of the saved Xs: (1024, 250, 15).\n",
      "shape of the saved Xs: (1024, 120, 15).\n"
     ]
    },
    {
     "name": "stderr",
     "output_type": "stream",
     "text": [
      " 67%|█████████████████████████████████████████████████▎                        | 12/18 [02:00<00:58,  9.78s/it]"
     ]
    },
    {
     "name": "stdout",
     "output_type": "stream",
     "text": [
      "shape of the saved Xs: (1024, 500, 15).\n",
      "shape of the saved Xs: (1024, 250, 15).\n",
      "shape of the saved Xs: (1024, 2000, 15).\n",
      "shape of the saved Xs: (1024, 500, 15).\n"
     ]
    },
    {
     "name": "stderr",
     "output_type": "stream",
     "text": [
      " 72%|█████████████████████████████████████████████████████▍                    | 13/18 [02:13<00:53, 10.74s/it]"
     ]
    },
    {
     "name": "stdout",
     "output_type": "stream",
     "text": [
      "shape of the saved Xs: (1024, 1000, 15).\n",
      "shape of the saved Xs: (1024, 250, 15).\n",
      "shape of the saved Xs: (1024, 100, 15).\n",
      "shape of the saved Xs: (1024, 500, 15).\n",
      "shape of the saved Xs: (1024, 50, 15).\n"
     ]
    },
    {
     "name": "stderr",
     "output_type": "stream",
     "text": [
      " 78%|█████████████████████████████████████████████████████████▌                | 14/18 [02:25<00:43, 10.97s/it]"
     ]
    },
    {
     "name": "stdout",
     "output_type": "stream",
     "text": [
      "shape of the saved Xs: (1024, 1000, 15).\n",
      "shape of the saved Xs: (1024, 60, 15).\n",
      "shape of the saved Xs: (1024, 250, 15).\n",
      "shape of the saved Xs: (1024, 120, 15).\n"
     ]
    },
    {
     "name": "stderr",
     "output_type": "stream",
     "text": [
      " 83%|█████████████████████████████████████████████████████████████▋            | 15/18 [02:33<00:30, 10.08s/it]"
     ]
    },
    {
     "name": "stdout",
     "output_type": "stream",
     "text": [
      "shape of the saved Xs: (1024, 500, 15).\n",
      "shape of the saved Xs: (1024, 250, 15).\n",
      "shape of the saved Xs: (1024, 2000, 15).\n",
      "shape of the saved Xs: (1024, 500, 15).\n"
     ]
    },
    {
     "name": "stderr",
     "output_type": "stream",
     "text": [
      " 89%|█████████████████████████████████████████████████████████████████▊        | 16/18 [02:45<00:21, 10.85s/it]"
     ]
    },
    {
     "name": "stdout",
     "output_type": "stream",
     "text": [
      "shape of the saved Xs: (1024, 1000, 15).\n",
      "shape of the saved Xs: (1024, 250, 15).\n",
      "shape of the saved Xs: (1024, 100, 15).\n",
      "shape of the saved Xs: (1024, 500, 15).\n",
      "shape of the saved Xs: (1024, 50, 15).\n"
     ]
    },
    {
     "name": "stderr",
     "output_type": "stream",
     "text": [
      " 94%|█████████████████████████████████████████████████████████████████████▉    | 17/18 [02:57<00:11, 11.11s/it]"
     ]
    },
    {
     "name": "stdout",
     "output_type": "stream",
     "text": [
      "shape of the saved Xs: (1024, 1000, 15).\n",
      "shape of the saved Xs: (1024, 60, 15).\n",
      "shape of the saved Xs: (1024, 250, 15).\n",
      "shape of the saved Xs: (1024, 120, 15).\n"
     ]
    },
    {
     "name": "stderr",
     "output_type": "stream",
     "text": [
      "100%|██████████████████████████████████████████████████████████████████████████| 18/18 [03:05<00:00, 10.29s/it]"
     ]
    },
    {
     "name": "stdout",
     "output_type": "stream",
     "text": [
      "shape of the saved Xs: (1024, 500, 15).\n"
     ]
    },
    {
     "name": "stderr",
     "output_type": "stream",
     "text": [
      "\n"
     ]
    }
   ],
   "source": [
    "feature_engineer([\"zhengF\", \"zhengB\"], key_data_list, n_b, path)"
   ]
  }
 ],
 "metadata": {
  "kernelspec": {
   "display_name": "Python 3 (ipykernel)",
   "language": "python",
   "name": "python3"
  },
  "language_info": {
   "codemirror_mode": {
    "name": "ipython",
    "version": 3
   },
   "file_extension": ".py",
   "mimetype": "text/x-python",
   "name": "python",
   "nbconvert_exporter": "python",
   "pygments_lexer": "ipython3",
   "version": "3.10.9"
  },
  "toc-autonumbering": true
 },
 "nbformat": 4,
 "nbformat_minor": 5
}
