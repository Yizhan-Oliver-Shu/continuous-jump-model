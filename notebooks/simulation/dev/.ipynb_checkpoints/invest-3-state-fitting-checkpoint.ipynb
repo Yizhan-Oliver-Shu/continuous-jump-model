{
 "cells": [
  {
   "cell_type": "code",
   "execution_count": 1,
   "id": "19a1b38c-aed3-4acd-b881-e643132a93e1",
   "metadata": {
    "tags": []
   },
   "outputs": [],
   "source": [
    "%load_ext autoreload\n",
    "%autoreload 2\n",
    "import sys, os\n",
    "from os.path import expanduser\n",
    "## actions required!!!!!!!!!!!!!!!!!!!! change your folder path \n",
    "path_repo = expanduser(\"~/Documents/G3_2/regime-identification\"); sys.path.append(path_repo)\n",
    "path_file = expanduser(\"~/data/G3_2/regime-identification/simulation\")\n",
    "path = {}\n",
    "for folder in [\"data\", \"estimation\"]:\n",
    "    path[folder] = f\"{path_file}/{folder}\""
   ]
  },
  {
   "cell_type": "code",
   "execution_count": 28,
   "id": "d7e03fe5-2e16-4da6-b5f9-b7274305c365",
   "metadata": {
    "tags": []
   },
   "outputs": [],
   "source": [
    "from regime.simulation_helper import *\n",
    "from regime.jump import *"
   ]
  },
  {
   "cell_type": "code",
   "execution_count": 11,
   "id": "5e4cf05a-5b1e-4d03-baa2-3eb3e1cc3d95",
   "metadata": {
    "tags": []
   },
   "outputs": [],
   "source": [
    "key_data = \"3-state-daily\"\n",
    "n_s = 2000\n",
    "key_feat = \"HMM\"\n",
    "key_model = \"HMM10init\""
   ]
  },
  {
   "cell_type": "code",
   "execution_count": 9,
   "id": "26e73493-27bf-40ca-8568-36c919bf3199",
   "metadata": {
    "tags": []
   },
   "outputs": [
    {
     "data": {
      "text/plain": [
       "(1024, 2000)"
      ]
     },
     "execution_count": 9,
     "metadata": {},
     "output_type": "execute_result"
    }
   ],
   "source": [
    "Zs = load_file(path, \"data\", key_data, \"Zs\", n_s)\n",
    "Zs.shape"
   ]
  },
  {
   "cell_type": "code",
   "execution_count": 14,
   "id": "3b34f82d-4e2c-454e-a556-ea30e141f509",
   "metadata": {
    "tags": []
   },
   "outputs": [
    {
     "data": {
      "text/plain": [
       "(32, 2000, 3)"
      ]
     },
     "execution_count": 14,
     "metadata": {},
     "output_type": "execute_result"
    }
   ],
   "source": [
    "proba_ = load_arr_distributed(path, \"estimation\", key_data, \"proba\", n_s, key_feat, key_model, 1, 32)\n",
    "proba_.shape"
   ]
  },
  {
   "cell_type": "code",
   "execution_count": 15,
   "id": "dacd37c1-5864-4a74-bfe2-80a9d621de4c",
   "metadata": {
    "tags": []
   },
   "outputs": [
    {
     "data": {
      "text/plain": [
       "(32, 2000)"
      ]
     },
     "execution_count": 15,
     "metadata": {},
     "output_type": "execute_result"
    }
   ],
   "source": [
    "labels_ = load_arr_distributed(path, \"estimation\", key_data, \"labels\", n_s, key_feat, key_model, 1, 32)\n",
    "labels_.shape"
   ]
  },
  {
   "cell_type": "code",
   "execution_count": 16,
   "id": "87c82ce6-e135-4d7c-b46d-b0c5984f56e3",
   "metadata": {
    "tags": []
   },
   "outputs": [
    {
     "data": {
      "text/plain": [
       "array([0.827 , 0.9055, 0.9115, 0.6865, 0.9725, 0.966 , 0.9455, 0.5245,\n",
       "       0.871 , 0.8425, 0.926 , 0.9525, 0.9025, 0.8575, 0.9455, 0.766 ,\n",
       "       0.9055, 0.9495, 0.939 , 0.9535, 0.8325, 0.8025, 0.94  , 0.9845,\n",
       "       0.8165, 0.9275, 0.97  , 0.9   , 0.951 , 0.96  , 0.979 , 0.93  ])"
      ]
     },
     "execution_count": 16,
     "metadata": {},
     "output_type": "execute_result"
    }
   ],
   "source": [
    "scorer_batch(accuracy_score, Zs[:32], labels_)"
   ]
  },
  {
   "cell_type": "code",
   "execution_count": 18,
   "id": "22ce1cae-9f36-40a2-aea8-e17dcade5e09",
   "metadata": {
    "tags": []
   },
   "outputs": [
    {
     "data": {
      "text/plain": [
       "(32, 2000, 3)"
      ]
     },
     "execution_count": 18,
     "metadata": {},
     "output_type": "execute_result"
    }
   ],
   "source": [
    "proba_.shape"
   ]
  },
  {
   "cell_type": "code",
   "execution_count": 22,
   "id": "13c62947-35f6-4938-9b8b-aa9461f42e61",
   "metadata": {
    "tags": []
   },
   "outputs": [],
   "source": [
    "labels_new = proba_.argmax(axis=-1)"
   ]
  },
  {
   "cell_type": "code",
   "execution_count": 23,
   "id": "15a5eaa9-c4d4-450e-83a6-a1a8870e7e71",
   "metadata": {
    "tags": []
   },
   "outputs": [
    {
     "data": {
      "text/plain": [
       "array([0.949 , 0.9365, 0.0125, 0.686 , 0.965 , 0.9735, 0.044 , 0.5065,\n",
       "       0.871 , 0.87  , 0.0145, 0.952 , 0.9745, 0.0015, 0.0415, 0.773 ,\n",
       "       0.902 , 0.9445, 0.9435, 0.0035, 0.8385, 0.7975, 0.934 , 0.988 ,\n",
       "       0.005 , 0.007 , 0.0085, 0.924 , 0.95  , 0.963 , 0.0215, 0.0035])"
      ]
     },
     "execution_count": 23,
     "metadata": {},
     "output_type": "execute_result"
    }
   ],
   "source": [
    "scorer_batch(accuracy_score, Zs[:32], labels_new)"
   ]
  },
  {
   "cell_type": "code",
   "execution_count": 25,
   "id": "624f0108-87b3-464e-bb22-7ae4d3d75689",
   "metadata": {
    "tags": []
   },
   "outputs": [
    {
     "data": {
      "text/plain": [
       "array([0, 0, 0, ..., 1, 1, 1], dtype=int32)"
      ]
     },
     "execution_count": 25,
     "metadata": {},
     "output_type": "execute_result"
    }
   ],
   "source": [
    "labels_[2]"
   ]
  },
  {
   "cell_type": "code",
   "execution_count": 26,
   "id": "4f2ab347-bc92-48a4-9536-7897f520ed40",
   "metadata": {
    "tags": []
   },
   "outputs": [
    {
     "data": {
      "text/plain": [
       "array([2, 2, 2, ..., 0, 0, 0])"
      ]
     },
     "execution_count": 26,
     "metadata": {},
     "output_type": "execute_result"
    }
   ],
   "source": [
    "labels_new[2]"
   ]
  },
  {
   "cell_type": "code",
   "execution_count": 24,
   "id": "d23bd748-3c36-4fcb-a851-5d3c5ed12337",
   "metadata": {
    "tags": []
   },
   "outputs": [
    {
     "data": {
      "text/plain": [
       "array([[0.00000000e+00, 0.00000000e+00, 1.00000000e+00],\n",
       "       [1.35558647e-04, 2.17438961e-05, 9.99842697e-01],\n",
       "       [3.01925104e-04, 5.00791650e-05, 9.99647996e-01],\n",
       "       ...,\n",
       "       [9.58117640e-01, 3.45582285e-02, 7.32413192e-03],\n",
       "       [9.49076033e-01, 4.36123471e-02, 7.31161970e-03],\n",
       "       [9.43168438e-01, 4.69036872e-02, 9.92787502e-03]])"
      ]
     },
     "execution_count": 24,
     "metadata": {},
     "output_type": "execute_result"
    }
   ],
   "source": [
    "proba_[2]"
   ]
  },
  {
   "cell_type": "code",
   "execution_count": null,
   "id": "f889cb8d-0875-4ce8-b8bb-08d17860c1b4",
   "metadata": {},
   "outputs": [],
   "source": []
  },
  {
   "cell_type": "code",
   "execution_count": 33,
   "id": "31067e6c-9cd5-4450-a06d-0065f212f095",
   "metadata": {
    "tags": []
   },
   "outputs": [],
   "source": [
    "from numpy.random import RandomState\n",
    "random_state = RandomState(0)\n",
    "model = GaussianHMM_model(3, n_init=10, init='k-means++', random_state=random_state, n_iter = 500, tol = 1e-4, min_covar=1e-6, covars_prior=1e-6,\n",
    "                                    transmat_prior = 1.+1e-5)#"
   ]
  },
  {
   "cell_type": "code",
   "execution_count": 36,
   "id": "bf329ed5-94e5-41c9-b687-fd51e21cab01",
   "metadata": {
    "tags": []
   },
   "outputs": [],
   "source": [
    "Xs = load_file(path, \"data\", key_data, \"Xs\", n_s, \"HMM\")\n",
    "X = Xs[2]"
   ]
  },
  {
   "cell_type": "code",
   "execution_count": 37,
   "id": "f384ef7e-6a10-40b6-bb46-57659afa2fe1",
   "metadata": {
    "tags": []
   },
   "outputs": [
    {
     "data": {
      "text/html": [
       "<style>#sk-container-id-1 {color: black;background-color: white;}#sk-container-id-1 pre{padding: 0;}#sk-container-id-1 div.sk-toggleable {background-color: white;}#sk-container-id-1 label.sk-toggleable__label {cursor: pointer;display: block;width: 100%;margin-bottom: 0;padding: 0.3em;box-sizing: border-box;text-align: center;}#sk-container-id-1 label.sk-toggleable__label-arrow:before {content: \"▸\";float: left;margin-right: 0.25em;color: #696969;}#sk-container-id-1 label.sk-toggleable__label-arrow:hover:before {color: black;}#sk-container-id-1 div.sk-estimator:hover label.sk-toggleable__label-arrow:before {color: black;}#sk-container-id-1 div.sk-toggleable__content {max-height: 0;max-width: 0;overflow: hidden;text-align: left;background-color: #f0f8ff;}#sk-container-id-1 div.sk-toggleable__content pre {margin: 0.2em;color: black;border-radius: 0.25em;background-color: #f0f8ff;}#sk-container-id-1 input.sk-toggleable__control:checked~div.sk-toggleable__content {max-height: 200px;max-width: 100%;overflow: auto;}#sk-container-id-1 input.sk-toggleable__control:checked~label.sk-toggleable__label-arrow:before {content: \"▾\";}#sk-container-id-1 div.sk-estimator input.sk-toggleable__control:checked~label.sk-toggleable__label {background-color: #d4ebff;}#sk-container-id-1 div.sk-label input.sk-toggleable__control:checked~label.sk-toggleable__label {background-color: #d4ebff;}#sk-container-id-1 input.sk-hidden--visually {border: 0;clip: rect(1px 1px 1px 1px);clip: rect(1px, 1px, 1px, 1px);height: 1px;margin: -1px;overflow: hidden;padding: 0;position: absolute;width: 1px;}#sk-container-id-1 div.sk-estimator {font-family: monospace;background-color: #f0f8ff;border: 1px dotted black;border-radius: 0.25em;box-sizing: border-box;margin-bottom: 0.5em;}#sk-container-id-1 div.sk-estimator:hover {background-color: #d4ebff;}#sk-container-id-1 div.sk-parallel-item::after {content: \"\";width: 100%;border-bottom: 1px solid gray;flex-grow: 1;}#sk-container-id-1 div.sk-label:hover label.sk-toggleable__label {background-color: #d4ebff;}#sk-container-id-1 div.sk-serial::before {content: \"\";position: absolute;border-left: 1px solid gray;box-sizing: border-box;top: 0;bottom: 0;left: 50%;z-index: 0;}#sk-container-id-1 div.sk-serial {display: flex;flex-direction: column;align-items: center;background-color: white;padding-right: 0.2em;padding-left: 0.2em;position: relative;}#sk-container-id-1 div.sk-item {position: relative;z-index: 1;}#sk-container-id-1 div.sk-parallel {display: flex;align-items: stretch;justify-content: center;background-color: white;position: relative;}#sk-container-id-1 div.sk-item::before, #sk-container-id-1 div.sk-parallel-item::before {content: \"\";position: absolute;border-left: 1px solid gray;box-sizing: border-box;top: 0;bottom: 0;left: 50%;z-index: -1;}#sk-container-id-1 div.sk-parallel-item {display: flex;flex-direction: column;z-index: 1;position: relative;background-color: white;}#sk-container-id-1 div.sk-parallel-item:first-child::after {align-self: flex-end;width: 50%;}#sk-container-id-1 div.sk-parallel-item:last-child::after {align-self: flex-start;width: 50%;}#sk-container-id-1 div.sk-parallel-item:only-child::after {width: 0;}#sk-container-id-1 div.sk-dashed-wrapped {border: 1px dashed gray;margin: 0 0.4em 0.5em 0.4em;box-sizing: border-box;padding-bottom: 0.4em;background-color: white;}#sk-container-id-1 div.sk-label label {font-family: monospace;font-weight: bold;display: inline-block;line-height: 1.2em;}#sk-container-id-1 div.sk-label-container {text-align: center;}#sk-container-id-1 div.sk-container {/* jupyter's `normalize.less` sets `[hidden] { display: none; }` but bootstrap.min.css set `[hidden] { display: none !important; }` so we also need the `!important` here to be able to override the default hidden behavior on the sphinx rendered scikit-learn.org. See: https://github.com/scikit-learn/scikit-learn/issues/21755 */display: inline-block !important;position: relative;}#sk-container-id-1 div.sk-text-repr-fallback {display: none;}</style><div id=\"sk-container-id-1\" class=\"sk-top-container\"><div class=\"sk-text-repr-fallback\"><pre>GaussianHMM_model(n_components=3,\n",
       "                  random_state=RandomState(MT19937) at 0x13F843D40)</pre><b>In a Jupyter environment, please rerun this cell to show the HTML representation or trust the notebook. <br />On GitHub, the HTML representation is unable to render, please try loading this page with nbviewer.org.</b></div><div class=\"sk-container\" hidden><div class=\"sk-item\"><div class=\"sk-estimator sk-toggleable\"><input class=\"sk-toggleable__control sk-hidden--visually\" id=\"sk-estimator-id-1\" type=\"checkbox\" checked><label for=\"sk-estimator-id-1\" class=\"sk-toggleable__label sk-toggleable__label-arrow\">GaussianHMM_model</label><div class=\"sk-toggleable__content\"><pre>GaussianHMM_model(n_components=3,\n",
       "                  random_state=RandomState(MT19937) at 0x13F843D40)</pre></div></div></div></div></div>"
      ],
      "text/plain": [
       "GaussianHMM_model(n_components=3,\n",
       "                  random_state=RandomState(MT19937) at 0x13F843D40)"
      ]
     },
     "execution_count": 37,
     "metadata": {},
     "output_type": "execute_result"
    }
   ],
   "source": [
    "model.fit(X)"
   ]
  },
  {
   "cell_type": "code",
   "execution_count": 39,
   "id": "9978750d-abbe-4f7f-aa3a-dc21df3ec45a",
   "metadata": {
    "tags": []
   },
   "outputs": [
    {
     "data": {
      "text/plain": [
       "array([1, 1, 1, ..., 2, 2, 2], dtype=int32)"
      ]
     },
     "execution_count": 39,
     "metadata": {},
     "output_type": "execute_result"
    }
   ],
   "source": [
    "model.labels_"
   ]
  },
  {
   "cell_type": "code",
   "execution_count": 40,
   "id": "68aa1e3f-0ffc-4f5b-9908-4c02f726e215",
   "metadata": {
    "tags": []
   },
   "outputs": [
    {
     "data": {
      "text/plain": [
       "array([[3.02915422e-257, 1.00000000e+000, 8.51082384e-240],\n",
       "       [2.17363477e-005, 9.99842573e-001, 1.35690518e-004],\n",
       "       [5.00615115e-005, 9.99647720e-001, 3.02218462e-004],\n",
       "       ...,\n",
       "       [3.45417301e-002, 7.32874607e-003, 9.58129524e-001],\n",
       "       [4.35904219e-002, 7.31622917e-003, 9.49093349e-001],\n",
       "       [4.68803496e-002, 9.93422257e-003, 9.43185428e-001]])"
      ]
     },
     "execution_count": 40,
     "metadata": {},
     "output_type": "execute_result"
    }
   ],
   "source": [
    "model.proba_"
   ]
  },
  {
   "cell_type": "code",
   "execution_count": 41,
   "id": "ee09a494-a2fd-410c-b22e-4a63002d5dd7",
   "metadata": {
    "tags": []
   },
   "outputs": [],
   "source": [
    "labels_ = model.labels_\n",
    "proba_ = model.proba_"
   ]
  },
  {
   "cell_type": "code",
   "execution_count": 42,
   "id": "b390e5fb-073b-4de6-baa6-69a488e28c32",
   "metadata": {
    "tags": []
   },
   "outputs": [
    {
     "data": {
      "text/plain": [
       "array([1, 1, 1, ..., 2, 2, 2], dtype=int32)"
      ]
     },
     "execution_count": 42,
     "metadata": {},
     "output_type": "execute_result"
    }
   ],
   "source": [
    "labels_"
   ]
  },
  {
   "cell_type": "code",
   "execution_count": 43,
   "id": "9175141c-897a-4738-8f4a-8c3c11b5557f",
   "metadata": {
    "tags": []
   },
   "outputs": [
    {
     "data": {
      "text/plain": [
       "array([[3.02915422e-257, 1.00000000e+000, 8.51082384e-240],\n",
       "       [2.17363477e-005, 9.99842573e-001, 1.35690518e-004],\n",
       "       [5.00615115e-005, 9.99647720e-001, 3.02218462e-004],\n",
       "       ...,\n",
       "       [3.45417301e-002, 7.32874607e-003, 9.58129524e-001],\n",
       "       [4.35904219e-002, 7.31622917e-003, 9.49093349e-001],\n",
       "       [4.68803496e-002, 9.93422257e-003, 9.43185428e-001]])"
      ]
     },
     "execution_count": 43,
     "metadata": {},
     "output_type": "execute_result"
    }
   ],
   "source": [
    "proba_"
   ]
  },
  {
   "cell_type": "code",
   "execution_count": 45,
   "id": "be82ea2d-e92d-440c-a344-a4b85191f8b9",
   "metadata": {
    "tags": []
   },
   "outputs": [],
   "source": [
    "Z=Zs[2]"
   ]
  },
  {
   "cell_type": "code",
   "execution_count": 47,
   "id": "bea71217-3dd4-4efe-9dbd-f3e3ed76a92b",
   "metadata": {
    "tags": []
   },
   "outputs": [],
   "source": [
    "res= align_estimation_results_batch(Z[np.newaxis, ...], {\"labels_\": labels_[np.newaxis, ...], \"proba_\": proba_[np.newaxis, ...]})"
   ]
  },
  {
   "cell_type": "code",
   "execution_count": 46,
   "id": "3b307985-6211-40ad-8336-25e12e8c9e9d",
   "metadata": {
    "tags": []
   },
   "outputs": [],
   "source": [
    "def align_estimation_results_batch(Zs_true, res):\n",
    "    \"\"\"\n",
    "    align a batch of estimation results with the true labels, i.e. find the optimal permutation for each sample.\n",
    "    results include labels_, proba_, means_, covars_, transmat_.\n",
    "    \"\"\"\n",
    "    n_c, n_t = len(np.unique(Zs_true)), len(Zs_true)\n",
    "    # all the perms\n",
    "    all_perms = generate_all_perms_as_arr(n_c) \n",
    "    # all the possible perms of labels\n",
    "    labels_all_perms = permute_labels(res[\"labels_\"], all_perms)\n",
    "    # score accuracy for each perm\n",
    "    acc_all_perms = scorer_batch(accuracy_score, Zs_true, labels_all_perms, has_params=True) # of shape (n_t, n_p)\n",
    "    # best perm for each trial \n",
    "    best_perm_idx = acc_all_perms.argmax(-1) # shape (n_t,)\n",
    "    best_perm = all_perms[best_perm_idx] # (n_t, n_c)\n",
    "    # take the corresponding perm for labels\n",
    "    res[\"labels_\"] = np.take_along_axis(labels_all_perms, best_perm_idx[:, np.newaxis, np.newaxis], axis=-1).squeeze(axis=-1)\n",
    "    res[\"proba_\"] = np.take_along_axis(res[\"proba_\"], best_perm[:, np.newaxis, :], -1)\n",
    "    # res[\"means_\"] = np.take_along_axis(res[\"means_\"], best_perm, -1)\n",
    "    # res[\"covars_\"] = np.take_along_axis(res[\"covars_\"], best_perm, -1)\n",
    "    # res[\"transmat_\"] = np.take_along_axis(res[\"transmat_\"][np.arange(n_t)[:, np.newaxis], best_perm], best_perm[:, np.newaxis, :], -1)\n",
    "    return res"
   ]
  },
  {
   "cell_type": "code",
   "execution_count": 50,
   "id": "8421ccee-34f3-41e3-86a9-f7d255c4531e",
   "metadata": {
    "tags": []
   },
   "outputs": [
    {
     "data": {
      "text/plain": [
       "array([[0, 1, 2],\n",
       "       [0, 2, 1],\n",
       "       [1, 0, 2],\n",
       "       [1, 2, 0],\n",
       "       [2, 0, 1],\n",
       "       [2, 1, 0]])"
      ]
     },
     "execution_count": 50,
     "metadata": {},
     "output_type": "execute_result"
    }
   ],
   "source": [
    "generate_all_perms_as_arr(3) "
   ]
  },
  {
   "cell_type": "code",
   "execution_count": null,
   "id": "1601df73-ac89-41bd-b0b2-2626686f63eb",
   "metadata": {},
   "outputs": [],
   "source": [
    "    n_c, n_t = len(np.unique(Zs_true)), len(Zs_true)\n",
    "    # all the perms\n",
    "    all_perms = generate_all_perms_as_arr(n_c) \n",
    "    # all the possible perms of labels\n",
    "    labels_all_perms = permute_labels(res[\"labels_\"], all_perms)\n",
    "    # score accuracy for each perm\n",
    "    acc_all_perms = scorer_batch(accuracy_score, Zs_true, labels_all_perms, has_params=True) # of shape (n_t, n_p)\n",
    "    # best perm for each trial \n",
    "    best_perm_idx = acc_all_perms.argmax(-1) # shape (n_t,)\n",
    "    best_perm = all_perms[best_perm_idx]"
   ]
  },
  {
   "cell_type": "code",
   "execution_count": null,
   "id": "b08f4a00-892a-43c7-968e-4ca66972a4b8",
   "metadata": {},
   "outputs": [],
   "source": []
  },
  {
   "cell_type": "code",
   "execution_count": null,
   "id": "ee370a8c-8d74-4c8b-a9e6-ebcdd8aa3432",
   "metadata": {},
   "outputs": [],
   "source": []
  },
  {
   "cell_type": "code",
   "execution_count": null,
   "id": "7ff20ee9-cecd-419e-8821-56d9d48e0d39",
   "metadata": {},
   "outputs": [],
   "source": []
  },
  {
   "cell_type": "code",
   "execution_count": null,
   "id": "ee58d523-370a-4996-b52c-128daeb41bf6",
   "metadata": {},
   "outputs": [],
   "source": []
  },
  {
   "cell_type": "code",
   "execution_count": null,
   "id": "462b0891-7e9d-4aad-ad69-36bd457c0ac3",
   "metadata": {},
   "outputs": [],
   "source": []
  },
  {
   "cell_type": "code",
   "execution_count": 48,
   "id": "119dddae-fc23-45cc-8733-9a66328f3a4d",
   "metadata": {
    "tags": []
   },
   "outputs": [
    {
     "data": {
      "text/plain": [
       "array([[0, 0, 0, ..., 1, 1, 1]], dtype=int32)"
      ]
     },
     "execution_count": 48,
     "metadata": {},
     "output_type": "execute_result"
    }
   ],
   "source": [
    "res['labels_']"
   ]
  },
  {
   "cell_type": "code",
   "execution_count": 49,
   "id": "812319ad-5ae4-4aef-9495-d580a0a3a56d",
   "metadata": {
    "tags": []
   },
   "outputs": [
    {
     "data": {
      "text/plain": [
       "array([[[8.51082384e-240, 3.02915422e-257, 1.00000000e+000],\n",
       "        [1.35690518e-004, 2.17363477e-005, 9.99842573e-001],\n",
       "        [3.02218462e-004, 5.00615115e-005, 9.99647720e-001],\n",
       "        ...,\n",
       "        [9.58129524e-001, 3.45417301e-002, 7.32874607e-003],\n",
       "        [9.49093349e-001, 4.35904219e-002, 7.31622917e-003],\n",
       "        [9.43185428e-001, 4.68803496e-002, 9.93422257e-003]]])"
      ]
     },
     "execution_count": 49,
     "metadata": {},
     "output_type": "execute_result"
    }
   ],
   "source": [
    "res['proba_']"
   ]
  },
  {
   "cell_type": "code",
   "execution_count": null,
   "id": "41358006-630c-4dae-89a5-20b0c99e00a1",
   "metadata": {},
   "outputs": [],
   "source": []
  },
  {
   "cell_type": "code",
   "execution_count": null,
   "id": "3cd3b057-15de-4037-9e5d-475babe35cf2",
   "metadata": {},
   "outputs": [],
   "source": []
  }
 ],
 "metadata": {
  "kernelspec": {
   "display_name": "Python 3 (ipykernel)",
   "language": "python",
   "name": "python3"
  },
  "language_info": {
   "codemirror_mode": {
    "name": "ipython",
    "version": 3
   },
   "file_extension": ".py",
   "mimetype": "text/x-python",
   "name": "python",
   "nbconvert_exporter": "python",
   "pygments_lexer": "ipython3",
   "version": "3.10.9"
  }
 },
 "nbformat": 4,
 "nbformat_minor": 5
}
