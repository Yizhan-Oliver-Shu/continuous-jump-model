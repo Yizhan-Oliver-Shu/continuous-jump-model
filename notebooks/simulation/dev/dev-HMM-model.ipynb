{
 "cells": [
  {
   "cell_type": "code",
   "execution_count": 1,
   "id": "66f5412f-8310-4ea7-ba70-84fe5dde7d11",
   "metadata": {
    "tags": []
   },
   "outputs": [],
   "source": [
    "%load_ext autoreload\n",
    "%autoreload 2\n",
    "import sys, os\n",
    "from os.path import expanduser\n",
    "## actions required!!!!!!!!!!!!!!!!!!!! change your folder path \n",
    "path = expanduser(\"~/Documents/G3_2/regime-identification\")\n",
    "sys.path.append(path)\n",
    "\n",
    "path_file = expanduser(\"~/data/G3_2/regime-identification/simulation\")\n",
    "path_data = f\"{path_file}/data\"\n",
    "path_estimation = f\"{path_file}/estimation\"\n",
    "path_score = f\"{path_file}/score\"\n",
    "path_figure = f\"{path_file}/figure\""
   ]
  },
  {
   "cell_type": "code",
   "execution_count": 2,
   "id": "2cd077ec-c9b8-4c87-a9d2-c7d41b570826",
   "metadata": {
    "tags": []
   },
   "outputs": [],
   "source": [
    "import numpy as np\n",
    "from sklearn.metrics import roc_auc_score\n",
    "from hmmlearn.hmm import GaussianHMM\n",
    "from tqdm import trange, tqdm\n",
    "import logging\n",
    "logging.basicConfig(level=logging.WARNING+1)\n",
    "\n",
    "from numpy.random import RandomState\n",
    "random_state = RandomState(0)"
   ]
  },
  {
   "cell_type": "code",
   "execution_count": 3,
   "id": "e76b33ad-7ad8-458a-87a9-0659ffc0ba39",
   "metadata": {
    "tags": []
   },
   "outputs": [],
   "source": [
    "from sklearn.base import BaseEstimator\n",
    "from sklearn.utils import check_random_state\n",
    "from sklearn.cluster import kmeans_plusplus"
   ]
  },
  {
   "cell_type": "code",
   "execution_count": 6,
   "id": "56b9e19a-220e-4a0e-9cdf-dbf959fcbcfc",
   "metadata": {
    "tags": []
   },
   "outputs": [],
   "source": [
    "from regime.jump import *"
   ]
  },
  {
   "cell_type": "code",
   "execution_count": 4,
   "id": "4e76983f-65a5-4500-a1e8-27b5db8bd0e1",
   "metadata": {
    "tags": []
   },
   "outputs": [],
   "source": [
    "# def _sort_centers_by_first_feature(init):\n",
    "#     \"\"\"\n",
    "#     sort all the centers in each init by the first feature.\n",
    "#     \"\"\"\n",
    "#     n_i = len(init)\n",
    "#     idx = init[:, :, 0].argsort(axis=1)[:, ::-1]\n",
    "#     return init[np.arange(n_i)[:, np.newaxis] , idx]\n",
    "\n",
    "# def init_k_means_plusplus(X, n_c, n_init=10, random_state=None):\n",
    "#     \"\"\"\n",
    "#     initialize the centers, by k-means++, for n_init times.\n",
    "#     \"\"\"\n",
    "#     random_state = check_random_state(random_state)\n",
    "#     init = [kmeans_plusplus(X, n_c, random_state=random_state)[0] for _ in range(n_init)]\n",
    "#     return _sort_centers_by_first_feature(np.array(init))"
   ]
  },
  {
   "cell_type": "code",
   "execution_count": 4,
   "id": "dc560fa8-7f75-42ab-b8ec-aef6c3fc38fe",
   "metadata": {
    "tags": []
   },
   "outputs": [],
   "source": [
    "from sklearn.cluster import KMeans"
   ]
  },
  {
   "cell_type": "code",
   "execution_count": null,
   "id": "3f72d34c-e2d7-400c-a997-86ab9c761379",
   "metadata": {},
   "outputs": [],
   "source": [
    "KMeans()"
   ]
  },
  {
   "cell_type": "code",
   "execution_count": null,
   "id": "e7131409-472e-4ae4-b8e4-a3d6b0cde58d",
   "metadata": {},
   "outputs": [],
   "source": []
  },
  {
   "cell_type": "code",
   "execution_count": null,
   "id": "f44811b1-1084-4532-8539-85daa32a1a94",
   "metadata": {},
   "outputs": [],
   "source": [
    "max_iter = 300,\n",
    "tol = 1e-4,"
   ]
  },
  {
   "cell_type": "code",
   "execution_count": null,
   "id": "786e1bd5-33da-4cf5-8bb6-3661a5bc7478",
   "metadata": {},
   "outputs": [],
   "source": []
  },
  {
   "cell_type": "code",
   "execution_count": 9,
   "id": "822756fc-c596-43c0-ade0-0cf4a039c591",
   "metadata": {
    "tags": []
   },
   "outputs": [],
   "source": [
    "def _sort_centers_by_first_feature(init):\n",
    "    \"\"\"\n",
    "    sort all the centers in each init by the first feature.\n",
    "    \"\"\"\n",
    "    n_i = len(init)\n",
    "    idx = init[:, :, 0].argsort(axis=1)[:, ::-1]\n",
    "    return init[np.arange(n_i)[:, np.newaxis] , idx]\n",
    "\n",
    "def init_centers(X, n_c, n_init=10, init = \"k-means++\", random_state=None):\n",
    "    \"\"\"\n",
    "    initialize the centers, by k-means++, for n_init times.\n",
    "    \"\"\"\n",
    "    random_state = check_random_state(random_state)\n",
    "    if init == \"k-means++\":\n",
    "        centers = [kmeans_plusplus(X, n_c, random_state=random_state)[0] for _ in range(n_init)]\n",
    "    elif init == \"k-means\":\n",
    "        kmeans_instance = KMeans(n_c, n_init=10, random_state=random_state)\n",
    "        centers = [kmeans_instance.fit(X).cluster_centers_ for _ in range(n_init)]\n",
    "    else:\n",
    "        raise NotImplementedError()\n",
    "    return _sort_centers_by_first_feature(np.array(centers))\n",
    "\n",
    "def init_k_means_plusplus(X, n_c, n_init=10, random_state=None):\n",
    "    \"\"\"\n",
    "    initialize the centers, by k-means++, for n_init times.\n",
    "    \"\"\"\n",
    "    return init_centers(X, n_c, n_init=n_init, init = \"k-means++\", random_state=random_state)\n",
    "    # random_state = check_random_state(random_state)\n",
    "    # init = [kmeans_plusplus(X, n_c, random_state=random_state)[0] for _ in range(n_init)]\n",
    "    # return _sort_centers_by_first_feature(np.array(init))"
   ]
  },
  {
   "cell_type": "code",
   "execution_count": 21,
   "id": "9769b59f-ff19-4ad7-80fb-1992893e49f3",
   "metadata": {
    "tags": []
   },
   "outputs": [],
   "source": [
    "X = np.load(f\"{path_data}/Xs_3StateDaily1000_zheng.npy\")"
   ]
  },
  {
   "cell_type": "code",
   "execution_count": 22,
   "id": "e987391f-f271-456a-ac6e-37ebe7ec90d4",
   "metadata": {
    "tags": []
   },
   "outputs": [
    {
     "data": {
      "text/plain": [
       "array([[[ 9.70372826e-03,  1.16024911e-02,  1.00417639e-02,\n",
       "          3.05482258e-03,  8.01916713e-03,  1.57341692e-03,\n",
       "          6.40415282e-03,  4.53622825e-03,  7.02783717e-03,\n",
       "          1.66116031e-03,  8.61023903e-03,  6.36268170e-04,\n",
       "          7.89014965e-03,  2.68605244e-03,  8.15070010e-03],\n",
       "        [-1.33371406e-03,  5.16417118e-03,  6.10967759e-03,\n",
       "         -4.63902590e-04,  5.75129310e-03, -2.40488927e-04,\n",
       "          5.36242213e-03, -6.87316253e-04,  3.85945506e-03,\n",
       "         -3.57996019e-05,  7.00427594e-03,  2.81049312e-04,\n",
       "          7.03187048e-03, -3.52648516e-04,  6.05454991e-03],\n",
       "        [-7.22434838e-03,  1.51492248e-02,  1.51343885e-02,\n",
       "         -8.43939195e-04,  8.94625219e-03,  5.08825650e-04,\n",
       "          6.56684525e-03, -2.19670404e-03,  8.96261445e-03,\n",
       "          1.76575448e-05,  8.57497641e-03,  6.47542334e-04,\n",
       "          7.16755947e-03, -6.12227244e-04,  8.90690877e-03]],\n",
       "\n",
       "       [[ 9.97177703e-03,  1.37166441e-02,  1.25257409e-02,\n",
       "          2.84793404e-03,  8.85329266e-03,  1.54351835e-03,\n",
       "          6.74309743e-03,  4.15234973e-03,  8.36867714e-03,\n",
       "          1.61421562e-03,  9.16293278e-03,  7.15331860e-04,\n",
       "          8.11656209e-03,  2.51309939e-03,  8.92461199e-03],\n",
       "        [ 5.95160241e-04,  5.04579676e-03,  5.86431228e-03,\n",
       "          3.15506304e-04,  5.69290031e-03,  8.45356015e-05,\n",
       "          5.31308295e-03,  5.46477006e-04,  3.71192651e-03,\n",
       "          3.04334541e-04,  6.97716944e-03,  3.18025530e-04,\n",
       "          7.04512159e-03,  2.90643552e-04,  6.01786476e-03],\n",
       "        [-8.11658024e-03,  1.33532581e-02,  1.29034359e-02,\n",
       "         -1.38216597e-03,  8.31027193e-03,  1.75349739e-04,\n",
       "          6.39164344e-03, -2.93968168e-03,  7.95331043e-03,\n",
       "         -2.54956443e-04,  8.22720513e-03,  5.26485191e-04,\n",
       "          7.08825296e-03, -1.03639808e-03,  8.29839762e-03]],\n",
       "\n",
       "       [[ 9.74456796e-03,  1.20499892e-02,  1.06788584e-02,\n",
       "          2.97583678e-03,  8.17388538e-03,  1.56196751e-03,\n",
       "          6.42977274e-03,  4.38970604e-03,  7.32290451e-03,\n",
       "          1.63550151e-03,  8.65124705e-03,  6.47311835e-04,\n",
       "          7.87296422e-03,  2.62369118e-03,  8.26551212e-03],\n",
       "        [-7.58052105e-04,  4.93114365e-03,  6.09856175e-03,\n",
       "         -2.91600318e-04,  5.69911843e-03, -2.03642196e-04,\n",
       "          5.33350414e-03, -3.79558440e-04,  3.77157403e-03,\n",
       "          7.16506193e-05,  7.00904822e-03,  3.55831805e-04,\n",
       "          7.04587004e-03, -2.12530567e-04,  6.02545487e-03],\n",
       "        [-7.87900435e-03,  1.47247991e-02,  1.40520150e-02,\n",
       "         -9.97912512e-04,  8.75757847e-03,  4.50407093e-04,\n",
       "          6.55559754e-03, -2.44623212e-03,  8.60515972e-03,\n",
       "         -1.30325006e-04,  8.47353737e-03,  4.77757068e-04,\n",
       "          7.17109703e-03, -7.38407081e-04,  8.73281658e-03]],\n",
       "\n",
       "       [[ 9.76533095e-03,  1.20760422e-02,  1.06443195e-02,\n",
       "          2.98305402e-03,  8.16060075e-03,  1.53929507e-03,\n",
       "          6.42347451e-03,  4.42681297e-03,  7.31018773e-03,\n",
       "          1.63286317e-03,  8.64804886e-03,  6.32565804e-04,\n",
       "          7.87753595e-03,  2.63316054e-03,  8.25476817e-03],\n",
       "        [-7.51438259e-04,  4.94079433e-03,  6.07631393e-03,\n",
       "         -2.84695200e-04,  5.69244283e-03, -2.08447260e-04,\n",
       "          5.33258907e-03, -3.60943140e-04,  3.76315254e-03,\n",
       "          7.81821015e-05,  7.00307716e-03,  3.66215307e-04,\n",
       "          7.04011505e-03, -2.09851104e-04,  6.01778380e-03],\n",
       "        [-7.81461595e-03,  1.46253551e-02,  1.40884408e-02,\n",
       "         -1.00044724e-03,  8.77086444e-03,  4.87574714e-04,\n",
       "          6.55908989e-03, -2.48846920e-03,  8.61107546e-03,\n",
       "         -1.31903569e-04,  8.48350550e-03,  4.74775373e-04,\n",
       "          7.17934131e-03, -7.38582512e-04,  8.74702259e-03]],\n",
       "\n",
       "       [[ 9.76533095e-03,  1.20760422e-02,  1.06443195e-02,\n",
       "          2.98305402e-03,  8.16060075e-03,  1.53929507e-03,\n",
       "          6.42347451e-03,  4.42681297e-03,  7.31018773e-03,\n",
       "          1.63286317e-03,  8.64804886e-03,  6.32565804e-04,\n",
       "          7.87753595e-03,  2.63316054e-03,  8.25476817e-03],\n",
       "        [-7.58052105e-04,  4.93114365e-03,  6.09856175e-03,\n",
       "         -2.91600318e-04,  5.69911843e-03, -2.03642196e-04,\n",
       "          5.33350414e-03, -3.79558440e-04,  3.77157403e-03,\n",
       "          7.16506193e-05,  7.00904822e-03,  3.55831805e-04,\n",
       "          7.04587004e-03, -2.12530567e-04,  6.02545487e-03],\n",
       "        [-7.83068808e-03,  1.46838331e-02,  1.40779671e-02,\n",
       "         -9.89938314e-04,  8.77048538e-03,  4.81073143e-04,\n",
       "          6.56233516e-03, -2.46094977e-03,  8.61454971e-03,\n",
       "         -1.20049600e-04,  8.47794885e-03,  4.95434075e-04,\n",
       "          7.16870855e-03, -7.35533275e-04,  8.74327456e-03]],\n",
       "\n",
       "       [[ 1.02624555e-02,  1.32539389e-02,  1.14712753e-02,\n",
       "          2.83974109e-03,  8.46676335e-03,  1.53467212e-03,\n",
       "          6.48703001e-03,  4.14481007e-03,  7.90933232e-03,\n",
       "          1.59997279e-03,  8.90760700e-03,  6.90500835e-04,\n",
       "          8.02494404e-03,  2.50944474e-03,  8.56018391e-03],\n",
       "        [ 1.22149390e-04,  4.95982021e-03,  6.05234814e-03,\n",
       "          9.64947508e-05,  5.74272671e-03, -2.82900208e-05,\n",
       "          5.36809874e-03,  2.21279522e-04,  3.74518583e-03,\n",
       "          2.06204395e-04,  6.98611228e-03,  2.98539810e-04,\n",
       "          7.02260357e-03,  1.13868980e-04,  6.05423537e-03],\n",
       "        [-8.14618021e-03,  1.39777934e-02,  1.35830043e-02,\n",
       "         -1.10663325e-03,  8.57254381e-03,  3.53717790e-04,\n",
       "          6.52074866e-03, -2.56698430e-03,  8.32739058e-03,\n",
       "         -1.19769089e-04,  8.42464201e-03,  5.81821792e-04,\n",
       "          7.18292826e-03, -8.21359969e-04,  8.56139485e-03]],\n",
       "\n",
       "       [[ 1.03733316e-02,  1.33635824e-02,  1.14923888e-02,\n",
       "          2.82234380e-03,  8.49680758e-03,  1.42670364e-03,\n",
       "          6.49922597e-03,  4.21798396e-03,  7.94219815e-03,\n",
       "          1.60034261e-03,  8.94455228e-03,  6.85505450e-04,\n",
       "          8.07538774e-03,  2.51517977e-03,  8.57433530e-03],\n",
       "        [ 1.62674855e-04,  4.99053253e-03,  6.06770829e-03,\n",
       "          1.30507296e-04,  5.74321659e-03,  2.31391845e-05,\n",
       "          5.36777169e-03,  2.37875408e-04,  3.75672635e-03,\n",
       "          2.15604427e-04,  6.98247312e-03,  2.95877716e-04,\n",
       "          7.00930918e-03,  1.35331137e-04,  6.06202596e-03],\n",
       "        [-8.09963061e-03,  1.39420842e-02,  1.36092641e-02,\n",
       "         -1.09870111e-03,  8.58541764e-03,  3.82981131e-04,\n",
       "          6.52723062e-03, -2.58038335e-03,  8.33730922e-03,\n",
       "         -1.10129540e-04,  8.42898678e-03,  5.98073239e-04,\n",
       "          7.18063244e-03, -8.18332319e-04,  8.57190901e-03]],\n",
       "\n",
       "       [[ 1.02445677e-02,  1.29866437e-02,  1.12085687e-02,\n",
       "          2.93843711e-03,  8.39477030e-03,  1.53517455e-03,\n",
       "          6.45591266e-03,  4.34169968e-03,  7.78039754e-03,\n",
       "          1.61033092e-03,  8.84071060e-03,  6.12673054e-04,\n",
       "          7.96857152e-03,  2.60798878e-03,  8.47278864e-03],\n",
       "        [-1.82524438e-04,  4.98897049e-03,  6.09928532e-03,\n",
       "         -4.82720027e-05,  5.73166966e-03, -9.98955591e-05,\n",
       "          5.37471542e-03,  3.35155362e-06,  3.75783106e-03,\n",
       "          1.85748698e-04,  7.00574330e-03,  3.93536777e-04,\n",
       "          7.03638790e-03, -2.20393815e-05,  6.04701394e-03],\n",
       "        [-7.94462899e-03,  1.43414715e-02,  1.39048761e-02,\n",
       "         -9.97213953e-04,  8.71337677e-03,  4.83931727e-04,\n",
       "          6.55746361e-03, -2.47835963e-03,  8.51047280e-03,\n",
       "         -1.21824013e-04,  8.46721928e-03,  4.71757987e-04,\n",
       "          7.20054443e-03, -7.15406012e-04,  8.70304622e-03]],\n",
       "\n",
       "       [[ 9.43051756e-03,  1.14940818e-02,  1.04160725e-02,\n",
       "          2.99715898e-03,  7.99685993e-03,  1.50955785e-03,\n",
       "          6.34191603e-03,  4.48476012e-03,  7.07458952e-03,\n",
       "          1.61183942e-03,  8.57898198e-03,  6.14749280e-04,\n",
       "          7.86586526e-03,  2.60892957e-03,  8.13665600e-03],\n",
       "        [-1.40978320e-03,  5.20028964e-03,  6.01184011e-03,\n",
       "         -4.90791284e-04,  5.75041941e-03, -2.25389863e-04,\n",
       "          5.38082484e-03, -7.56192704e-04,  3.83164557e-03,\n",
       "         -3.87632372e-05,  6.99172271e-03,  2.91261519e-04,\n",
       "          7.00714437e-03, -3.68787994e-04,  6.04618987e-03],\n",
       "        [-7.59746021e-03,  1.51724658e-02,  1.49148917e-02,\n",
       "         -9.43251677e-04,  8.95046646e-03,  4.75795427e-04,\n",
       "          6.58937773e-03, -2.36229878e-03,  8.94303052e-03,\n",
       "         -1.40622103e-05,  8.59948685e-03,  6.45636754e-04,\n",
       "          7.20410132e-03, -6.73761174e-04,  8.91443981e-03]],\n",
       "\n",
       "       [[ 9.36488521e-03,  1.12024841e-02,  9.58799380e-03,\n",
       "          2.95512099e-03,  7.77770421e-03,  1.44837577e-03,\n",
       "          6.22264012e-03,  4.46186621e-03,  6.75524233e-03,\n",
       "          1.63073143e-03,  8.38619153e-03,  6.87321339e-04,\n",
       "          7.71016171e-03,  2.57414153e-03,  7.92462837e-03],\n",
       "        [-2.02849987e-03,  5.38950590e-03,  6.06773229e-03,\n",
       "         -7.24064599e-04,  5.81132439e-03, -3.74838325e-04,\n",
       "          5.44338743e-03, -1.07329087e-03,  3.90169579e-03,\n",
       "         -1.78074679e-04,  7.00595121e-03,  2.03202067e-04,\n",
       "          6.97916234e-03, -5.59351425e-04,  6.10674980e-03],\n",
       "        [-6.76692203e-03,  1.53095068e-02,  1.61486694e-02,\n",
       "         -5.12997940e-04,  9.16608136e-03,  8.56133253e-04,\n",
       "          6.63149938e-03, -1.88212913e-03,  9.31643475e-03,\n",
       "          2.06716405e-04,  8.84582881e-03,  7.37444349e-04,\n",
       "          7.46520704e-03, -3.24011539e-04,  9.11403181e-03]]])"
      ]
     },
     "execution_count": 22,
     "metadata": {},
     "output_type": "execute_result"
    }
   ],
   "source": [
    "centers = init_centers(X[0], 3, 10, \"k-means\", 9)\n",
    "centers"
   ]
  },
  {
   "cell_type": "code",
   "execution_count": null,
   "id": "fa5a00e4-d97a-440f-a17d-28f7dcbc0a6f",
   "metadata": {},
   "outputs": [],
   "source": []
  },
  {
   "cell_type": "code",
   "execution_count": 5,
   "id": "f65ae569-9cba-489b-8d92-3d2276439ecb",
   "metadata": {
    "tags": []
   },
   "outputs": [],
   "source": [
    "class GaussianHMM_model(BaseEstimator):\n",
    "    \"\"\"\n",
    "    GaussianHMM estimation. support several initializations.\n",
    "    \"\"\"\n",
    "    def __init__(self,\n",
    "                 n_components = 2,\n",
    "                 n_init = 10,\n",
    "                 init = \"k-means++\",\n",
    "                 random_state = None,\n",
    "                 **kwargs\n",
    "                ):\n",
    "        self.n_components = n_components\n",
    "        self.n_init = n_init\n",
    "        self.init = init\n",
    "        self.random_state = check_random_state(random_state)\n",
    "        self.hmm_instance = GaussianHMM(n_components, \n",
    "                                        covariance_type='full',\n",
    "                                        init_params=\"sct\", \n",
    "                                        min_covar=1e-6, \n",
    "                                        covars_prior=1e-6, \n",
    "                                        random_state=self.random_state, \n",
    "                                        **kwargs\n",
    "                                       )\n",
    "        \n",
    "    def fit(self, X):\n",
    "        n_c = self.n_components; n_init = self.n_init; init = self.init; hmm_instance = self.hmm_instance\n",
    "        # initialization by k-means++\n",
    "        init = init_centers(X, n_c, n_init=n_init, init = init, random_state=self.random_state)\n",
    "        best_score = -np.inf\n",
    "        # iter over all inits\n",
    "        for i_i in range(n_init):\n",
    "            # fit\n",
    "            hmm_instance.means_ = init[i_i]; hmm_instance.fit(X)\n",
    "            # score\n",
    "            score = hmm_instance.score(X)\n",
    "            # print(f\"{i_i}: {score}. means: {hmm_instance.means_}\")\n",
    "            if score > best_score:\n",
    "                best_idx = i_i\n",
    "                best_score = score\n",
    "                best_res = {\"means_\": hmm_instance.means_, \n",
    "                            \"covars_\": hmm_instance.covars_, \n",
    "                            \"transmat_\": hmm_instance.transmat_,\n",
    "                           \"startprob_\": hmm_instance.startprob_}\n",
    "        self.best_res = best_res\n",
    "        # print(best_idx)\n",
    "        hmm_instance.means_ = best_res[\"means_\"]; hmm_instance.covars_ = best_res[\"covars_\"]\n",
    "        hmm_instance.transmat_ = best_res[\"transmat_\"]; hmm_instance.startprob_ = best_res[\"startprob_\"]\n",
    "        # save res\n",
    "        self.means_ = best_res[\"means_\"].squeeze(); self.covars_ = best_res[\"covars_\"].squeeze(); self.transmat_ = best_res[\"transmat_\"]\n",
    "        self.labels_ = hmm_instance.predict(X).astype(np.int32)\n",
    "        self.proba_ = hmm_instance.predict_proba(X)\n",
    "        return self"
   ]
  },
  {
   "cell_type": "code",
   "execution_count": null,
   "id": "d090f01c-24fd-4320-9bd1-b1c72365a722",
   "metadata": {},
   "outputs": [],
   "source": []
  },
  {
   "cell_type": "code",
   "execution_count": null,
   "id": "d721213e-c6f1-4077-b8b7-0818612bbbb0",
   "metadata": {},
   "outputs": [],
   "source": []
  },
  {
   "cell_type": "code",
   "execution_count": null,
   "id": "12c12e97-407f-45c8-8a85-b2fc5b2951a1",
   "metadata": {},
   "outputs": [],
   "source": []
  },
  {
   "cell_type": "code",
   "execution_count": null,
   "id": "54f3c723-83fa-4a7e-8860-ce84009b24cf",
   "metadata": {},
   "outputs": [],
   "source": []
  },
  {
   "cell_type": "code",
   "execution_count": null,
   "id": "3937b667-4617-412d-8212-78d59716251a",
   "metadata": {},
   "outputs": [],
   "source": []
  },
  {
   "cell_type": "code",
   "execution_count": null,
   "id": "a2508c3f-664d-441e-922a-58a6ce58469e",
   "metadata": {},
   "outputs": [],
   "source": []
  },
  {
   "cell_type": "code",
   "execution_count": null,
   "id": "196cc9b2-a12c-423b-a55f-7fe4e5ee749c",
   "metadata": {},
   "outputs": [],
   "source": []
  },
  {
   "cell_type": "code",
   "execution_count": 4,
   "id": "7de54516-e248-406d-9c7f-250f2d9d5e55",
   "metadata": {
    "tags": []
   },
   "outputs": [
    {
     "data": {
      "text/plain": [
       "(1000, 1)"
      ]
     },
     "execution_count": 4,
     "metadata": {},
     "output_type": "execute_result"
    }
   ],
   "source": [
    "Xs = np.load(f\"{path_data}/Xs_daily_1000_HMM.npy\")\n",
    "X=Xs[0]\n",
    "X.shape"
   ]
  },
  {
   "cell_type": "code",
   "execution_count": 17,
   "id": "d06dd106-ab21-4b30-9e34-37eb82d2df68",
   "metadata": {
    "tags": []
   },
   "outputs": [],
   "source": [
    "hmm_model = GaussianHMM_model().fit(X)"
   ]
  },
  {
   "cell_type": "code",
   "execution_count": 18,
   "id": "8494f157-3785-467d-8ace-dc3589942f64",
   "metadata": {
    "tags": []
   },
   "outputs": [
    {
     "data": {
      "text/plain": [
       "(array([[-0.000471  ],\n",
       "        [ 0.00077872]]),\n",
       " array([[[2.98940405e-04]],\n",
       " \n",
       "        [[5.99465580e-05]]]))"
      ]
     },
     "execution_count": 18,
     "metadata": {},
     "output_type": "execute_result"
    }
   ],
   "source": [
    "hmm_instance = hmm_model.hmm_instance\n",
    "hmm_instance.means_, hmm_instance.covars_"
   ]
  },
  {
   "cell_type": "code",
   "execution_count": 19,
   "id": "b39afb77-f965-4510-95d9-d9a257f87563",
   "metadata": {
    "tags": []
   },
   "outputs": [],
   "source": [
    "def weighted_mean_vol(X, proba_):\n",
    "    n_c = proba_.shape[1]\n",
    "    means_, covars_ = np.full(n_c, np.nan), np.full(n_c, np.nan)\n",
    "    total_weight = proba_.sum(0)\n",
    "    idx = (total_weight>0)\n",
    "    weighted_sum = X @ proba_\n",
    "    means_[idx] = weighted_sum[idx] / total_weight[idx]\n",
    "    weighted_sum_square = ((X[:, np.newaxis] - means_[np.newaxis, :])**2 * proba_).sum(0)\n",
    "    covars_[idx] = weighted_sum_square[idx] / total_weight[idx]\n",
    "    return means_, covars_\n"
   ]
  },
  {
   "cell_type": "code",
   "execution_count": 20,
   "id": "c87a5d04-b0fe-4036-b585-71c3b89b1516",
   "metadata": {
    "tags": []
   },
   "outputs": [
    {
     "data": {
      "text/plain": [
       "(array([-0.00047099,  0.00077872]), array([2.98938303e-04, 5.99466408e-05]))"
      ]
     },
     "execution_count": 20,
     "metadata": {},
     "output_type": "execute_result"
    }
   ],
   "source": [
    "weighted_mean_vol(X.squeeze(), hmm_instance.predict_proba(X))"
   ]
  },
  {
   "cell_type": "code",
   "execution_count": null,
   "id": "722a3265-9278-4ea7-9c0d-aa48bc7fb45d",
   "metadata": {},
   "outputs": [],
   "source": []
  },
  {
   "cell_type": "code",
   "execution_count": null,
   "id": "cc926e80-2733-4ef8-b53f-b25152bf3f47",
   "metadata": {},
   "outputs": [],
   "source": []
  },
  {
   "cell_type": "code",
   "execution_count": 10,
   "id": "80a6159f-4a1e-4660-822e-0bdffdfb32b8",
   "metadata": {
    "tags": []
   },
   "outputs": [
    {
     "data": {
      "text/plain": [
       "{'means_': array([[-0.00047146],\n",
       "        [ 0.00077841]]),\n",
       " 'covars_': array([[[2.99406369e-04]],\n",
       " \n",
       "        [[6.01212346e-05]]]),\n",
       " 'transmat_': array([[0.98265705, 0.01734295],\n",
       "        [0.00831349, 0.99168651]]),\n",
       " 'startprob_': array([1.29164052e-07, 9.99999871e-01])}"
      ]
     },
     "execution_count": 10,
     "metadata": {},
     "output_type": "execute_result"
    }
   ],
   "source": [
    "hmm_model.best_res"
   ]
  },
  {
   "cell_type": "code",
   "execution_count": 17,
   "id": "833ea905-93a7-4695-a50c-854f4e98f590",
   "metadata": {
    "tags": []
   },
   "outputs": [
    {
     "data": {
      "text/plain": [
       "array([[0.98265705, 0.01734295],\n",
       "       [0.00831349, 0.99168651]])"
      ]
     },
     "execution_count": 17,
     "metadata": {},
     "output_type": "execute_result"
    }
   ],
   "source": [
    "hmm_model.hmm_instance.transmat_"
   ]
  },
  {
   "cell_type": "code",
   "execution_count": 18,
   "id": "10d99574-e258-474a-a524-c2f35f8b6e9b",
   "metadata": {
    "tags": []
   },
   "outputs": [
    {
     "data": {
      "text/plain": [
       "array([[[2.99406369e-04]],\n",
       "\n",
       "       [[6.01212346e-05]]])"
      ]
     },
     "execution_count": 18,
     "metadata": {},
     "output_type": "execute_result"
    }
   ],
   "source": [
    "hmm_instance = hmm_model.hmm_instance\n",
    "hmm_instance.covars_"
   ]
  },
  {
   "cell_type": "code",
   "execution_count": null,
   "id": "c94a7da0-957c-4d67-8897-203d26963b66",
   "metadata": {},
   "outputs": [],
   "source": []
  }
 ],
 "metadata": {
  "kernelspec": {
   "display_name": "Python 3 (ipykernel)",
   "language": "python",
   "name": "python3"
  },
  "language_info": {
   "codemirror_mode": {
    "name": "ipython",
    "version": 3
   },
   "file_extension": ".py",
   "mimetype": "text/x-python",
   "name": "python",
   "nbconvert_exporter": "python",
   "pygments_lexer": "ipython3",
   "version": "3.10.9"
  }
 },
 "nbformat": 4,
 "nbformat_minor": 5
}
