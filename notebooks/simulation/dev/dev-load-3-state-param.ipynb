{
 "cells": [
  {
   "cell_type": "code",
   "execution_count": 1,
   "id": "8769f5ff-88c3-465a-bb56-a753a41a1c32",
   "metadata": {
    "tags": []
   },
   "outputs": [],
   "source": [
    "%load_ext autoreload\n",
    "%autoreload 2\n",
    "import sys, os\n",
    "from os.path import expanduser\n",
    "## actions required!!!!!!!!!!!!!!!!!!!! change your folder path \n",
    "path = \"~/Documents/G3_2/regime-identification\"\n",
    "path = expanduser(path)\n",
    "sys.path.append(path)\n",
    "\n",
    "path_file = f\"~/data/G3_2/regime-identification/simulation\"\n",
    "path_file = expanduser(path_file)\n",
    "path_data = f\"{path_file}/data\"\n",
    "path_estimation = f\"{path_file}/estimation\"\n",
    "path_score = f\"{path_file}/score\""
   ]
  },
  {
   "cell_type": "code",
   "execution_count": 2,
   "id": "dc7fb992-12f0-4d96-b04e-4203cc38dbe7",
   "metadata": {
    "tags": []
   },
   "outputs": [],
   "source": [
    "import numpy as np\n",
    "from regime.stats import *\n",
    "from regime.cluster_utils import *\n",
    "from regime.simulation_helper import *"
   ]
  },
  {
   "cell_type": "code",
   "execution_count": 3,
   "id": "838debb7-2af5-49e6-989d-35cfd2613efe",
   "metadata": {
    "tags": []
   },
   "outputs": [],
   "source": [
    "hmm_true = get_GaussianHMM_model(*load_hardy_params(\"daily\", 3))"
   ]
  },
  {
   "cell_type": "code",
   "execution_count": 4,
   "id": "2a59ad7c-9edc-499c-988f-fbacd163bb2b",
   "metadata": {
    "tags": []
   },
   "outputs": [
    {
     "name": "stderr",
     "output_type": "stream",
     "text": [
      "100%|███████████████████████████████████████████████████████████████████████████████████████████████████████████████████████████████████████████████████████████████████████████████████████████████████████████████████████████████████████████| 50/50 [00:01<00:00, 31.87it/s]\n"
     ]
    }
   ],
   "source": [
    "Xs, Zs = sample_from_model(hmm_true)"
   ]
  },
  {
   "cell_type": "code",
   "execution_count": null,
   "id": "dfc3fc2a-fe37-4898-be3f-0a1cf43c43b7",
   "metadata": {},
   "outputs": [],
   "source": []
  },
  {
   "cell_type": "code",
   "execution_count": null,
   "id": "d98fec19-edab-462a-8340-4b8b5dbb10e5",
   "metadata": {},
   "outputs": [],
   "source": []
  },
  {
   "cell_type": "code",
   "execution_count": null,
   "id": "ecd875f2-b042-49cc-87da-6d32475dfeff",
   "metadata": {},
   "outputs": [],
   "source": []
  },
  {
   "cell_type": "code",
   "execution_count": 6,
   "id": "0fcc103f-c363-4700-b899-493cd9632a69",
   "metadata": {
    "tags": []
   },
   "outputs": [],
   "source": [
    "def load_hardy_params(scale = \"monthly\", state_num = 2):\n",
    "    \"\"\"\n",
    "    load the parameters of HMM from the classical Hardy paper. returns means_, covars_, transmat_.\n",
    "    \"\"\"\n",
    "    if scale == \"monthly\":\n",
    "        if state_num == 2:\n",
    "            means_ = np.array([[.0123], [-.0157]])\n",
    "            covars_ = np.array([[.0347], [.0778]])**2\n",
    "            p, q = .9629, .7899\n",
    "            transmat_ = generate_2d_TPM(p, q)   \n",
    "            return means_, covars_, transmat_\n",
    "        if state_num == 3:\n",
    "            means_ = np.array([[.0123], [0.], [-.0157]])\n",
    "            covars_ = np.array([[.0347], [.05], [.0778]])**2\n",
    "            transmat_ = np.array([[.9629, .0185, .0186], [.0618, .8764, .0618], [.1051, .1050, .7899]])\n",
    "            return means_, covars_, transmat_            \n",
    "    if scale == \"weekly\":\n",
    "        return scale_params(*load_hardy_params(state_num = state_num), 20, 5)\n",
    "    if scale == \"daily\":\n",
    "        return scale_params(*load_hardy_params(state_num = state_num), 20, 1)"
   ]
  },
  {
   "cell_type": "code",
   "execution_count": null,
   "id": "0dd6e357-e03a-43d4-9849-2867e5187135",
   "metadata": {},
   "outputs": [],
   "source": [
    "def get_GaussianHMM_model(means_, covars_, transmat_, startprob_=None, random_state=None):\n",
    "    \"\"\"\n",
    "    get a GaussianHMM model with the given params. The instance won't update any parameter if fit is called. \n",
    "    \"\"\"\n",
    "    n_c = len(means_)\n",
    "    random_state = check_random_state(random_state)\n",
    "    \n",
    "    if startprob_ is None:\n",
    "        startprob_ = invariant_dist_transmat_(transmat_)\n",
    "        \n",
    "    hmm = GaussianHMM(n_components=n_c, random_state=random_state, params=\"\", init_params=\"\")\n",
    "    hmm.means_ = means_\n",
    "    hmm.covars_ = covars_\n",
    "    hmm.transmat_ = transmat_\n",
    "    hmm.startprob_ = startprob_\n",
    "    return hmm"
   ]
  },
  {
   "cell_type": "code",
   "execution_count": null,
   "id": "e65d6f33-5b3f-40b6-9598-1ead1a973249",
   "metadata": {},
   "outputs": [],
   "source": [
    "def sample_from_model(model, n_trials=50, n_samples=1000, random_state=None):\n",
    "    \"\"\"\n",
    "    generate a batch of sequences from a model, by calling the sample method.\n",
    "    \"\"\"\n",
    "    n_f = model.n_features\n",
    "    #random_state = check_random_state(random_state)\n",
    "    Xs = np.empty((n_trials, n_samples, n_f))\n",
    "    Zs = np.empty((n_trials, n_samples), dtype = np.int32)\n",
    "    for i in tqdm(range(n_trials)): # can be slow for long sequence\n",
    "        X, Z = model.sample(n_samples=n_samples)\n",
    "        Xs[i] = X\n",
    "        Zs[i] = Z\n",
    "    return Xs, Zs"
   ]
  }
 ],
 "metadata": {
  "kernelspec": {
   "display_name": "Python 3 (ipykernel)",
   "language": "python",
   "name": "python3"
  },
  "language_info": {
   "codemirror_mode": {
    "name": "ipython",
    "version": 3
   },
   "file_extension": ".py",
   "mimetype": "text/x-python",
   "name": "python",
   "nbconvert_exporter": "python",
   "pygments_lexer": "ipython3",
   "version": "3.10.9"
  }
 },
 "nbformat": 4,
 "nbformat_minor": 5
}
