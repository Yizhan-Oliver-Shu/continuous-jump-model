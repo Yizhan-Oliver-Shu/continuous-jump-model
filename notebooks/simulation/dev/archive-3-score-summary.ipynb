{
 "cells": [
  {
   "cell_type": "code",
   "execution_count": 1,
   "id": "badd5cef-fbcf-47f0-9c2c-4acb457d5b7f",
   "metadata": {
    "tags": []
   },
   "outputs": [],
   "source": [
    "%load_ext autoreload\n",
    "%autoreload 2\n",
    "import sys, os\n",
    "from os.path import expanduser\n",
    "## actions required!!!!!!!!!!!!!!!!!!!! change your folder path \n",
    "path_repo = expanduser(\"~/Documents/G3_2/regime-identification\"); sys.path.append(path_repo)\n",
    "path_file = expanduser(\"~/data/G3_2/regime-identification/simulation\")\n",
    "path = {}\n",
    "for folder in [\"data\", \"estimation\", \"score\", \"figure\", \"table-latex\"]:\n",
    "    path[folder] = f\"{path_file}/{folder}\""
   ]
  },
  {
   "cell_type": "code",
   "execution_count": 2,
   "id": "4211d697-4e8f-4d66-b030-354d8b5c750a",
   "metadata": {
    "tags": []
   },
   "outputs": [],
   "source": [
    "import numpy as np"
   ]
  },
  {
   "cell_type": "code",
   "execution_count": 3,
   "id": "22aa58f8-59b7-4581-ade8-38e660595112",
   "metadata": {
    "tags": []
   },
   "outputs": [],
   "source": [
    "from regime.simulation_helper import *"
   ]
  },
  {
   "cell_type": "code",
   "execution_count": 4,
   "id": "3c72cf79-a85b-425e-abe1-d29962dafa76",
   "metadata": {},
   "outputs": [
    {
     "name": "stdout",
     "output_type": "stream",
     "text": [
      "[1.00000000e-02 1.00000000e-01 1.00000000e+00 1.00000000e+01\n",
      " 2.15443469e+01 4.64158883e+01 1.00000000e+02 2.15443469e+02\n",
      " 4.64158883e+02 1.00000000e+03 2.15443469e+03 4.64158883e+03\n",
      " 1.00000000e+04 1.00000000e+05 1.00000000e+06]\n"
     ]
    }
   ],
   "source": [
    "batch_size, num_of_batch = 32, 1\n",
    "param_grid = generate_param_grid()"
   ]
  },
  {
   "cell_type": "code",
   "execution_count": 8,
   "id": "11505387-bfa2-4b8e-a342-4e7416f1a650",
   "metadata": {
    "tags": []
   },
   "outputs": [
    {
     "name": "stdout",
     "output_type": "stream",
     "text": [
      "shape of the saved acc: (32, 2, 15).\n",
      "shape of the saved ROC-AUC: (32, 15).\n",
      "Loading page (1/2)\n",
      "Rendering (2/2)                                                    \n",
      "Done                                                               \n",
      "shape of the saved acc: (32, 2, 15).\n",
      "shape of the saved ROC-AUC: (32, 15).\n",
      "Loading page (1/2)\n",
      "Rendering (2/2)                                                    \n",
      "Done                                                               \n",
      "shape of the saved acc: (32, 2).\n",
      "shape of the saved ROC-AUC: (32,).\n",
      "Loading page (1/2)\n",
      "Rendering (2/2)                                                    \n",
      "Done                                                               \n",
      "shape of the saved acc: (32, 2).\n",
      "shape of the saved ROC-AUC: (32,).\n",
      "Loading page (1/2)\n",
      "Rendering (2/2)                                                    \n",
      "Done                                                               \n",
      "shape of the saved acc: (32, 2, 15).\n",
      "shape of the saved ROC-AUC: (32, 15).\n",
      "Loading page (1/2)\n",
      "Rendering (2/2)                                                    \n",
      "Done                                                               \n",
      "shape of the saved acc: (32, 2, 15).\n",
      "shape of the saved ROC-AUC: (32, 15).\n",
      "Loading page (1/2)\n",
      "Rendering (2/2)                                                    \n",
      "Done                                                               \n",
      "shape of the saved acc: (32, 2).\n",
      "shape of the saved ROC-AUC: (32,).\n",
      "Loading page (1/2)\n",
      "Rendering (2/2)                                                    \n",
      "Done                                                               \n",
      "shape of the saved acc: (32, 2).\n",
      "shape of the saved ROC-AUC: (32,).\n",
      "Loading page (1/2)\n",
      "Rendering (2/2)                                                    \n",
      "Done                                                               \n",
      "shape of the saved acc: (32, 2).\n",
      "shape of the saved ROC-AUC: (32,).\n",
      "Loading page (1/2)\n",
      "Rendering (2/2)                                                    \n",
      "Done                                                               \n",
      "shape of the saved acc: (32, 2).\n",
      "shape of the saved ROC-AUC: (32,).\n",
      "Loading page (1/2)\n",
      "Rendering (2/2)                                                    \n",
      "Done                                                               \n",
      "shape of the saved acc: (32, 2, 15).\n",
      "shape of the saved ROC-AUC: (32, 15).\n",
      "Loading page (1/2)\n",
      "Rendering (2/2)                                                    \n",
      "Done                                                               \n",
      "shape of the saved acc: (32, 2, 15).\n",
      "shape of the saved ROC-AUC: (32, 15).\n",
      "Loading page (1/2)\n",
      "Rendering (2/2)                                                    \n",
      "Done                                                               \n",
      "shape of the saved acc: (32, 2, 15).\n",
      "shape of the saved ROC-AUC: (32, 15).\n",
      "Loading page (1/2)\n",
      "Rendering (2/2)                                                    \n",
      "Done                                                               \n",
      "shape of the saved acc: (32, 2).\n",
      "shape of the saved ROC-AUC: (32,).\n",
      "Loading page (1/2)\n",
      "Rendering (2/2)                                                    \n",
      "Done                                                               \n",
      "shape of the saved acc: (32, 2).\n",
      "shape of the saved ROC-AUC: (32,).\n",
      "Loading page (1/2)\n",
      "Rendering (2/2)                                                    \n",
      "Done                                                               \n",
      "shape of the saved acc: (32, 2).\n",
      "shape of the saved ROC-AUC: (32,).\n",
      "Loading page (1/2)\n",
      "Rendering (2/2)                                                    \n",
      "Done                                                               \n",
      "shape of the saved acc: (32, 2, 15).\n",
      "shape of the saved ROC-AUC: (32, 15).\n",
      "Loading page (1/2)\n",
      "Rendering (2/2)                                                    \n",
      "Done                                                               \n",
      "shape of the saved acc: (32, 2).\n",
      "shape of the saved ROC-AUC: (32,).\n",
      "Loading page (1/2)\n",
      "Rendering (2/2)                                                    \n",
      "Done                                                               \n",
      "shape of the saved acc: (32, 2).\n",
      "shape of the saved ROC-AUC: (32,).\n",
      "Loading page (1/2)\n",
      "Rendering (2/2)                                                    \n",
      "Done                                                               \n",
      "shape of the saved acc: (32, 2, 15).\n",
      "shape of the saved ROC-AUC: (32, 15).\n",
      "Loading page (1/2)\n",
      "Rendering (2/2)                                                    \n",
      "Done                                                               \n",
      "shape of the saved acc: (32, 2).\n",
      "shape of the saved ROC-AUC: (32,).\n",
      "Loading page (1/2)\n",
      "Rendering (2/2)                                                    \n",
      "Done                                                               \n",
      "shape of the saved acc: (32, 2, 15).\n",
      "shape of the saved ROC-AUC: (32, 15).\n"
     ]
    },
    {
     "name": "stderr",
     "output_type": "stream",
     "text": [
      "/Users/yizhan/Documents/G3_2/regime-identification/regime/simulation_helper.py:677: RuntimeWarning: Mean of empty slice\n",
      "  means_dict[\"model_params\"] = pd.DataFrame(np.nanmean(model_params_arr, axis=0), index=modelParams_index)\n",
      "/Users/yizhan/mambaforge/envs/regime-gurobi/lib/python3.10/site-packages/numpy/lib/nanfunctions.py:1878: RuntimeWarning: Degrees of freedom <= 0 for slice.\n",
      "  var = nanvar(a, axis=axis, dtype=dtype, out=out, ddof=ddof,\n"
     ]
    },
    {
     "name": "stdout",
     "output_type": "stream",
     "text": [
      "Loading page (1/2)\n",
      "Rendering (2/2)                                                    \n",
      "Done                                                               \n",
      "shape of the saved acc: (32, 2, 15).\n",
      "shape of the saved ROC-AUC: (32, 15).\n"
     ]
    },
    {
     "name": "stderr",
     "output_type": "stream",
     "text": [
      "/Users/yizhan/Documents/G3_2/regime-identification/regime/simulation_helper.py:677: RuntimeWarning: Mean of empty slice\n",
      "  means_dict[\"model_params\"] = pd.DataFrame(np.nanmean(model_params_arr, axis=0), index=modelParams_index)\n",
      "/Users/yizhan/mambaforge/envs/regime-gurobi/lib/python3.10/site-packages/numpy/lib/nanfunctions.py:1878: RuntimeWarning: Degrees of freedom <= 0 for slice.\n",
      "  var = nanvar(a, axis=axis, dtype=dtype, out=out, ddof=ddof,\n"
     ]
    },
    {
     "name": "stdout",
     "output_type": "stream",
     "text": [
      "Loading page (1/2)\n",
      "Rendering (2/2)                                                    \n",
      "Done                                                               \n",
      "shape of the saved acc: (32, 2).\n",
      "shape of the saved ROC-AUC: (32,).\n",
      "Loading page (1/2)\n",
      "Rendering (2/2)                                                    \n",
      "Done                                                               \n",
      "shape of the saved acc: (32, 2).\n",
      "shape of the saved ROC-AUC: (32,).\n",
      "Loading page (1/2)\n",
      "Rendering (2/2)                                                    \n",
      "Done                                                               \n",
      "shape of the saved acc: (32, 2, 15).\n",
      "shape of the saved ROC-AUC: (32, 15).\n",
      "Loading page (1/2)\n",
      "Rendering (2/2)                                                    \n",
      "Done                                                               \n",
      "shape of the saved acc: (32, 2, 15).\n",
      "shape of the saved ROC-AUC: (32, 15).\n"
     ]
    },
    {
     "name": "stderr",
     "output_type": "stream",
     "text": [
      "/Users/yizhan/Documents/G3_2/regime-identification/regime/simulation_helper.py:677: RuntimeWarning: Mean of empty slice\n",
      "  means_dict[\"model_params\"] = pd.DataFrame(np.nanmean(model_params_arr, axis=0), index=modelParams_index)\n",
      "/Users/yizhan/mambaforge/envs/regime-gurobi/lib/python3.10/site-packages/numpy/lib/nanfunctions.py:1878: RuntimeWarning: Degrees of freedom <= 0 for slice.\n",
      "  var = nanvar(a, axis=axis, dtype=dtype, out=out, ddof=ddof,\n"
     ]
    },
    {
     "name": "stdout",
     "output_type": "stream",
     "text": [
      "Loading page (1/2)\n",
      "Rendering (2/2)                                                    \n",
      "Done                                                               \n",
      "shape of the saved acc: (32, 2).\n",
      "shape of the saved ROC-AUC: (32,).\n",
      "Loading page (1/2)\n",
      "Rendering (2/2)                                                    \n",
      "Done                                                               \n",
      "shape of the saved acc: (32, 2).\n",
      "shape of the saved ROC-AUC: (32,).\n",
      "Loading page (1/2)\n",
      "Rendering (2/2)                                                    \n",
      "Done                                                               \n",
      "shape of the saved acc: (32, 2).\n",
      "shape of the saved ROC-AUC: (32,).\n",
      "Loading page (1/2)\n",
      "Rendering (2/2)                                                    \n",
      "Done                                                               \n",
      "shape of the saved acc: (32, 2).\n",
      "shape of the saved ROC-AUC: (32,).\n",
      "Loading page (1/2)\n",
      "Rendering (2/2)                                                    \n",
      "Done                                                               \n",
      "shape of the saved acc: (32, 2, 15).\n",
      "shape of the saved ROC-AUC: (32, 15).\n"
     ]
    },
    {
     "name": "stderr",
     "output_type": "stream",
     "text": [
      "/Users/yizhan/Documents/G3_2/regime-identification/regime/simulation_helper.py:677: RuntimeWarning: Mean of empty slice\n",
      "  means_dict[\"model_params\"] = pd.DataFrame(np.nanmean(model_params_arr, axis=0), index=modelParams_index)\n",
      "/Users/yizhan/mambaforge/envs/regime-gurobi/lib/python3.10/site-packages/numpy/lib/nanfunctions.py:1878: RuntimeWarning: Degrees of freedom <= 0 for slice.\n",
      "  var = nanvar(a, axis=axis, dtype=dtype, out=out, ddof=ddof,\n"
     ]
    },
    {
     "name": "stdout",
     "output_type": "stream",
     "text": [
      "Loading page (1/2)\n",
      "Rendering (2/2)                                                    \n",
      "Done                                                               \n",
      "shape of the saved acc: (32, 2, 15).\n",
      "shape of the saved ROC-AUC: (32, 15).\n"
     ]
    },
    {
     "name": "stderr",
     "output_type": "stream",
     "text": [
      "/Users/yizhan/Documents/G3_2/regime-identification/regime/simulation_helper.py:677: RuntimeWarning: Mean of empty slice\n",
      "  means_dict[\"model_params\"] = pd.DataFrame(np.nanmean(model_params_arr, axis=0), index=modelParams_index)\n",
      "/Users/yizhan/mambaforge/envs/regime-gurobi/lib/python3.10/site-packages/numpy/lib/nanfunctions.py:1878: RuntimeWarning: Degrees of freedom <= 0 for slice.\n",
      "  var = nanvar(a, axis=axis, dtype=dtype, out=out, ddof=ddof,\n"
     ]
    },
    {
     "name": "stdout",
     "output_type": "stream",
     "text": [
      "Loading page (1/2)\n",
      "Rendering (2/2)                                                    \n",
      "Done                                                               \n",
      "shape of the saved acc: (32, 2, 15).\n",
      "shape of the saved ROC-AUC: (32, 15).\n",
      "Loading page (1/2)\n",
      "Rendering (2/2)                                                    \n",
      "Done                                                               \n",
      "shape of the saved acc: (32, 2).\n",
      "shape of the saved ROC-AUC: (32,).\n",
      "Loading page (1/2)\n",
      "Rendering (2/2)                                                    \n",
      "Done                                                               \n",
      "shape of the saved acc: (32, 2).\n",
      "shape of the saved ROC-AUC: (32,).\n",
      "Loading page (1/2)\n",
      "Rendering (2/2)                                                    \n",
      "Done                                                               \n",
      "shape of the saved acc: (32, 2).\n",
      "shape of the saved ROC-AUC: (32,).\n",
      "Loading page (1/2)\n",
      "Rendering (2/2)                                                    \n",
      "Done                                                               \n",
      "shape of the saved acc: (32, 2, 15).\n",
      "shape of the saved ROC-AUC: (32, 15).\n",
      "Loading page (1/2)\n",
      "Rendering (2/2)                                                    \n",
      "Done                                                               \n",
      "shape of the saved acc: (32, 2).\n",
      "shape of the saved ROC-AUC: (32,).\n",
      "Loading page (1/2)\n",
      "Rendering (2/2)                                                    \n",
      "Done                                                               \n",
      "shape of the saved acc: (32, 2).\n",
      "shape of the saved ROC-AUC: (32,).\n",
      "Loading page (1/2)\n",
      "Rendering (2/2)                                                    \n",
      "Done                                                               \n",
      "shape of the saved acc: (32, 2, 15).\n",
      "shape of the saved ROC-AUC: (32, 15).\n"
     ]
    },
    {
     "name": "stderr",
     "output_type": "stream",
     "text": [
      "/Users/yizhan/Documents/G3_2/regime-identification/regime/simulation_helper.py:677: RuntimeWarning: Mean of empty slice\n",
      "  means_dict[\"model_params\"] = pd.DataFrame(np.nanmean(model_params_arr, axis=0), index=modelParams_index)\n",
      "/Users/yizhan/mambaforge/envs/regime-gurobi/lib/python3.10/site-packages/numpy/lib/nanfunctions.py:1878: RuntimeWarning: Degrees of freedom <= 0 for slice.\n",
      "  var = nanvar(a, axis=axis, dtype=dtype, out=out, ddof=ddof,\n"
     ]
    },
    {
     "name": "stdout",
     "output_type": "stream",
     "text": [
      "Loading page (1/2)\n",
      "Rendering (2/2)                                                    \n",
      "Done                                                               \n",
      "shape of the saved acc: (32, 2).\n",
      "shape of the saved ROC-AUC: (32,).\n",
      "Loading page (1/2)\n",
      "Rendering (2/2)                                                    \n",
      "Done                                                               \n",
      "shape of the saved acc: (32, 2, 15).\n",
      "shape of the saved ROC-AUC: (32, 15).\n"
     ]
    },
    {
     "name": "stderr",
     "output_type": "stream",
     "text": [
      "/Users/yizhan/Documents/G3_2/regime-identification/regime/simulation_helper.py:677: RuntimeWarning: Mean of empty slice\n",
      "  means_dict[\"model_params\"] = pd.DataFrame(np.nanmean(model_params_arr, axis=0), index=modelParams_index)\n",
      "/Users/yizhan/mambaforge/envs/regime-gurobi/lib/python3.10/site-packages/numpy/lib/nanfunctions.py:1878: RuntimeWarning: Degrees of freedom <= 0 for slice.\n",
      "  var = nanvar(a, axis=axis, dtype=dtype, out=out, ddof=ddof,\n"
     ]
    },
    {
     "name": "stdout",
     "output_type": "stream",
     "text": [
      "Loading page (1/2)\n",
      "Rendering (2/2)                                                    \n",
      "Done                                                               \n",
      "shape of the saved acc: (32, 2, 15).\n",
      "shape of the saved ROC-AUC: (32, 15).\n"
     ]
    },
    {
     "name": "stderr",
     "output_type": "stream",
     "text": [
      "/Users/yizhan/Documents/G3_2/regime-identification/regime/simulation_helper.py:677: RuntimeWarning: Mean of empty slice\n",
      "  means_dict[\"model_params\"] = pd.DataFrame(np.nanmean(model_params_arr, axis=0), index=modelParams_index)\n",
      "/Users/yizhan/mambaforge/envs/regime-gurobi/lib/python3.10/site-packages/numpy/lib/nanfunctions.py:1878: RuntimeWarning: Degrees of freedom <= 0 for slice.\n",
      "  var = nanvar(a, axis=axis, dtype=dtype, out=out, ddof=ddof,\n"
     ]
    },
    {
     "name": "stdout",
     "output_type": "stream",
     "text": [
      "Loading page (1/2)\n",
      "Rendering (2/2)                                                    \n",
      "Done                                                               \n",
      "shape of the saved acc: (32, 2).\n",
      "shape of the saved ROC-AUC: (32,).\n",
      "Loading page (1/2)\n",
      "Rendering (2/2)                                                    \n",
      "Done                                                               \n",
      "shape of the saved acc: (32, 2).\n",
      "shape of the saved ROC-AUC: (32,).\n",
      "Loading page (1/2)\n",
      "Rendering (2/2)                                                    \n",
      "Done                                                               \n",
      "shape of the saved acc: (32, 2, 15).\n",
      "shape of the saved ROC-AUC: (32, 15).\n"
     ]
    },
    {
     "name": "stderr",
     "output_type": "stream",
     "text": [
      "/Users/yizhan/Documents/G3_2/regime-identification/regime/simulation_helper.py:677: RuntimeWarning: Mean of empty slice\n",
      "  means_dict[\"model_params\"] = pd.DataFrame(np.nanmean(model_params_arr, axis=0), index=modelParams_index)\n",
      "/Users/yizhan/mambaforge/envs/regime-gurobi/lib/python3.10/site-packages/numpy/lib/nanfunctions.py:1878: RuntimeWarning: Degrees of freedom <= 0 for slice.\n",
      "  var = nanvar(a, axis=axis, dtype=dtype, out=out, ddof=ddof,\n"
     ]
    },
    {
     "name": "stdout",
     "output_type": "stream",
     "text": [
      "Loading page (1/2)\n",
      "Rendering (2/2)                                                    \n",
      "Done                                                               \n",
      "shape of the saved acc: (32, 2, 15).\n",
      "shape of the saved ROC-AUC: (32, 15).\n"
     ]
    },
    {
     "name": "stderr",
     "output_type": "stream",
     "text": [
      "/Users/yizhan/Documents/G3_2/regime-identification/regime/simulation_helper.py:677: RuntimeWarning: Mean of empty slice\n",
      "  means_dict[\"model_params\"] = pd.DataFrame(np.nanmean(model_params_arr, axis=0), index=modelParams_index)\n",
      "/Users/yizhan/mambaforge/envs/regime-gurobi/lib/python3.10/site-packages/numpy/lib/nanfunctions.py:1878: RuntimeWarning: Degrees of freedom <= 0 for slice.\n",
      "  var = nanvar(a, axis=axis, dtype=dtype, out=out, ddof=ddof,\n"
     ]
    },
    {
     "name": "stdout",
     "output_type": "stream",
     "text": [
      "Loading page (1/2)\n",
      "Rendering (2/2)                                                    \n",
      "Done                                                               \n",
      "shape of the saved acc: (32, 2).\n",
      "shape of the saved ROC-AUC: (32,).\n",
      "Loading page (1/2)\n",
      "Rendering (2/2)                                                    \n",
      "Done                                                               \n",
      "shape of the saved acc: (32, 2).\n",
      "shape of the saved ROC-AUC: (32,).\n",
      "Loading page (1/2)\n",
      "Rendering (2/2)                                                    \n",
      "Done                                                               \n",
      "shape of the saved acc: (32, 2).\n",
      "shape of the saved ROC-AUC: (32,).\n",
      "Loading page (1/2)\n",
      "Rendering (2/2)                                                    \n",
      "Done                                                               \n",
      "shape of the saved acc: (32, 2).\n",
      "shape of the saved ROC-AUC: (32,).\n",
      "Loading page (1/2)\n",
      "Rendering (2/2)                                                    \n",
      "Done                                                               \n",
      "shape of the saved acc: (32, 2, 15).\n",
      "shape of the saved ROC-AUC: (32, 15).\n"
     ]
    },
    {
     "name": "stderr",
     "output_type": "stream",
     "text": [
      "/Users/yizhan/Documents/G3_2/regime-identification/regime/simulation_helper.py:677: RuntimeWarning: Mean of empty slice\n",
      "  means_dict[\"model_params\"] = pd.DataFrame(np.nanmean(model_params_arr, axis=0), index=modelParams_index)\n",
      "/Users/yizhan/mambaforge/envs/regime-gurobi/lib/python3.10/site-packages/numpy/lib/nanfunctions.py:1878: RuntimeWarning: Degrees of freedom <= 0 for slice.\n",
      "  var = nanvar(a, axis=axis, dtype=dtype, out=out, ddof=ddof,\n"
     ]
    },
    {
     "name": "stdout",
     "output_type": "stream",
     "text": [
      "Loading page (1/2)\n",
      "Rendering (2/2)                                                    \n",
      "Done                                                               \n",
      "shape of the saved acc: (32, 2, 15).\n",
      "shape of the saved ROC-AUC: (32, 15).\n"
     ]
    },
    {
     "name": "stderr",
     "output_type": "stream",
     "text": [
      "/Users/yizhan/Documents/G3_2/regime-identification/regime/simulation_helper.py:677: RuntimeWarning: Mean of empty slice\n",
      "  means_dict[\"model_params\"] = pd.DataFrame(np.nanmean(model_params_arr, axis=0), index=modelParams_index)\n",
      "/Users/yizhan/mambaforge/envs/regime-gurobi/lib/python3.10/site-packages/numpy/lib/nanfunctions.py:1878: RuntimeWarning: Degrees of freedom <= 0 for slice.\n",
      "  var = nanvar(a, axis=axis, dtype=dtype, out=out, ddof=ddof,\n"
     ]
    },
    {
     "name": "stdout",
     "output_type": "stream",
     "text": [
      "Loading page (1/2)\n",
      "Rendering (2/2)                                                    \n",
      "Done                                                               \n",
      "shape of the saved acc: (32, 2, 15).\n",
      "shape of the saved ROC-AUC: (32, 15).\n"
     ]
    },
    {
     "name": "stderr",
     "output_type": "stream",
     "text": [
      "/Users/yizhan/Documents/G3_2/regime-identification/regime/simulation_helper.py:677: RuntimeWarning: Mean of empty slice\n",
      "  means_dict[\"model_params\"] = pd.DataFrame(np.nanmean(model_params_arr, axis=0), index=modelParams_index)\n",
      "/Users/yizhan/mambaforge/envs/regime-gurobi/lib/python3.10/site-packages/numpy/lib/nanfunctions.py:1878: RuntimeWarning: Degrees of freedom <= 0 for slice.\n",
      "  var = nanvar(a, axis=axis, dtype=dtype, out=out, ddof=ddof,\n"
     ]
    },
    {
     "name": "stdout",
     "output_type": "stream",
     "text": [
      "Loading page (1/2)\n",
      "Rendering (2/2)                                                    \n",
      "Done                                                               \n",
      "shape of the saved acc: (32, 2).\n",
      "shape of the saved ROC-AUC: (32,).\n",
      "Loading page (1/2)\n",
      "Rendering (2/2)                                                    \n",
      "Done                                                               \n",
      "shape of the saved acc: (32, 2).\n",
      "shape of the saved ROC-AUC: (32,).\n",
      "Loading page (1/2)\n",
      "Rendering (2/2)                                                    \n",
      "Done                                                               \n",
      "shape of the saved acc: (32, 2).\n",
      "shape of the saved ROC-AUC: (32,).\n",
      "Loading page (1/2)\n",
      "Rendering (2/2)                                                    \n",
      "Done                                                               \n",
      "shape of the saved acc: (32, 2, 15).\n",
      "shape of the saved ROC-AUC: (32, 15).\n"
     ]
    },
    {
     "name": "stderr",
     "output_type": "stream",
     "text": [
      "/Users/yizhan/Documents/G3_2/regime-identification/regime/simulation_helper.py:677: RuntimeWarning: Mean of empty slice\n",
      "  means_dict[\"model_params\"] = pd.DataFrame(np.nanmean(model_params_arr, axis=0), index=modelParams_index)\n",
      "/Users/yizhan/mambaforge/envs/regime-gurobi/lib/python3.10/site-packages/numpy/lib/nanfunctions.py:1878: RuntimeWarning: Degrees of freedom <= 0 for slice.\n",
      "  var = nanvar(a, axis=axis, dtype=dtype, out=out, ddof=ddof,\n"
     ]
    },
    {
     "name": "stdout",
     "output_type": "stream",
     "text": [
      "Loading page (1/2)\n",
      "Rendering (2/2)                                                    \n",
      "Done                                                               \n",
      "shape of the saved acc: (32, 2).\n",
      "shape of the saved ROC-AUC: (32,).\n",
      "Loading page (1/2)\n",
      "Rendering (2/2)                                                    \n",
      "Done                                                               \n",
      "shape of the saved acc: (32, 2).\n",
      "shape of the saved ROC-AUC: (32,).\n",
      "Loading page (1/2)\n",
      "Rendering (2/2)                                                    \n",
      "Done                                                               \n",
      "shape of the saved acc: (32, 2, 15).\n",
      "shape of the saved ROC-AUC: (32, 15).\n"
     ]
    },
    {
     "name": "stderr",
     "output_type": "stream",
     "text": [
      "/Users/yizhan/Documents/G3_2/regime-identification/regime/simulation_helper.py:677: RuntimeWarning: Mean of empty slice\n",
      "  means_dict[\"model_params\"] = pd.DataFrame(np.nanmean(model_params_arr, axis=0), index=modelParams_index)\n",
      "/Users/yizhan/mambaforge/envs/regime-gurobi/lib/python3.10/site-packages/numpy/lib/nanfunctions.py:1878: RuntimeWarning: Degrees of freedom <= 0 for slice.\n",
      "  var = nanvar(a, axis=axis, dtype=dtype, out=out, ddof=ddof,\n"
     ]
    },
    {
     "name": "stdout",
     "output_type": "stream",
     "text": [
      "Loading page (1/2)\n",
      "Rendering (2/2)                                                    \n",
      "Done                                                               \n",
      "shape of the saved acc: (32, 2).\n",
      "shape of the saved ROC-AUC: (32,).\n",
      "Loading page (1/2)\n",
      "Rendering (2/2)                                                    \n",
      "Done                                                               \n"
     ]
    }
   ],
   "source": [
    "score_and_summary_many_models(path, return_all_key_data(2)+return_all_key_data(\"Onat\"), \n",
    "                              batch_size, num_of_batch, param_grid)"
   ]
  },
  {
   "cell_type": "code",
   "execution_count": null,
   "id": "09a7b9d2-8202-41fd-9bbe-db449a7145cd",
   "metadata": {},
   "outputs": [],
   "source": []
  },
  {
   "cell_type": "code",
   "execution_count": null,
   "id": "830084fe-f8a0-45f5-bb2d-675e4a26c699",
   "metadata": {},
   "outputs": [],
   "source": []
  },
  {
   "cell_type": "code",
   "execution_count": null,
   "id": "a174d1b4-95ee-44a5-ba31-7e3641877a72",
   "metadata": {},
   "outputs": [],
   "source": []
  },
  {
   "cell_type": "code",
   "execution_count": null,
   "id": "11a10f46-38ad-454c-bfc1-58d33edb61d7",
   "metadata": {},
   "outputs": [],
   "source": []
  },
  {
   "cell_type": "code",
   "execution_count": null,
   "id": "87033434-f2bb-4149-9000-c35a1ac75c69",
   "metadata": {},
   "outputs": [],
   "source": []
  },
  {
   "cell_type": "code",
   "execution_count": null,
   "id": "0780413e-4efc-4362-bb59-c61634011aa0",
   "metadata": {},
   "outputs": [],
   "source": []
  },
  {
   "cell_type": "code",
   "execution_count": 28,
   "id": "35d43d9f-658a-43e1-b45e-7ad3c7ec463e",
   "metadata": {
    "tags": []
   },
   "outputs": [],
   "source": [
    "best_idx = pd.DataFrame(dtype=int, \n",
    "                        index=[f\"{key_feat}_{key_model}\" for key_feat, key_model in product([\"zhengBackward\", \"zhengForward\", \"ewm\"], [\"discrete\", \"cont_mode\", \"cont_no_mode\"])], \n",
    "                        columns=[\"daily\", \"weekly\", \"monthly\"])"
   ]
  },
  {
   "cell_type": "code",
   "execution_count": 30,
   "id": "48850330-5c25-48f3-9596-adcb9d33a7d3",
   "metadata": {
    "tags": []
   },
   "outputs": [],
   "source": [
    "best_idx.to_csv(f\"{path_figure}/best_idx.csv\")"
   ]
  },
  {
   "cell_type": "code",
   "execution_count": null,
   "id": "95534619-2400-4ffa-94d7-5ace1ff9d188",
   "metadata": {},
   "outputs": [],
   "source": []
  },
  {
   "cell_type": "code",
   "execution_count": null,
   "id": "37736b2d-cb09-4867-ad08-a787f335604f",
   "metadata": {},
   "outputs": [],
   "source": []
  },
  {
   "cell_type": "code",
   "execution_count": null,
   "id": "2100a6f4-ec01-4124-b57e-7805ebc2a14a",
   "metadata": {},
   "outputs": [],
   "source": []
  },
  {
   "cell_type": "code",
   "execution_count": 42,
   "id": "3e463d11-8c90-48b4-b308-49b69d3d9654",
   "metadata": {
    "tags": []
   },
   "outputs": [],
   "source": [
    "key_model_jump_list = [\"discrete\", \"cont_mode\", \"cont_no_mode\"]\n",
    "key_model_hmm_list = [\"true\", \"HMM10init\", \"HMM1init\", \"HMM1initCovPrior\"]\n",
    "key_feat_jump_list = [\"zhengBackward\", \"zhengForward\", \"ewm\"]"
   ]
  },
  {
   "cell_type": "code",
   "execution_count": null,
   "id": "36c9f8e9-89e0-4e78-9043-45053605e499",
   "metadata": {},
   "outputs": [],
   "source": [
    "summary_2StateWeekly250_ewm_cont_mode.h5"
   ]
  },
  {
   "cell_type": "code",
   "execution_count": 39,
   "id": "f36d75ef-37d1-4450-b995-a97ca0184d8c",
   "metadata": {
    "tags": []
   },
   "outputs": [],
   "source": [
    "best_idx = pd.read_csv(f\"{path_figure}/best_idx.csv\", index_col=0)"
   ]
  },
  {
   "cell_type": "code",
   "execution_count": 40,
   "id": "54ea94e9-f6e5-4cb9-8658-c79df450576d",
   "metadata": {
    "tags": []
   },
   "outputs": [
    {
     "data": {
      "text/html": [
       "<div>\n",
       "<style scoped>\n",
       "    .dataframe tbody tr th:only-of-type {\n",
       "        vertical-align: middle;\n",
       "    }\n",
       "\n",
       "    .dataframe tbody tr th {\n",
       "        vertical-align: top;\n",
       "    }\n",
       "\n",
       "    .dataframe thead th {\n",
       "        text-align: right;\n",
       "    }\n",
       "</style>\n",
       "<table border=\"1\" class=\"dataframe\">\n",
       "  <thead>\n",
       "    <tr style=\"text-align: right;\">\n",
       "      <th></th>\n",
       "      <th>daily</th>\n",
       "      <th>weekly</th>\n",
       "      <th>monthly</th>\n",
       "    </tr>\n",
       "  </thead>\n",
       "  <tbody>\n",
       "    <tr>\n",
       "      <th>zhengBackward_discrete</th>\n",
       "      <td>6</td>\n",
       "      <td>NaN</td>\n",
       "      <td>NaN</td>\n",
       "    </tr>\n",
       "    <tr>\n",
       "      <th>zhengBackward_cont_mode</th>\n",
       "      <td>10</td>\n",
       "      <td>NaN</td>\n",
       "      <td>NaN</td>\n",
       "    </tr>\n",
       "    <tr>\n",
       "      <th>zhengBackward_cont_no_mode</th>\n",
       "      <td>10</td>\n",
       "      <td>NaN</td>\n",
       "      <td>NaN</td>\n",
       "    </tr>\n",
       "    <tr>\n",
       "      <th>zhengForward_discrete</th>\n",
       "      <td>6</td>\n",
       "      <td>NaN</td>\n",
       "      <td>NaN</td>\n",
       "    </tr>\n",
       "    <tr>\n",
       "      <th>zhengForward_cont_mode</th>\n",
       "      <td>10</td>\n",
       "      <td>NaN</td>\n",
       "      <td>NaN</td>\n",
       "    </tr>\n",
       "    <tr>\n",
       "      <th>zhengForward_cont_no_mode</th>\n",
       "      <td>10</td>\n",
       "      <td>NaN</td>\n",
       "      <td>NaN</td>\n",
       "    </tr>\n",
       "    <tr>\n",
       "      <th>ewm_discrete</th>\n",
       "      <td>6</td>\n",
       "      <td>NaN</td>\n",
       "      <td>NaN</td>\n",
       "    </tr>\n",
       "    <tr>\n",
       "      <th>ewm_cont_mode</th>\n",
       "      <td>10</td>\n",
       "      <td>NaN</td>\n",
       "      <td>NaN</td>\n",
       "    </tr>\n",
       "    <tr>\n",
       "      <th>ewm_cont_no_mode</th>\n",
       "      <td>10</td>\n",
       "      <td>NaN</td>\n",
       "      <td>NaN</td>\n",
       "    </tr>\n",
       "  </tbody>\n",
       "</table>\n",
       "</div>"
      ],
      "text/plain": [
       "                            daily  weekly  monthly\n",
       "zhengBackward_discrete          6     NaN      NaN\n",
       "zhengBackward_cont_mode        10     NaN      NaN\n",
       "zhengBackward_cont_no_mode     10     NaN      NaN\n",
       "zhengForward_discrete           6     NaN      NaN\n",
       "zhengForward_cont_mode         10     NaN      NaN\n",
       "zhengForward_cont_no_mode      10     NaN      NaN\n",
       "ewm_discrete                    6     NaN      NaN\n",
       "ewm_cont_mode                  10     NaN      NaN\n",
       "ewm_cont_no_mode               10     NaN      NaN"
      ]
     },
     "execution_count": 40,
     "metadata": {},
     "output_type": "execute_result"
    }
   ],
   "source": [
    "best_idx"
   ]
  },
  {
   "cell_type": "code",
   "execution_count": null,
   "id": "aec0e4fc-3e07-4017-926d-627b94de9409",
   "metadata": {},
   "outputs": [],
   "source": []
  },
  {
   "cell_type": "code",
   "execution_count": 52,
   "id": "02dac05a-db53-40d4-8719-a31b956d2c6c",
   "metadata": {
    "tags": []
   },
   "outputs": [],
   "source": [
    "key_data=\"2StateDaily1000\"\n",
    "summary_dict = {}\n",
    "for key_model in key_model_hmm_list:\n",
    "    summary_df = pd.read_hdf(f\"{path_score}/summary_{key_data}_HMM_{key_model}.h5\")\n",
    "    summary_dict[key_model] = summary_df.iloc[0]\n",
    "for key_feat, key_model in product(key_feat_jump_list, key_model_jump_list):\n",
    "    key_feat_model = f\"{key_feat}_{key_model}\"\n",
    "    summary_df = pd.read_hdf(f\"{path_score}/summary_{key_data}_{key_feat}_{key_model}.h5\")\n",
    "    idx = best_idx.loc[key_feat_model, \"daily\"]\n",
    "    summary_dict[key_feat_model] = summary_df.iloc[idx, 1:]\n",
    "df = pd.DataFrame(summary_dict).T\n",
    "df.index=['true', 'HMM10', 'HMM1', 'HMM1P',\n",
    "       'ZB-d', 'ZB-c-m',\n",
    "       'ZB-c', 'ZF-d',\n",
    "       'ZF-c-m', 'ZF-c', 'E-d',\n",
    "       'E-c-m', 'E-c']"
   ]
  },
  {
   "cell_type": "code",
   "execution_count": 54,
   "id": "f8b8dedd-3850-4ea5-a9d0-19af36b4a0e4",
   "metadata": {
    "tags": []
   },
   "outputs": [
    {
     "data": {
      "text/html": [
       "<div>\n",
       "<style scoped>\n",
       "    .dataframe tbody tr th:only-of-type {\n",
       "        vertical-align: middle;\n",
       "    }\n",
       "\n",
       "    .dataframe tbody tr th {\n",
       "        vertical-align: top;\n",
       "    }\n",
       "\n",
       "    .dataframe thead th {\n",
       "        text-align: right;\n",
       "    }\n",
       "</style>\n",
       "<table border=\"1\" class=\"dataframe\">\n",
       "  <thead>\n",
       "    <tr style=\"text-align: right;\">\n",
       "      <th></th>\n",
       "      <th>$\\mu_1$</th>\n",
       "      <th>$\\mu_2$</th>\n",
       "      <th>$\\sigma_1$</th>\n",
       "      <th>$\\sigma_2$</th>\n",
       "      <th>$\\gamma_{12}$</th>\n",
       "      <th>$\\gamma_{21}$</th>\n",
       "      <th>Accuracy 1</th>\n",
       "      <th>Accuracy 2</th>\n",
       "      <th>BAC</th>\n",
       "      <th>ROC-AUC</th>\n",
       "    </tr>\n",
       "  </thead>\n",
       "  <tbody>\n",
       "    <tr>\n",
       "      <th>true</th>\n",
       "      <td>0.0006 (0.0000)</td>\n",
       "      <td>-0.0008 (0.0000)</td>\n",
       "      <td>0.0078 (0.0000)</td>\n",
       "      <td>0.0174 (0.0000)</td>\n",
       "      <td>0.0021 (0.0000)</td>\n",
       "      <td>0.0120 (0.0000)</td>\n",
       "      <td>0.9950 (0.0137)</td>\n",
       "      <td>0.9586 (0.0430)</td>\n",
       "      <td>0.9768 (0.0213)</td>\n",
       "      <td>0.9990 (0.0018)</td>\n",
       "    </tr>\n",
       "    <tr>\n",
       "      <th>HMM10</th>\n",
       "      <td>0.0006 (0.0004)</td>\n",
       "      <td>-0.0002 (0.0032)</td>\n",
       "      <td>0.0077 (0.0002)</td>\n",
       "      <td>0.0165 (0.0038)</td>\n",
       "      <td>0.0064 (0.0147)</td>\n",
       "      <td>0.0772 (0.2385)</td>\n",
       "      <td>0.9931 (0.0155)</td>\n",
       "      <td>0.9626 (0.0403)</td>\n",
       "      <td>0.9778 (0.0202)</td>\n",
       "      <td>0.9990 (0.0019)</td>\n",
       "    </tr>\n",
       "    <tr>\n",
       "      <th>HMM1</th>\n",
       "      <td>0.0005 (0.0006)</td>\n",
       "      <td>0.0007 (0.0050)</td>\n",
       "      <td>0.0079 (0.0007)</td>\n",
       "      <td>0.0164 (0.0035)</td>\n",
       "      <td>0.0360 (0.1163)</td>\n",
       "      <td>0.1103 (0.2590)</td>\n",
       "      <td>0.9690 (0.0972)</td>\n",
       "      <td>0.9063 (0.2096)</td>\n",
       "      <td>0.9377 (0.1318)</td>\n",
       "      <td>0.9641 (0.1309)</td>\n",
       "    </tr>\n",
       "    <tr>\n",
       "      <th>HMM1P</th>\n",
       "      <td>0.0006 (0.0005)</td>\n",
       "      <td>-0.0002 (0.0025)</td>\n",
       "      <td>0.0078 (0.0003)</td>\n",
       "      <td>0.0165 (0.0037)</td>\n",
       "      <td>0.0196 (0.0537)</td>\n",
       "      <td>0.0947 (0.2463)</td>\n",
       "      <td>0.9867 (0.0298)</td>\n",
       "      <td>0.9298 (0.1773)</td>\n",
       "      <td>0.9583 (0.0905)</td>\n",
       "      <td>0.9781 (0.1117)</td>\n",
       "    </tr>\n",
       "    <tr>\n",
       "      <th>ZB-d</th>\n",
       "      <td>0.0006 (0.0003)</td>\n",
       "      <td>-0.0002 (0.0019)</td>\n",
       "      <td>0.0079 (0.0003)</td>\n",
       "      <td>0.0167 (0.0027)</td>\n",
       "      <td>0.0020 (0.0014)</td>\n",
       "      <td>0.0118 (0.0086)</td>\n",
       "      <td>0.9786 (0.0408)</td>\n",
       "      <td>0.9096 (0.0835)</td>\n",
       "      <td>0.9441 (0.0457)</td>\n",
       "      <td>0.9488 (0.0407)</td>\n",
       "    </tr>\n",
       "    <tr>\n",
       "      <th>ZB-c-m</th>\n",
       "      <td>0.0006 (0.0003)</td>\n",
       "      <td>-0.0001 (0.0016)</td>\n",
       "      <td>0.0080 (0.0003)</td>\n",
       "      <td>0.0163 (0.0026)</td>\n",
       "      <td>0.0020 (0.0014)</td>\n",
       "      <td>0.0110 (0.0081)</td>\n",
       "      <td>0.9668 (0.0642)</td>\n",
       "      <td>0.9122 (0.0694)</td>\n",
       "      <td>0.9395 (0.0455)</td>\n",
       "      <td>0.9847 (0.0247)</td>\n",
       "    </tr>\n",
       "    <tr>\n",
       "      <th>ZB-c</th>\n",
       "      <td>0.0006 (0.0003)</td>\n",
       "      <td>-0.0001 (0.0016)</td>\n",
       "      <td>0.0080 (0.0003)</td>\n",
       "      <td>0.0163 (0.0026)</td>\n",
       "      <td>0.0020 (0.0014)</td>\n",
       "      <td>0.0109 (0.0079)</td>\n",
       "      <td>0.9670 (0.0624)</td>\n",
       "      <td>0.9138 (0.0677)</td>\n",
       "      <td>0.9404 (0.0441)</td>\n",
       "      <td>0.9874 (0.0211)</td>\n",
       "    </tr>\n",
       "    <tr>\n",
       "      <th>ZF-d</th>\n",
       "      <td>0.0006 (0.0003)</td>\n",
       "      <td>-0.0003 (0.0020)</td>\n",
       "      <td>0.0079 (0.0003)</td>\n",
       "      <td>0.0171 (0.0029)</td>\n",
       "      <td>0.0020 (0.0014)</td>\n",
       "      <td>0.0129 (0.0109)</td>\n",
       "      <td>0.9813 (0.0488)</td>\n",
       "      <td>0.9195 (0.0835)</td>\n",
       "      <td>0.9504 (0.0479)</td>\n",
       "      <td>0.9564 (0.0409)</td>\n",
       "    </tr>\n",
       "    <tr>\n",
       "      <th>ZF-c-m</th>\n",
       "      <td>0.0006 (0.0003)</td>\n",
       "      <td>-0.0001 (0.0017)</td>\n",
       "      <td>0.0080 (0.0003)</td>\n",
       "      <td>0.0165 (0.0027)</td>\n",
       "      <td>0.0019 (0.0014)</td>\n",
       "      <td>0.0112 (0.0084)</td>\n",
       "      <td>0.9762 (0.0455)</td>\n",
       "      <td>0.9350 (0.0674)</td>\n",
       "      <td>0.9556 (0.0389)</td>\n",
       "      <td>0.9862 (0.0262)</td>\n",
       "    </tr>\n",
       "    <tr>\n",
       "      <th>ZF-c</th>\n",
       "      <td>0.0006 (0.0003)</td>\n",
       "      <td>-0.0001 (0.0016)</td>\n",
       "      <td>0.0080 (0.0003)</td>\n",
       "      <td>0.0164 (0.0028)</td>\n",
       "      <td>0.0020 (0.0014)</td>\n",
       "      <td>0.0111 (0.0084)</td>\n",
       "      <td>0.9675 (0.0765)</td>\n",
       "      <td>0.9351 (0.0669)</td>\n",
       "      <td>0.9513 (0.0498)</td>\n",
       "      <td>0.9877 (0.0224)</td>\n",
       "    </tr>\n",
       "    <tr>\n",
       "      <th>E-d</th>\n",
       "      <td>0.0006 (0.0003)</td>\n",
       "      <td>-0.0003 (0.0017)</td>\n",
       "      <td>0.0079 (0.0004)</td>\n",
       "      <td>0.0162 (0.0028)</td>\n",
       "      <td>0.0019 (0.0014)</td>\n",
       "      <td>0.0118 (0.0113)</td>\n",
       "      <td>0.9662 (0.0605)</td>\n",
       "      <td>0.9154 (0.0827)</td>\n",
       "      <td>0.9408 (0.0497)</td>\n",
       "      <td>0.9458 (0.0398)</td>\n",
       "    </tr>\n",
       "    <tr>\n",
       "      <th>E-c-m</th>\n",
       "      <td>0.0006 (0.0003)</td>\n",
       "      <td>-0.0001 (0.0015)</td>\n",
       "      <td>0.0081 (0.0004)</td>\n",
       "      <td>0.0159 (0.0026)</td>\n",
       "      <td>0.0019 (0.0013)</td>\n",
       "      <td>0.0091 (0.0064)</td>\n",
       "      <td>0.9547 (0.0705)</td>\n",
       "      <td>0.9096 (0.0677)</td>\n",
       "      <td>0.9321 (0.0475)</td>\n",
       "      <td>0.9783 (0.0253)</td>\n",
       "    </tr>\n",
       "    <tr>\n",
       "      <th>E-c</th>\n",
       "      <td>0.0006 (0.0003)</td>\n",
       "      <td>-0.0001 (0.0015)</td>\n",
       "      <td>0.0080 (0.0004)</td>\n",
       "      <td>0.0159 (0.0026)</td>\n",
       "      <td>0.0019 (0.0013)</td>\n",
       "      <td>0.0091 (0.0063)</td>\n",
       "      <td>0.9537 (0.0701)</td>\n",
       "      <td>0.9085 (0.0649)</td>\n",
       "      <td>0.9311 (0.0465)</td>\n",
       "      <td>0.9823 (0.0215)</td>\n",
       "    </tr>\n",
       "  </tbody>\n",
       "</table>\n",
       "</div>"
      ],
      "text/plain": [
       "                $\\mu_1$           $\\mu_2$       $\\sigma_1$       $\\sigma_2$  \\\n",
       "true    0.0006 (0.0000)  -0.0008 (0.0000)  0.0078 (0.0000)  0.0174 (0.0000)   \n",
       "HMM10   0.0006 (0.0004)  -0.0002 (0.0032)  0.0077 (0.0002)  0.0165 (0.0038)   \n",
       "HMM1    0.0005 (0.0006)   0.0007 (0.0050)  0.0079 (0.0007)  0.0164 (0.0035)   \n",
       "HMM1P   0.0006 (0.0005)  -0.0002 (0.0025)  0.0078 (0.0003)  0.0165 (0.0037)   \n",
       "ZB-d    0.0006 (0.0003)  -0.0002 (0.0019)  0.0079 (0.0003)  0.0167 (0.0027)   \n",
       "ZB-c-m  0.0006 (0.0003)  -0.0001 (0.0016)  0.0080 (0.0003)  0.0163 (0.0026)   \n",
       "ZB-c    0.0006 (0.0003)  -0.0001 (0.0016)  0.0080 (0.0003)  0.0163 (0.0026)   \n",
       "ZF-d    0.0006 (0.0003)  -0.0003 (0.0020)  0.0079 (0.0003)  0.0171 (0.0029)   \n",
       "ZF-c-m  0.0006 (0.0003)  -0.0001 (0.0017)  0.0080 (0.0003)  0.0165 (0.0027)   \n",
       "ZF-c    0.0006 (0.0003)  -0.0001 (0.0016)  0.0080 (0.0003)  0.0164 (0.0028)   \n",
       "E-d     0.0006 (0.0003)  -0.0003 (0.0017)  0.0079 (0.0004)  0.0162 (0.0028)   \n",
       "E-c-m   0.0006 (0.0003)  -0.0001 (0.0015)  0.0081 (0.0004)  0.0159 (0.0026)   \n",
       "E-c     0.0006 (0.0003)  -0.0001 (0.0015)  0.0080 (0.0004)  0.0159 (0.0026)   \n",
       "\n",
       "          $\\gamma_{12}$    $\\gamma_{21}$       Accuracy 1       Accuracy 2  \\\n",
       "true    0.0021 (0.0000)  0.0120 (0.0000)  0.9950 (0.0137)  0.9586 (0.0430)   \n",
       "HMM10   0.0064 (0.0147)  0.0772 (0.2385)  0.9931 (0.0155)  0.9626 (0.0403)   \n",
       "HMM1    0.0360 (0.1163)  0.1103 (0.2590)  0.9690 (0.0972)  0.9063 (0.2096)   \n",
       "HMM1P   0.0196 (0.0537)  0.0947 (0.2463)  0.9867 (0.0298)  0.9298 (0.1773)   \n",
       "ZB-d    0.0020 (0.0014)  0.0118 (0.0086)  0.9786 (0.0408)  0.9096 (0.0835)   \n",
       "ZB-c-m  0.0020 (0.0014)  0.0110 (0.0081)  0.9668 (0.0642)  0.9122 (0.0694)   \n",
       "ZB-c    0.0020 (0.0014)  0.0109 (0.0079)  0.9670 (0.0624)  0.9138 (0.0677)   \n",
       "ZF-d    0.0020 (0.0014)  0.0129 (0.0109)  0.9813 (0.0488)  0.9195 (0.0835)   \n",
       "ZF-c-m  0.0019 (0.0014)  0.0112 (0.0084)  0.9762 (0.0455)  0.9350 (0.0674)   \n",
       "ZF-c    0.0020 (0.0014)  0.0111 (0.0084)  0.9675 (0.0765)  0.9351 (0.0669)   \n",
       "E-d     0.0019 (0.0014)  0.0118 (0.0113)  0.9662 (0.0605)  0.9154 (0.0827)   \n",
       "E-c-m   0.0019 (0.0013)  0.0091 (0.0064)  0.9547 (0.0705)  0.9096 (0.0677)   \n",
       "E-c     0.0019 (0.0013)  0.0091 (0.0063)  0.9537 (0.0701)  0.9085 (0.0649)   \n",
       "\n",
       "                    BAC          ROC-AUC  \n",
       "true    0.9768 (0.0213)  0.9990 (0.0018)  \n",
       "HMM10   0.9778 (0.0202)  0.9990 (0.0019)  \n",
       "HMM1    0.9377 (0.1318)  0.9641 (0.1309)  \n",
       "HMM1P   0.9583 (0.0905)  0.9781 (0.1117)  \n",
       "ZB-d    0.9441 (0.0457)  0.9488 (0.0407)  \n",
       "ZB-c-m  0.9395 (0.0455)  0.9847 (0.0247)  \n",
       "ZB-c    0.9404 (0.0441)  0.9874 (0.0211)  \n",
       "ZF-d    0.9504 (0.0479)  0.9564 (0.0409)  \n",
       "ZF-c-m  0.9556 (0.0389)  0.9862 (0.0262)  \n",
       "ZF-c    0.9513 (0.0498)  0.9877 (0.0224)  \n",
       "E-d     0.9408 (0.0497)  0.9458 (0.0398)  \n",
       "E-c-m   0.9321 (0.0475)  0.9783 (0.0253)  \n",
       "E-c     0.9311 (0.0465)  0.9823 (0.0215)  "
      ]
     },
     "execution_count": 54,
     "metadata": {},
     "output_type": "execute_result"
    }
   ],
   "source": [
    "df"
   ]
  },
  {
   "cell_type": "code",
   "execution_count": 53,
   "id": "d2efc4d3-ea47-4817-b815-fa5f781a8cc2",
   "metadata": {
    "tags": []
   },
   "outputs": [
    {
     "name": "stdout",
     "output_type": "stream",
     "text": [
      "\\begin{tabular}{lllllllllll}\n",
      " & $\\mu_1$ & $\\mu_2$ & $\\sigma_1$ & $\\sigma_2$ & $\\gamma_{12}$ & $\\gamma_{21}$ & Accuracy 1 & Accuracy 2 & BAC & ROC-AUC \\\\\n",
      "true & 0.0006 (0.0000) & -0.0008 (0.0000) & 0.0078 (0.0000) & 0.0174 (0.0000) & 0.0021 (0.0000) & 0.0120 (0.0000) & 0.9950 (0.0137) & 0.9586 (0.0430) & 0.9768 (0.0213) & 0.9990 (0.0018) \\\\\n",
      "HMM10 & 0.0006 (0.0004) & -0.0002 (0.0032) & 0.0077 (0.0002) & 0.0165 (0.0038) & 0.0064 (0.0147) & 0.0772 (0.2385) & 0.9931 (0.0155) & 0.9626 (0.0403) & 0.9778 (0.0202) & 0.9990 (0.0019) \\\\\n",
      "HMM1 & 0.0005 (0.0006) & 0.0007 (0.0050) & 0.0079 (0.0007) & 0.0164 (0.0035) & 0.0360 (0.1163) & 0.1103 (0.2590) & 0.9690 (0.0972) & 0.9063 (0.2096) & 0.9377 (0.1318) & 0.9641 (0.1309) \\\\\n",
      "HMM1P & 0.0006 (0.0005) & -0.0002 (0.0025) & 0.0078 (0.0003) & 0.0165 (0.0037) & 0.0196 (0.0537) & 0.0947 (0.2463) & 0.9867 (0.0298) & 0.9298 (0.1773) & 0.9583 (0.0905) & 0.9781 (0.1117) \\\\\n",
      "ZB-d & 0.0006 (0.0003) & -0.0002 (0.0019) & 0.0079 (0.0003) & 0.0167 (0.0027) & 0.0020 (0.0014) & 0.0118 (0.0086) & 0.9786 (0.0408) & 0.9096 (0.0835) & 0.9441 (0.0457) & 0.9488 (0.0407) \\\\\n",
      "ZB-c-m & 0.0006 (0.0003) & -0.0001 (0.0016) & 0.0080 (0.0003) & 0.0163 (0.0026) & 0.0020 (0.0014) & 0.0110 (0.0081) & 0.9668 (0.0642) & 0.9122 (0.0694) & 0.9395 (0.0455) & 0.9847 (0.0247) \\\\\n",
      "ZB-c & 0.0006 (0.0003) & -0.0001 (0.0016) & 0.0080 (0.0003) & 0.0163 (0.0026) & 0.0020 (0.0014) & 0.0109 (0.0079) & 0.9670 (0.0624) & 0.9138 (0.0677) & 0.9404 (0.0441) & 0.9874 (0.0211) \\\\\n",
      "ZF-d & 0.0006 (0.0003) & -0.0003 (0.0020) & 0.0079 (0.0003) & 0.0171 (0.0029) & 0.0020 (0.0014) & 0.0129 (0.0109) & 0.9813 (0.0488) & 0.9195 (0.0835) & 0.9504 (0.0479) & 0.9564 (0.0409) \\\\\n",
      "ZF-c-m & 0.0006 (0.0003) & -0.0001 (0.0017) & 0.0080 (0.0003) & 0.0165 (0.0027) & 0.0019 (0.0014) & 0.0112 (0.0084) & 0.9762 (0.0455) & 0.9350 (0.0674) & 0.9556 (0.0389) & 0.9862 (0.0262) \\\\\n",
      "ZF-c & 0.0006 (0.0003) & -0.0001 (0.0016) & 0.0080 (0.0003) & 0.0164 (0.0028) & 0.0020 (0.0014) & 0.0111 (0.0084) & 0.9675 (0.0765) & 0.9351 (0.0669) & 0.9513 (0.0498) & 0.9877 (0.0224) \\\\\n",
      "E-d & 0.0006 (0.0003) & -0.0003 (0.0017) & 0.0079 (0.0004) & 0.0162 (0.0028) & 0.0019 (0.0014) & 0.0118 (0.0113) & 0.9662 (0.0605) & 0.9154 (0.0827) & 0.9408 (0.0497) & 0.9458 (0.0398) \\\\\n",
      "E-c-m & 0.0006 (0.0003) & -0.0001 (0.0015) & 0.0081 (0.0004) & 0.0159 (0.0026) & 0.0019 (0.0013) & 0.0091 (0.0064) & 0.9547 (0.0705) & 0.9096 (0.0677) & 0.9321 (0.0475) & 0.9783 (0.0253) \\\\\n",
      "E-c & 0.0006 (0.0003) & -0.0001 (0.0015) & 0.0080 (0.0004) & 0.0159 (0.0026) & 0.0019 (0.0013) & 0.0091 (0.0063) & 0.9537 (0.0701) & 0.9085 (0.0649) & 0.9311 (0.0465) & 0.9823 (0.0215) \\\\\n",
      "\\end{tabular}\n",
      "\n"
     ]
    }
   ],
   "source": [
    "print(df.style.to_latex())"
   ]
  },
  {
   "cell_type": "code",
   "execution_count": null,
   "id": "da781b39-8fbf-45e9-8754-f2fe9e192e8f",
   "metadata": {},
   "outputs": [],
   "source": []
  },
  {
   "cell_type": "code",
   "execution_count": null,
   "id": "55e49ce6-29ad-492b-9764-53ddaf657a03",
   "metadata": {},
   "outputs": [],
   "source": []
  },
  {
   "cell_type": "code",
   "execution_count": null,
   "id": "999f19b7-fe03-4508-96c9-f8f9a223d15e",
   "metadata": {},
   "outputs": [],
   "source": []
  },
  {
   "cell_type": "code",
   "execution_count": 47,
   "id": "54a9023a-01be-4d9b-a8dc-2ed63e33061b",
   "metadata": {
    "tags": []
   },
   "outputs": [
    {
     "data": {
      "text/html": [
       "<div>\n",
       "<style scoped>\n",
       "    .dataframe tbody tr th:only-of-type {\n",
       "        vertical-align: middle;\n",
       "    }\n",
       "\n",
       "    .dataframe tbody tr th {\n",
       "        vertical-align: top;\n",
       "    }\n",
       "\n",
       "    .dataframe thead th {\n",
       "        text-align: right;\n",
       "    }\n",
       "</style>\n",
       "<table border=\"1\" class=\"dataframe\">\n",
       "  <thead>\n",
       "    <tr style=\"text-align: right;\">\n",
       "      <th></th>\n",
       "      <th>$\\mu_1$</th>\n",
       "      <th>$\\mu_2$</th>\n",
       "      <th>$\\sigma_1$</th>\n",
       "      <th>$\\sigma_2$</th>\n",
       "      <th>$\\gamma_{12}$</th>\n",
       "      <th>$\\gamma_{21}$</th>\n",
       "      <th>Accuracy 1</th>\n",
       "      <th>Accuracy 2</th>\n",
       "      <th>BAC</th>\n",
       "      <th>ROC-AUC</th>\n",
       "    </tr>\n",
       "  </thead>\n",
       "  <tbody>\n",
       "    <tr>\n",
       "      <th>true</th>\n",
       "      <td>0.0006 (0.0000)</td>\n",
       "      <td>-0.0008 (0.0000)</td>\n",
       "      <td>0.0078 (0.0000)</td>\n",
       "      <td>0.0174 (0.0000)</td>\n",
       "      <td>0.0021 (0.0000)</td>\n",
       "      <td>0.0120 (0.0000)</td>\n",
       "      <td>0.9950 (0.0137)</td>\n",
       "      <td>0.9586 (0.0430)</td>\n",
       "      <td>0.9768 (0.0213)</td>\n",
       "      <td>0.9990 (0.0018)</td>\n",
       "    </tr>\n",
       "    <tr>\n",
       "      <th>HMM10init</th>\n",
       "      <td>0.0006 (0.0004)</td>\n",
       "      <td>-0.0002 (0.0032)</td>\n",
       "      <td>0.0077 (0.0002)</td>\n",
       "      <td>0.0165 (0.0038)</td>\n",
       "      <td>0.0064 (0.0147)</td>\n",
       "      <td>0.0772 (0.2385)</td>\n",
       "      <td>0.9931 (0.0155)</td>\n",
       "      <td>0.9626 (0.0403)</td>\n",
       "      <td>0.9778 (0.0202)</td>\n",
       "      <td>0.9990 (0.0019)</td>\n",
       "    </tr>\n",
       "    <tr>\n",
       "      <th>HMM1init</th>\n",
       "      <td>0.0005 (0.0006)</td>\n",
       "      <td>0.0007 (0.0050)</td>\n",
       "      <td>0.0079 (0.0007)</td>\n",
       "      <td>0.0164 (0.0035)</td>\n",
       "      <td>0.0360 (0.1163)</td>\n",
       "      <td>0.1103 (0.2590)</td>\n",
       "      <td>0.9690 (0.0972)</td>\n",
       "      <td>0.9063 (0.2096)</td>\n",
       "      <td>0.9377 (0.1318)</td>\n",
       "      <td>0.9641 (0.1309)</td>\n",
       "    </tr>\n",
       "    <tr>\n",
       "      <th>HMM1initCovPrior</th>\n",
       "      <td>0.0006 (0.0005)</td>\n",
       "      <td>-0.0002 (0.0025)</td>\n",
       "      <td>0.0078 (0.0003)</td>\n",
       "      <td>0.0165 (0.0037)</td>\n",
       "      <td>0.0196 (0.0537)</td>\n",
       "      <td>0.0947 (0.2463)</td>\n",
       "      <td>0.9867 (0.0298)</td>\n",
       "      <td>0.9298 (0.1773)</td>\n",
       "      <td>0.9583 (0.0905)</td>\n",
       "      <td>0.9781 (0.1117)</td>\n",
       "    </tr>\n",
       "    <tr>\n",
       "      <th>zhengBackward_discrete</th>\n",
       "      <td>0.0006 (0.0003)</td>\n",
       "      <td>-0.0002 (0.0019)</td>\n",
       "      <td>0.0079 (0.0003)</td>\n",
       "      <td>0.0167 (0.0027)</td>\n",
       "      <td>0.0020 (0.0014)</td>\n",
       "      <td>0.0118 (0.0086)</td>\n",
       "      <td>0.9786 (0.0408)</td>\n",
       "      <td>0.9096 (0.0835)</td>\n",
       "      <td>0.9441 (0.0457)</td>\n",
       "      <td>0.9488 (0.0407)</td>\n",
       "    </tr>\n",
       "    <tr>\n",
       "      <th>zhengBackward_cont_mode</th>\n",
       "      <td>0.0006 (0.0003)</td>\n",
       "      <td>-0.0001 (0.0016)</td>\n",
       "      <td>0.0080 (0.0003)</td>\n",
       "      <td>0.0163 (0.0026)</td>\n",
       "      <td>0.0020 (0.0014)</td>\n",
       "      <td>0.0110 (0.0081)</td>\n",
       "      <td>0.9668 (0.0642)</td>\n",
       "      <td>0.9122 (0.0694)</td>\n",
       "      <td>0.9395 (0.0455)</td>\n",
       "      <td>0.9847 (0.0247)</td>\n",
       "    </tr>\n",
       "    <tr>\n",
       "      <th>zhengBackward_cont_no_mode</th>\n",
       "      <td>0.0006 (0.0003)</td>\n",
       "      <td>-0.0001 (0.0016)</td>\n",
       "      <td>0.0080 (0.0003)</td>\n",
       "      <td>0.0163 (0.0026)</td>\n",
       "      <td>0.0020 (0.0014)</td>\n",
       "      <td>0.0109 (0.0079)</td>\n",
       "      <td>0.9670 (0.0624)</td>\n",
       "      <td>0.9138 (0.0677)</td>\n",
       "      <td>0.9404 (0.0441)</td>\n",
       "      <td>0.9874 (0.0211)</td>\n",
       "    </tr>\n",
       "    <tr>\n",
       "      <th>zhengForward_discrete</th>\n",
       "      <td>0.0006 (0.0003)</td>\n",
       "      <td>-0.0003 (0.0020)</td>\n",
       "      <td>0.0079 (0.0003)</td>\n",
       "      <td>0.0171 (0.0029)</td>\n",
       "      <td>0.0020 (0.0014)</td>\n",
       "      <td>0.0129 (0.0109)</td>\n",
       "      <td>0.9813 (0.0488)</td>\n",
       "      <td>0.9195 (0.0835)</td>\n",
       "      <td>0.9504 (0.0479)</td>\n",
       "      <td>0.9564 (0.0409)</td>\n",
       "    </tr>\n",
       "    <tr>\n",
       "      <th>zhengForward_cont_mode</th>\n",
       "      <td>0.0006 (0.0003)</td>\n",
       "      <td>-0.0001 (0.0017)</td>\n",
       "      <td>0.0080 (0.0003)</td>\n",
       "      <td>0.0165 (0.0027)</td>\n",
       "      <td>0.0019 (0.0014)</td>\n",
       "      <td>0.0112 (0.0084)</td>\n",
       "      <td>0.9762 (0.0455)</td>\n",
       "      <td>0.9350 (0.0674)</td>\n",
       "      <td>0.9556 (0.0389)</td>\n",
       "      <td>0.9862 (0.0262)</td>\n",
       "    </tr>\n",
       "    <tr>\n",
       "      <th>zhengForward_cont_no_mode</th>\n",
       "      <td>0.0006 (0.0003)</td>\n",
       "      <td>-0.0001 (0.0016)</td>\n",
       "      <td>0.0080 (0.0003)</td>\n",
       "      <td>0.0164 (0.0028)</td>\n",
       "      <td>0.0020 (0.0014)</td>\n",
       "      <td>0.0111 (0.0084)</td>\n",
       "      <td>0.9675 (0.0765)</td>\n",
       "      <td>0.9351 (0.0669)</td>\n",
       "      <td>0.9513 (0.0498)</td>\n",
       "      <td>0.9877 (0.0224)</td>\n",
       "    </tr>\n",
       "    <tr>\n",
       "      <th>ewm_discrete</th>\n",
       "      <td>0.0006 (0.0003)</td>\n",
       "      <td>-0.0003 (0.0017)</td>\n",
       "      <td>0.0079 (0.0004)</td>\n",
       "      <td>0.0162 (0.0028)</td>\n",
       "      <td>0.0019 (0.0014)</td>\n",
       "      <td>0.0118 (0.0113)</td>\n",
       "      <td>0.9662 (0.0605)</td>\n",
       "      <td>0.9154 (0.0827)</td>\n",
       "      <td>0.9408 (0.0497)</td>\n",
       "      <td>0.9458 (0.0398)</td>\n",
       "    </tr>\n",
       "    <tr>\n",
       "      <th>ewm_cont_mode</th>\n",
       "      <td>0.0006 (0.0003)</td>\n",
       "      <td>-0.0001 (0.0015)</td>\n",
       "      <td>0.0081 (0.0004)</td>\n",
       "      <td>0.0159 (0.0026)</td>\n",
       "      <td>0.0019 (0.0013)</td>\n",
       "      <td>0.0091 (0.0064)</td>\n",
       "      <td>0.9547 (0.0705)</td>\n",
       "      <td>0.9096 (0.0677)</td>\n",
       "      <td>0.9321 (0.0475)</td>\n",
       "      <td>0.9783 (0.0253)</td>\n",
       "    </tr>\n",
       "    <tr>\n",
       "      <th>ewm_cont_no_mode</th>\n",
       "      <td>0.0006 (0.0003)</td>\n",
       "      <td>-0.0001 (0.0015)</td>\n",
       "      <td>0.0080 (0.0004)</td>\n",
       "      <td>0.0159 (0.0026)</td>\n",
       "      <td>0.0019 (0.0013)</td>\n",
       "      <td>0.0091 (0.0063)</td>\n",
       "      <td>0.9537 (0.0701)</td>\n",
       "      <td>0.9085 (0.0649)</td>\n",
       "      <td>0.9311 (0.0465)</td>\n",
       "      <td>0.9823 (0.0215)</td>\n",
       "    </tr>\n",
       "  </tbody>\n",
       "</table>\n",
       "</div>"
      ],
      "text/plain": [
       "                                    $\\mu_1$           $\\mu_2$  \\\n",
       "true                        0.0006 (0.0000)  -0.0008 (0.0000)   \n",
       "HMM10init                   0.0006 (0.0004)  -0.0002 (0.0032)   \n",
       "HMM1init                    0.0005 (0.0006)   0.0007 (0.0050)   \n",
       "HMM1initCovPrior            0.0006 (0.0005)  -0.0002 (0.0025)   \n",
       "zhengBackward_discrete      0.0006 (0.0003)  -0.0002 (0.0019)   \n",
       "zhengBackward_cont_mode     0.0006 (0.0003)  -0.0001 (0.0016)   \n",
       "zhengBackward_cont_no_mode  0.0006 (0.0003)  -0.0001 (0.0016)   \n",
       "zhengForward_discrete       0.0006 (0.0003)  -0.0003 (0.0020)   \n",
       "zhengForward_cont_mode      0.0006 (0.0003)  -0.0001 (0.0017)   \n",
       "zhengForward_cont_no_mode   0.0006 (0.0003)  -0.0001 (0.0016)   \n",
       "ewm_discrete                0.0006 (0.0003)  -0.0003 (0.0017)   \n",
       "ewm_cont_mode               0.0006 (0.0003)  -0.0001 (0.0015)   \n",
       "ewm_cont_no_mode            0.0006 (0.0003)  -0.0001 (0.0015)   \n",
       "\n",
       "                                 $\\sigma_1$       $\\sigma_2$    $\\gamma_{12}$  \\\n",
       "true                        0.0078 (0.0000)  0.0174 (0.0000)  0.0021 (0.0000)   \n",
       "HMM10init                   0.0077 (0.0002)  0.0165 (0.0038)  0.0064 (0.0147)   \n",
       "HMM1init                    0.0079 (0.0007)  0.0164 (0.0035)  0.0360 (0.1163)   \n",
       "HMM1initCovPrior            0.0078 (0.0003)  0.0165 (0.0037)  0.0196 (0.0537)   \n",
       "zhengBackward_discrete      0.0079 (0.0003)  0.0167 (0.0027)  0.0020 (0.0014)   \n",
       "zhengBackward_cont_mode     0.0080 (0.0003)  0.0163 (0.0026)  0.0020 (0.0014)   \n",
       "zhengBackward_cont_no_mode  0.0080 (0.0003)  0.0163 (0.0026)  0.0020 (0.0014)   \n",
       "zhengForward_discrete       0.0079 (0.0003)  0.0171 (0.0029)  0.0020 (0.0014)   \n",
       "zhengForward_cont_mode      0.0080 (0.0003)  0.0165 (0.0027)  0.0019 (0.0014)   \n",
       "zhengForward_cont_no_mode   0.0080 (0.0003)  0.0164 (0.0028)  0.0020 (0.0014)   \n",
       "ewm_discrete                0.0079 (0.0004)  0.0162 (0.0028)  0.0019 (0.0014)   \n",
       "ewm_cont_mode               0.0081 (0.0004)  0.0159 (0.0026)  0.0019 (0.0013)   \n",
       "ewm_cont_no_mode            0.0080 (0.0004)  0.0159 (0.0026)  0.0019 (0.0013)   \n",
       "\n",
       "                              $\\gamma_{21}$       Accuracy 1       Accuracy 2  \\\n",
       "true                        0.0120 (0.0000)  0.9950 (0.0137)  0.9586 (0.0430)   \n",
       "HMM10init                   0.0772 (0.2385)  0.9931 (0.0155)  0.9626 (0.0403)   \n",
       "HMM1init                    0.1103 (0.2590)  0.9690 (0.0972)  0.9063 (0.2096)   \n",
       "HMM1initCovPrior            0.0947 (0.2463)  0.9867 (0.0298)  0.9298 (0.1773)   \n",
       "zhengBackward_discrete      0.0118 (0.0086)  0.9786 (0.0408)  0.9096 (0.0835)   \n",
       "zhengBackward_cont_mode     0.0110 (0.0081)  0.9668 (0.0642)  0.9122 (0.0694)   \n",
       "zhengBackward_cont_no_mode  0.0109 (0.0079)  0.9670 (0.0624)  0.9138 (0.0677)   \n",
       "zhengForward_discrete       0.0129 (0.0109)  0.9813 (0.0488)  0.9195 (0.0835)   \n",
       "zhengForward_cont_mode      0.0112 (0.0084)  0.9762 (0.0455)  0.9350 (0.0674)   \n",
       "zhengForward_cont_no_mode   0.0111 (0.0084)  0.9675 (0.0765)  0.9351 (0.0669)   \n",
       "ewm_discrete                0.0118 (0.0113)  0.9662 (0.0605)  0.9154 (0.0827)   \n",
       "ewm_cont_mode               0.0091 (0.0064)  0.9547 (0.0705)  0.9096 (0.0677)   \n",
       "ewm_cont_no_mode            0.0091 (0.0063)  0.9537 (0.0701)  0.9085 (0.0649)   \n",
       "\n",
       "                                        BAC          ROC-AUC  \n",
       "true                        0.9768 (0.0213)  0.9990 (0.0018)  \n",
       "HMM10init                   0.9778 (0.0202)  0.9990 (0.0019)  \n",
       "HMM1init                    0.9377 (0.1318)  0.9641 (0.1309)  \n",
       "HMM1initCovPrior            0.9583 (0.0905)  0.9781 (0.1117)  \n",
       "zhengBackward_discrete      0.9441 (0.0457)  0.9488 (0.0407)  \n",
       "zhengBackward_cont_mode     0.9395 (0.0455)  0.9847 (0.0247)  \n",
       "zhengBackward_cont_no_mode  0.9404 (0.0441)  0.9874 (0.0211)  \n",
       "zhengForward_discrete       0.9504 (0.0479)  0.9564 (0.0409)  \n",
       "zhengForward_cont_mode      0.9556 (0.0389)  0.9862 (0.0262)  \n",
       "zhengForward_cont_no_mode   0.9513 (0.0498)  0.9877 (0.0224)  \n",
       "ewm_discrete                0.9408 (0.0497)  0.9458 (0.0398)  \n",
       "ewm_cont_mode               0.9321 (0.0475)  0.9783 (0.0253)  \n",
       "ewm_cont_no_mode            0.9311 (0.0465)  0.9823 (0.0215)  "
      ]
     },
     "execution_count": 47,
     "metadata": {},
     "output_type": "execute_result"
    }
   ],
   "source": []
  },
  {
   "cell_type": "code",
   "execution_count": 35,
   "id": "af1ddaa6-fb59-4f8f-b08e-548c8c006ba7",
   "metadata": {
    "tags": []
   },
   "outputs": [
    {
     "data": {
      "text/html": [
       "<div>\n",
       "<style scoped>\n",
       "    .dataframe tbody tr th:only-of-type {\n",
       "        vertical-align: middle;\n",
       "    }\n",
       "\n",
       "    .dataframe tbody tr th {\n",
       "        vertical-align: top;\n",
       "    }\n",
       "\n",
       "    .dataframe thead th {\n",
       "        text-align: right;\n",
       "    }\n",
       "</style>\n",
       "<table border=\"1\" class=\"dataframe\">\n",
       "  <thead>\n",
       "    <tr style=\"text-align: right;\">\n",
       "      <th></th>\n",
       "      <th>$\\mu_1$</th>\n",
       "      <th>$\\mu_2$</th>\n",
       "      <th>$\\sigma_1$</th>\n",
       "      <th>$\\sigma_2$</th>\n",
       "      <th>$\\gamma_{12}$</th>\n",
       "      <th>$\\gamma_{21}$</th>\n",
       "      <th>Accuracy 1</th>\n",
       "      <th>Accuracy 2</th>\n",
       "      <th>BAC</th>\n",
       "      <th>ROC-AUC</th>\n",
       "    </tr>\n",
       "  </thead>\n",
       "  <tbody>\n",
       "    <tr>\n",
       "      <th>true</th>\n",
       "      <td>0.0006 (0.0000)</td>\n",
       "      <td>-0.0008 (0.0000)</td>\n",
       "      <td>0.0078 (0.0000)</td>\n",
       "      <td>0.0174 (0.0000)</td>\n",
       "      <td>0.0021 (0.0000)</td>\n",
       "      <td>0.0120 (0.0000)</td>\n",
       "      <td>0.9950 (0.0137)</td>\n",
       "      <td>0.9586 (0.0430)</td>\n",
       "      <td>0.9768 (0.0213)</td>\n",
       "      <td>0.9990 (0.0018)</td>\n",
       "    </tr>\n",
       "    <tr>\n",
       "      <th>HMM10init</th>\n",
       "      <td>0.0006 (0.0004)</td>\n",
       "      <td>-0.0002 (0.0032)</td>\n",
       "      <td>0.0077 (0.0002)</td>\n",
       "      <td>0.0165 (0.0038)</td>\n",
       "      <td>0.0064 (0.0147)</td>\n",
       "      <td>0.0772 (0.2385)</td>\n",
       "      <td>0.9931 (0.0155)</td>\n",
       "      <td>0.9626 (0.0403)</td>\n",
       "      <td>0.9778 (0.0202)</td>\n",
       "      <td>0.9990 (0.0019)</td>\n",
       "    </tr>\n",
       "    <tr>\n",
       "      <th>HMM1init</th>\n",
       "      <td>0.0005 (0.0006)</td>\n",
       "      <td>0.0007 (0.0050)</td>\n",
       "      <td>0.0079 (0.0007)</td>\n",
       "      <td>0.0164 (0.0035)</td>\n",
       "      <td>0.0360 (0.1163)</td>\n",
       "      <td>0.1103 (0.2590)</td>\n",
       "      <td>0.9690 (0.0972)</td>\n",
       "      <td>0.9063 (0.2096)</td>\n",
       "      <td>0.9377 (0.1318)</td>\n",
       "      <td>0.9641 (0.1309)</td>\n",
       "    </tr>\n",
       "    <tr>\n",
       "      <th>HMM1initCovPrior</th>\n",
       "      <td>0.0006 (0.0005)</td>\n",
       "      <td>-0.0002 (0.0025)</td>\n",
       "      <td>0.0078 (0.0003)</td>\n",
       "      <td>0.0165 (0.0037)</td>\n",
       "      <td>0.0196 (0.0537)</td>\n",
       "      <td>0.0947 (0.2463)</td>\n",
       "      <td>0.9867 (0.0298)</td>\n",
       "      <td>0.9298 (0.1773)</td>\n",
       "      <td>0.9583 (0.0905)</td>\n",
       "      <td>0.9781 (0.1117)</td>\n",
       "    </tr>\n",
       "  </tbody>\n",
       "</table>\n",
       "</div>"
      ],
      "text/plain": [
       "                          $\\mu_1$           $\\mu_2$       $\\sigma_1$  \\\n",
       "true              0.0006 (0.0000)  -0.0008 (0.0000)  0.0078 (0.0000)   \n",
       "HMM10init         0.0006 (0.0004)  -0.0002 (0.0032)  0.0077 (0.0002)   \n",
       "HMM1init          0.0005 (0.0006)   0.0007 (0.0050)  0.0079 (0.0007)   \n",
       "HMM1initCovPrior  0.0006 (0.0005)  -0.0002 (0.0025)  0.0078 (0.0003)   \n",
       "\n",
       "                       $\\sigma_2$    $\\gamma_{12}$    $\\gamma_{21}$  \\\n",
       "true              0.0174 (0.0000)  0.0021 (0.0000)  0.0120 (0.0000)   \n",
       "HMM10init         0.0165 (0.0038)  0.0064 (0.0147)  0.0772 (0.2385)   \n",
       "HMM1init          0.0164 (0.0035)  0.0360 (0.1163)  0.1103 (0.2590)   \n",
       "HMM1initCovPrior  0.0165 (0.0037)  0.0196 (0.0537)  0.0947 (0.2463)   \n",
       "\n",
       "                       Accuracy 1       Accuracy 2              BAC  \\\n",
       "true              0.9950 (0.0137)  0.9586 (0.0430)  0.9768 (0.0213)   \n",
       "HMM10init         0.9931 (0.0155)  0.9626 (0.0403)  0.9778 (0.0202)   \n",
       "HMM1init          0.9690 (0.0972)  0.9063 (0.2096)  0.9377 (0.1318)   \n",
       "HMM1initCovPrior  0.9867 (0.0298)  0.9298 (0.1773)  0.9583 (0.0905)   \n",
       "\n",
       "                          ROC-AUC  \n",
       "true              0.9990 (0.0018)  \n",
       "HMM10init         0.9990 (0.0019)  \n",
       "HMM1init          0.9641 (0.1309)  \n",
       "HMM1initCovPrior  0.9781 (0.1117)  "
      ]
     },
     "execution_count": 35,
     "metadata": {},
     "output_type": "execute_result"
    }
   ],
   "source": [
    "pd.DataFrame(summary_dict).T"
   ]
  },
  {
   "cell_type": "code",
   "execution_count": null,
   "id": "80fc296a-e03d-4ef7-b81b-e4ecc86e8d31",
   "metadata": {},
   "outputs": [],
   "source": []
  },
  {
   "cell_type": "code",
   "execution_count": null,
   "id": "7e52e9bb-2352-4a59-bee5-7b8cb84354f2",
   "metadata": {},
   "outputs": [],
   "source": []
  },
  {
   "cell_type": "code",
   "execution_count": null,
   "id": "28c1150d-2af7-4f95-8a31-fd2dd79528ab",
   "metadata": {},
   "outputs": [],
   "source": []
  },
  {
   "cell_type": "code",
   "execution_count": null,
   "id": "60c73f02-b3da-4587-ba3a-379f8a05bb9f",
   "metadata": {},
   "outputs": [],
   "source": []
  },
  {
   "cell_type": "code",
   "execution_count": null,
   "id": "8651870b-c21f-45bb-8ba6-049da9e79f89",
   "metadata": {},
   "outputs": [],
   "source": []
  },
  {
   "cell_type": "code",
   "execution_count": null,
   "id": "55043c16-61d6-414e-b5ae-671bdf30c973",
   "metadata": {},
   "outputs": [],
   "source": []
  },
  {
   "cell_type": "code",
   "execution_count": 16,
   "id": "a72aac5f-ebe8-4fb3-9d54-c7b9a694f055",
   "metadata": {
    "tags": []
   },
   "outputs": [
    {
     "data": {
      "text/plain": [
       "{'test': array([[ 0.68100894,  0.39932444, -2.86535965,  1.10508794],\n",
       "        [ 1.8185069 , -0.96895663,  0.56839978, -1.25287882],\n",
       "        [ 1.38340518, -1.63210751,  0.69350503, -3.05071418]])}"
      ]
     },
     "execution_count": 16,
     "metadata": {},
     "output_type": "execute_result"
    }
   ],
   "source": [
    "scoring_results"
   ]
  },
  {
   "cell_type": "code",
   "execution_count": null,
   "id": "8fb181e8-4d73-4399-9dda-e6848ff80efe",
   "metadata": {},
   "outputs": [],
   "source": []
  },
  {
   "cell_type": "code",
   "execution_count": null,
   "id": "b975b668-0061-4a56-b736-abf13f247d22",
   "metadata": {},
   "outputs": [],
   "source": []
  },
  {
   "cell_type": "code",
   "execution_count": null,
   "id": "f510a6d1-2749-4624-9ad8-5c41168020e6",
   "metadata": {},
   "outputs": [
    {
     "name": "stdout",
     "output_type": "stream",
     "text": [
      "shape of the saved acc: (32, 2).\n",
      "shape of the saved ROC-AUC: (32,).\n"
     ]
    },
    {
     "data": {
      "text/plain": [
       "(    $\\mu_1$   $\\mu_2$  $\\sigma_1$  $\\sigma_2$  $\\gamma_{12}$  $\\gamma_{21}$  \\\n",
       " 0  0.000615 -0.000785    0.007759    0.017397       0.002116       0.011982   \n",
       " \n",
       "    Accuracy 1  Accuracy 2       BAC   ROC-AUC  \n",
       " 0    0.995013    0.958573  0.976793  0.999023  ,\n",
       "         $\\mu_1$       $\\mu_2$    $\\sigma_1$  $\\sigma_2$  $\\gamma_{12}$  \\\n",
       " 0  1.084202e-19  2.168404e-19  1.734723e-18         0.0   1.734723e-18   \n",
       " \n",
       "    $\\gamma_{21}$  Accuracy 1  Accuracy 2       BAC  ROC-AUC  \n",
       " 0   5.204170e-18      0.0137    0.042974  0.021315  0.00182  ,\n",
       "            $\\mu_1$           $\\mu_2$       $\\sigma_1$       $\\sigma_2$  \\\n",
       " 0  0.0006 (0.0000)  -0.0008 (0.0000)  0.0078 (0.0000)  0.0174 (0.0000)   \n",
       " \n",
       "      $\\gamma_{12}$    $\\gamma_{21}$       Accuracy 1       Accuracy 2  \\\n",
       " 0  0.0021 (0.0000)  0.0120 (0.0000)  0.9950 (0.0137)  0.9586 (0.0430)   \n",
       " \n",
       "                BAC          ROC-AUC  \n",
       " 0  0.9768 (0.0213)  0.9990 (0.0018)  )"
      ]
     },
     "execution_count": 17,
     "metadata": {},
     "output_type": "execute_result"
    }
   ],
   "source": [
    "score_and_summary_model(\"2StateDaily1000_HMM_true\", path_data, path_estimation, path_score, num_of_batch, batch_size, None)"
   ]
  },
  {
   "cell_type": "code",
   "execution_count": null,
   "id": "d87b579c-7a54-4d62-815d-cb389165f3af",
   "metadata": {},
   "outputs": [],
   "source": []
  },
  {
   "cell_type": "code",
   "execution_count": null,
   "id": "fa77e121-3c56-4bb3-b68f-a85f58a4d131",
   "metadata": {},
   "outputs": [],
   "source": []
  },
  {
   "cell_type": "code",
   "execution_count": null,
   "id": "f695f7ae-f0eb-40ae-b819-969343f77727",
   "metadata": {},
   "outputs": [],
   "source": []
  },
  {
   "cell_type": "code",
   "execution_count": null,
   "id": "f923ee4a-a16e-4c4f-b4ef-9a45ac545666",
   "metadata": {},
   "outputs": [],
   "source": []
  },
  {
   "cell_type": "code",
   "execution_count": null,
   "id": "c306bbdb-01db-4eed-9cf0-ff47ff4f93ff",
   "metadata": {},
   "outputs": [],
   "source": []
  },
  {
   "cell_type": "code",
   "execution_count": null,
   "id": "b361a0f6-bc7f-4b1a-97d1-5e430575b9e7",
   "metadata": {},
   "outputs": [],
   "source": []
  },
  {
   "cell_type": "code",
   "execution_count": 15,
   "id": "a9b34c97-e4c2-42df-ab2c-c0ae855e8700",
   "metadata": {
    "tags": []
   },
   "outputs": [],
   "source": []
  },
  {
   "cell_type": "code",
   "execution_count": 42,
   "id": "7ad81056-6ddc-4973-86d2-9039e1d6d691",
   "metadata": {
    "tags": []
   },
   "outputs": [
    {
     "name": "stdout",
     "output_type": "stream",
     "text": [
      "[1.00000000e-02 1.00000000e-01 3.16227766e-01 1.00000000e+00\n",
      " 3.16227766e+00 1.00000000e+01 3.16227766e+01 1.00000000e+02\n",
      " 3.16227766e+02 1.00000000e+03 3.16227766e+03 1.00000000e+04\n",
      " 3.16227766e+04 1.00000000e+05 1.00000000e+06]\n"
     ]
    }
   ],
   "source": [
    "param_grid = generate_param_grid()"
   ]
  },
  {
   "cell_type": "code",
   "execution_count": 55,
   "id": "de75b588-be83-40a3-9047-2d1d84577de2",
   "metadata": {
    "tags": []
   },
   "outputs": [
    {
     "name": "stdout",
     "output_type": "stream",
     "text": [
      "[1.00000000e-02 1.00000000e-01 3.16227766e-01 1.00000000e+00\n",
      " 3.16227766e+00 1.00000000e+01 3.16227766e+01 1.00000000e+02\n",
      " 3.16227766e+02 1.00000000e+03 3.16227766e+03 1.00000000e+04\n",
      " 3.16227766e+04 1.00000000e+05 1.00000000e+06]\n"
     ]
    }
   ],
   "source": [
    "print(param_grid[\"jump_penalty\"])"
   ]
  },
  {
   "cell_type": "code",
   "execution_count": 54,
   "id": "556d538f-7c36-4d02-823c-9c80ed7f45f0",
   "metadata": {
    "tags": []
   },
   "outputs": [
    {
     "name": "stdout",
     "output_type": "stream",
     "text": [
      "[0.00000e+00 1.00000e-01 3.00000e-01 1.00000e+00 3.20000e+00 1.00000e+01\n",
      " 3.16000e+01 1.00000e+02 3.16200e+02 1.00000e+03 3.16230e+03 1.00000e+04\n",
      " 3.16228e+04 1.00000e+05 1.00000e+06]\n"
     ]
    }
   ],
   "source": [
    "print(np.round(param_grid[\"jump_penalty\"],1))"
   ]
  },
  {
   "cell_type": "code",
   "execution_count": null,
   "id": "8f948ab4-dd2a-40a5-ba18-7de056ffdf60",
   "metadata": {},
   "outputs": [],
   "source": []
  },
  {
   "cell_type": "code",
   "execution_count": null,
   "id": "498ded30-3489-4ba8-bfb5-5e1f9e11ad73",
   "metadata": {},
   "outputs": [],
   "source": []
  },
  {
   "cell_type": "code",
   "execution_count": null,
   "id": "4c2610ee-0eb7-46ac-91e5-c619317a9493",
   "metadata": {},
   "outputs": [],
   "source": []
  },
  {
   "cell_type": "code",
   "execution_count": null,
   "id": "151868ab-ba83-4b3b-9f33-fc76169db729",
   "metadata": {},
   "outputs": [],
   "source": []
  },
  {
   "cell_type": "code",
   "execution_count": 63,
   "id": "2ab5fc33-cb84-4349-8ad6-f4d04d645ad3",
   "metadata": {
    "tags": []
   },
   "outputs": [
    {
     "name": "stdout",
     "output_type": "stream",
     "text": [
      "shape of the saved acc: (32, 2, 15).\n",
      "shape of the saved ROC-AUC: (32, 15).\n"
     ]
    },
    {
     "data": {
      "text/plain": [
       "(     $\\mu_1$   $\\mu_2$  $\\sigma_1$  $\\sigma_2$  $\\gamma_{12}$  $\\gamma_{21}$  \\\n",
       " 0   0.000736 -0.000543    0.007592    0.015049       0.055896       0.131842   \n",
       " 1   0.000733 -0.000541    0.007599    0.015097       0.052865       0.125788   \n",
       " 2   0.000757 -0.000597    0.007612    0.015101       0.046532       0.112351   \n",
       " 3   0.000875 -0.000706    0.007685    0.014983       0.036251       0.090264   \n",
       " 4   0.000818 -0.000643    0.007873    0.014926       0.022304       0.059124   \n",
       " 5   0.000869 -0.000589    0.007974    0.014857       0.011535       0.032843   \n",
       " 6   0.000751 -0.000537    0.007913    0.015197       0.003871       0.021743   \n",
       " 7   0.000697 -0.000220    0.007959    0.015483       0.001979       0.012844   \n",
       " 8   0.000667 -0.000688    0.008268    0.016797       0.001030       0.008666   \n",
       " 9   0.000509  0.000666    0.009639    0.014500       0.000000       0.000000   \n",
       " 10  0.000509  0.000666    0.009639    0.014500       0.000000       0.000000   \n",
       " 11  0.000509  0.000666    0.009639    0.014500       0.000000       0.000000   \n",
       " 12  0.000509  0.000666    0.009639    0.014500       0.000000       0.000000   \n",
       " 13  0.000509  0.000666    0.009639    0.014500       0.000000       0.000000   \n",
       " 14  0.000509  0.000666    0.009639    0.014500       0.000000       0.000000   \n",
       " \n",
       "     Accuracy 1  Accuracy 2       BAC   ROC-AUC  \n",
       " 0     0.859325    0.785127  0.822226  0.851015  \n",
       " 1     0.860687    0.783013  0.821850  0.850691  \n",
       " 2     0.861532    0.783026  0.822279  0.851384  \n",
       " 3     0.862591    0.791474  0.827033  0.855939  \n",
       " 4     0.874128    0.770323  0.822226  0.851608  \n",
       " 5     0.885984    0.826326  0.856155  0.886191  \n",
       " 6     0.951251    0.896915  0.924083  0.935736  \n",
       " 7     0.969521    0.878072  0.923796  0.929252  \n",
       " 8     0.976746    0.711220  0.843983  0.841830  \n",
       " 9     0.968750    0.037037  0.502894  0.500000  \n",
       " 10    0.968750    0.037037  0.502894  0.500000  \n",
       " 11    0.968750    0.037037  0.502894  0.500000  \n",
       " 12    0.968750    0.037037  0.502894  0.500000  \n",
       " 13    0.968750    0.037037  0.502894  0.500000  \n",
       " 14    0.968750    0.037037  0.502894  0.500000  ,\n",
       "      $\\mu_1$   $\\mu_2$  $\\sigma_1$  $\\sigma_2$  $\\gamma_{12}$  $\\gamma_{21}$  \\\n",
       " 0   0.000932  0.002379    0.000877    0.004138       0.048531       0.048252   \n",
       " 1   0.000911  0.002345    0.000872    0.004146       0.045595       0.046042   \n",
       " 2   0.000903  0.002351    0.000879    0.004136       0.040206       0.038421   \n",
       " 3   0.000853  0.002252    0.000792    0.004244       0.030760       0.035892   \n",
       " 4   0.000795  0.002088    0.000647    0.004485       0.020617       0.025931   \n",
       " 5   0.000615  0.001990    0.000486    0.004497       0.010421       0.015481   \n",
       " 6   0.000423  0.002296    0.000319    0.003886       0.002518       0.018071   \n",
       " 7   0.000232  0.002004    0.000272    0.003543       0.001221       0.011795   \n",
       " 8   0.000242  0.002241    0.000672    0.001310       0.000906       0.006609   \n",
       " 9   0.000320  0.000000    0.001485    0.000000       0.000000       0.000000   \n",
       " 10  0.000320  0.000000    0.001485    0.000000       0.000000       0.000000   \n",
       " 11  0.000320  0.000000    0.001485    0.000000       0.000000       0.000000   \n",
       " 12  0.000320  0.000000    0.001485    0.000000       0.000000       0.000000   \n",
       " 13  0.000320  0.000000    0.001485    0.000000       0.000000       0.000000   \n",
       " 14  0.000320  0.000000    0.001485    0.000000       0.000000       0.000000   \n",
       " \n",
       "     Accuracy 1  Accuracy 2       BAC   ROC-AUC  \n",
       " 0     0.179909    0.178662  0.140750  0.123566  \n",
       " 1     0.179917    0.176133  0.139918  0.122577  \n",
       " 2     0.180261    0.177459  0.140913  0.123353  \n",
       " 3     0.179648    0.177867  0.141089  0.123830  \n",
       " 4     0.175345    0.225277  0.177684  0.162157  \n",
       " 5     0.170700    0.184196  0.141965  0.121954  \n",
       " 6     0.082834    0.087358  0.059017  0.047003  \n",
       " 7     0.047429    0.190804  0.108343  0.104781  \n",
       " 8     0.053489    0.308565  0.150113  0.147670  \n",
       " 9     0.173993    0.188853  0.000000  0.000000  \n",
       " 10    0.173993    0.188853  0.000000  0.000000  \n",
       " 11    0.173993    0.188853  0.000000  0.000000  \n",
       " 12    0.173993    0.188853  0.000000  0.000000  \n",
       " 13    0.173993    0.188853  0.000000  0.000000  \n",
       " 14    0.173993    0.188853  0.000000  0.000000  ,\n",
       "      params          $\\mu_1$           $\\mu_2$       $\\sigma_1$  \\\n",
       " 0   1.0e-02  0.0007 (0.0009)  -0.0005 (0.0024)  0.0076 (0.0009)   \n",
       " 1   1.0e-01  0.0007 (0.0009)  -0.0005 (0.0023)  0.0076 (0.0009)   \n",
       " 2   3.2e-01  0.0008 (0.0009)  -0.0006 (0.0024)  0.0076 (0.0009)   \n",
       " 3   1.0e+00  0.0009 (0.0009)  -0.0007 (0.0023)  0.0077 (0.0008)   \n",
       " 4   3.2e+00  0.0008 (0.0008)  -0.0006 (0.0021)  0.0079 (0.0006)   \n",
       " 5   1.0e+01  0.0009 (0.0006)  -0.0006 (0.0020)  0.0080 (0.0005)   \n",
       " 6   3.2e+01  0.0008 (0.0004)  -0.0005 (0.0023)  0.0079 (0.0003)   \n",
       " 7   1.0e+02  0.0007 (0.0002)  -0.0002 (0.0020)  0.0080 (0.0003)   \n",
       " 8   3.2e+02  0.0007 (0.0002)  -0.0007 (0.0022)  0.0083 (0.0007)   \n",
       " 9   1.0e+03  0.0005 (0.0003)   0.0007 (0.0000)  0.0096 (0.0015)   \n",
       " 10  3.2e+03  0.0005 (0.0003)   0.0007 (0.0000)  0.0096 (0.0015)   \n",
       " 11  1.0e+04  0.0005 (0.0003)   0.0007 (0.0000)  0.0096 (0.0015)   \n",
       " 12  3.2e+04  0.0005 (0.0003)   0.0007 (0.0000)  0.0096 (0.0015)   \n",
       " 13  1.0e+05  0.0005 (0.0003)   0.0007 (0.0000)  0.0096 (0.0015)   \n",
       " 14  1.0e+06  0.0005 (0.0003)   0.0007 (0.0000)  0.0096 (0.0015)   \n",
       " \n",
       "          $\\sigma_2$    $\\gamma_{12}$    $\\gamma_{21}$       Accuracy 1  \\\n",
       " 0   0.0150 (0.0041)  0.0559 (0.0485)  0.1318 (0.0483)  0.8593 (0.1799)   \n",
       " 1   0.0151 (0.0041)  0.0529 (0.0456)  0.1258 (0.0460)  0.8607 (0.1799)   \n",
       " 2   0.0151 (0.0041)  0.0465 (0.0402)  0.1124 (0.0384)  0.8615 (0.1803)   \n",
       " 3   0.0150 (0.0042)  0.0363 (0.0308)  0.0903 (0.0359)  0.8626 (0.1796)   \n",
       " 4   0.0149 (0.0045)  0.0223 (0.0206)  0.0591 (0.0259)  0.8741 (0.1753)   \n",
       " 5   0.0149 (0.0045)  0.0115 (0.0104)  0.0328 (0.0155)  0.8860 (0.1707)   \n",
       " 6   0.0152 (0.0039)  0.0039 (0.0025)  0.0217 (0.0181)  0.9513 (0.0828)   \n",
       " 7   0.0155 (0.0035)  0.0020 (0.0012)  0.0128 (0.0118)  0.9695 (0.0474)   \n",
       " 8   0.0168 (0.0013)  0.0010 (0.0009)  0.0087 (0.0066)  0.9767 (0.0535)   \n",
       " 9   0.0145 (0.0000)  0.0000 (0.0000)  0.0000 (0.0000)  0.9688 (0.1740)   \n",
       " 10  0.0145 (0.0000)  0.0000 (0.0000)  0.0000 (0.0000)  0.9688 (0.1740)   \n",
       " 11  0.0145 (0.0000)  0.0000 (0.0000)  0.0000 (0.0000)  0.9688 (0.1740)   \n",
       " 12  0.0145 (0.0000)  0.0000 (0.0000)  0.0000 (0.0000)  0.9688 (0.1740)   \n",
       " 13  0.0145 (0.0000)  0.0000 (0.0000)  0.0000 (0.0000)  0.9688 (0.1740)   \n",
       " 14  0.0145 (0.0000)  0.0000 (0.0000)  0.0000 (0.0000)  0.9688 (0.1740)   \n",
       " \n",
       "          Accuracy 2              BAC          ROC-AUC  \n",
       " 0   0.7851 (0.1787)  0.8222 (0.1408)  0.8510 (0.1236)  \n",
       " 1   0.7830 (0.1761)  0.8219 (0.1399)  0.8507 (0.1226)  \n",
       " 2   0.7830 (0.1775)  0.8223 (0.1409)  0.8514 (0.1234)  \n",
       " 3   0.7915 (0.1779)  0.8270 (0.1411)  0.8559 (0.1238)  \n",
       " 4   0.7703 (0.2253)  0.8222 (0.1777)  0.8516 (0.1622)  \n",
       " 5   0.8263 (0.1842)  0.8562 (0.1420)  0.8862 (0.1220)  \n",
       " 6   0.8969 (0.0874)  0.9241 (0.0590)  0.9357 (0.0470)  \n",
       " 7   0.8781 (0.1908)  0.9238 (0.1083)  0.9293 (0.1048)  \n",
       " 8   0.7112 (0.3086)  0.8440 (0.1501)  0.8418 (0.1477)  \n",
       " 9   0.0370 (0.1889)  0.5029 (0.0000)  0.5000 (0.0000)  \n",
       " 10  0.0370 (0.1889)  0.5029 (0.0000)  0.5000 (0.0000)  \n",
       " 11  0.0370 (0.1889)  0.5029 (0.0000)  0.5000 (0.0000)  \n",
       " 12  0.0370 (0.1889)  0.5029 (0.0000)  0.5000 (0.0000)  \n",
       " 13  0.0370 (0.1889)  0.5029 (0.0000)  0.5000 (0.0000)  \n",
       " 14  0.0370 (0.1889)  0.5029 (0.0000)  0.5000 (0.0000)  )"
      ]
     },
     "execution_count": 63,
     "metadata": {},
     "output_type": "execute_result"
    }
   ],
   "source": [
    "score_and_summary_model(\"2StateDaily1000_zheng_discrete\", path_data, path_estimation, path_score, param_grid=param_grid)"
   ]
  },
  {
   "cell_type": "code",
   "execution_count": null,
   "id": "833c483e-ccb0-41d7-aef7-c9aea3135807",
   "metadata": {},
   "outputs": [],
   "source": []
  },
  {
   "cell_type": "code",
   "execution_count": null,
   "id": "1890db63-dd94-47ac-8df2-e35bf1c61c06",
   "metadata": {},
   "outputs": [],
   "source": []
  },
  {
   "cell_type": "code",
   "execution_count": 21,
   "id": "14640252-6e2f-483a-8e7f-9da1a25b851a",
   "metadata": {
    "tags": []
   },
   "outputs": [
    {
     "ename": "IndentationError",
     "evalue": "expected an indented block after 'for' statement on line 3 (2049455646.py, line 4)",
     "output_type": "error",
     "traceback": [
      "\u001b[0;36m  Cell \u001b[0;32mIn[21], line 4\u001b[0;36m\u001b[0m\n\u001b[0;31m    def raise_scalar_to_list(x):\u001b[0m\n\u001b[0m    ^\u001b[0m\n\u001b[0;31mIndentationError\u001b[0m\u001b[0;31m:\u001b[0m expected an indented block after 'for' statement on line 3\n"
     ]
    }
   ],
   "source": [
    "def combine_means_std_df(means_df, stds_df, param_grid = None):\n",
    "    index, columns = means_df.index, means_df.columns\n",
    "    df = pd.DataFrame(index=index, columns=columns)\n",
    "    for idx, col in product(index, columns):\n",
    "        df.loc[idx, col] = f\"{means_df.loc[idx, col]:.4f} ({stds_df.loc[idx, col]:.4f})\"\n",
    "    if param_grid is not None:\n",
    "        df.insert(0, \"params\", param_grid)\n",
    "    return df"
   ]
  }
 ],
 "metadata": {
  "kernelspec": {
   "display_name": "Python 3 (ipykernel)",
   "language": "python",
   "name": "python3"
  },
  "language_info": {
   "codemirror_mode": {
    "name": "ipython",
    "version": 3
   },
   "file_extension": ".py",
   "mimetype": "text/x-python",
   "name": "python",
   "nbconvert_exporter": "python",
   "pygments_lexer": "ipython3",
   "version": "3.10.9"
  }
 },
 "nbformat": 4,
 "nbformat_minor": 5
}
