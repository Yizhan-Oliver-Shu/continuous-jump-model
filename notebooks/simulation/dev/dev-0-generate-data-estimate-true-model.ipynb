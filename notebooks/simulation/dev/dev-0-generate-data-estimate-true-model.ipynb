{
 "cells": [
  {
   "cell_type": "code",
   "execution_count": 1,
   "id": "3b82d6ed-1bca-46eb-81e3-91c70bf7c5fb",
   "metadata": {
    "tags": []
   },
   "outputs": [],
   "source": [
    "%load_ext autoreload\n",
    "%autoreload 2\n",
    "import sys, os\n",
    "from os.path import expanduser\n",
    "## actions required!!!!!!!!!!!!!!!!!!!! change your folder path \n",
    "path_repo = expanduser(\"~/Documents/G3_2/regime-identification\"); sys.path.append(path_repo)\n",
    "path_file = expanduser(\"~/data/G3_2/regime-identification/simulation\")\n",
    "path = {}\n",
    "for folder in [\"data\", \"estimation\", \"score\", \"figure\", \"table-latex\"]:\n",
    "    path[folder] = f\"{path_file}/{folder}\""
   ]
  },
  {
   "cell_type": "code",
   "execution_count": 2,
   "id": "46d65ded-9cd0-429b-9568-e7b0d5fb6746",
   "metadata": {
    "tags": []
   },
   "outputs": [],
   "source": [
    "import numpy as np\n",
    "\n",
    "from numpy.random import RandomState\n",
    "random_state = RandomState(0)"
   ]
  },
  {
   "cell_type": "code",
   "execution_count": 3,
   "id": "7d7f863c-1c14-48bc-be92-13c96d4302cd",
   "metadata": {
    "tags": []
   },
   "outputs": [],
   "source": [
    "from regime.simulation_helper import *"
   ]
  },
  {
   "cell_type": "markdown",
   "id": "41a70b13-94fc-4b44-a66e-bac479db887f",
   "metadata": {
    "tags": []
   },
   "source": [
    "# 0-generate-data-estimate-true-model\n",
    "\n",
    "In this notebook we systematically generate the simulation data, and estimate the labels and probability by the true HMM model."
   ]
  },
  {
   "cell_type": "markdown",
   "id": "74cd5a64-8018-4c23-8165-a14d2f5be227",
   "metadata": {},
   "source": [
    "# 2-state models: 9 combinations\n",
    "\n",
    "- scale: We use the parameters estimated in the classical Hardy's paper, and convert into three scales: **daily, weekly, monthly**, with decreasing persistency.\n",
    "- length: We simulate seqs of different length: 250, 500, 1000.\n",
    "\n",
    "For each combo, we simulate `n_t=1024` seqs. The data in each combo are saved in a batch, thus in the shape of `(n_t, n_s, n_f)`. Also since we need to do feature engineering, every seq is 20 periods longer at both the beginning and the end."
   ]
  },
  {
   "cell_type": "markdown",
   "id": "37c6028f-9843-49a9-9a3d-127767f0de58",
   "metadata": {},
   "source": [
    "## data generation & true model estimation"
   ]
  },
  {
   "cell_type": "code",
   "execution_count": 4,
   "id": "1a5fcf73-d489-4219-be4d-79496bd5a60d",
   "metadata": {
    "tags": []
   },
   "outputs": [],
   "source": [
    "n_s_lst = [250, 500, 1000]\n",
    "n_t, n_buffer = 1024, 20"
   ]
  },
  {
   "cell_type": "code",
   "execution_count": 25,
   "id": "efc3ce16-4d00-46a2-90fe-b15c9589547a",
   "metadata": {
    "tags": []
   },
   "outputs": [],
   "source": [
    "# ##########################################\n",
    "# ## save helpers\n",
    "# ##########################################\n",
    "\n",
    "# def generate_file_name(path, folder, key_data, name, key_len, key_feat=None, key_model=None, job_id=None):\n",
    "#     file_name = f\"{path[folder]}/{key_data}/{name}_{key_len}\"\n",
    "#     if key_feat is None:\n",
    "#         return file_name\n",
    "#     file_name += f\"_{key_feat}\"\n",
    "#     if key_model is None:\n",
    "#         return file_name\n",
    "#     file_name += f\"_{key_model}\"\n",
    "#     if job_id is None:\n",
    "#         return file_name\n",
    "#     return file_name + f\"_{job_id}\"\n",
    "\n",
    "\n",
    "# def np_save_print(file_name, arr, arr_name=\"arr\"):\n",
    "#     \"\"\"\n",
    "#     save one file and print its shape. If the folder doesn't exist, creat one.\n",
    "#     \"\"\"\n",
    "#     dirname = os.path.dirname(file_name)\n",
    "#     if not os.path.exists(dirname):\n",
    "#         os.makedirs(dirname)\n",
    "#     np.save(file_name, arr)\n",
    "#     print(f\"shape of the saved {arr_name}: {arr.shape}.\")\n",
    "#     return\n",
    "\n",
    "# def save_arr(arr, path, folder, key_data, name, key_len, key_feat=None, key_model=None, job_id=None):\n",
    "#     \"\"\"\n",
    "#     save an arr\n",
    "#     \"\"\"\n",
    "#     file_name = generate_file_name(path, folder, key_data, name, key_len, key_feat, key_model, job_id)\n",
    "#     np_save_print(file_name, arr, name)\n",
    "#     return\n",
    "    \n",
    "# def save_arr_dict(arr_dict, path, folder, key_data, key_len, key_feat=None, key_model=None, job_id=None):\n",
    "#     \"\"\"\n",
    "#     save a dict of arrs.\n",
    "#     \"\"\"\n",
    "#     for name, arr in arr_dict.items():\n",
    "#         save_arr(arr, path, folder, key_data, name, key_len, key_feat, key_model, job_id)"
   ]
  },
  {
   "cell_type": "code",
   "execution_count": null,
   "id": "54683d4e-614d-41a8-8022-cc2abf398f3e",
   "metadata": {},
   "outputs": [],
   "source": [
    "# def sample_from_model(model, n_t, n_s):\n",
    "#     \"\"\"\n",
    "#     generate a batch of sequences from a model, by calling the `sample` method of the model instance.\n",
    "#     \"\"\"\n",
    "#     XZ_list = [model.sample(n_samples=n_s) for _ in range(n_t)] #(X:(n_s, n_f), Z:(n_s,))\n",
    "#     return np.array([XZ[0] for XZ in XZ_list]), np.array([XZ[1] for XZ in XZ_list]) # Xs: (n_t, n_s, n_f), Zs: (n_t, n_s)\n",
    "    \n",
    "# def simulate_data_estimate_true_model(model, len_list, n_t, n_b, fit_true_model=True, key_data=None, path=None):\n",
    "#     if isinstance(model, dict):\n",
    "#         for key_data_, model_ in model.items():\n",
    "#             simulate_data_estimate_true_model(model_, len_list, n_t, n_b, fit_true_model, key_data_, path)\n",
    "#         return \n",
    "#     # model is a model instance\n",
    "#     for n_s in len_list:\n",
    "#         Xs, Zs = sample_from_model(model, n_t, n_s+2*n_b)\n",
    "#         save_arr(Xs, path, \"data\", key_data, \"Xs\", n_s, \"raw\")\n",
    "#         Xs, Zs = Xs[:, n_b:-n_b], Zs[:, n_b:-n_b]\n",
    "#         save_arr(Xs, path, \"data\", key_data, \"Xs\", n_s, \"HMM\")\n",
    "#         save_arr(Zs, path, \"data\", key_data, \"Zs\", n_s)      \n",
    "#         if fit_true_model:\n",
    "#             model_params_arr, labels_arr, proba_arr = model_true_fit_batch(model, Xs)\n",
    "#             save_arr_dict({\"modelParams\": model_params_arr,\n",
    "#                           \"labels\": labels_arr,\n",
    "#                           \"proba\": proba_arr}, \n",
    "#                           path, \"estimation\", key_data, n_s, \"HMM\", \"true\", 0,)"
   ]
  },
  {
   "cell_type": "code",
   "execution_count": 5,
   "id": "93968279-f090-4c2f-8b22-ec78e700ceaf",
   "metadata": {
    "tags": []
   },
   "outputs": [],
   "source": [
    "DGP_dict = {'2StateDaily': get_GaussianHMM_model(*load_hardy_params(\"daily\"))}"
   ]
  },
  {
   "cell_type": "code",
   "execution_count": 6,
   "id": "cf45487c-ab5c-4d40-bcfc-65164edd0654",
   "metadata": {
    "tags": []
   },
   "outputs": [
    {
     "name": "stderr",
     "output_type": "stream",
     "text": [
      "  0%|                                                                                                                                                                                                                                                     | 0/1 [00:00<?, ?it/s]"
     ]
    },
    {
     "name": "stdout",
     "output_type": "stream",
     "text": [
      "shape of the saved Xs: (1024, 290, 1).\n",
      "shape of the saved Xs: (1024, 250, 1).\n",
      "shape of the saved Zs: (1024, 250).\n",
      "shape of the saved modelParams: (1024, 6).\n",
      "shape of the saved labels: (1024, 250).\n",
      "shape of the saved proba: (1024, 250, 2).\n",
      "shape of the saved Xs: (1024, 540, 1).\n",
      "shape of the saved Xs: (1024, 500, 1).\n",
      "shape of the saved Zs: (1024, 500).\n",
      "shape of the saved modelParams: (1024, 6).\n",
      "shape of the saved labels: (1024, 500).\n",
      "shape of the saved proba: (1024, 500, 2).\n",
      "shape of the saved Xs: (1024, 1040, 1).\n",
      "shape of the saved Xs: (1024, 1000, 1).\n",
      "shape of the saved Zs: (1024, 1000).\n"
     ]
    },
    {
     "name": "stderr",
     "output_type": "stream",
     "text": [
      "100%|█████████████████████████████████████████████████████████████████████████████████████████████████████████████████████████████████████████████████████████████████████████████████████████████████████████████████████████████████████████████| 1/1 [00:55<00:00, 55.28s/it]"
     ]
    },
    {
     "name": "stdout",
     "output_type": "stream",
     "text": [
      "shape of the saved modelParams: (1024, 6).\n",
      "shape of the saved labels: (1024, 1000).\n",
      "shape of the saved proba: (1024, 1000, 2).\n"
     ]
    },
    {
     "name": "stderr",
     "output_type": "stream",
     "text": [
      "\n"
     ]
    }
   ],
   "source": [
    "simulate_data_estimate_true_model(DGP_dict, n_s_lst, n_t, n_buffer, True, path=path)"
   ]
  },
  {
   "cell_type": "code",
   "execution_count": null,
   "id": "8900d517-be82-441e-9159-11b4963b1d92",
   "metadata": {},
   "outputs": [],
   "source": []
  },
  {
   "cell_type": "code",
   "execution_count": null,
   "id": "e7253c8c-ab1a-4f67-b212-0f88f7050c64",
   "metadata": {},
   "outputs": [],
   "source": []
  },
  {
   "cell_type": "code",
   "execution_count": null,
   "id": "54bdb402-0dc7-461f-b0ad-708254aa1e0d",
   "metadata": {},
   "outputs": [],
   "source": []
  },
  {
   "cell_type": "code",
   "execution_count": null,
   "id": "f804d4eb-7bba-453f-aa17-3094fed65076",
   "metadata": {},
   "outputs": [],
   "source": []
  },
  {
   "cell_type": "code",
   "execution_count": null,
   "id": "9a19572c-1972-4192-b108-4f9b746282e5",
   "metadata": {},
   "outputs": [],
   "source": []
  },
  {
   "cell_type": "code",
   "execution_count": null,
   "id": "fca0a555-0b24-4271-87fc-7ee756f505cc",
   "metadata": {},
   "outputs": [],
   "source": []
  },
  {
   "cell_type": "code",
   "execution_count": null,
   "id": "c1d3426d-897b-4368-b84b-6ead86482f6d",
   "metadata": {},
   "outputs": [],
   "source": []
  },
  {
   "cell_type": "code",
   "execution_count": 5,
   "id": "0fbb3b41-4dbb-468e-ad59-b5a3137cb6f7",
   "metadata": {
    "tags": []
   },
   "outputs": [
    {
     "name": "stderr",
     "output_type": "stream",
     "text": [
      "100%|███████████████████████████████████████████████████████████████████████████████████████████████████████████████████████████████████████████| 1024/1024 [00:08<00:00, 115.66it/s]\n"
     ]
    },
    {
     "name": "stdout",
     "output_type": "stream",
     "text": [
      "shape of the saved Xs raw: (1024, 290, 1).\n",
      "shape of the saved Xs: (1024, 250, 1).\n",
      "shape of the saved Zs: (1024, 250).\n",
      "shape of the saved model params: (1024, 6).\n",
      "shape of the saved labels: (1024, 250).\n",
      "shape of the saved proba: (1024, 250, 2).\n"
     ]
    },
    {
     "name": "stderr",
     "output_type": "stream",
     "text": [
      "100%|████████████████████████████████████████████████████████████████████████████████████████████████████████████████████████████████████████████| 1024/1024 [00:16<00:00, 62.21it/s]\n"
     ]
    },
    {
     "name": "stdout",
     "output_type": "stream",
     "text": [
      "shape of the saved Xs raw: (1024, 540, 1).\n",
      "shape of the saved Xs: (1024, 500, 1).\n",
      "shape of the saved Zs: (1024, 500).\n",
      "shape of the saved model params: (1024, 6).\n",
      "shape of the saved labels: (1024, 500).\n",
      "shape of the saved proba: (1024, 500, 2).\n"
     ]
    },
    {
     "name": "stderr",
     "output_type": "stream",
     "text": [
      "100%|████████████████████████████████████████████████████████████████████████████████████████████████████████████████████████████████████████████| 1024/1024 [00:31<00:00, 32.42it/s]\n"
     ]
    },
    {
     "name": "stdout",
     "output_type": "stream",
     "text": [
      "shape of the saved Xs raw: (1024, 1040, 1).\n",
      "shape of the saved Xs: (1024, 1000, 1).\n",
      "shape of the saved Zs: (1024, 1000).\n",
      "shape of the saved model params: (1024, 6).\n",
      "shape of the saved labels: (1024, 1000).\n",
      "shape of the saved proba: (1024, 1000, 2).\n"
     ]
    },
    {
     "name": "stderr",
     "output_type": "stream",
     "text": [
      "100%|███████████████████████████████████████████████████████████████████████████████████████████████████████████████████████████████████████████| 1024/1024 [00:08<00:00, 116.38it/s]\n"
     ]
    },
    {
     "name": "stdout",
     "output_type": "stream",
     "text": [
      "shape of the saved Xs raw: (1024, 290, 1).\n",
      "shape of the saved Xs: (1024, 250, 1).\n",
      "shape of the saved Zs: (1024, 250).\n",
      "shape of the saved model params: (1024, 6).\n",
      "shape of the saved labels: (1024, 250).\n",
      "shape of the saved proba: (1024, 250, 2).\n"
     ]
    },
    {
     "name": "stderr",
     "output_type": "stream",
     "text": [
      "100%|████████████████████████████████████████████████████████████████████████████████████████████████████████████████████████████████████████████| 1024/1024 [00:16<00:00, 60.91it/s]\n"
     ]
    },
    {
     "name": "stdout",
     "output_type": "stream",
     "text": [
      "shape of the saved Xs raw: (1024, 540, 1).\n",
      "shape of the saved Xs: (1024, 500, 1).\n",
      "shape of the saved Zs: (1024, 500).\n",
      "shape of the saved model params: (1024, 6).\n",
      "shape of the saved labels: (1024, 500).\n",
      "shape of the saved proba: (1024, 500, 2).\n"
     ]
    },
    {
     "name": "stderr",
     "output_type": "stream",
     "text": [
      "100%|████████████████████████████████████████████████████████████████████████████████████████████████████████████████████████████████████████████| 1024/1024 [00:32<00:00, 31.90it/s]\n"
     ]
    },
    {
     "name": "stdout",
     "output_type": "stream",
     "text": [
      "shape of the saved Xs raw: (1024, 1040, 1).\n",
      "shape of the saved Xs: (1024, 1000, 1).\n",
      "shape of the saved Zs: (1024, 1000).\n",
      "shape of the saved model params: (1024, 6).\n",
      "shape of the saved labels: (1024, 1000).\n",
      "shape of the saved proba: (1024, 1000, 2).\n"
     ]
    },
    {
     "name": "stderr",
     "output_type": "stream",
     "text": [
      "100%|███████████████████████████████████████████████████████████████████████████████████████████████████████████████████████████████████████████| 1024/1024 [00:08<00:00, 116.30it/s]\n"
     ]
    },
    {
     "name": "stdout",
     "output_type": "stream",
     "text": [
      "shape of the saved Xs raw: (1024, 290, 1).\n",
      "shape of the saved Xs: (1024, 250, 1).\n",
      "shape of the saved Zs: (1024, 250).\n",
      "shape of the saved model params: (1024, 6).\n",
      "shape of the saved labels: (1024, 250).\n",
      "shape of the saved proba: (1024, 250, 2).\n"
     ]
    },
    {
     "name": "stderr",
     "output_type": "stream",
     "text": [
      "100%|████████████████████████████████████████████████████████████████████████████████████████████████████████████████████████████████████████████| 1024/1024 [00:16<00:00, 61.93it/s]\n"
     ]
    },
    {
     "name": "stdout",
     "output_type": "stream",
     "text": [
      "shape of the saved Xs raw: (1024, 540, 1).\n",
      "shape of the saved Xs: (1024, 500, 1).\n",
      "shape of the saved Zs: (1024, 500).\n",
      "shape of the saved model params: (1024, 6).\n",
      "shape of the saved labels: (1024, 500).\n",
      "shape of the saved proba: (1024, 500, 2).\n"
     ]
    },
    {
     "name": "stderr",
     "output_type": "stream",
     "text": [
      "100%|████████████████████████████████████████████████████████████████████████████████████████████████████████████████████████████████████████████| 1024/1024 [00:31<00:00, 32.34it/s]\n"
     ]
    },
    {
     "name": "stdout",
     "output_type": "stream",
     "text": [
      "shape of the saved Xs raw: (1024, 1040, 1).\n",
      "shape of the saved Xs: (1024, 1000, 1).\n",
      "shape of the saved Zs: (1024, 1000).\n",
      "shape of the saved model params: (1024, 6).\n",
      "shape of the saved labels: (1024, 1000).\n",
      "shape of the saved proba: (1024, 1000, 2).\n"
     ]
    }
   ],
   "source": [
    "simulate_and_estimate_true_GaussianHMM_model_hardy(2, n_s_lst, n_t, n_buffer, path_data, path_estimation, random_state)"
   ]
  },
  {
   "cell_type": "code",
   "execution_count": 6,
   "id": "d3755011-06d5-4b62-92df-a3592965c81a",
   "metadata": {
    "tags": []
   },
   "outputs": [],
   "source": [
    "# simulate_and_estimate_true_GaussianHMM_model(3, n_s_lst, n_t, n_buffer, path_data, path_estimation, random_state)"
   ]
  }
 ],
 "metadata": {
  "kernelspec": {
   "display_name": "Python 3 (ipykernel)",
   "language": "python",
   "name": "python3"
  },
  "language_info": {
   "codemirror_mode": {
    "name": "ipython",
    "version": 3
   },
   "file_extension": ".py",
   "mimetype": "text/x-python",
   "name": "python",
   "nbconvert_exporter": "python",
   "pygments_lexer": "ipython3",
   "version": "3.10.9"
  },
  "toc-autonumbering": true
 },
 "nbformat": 4,
 "nbformat_minor": 5
}
