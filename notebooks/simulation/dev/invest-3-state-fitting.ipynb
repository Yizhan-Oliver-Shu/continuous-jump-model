{
 "cells": [
  {
   "cell_type": "code",
   "execution_count": 1,
   "id": "19a1b38c-aed3-4acd-b881-e643132a93e1",
   "metadata": {
    "tags": []
   },
   "outputs": [],
   "source": [
    "%load_ext autoreload\n",
    "%autoreload 2\n",
    "import sys, os\n",
    "from os.path import expanduser\n",
    "## actions required!!!!!!!!!!!!!!!!!!!! change your folder path \n",
    "path_repo = expanduser(\"~/Documents/G3_2/regime-identification\"); sys.path.append(path_repo)\n",
    "path_file = expanduser(\"~/data/G3_2/regime-identification/simulation\")\n",
    "path = {}\n",
    "for folder in [\"data\", \"estimation\"]:\n",
    "    path[folder] = f\"{path_file}/{folder}\""
   ]
  },
  {
   "cell_type": "code",
   "execution_count": 2,
   "id": "d7e03fe5-2e16-4da6-b5f9-b7274305c365",
   "metadata": {
    "tags": []
   },
   "outputs": [],
   "source": [
    "from regime.simulation_helper import *\n",
    "from regime.jump import *"
   ]
  },
  {
   "cell_type": "code",
   "execution_count": 3,
   "id": "5e4cf05a-5b1e-4d03-baa2-3eb3e1cc3d95",
   "metadata": {
    "tags": []
   },
   "outputs": [],
   "source": [
    "key_data = \"3-state-daily\"\n",
    "n_s = 2000\n",
    "key_feat = \"HMM\"\n",
    "key_model = \"HMM10init\""
   ]
  },
  {
   "cell_type": "code",
   "execution_count": 4,
   "id": "26e73493-27bf-40ca-8568-36c919bf3199",
   "metadata": {
    "tags": []
   },
   "outputs": [
    {
     "data": {
      "text/plain": [
       "(1024, 2000)"
      ]
     },
     "execution_count": 4,
     "metadata": {},
     "output_type": "execute_result"
    }
   ],
   "source": [
    "Zs = load_file(path, \"data\", key_data, \"Zs\", n_s)\n",
    "Zs.shape"
   ]
  },
  {
   "cell_type": "code",
   "execution_count": 5,
   "id": "3b34f82d-4e2c-454e-a556-ea30e141f509",
   "metadata": {
    "tags": []
   },
   "outputs": [
    {
     "data": {
      "text/plain": [
       "(32, 2000, 3)"
      ]
     },
     "execution_count": 5,
     "metadata": {},
     "output_type": "execute_result"
    }
   ],
   "source": [
    "proba_ = load_arr_distributed(path, \"estimation\", key_data, \"proba\", n_s, key_feat, key_model, 1, 32)\n",
    "proba_.shape"
   ]
  },
  {
   "cell_type": "code",
   "execution_count": 6,
   "id": "dacd37c1-5864-4a74-bfe2-80a9d621de4c",
   "metadata": {
    "tags": []
   },
   "outputs": [
    {
     "data": {
      "text/plain": [
       "(32, 2000)"
      ]
     },
     "execution_count": 6,
     "metadata": {},
     "output_type": "execute_result"
    }
   ],
   "source": [
    "labels_ = load_arr_distributed(path, \"estimation\", key_data, \"labels\", n_s, key_feat, key_model, 1, 32)\n",
    "labels_.shape"
   ]
  },
  {
   "cell_type": "code",
   "execution_count": 7,
   "id": "87c82ce6-e135-4d7c-b46d-b0c5984f56e3",
   "metadata": {
    "tags": []
   },
   "outputs": [
    {
     "data": {
      "text/plain": [
       "array([0.827 , 0.9055, 0.9115, 0.6865, 0.9725, 0.966 , 0.9455, 0.5245,\n",
       "       0.871 , 0.8425, 0.926 , 0.9525, 0.9025, 0.8575, 0.9455, 0.766 ,\n",
       "       0.9055, 0.9495, 0.939 , 0.9535, 0.8325, 0.8025, 0.94  , 0.9845,\n",
       "       0.8165, 0.9275, 0.97  , 0.9   , 0.951 , 0.96  , 0.979 , 0.93  ])"
      ]
     },
     "execution_count": 7,
     "metadata": {},
     "output_type": "execute_result"
    }
   ],
   "source": [
    "scorer_batch(accuracy_score, Zs[:32], labels_)"
   ]
  },
  {
   "cell_type": "code",
   "execution_count": 18,
   "id": "22ce1cae-9f36-40a2-aea8-e17dcade5e09",
   "metadata": {
    "tags": []
   },
   "outputs": [
    {
     "data": {
      "text/plain": [
       "(32, 2000, 3)"
      ]
     },
     "execution_count": 18,
     "metadata": {},
     "output_type": "execute_result"
    }
   ],
   "source": [
    "proba_.shape"
   ]
  },
  {
   "cell_type": "code",
   "execution_count": 8,
   "id": "13c62947-35f6-4938-9b8b-aa9461f42e61",
   "metadata": {
    "tags": []
   },
   "outputs": [],
   "source": [
    "labels_new = proba_.argmax(axis=-1)"
   ]
  },
  {
   "cell_type": "code",
   "execution_count": 9,
   "id": "15a5eaa9-c4d4-450e-83a6-a1a8870e7e71",
   "metadata": {
    "tags": []
   },
   "outputs": [
    {
     "data": {
      "text/plain": [
       "array([0.949 , 0.9365, 0.9235, 0.686 , 0.965 , 0.9735, 0.9365, 0.5065,\n",
       "       0.871 , 0.87  , 0.933 , 0.952 , 0.9745, 0.8465, 0.9445, 0.773 ,\n",
       "       0.902 , 0.9445, 0.9435, 0.956 , 0.8385, 0.7975, 0.934 , 0.988 ,\n",
       "       0.8115, 0.9075, 0.9705, 0.924 , 0.95  , 0.963 , 0.978 , 0.9295])"
      ]
     },
     "execution_count": 9,
     "metadata": {},
     "output_type": "execute_result"
    }
   ],
   "source": [
    "scorer_batch(accuracy_score, Zs[:32], labels_new)"
   ]
  },
  {
   "cell_type": "code",
   "execution_count": 25,
   "id": "624f0108-87b3-464e-bb22-7ae4d3d75689",
   "metadata": {
    "tags": []
   },
   "outputs": [
    {
     "data": {
      "text/plain": [
       "array([0, 0, 0, ..., 1, 1, 1], dtype=int32)"
      ]
     },
     "execution_count": 25,
     "metadata": {},
     "output_type": "execute_result"
    }
   ],
   "source": [
    "labels_[2]"
   ]
  },
  {
   "cell_type": "code",
   "execution_count": 26,
   "id": "4f2ab347-bc92-48a4-9536-7897f520ed40",
   "metadata": {
    "tags": []
   },
   "outputs": [
    {
     "data": {
      "text/plain": [
       "array([2, 2, 2, ..., 0, 0, 0])"
      ]
     },
     "execution_count": 26,
     "metadata": {},
     "output_type": "execute_result"
    }
   ],
   "source": [
    "labels_new[2]"
   ]
  },
  {
   "cell_type": "code",
   "execution_count": 24,
   "id": "d23bd748-3c36-4fcb-a851-5d3c5ed12337",
   "metadata": {
    "tags": []
   },
   "outputs": [
    {
     "data": {
      "text/plain": [
       "array([[0.00000000e+00, 0.00000000e+00, 1.00000000e+00],\n",
       "       [1.35558647e-04, 2.17438961e-05, 9.99842697e-01],\n",
       "       [3.01925104e-04, 5.00791650e-05, 9.99647996e-01],\n",
       "       ...,\n",
       "       [9.58117640e-01, 3.45582285e-02, 7.32413192e-03],\n",
       "       [9.49076033e-01, 4.36123471e-02, 7.31161970e-03],\n",
       "       [9.43168438e-01, 4.69036872e-02, 9.92787502e-03]])"
      ]
     },
     "execution_count": 24,
     "metadata": {},
     "output_type": "execute_result"
    }
   ],
   "source": [
    "proba_[2]"
   ]
  },
  {
   "cell_type": "code",
   "execution_count": null,
   "id": "f889cb8d-0875-4ce8-b8bb-08d17860c1b4",
   "metadata": {},
   "outputs": [],
   "source": []
  },
  {
   "cell_type": "code",
   "execution_count": 33,
   "id": "31067e6c-9cd5-4450-a06d-0065f212f095",
   "metadata": {
    "tags": []
   },
   "outputs": [],
   "source": [
    "from numpy.random import RandomState\n",
    "random_state = RandomState(0)\n",
    "model = GaussianHMM_model(3, n_init=10, init='k-means++', random_state=random_state, n_iter = 500, tol = 1e-4, min_covar=1e-6, covars_prior=1e-6,\n",
    "                                    transmat_prior = 1.+1e-5)#"
   ]
  },
  {
   "cell_type": "code",
   "execution_count": 36,
   "id": "bf329ed5-94e5-41c9-b687-fd51e21cab01",
   "metadata": {
    "tags": []
   },
   "outputs": [],
   "source": [
    "Xs = load_file(path, \"data\", key_data, \"Xs\", n_s, \"HMM\")\n",
    "X = Xs[2]"
   ]
  },
  {
   "cell_type": "code",
   "execution_count": 37,
   "id": "f384ef7e-6a10-40b6-bb46-57659afa2fe1",
   "metadata": {
    "tags": []
   },
   "outputs": [
    {
     "data": {
      "text/html": [
       "<style>#sk-container-id-1 {color: black;background-color: white;}#sk-container-id-1 pre{padding: 0;}#sk-container-id-1 div.sk-toggleable {background-color: white;}#sk-container-id-1 label.sk-toggleable__label {cursor: pointer;display: block;width: 100%;margin-bottom: 0;padding: 0.3em;box-sizing: border-box;text-align: center;}#sk-container-id-1 label.sk-toggleable__label-arrow:before {content: \"▸\";float: left;margin-right: 0.25em;color: #696969;}#sk-container-id-1 label.sk-toggleable__label-arrow:hover:before {color: black;}#sk-container-id-1 div.sk-estimator:hover label.sk-toggleable__label-arrow:before {color: black;}#sk-container-id-1 div.sk-toggleable__content {max-height: 0;max-width: 0;overflow: hidden;text-align: left;background-color: #f0f8ff;}#sk-container-id-1 div.sk-toggleable__content pre {margin: 0.2em;color: black;border-radius: 0.25em;background-color: #f0f8ff;}#sk-container-id-1 input.sk-toggleable__control:checked~div.sk-toggleable__content {max-height: 200px;max-width: 100%;overflow: auto;}#sk-container-id-1 input.sk-toggleable__control:checked~label.sk-toggleable__label-arrow:before {content: \"▾\";}#sk-container-id-1 div.sk-estimator input.sk-toggleable__control:checked~label.sk-toggleable__label {background-color: #d4ebff;}#sk-container-id-1 div.sk-label input.sk-toggleable__control:checked~label.sk-toggleable__label {background-color: #d4ebff;}#sk-container-id-1 input.sk-hidden--visually {border: 0;clip: rect(1px 1px 1px 1px);clip: rect(1px, 1px, 1px, 1px);height: 1px;margin: -1px;overflow: hidden;padding: 0;position: absolute;width: 1px;}#sk-container-id-1 div.sk-estimator {font-family: monospace;background-color: #f0f8ff;border: 1px dotted black;border-radius: 0.25em;box-sizing: border-box;margin-bottom: 0.5em;}#sk-container-id-1 div.sk-estimator:hover {background-color: #d4ebff;}#sk-container-id-1 div.sk-parallel-item::after {content: \"\";width: 100%;border-bottom: 1px solid gray;flex-grow: 1;}#sk-container-id-1 div.sk-label:hover label.sk-toggleable__label {background-color: #d4ebff;}#sk-container-id-1 div.sk-serial::before {content: \"\";position: absolute;border-left: 1px solid gray;box-sizing: border-box;top: 0;bottom: 0;left: 50%;z-index: 0;}#sk-container-id-1 div.sk-serial {display: flex;flex-direction: column;align-items: center;background-color: white;padding-right: 0.2em;padding-left: 0.2em;position: relative;}#sk-container-id-1 div.sk-item {position: relative;z-index: 1;}#sk-container-id-1 div.sk-parallel {display: flex;align-items: stretch;justify-content: center;background-color: white;position: relative;}#sk-container-id-1 div.sk-item::before, #sk-container-id-1 div.sk-parallel-item::before {content: \"\";position: absolute;border-left: 1px solid gray;box-sizing: border-box;top: 0;bottom: 0;left: 50%;z-index: -1;}#sk-container-id-1 div.sk-parallel-item {display: flex;flex-direction: column;z-index: 1;position: relative;background-color: white;}#sk-container-id-1 div.sk-parallel-item:first-child::after {align-self: flex-end;width: 50%;}#sk-container-id-1 div.sk-parallel-item:last-child::after {align-self: flex-start;width: 50%;}#sk-container-id-1 div.sk-parallel-item:only-child::after {width: 0;}#sk-container-id-1 div.sk-dashed-wrapped {border: 1px dashed gray;margin: 0 0.4em 0.5em 0.4em;box-sizing: border-box;padding-bottom: 0.4em;background-color: white;}#sk-container-id-1 div.sk-label label {font-family: monospace;font-weight: bold;display: inline-block;line-height: 1.2em;}#sk-container-id-1 div.sk-label-container {text-align: center;}#sk-container-id-1 div.sk-container {/* jupyter's `normalize.less` sets `[hidden] { display: none; }` but bootstrap.min.css set `[hidden] { display: none !important; }` so we also need the `!important` here to be able to override the default hidden behavior on the sphinx rendered scikit-learn.org. See: https://github.com/scikit-learn/scikit-learn/issues/21755 */display: inline-block !important;position: relative;}#sk-container-id-1 div.sk-text-repr-fallback {display: none;}</style><div id=\"sk-container-id-1\" class=\"sk-top-container\"><div class=\"sk-text-repr-fallback\"><pre>GaussianHMM_model(n_components=3,\n",
       "                  random_state=RandomState(MT19937) at 0x13F843D40)</pre><b>In a Jupyter environment, please rerun this cell to show the HTML representation or trust the notebook. <br />On GitHub, the HTML representation is unable to render, please try loading this page with nbviewer.org.</b></div><div class=\"sk-container\" hidden><div class=\"sk-item\"><div class=\"sk-estimator sk-toggleable\"><input class=\"sk-toggleable__control sk-hidden--visually\" id=\"sk-estimator-id-1\" type=\"checkbox\" checked><label for=\"sk-estimator-id-1\" class=\"sk-toggleable__label sk-toggleable__label-arrow\">GaussianHMM_model</label><div class=\"sk-toggleable__content\"><pre>GaussianHMM_model(n_components=3,\n",
       "                  random_state=RandomState(MT19937) at 0x13F843D40)</pre></div></div></div></div></div>"
      ],
      "text/plain": [
       "GaussianHMM_model(n_components=3,\n",
       "                  random_state=RandomState(MT19937) at 0x13F843D40)"
      ]
     },
     "execution_count": 37,
     "metadata": {},
     "output_type": "execute_result"
    }
   ],
   "source": [
    "model.fit(X)"
   ]
  },
  {
   "cell_type": "code",
   "execution_count": 39,
   "id": "9978750d-abbe-4f7f-aa3a-dc21df3ec45a",
   "metadata": {
    "tags": []
   },
   "outputs": [
    {
     "data": {
      "text/plain": [
       "array([1, 1, 1, ..., 2, 2, 2], dtype=int32)"
      ]
     },
     "execution_count": 39,
     "metadata": {},
     "output_type": "execute_result"
    }
   ],
   "source": [
    "model.labels_"
   ]
  },
  {
   "cell_type": "code",
   "execution_count": 40,
   "id": "68aa1e3f-0ffc-4f5b-9908-4c02f726e215",
   "metadata": {
    "tags": []
   },
   "outputs": [
    {
     "data": {
      "text/plain": [
       "array([[3.02915422e-257, 1.00000000e+000, 8.51082384e-240],\n",
       "       [2.17363477e-005, 9.99842573e-001, 1.35690518e-004],\n",
       "       [5.00615115e-005, 9.99647720e-001, 3.02218462e-004],\n",
       "       ...,\n",
       "       [3.45417301e-002, 7.32874607e-003, 9.58129524e-001],\n",
       "       [4.35904219e-002, 7.31622917e-003, 9.49093349e-001],\n",
       "       [4.68803496e-002, 9.93422257e-003, 9.43185428e-001]])"
      ]
     },
     "execution_count": 40,
     "metadata": {},
     "output_type": "execute_result"
    }
   ],
   "source": [
    "model.proba_"
   ]
  },
  {
   "cell_type": "code",
   "execution_count": 41,
   "id": "ee09a494-a2fd-410c-b22e-4a63002d5dd7",
   "metadata": {
    "tags": []
   },
   "outputs": [],
   "source": [
    "labels_ = model.labels_\n",
    "proba_ = model.proba_"
   ]
  },
  {
   "cell_type": "code",
   "execution_count": 42,
   "id": "b390e5fb-073b-4de6-baa6-69a488e28c32",
   "metadata": {
    "tags": []
   },
   "outputs": [
    {
     "data": {
      "text/plain": [
       "array([1, 1, 1, ..., 2, 2, 2], dtype=int32)"
      ]
     },
     "execution_count": 42,
     "metadata": {},
     "output_type": "execute_result"
    }
   ],
   "source": [
    "labels_"
   ]
  },
  {
   "cell_type": "code",
   "execution_count": 43,
   "id": "9175141c-897a-4738-8f4a-8c3c11b5557f",
   "metadata": {
    "tags": []
   },
   "outputs": [
    {
     "data": {
      "text/plain": [
       "array([[3.02915422e-257, 1.00000000e+000, 8.51082384e-240],\n",
       "       [2.17363477e-005, 9.99842573e-001, 1.35690518e-004],\n",
       "       [5.00615115e-005, 9.99647720e-001, 3.02218462e-004],\n",
       "       ...,\n",
       "       [3.45417301e-002, 7.32874607e-003, 9.58129524e-001],\n",
       "       [4.35904219e-002, 7.31622917e-003, 9.49093349e-001],\n",
       "       [4.68803496e-002, 9.93422257e-003, 9.43185428e-001]])"
      ]
     },
     "execution_count": 43,
     "metadata": {},
     "output_type": "execute_result"
    }
   ],
   "source": [
    "proba_"
   ]
  },
  {
   "cell_type": "code",
   "execution_count": 45,
   "id": "be82ea2d-e92d-440c-a344-a4b85191f8b9",
   "metadata": {
    "tags": []
   },
   "outputs": [],
   "source": [
    "Z=Zs[2]"
   ]
  },
  {
   "cell_type": "code",
   "execution_count": 47,
   "id": "bea71217-3dd4-4efe-9dbd-f3e3ed76a92b",
   "metadata": {
    "tags": []
   },
   "outputs": [],
   "source": [
    "res= align_estimation_results_batch(Z[np.newaxis, ...], {\"labels_\": labels_[np.newaxis, ...], \"proba_\": proba_[np.newaxis, ...]})"
   ]
  },
  {
   "cell_type": "code",
   "execution_count": 70,
   "id": "3b307985-6211-40ad-8336-25e12e8c9e9d",
   "metadata": {
    "tags": []
   },
   "outputs": [],
   "source": [
    "def generate_all_perms_as_arr(n_c):\n",
    "    return np.array(list(permutations(range(n_c))))\n",
    "\n",
    "def permute_labels(labels_arr, all_perms):\n",
    "    \"\"\"\n",
    "    return the labels under every permutation. new axis to the last\n",
    "    \"\"\"\n",
    "    n_c = len(all_perms[0])\n",
    "    labels_all_perms = np.zeros(labels_arr.shape + (len(all_perms),), dtype=np.int32)\n",
    "    labels_all_perms[..., 0] = labels_arr\n",
    "    for i_perm, perm in enumerate(all_perms[1:]):\n",
    "        labels_permuted = labels_all_perms[..., i_perm+1]\n",
    "        for i_cluster in range(n_c): # permute\n",
    "            labels_permuted[labels_arr==perm[i_cluster]] = i_cluster# labels_permuted[labels_==i]\n",
    "    return labels_all_perms\n",
    "\n",
    "\n",
    "def align_estimation_results_batch(Zs_true, res):\n",
    "    \"\"\"\n",
    "    align a batch of estimation results with the true labels, i.e. find the optimal permutation for each sample.\n",
    "    results include labels_, proba_, means_, covars_, transmat_.\n",
    "    \"\"\"\n",
    "    n_c, n_t = len(np.unique(Zs_true)), len(Zs_true)\n",
    "    # all the perms\n",
    "    all_perms = generate_all_perms_as_arr(n_c) \n",
    "    # all the possible perms of labels\n",
    "    labels_all_perms = permute_labels(res[\"labels_\"], all_perms)\n",
    "    # score accuracy for each perm\n",
    "    acc_all_perms = scorer_batch(accuracy_score, Zs_true, labels_all_perms, has_params=True) # of shape (n_t, n_p)\n",
    "    # best perm for each trial \n",
    "    best_perm_idx = acc_all_perms.argmax(-1) # shape (n_t,)\n",
    "    best_perm = all_perms[best_perm_idx] # (n_t, n_c)\n",
    "    # take the corresponding perm for labels\n",
    "    res[\"labels_\"] = np.take_along_axis(labels_all_perms, best_perm_idx[:, np.newaxis, np.newaxis], axis=-1).squeeze(axis=-1)\n",
    "    res[\"proba_\"] = np.take_along_axis(res[\"proba_\"], best_perm[:, np.newaxis, :], -1)\n",
    "    # res[\"means_\"] = np.take_along_axis(res[\"means_\"], best_perm, -1)\n",
    "    # res[\"covars_\"] = np.take_along_axis(res[\"covars_\"], best_perm, -1)\n",
    "    # res[\"transmat_\"] = np.take_along_axis(res[\"transmat_\"][np.arange(n_t)[:, np.newaxis], best_perm], best_perm[:, np.newaxis, :], -1)\n",
    "    return res"
   ]
  },
  {
   "cell_type": "code",
   "execution_count": 71,
   "id": "4107bab2-949c-451f-bc92-555f856d7da4",
   "metadata": {
    "tags": []
   },
   "outputs": [],
   "source": [
    "Zs_true=Z[np.newaxis, ...]\n",
    "res={\"labels_\": labels_[np.newaxis, ...], \"proba_\": proba_[np.newaxis, ...]}"
   ]
  },
  {
   "cell_type": "code",
   "execution_count": 72,
   "id": "3397104b-be5d-44ee-aad7-ab0c552f6fc0",
   "metadata": {
    "tags": []
   },
   "outputs": [],
   "source": [
    "res = align_estimation_results_batch(Zs_true, res)"
   ]
  },
  {
   "cell_type": "code",
   "execution_count": 73,
   "id": "c91c6297-571f-4966-b7e8-6e6f3aef1126",
   "metadata": {
    "tags": []
   },
   "outputs": [
    {
     "data": {
      "text/plain": [
       "array([[0, 0, 0, ..., 1, 1, 1]], dtype=int32)"
      ]
     },
     "execution_count": 73,
     "metadata": {},
     "output_type": "execute_result"
    }
   ],
   "source": [
    "res['labels_']"
   ]
  },
  {
   "cell_type": "code",
   "execution_count": 74,
   "id": "d9ebf158-1ac5-4204-b730-ed6baa0df675",
   "metadata": {
    "tags": []
   },
   "outputs": [
    {
     "data": {
      "text/plain": [
       "array([[[1.00000000e+000, 8.51082384e-240, 3.02915422e-257],\n",
       "        [9.99842573e-001, 1.35690518e-004, 2.17363477e-005],\n",
       "        [9.99647720e-001, 3.02218462e-004, 5.00615115e-005],\n",
       "        ...,\n",
       "        [7.32874607e-003, 9.58129524e-001, 3.45417301e-002],\n",
       "        [7.31622917e-003, 9.49093349e-001, 4.35904219e-002],\n",
       "        [9.93422257e-003, 9.43185428e-001, 4.68803496e-002]]])"
      ]
     },
     "execution_count": 74,
     "metadata": {},
     "output_type": "execute_result"
    }
   ],
   "source": [
    "res['proba_']"
   ]
  },
  {
   "cell_type": "code",
   "execution_count": null,
   "id": "4063d987-7bf8-4126-9355-20d2d4631e2f",
   "metadata": {},
   "outputs": [],
   "source": []
  },
  {
   "cell_type": "code",
   "execution_count": null,
   "id": "5717faf3-b7a6-4610-83da-c64a42c1d1da",
   "metadata": {},
   "outputs": [],
   "source": []
  },
  {
   "cell_type": "code",
   "execution_count": null,
   "id": "836bb077-ff43-44cc-ab14-5e59ebe91c65",
   "metadata": {},
   "outputs": [],
   "source": []
  },
  {
   "cell_type": "code",
   "execution_count": 52,
   "id": "1601df73-ac89-41bd-b0b2-2626686f63eb",
   "metadata": {
    "tags": []
   },
   "outputs": [],
   "source": [
    "n_c, n_t = len(np.unique(Zs_true)), len(Zs_true)\n",
    "# all the perms\n",
    "all_perms = generate_all_perms_as_arr(n_c) \n",
    "# all the possible perms of labels\n",
    "labels_all_perms = permute_labels(res[\"labels_\"], all_perms)\n",
    "# score accuracy for each perm\n",
    "acc_all_perms = scorer_batch(accuracy_score, Zs_true, labels_all_perms, has_params=True) # of shape (n_t, n_p)\n",
    "# best perm for each trial \n",
    "best_perm_idx = acc_all_perms.argmax(-1) # shape (n_t,)\n",
    "best_perm = all_perms[best_perm_idx]"
   ]
  },
  {
   "cell_type": "code",
   "execution_count": 65,
   "id": "5198fb89-d0e1-4996-8592-da3b169ad6a5",
   "metadata": {
    "tags": []
   },
   "outputs": [],
   "source": [
    "labels_new = np.take_along_axis(labels_all_perms, best_perm_idx[:, np.newaxis, np.newaxis], axis=-1).squeeze(axis=-1)\n",
    "proba_new = np.take_along_axis(res[\"proba_\"], best_perm[:, np.newaxis, :], -1)"
   ]
  },
  {
   "cell_type": "code",
   "execution_count": null,
   "id": "370a1cd3-66eb-4320-8929-60dbee416cd0",
   "metadata": {},
   "outputs": [],
   "source": []
  },
  {
   "cell_type": "code",
   "execution_count": null,
   "id": "8aa46f6b-62c1-48b4-8670-51d7cc92de36",
   "metadata": {},
   "outputs": [],
   "source": []
  },
  {
   "cell_type": "code",
   "execution_count": null,
   "id": "6c7a0f5a-c6e2-486c-8cb4-9140fb4dd2b6",
   "metadata": {},
   "outputs": [],
   "source": []
  },
  {
   "cell_type": "code",
   "execution_count": 62,
   "id": "98b34ef2-8328-4a2e-b2f3-318cd8e6fd1f",
   "metadata": {
    "tags": []
   },
   "outputs": [
    {
     "data": {
      "text/plain": [
       "array([[0.045 , 0.298 , 0.4175, 0.0435, 0.9115, 0.2845]])"
      ]
     },
     "execution_count": 62,
     "metadata": {},
     "output_type": "execute_result"
    }
   ],
   "source": [
    "acc_all_perms"
   ]
  },
  {
   "cell_type": "code",
   "execution_count": 63,
   "id": "28aef03a-04a2-4aad-851b-17388cb1a4d0",
   "metadata": {
    "tags": []
   },
   "outputs": [
    {
     "data": {
      "text/plain": [
       "array([4])"
      ]
     },
     "execution_count": 63,
     "metadata": {},
     "output_type": "execute_result"
    }
   ],
   "source": [
    "best_perm_idx"
   ]
  },
  {
   "cell_type": "code",
   "execution_count": 64,
   "id": "90708ab0-2530-453b-9e30-a4f6c7f18b4e",
   "metadata": {
    "tags": []
   },
   "outputs": [
    {
     "data": {
      "text/plain": [
       "array([[2, 0, 1]])"
      ]
     },
     "execution_count": 64,
     "metadata": {},
     "output_type": "execute_result"
    }
   ],
   "source": [
    "best_perm"
   ]
  },
  {
   "cell_type": "code",
   "execution_count": 55,
   "id": "f29f12e7-0b0f-49f7-ad6d-7030667f4c29",
   "metadata": {
    "tags": []
   },
   "outputs": [
    {
     "data": {
      "text/plain": [
       "(1, 2000)"
      ]
     },
     "execution_count": 55,
     "metadata": {},
     "output_type": "execute_result"
    }
   ],
   "source": [
    "res['labels_'].shape"
   ]
  },
  {
   "cell_type": "code",
   "execution_count": 58,
   "id": "a2649bd0-6e5c-4f55-8bf8-b519de17473e",
   "metadata": {
    "tags": []
   },
   "outputs": [
    {
     "data": {
      "text/plain": [
       "array([1, 1, 1, ..., 2, 2, 2], dtype=int32)"
      ]
     },
     "execution_count": 58,
     "metadata": {},
     "output_type": "execute_result"
    }
   ],
   "source": [
    "labels_"
   ]
  },
  {
   "cell_type": "code",
   "execution_count": 66,
   "id": "fc500971-f80f-4b3a-9de6-4fa576bbfb30",
   "metadata": {
    "tags": []
   },
   "outputs": [
    {
     "data": {
      "text/plain": [
       "array([[0, 0, 0, ..., 1, 1, 1]], dtype=int32)"
      ]
     },
     "execution_count": 66,
     "metadata": {},
     "output_type": "execute_result"
    }
   ],
   "source": [
    "labels_new"
   ]
  },
  {
   "cell_type": "code",
   "execution_count": 67,
   "id": "a14ce19f-72a1-4c71-9d96-41e91150bfa1",
   "metadata": {
    "tags": []
   },
   "outputs": [
    {
     "data": {
      "text/plain": [
       "array([[3.02915422e-257, 1.00000000e+000, 8.51082384e-240],\n",
       "       [2.17363477e-005, 9.99842573e-001, 1.35690518e-004],\n",
       "       [5.00615115e-005, 9.99647720e-001, 3.02218462e-004],\n",
       "       ...,\n",
       "       [3.45417301e-002, 7.32874607e-003, 9.58129524e-001],\n",
       "       [4.35904219e-002, 7.31622917e-003, 9.49093349e-001],\n",
       "       [4.68803496e-002, 9.93422257e-003, 9.43185428e-001]])"
      ]
     },
     "execution_count": 67,
     "metadata": {},
     "output_type": "execute_result"
    }
   ],
   "source": [
    "proba_"
   ]
  },
  {
   "cell_type": "code",
   "execution_count": 68,
   "id": "75ecd346-4b83-4e8f-a7ca-82eacecb176e",
   "metadata": {
    "tags": []
   },
   "outputs": [
    {
     "data": {
      "text/plain": [
       "array([[[8.51082384e-240, 3.02915422e-257, 1.00000000e+000],\n",
       "        [1.35690518e-004, 2.17363477e-005, 9.99842573e-001],\n",
       "        [3.02218462e-004, 5.00615115e-005, 9.99647720e-001],\n",
       "        ...,\n",
       "        [9.58129524e-001, 3.45417301e-002, 7.32874607e-003],\n",
       "        [9.49093349e-001, 4.35904219e-002, 7.31622917e-003],\n",
       "        [9.43185428e-001, 4.68803496e-002, 9.93422257e-003]]])"
      ]
     },
     "execution_count": 68,
     "metadata": {},
     "output_type": "execute_result"
    }
   ],
   "source": [
    "proba_new"
   ]
  },
  {
   "cell_type": "code",
   "execution_count": 60,
   "id": "ee370a8c-8d74-4c8b-a9e6-ebcdd8aa3432",
   "metadata": {
    "tags": []
   },
   "outputs": [
    {
     "data": {
      "text/plain": [
       "array([[0, 1, 2],\n",
       "       [0, 2, 1],\n",
       "       [1, 0, 2],\n",
       "       [1, 2, 0],\n",
       "       [2, 0, 1],\n",
       "       [2, 1, 0]])"
      ]
     },
     "execution_count": 60,
     "metadata": {},
     "output_type": "execute_result"
    }
   ],
   "source": [
    "all_perms"
   ]
  },
  {
   "cell_type": "code",
   "execution_count": null,
   "id": "7ff20ee9-cecd-419e-8821-56d9d48e0d39",
   "metadata": {},
   "outputs": [],
   "source": []
  },
  {
   "cell_type": "code",
   "execution_count": null,
   "id": "ee58d523-370a-4996-b52c-128daeb41bf6",
   "metadata": {},
   "outputs": [],
   "source": []
  },
  {
   "cell_type": "code",
   "execution_count": null,
   "id": "462b0891-7e9d-4aad-ad69-36bd457c0ac3",
   "metadata": {},
   "outputs": [],
   "source": []
  },
  {
   "cell_type": "code",
   "execution_count": 48,
   "id": "119dddae-fc23-45cc-8733-9a66328f3a4d",
   "metadata": {
    "tags": []
   },
   "outputs": [
    {
     "data": {
      "text/plain": [
       "array([[0, 0, 0, ..., 1, 1, 1]], dtype=int32)"
      ]
     },
     "execution_count": 48,
     "metadata": {},
     "output_type": "execute_result"
    }
   ],
   "source": [
    "res['labels_']"
   ]
  },
  {
   "cell_type": "code",
   "execution_count": 49,
   "id": "812319ad-5ae4-4aef-9495-d580a0a3a56d",
   "metadata": {
    "tags": []
   },
   "outputs": [
    {
     "data": {
      "text/plain": [
       "array([[[8.51082384e-240, 3.02915422e-257, 1.00000000e+000],\n",
       "        [1.35690518e-004, 2.17363477e-005, 9.99842573e-001],\n",
       "        [3.02218462e-004, 5.00615115e-005, 9.99647720e-001],\n",
       "        ...,\n",
       "        [9.58129524e-001, 3.45417301e-002, 7.32874607e-003],\n",
       "        [9.49093349e-001, 4.35904219e-002, 7.31622917e-003],\n",
       "        [9.43185428e-001, 4.68803496e-002, 9.93422257e-003]]])"
      ]
     },
     "execution_count": 49,
     "metadata": {},
     "output_type": "execute_result"
    }
   ],
   "source": [
    "res['proba_']"
   ]
  },
  {
   "cell_type": "code",
   "execution_count": null,
   "id": "41358006-630c-4dae-89a5-20b0c99e00a1",
   "metadata": {},
   "outputs": [],
   "source": []
  },
  {
   "cell_type": "code",
   "execution_count": null,
   "id": "3cd3b057-15de-4037-9e5d-475babe35cf2",
   "metadata": {},
   "outputs": [],
   "source": []
  }
 ],
 "metadata": {
  "kernelspec": {
   "display_name": "Python 3 (ipykernel)",
   "language": "python",
   "name": "python3"
  },
  "language_info": {
   "codemirror_mode": {
    "name": "ipython",
    "version": 3
   },
   "file_extension": ".py",
   "mimetype": "text/x-python",
   "name": "python",
   "nbconvert_exporter": "python",
   "pygments_lexer": "ipython3",
   "version": "3.10.9"
  }
 },
 "nbformat": 4,
 "nbformat_minor": 5
}
