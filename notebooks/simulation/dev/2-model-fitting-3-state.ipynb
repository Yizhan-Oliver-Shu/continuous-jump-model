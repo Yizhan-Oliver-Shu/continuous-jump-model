{
 "cells": [
  {
   "cell_type": "code",
   "execution_count": 1,
   "id": "fbe842e2-0687-4e9b-a81a-e7d0a47e361e",
   "metadata": {
    "tags": []
   },
   "outputs": [],
   "source": [
    "%load_ext autoreload\n",
    "%autoreload 2\n",
    "import sys, os\n",
    "from os.path import expanduser\n",
    "## actions required!!!!!!!!!!!!!!!!!!!! change your folder path \n",
    "path_repo = expanduser(\"~/Documents/G3_2/regime-identification\"); sys.path.append(path_repo)\n",
    "path_file = expanduser(\"~/data/G3_2/regime-identification/simulation\")\n",
    "path = {}\n",
    "for folder in [\"data\", \"estimation\", \"score\", \"figure\", \"latex\"]:\n",
    "    path[folder] = f\"{path_file}/{folder}\"\n",
    "\n",
    "job_id = 0 #int(os.environ[\"SLURM_ARRAY_TASK_ID\"])"
   ]
  },
  {
   "cell_type": "code",
   "execution_count": 2,
   "id": "f45688e6-f7af-441e-a9cb-f00e49b23df2",
   "metadata": {
    "tags": []
   },
   "outputs": [],
   "source": [
    "from numpy.random import RandomState"
   ]
  },
  {
   "cell_type": "code",
   "execution_count": 3,
   "id": "02027bcb-20cb-4909-9a94-0752435057f6",
   "metadata": {
    "tags": []
   },
   "outputs": [],
   "source": [
    "from regime.jump import *\n",
    "from regime.simulation_helper import *"
   ]
  },
  {
   "cell_type": "markdown",
   "id": "89a05196-15be-43b3-a61b-84b9f733f856",
   "metadata": {
    "tags": []
   },
   "source": [
    "# 3-model-fitting\n",
    "\n",
    "In this notebook we fit the models on the datasets."
   ]
  },
  {
   "cell_type": "code",
   "execution_count": 4,
   "id": "473811b7-df26-4184-898c-9f954e30edd2",
   "metadata": {
    "tags": []
   },
   "outputs": [],
   "source": [
    "n_t, n_buffer = 1024, 20\n",
    "n_c = 3\n",
    "batch_size = 32"
   ]
  },
  {
   "cell_type": "markdown",
   "id": "29ba2511-ab95-4a91-bea6-2f8bfc174da6",
   "metadata": {},
   "source": [
    "# True HMM model"
   ]
  },
  {
   "cell_type": "code",
   "execution_count": null,
   "id": "5d858688-1f6a-4b2a-891f-d94358be5a9d",
   "metadata": {},
   "outputs": [],
   "source": [
    "for scale in tqdm([\"daily\", \"weekly\", \"monthly\"]):\n",
    "    key_data_list_true = [f\"{n_c}-state-{scale}\", f\"t-5-{scale}\"]\n",
    "    model_dict_true = {\"true\": Viterbi_wrapper(*load_hardy_params(scale, n_c))}\n",
    "    model_fit_many_datas_models(key_data_list_true, \"HMM\", model_dict_true, None, path, job_id, batch_size, align=False)"
   ]
  },
  {
   "cell_type": "code",
   "execution_count": null,
   "id": "5bf7a854-7ca0-4455-a16d-a2cfd31fe6ee",
   "metadata": {},
   "outputs": [],
   "source": []
  },
  {
   "cell_type": "code",
   "execution_count": null,
   "id": "a109b4e0-860f-49c9-891d-66fb106c219e",
   "metadata": {},
   "outputs": [],
   "source": []
  },
  {
   "cell_type": "code",
   "execution_count": null,
   "id": "02ccc54f-2cb8-44c7-a24c-5035efbfdf6e",
   "metadata": {},
   "outputs": [],
   "source": []
  },
  {
   "cell_type": "code",
   "execution_count": null,
   "id": "9d6dd611-3ab5-40b6-b47d-15f3e61e2bcb",
   "metadata": {},
   "outputs": [],
   "source": []
  },
  {
   "cell_type": "code",
   "execution_count": 5,
   "id": "a8dec29b-6f87-447a-a036-8b9b553e0a61",
   "metadata": {
    "tags": []
   },
   "outputs": [],
   "source": [
    "n_c = 3\n",
    "model_hmm_10init = GaussianHMM_model(n_c, n_init=10, init='k-means++', random_state=random_state, n_iter = 300, tol = 1e-4,)\n",
    "model_hmm_1init = GaussianHMM_model(n_c, n_init=1, init='k-means', random_state=random_state, n_iter = 300, tol = 1e-4,)\n",
    "model_dict_hmm = {\"HMM10init\": model_hmm_10init, \"HMM1init\": model_hmm_1init, }"
   ]
  },
  {
   "cell_type": "code",
   "execution_count": 6,
   "id": "7b550385-58f4-4a0b-9f8a-828ae1fc9e26",
   "metadata": {
    "tags": []
   },
   "outputs": [],
   "source": [
    "key_feat_hmm = \"HMM\"\n",
    "param_grid_hmm = None"
   ]
  },
  {
   "cell_type": "code",
   "execution_count": 10,
   "id": "3e676da5-1048-40b2-a178-1ba0c4046bf8",
   "metadata": {
    "tags": []
   },
   "outputs": [
    {
     "name": "stdout",
     "output_type": "stream",
     "text": [
      "1/12 combo starts.\n"
     ]
    },
    {
     "name": "stderr",
     "output_type": "stream",
     "text": [
      "/Users/yizhan/mambaforge/envs/regime-gurobi/lib/python3.10/site-packages/hmmlearn/hmm.py:274: RuntimeWarning: invalid value encountered in divide\n",
      "  self.means_ = ((means_weight * means_prior + stats['obs'])\n"
     ]
    },
    {
     "ename": "ValueError",
     "evalue": "array must not contain infs or NaNs",
     "output_type": "error",
     "traceback": [
      "\u001b[0;31m---------------------------------------------------------------------------\u001b[0m",
      "\u001b[0;31mValueError\u001b[0m                                Traceback (most recent call last)",
      "Cell \u001b[0;32mIn[10], line 1\u001b[0m\n\u001b[0;32m----> 1\u001b[0m \u001b[43mmodel_fit_many_datas_models\u001b[49m\u001b[43m(\u001b[49m\u001b[43mkey_data_list_dict\u001b[49m\u001b[43m[\u001b[49m\u001b[43mn_c\u001b[49m\u001b[43m]\u001b[49m\u001b[43m,\u001b[49m\u001b[43m \u001b[49m\u001b[43m[\u001b[49m\u001b[43mkey_feat_hmm\u001b[49m\u001b[43m]\u001b[49m\u001b[43m,\u001b[49m\u001b[43m \u001b[49m\u001b[43mmodel_dict_hmm\u001b[49m\u001b[43m,\u001b[49m\u001b[43m \u001b[49m\u001b[43mparam_grid_hmm\u001b[49m\u001b[43m,\u001b[49m\u001b[43m \u001b[49m\u001b[43mpath_data\u001b[49m\u001b[43m,\u001b[49m\u001b[43m \u001b[49m\u001b[43mpath_estimation\u001b[49m\u001b[43m,\u001b[49m\u001b[43m \u001b[49m\u001b[43mjob_id\u001b[49m\u001b[43m,\u001b[49m\u001b[43m \u001b[49m\u001b[43mbatch_size\u001b[49m\u001b[43m)\u001b[49m\n",
      "File \u001b[0;32m~/Documents/G3_2/regime-identification/regime/simulation_helper.py:432\u001b[0m, in \u001b[0;36mmodel_fit_many_datas_models\u001b[0;34m(key_data_list, key_feat_list, model_dict, param_grid, path_data, path_estimation, job_id, batch_size)\u001b[0m\n\u001b[1;32m    430\u001b[0m count\u001b[38;5;241m+\u001b[39m\u001b[38;5;241m=\u001b[39m\u001b[38;5;241m1\u001b[39m; \u001b[38;5;28mprint\u001b[39m(\u001b[38;5;124mf\u001b[39m\u001b[38;5;124m\"\u001b[39m\u001b[38;5;132;01m{\u001b[39;00mcount\u001b[38;5;132;01m}\u001b[39;00m\u001b[38;5;124m/\u001b[39m\u001b[38;5;132;01m{\u001b[39;00mN_combos\u001b[38;5;132;01m}\u001b[39;00m\u001b[38;5;124m combo starts.\u001b[39m\u001b[38;5;124m\"\u001b[39m)\n\u001b[1;32m    431\u001b[0m \u001b[38;5;66;03m# train the model, on a param grid, on a batch of data\u001b[39;00m\n\u001b[0;32m--> 432\u001b[0m model_params_arr, labels_arr, proba_arr \u001b[38;5;241m=\u001b[39m \u001b[43mmodel_fit_batch_with_params\u001b[49m\u001b[43m(\u001b[49m\u001b[43mmodel\u001b[49m\u001b[43m,\u001b[49m\u001b[43m \u001b[49m\u001b[43mXs\u001b[49m\u001b[43m,\u001b[49m\u001b[43m \u001b[49m\u001b[43mZs\u001b[49m\u001b[43m,\u001b[49m\u001b[43m \u001b[49m\u001b[43mparam_grid\u001b[49m\u001b[43m)\u001b[49m\n\u001b[1;32m    433\u001b[0m \u001b[38;5;66;03m# save results\u001b[39;00m\n\u001b[1;32m    434\u001b[0m save_estimation_results(model_params_arr, labels_arr, proba_arr, path_estimation, key_data, key_feat, key_model, job_id)\n",
      "File \u001b[0;32m~/Documents/G3_2/regime-identification/regime/simulation_helper.py:405\u001b[0m, in \u001b[0;36mmodel_fit_batch_with_params\u001b[0;34m(model, Xs, Zs, param_grid)\u001b[0m\n\u001b[1;32m    377\u001b[0m \u001b[38;5;250m\u001b[39m\u001b[38;5;124;03m\"\"\"\u001b[39;00m\n\u001b[1;32m    378\u001b[0m \u001b[38;5;124;03mfit a model on a batch of data. save model parameters, and fitted labels & proba.\u001b[39;00m\n\u001b[1;32m    379\u001b[0m \u001b[38;5;124;03mthe model can have a param_grid for hyperparam tuning.\u001b[39;00m\n\u001b[0;32m   (...)\u001b[0m\n\u001b[1;32m    402\u001b[0m \u001b[38;5;124;03mproba_arr: array of size (n_t, n_s, n_c, n_l)\u001b[39;00m\n\u001b[1;32m    403\u001b[0m \u001b[38;5;124;03m\"\"\"\u001b[39;00m\n\u001b[1;32m    404\u001b[0m \u001b[38;5;28;01mif\u001b[39;00m param_grid \u001b[38;5;129;01mis\u001b[39;00m \u001b[38;5;28;01mNone\u001b[39;00m: \u001b[38;5;66;03m# no hyperparams\u001b[39;00m\n\u001b[0;32m--> 405\u001b[0m     \u001b[38;5;28;01mreturn\u001b[39;00m \u001b[43mmodel_fit_batch\u001b[49m\u001b[43m(\u001b[49m\u001b[43mmodel\u001b[49m\u001b[43m,\u001b[49m\u001b[43m \u001b[49m\u001b[43mXs\u001b[49m\u001b[43m,\u001b[49m\u001b[43m \u001b[49m\u001b[43mZs\u001b[49m\u001b[43m)\u001b[49m\n\u001b[1;32m    407\u001b[0m PG \u001b[38;5;241m=\u001b[39m ParameterGrid(param_grid)\n\u001b[1;32m    408\u001b[0m model_params_arr_list, labels_arr_list, proba_arr_list \u001b[38;5;241m=\u001b[39m [], [], []\n",
      "File \u001b[0;32m~/Documents/G3_2/regime-identification/regime/simulation_helper.py:277\u001b[0m, in \u001b[0;36mmodel_fit_batch\u001b[0;34m(model, Xs, Zs)\u001b[0m\n\u001b[1;32m    275\u001b[0m X, Z \u001b[38;5;241m=\u001b[39m Xs[i_t], Zs[i_t]\n\u001b[1;32m    276\u001b[0m \u001b[38;5;66;03m# fit\u001b[39;00m\n\u001b[0;32m--> 277\u001b[0m \u001b[43mmodel\u001b[49m\u001b[38;5;241;43m.\u001b[39;49m\u001b[43mfit\u001b[49m\u001b[43m(\u001b[49m\u001b[43mX\u001b[49m\u001b[43m)\u001b[49m\n\u001b[1;32m    278\u001b[0m \u001b[38;5;66;03m# save dict result\u001b[39;00m\n\u001b[1;32m    279\u001b[0m res_list\u001b[38;5;241m.\u001b[39mappend(extract_results_from_model(model, X_\u001b[38;5;241m=\u001b[39mX[:, \u001b[38;5;241m0\u001b[39m]))\n",
      "File \u001b[0;32m~/Documents/G3_2/regime-identification/regime/jump.py:524\u001b[0m, in \u001b[0;36mGaussianHMM_model.fit\u001b[0;34m(self, X)\u001b[0m\n\u001b[1;32m    521\u001b[0m \u001b[38;5;66;03m# iter over all inits\u001b[39;00m\n\u001b[1;32m    522\u001b[0m \u001b[38;5;28;01mfor\u001b[39;00m i_i \u001b[38;5;129;01min\u001b[39;00m \u001b[38;5;28mrange\u001b[39m(n_init):\n\u001b[1;32m    523\u001b[0m     \u001b[38;5;66;03m# fit\u001b[39;00m\n\u001b[0;32m--> 524\u001b[0m     hmm_instance\u001b[38;5;241m.\u001b[39mmeans_ \u001b[38;5;241m=\u001b[39m init[i_i]; \u001b[43mhmm_instance\u001b[49m\u001b[38;5;241;43m.\u001b[39;49m\u001b[43mfit\u001b[49m\u001b[43m(\u001b[49m\u001b[43mX\u001b[49m\u001b[43m)\u001b[49m\n\u001b[1;32m    525\u001b[0m     \u001b[38;5;66;03m# score\u001b[39;00m\n\u001b[1;32m    526\u001b[0m     score \u001b[38;5;241m=\u001b[39m hmm_instance\u001b[38;5;241m.\u001b[39mscore(X)\n",
      "File \u001b[0;32m~/mambaforge/envs/regime-gurobi/lib/python3.10/site-packages/hmmlearn/base.py:511\u001b[0m, in \u001b[0;36mBaseHMM.fit\u001b[0;34m(self, X, lengths)\u001b[0m\n\u001b[1;32m    508\u001b[0m curr_log_prob \u001b[38;5;241m=\u001b[39m \u001b[38;5;241m0\u001b[39m\n\u001b[1;32m    509\u001b[0m \u001b[38;5;28;01mfor\u001b[39;00m sub_X \u001b[38;5;129;01min\u001b[39;00m _utils\u001b[38;5;241m.\u001b[39msplit_X_lengths(X, lengths):\n\u001b[1;32m    510\u001b[0m     lattice, log_prob, posteriors, fwdlattice, bwdlattice \u001b[38;5;241m=\u001b[39m \\\n\u001b[0;32m--> 511\u001b[0m             \u001b[43mimpl\u001b[49m\u001b[43m(\u001b[49m\u001b[43msub_X\u001b[49m\u001b[43m)\u001b[49m\n\u001b[1;32m    512\u001b[0m     \u001b[38;5;66;03m# Derived HMM classes will implement the following method to\u001b[39;00m\n\u001b[1;32m    513\u001b[0m     \u001b[38;5;66;03m# update their probability distributions, so keep\u001b[39;00m\n\u001b[1;32m    514\u001b[0m     \u001b[38;5;66;03m# a single call to this method for simplicity.\u001b[39;00m\n\u001b[1;32m    515\u001b[0m     \u001b[38;5;28mself\u001b[39m\u001b[38;5;241m.\u001b[39m_accumulate_sufficient_statistics(\n\u001b[1;32m    516\u001b[0m         stats, sub_X, lattice, posteriors, fwdlattice,\n\u001b[1;32m    517\u001b[0m         bwdlattice)\n",
      "File \u001b[0;32m~/mambaforge/envs/regime-gurobi/lib/python3.10/site-packages/hmmlearn/base.py:544\u001b[0m, in \u001b[0;36mBaseHMM._fit_log\u001b[0;34m(self, X)\u001b[0m\n\u001b[1;32m    543\u001b[0m \u001b[38;5;28;01mdef\u001b[39;00m \u001b[38;5;21m_fit_log\u001b[39m(\u001b[38;5;28mself\u001b[39m, X):\n\u001b[0;32m--> 544\u001b[0m     log_frameprob \u001b[38;5;241m=\u001b[39m \u001b[38;5;28;43mself\u001b[39;49m\u001b[38;5;241;43m.\u001b[39;49m\u001b[43m_compute_log_likelihood\u001b[49m\u001b[43m(\u001b[49m\u001b[43mX\u001b[49m\u001b[43m)\u001b[49m\n\u001b[1;32m    545\u001b[0m     log_prob, fwdlattice \u001b[38;5;241m=\u001b[39m _hmmc\u001b[38;5;241m.\u001b[39mforward_log(\n\u001b[1;32m    546\u001b[0m         \u001b[38;5;28mself\u001b[39m\u001b[38;5;241m.\u001b[39mstartprob_, \u001b[38;5;28mself\u001b[39m\u001b[38;5;241m.\u001b[39mtransmat_, log_frameprob)\n\u001b[1;32m    547\u001b[0m     bwdlattice \u001b[38;5;241m=\u001b[39m _hmmc\u001b[38;5;241m.\u001b[39mbackward_log(\n\u001b[1;32m    548\u001b[0m         \u001b[38;5;28mself\u001b[39m\u001b[38;5;241m.\u001b[39mstartprob_, \u001b[38;5;28mself\u001b[39m\u001b[38;5;241m.\u001b[39mtransmat_, log_frameprob)\n",
      "File \u001b[0;32m~/mambaforge/envs/regime-gurobi/lib/python3.10/site-packages/hmmlearn/hmm.py:227\u001b[0m, in \u001b[0;36mGaussianHMM._compute_log_likelihood\u001b[0;34m(self, X)\u001b[0m\n\u001b[1;32m    226\u001b[0m \u001b[38;5;28;01mdef\u001b[39;00m \u001b[38;5;21m_compute_log_likelihood\u001b[39m(\u001b[38;5;28mself\u001b[39m, X):\n\u001b[0;32m--> 227\u001b[0m     \u001b[38;5;28;01mreturn\u001b[39;00m \u001b[43mlog_multivariate_normal_density\u001b[49m\u001b[43m(\u001b[49m\n\u001b[1;32m    228\u001b[0m \u001b[43m        \u001b[49m\u001b[43mX\u001b[49m\u001b[43m,\u001b[49m\u001b[43m \u001b[49m\u001b[38;5;28;43mself\u001b[39;49m\u001b[38;5;241;43m.\u001b[39;49m\u001b[43mmeans_\u001b[49m\u001b[43m,\u001b[49m\u001b[43m \u001b[49m\u001b[38;5;28;43mself\u001b[39;49m\u001b[38;5;241;43m.\u001b[39;49m\u001b[43m_covars_\u001b[49m\u001b[43m,\u001b[49m\u001b[43m \u001b[49m\u001b[38;5;28;43mself\u001b[39;49m\u001b[38;5;241;43m.\u001b[39;49m\u001b[43mcovariance_type\u001b[49m\u001b[43m)\u001b[49m\n",
      "File \u001b[0;32m~/mambaforge/envs/regime-gurobi/lib/python3.10/site-packages/hmmlearn/stats.py:42\u001b[0m, in \u001b[0;36mlog_multivariate_normal_density\u001b[0;34m(X, means, covars, covariance_type)\u001b[0m\n\u001b[1;32m      6\u001b[0m \u001b[38;5;250m\u001b[39m\u001b[38;5;124;03m\"\"\"\u001b[39;00m\n\u001b[1;32m      7\u001b[0m \u001b[38;5;124;03mCompute the log probability under a multivariate Gaussian distribution.\u001b[39;00m\n\u001b[1;32m      8\u001b[0m \n\u001b[0;32m   (...)\u001b[0m\n\u001b[1;32m     35\u001b[0m \u001b[38;5;124;03m    X under each of the n_components multivariate Gaussian distributions.\u001b[39;00m\n\u001b[1;32m     36\u001b[0m \u001b[38;5;124;03m\"\"\"\u001b[39;00m\n\u001b[1;32m     37\u001b[0m log_multivariate_normal_density_dict \u001b[38;5;241m=\u001b[39m {\n\u001b[1;32m     38\u001b[0m     \u001b[38;5;124m'\u001b[39m\u001b[38;5;124mspherical\u001b[39m\u001b[38;5;124m'\u001b[39m: _log_multivariate_normal_density_spherical,\n\u001b[1;32m     39\u001b[0m     \u001b[38;5;124m'\u001b[39m\u001b[38;5;124mtied\u001b[39m\u001b[38;5;124m'\u001b[39m: _log_multivariate_normal_density_tied,\n\u001b[1;32m     40\u001b[0m     \u001b[38;5;124m'\u001b[39m\u001b[38;5;124mdiag\u001b[39m\u001b[38;5;124m'\u001b[39m: _log_multivariate_normal_density_diag,\n\u001b[1;32m     41\u001b[0m     \u001b[38;5;124m'\u001b[39m\u001b[38;5;124mfull\u001b[39m\u001b[38;5;124m'\u001b[39m: _log_multivariate_normal_density_full}\n\u001b[0;32m---> 42\u001b[0m \u001b[38;5;28;01mreturn\u001b[39;00m \u001b[43mlog_multivariate_normal_density_dict\u001b[49m\u001b[43m[\u001b[49m\u001b[43mcovariance_type\u001b[49m\u001b[43m]\u001b[49m\u001b[43m(\u001b[49m\n\u001b[1;32m     43\u001b[0m \u001b[43m    \u001b[49m\u001b[43mX\u001b[49m\u001b[43m,\u001b[49m\u001b[43m \u001b[49m\u001b[43mmeans\u001b[49m\u001b[43m,\u001b[49m\u001b[43m \u001b[49m\u001b[43mcovars\u001b[49m\n\u001b[1;32m     44\u001b[0m \u001b[43m\u001b[49m\u001b[43m)\u001b[49m\n",
      "File \u001b[0;32m~/mambaforge/envs/regime-gurobi/lib/python3.10/site-packages/hmmlearn/stats.py:81\u001b[0m, in \u001b[0;36m_log_multivariate_normal_density_full\u001b[0;34m(X, means, covars, min_covar)\u001b[0m\n\u001b[1;32m     79\u001b[0m \u001b[38;5;28;01mfor\u001b[39;00m c, (mu, cv) \u001b[38;5;129;01min\u001b[39;00m \u001b[38;5;28menumerate\u001b[39m(\u001b[38;5;28mzip\u001b[39m(means, covars)):\n\u001b[1;32m     80\u001b[0m     \u001b[38;5;28;01mtry\u001b[39;00m:\n\u001b[0;32m---> 81\u001b[0m         cv_chol \u001b[38;5;241m=\u001b[39m \u001b[43mlinalg\u001b[49m\u001b[38;5;241;43m.\u001b[39;49m\u001b[43mcholesky\u001b[49m\u001b[43m(\u001b[49m\u001b[43mcv\u001b[49m\u001b[43m,\u001b[49m\u001b[43m \u001b[49m\u001b[43mlower\u001b[49m\u001b[38;5;241;43m=\u001b[39;49m\u001b[38;5;28;43;01mTrue\u001b[39;49;00m\u001b[43m)\u001b[49m\n\u001b[1;32m     82\u001b[0m     \u001b[38;5;28;01mexcept\u001b[39;00m linalg\u001b[38;5;241m.\u001b[39mLinAlgError:\n\u001b[1;32m     83\u001b[0m         \u001b[38;5;66;03m# The model is most probably stuck in a component with too\u001b[39;00m\n\u001b[1;32m     84\u001b[0m         \u001b[38;5;66;03m# few observations, we need to reinitialize this components\u001b[39;00m\n\u001b[1;32m     85\u001b[0m         \u001b[38;5;28;01mtry\u001b[39;00m:\n",
      "File \u001b[0;32m~/mambaforge/envs/regime-gurobi/lib/python3.10/site-packages/scipy/linalg/_decomp_cholesky.py:89\u001b[0m, in \u001b[0;36mcholesky\u001b[0;34m(a, lower, overwrite_a, check_finite)\u001b[0m\n\u001b[1;32m     45\u001b[0m \u001b[38;5;28;01mdef\u001b[39;00m \u001b[38;5;21mcholesky\u001b[39m(a, lower\u001b[38;5;241m=\u001b[39m\u001b[38;5;28;01mFalse\u001b[39;00m, overwrite_a\u001b[38;5;241m=\u001b[39m\u001b[38;5;28;01mFalse\u001b[39;00m, check_finite\u001b[38;5;241m=\u001b[39m\u001b[38;5;28;01mTrue\u001b[39;00m):\n\u001b[1;32m     46\u001b[0m \u001b[38;5;250m    \u001b[39m\u001b[38;5;124;03m\"\"\"\u001b[39;00m\n\u001b[1;32m     47\u001b[0m \u001b[38;5;124;03m    Compute the Cholesky decomposition of a matrix.\u001b[39;00m\n\u001b[1;32m     48\u001b[0m \n\u001b[0;32m   (...)\u001b[0m\n\u001b[1;32m     87\u001b[0m \n\u001b[1;32m     88\u001b[0m \u001b[38;5;124;03m    \"\"\"\u001b[39;00m\n\u001b[0;32m---> 89\u001b[0m     c, lower \u001b[38;5;241m=\u001b[39m \u001b[43m_cholesky\u001b[49m\u001b[43m(\u001b[49m\u001b[43ma\u001b[49m\u001b[43m,\u001b[49m\u001b[43m \u001b[49m\u001b[43mlower\u001b[49m\u001b[38;5;241;43m=\u001b[39;49m\u001b[43mlower\u001b[49m\u001b[43m,\u001b[49m\u001b[43m \u001b[49m\u001b[43moverwrite_a\u001b[49m\u001b[38;5;241;43m=\u001b[39;49m\u001b[43moverwrite_a\u001b[49m\u001b[43m,\u001b[49m\u001b[43m \u001b[49m\u001b[43mclean\u001b[49m\u001b[38;5;241;43m=\u001b[39;49m\u001b[38;5;28;43;01mTrue\u001b[39;49;00m\u001b[43m,\u001b[49m\n\u001b[1;32m     90\u001b[0m \u001b[43m                         \u001b[49m\u001b[43mcheck_finite\u001b[49m\u001b[38;5;241;43m=\u001b[39;49m\u001b[43mcheck_finite\u001b[49m\u001b[43m)\u001b[49m\n\u001b[1;32m     91\u001b[0m     \u001b[38;5;28;01mreturn\u001b[39;00m c\n",
      "File \u001b[0;32m~/mambaforge/envs/regime-gurobi/lib/python3.10/site-packages/scipy/linalg/_decomp_cholesky.py:17\u001b[0m, in \u001b[0;36m_cholesky\u001b[0;34m(a, lower, overwrite_a, clean, check_finite)\u001b[0m\n\u001b[1;32m     13\u001b[0m \u001b[38;5;28;01mdef\u001b[39;00m \u001b[38;5;21m_cholesky\u001b[39m(a, lower\u001b[38;5;241m=\u001b[39m\u001b[38;5;28;01mFalse\u001b[39;00m, overwrite_a\u001b[38;5;241m=\u001b[39m\u001b[38;5;28;01mFalse\u001b[39;00m, clean\u001b[38;5;241m=\u001b[39m\u001b[38;5;28;01mTrue\u001b[39;00m,\n\u001b[1;32m     14\u001b[0m               check_finite\u001b[38;5;241m=\u001b[39m\u001b[38;5;28;01mTrue\u001b[39;00m):\n\u001b[1;32m     15\u001b[0m \u001b[38;5;250m    \u001b[39m\u001b[38;5;124;03m\"\"\"Common code for cholesky() and cho_factor().\"\"\"\u001b[39;00m\n\u001b[0;32m---> 17\u001b[0m     a1 \u001b[38;5;241m=\u001b[39m \u001b[43masarray_chkfinite\u001b[49m\u001b[43m(\u001b[49m\u001b[43ma\u001b[49m\u001b[43m)\u001b[49m \u001b[38;5;28;01mif\u001b[39;00m check_finite \u001b[38;5;28;01melse\u001b[39;00m asarray(a)\n\u001b[1;32m     18\u001b[0m     a1 \u001b[38;5;241m=\u001b[39m atleast_2d(a1)\n\u001b[1;32m     20\u001b[0m     \u001b[38;5;66;03m# Dimension check\u001b[39;00m\n",
      "File \u001b[0;32m~/mambaforge/envs/regime-gurobi/lib/python3.10/site-packages/numpy/lib/function_base.py:627\u001b[0m, in \u001b[0;36masarray_chkfinite\u001b[0;34m(a, dtype, order)\u001b[0m\n\u001b[1;32m    625\u001b[0m a \u001b[38;5;241m=\u001b[39m asarray(a, dtype\u001b[38;5;241m=\u001b[39mdtype, order\u001b[38;5;241m=\u001b[39morder)\n\u001b[1;32m    626\u001b[0m \u001b[38;5;28;01mif\u001b[39;00m a\u001b[38;5;241m.\u001b[39mdtype\u001b[38;5;241m.\u001b[39mchar \u001b[38;5;129;01min\u001b[39;00m typecodes[\u001b[38;5;124m'\u001b[39m\u001b[38;5;124mAllFloat\u001b[39m\u001b[38;5;124m'\u001b[39m] \u001b[38;5;129;01mand\u001b[39;00m \u001b[38;5;129;01mnot\u001b[39;00m np\u001b[38;5;241m.\u001b[39misfinite(a)\u001b[38;5;241m.\u001b[39mall():\n\u001b[0;32m--> 627\u001b[0m     \u001b[38;5;28;01mraise\u001b[39;00m \u001b[38;5;167;01mValueError\u001b[39;00m(\n\u001b[1;32m    628\u001b[0m         \u001b[38;5;124m\"\u001b[39m\u001b[38;5;124marray must not contain infs or NaNs\u001b[39m\u001b[38;5;124m\"\u001b[39m)\n\u001b[1;32m    629\u001b[0m \u001b[38;5;28;01mreturn\u001b[39;00m a\n",
      "\u001b[0;31mValueError\u001b[0m: array must not contain infs or NaNs"
     ]
    }
   ],
   "source": [
    "model_fit_many_datas_models(key_data_list_dict[n_c], [key_feat_hmm], model_dict_hmm, param_grid_hmm, path_data, path_estimation, job_id, batch_size)"
   ]
  },
  {
   "cell_type": "markdown",
   "id": "ac1e158a-b78b-45da-9447-d3bcdef23b7b",
   "metadata": {},
   "source": [
    "## Our models"
   ]
  },
  {
   "cell_type": "code",
   "execution_count": 6,
   "id": "ade9e30c-d968-43e5-ab11-123a0da21c82",
   "metadata": {},
   "outputs": [],
   "source": [
    "n_c = 3\n",
    "model_discrete = jump_model(n_c, state_type=\"discrete\", random_state=random_state)\n",
    "model_cont_mode = jump_model(n_c, state_type=\"cont\", grid_size=.05, mode_loss=True, random_state=random_state)\n",
    "model_cont_no_mode = jump_model(n_c, state_type=\"cont\", grid_size=.05, mode_loss=False, random_state=random_state)\n",
    "model_dict = {\"discrete\": model_discrete, \"cont_mode\": model_cont_mode, \"cont_no_mode\": model_cont_no_mode}"
   ]
  },
  {
   "cell_type": "code",
   "execution_count": 7,
   "id": "7145bfd8-822b-440e-97be-2476c41d17bf",
   "metadata": {
    "tags": []
   },
   "outputs": [
    {
     "name": "stdout",
     "output_type": "stream",
     "text": [
      "[1.00000000e-02 1.00000000e-01 3.16227766e-01 1.00000000e+00\n",
      " 3.16227766e+00 1.00000000e+01 3.16227766e+01 1.00000000e+02\n",
      " 3.16227766e+02 1.00000000e+03 3.16227766e+03 1.00000000e+04\n",
      " 3.16227766e+04 1.00000000e+05 1.00000000e+06]\n"
     ]
    }
   ],
   "source": [
    "# lambd_list = 10 ** np.linspace(0, 8, 9)\n",
    "lambd_list = 10 ** np.concatenate(([-2.], np.linspace(-1, 5, 13), [6.])) #[-2.] + list(np.linspace(-1, 5, 13)) + [6.]\n",
    "print(lambd_list)\n",
    "param_grid = {'jump_penalty': lambd_list}"
   ]
  },
  {
   "cell_type": "code",
   "execution_count": 8,
   "id": "da4e4458-a936-452c-b0ed-36c7dd8d8b2c",
   "metadata": {
    "tags": []
   },
   "outputs": [],
   "source": [
    "key_feat_zheng = \"zheng\""
   ]
  },
  {
   "cell_type": "code",
   "execution_count": 9,
   "id": "1d0230d4-45b9-4ce0-906b-7877a447cd33",
   "metadata": {
    "tags": []
   },
   "outputs": [
    {
     "name": "stdout",
     "output_type": "stream",
     "text": [
      "1/18 combo starts.\n"
     ]
    },
    {
     "name": "stderr",
     "output_type": "stream",
     "text": [
      "100%|███████████████████████████████████████████████████████████████████████████████████████████████████████████████████████████████████████████████████████████████████████████████████████████████████████████████████████████████████████████| 15/15 [00:03<00:00,  3.95it/s]\n"
     ]
    },
    {
     "name": "stdout",
     "output_type": "stream",
     "text": [
      "shape of the saved model params: (32, 12, 15).\n",
      "shape of the saved labels: (32, 500, 15).\n",
      "shape of the saved proba: (32, 500, 3, 15).\n",
      "1/18 combo done. Time of this combo: 0:00:04s. Total time: 0:00:04s.\n",
      "2/18 combo starts.\n"
     ]
    },
    {
     "name": "stderr",
     "output_type": "stream",
     "text": [
      "100%|███████████████████████████████████████████████████████████████████████████████████████████████████████████████████████████████████████████████████████████████████████████████████████████████████████████████████████████████████████████| 15/15 [12:23<00:00, 49.56s/it]\n"
     ]
    },
    {
     "name": "stdout",
     "output_type": "stream",
     "text": [
      "shape of the saved model params: (32, 12, 15).\n",
      "shape of the saved labels: (32, 500, 15).\n",
      "shape of the saved proba: (32, 500, 3, 15).\n",
      "2/18 combo done. Time of this combo: 0:12:24s. Total time: 0:12:28s.\n",
      "3/18 combo starts.\n"
     ]
    },
    {
     "name": "stderr",
     "output_type": "stream",
     "text": [
      "  0%|                                                                                                                                                                                                                                                    | 0/15 [00:29<?, ?it/s]\n"
     ]
    },
    {
     "ename": "KeyboardInterrupt",
     "evalue": "",
     "output_type": "error",
     "traceback": [
      "\u001b[0;31m---------------------------------------------------------------------------\u001b[0m",
      "\u001b[0;31mKeyboardInterrupt\u001b[0m                         Traceback (most recent call last)",
      "Cell \u001b[0;32mIn[9], line 1\u001b[0m\n\u001b[0;32m----> 1\u001b[0m \u001b[43mmodel_fit_many_datas_models\u001b[49m\u001b[43m(\u001b[49m\u001b[43mkey_data_list_dict\u001b[49m\u001b[43m[\u001b[49m\u001b[43mn_c\u001b[49m\u001b[43m]\u001b[49m\u001b[43m,\u001b[49m\u001b[43m \u001b[49m\u001b[43m[\u001b[49m\u001b[43mkey_feat_zheng\u001b[49m\u001b[43m]\u001b[49m\u001b[43m,\u001b[49m\u001b[43m \u001b[49m\u001b[43mmodel_dict\u001b[49m\u001b[43m,\u001b[49m\u001b[43m \u001b[49m\u001b[43mparam_grid\u001b[49m\u001b[43m,\u001b[49m\u001b[43m \u001b[49m\u001b[43mpath_data\u001b[49m\u001b[43m,\u001b[49m\u001b[43m \u001b[49m\u001b[43mpath_estimation\u001b[49m\u001b[43m,\u001b[49m\u001b[43m \u001b[49m\u001b[43mjob_id\u001b[49m\u001b[43m,\u001b[49m\u001b[43m \u001b[49m\u001b[43mbatch_size\u001b[49m\u001b[43m)\u001b[49m\n",
      "File \u001b[0;32m~/Documents/G3_2/regime-identification/regime/simulation_helper.py:432\u001b[0m, in \u001b[0;36mmodel_fit_many_datas_models\u001b[0;34m(key_data_list, key_feat_list, model_dict, param_grid, path_data, path_estimation, job_id, batch_size)\u001b[0m\n\u001b[1;32m    430\u001b[0m count\u001b[38;5;241m+\u001b[39m\u001b[38;5;241m=\u001b[39m\u001b[38;5;241m1\u001b[39m; \u001b[38;5;28mprint\u001b[39m(\u001b[38;5;124mf\u001b[39m\u001b[38;5;124m\"\u001b[39m\u001b[38;5;132;01m{\u001b[39;00mcount\u001b[38;5;132;01m}\u001b[39;00m\u001b[38;5;124m/\u001b[39m\u001b[38;5;132;01m{\u001b[39;00mN_combos\u001b[38;5;132;01m}\u001b[39;00m\u001b[38;5;124m combo starts.\u001b[39m\u001b[38;5;124m\"\u001b[39m)\n\u001b[1;32m    431\u001b[0m \u001b[38;5;66;03m# train the model, on a param grid, on a batch of data\u001b[39;00m\n\u001b[0;32m--> 432\u001b[0m model_params_arr, labels_arr, proba_arr \u001b[38;5;241m=\u001b[39m \u001b[43mmodel_fit_batch_with_params\u001b[49m\u001b[43m(\u001b[49m\u001b[43mmodel\u001b[49m\u001b[43m,\u001b[49m\u001b[43m \u001b[49m\u001b[43mXs\u001b[49m\u001b[43m,\u001b[49m\u001b[43m \u001b[49m\u001b[43mZs\u001b[49m\u001b[43m,\u001b[49m\u001b[43m \u001b[49m\u001b[43mparam_grid\u001b[49m\u001b[43m)\u001b[49m\n\u001b[1;32m    433\u001b[0m \u001b[38;5;66;03m# save results\u001b[39;00m\n\u001b[1;32m    434\u001b[0m save_estimation_results(model_params_arr, labels_arr, proba_arr, path_estimation, key_data, key_feat, key_model, job_id)\n",
      "File \u001b[0;32m~/Documents/G3_2/regime-identification/regime/simulation_helper.py:411\u001b[0m, in \u001b[0;36mmodel_fit_batch_with_params\u001b[0;34m(model, Xs, Zs, param_grid)\u001b[0m\n\u001b[1;32m    409\u001b[0m \u001b[38;5;28;01mfor\u001b[39;00m param_ \u001b[38;5;129;01min\u001b[39;00m tqdm(PG):\n\u001b[1;32m    410\u001b[0m     model\u001b[38;5;241m.\u001b[39mset_params(\u001b[38;5;241m*\u001b[39m\u001b[38;5;241m*\u001b[39mparam_)\n\u001b[0;32m--> 411\u001b[0m     model_params_arr, labels_arr, proba_arr \u001b[38;5;241m=\u001b[39m \u001b[43mmodel_fit_batch\u001b[49m\u001b[43m(\u001b[49m\u001b[43mmodel\u001b[49m\u001b[43m,\u001b[49m\u001b[43m \u001b[49m\u001b[43mXs\u001b[49m\u001b[43m,\u001b[49m\u001b[43m \u001b[49m\u001b[43mZs\u001b[49m\u001b[43m)\u001b[49m\n\u001b[1;32m    412\u001b[0m     model_params_arr_list\u001b[38;5;241m.\u001b[39mappend(model_params_arr)\n\u001b[1;32m    413\u001b[0m     labels_arr_list\u001b[38;5;241m.\u001b[39mappend(labels_arr)\n",
      "File \u001b[0;32m~/Documents/G3_2/regime-identification/regime/simulation_helper.py:277\u001b[0m, in \u001b[0;36mmodel_fit_batch\u001b[0;34m(model, Xs, Zs)\u001b[0m\n\u001b[1;32m    275\u001b[0m X, Z \u001b[38;5;241m=\u001b[39m Xs[i_t], Zs[i_t]\n\u001b[1;32m    276\u001b[0m \u001b[38;5;66;03m# fit\u001b[39;00m\n\u001b[0;32m--> 277\u001b[0m \u001b[43mmodel\u001b[49m\u001b[38;5;241;43m.\u001b[39;49m\u001b[43mfit\u001b[49m\u001b[43m(\u001b[49m\u001b[43mX\u001b[49m\u001b[43m)\u001b[49m\n\u001b[1;32m    278\u001b[0m \u001b[38;5;66;03m# save dict result\u001b[39;00m\n\u001b[1;32m    279\u001b[0m res_list\u001b[38;5;241m.\u001b[39mappend(extract_results_from_model(model, X_\u001b[38;5;241m=\u001b[39mX[:, \u001b[38;5;241m0\u001b[39m]))\n",
      "File \u001b[0;32m~/Documents/G3_2/regime-identification/regime/jump.py:416\u001b[0m, in \u001b[0;36mjump_model.fit\u001b[0;34m(self, X)\u001b[0m\n\u001b[1;32m    414\u001b[0m     centers_ \u001b[38;5;241m=\u001b[39m do_M_step(X, proba_, labels_, n_c, centers_)\n\u001b[1;32m    415\u001b[0m     \u001b[38;5;66;03m# E step\u001b[39;00m\n\u001b[0;32m--> 416\u001b[0m     proba_, labels_, val_ \u001b[38;5;241m=\u001b[39m \u001b[38;5;28;43mself\u001b[39;49m\u001b[38;5;241;43m.\u001b[39;49m\u001b[43mdo_E_step\u001b[49m\u001b[43m(\u001b[49m\u001b[43mcenters_\u001b[49m\u001b[38;5;241;43m=\u001b[39;49m\u001b[43mcenters_\u001b[49m\u001b[43m,\u001b[49m\u001b[43m \u001b[49m\u001b[43mcov_type\u001b[49m\u001b[38;5;241;43m=\u001b[39;49m\u001b[43mcov_type\u001b[49m\u001b[43m,\u001b[49m\u001b[43m \u001b[49m\u001b[43mX_scaled\u001b[49m\u001b[38;5;241;43m=\u001b[39;49m\u001b[43mX_scaled\u001b[49m\u001b[43m,\u001b[49m\u001b[43m \u001b[49m\u001b[43mscales\u001b[49m\u001b[38;5;241;43m=\u001b[39;49m\u001b[43mscales\u001b[49m\u001b[43m,\u001b[49m\n\u001b[1;32m    417\u001b[0m \u001b[43m                                           \u001b[49m\u001b[43mjump_penalty\u001b[49m\u001b[38;5;241;43m=\u001b[39;49m\u001b[43mjump_penalty\u001b[49m\u001b[43m,\u001b[49m\u001b[43m \u001b[49m\u001b[43mTPM\u001b[49m\u001b[38;5;241;43m=\u001b[39;49m\u001b[43mTPM\u001b[49m\u001b[43m,\u001b[49m\u001b[43m \u001b[49m\u001b[43mstartprob_\u001b[49m\u001b[38;5;241;43m=\u001b[39;49m\u001b[43mstartprob_\u001b[49m\u001b[43m)\u001b[49m\n\u001b[1;32m    418\u001b[0m \u001b[38;5;66;03m# print(f\"{n_init_}-th init: {num_iter} of iters, val: {val_}\")\u001b[39;00m\n\u001b[1;32m    419\u001b[0m \u001b[38;5;66;03m# print(centers_)\u001b[39;00m\n\u001b[1;32m    420\u001b[0m \n\u001b[1;32m    421\u001b[0m \u001b[38;5;66;03m# compare with previous initializations\u001b[39;00m\n\u001b[1;32m    422\u001b[0m \u001b[38;5;66;03m# best_val_all_inits == np.inf or (not is_same_clustering(labels_, best_labels_all_inits) and val_ < best_val_all_inits):\u001b[39;00m\n\u001b[1;32m    423\u001b[0m \u001b[38;5;28;01mif\u001b[39;00m \u001b[38;5;129;01mnot\u001b[39;00m is_same_clustering(best_labels_all_inits, labels_) \u001b[38;5;129;01mand\u001b[39;00m val_ \u001b[38;5;241m<\u001b[39m best_val_all_inits:\n",
      "File \u001b[0;32m~/Documents/G3_2/regime-identification/regime/jump.py:346\u001b[0m, in \u001b[0;36mjump_model.do_E_step\u001b[0;34m(self, X, centers_, covars_, cov_type, X_scaled, scales, jump_penalty, TPM, startprob_)\u001b[0m\n\u001b[1;32m    344\u001b[0m     labels_, val_ \u001b[38;5;241m=\u001b[39m dp_viterbi(loss_sample_to_proba_vec, TPM\u001b[38;5;241m=\u001b[39mTPM, startprob_\u001b[38;5;241m=\u001b[39mstartprob_)\n\u001b[1;32m    345\u001b[0m \u001b[38;5;28;01melse\u001b[39;00m:\n\u001b[0;32m--> 346\u001b[0m     labels_, val_ \u001b[38;5;241m=\u001b[39m \u001b[43mdp_py\u001b[49m\u001b[43m(\u001b[49m\u001b[43mloss_sample_to_proba_vec\u001b[49m\u001b[43m,\u001b[49m\u001b[43m \u001b[49m\u001b[43mjump_penalty\u001b[49m\u001b[43m)\u001b[49m  \n\u001b[1;32m    347\u001b[0m proba_ \u001b[38;5;241m=\u001b[39m \u001b[38;5;28mself\u001b[39m\u001b[38;5;241m.\u001b[39mprob_vecs[labels_]\n\u001b[1;32m    348\u001b[0m \u001b[38;5;28;01mreturn\u001b[39;00m proba_, labels_, val_      \n",
      "File \u001b[0;32m~/Documents/G3_2/regime-identification/regime/jump.py:104\u001b[0m, in \u001b[0;36mdp_py\u001b[0;34m(loss, jump_penalty, init_penalty)\u001b[0m\n\u001b[1;32m    102\u001b[0m \u001b[38;5;66;03m# dp \u001b[39;00m\n\u001b[1;32m    103\u001b[0m \u001b[38;5;28;01mfor\u001b[39;00m t \u001b[38;5;129;01min\u001b[39;00m \u001b[38;5;28mrange\u001b[39m(\u001b[38;5;241m1\u001b[39m, n_s):\n\u001b[0;32m--> 104\u001b[0m     values[t] \u001b[38;5;241m=\u001b[39m loss[t] \u001b[38;5;241m+\u001b[39m \u001b[43m(\u001b[49m\u001b[43mvalues\u001b[49m\u001b[43m[\u001b[49m\u001b[43mt\u001b[49m\u001b[38;5;241;43m-\u001b[39;49m\u001b[38;5;241;43m1\u001b[39;49m\u001b[43m]\u001b[49m\u001b[43m[\u001b[49m\u001b[43m:\u001b[49m\u001b[43m,\u001b[49m\u001b[43m \u001b[49m\u001b[43mnp\u001b[49m\u001b[38;5;241;43m.\u001b[39;49m\u001b[43mnewaxis\u001b[49m\u001b[43m]\u001b[49m\u001b[43m \u001b[49m\u001b[38;5;241;43m+\u001b[39;49m\u001b[43m \u001b[49m\u001b[43mjump_penalty\u001b[49m\u001b[43m)\u001b[49m\u001b[38;5;241;43m.\u001b[39;49m\u001b[43mmin\u001b[49m\u001b[43m(\u001b[49m\u001b[43maxis\u001b[49m\u001b[38;5;241;43m=\u001b[39;49m\u001b[38;5;241;43m0\u001b[39;49m\u001b[43m)\u001b[49m\n\u001b[1;32m    106\u001b[0m \u001b[38;5;66;03m# find optimal path backwards\u001b[39;00m\n\u001b[1;32m    107\u001b[0m assign[\u001b[38;5;241m-\u001b[39m\u001b[38;5;241m1\u001b[39m] \u001b[38;5;241m=\u001b[39m values[\u001b[38;5;241m-\u001b[39m\u001b[38;5;241m1\u001b[39m]\u001b[38;5;241m.\u001b[39margmin()\n",
      "File \u001b[0;32m~/mambaforge/envs/regime-gurobi/lib/python3.10/site-packages/numpy/core/_methods.py:42\u001b[0m, in \u001b[0;36m_amin\u001b[0;34m(a, axis, out, keepdims, initial, where)\u001b[0m\n\u001b[1;32m     38\u001b[0m \u001b[38;5;28;01mdef\u001b[39;00m \u001b[38;5;21m_amax\u001b[39m(a, axis\u001b[38;5;241m=\u001b[39m\u001b[38;5;28;01mNone\u001b[39;00m, out\u001b[38;5;241m=\u001b[39m\u001b[38;5;28;01mNone\u001b[39;00m, keepdims\u001b[38;5;241m=\u001b[39m\u001b[38;5;28;01mFalse\u001b[39;00m,\n\u001b[1;32m     39\u001b[0m           initial\u001b[38;5;241m=\u001b[39m_NoValue, where\u001b[38;5;241m=\u001b[39m\u001b[38;5;28;01mTrue\u001b[39;00m):\n\u001b[1;32m     40\u001b[0m     \u001b[38;5;28;01mreturn\u001b[39;00m umr_maximum(a, axis, \u001b[38;5;28;01mNone\u001b[39;00m, out, keepdims, initial, where)\n\u001b[0;32m---> 42\u001b[0m \u001b[38;5;28;01mdef\u001b[39;00m \u001b[38;5;21m_amin\u001b[39m(a, axis\u001b[38;5;241m=\u001b[39m\u001b[38;5;28;01mNone\u001b[39;00m, out\u001b[38;5;241m=\u001b[39m\u001b[38;5;28;01mNone\u001b[39;00m, keepdims\u001b[38;5;241m=\u001b[39m\u001b[38;5;28;01mFalse\u001b[39;00m,\n\u001b[1;32m     43\u001b[0m           initial\u001b[38;5;241m=\u001b[39m_NoValue, where\u001b[38;5;241m=\u001b[39m\u001b[38;5;28;01mTrue\u001b[39;00m):\n\u001b[1;32m     44\u001b[0m     \u001b[38;5;28;01mreturn\u001b[39;00m umr_minimum(a, axis, \u001b[38;5;28;01mNone\u001b[39;00m, out, keepdims, initial, where)\n\u001b[1;32m     46\u001b[0m \u001b[38;5;28;01mdef\u001b[39;00m \u001b[38;5;21m_sum\u001b[39m(a, axis\u001b[38;5;241m=\u001b[39m\u001b[38;5;28;01mNone\u001b[39;00m, dtype\u001b[38;5;241m=\u001b[39m\u001b[38;5;28;01mNone\u001b[39;00m, out\u001b[38;5;241m=\u001b[39m\u001b[38;5;28;01mNone\u001b[39;00m, keepdims\u001b[38;5;241m=\u001b[39m\u001b[38;5;28;01mFalse\u001b[39;00m,\n\u001b[1;32m     47\u001b[0m          initial\u001b[38;5;241m=\u001b[39m_NoValue, where\u001b[38;5;241m=\u001b[39m\u001b[38;5;28;01mTrue\u001b[39;00m):\n",
      "\u001b[0;31mKeyboardInterrupt\u001b[0m: "
     ]
    }
   ],
   "source": [
    "model_fit_many_datas_models(key_data_list_dict[n_c], [key_feat_zheng], model_dict, param_grid, path_data, path_estimation, job_id, batch_size)"
   ]
  },
  {
   "cell_type": "code",
   "execution_count": null,
   "id": "750aa83a-df99-4eab-9997-17991c1372f7",
   "metadata": {},
   "outputs": [],
   "source": []
  }
 ],
 "metadata": {
  "kernelspec": {
   "display_name": "Python 3 (ipykernel)",
   "language": "python",
   "name": "python3"
  },
  "language_info": {
   "codemirror_mode": {
    "name": "ipython",
    "version": 3
   },
   "file_extension": ".py",
   "mimetype": "text/x-python",
   "name": "python",
   "nbconvert_exporter": "python",
   "pygments_lexer": "ipython3",
   "version": "3.10.9"
  }
 },
 "nbformat": 4,
 "nbformat_minor": 5
}
