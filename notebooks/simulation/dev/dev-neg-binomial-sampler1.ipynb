{
 "cells": [
  {
   "cell_type": "code",
   "execution_count": 1,
   "id": "7fc60337-a001-4f03-a103-00a844c6abac",
   "metadata": {
    "tags": []
   },
   "outputs": [],
   "source": [
    "%load_ext autoreload\n",
    "%autoreload 2\n",
    "import sys, os\n",
    "from os.path import expanduser\n",
    "## actions required!!!!!!!!!!!!!!!!!!!! change your folder path \n",
    "path_repo = expanduser(\"~/Documents/G3_2/regime-identification\"); sys.path.append(path_repo)\n",
    "path_file = expanduser(\"~/data/G3_2/regime-identification/simulation\")\n",
    "path = {}\n",
    "for folder in [\"summary\", \"best-idx\", \"latex\", \"summary-cluster\", \"best-idx-cluster\", \"latex-cluster\"]:\n",
    "    path[folder] = f\"{path_file}/{folder}\""
   ]
  },
  {
   "cell_type": "code",
   "execution_count": 2,
   "id": "450df72d-eed3-4326-a329-19117c07b4aa",
   "metadata": {
    "tags": []
   },
   "outputs": [],
   "source": [
    "import pandas as pd\n",
    "import numpy as np"
   ]
  },
  {
   "cell_type": "code",
   "execution_count": 13,
   "id": "a880ee03-58fa-431d-b12a-a2a3fe0aaba5",
   "metadata": {
    "tags": []
   },
   "outputs": [],
   "source": [
    "from numpy.random import RandomState\n",
    "random_state = RandomState(33)"
   ]
  },
  {
   "cell_type": "code",
   "execution_count": 3,
   "id": "7cef4125-63b6-4312-8cbd-278ea1d63f46",
   "metadata": {
    "tags": []
   },
   "outputs": [],
   "source": [
    "from regime.simulation_helper import *"
   ]
  },
  {
   "cell_type": "code",
   "execution_count": 12,
   "id": "b120b9dd-b22e-41e2-b566-d152cb2e0e2e",
   "metadata": {
    "tags": []
   },
   "outputs": [
    {
     "data": {
      "text/plain": [
       "array([0.00021198, 0.00072709])"
      ]
     },
     "execution_count": 12,
     "metadata": {},
     "output_type": "execute_result"
    }
   ],
   "source": [
    "compute_p_nbinom(extract_off_diagonal(transmat_), np.array([.1, .06]))"
   ]
  },
  {
   "cell_type": "code",
   "execution_count": 22,
   "id": "02871355-a494-4fdb-8b7e-f4bea66cc1c1",
   "metadata": {
    "tags": []
   },
   "outputs": [
    {
     "data": {
      "text/plain": [
       "1"
      ]
     },
     "execution_count": 22,
     "metadata": {},
     "output_type": "execute_result"
    }
   ],
   "source": [
    "random_state.choice(2, p=[.6, .4])"
   ]
  },
  {
   "cell_type": "code",
   "execution_count": 4,
   "id": "e82985b1-24ef-4b29-9b3b-75d5e0791044",
   "metadata": {
    "tags": []
   },
   "outputs": [],
   "source": [
    "def compute_p_nbinom(p_geo, n_nbinom):\n",
    "    return 1 / (1 + (1 - p_geo) / (p_geo * n_nbinom))"
   ]
  },
  {
   "cell_type": "code",
   "execution_count": 38,
   "id": "fced399b-3a2f-442a-86d6-92259693dadc",
   "metadata": {
    "tags": []
   },
   "outputs": [],
   "source": [
    "class GaussianHSMM_1d_for_sample(HMM_for_sample):\n",
    "    \"\"\"\n",
    "    a class for 1d HSMM that can sample very fastly, but can only do sampling.\n",
    "    \"\"\"\n",
    "    def __init__(self, n_components, random_state):\n",
    "        super().__init__(n_components, random_state)\n",
    "        if n_components != 2:\n",
    "            raise NotImplementedError()\n",
    "\n",
    "    def _compute_p_nbinom(self):\n",
    "        self.p_nbinom_ = compute_p_nbinom(extract_off_diagonal(self.transmat_), self.n_shape_)\n",
    "        \n",
    "    def sample_Z(self, n_samples=1, currstate=None):\n",
    "        random_state = check_random_state(self.random_state)\n",
    "        #\n",
    "        self._compute_p_nbinom()\n",
    "        Z = np.full((n_samples,), -1, dtype=np.int32)\n",
    "        if currstate is None:\n",
    "            startprob_cdf = np.cumsum(self.startprob_)\n",
    "            currstate = (startprob_cdf > random_state.rand()).argmax()\n",
    "        length = 0\n",
    "        while (length < n_samples):\n",
    "            nbinom_sample = random_state.negative_binomial(self.n_shape_[currstate], self.p_nbinom_[currstate]) + 1\n",
    "            Z[length:max(n_samples, length+nbinom_sample)] = currstate\n",
    "            length += nbinom_sample\n",
    "            currstate = 1-currstate\n",
    "        return Z\n",
    "    \n",
    "    def sample(self, n_samples=1, currstate=None):\n",
    "        random_state = check_random_state(self.random_state)\n",
    "        Z = self.sample_Z(n_samples, currstate)\n",
    "        X = np.full((n_samples, 1), 1000.)\n",
    "        for i in np.unique(Z):\n",
    "            X[Z==i, :] = self.means_[i] + np.sqrt(self._covars_[i]) * random_state.randn((Z==i).sum(), 1)\n",
    "        return X, Z"
   ]
  },
  {
   "cell_type": "code",
   "execution_count": null,
   "id": "a583654c-6fc5-4bba-8e9a-c5cb083aa963",
   "metadata": {},
   "outputs": [],
   "source": [
    "Y=random_state.negative_binomial(n2, p2, size = (1000000,))+1"
   ]
  },
  {
   "cell_type": "code",
   "execution_count": 39,
   "id": "96b6da20-ee90-4814-9399-4b809837ec01",
   "metadata": {
    "tags": []
   },
   "outputs": [],
   "source": [
    "model=GaussianHSMM_1d_for_sample(2, random_state)"
   ]
  },
  {
   "cell_type": "code",
   "execution_count": 40,
   "id": "0d100fbe-c7a1-4e45-a3ad-7e1d248c7813",
   "metadata": {
    "tags": []
   },
   "outputs": [],
   "source": [
    "means_, covars_, transmat_ =load_hardy_params(\"daily\", 2)\n",
    "startprob_ = invariant_dist_transmat_(transmat_)"
   ]
  },
  {
   "cell_type": "code",
   "execution_count": 41,
   "id": "4e82825e-ddac-4829-8aef-6c499212eeff",
   "metadata": {
    "tags": []
   },
   "outputs": [],
   "source": [
    "model.means_ = means_\n",
    "model.covars_ = covars_\n",
    "model.transmat_ = transmat_\n",
    "model.startprob_ = startprob_\n",
    "model.n_shape_ = np.array([.1, .06])"
   ]
  },
  {
   "cell_type": "code",
   "execution_count": 42,
   "id": "2f8f47cc-60a7-4cb3-9357-087ea49e567d",
   "metadata": {
    "tags": []
   },
   "outputs": [],
   "source": [
    "Z = model.sample_Z(1000)"
   ]
  },
  {
   "cell_type": "code",
   "execution_count": 50,
   "id": "56b759b5-9aa5-4b88-ade7-57a815d89a92",
   "metadata": {
    "tags": []
   },
   "outputs": [],
   "source": [
    "X, Z = model.sample(100000)"
   ]
  },
  {
   "cell_type": "code",
   "execution_count": 51,
   "id": "533b9a55-01d0-4fe5-a30a-992f81e0d808",
   "metadata": {
    "tags": []
   },
   "outputs": [
    {
     "data": {
      "text/plain": [
       "0.0006126610081767648"
      ]
     },
     "execution_count": 51,
     "metadata": {},
     "output_type": "execute_result"
    }
   ],
   "source": [
    "X[Z==0, :].squeeze().mean()"
   ]
  },
  {
   "cell_type": "code",
   "execution_count": 52,
   "id": "2ddca1b4-ed74-4a52-886b-06e7d9eff7a5",
   "metadata": {
    "tags": []
   },
   "outputs": [
    {
     "data": {
      "text/plain": [
       "-0.0009017499935226487"
      ]
     },
     "execution_count": 52,
     "metadata": {},
     "output_type": "execute_result"
    }
   ],
   "source": [
    "X[Z==1, :].squeeze().mean()"
   ]
  },
  {
   "cell_type": "code",
   "execution_count": 54,
   "id": "96aa9e74-976f-49bc-b07b-2a6e11d05cd9",
   "metadata": {
    "tags": []
   },
   "outputs": [
    {
     "data": {
      "text/plain": [
       "array([0, 0, 0, 0, 0, 0, 0, 0, 0, 0, 0, 0, 0, 0, 0, 0, 0, 0, 0, 0, 0, 0,\n",
       "       0, 0, 1, 0, 0, 0, 0, 0, 0, 0, 0, 0, 0, 0, 0, 0, 0, 0, 0, 0, 0, 0,\n",
       "       0, 0, 0, 0, 0, 0, 0, 0, 0, 0, 0, 0, 0, 0, 0, 0, 0, 0, 0, 0, 0, 0,\n",
       "       0, 0, 0, 0, 0, 0, 0, 0, 0, 0, 0, 0, 0, 0, 0, 0, 0, 0, 0, 0, 0, 0,\n",
       "       0, 0, 0, 0, 0, 0, 0, 0, 0, 0, 0, 0, 0, 0, 0, 0, 0, 0, 0, 0, 0, 0,\n",
       "       0, 0, 0, 0, 0, 0, 0, 0, 0, 0, 0, 0, 0, 0, 0, 0, 0, 0, 0, 0, 0, 0,\n",
       "       0, 0, 0, 0, 0, 1, 0, 1, 1, 1, 1, 0, 1, 0, 1, 0, 0, 0, 0, 0, 0, 0,\n",
       "       0, 0, 0, 0, 0, 0, 1, 0, 0, 1, 1, 0, 0, 0, 0, 0, 0, 0, 0, 0, 0, 0,\n",
       "       0, 0, 0, 0, 0, 0, 0, 0, 0, 0, 0, 0, 0, 0, 0, 0, 0, 0, 0, 0, 0, 0,\n",
       "       0, 0], dtype=int32)"
      ]
     },
     "execution_count": 54,
     "metadata": {},
     "output_type": "execute_result"
    }
   ],
   "source": [
    "Z[:200]"
   ]
  },
  {
   "cell_type": "code",
   "execution_count": null,
   "id": "440c836f-285d-4990-8bd9-5a9772e83124",
   "metadata": {},
   "outputs": [],
   "source": []
  },
  {
   "cell_type": "code",
   "execution_count": null,
   "id": "1f56134b-b0cc-4fe3-8b10-b68e17c214ad",
   "metadata": {},
   "outputs": [],
   "source": []
  },
  {
   "cell_type": "code",
   "execution_count": null,
   "id": "b0b0dcc3-d9b9-4b41-a527-c847c3eee193",
   "metadata": {},
   "outputs": [],
   "source": []
  },
  {
   "cell_type": "code",
   "execution_count": null,
   "id": "5a239201-1e12-4fb4-b9b8-c8ad29c6a379",
   "metadata": {},
   "outputs": [],
   "source": []
  },
  {
   "cell_type": "code",
   "execution_count": null,
   "id": "77df550c-d6bd-4e81-baca-7bd4793598b2",
   "metadata": {},
   "outputs": [],
   "source": []
  },
  {
   "cell_type": "code",
   "execution_count": null,
   "id": "24036e8a-8184-4b63-a085-de09a6dd02b1",
   "metadata": {},
   "outputs": [],
   "source": []
  },
  {
   "cell_type": "code",
   "execution_count": null,
   "id": "6bab230b-eedf-46a2-bf55-48bf11727055",
   "metadata": {},
   "outputs": [],
   "source": []
  },
  {
   "cell_type": "code",
   "execution_count": null,
   "id": "5ed1adc0-e87a-496d-88b6-ed2487cebea0",
   "metadata": {},
   "outputs": [],
   "source": []
  },
  {
   "cell_type": "code",
   "execution_count": null,
   "id": "7e639b7f-87ce-4bf8-88d3-7b37de6a58a1",
   "metadata": {},
   "outputs": [],
   "source": []
  },
  {
   "cell_type": "code",
   "execution_count": 11,
   "id": "44954e8f-05ce-4e31-954d-5117cc0368dc",
   "metadata": {
    "tags": []
   },
   "outputs": [
    {
     "data": {
      "text/plain": [
       "array([0.00021198, 0.00072709])"
      ]
     },
     "execution_count": 11,
     "metadata": {},
     "output_type": "execute_result"
    }
   ],
   "source": [
    "model.p_binom_"
   ]
  },
  {
   "cell_type": "code",
   "execution_count": null,
   "id": "5ff575fb-a472-4871-82b8-67fa965241e1",
   "metadata": {},
   "outputs": [],
   "source": [
    "extract_off_diagonal()"
   ]
  },
  {
   "cell_type": "code",
   "execution_count": 6,
   "id": "dab84eaa-2190-4020-8dcc-e04ce0667a4c",
   "metadata": {
    "tags": []
   },
   "outputs": [],
   "source": [
    "transmat=res[2]"
   ]
  },
  {
   "cell_type": "code",
   "execution_count": 7,
   "id": "c43fe88b-8524-4c9c-a8f9-713b31b3b03e",
   "metadata": {
    "tags": []
   },
   "outputs": [
    {
     "data": {
      "text/plain": [
       "array([0.00211576, 0.01198171])"
      ]
     },
     "execution_count": 7,
     "metadata": {},
     "output_type": "execute_result"
    }
   ],
   "source": [
    "extract_off_diagonal(transmat)"
   ]
  },
  {
   "cell_type": "code",
   "execution_count": null,
   "id": "e8980900-5bdb-4d22-bc6c-d3a866b9dc79",
   "metadata": {},
   "outputs": [],
   "source": []
  },
  {
   "cell_type": "code",
   "execution_count": null,
   "id": "dcd0a6ab-8968-44c5-8e09-d3a37bae7036",
   "metadata": {},
   "outputs": [],
   "source": []
  },
  {
   "cell_type": "code",
   "execution_count": null,
   "id": "13ef2757-7646-418e-a181-508acd04414c",
   "metadata": {},
   "outputs": [],
   "source": []
  },
  {
   "cell_type": "code",
   "execution_count": null,
   "id": "79bcadd7-bcf9-429a-9c26-8e8ffeecd68d",
   "metadata": {},
   "outputs": [],
   "source": []
  },
  {
   "cell_type": "code",
   "execution_count": null,
   "id": "2be0e89c-f1df-4af2-bfd8-c3e6ccdec5d9",
   "metadata": {},
   "outputs": [],
   "source": []
  },
  {
   "cell_type": "code",
   "execution_count": null,
   "id": "d5530c95-e7f3-41d1-98d2-00a10ac26ff8",
   "metadata": {},
   "outputs": [],
   "source": [
    "n_shape_ = np.array([.1, .06])"
   ]
  },
  {
   "cell_type": "code",
   "execution_count": null,
   "id": "289a919f-6ded-44e9-8eef-c5e52ed051db",
   "metadata": {},
   "outputs": [],
   "source": [
    "get_HSMM_instance_for_sampling(*load_hardy_params(key_data.split(\"-\")[-1], n_c), n_shape_=n_shape_, random_state=random_state)"
   ]
  },
  {
   "cell_type": "code",
   "execution_count": 46,
   "id": "6b33c789-8eda-4368-895a-124e05cdb19c",
   "metadata": {
    "tags": []
   },
   "outputs": [],
   "source": [
    "def get_HSMM_instance_for_sampling(means_, covars_, transmat_, startprob_=None, n_shape_=None, random_state=None):\n",
    "    n_c = len(transmat_)\n",
    "    random_state = check_random_state(random_state)\n",
    "    if startprob_ is None:\n",
    "        startprob_ = invariant_dist_transmat_(transmat_)\n",
    "    \n",
    "    model = GaussianHSMM_1d_for_sample(n_c, random_state)\n",
    "    \n",
    "    model.means_ = means_\n",
    "    model.covars_ = covars_\n",
    "    model.transmat_ = transmat_\n",
    "    model.startprob_ = startprob_\n",
    "    model.n_shape_ = n_shape_\n",
    "    return model"
   ]
  },
  {
   "cell_type": "code",
   "execution_count": null,
   "id": "85313992-c5fd-45af-a488-0d1e08c85be6",
   "metadata": {},
   "outputs": [],
   "source": []
  },
  {
   "cell_type": "code",
   "execution_count": null,
   "id": "1d387126-9f9b-4b63-83e1-e3a8c3186f2f",
   "metadata": {},
   "outputs": [],
   "source": []
  },
  {
   "cell_type": "code",
   "execution_count": 1,
   "id": "bde165fa-e05d-4c70-a5ea-cf9877c81051",
   "metadata": {
    "tags": []
   },
   "outputs": [],
   "source": [
    "from scipy.stats import geom, nbinom"
   ]
  },
  {
   "cell_type": "code",
   "execution_count": 2,
   "id": "a4d27fe8-752d-43b1-ad29-2d3cce6595bf",
   "metadata": {
    "tags": []
   },
   "outputs": [],
   "source": [
    "n=.1; p=.3"
   ]
  },
  {
   "cell_type": "code",
   "execution_count": 4,
   "id": "ab5c3113-4f6e-40c7-8adf-5f32f7de9017",
   "metadata": {
    "tags": []
   },
   "outputs": [
    {
     "data": {
      "text/plain": [
       "1"
      ]
     },
     "execution_count": 4,
     "metadata": {},
     "output_type": "execute_result"
    }
   ],
   "source": [
    "nbinom(n, p).rvs()"
   ]
  },
  {
   "cell_type": "code",
   "execution_count": 5,
   "id": "d09a22fb-1c9b-4fef-a18e-af1dfe0363d5",
   "metadata": {
    "tags": []
   },
   "outputs": [],
   "source": []
  },
  {
   "cell_type": "code",
   "execution_count": 6,
   "id": "5a6b297c-dd60-48de-8b17-0defae4c0ba9",
   "metadata": {
    "tags": []
   },
   "outputs": [],
   "source": []
  },
  {
   "cell_type": "code",
   "execution_count": 12,
   "id": "37ba8584-2868-4fd4-9aa1-edd22be5a443",
   "metadata": {
    "tags": []
   },
   "outputs": [
    {
     "name": "stdout",
     "output_type": "stream",
     "text": [
      "3.3333333333333335\n"
     ]
    }
   ],
   "source": [
    "p=.3\n",
    "print(1/p)"
   ]
  },
  {
   "cell_type": "code",
   "execution_count": 15,
   "id": "2092598a-cdc2-426b-ab36-f4439d8b2d33",
   "metadata": {
    "tags": []
   },
   "outputs": [],
   "source": [
    "X=random_state.geometric(p, size = (100000,))"
   ]
  },
  {
   "cell_type": "code",
   "execution_count": 16,
   "id": "8b4308e7-e5cd-46c5-9957-f7515fd81aaf",
   "metadata": {
    "tags": []
   },
   "outputs": [
    {
     "data": {
      "text/plain": [
       "3.33313"
      ]
     },
     "execution_count": 16,
     "metadata": {},
     "output_type": "execute_result"
    }
   ],
   "source": [
    "X.mean()"
   ]
  },
  {
   "cell_type": "code",
   "execution_count": 24,
   "id": "ae89e8a3-ea38-4e0a-a5d2-c801cf2a4630",
   "metadata": {
    "tags": []
   },
   "outputs": [],
   "source": [
    "Y=random_state.negative_binomial(3, .5, size=(100000,))"
   ]
  },
  {
   "cell_type": "code",
   "execution_count": null,
   "id": "8f428062-2e85-4647-bfc5-34ff2b64527c",
   "metadata": {},
   "outputs": [],
   "source": []
  },
  {
   "cell_type": "code",
   "execution_count": null,
   "id": "a0b49932-c23f-457c-a3b2-3637a3869708",
   "metadata": {},
   "outputs": [],
   "source": []
  },
  {
   "cell_type": "code",
   "execution_count": null,
   "id": "d2a527e5-03df-4e67-8415-4aacedc46c1e",
   "metadata": {},
   "outputs": [],
   "source": []
  },
  {
   "cell_type": "code",
   "execution_count": null,
   "id": "59e92563-f499-4feb-9a8e-0452caf17ecc",
   "metadata": {},
   "outputs": [],
   "source": []
  },
  {
   "cell_type": "code",
   "execution_count": 97,
   "id": "15ca8b3a-8eb2-4706-aff8-654003f78fb3",
   "metadata": {
    "tags": []
   },
   "outputs": [],
   "source": [
    "n1 = 1; p1 = .3\n",
    "n2 = 1; p2 = compute_p_nbinom(p1, n2)"
   ]
  },
  {
   "cell_type": "code",
   "execution_count": 101,
   "id": "f29c612e-3163-4a21-b102-df817b0d93bc",
   "metadata": {
    "tags": []
   },
   "outputs": [],
   "source": [
    "X=random_state.geometric(p1, size = (1000000,))\n",
    "Y=random_state.negative_binomial(n2, p2, size = (1000000,))+1"
   ]
  },
  {
   "cell_type": "code",
   "execution_count": 105,
   "id": "ae748075-f074-4533-abc0-002bdbb485e6",
   "metadata": {
    "tags": []
   },
   "outputs": [
    {
     "data": {
      "text/plain": [
       "array([ 2,  1,  3,  1,  3,  4,  7,  1,  4,  2,  5,  1,  5,  6,  4,  5,  2,\n",
       "        3,  9,  1,  3,  1,  1,  3,  1,  1,  2,  8,  2,  1,  4,  2,  2,  1,\n",
       "       10,  1,  2,  2,  4,  9,  2,  3,  8,  2,  1,  1,  1,  7,  6,  3])"
      ]
     },
     "execution_count": 105,
     "metadata": {},
     "output_type": "execute_result"
    }
   ],
   "source": [
    "Y[:50]"
   ]
  },
  {
   "cell_type": "code",
   "execution_count": 102,
   "id": "dfa046f7-a622-43d3-990b-bd406d58fe6b",
   "metadata": {
    "tags": []
   },
   "outputs": [
    {
     "data": {
      "text/plain": [
       "3.32978"
      ]
     },
     "execution_count": 102,
     "metadata": {},
     "output_type": "execute_result"
    }
   ],
   "source": [
    "X.mean()"
   ]
  },
  {
   "cell_type": "code",
   "execution_count": 103,
   "id": "feb696e3-4ad6-4358-98b0-30b07dff841d",
   "metadata": {
    "tags": []
   },
   "outputs": [
    {
     "data": {
      "text/plain": [
       "3.338668"
      ]
     },
     "execution_count": 103,
     "metadata": {},
     "output_type": "execute_result"
    }
   ],
   "source": [
    "Y.mean()"
   ]
  },
  {
   "cell_type": "code",
   "execution_count": null,
   "id": "f510d677-c757-463e-bf60-3f67791214c4",
   "metadata": {},
   "outputs": [],
   "source": []
  },
  {
   "cell_type": "code",
   "execution_count": null,
   "id": "0917932d-69d6-487e-a022-0edac3415018",
   "metadata": {},
   "outputs": [],
   "source": []
  },
  {
   "cell_type": "code",
   "execution_count": null,
   "id": "3c6d965d-2bf3-4c86-82a7-0759c013c63a",
   "metadata": {},
   "outputs": [],
   "source": []
  },
  {
   "cell_type": "code",
   "execution_count": null,
   "id": "36b74834-bfa5-4f14-bc58-9bc449f22ec1",
   "metadata": {},
   "outputs": [],
   "source": []
  },
  {
   "cell_type": "code",
   "execution_count": 39,
   "id": "57e66eee-164e-49d8-9768-81e4f6c68ebf",
   "metadata": {
    "tags": []
   },
   "outputs": [],
   "source": [
    "import pandas as pd"
   ]
  },
  {
   "cell_type": "code",
   "execution_count": 50,
   "id": "4ea6653e-1eee-4be7-9d85-d0da08cae906",
   "metadata": {
    "tags": []
   },
   "outputs": [],
   "source": [
    "from scipy.stats import nbinom, geom"
   ]
  },
  {
   "cell_type": "code",
   "execution_count": 44,
   "id": "4f43b5cb-1023-4e33-a500-dc1e5d7c74e1",
   "metadata": {
    "tags": []
   },
   "outputs": [],
   "source": [
    "import numpy as np"
   ]
  },
  {
   "cell_type": "code",
   "execution_count": 65,
   "id": "9b8ef53c-d3ae-4baa-93d9-7a5ced54cb65",
   "metadata": {
    "tags": []
   },
   "outputs": [],
   "source": [
    "k=np.arange(1, 200)"
   ]
  },
  {
   "cell_type": "code",
   "execution_count": 66,
   "id": "8fc08f7e-0422-4bb7-9f94-e35a635ed664",
   "metadata": {
    "tags": []
   },
   "outputs": [],
   "source": [
    "pmf1=geom(p=p1).pmf(k)"
   ]
  },
  {
   "cell_type": "code",
   "execution_count": 67,
   "id": "19d54f21-1b4a-4a8c-8bec-cb02ff2293c0",
   "metadata": {
    "tags": []
   },
   "outputs": [],
   "source": [
    "pmf2=nbinom(n=n2, p=p2).pmf(k-1)"
   ]
  },
  {
   "cell_type": "code",
   "execution_count": 68,
   "id": "c76d2f15-357f-4a62-8801-db86d4053e94",
   "metadata": {
    "tags": []
   },
   "outputs": [
    {
     "data": {
      "text/plain": [
       "5.000000000000003"
      ]
     },
     "execution_count": 68,
     "metadata": {},
     "output_type": "execute_result"
    }
   ],
   "source": [
    "(k*pmf1).sum()"
   ]
  },
  {
   "cell_type": "code",
   "execution_count": 69,
   "id": "3b2da5ec-ad57-408b-bf10-94f3540b67c6",
   "metadata": {
    "tags": []
   },
   "outputs": [
    {
     "data": {
      "text/plain": [
       "4.9999999983899865"
      ]
     },
     "execution_count": 69,
     "metadata": {},
     "output_type": "execute_result"
    }
   ],
   "source": [
    "((k-1)*pmf2).sum()+1"
   ]
  },
  {
   "cell_type": "code",
   "execution_count": 72,
   "id": "9dd12de1-344c-47bf-b771-e9a854b6a6c7",
   "metadata": {
    "tags": []
   },
   "outputs": [],
   "source": [
    "# plotting\n",
    "import matplotlib.pyplot as plt\n",
    "import matplotlib as mpl\n",
    "import seaborn as sns\n",
    "mpl.style.use(\"seaborn-v0_8\")\n",
    "plt.rcParams['figure.figsize'] = [9, 9]\n",
    "plt.rcParams['axes.titlesize'] = 20\n",
    "plt.rcParams['axes.labelsize'] = 20\n",
    "plt.rcParams['xtick.labelsize'] = 15\n",
    "plt.rcParams['ytick.labelsize'] = 15\n",
    "plt.rcParams['legend.fontsize'] = 18\n",
    "plt.rcParams['font.size'] = 30"
   ]
  },
  {
   "cell_type": "code",
   "execution_count": 77,
   "id": "7fd91bf6-eb58-4986-b869-ed7bc9ca5ada",
   "metadata": {
    "tags": []
   },
   "outputs": [
    {
     "data": {
      "text/plain": [
       "[<matplotlib.lines.Line2D at 0x141526770>]"
      ]
     },
     "execution_count": 77,
     "metadata": {},
     "output_type": "execute_result"
    },
    {
     "data": {
      "image/png": "[encoded data removed]",
      "text/plain": [
       "<Figure size 900x900 with 1 Axes>"
      ]
     },
     "metadata": {},
     "output_type": "display_data"
    }
   ],
   "source": [
    "_, ax = plt.subplots()\n",
    "ax.plot(k, pmf1)\n",
    "ax.plot(k, pmf2)"
   ]
  },
  {
   "cell_type": "code",
   "execution_count": 74,
   "id": "63cc1d0a-efd0-441c-9d8c-a11d875558b3",
   "metadata": {
    "tags": []
   },
   "outputs": [
    {
     "data": {
      "text/plain": [
       "[<matplotlib.lines.Line2D at 0x14111db70>]"
      ]
     },
     "execution_count": 74,
     "metadata": {},
     "output_type": "execute_result"
    },
    {
     "data": {
      "image/png": "[encoded data removed]",
      "text/plain": [
       "<Figure size 900x900 with 1 Axes>"
      ]
     },
     "metadata": {},
     "output_type": "display_data"
    }
   ],
   "source": [
    "plt.plot(k, pmf1)"
   ]
  },
  {
   "cell_type": "code",
   "execution_count": null,
   "id": "4da54017-fdb8-46aa-84ba-5055d98ec3ea",
   "metadata": {},
   "outputs": [],
   "source": []
  },
  {
   "cell_type": "code",
   "execution_count": null,
   "id": "80a67ed6-b53a-481d-883a-0b9928812cdd",
   "metadata": {},
   "outputs": [],
   "source": []
  },
  {
   "cell_type": "code",
   "execution_count": 41,
   "id": "a3f1d6f5-21d6-4ac6-92fd-68c20f6fde30",
   "metadata": {
    "tags": []
   },
   "outputs": [
    {
     "data": {
      "text/plain": [
       "<Axes: >"
      ]
     },
     "execution_count": 41,
     "metadata": {},
     "output_type": "execute_result"
    },
    {
     "data": {
      "image/png": "[encoded data removed]",
      "text/plain": [
       "<Figure size 640x480 with 1 Axes>"
      ]
     },
     "metadata": {},
     "output_type": "display_data"
    }
   ],
   "source": [
    "pd.Series(X).hist(bins=50)"
   ]
  },
  {
   "cell_type": "code",
   "execution_count": 42,
   "id": "1999d6ba-b21f-4d8a-806d-bb9bb2796ec1",
   "metadata": {
    "tags": []
   },
   "outputs": [
    {
     "data": {
      "text/plain": [
       "<Axes: >"
      ]
     },
     "execution_count": 42,
     "metadata": {},
     "output_type": "execute_result"
    },
    {
     "data": {
      "image/png": "[encoded data removed]",
      "text/plain": [
       "<Figure size 640x480 with 1 Axes>"
      ]
     },
     "metadata": {},
     "output_type": "display_data"
    }
   ],
   "source": [
    "pd.Series(Y).hist(bins=50)"
   ]
  },
  {
   "cell_type": "code",
   "execution_count": null,
   "id": "b6b501df-e5ed-43aa-a4ce-427add115c21",
   "metadata": {},
   "outputs": [],
   "source": []
  },
  {
   "cell_type": "code",
   "execution_count": 25,
   "id": "d60e21d8-721a-482e-8ae5-c5eef2dc2b1d",
   "metadata": {
    "tags": []
   },
   "outputs": [
    {
     "data": {
      "text/plain": [
       "3.00802"
      ]
     },
     "execution_count": 25,
     "metadata": {},
     "output_type": "execute_result"
    }
   ],
   "source": [
    "Y.mean()"
   ]
  },
  {
   "cell_type": "code",
   "execution_count": null,
   "id": "b5a47df7-f183-48ca-8838-1189416ba255",
   "metadata": {},
   "outputs": [],
   "source": []
  },
  {
   "cell_type": "code",
   "execution_count": null,
   "id": "b5f23716-039b-4782-a96b-9c8abb9ccb9f",
   "metadata": {},
   "outputs": [],
   "source": []
  },
  {
   "cell_type": "code",
   "execution_count": null,
   "id": "5c913d74-225a-4802-8517-feb7fbea2bd2",
   "metadata": {},
   "outputs": [],
   "source": []
  },
  {
   "cell_type": "code",
   "execution_count": null,
   "id": "8abf44c2-09fc-4cec-963e-7124f9ee1b33",
   "metadata": {},
   "outputs": [],
   "source": [
    "geom().rvs()"
   ]
  }
 ],
 "metadata": {
  "kernelspec": {
   "display_name": "Python 3 (ipykernel)",
   "language": "python",
   "name": "python3"
  },
  "language_info": {
   "codemirror_mode": {
    "name": "ipython",
    "version": 3
   },
   "file_extension": ".py",
   "mimetype": "text/x-python",
   "name": "python",
   "nbconvert_exporter": "python",
   "pygments_lexer": "ipython3",
   "version": "3.10.9"
  }
 },
 "nbformat": 4,
 "nbformat_minor": 5
}
